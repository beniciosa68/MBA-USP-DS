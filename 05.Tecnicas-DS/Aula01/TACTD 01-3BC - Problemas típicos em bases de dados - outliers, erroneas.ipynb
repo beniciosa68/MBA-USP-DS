{
 "cells": [
  {
   "cell_type": "markdown",
   "metadata": {},
   "source": [
    "# MBA em Ciência de Dados\n",
    "# Técnicas Avançadas de Captura e Tratamento de Dados\n",
    "\n",
    "## <span style=\"color:darkred\">Módulo I - Dados Estruturados e Não Estruturados</span>\n",
    "\n",
    "\n",
    "### <span style=\"color:darkred\">Problemas típicos em bases de dados: Outliers e informações errôneas</span>\n",
    "\n",
    "Material Produzido por Moacir Antonelli Ponti\n",
    "\n",
    "CeMEAI - ICMC/USP São Carlos\n",
    "\n",
    "--- "
   ]
  },
  {
   "cell_type": "markdown",
   "metadata": {},
   "source": [
    "__Conteúdo:__\n",
    "1. Dados Não-estruturados\n",
    "2. Dados Estruturados\n",
    "3. *Problemas típicos em bases de dados*\n",
    "    1. Informações faltantes\n",
    "    2. *Pontos \"fora da curva\" (outliers)*\n",
    "    3. *Informações errôneas*\n",
    "    4. Dados redundantes\n",
    "    5. Dados desbalanceados\n",
    "\n",
    "__Referências:__\n",
    "- Salvador García, Julián Luengo, Francisco Herrera. Data Processing in Data Mining, 2015.\n",
    "- Hadley Wickham, Tidy Data. Journal of Statistical Software, v.59, n.10, 2014.\n",
    "- Katti Faceli; Ana Carolina Lorena; João Gama; André C.P.L.F. Carvalho. Inteligência Artificial: uma abordagem de aprendizado de máquina, 2011.\n",
    "\n",
    "__Referência complementar:__\n",
    "- CHANDOLA, Varun; BANERJEE, Arindam; KUMAR, Vipin. Outlier detection: a survey. ACM Computing Surveys, v. 14, p. 15, 2007.\n",
    "\n",
    "***"
   ]
  },
  {
   "cell_type": "markdown",
   "metadata": {},
   "source": [
    "Vamos estudar os problemas: **Outliers e informacoes errôneas** utilizando um conjunto de dados de natalidade em uma maternidade, e que contém os seguintes atributos relativos aos nascidos:\n",
    "* sexo, \n",
    "* peso do nascimento (em gramas), \n",
    "* idade gestacional (em semanas),\n",
    "* mês do nascimento,\n",
    "* ano do nascimento."
   ]
  },
  {
   "cell_type": "code",
   "execution_count": 1,
   "metadata": {},
   "outputs": [
    {
     "name": "stdout",
     "output_type": "stream",
     "text": [
      "Número de observacoes na base de dados:  72\n"
     ]
    },
    {
     "data": {
      "text/html": [
       "<div>\n",
       "<style scoped>\n",
       "    .dataframe tbody tr th:only-of-type {\n",
       "        vertical-align: middle;\n",
       "    }\n",
       "\n",
       "    .dataframe tbody tr th {\n",
       "        vertical-align: top;\n",
       "    }\n",
       "\n",
       "    .dataframe thead th {\n",
       "        text-align: right;\n",
       "    }\n",
       "</style>\n",
       "<table border=\"1\" class=\"dataframe\">\n",
       "  <thead>\n",
       "    <tr style=\"text-align: right;\">\n",
       "      <th></th>\n",
       "      <th>Sex</th>\n",
       "      <th>Weight</th>\n",
       "      <th>Gestational age</th>\n",
       "      <th>Month</th>\n",
       "      <th>Year</th>\n",
       "    </tr>\n",
       "  </thead>\n",
       "  <tbody>\n",
       "    <tr>\n",
       "      <th>0</th>\n",
       "      <td>F</td>\n",
       "      <td>3490</td>\n",
       "      <td>38</td>\n",
       "      <td>11</td>\n",
       "      <td>2016</td>\n",
       "    </tr>\n",
       "    <tr>\n",
       "      <th>1</th>\n",
       "      <td>M</td>\n",
       "      <td>3650</td>\n",
       "      <td>39</td>\n",
       "      <td>11</td>\n",
       "      <td>2016</td>\n",
       "    </tr>\n",
       "    <tr>\n",
       "      <th>2</th>\n",
       "      <td>M</td>\n",
       "      <td>2740</td>\n",
       "      <td>34</td>\n",
       "      <td>11</td>\n",
       "      <td>2016</td>\n",
       "    </tr>\n",
       "    <tr>\n",
       "      <th>3</th>\n",
       "      <td>F</td>\n",
       "      <td>3380</td>\n",
       "      <td>39</td>\n",
       "      <td>12</td>\n",
       "      <td>2016</td>\n",
       "    </tr>\n",
       "    <tr>\n",
       "      <th>4</th>\n",
       "      <td>F</td>\n",
       "      <td>3820</td>\n",
       "      <td>38</td>\n",
       "      <td>12</td>\n",
       "      <td>2016</td>\n",
       "    </tr>\n",
       "  </tbody>\n",
       "</table>\n",
       "</div>"
      ],
      "text/plain": [
       "  Sex  Weight  Gestational age  Month  Year\n",
       "0   F    3490               38     11  2016\n",
       "1   M    3650               39     11  2016\n",
       "2   M    2740               34     11  2016\n",
       "3   F    3380               39     12  2016\n",
       "4   F    3820               38     12  2016"
      ]
     },
     "execution_count": 1,
     "metadata": {},
     "output_type": "execute_result"
    }
   ],
   "source": [
    "import numpy as np\n",
    "import matplotlib.pyplot as plt\n",
    "import pandas as pd\n",
    "\n",
    "data = pd.read_csv(\"dados/TACTD_01-BCE_Outliers_Err_Desbal.csv\")\n",
    "\n",
    "print(\"Número de observacoes na base de dados: \", data.shape[0])\n",
    "data.head()"
   ]
  },
  {
   "cell_type": "code",
   "execution_count": 2,
   "metadata": {},
   "outputs": [
    {
     "data": {
      "text/html": [
       "<div>\n",
       "<style scoped>\n",
       "    .dataframe tbody tr th:only-of-type {\n",
       "        vertical-align: middle;\n",
       "    }\n",
       "\n",
       "    .dataframe tbody tr th {\n",
       "        vertical-align: top;\n",
       "    }\n",
       "\n",
       "    .dataframe thead th {\n",
       "        text-align: right;\n",
       "    }\n",
       "</style>\n",
       "<table border=\"1\" class=\"dataframe\">\n",
       "  <thead>\n",
       "    <tr style=\"text-align: right;\">\n",
       "      <th></th>\n",
       "      <th>Weight</th>\n",
       "      <th>Gestational age</th>\n",
       "      <th>Month</th>\n",
       "      <th>Year</th>\n",
       "    </tr>\n",
       "  </thead>\n",
       "  <tbody>\n",
       "    <tr>\n",
       "      <th>count</th>\n",
       "      <td>72.000000</td>\n",
       "      <td>72.000000</td>\n",
       "      <td>72.000000</td>\n",
       "      <td>72.000000</td>\n",
       "    </tr>\n",
       "    <tr>\n",
       "      <th>mean</th>\n",
       "      <td>3347.569444</td>\n",
       "      <td>37.666667</td>\n",
       "      <td>4.347222</td>\n",
       "      <td>2294.611111</td>\n",
       "    </tr>\n",
       "    <tr>\n",
       "      <th>std</th>\n",
       "      <td>625.807643</td>\n",
       "      <td>2.264235</td>\n",
       "      <td>3.600312</td>\n",
       "      <td>2357.042552</td>\n",
       "    </tr>\n",
       "    <tr>\n",
       "      <th>min</th>\n",
       "      <td>320.000000</td>\n",
       "      <td>32.000000</td>\n",
       "      <td>1.000000</td>\n",
       "      <td>2016.000000</td>\n",
       "    </tr>\n",
       "    <tr>\n",
       "      <th>25%</th>\n",
       "      <td>3100.000000</td>\n",
       "      <td>36.000000</td>\n",
       "      <td>2.000000</td>\n",
       "      <td>2017.000000</td>\n",
       "    </tr>\n",
       "    <tr>\n",
       "      <th>50%</th>\n",
       "      <td>3460.000000</td>\n",
       "      <td>38.000000</td>\n",
       "      <td>3.000000</td>\n",
       "      <td>2017.000000</td>\n",
       "    </tr>\n",
       "    <tr>\n",
       "      <th>75%</th>\n",
       "      <td>3682.500000</td>\n",
       "      <td>39.000000</td>\n",
       "      <td>5.000000</td>\n",
       "      <td>2017.000000</td>\n",
       "    </tr>\n",
       "    <tr>\n",
       "      <th>max</th>\n",
       "      <td>4810.000000</td>\n",
       "      <td>43.000000</td>\n",
       "      <td>12.000000</td>\n",
       "      <td>22017.000000</td>\n",
       "    </tr>\n",
       "  </tbody>\n",
       "</table>\n",
       "</div>"
      ],
      "text/plain": [
       "            Weight  Gestational age      Month          Year\n",
       "count    72.000000        72.000000  72.000000     72.000000\n",
       "mean   3347.569444        37.666667   4.347222   2294.611111\n",
       "std     625.807643         2.264235   3.600312   2357.042552\n",
       "min     320.000000        32.000000   1.000000   2016.000000\n",
       "25%    3100.000000        36.000000   2.000000   2017.000000\n",
       "50%    3460.000000        38.000000   3.000000   2017.000000\n",
       "75%    3682.500000        39.000000   5.000000   2017.000000\n",
       "max    4810.000000        43.000000  12.000000  22017.000000"
      ]
     },
     "execution_count": 2,
     "metadata": {},
     "output_type": "execute_result"
    }
   ],
   "source": [
    "# vamos explorar a estatística descritiva dos dados!\n",
    "data.describe()"
   ]
  },
  {
   "cell_type": "markdown",
   "metadata": {},
   "source": [
    "## B+C. *Outliers* e dados errôneos\n",
    "\n",
    "\n",
    "#### Tipos de *outliers*\n",
    "\n",
    "Também chamados de pontos \"fora-da-curva\" ou aberrantes. Os pontos não-outliers são às vezes chamados de inliers pois recaem \"dentro\" do esperado.\n",
    "\n",
    "1. Globais ou anomalias de ponto\n",
    "\n",
    "2. Contextuais ou condicionais\n",
    "\n",
    "3. Coletivos\n",
    "\n",
    "---\n"
   ]
  },
  {
   "cell_type": "markdown",
   "metadata": {},
   "source": [
    "1. **Globais ou anomalias de ponto**: são ocorrências de valores *individuais* muito diferentes da maior parte dos dados disponíveis.\n",
    "\n",
    "    Uma forma simples de identificar é gerar gráficos de caixa (ou *boxplots*) dos atributos/colunas da base de dados. Esse gráfico dá uma distribuição global dos dados e permite identificar aqueles cujo valor recaem fora da caixa que representa 50% dos dados, ou mesmo dos dados como um todo. \n",
    "    \n",
    "    Idealmente, grafamos cada variável individualmente, pois elas tem intervalos de valores distintos! \n",
    "    * por exemplo, enquanto o peso está definido ao redor de milhares de gramas, a idade gestacional é em dezenas de semanas"
   ]
  },
  {
   "cell_type": "code",
   "execution_count": 3,
   "metadata": {},
   "outputs": [
    {
     "data": {
      "text/plain": [
       "<matplotlib.axes._subplots.AxesSubplot at 0x1e5cc173d30>"
      ]
     },
     "execution_count": 3,
     "metadata": {},
     "output_type": "execute_result"
    },
    {
     "data": {
      "image/png": "[encoded data removed]",
      "text/plain": [
       "<Figure size 432x288 with 1 Axes>"
      ]
     },
     "metadata": {
      "needs_background": "light"
     },
     "output_type": "display_data"
    }
   ],
   "source": [
    "data.boxplot(column=['Weight'])"
   ]
  },
  {
   "cell_type": "markdown",
   "metadata": {},
   "source": [
    "Notamos que a maior parte do peso está ao redor de 2500 e 4500, mas temos pontos bem distantes. Vamos tentar encontrá-los:"
   ]
  },
  {
   "cell_type": "code",
   "execution_count": 4,
   "metadata": {},
   "outputs": [
    {
     "data": {
      "text/html": [
       "<div>\n",
       "<style scoped>\n",
       "    .dataframe tbody tr th:only-of-type {\n",
       "        vertical-align: middle;\n",
       "    }\n",
       "\n",
       "    .dataframe tbody tr th {\n",
       "        vertical-align: top;\n",
       "    }\n",
       "\n",
       "    .dataframe thead th {\n",
       "        text-align: right;\n",
       "    }\n",
       "</style>\n",
       "<table border=\"1\" class=\"dataframe\">\n",
       "  <thead>\n",
       "    <tr style=\"text-align: right;\">\n",
       "      <th></th>\n",
       "      <th>Sex</th>\n",
       "      <th>Weight</th>\n",
       "      <th>Gestational age</th>\n",
       "      <th>Month</th>\n",
       "      <th>Year</th>\n",
       "    </tr>\n",
       "  </thead>\n",
       "  <tbody>\n",
       "    <tr>\n",
       "      <th>6</th>\n",
       "      <td>M</td>\n",
       "      <td>320</td>\n",
       "      <td>38</td>\n",
       "      <td>12</td>\n",
       "      <td>2016</td>\n",
       "    </tr>\n",
       "    <tr>\n",
       "      <th>19</th>\n",
       "      <td>F</td>\n",
       "      <td>2200</td>\n",
       "      <td>33</td>\n",
       "      <td>1</td>\n",
       "      <td>2017</td>\n",
       "    </tr>\n",
       "    <tr>\n",
       "      <th>38</th>\n",
       "      <td>M</td>\n",
       "      <td>4750</td>\n",
       "      <td>43</td>\n",
       "      <td>2</td>\n",
       "      <td>2017</td>\n",
       "    </tr>\n",
       "    <tr>\n",
       "      <th>41</th>\n",
       "      <td>F</td>\n",
       "      <td>4810</td>\n",
       "      <td>37</td>\n",
       "      <td>3</td>\n",
       "      <td>2017</td>\n",
       "    </tr>\n",
       "    <tr>\n",
       "      <th>45</th>\n",
       "      <td>F</td>\n",
       "      <td>1825</td>\n",
       "      <td>32</td>\n",
       "      <td>3</td>\n",
       "      <td>2017</td>\n",
       "    </tr>\n",
       "  </tbody>\n",
       "</table>\n",
       "</div>"
      ],
      "text/plain": [
       "   Sex  Weight  Gestational age  Month  Year\n",
       "6    M     320               38     12  2016\n",
       "19   F    2200               33      1  2017\n",
       "38   M    4750               43      2  2017\n",
       "41   F    4810               37      3  2017\n",
       "45   F    1825               32      3  2017"
      ]
     },
     "execution_count": 4,
     "metadata": {},
     "output_type": "execute_result"
    }
   ],
   "source": [
    "data[(data['Weight'] <= 2400) | (data['Weight'] >= 4300)]"
   ]
  },
  {
   "cell_type": "markdown",
   "metadata": {},
   "source": [
    "Nessa primeira verificação, nota-se que a linha 6 possui um valor muito baixo (320 gramas) o qual é certamente um **outlier global** mas provavelmente é também um **dado errôneo**!\n",
    "\n",
    "O motivo pode ser um erro de digitação ou inputação nesse caso. Se não quisermos prejudicar a análise, é preciso confirmar esse dado: se estiver disponível em outro base de dados ou meio físico, ou então descartá-lo."
   ]
  },
  {
   "cell_type": "code",
   "execution_count": 5,
   "metadata": {},
   "outputs": [],
   "source": [
    "# vamos definir como valor Not-a-number\n",
    "data.loc[6,'Weight'] = np.NaN"
   ]
  },
  {
   "cell_type": "markdown",
   "metadata": {},
   "source": [
    "Quanto as demais linhas, notamos valores altos (próximos a 4800) e baixos (1950). Nesses casos, parecem ser valores inputados corretamente e verdadeiros. \n",
    "\n",
    "Porém por desviar grandemente da maior parte dos dados são considerados também **outliers globais**.\n",
    "\n",
    "No entanto, não iremos removê-lo a princípio pois não se tratam de dados errôneos.\n",
    "\n",
    "Mostrando novamente o boxplot temos a distribuição dos dados sem o valor errôneo, e os 4 outliers globais indicados por círculos."
   ]
  },
  {
   "cell_type": "code",
   "execution_count": 6,
   "metadata": {},
   "outputs": [
    {
     "data": {
      "text/plain": [
       "<matplotlib.axes._subplots.AxesSubplot at 0x1e5cee26160>"
      ]
     },
     "execution_count": 6,
     "metadata": {},
     "output_type": "execute_result"
    },
    {
     "data": {
      "image/png": "[encoded data removed]",
      "text/plain": [
       "<Figure size 432x288 with 1 Axes>"
      ]
     },
     "metadata": {
      "needs_background": "light"
     },
     "output_type": "display_data"
    }
   ],
   "source": [
    "data.boxplot(column=['Weight'])"
   ]
  },
  {
   "cell_type": "markdown",
   "metadata": {},
   "source": [
    "Dados errôneos podem aparecer não apenas na forma de outliers, mas também fora do padrão determinado. Por exemplo, vamos explorar a coluna relativa ao sexo do bebê, utilizando histograma e valores únicos."
   ]
  },
  {
   "cell_type": "code",
   "execution_count": 7,
   "metadata": {},
   "outputs": [
    {
     "data": {
      "text/plain": [
       "<matplotlib.axes._subplots.AxesSubplot at 0x1e5ceec90f0>"
      ]
     },
     "execution_count": 7,
     "metadata": {},
     "output_type": "execute_result"
    },
    {
     "data": {
      "image/png": "[encoded data removed]",
      "text/plain": [
       "<Figure size 432x288 with 1 Axes>"
      ]
     },
     "metadata": {
      "needs_background": "light"
     },
     "output_type": "display_data"
    }
   ],
   "source": [
    "data['Sex'].hist()"
   ]
  },
  {
   "cell_type": "code",
   "execution_count": 8,
   "metadata": {},
   "outputs": [
    {
     "data": {
      "text/plain": [
       "array(['F', 'M', 'P'], dtype=object)"
      ]
     },
     "execution_count": 8,
     "metadata": {},
     "output_type": "execute_result"
    }
   ],
   "source": [
    "data['Sex'].unique()"
   ]
  },
  {
   "cell_type": "markdown",
   "metadata": {},
   "source": [
    "Notamos um valor **P** que não pertence ao que é esperado. Esse dado foi corrompido de alguma forma e representa um dado **errôneo**. Devemos desconsiderá-lo, tornando-o um dado faltante."
   ]
  },
  {
   "cell_type": "code",
   "execution_count": 9,
   "metadata": {},
   "outputs": [
    {
     "data": {
      "text/html": [
       "<div>\n",
       "<style scoped>\n",
       "    .dataframe tbody tr th:only-of-type {\n",
       "        vertical-align: middle;\n",
       "    }\n",
       "\n",
       "    .dataframe tbody tr th {\n",
       "        vertical-align: top;\n",
       "    }\n",
       "\n",
       "    .dataframe thead th {\n",
       "        text-align: right;\n",
       "    }\n",
       "</style>\n",
       "<table border=\"1\" class=\"dataframe\">\n",
       "  <thead>\n",
       "    <tr style=\"text-align: right;\">\n",
       "      <th></th>\n",
       "      <th>Sex</th>\n",
       "      <th>Weight</th>\n",
       "      <th>Gestational age</th>\n",
       "      <th>Month</th>\n",
       "      <th>Year</th>\n",
       "    </tr>\n",
       "  </thead>\n",
       "  <tbody>\n",
       "    <tr>\n",
       "      <th>16</th>\n",
       "      <td>P</td>\n",
       "      <td>3600.0</td>\n",
       "      <td>36</td>\n",
       "      <td>1</td>\n",
       "      <td>2017</td>\n",
       "    </tr>\n",
       "  </tbody>\n",
       "</table>\n",
       "</div>"
      ],
      "text/plain": [
       "   Sex  Weight  Gestational age  Month  Year\n",
       "16   P  3600.0               36      1  2017"
      ]
     },
     "execution_count": 9,
     "metadata": {},
     "output_type": "execute_result"
    }
   ],
   "source": [
    "data[data['Sex'] == 'P']\n"
   ]
  },
  {
   "cell_type": "code",
   "execution_count": 10,
   "metadata": {},
   "outputs": [
    {
     "data": {
      "text/plain": [
       "<matplotlib.axes._subplots.AxesSubplot at 0x1e5cf64b048>"
      ]
     },
     "execution_count": 10,
     "metadata": {},
     "output_type": "execute_result"
    },
    {
     "data": {
      "image/png": "[encoded data removed]",
      "text/plain": [
       "<Figure size 432x288 with 1 Axes>"
      ]
     },
     "metadata": {
      "needs_background": "light"
     },
     "output_type": "display_data"
    }
   ],
   "source": [
    "data.loc[16,'Sex'] = np.NaN\n",
    "data['Sex'].hist()"
   ]
  },
  {
   "cell_type": "markdown",
   "metadata": {},
   "source": [
    "---\n",
    "\n",
    "2. **Contextuais**: são valores que, observados isoladamente podem não ser anômalos, mas que ao observar o contexto, sim!\n",
    "\n",
    "    * Em dados **independentes e identicamente distribuídos**, na qual um exemplo (nascimento de um bebê) não afeta os próximos exemplos observados, como é o caso desse exemplo, temos que identificar o componente contextual.\n",
    "    \n",
    "    * Em dados **sequenciais** (como séries temporais, texto), em que uma observação influencia a próxima, o contexto é quase sempre o aspecto temporal/sequencial.\n",
    "    \n",
    "No nosso exemplo, podemos observar se há uma anomalia de peso com relação à idade gestacional!\n",
    "\n",
    "Vamos considerar por exemplo que:\n",
    "* bebês nascidos entre 38 e 42 semanas possuem tamanho normal se estiverem aproximadamente entre 2500 e 4000 gramas.\n",
    "    \n",
    "    Assim, podemos buscar por **outliers contextuais**, em que o peso saia fora desse intervalo dentro do período gestacional indicado.\n",
    "    \n",
    "    Podemos usar busca por fatiamento da base, e também *boxplots*"
   ]
  },
  {
   "cell_type": "code",
   "execution_count": 11,
   "metadata": {},
   "outputs": [
    {
     "data": {
      "text/html": [
       "<div>\n",
       "<style scoped>\n",
       "    .dataframe tbody tr th:only-of-type {\n",
       "        vertical-align: middle;\n",
       "    }\n",
       "\n",
       "    .dataframe tbody tr th {\n",
       "        vertical-align: top;\n",
       "    }\n",
       "\n",
       "    .dataframe thead th {\n",
       "        text-align: right;\n",
       "    }\n",
       "</style>\n",
       "<table border=\"1\" class=\"dataframe\">\n",
       "  <thead>\n",
       "    <tr style=\"text-align: right;\">\n",
       "      <th></th>\n",
       "      <th>Sex</th>\n",
       "      <th>Weight</th>\n",
       "      <th>Gestational age</th>\n",
       "      <th>Month</th>\n",
       "      <th>Year</th>\n",
       "    </tr>\n",
       "  </thead>\n",
       "  <tbody>\n",
       "    <tr>\n",
       "      <th>62</th>\n",
       "      <td>F</td>\n",
       "      <td>4240.0</td>\n",
       "      <td>41</td>\n",
       "      <td>5</td>\n",
       "      <td>2017</td>\n",
       "    </tr>\n",
       "  </tbody>\n",
       "</table>\n",
       "</div>"
      ],
      "text/plain": [
       "   Sex  Weight  Gestational age  Month  Year\n",
       "62   F  4240.0               41      5  2017"
      ]
     },
     "execution_count": 11,
     "metadata": {},
     "output_type": "execute_result"
    }
   ],
   "source": [
    "d_term = data[(data['Gestational age'] >= 38) & (data['Gestational age'] <= 42)]\n",
    "\n",
    "# buscando por anomalias contextuais\n",
    "d_term[ (d_term['Weight'] < 2500) | (d_term['Weight'] > 4000) ]"
   ]
  },
  {
   "cell_type": "code",
   "execution_count": 12,
   "metadata": {},
   "outputs": [
    {
     "data": {
      "text/plain": [
       "<matplotlib.axes._subplots.AxesSubplot at 0x1e5cfd8acf8>"
      ]
     },
     "execution_count": 12,
     "metadata": {},
     "output_type": "execute_result"
    },
    {
     "data": {
      "image/png": "[encoded data removed]",
      "text/plain": [
       "<Figure size 432x288 with 1 Axes>"
      ]
     },
     "metadata": {
      "needs_background": "light"
     },
     "output_type": "display_data"
    }
   ],
   "source": [
    "d_term.boxplot(column=['Weight'])"
   ]
  },
  {
   "cell_type": "markdown",
   "metadata": {},
   "source": [
    "É interessante notar que o *boxplot* mostrou um outlier em 2500 gramas, enquanto nossa busca específica retornou apenas 4240 gramas em 41 semanas!\n",
    "\n",
    "Vamos inspecionar esse caso:"
   ]
  },
  {
   "cell_type": "code",
   "execution_count": 13,
   "metadata": {},
   "outputs": [
    {
     "data": {
      "text/html": [
       "<div>\n",
       "<style scoped>\n",
       "    .dataframe tbody tr th:only-of-type {\n",
       "        vertical-align: middle;\n",
       "    }\n",
       "\n",
       "    .dataframe tbody tr th {\n",
       "        vertical-align: top;\n",
       "    }\n",
       "\n",
       "    .dataframe thead th {\n",
       "        text-align: right;\n",
       "    }\n",
       "</style>\n",
       "<table border=\"1\" class=\"dataframe\">\n",
       "  <thead>\n",
       "    <tr style=\"text-align: right;\">\n",
       "      <th></th>\n",
       "      <th>Sex</th>\n",
       "      <th>Weight</th>\n",
       "      <th>Gestational age</th>\n",
       "      <th>Month</th>\n",
       "      <th>Year</th>\n",
       "    </tr>\n",
       "  </thead>\n",
       "  <tbody>\n",
       "    <tr>\n",
       "      <th>25</th>\n",
       "      <td>M</td>\n",
       "      <td>2500.0</td>\n",
       "      <td>40</td>\n",
       "      <td>1</td>\n",
       "      <td>2017</td>\n",
       "    </tr>\n",
       "  </tbody>\n",
       "</table>\n",
       "</div>"
      ],
      "text/plain": [
       "   Sex  Weight  Gestational age  Month  Year\n",
       "25   M  2500.0               40      1  2017"
      ]
     },
     "execution_count": 13,
     "metadata": {},
     "output_type": "execute_result"
    }
   ],
   "source": [
    "d_term[ (d_term['Weight'] <= 2500)]"
   ]
  },
  {
   "cell_type": "markdown",
   "metadata": {},
   "source": [
    "Aqui, temos um caso limítrofe e precisamos da ajuda de especialistas para decidir o que significa esse *outlier*\n",
    "\n",
    "--- \n",
    "\n",
    "3. **Coletivos**: um conjunto de observacões cujos valores, quando analisados em grupo, indicam um evento não usual.\n",
    "\n",
    "    Em geral:\n",
    "    * não são *outliers globais* pois seus valores recaem dentro da maior parte dos dados globalmente\n",
    "    \n",
    "    * não são *outliers contextuais* pois individualmente podem ser considerados normais quando observados num determinado contexto\n",
    "\n",
    "No nosso exemplo, vamos analisar os dados relativos ao nascimento de bebês do sexo masculino e feminino, mês a mês."
   ]
  },
  {
   "cell_type": "code",
   "execution_count": 14,
   "metadata": {},
   "outputs": [
    {
     "data": {
      "text/html": [
       "<div>\n",
       "<style scoped>\n",
       "    .dataframe tbody tr th:only-of-type {\n",
       "        vertical-align: middle;\n",
       "    }\n",
       "\n",
       "    .dataframe tbody tr th {\n",
       "        vertical-align: top;\n",
       "    }\n",
       "\n",
       "    .dataframe thead th {\n",
       "        text-align: right;\n",
       "    }\n",
       "</style>\n",
       "<table border=\"1\" class=\"dataframe\">\n",
       "  <thead>\n",
       "    <tr style=\"text-align: right;\">\n",
       "      <th></th>\n",
       "      <th>count</th>\n",
       "      <th>unique</th>\n",
       "      <th>top</th>\n",
       "      <th>freq</th>\n",
       "    </tr>\n",
       "    <tr>\n",
       "      <th>Month</th>\n",
       "      <th></th>\n",
       "      <th></th>\n",
       "      <th></th>\n",
       "      <th></th>\n",
       "    </tr>\n",
       "  </thead>\n",
       "  <tbody>\n",
       "    <tr>\n",
       "      <th>1</th>\n",
       "      <td>14</td>\n",
       "      <td>2</td>\n",
       "      <td>F</td>\n",
       "      <td>9</td>\n",
       "    </tr>\n",
       "    <tr>\n",
       "      <th>2</th>\n",
       "      <td>12</td>\n",
       "      <td>2</td>\n",
       "      <td>F</td>\n",
       "      <td>7</td>\n",
       "    </tr>\n",
       "    <tr>\n",
       "      <th>3</th>\n",
       "      <td>11</td>\n",
       "      <td>2</td>\n",
       "      <td>F</td>\n",
       "      <td>9</td>\n",
       "    </tr>\n",
       "    <tr>\n",
       "      <th>4</th>\n",
       "      <td>10</td>\n",
       "      <td>2</td>\n",
       "      <td>F</td>\n",
       "      <td>8</td>\n",
       "    </tr>\n",
       "    <tr>\n",
       "      <th>5</th>\n",
       "      <td>12</td>\n",
       "      <td>1</td>\n",
       "      <td>F</td>\n",
       "      <td>12</td>\n",
       "    </tr>\n",
       "    <tr>\n",
       "      <th>11</th>\n",
       "      <td>3</td>\n",
       "      <td>2</td>\n",
       "      <td>M</td>\n",
       "      <td>2</td>\n",
       "    </tr>\n",
       "    <tr>\n",
       "      <th>12</th>\n",
       "      <td>9</td>\n",
       "      <td>2</td>\n",
       "      <td>F</td>\n",
       "      <td>7</td>\n",
       "    </tr>\n",
       "  </tbody>\n",
       "</table>\n",
       "</div>"
      ],
      "text/plain": [
       "      count unique top freq\n",
       "Month                      \n",
       "1        14      2   F    9\n",
       "2        12      2   F    7\n",
       "3        11      2   F    9\n",
       "4        10      2   F    8\n",
       "5        12      1   F   12\n",
       "11        3      2   M    2\n",
       "12        9      2   F    7"
      ]
     },
     "execution_count": 14,
     "metadata": {},
     "output_type": "execute_result"
    }
   ],
   "source": [
    "data.groupby('Month')['Sex'].describe()"
   ]
  },
  {
   "cell_type": "markdown",
   "metadata": {},
   "source": [
    "Observando a estatística descritiva acima, veja que no mês 5 há 12 ocorrências, mas apenas um único valor, **F**\n",
    "\n",
    "Vamos visualizar:\n"
   ]
  },
  {
   "cell_type": "code",
   "execution_count": 15,
   "metadata": {},
   "outputs": [
    {
     "data": {
      "text/html": [
       "<div>\n",
       "<style scoped>\n",
       "    .dataframe tbody tr th:only-of-type {\n",
       "        vertical-align: middle;\n",
       "    }\n",
       "\n",
       "    .dataframe tbody tr th {\n",
       "        vertical-align: top;\n",
       "    }\n",
       "\n",
       "    .dataframe thead th {\n",
       "        text-align: right;\n",
       "    }\n",
       "</style>\n",
       "<table border=\"1\" class=\"dataframe\">\n",
       "  <thead>\n",
       "    <tr style=\"text-align: right;\">\n",
       "      <th></th>\n",
       "      <th>Sex</th>\n",
       "      <th>Weight</th>\n",
       "      <th>Gestational age</th>\n",
       "      <th>Month</th>\n",
       "      <th>Year</th>\n",
       "    </tr>\n",
       "  </thead>\n",
       "  <tbody>\n",
       "    <tr>\n",
       "      <th>60</th>\n",
       "      <td>F</td>\n",
       "      <td>2450.0</td>\n",
       "      <td>34</td>\n",
       "      <td>5</td>\n",
       "      <td>2017</td>\n",
       "    </tr>\n",
       "    <tr>\n",
       "      <th>61</th>\n",
       "      <td>F</td>\n",
       "      <td>3380.0</td>\n",
       "      <td>37</td>\n",
       "      <td>5</td>\n",
       "      <td>2017</td>\n",
       "    </tr>\n",
       "    <tr>\n",
       "      <th>62</th>\n",
       "      <td>F</td>\n",
       "      <td>4240.0</td>\n",
       "      <td>41</td>\n",
       "      <td>5</td>\n",
       "      <td>2017</td>\n",
       "    </tr>\n",
       "    <tr>\n",
       "      <th>63</th>\n",
       "      <td>F</td>\n",
       "      <td>3220.0</td>\n",
       "      <td>42</td>\n",
       "      <td>5</td>\n",
       "      <td>2017</td>\n",
       "    </tr>\n",
       "    <tr>\n",
       "      <th>64</th>\n",
       "      <td>F</td>\n",
       "      <td>3100.0</td>\n",
       "      <td>37</td>\n",
       "      <td>5</td>\n",
       "      <td>2017</td>\n",
       "    </tr>\n",
       "    <tr>\n",
       "      <th>65</th>\n",
       "      <td>F</td>\n",
       "      <td>3280.0</td>\n",
       "      <td>40</td>\n",
       "      <td>5</td>\n",
       "      <td>2017</td>\n",
       "    </tr>\n",
       "    <tr>\n",
       "      <th>66</th>\n",
       "      <td>F</td>\n",
       "      <td>4000.0</td>\n",
       "      <td>38</td>\n",
       "      <td>5</td>\n",
       "      <td>2017</td>\n",
       "    </tr>\n",
       "    <tr>\n",
       "      <th>67</th>\n",
       "      <td>F</td>\n",
       "      <td>4100.0</td>\n",
       "      <td>37</td>\n",
       "      <td>5</td>\n",
       "      <td>2017</td>\n",
       "    </tr>\n",
       "    <tr>\n",
       "      <th>68</th>\n",
       "      <td>F</td>\n",
       "      <td>3900.0</td>\n",
       "      <td>40</td>\n",
       "      <td>5</td>\n",
       "      <td>2017</td>\n",
       "    </tr>\n",
       "    <tr>\n",
       "      <th>69</th>\n",
       "      <td>F</td>\n",
       "      <td>3450.0</td>\n",
       "      <td>37</td>\n",
       "      <td>5</td>\n",
       "      <td>2017</td>\n",
       "    </tr>\n",
       "    <tr>\n",
       "      <th>70</th>\n",
       "      <td>F</td>\n",
       "      <td>3100.0</td>\n",
       "      <td>33</td>\n",
       "      <td>5</td>\n",
       "      <td>2017</td>\n",
       "    </tr>\n",
       "    <tr>\n",
       "      <th>71</th>\n",
       "      <td>F</td>\n",
       "      <td>2800.0</td>\n",
       "      <td>35</td>\n",
       "      <td>5</td>\n",
       "      <td>2017</td>\n",
       "    </tr>\n",
       "  </tbody>\n",
       "</table>\n",
       "</div>"
      ],
      "text/plain": [
       "   Sex  Weight  Gestational age  Month  Year\n",
       "60   F  2450.0               34      5  2017\n",
       "61   F  3380.0               37      5  2017\n",
       "62   F  4240.0               41      5  2017\n",
       "63   F  3220.0               42      5  2017\n",
       "64   F  3100.0               37      5  2017\n",
       "65   F  3280.0               40      5  2017\n",
       "66   F  4000.0               38      5  2017\n",
       "67   F  4100.0               37      5  2017\n",
       "68   F  3900.0               40      5  2017\n",
       "69   F  3450.0               37      5  2017\n",
       "70   F  3100.0               33      5  2017\n",
       "71   F  2800.0               35      5  2017"
      ]
     },
     "execution_count": 15,
     "metadata": {},
     "output_type": "execute_result"
    }
   ],
   "source": [
    "data[data['Month'] == 5]"
   ]
  },
  {
   "cell_type": "markdown",
   "metadata": {},
   "source": [
    "De fato, observar apenas nascimento de bebês do sexo feminino em um determinado mês é um **outlier coletivo**.\n",
    "\n",
    "Note que os valores de sexo e mês individualmente não indicam **outlier global**, e que, quando analisamos observacoes uma a uma, é normal que um bebê do sexo feminino nasca no mês 5, então também a análise individual não mostra **outlier contextual**.\n",
    "\n",
    "Assim, apenas pela análise conjunta identificamos um comportamento de **outlier**."
   ]
  },
  {
   "cell_type": "markdown",
   "metadata": {},
   "source": [
    "## Resumo\n",
    "\n",
    "Reconhecer outliers pode ser muito útil para entender os dados, e isso pode levar a diferentes aplicacoes:\n",
    "\n",
    "* detectar dados errôneos\n",
    "* detectar anomalias que possam ser reportadas\n",
    "\n",
    "No entanto, é preciso ter conhecimento do domínio para ir além dos outliers globais, capturando também os contextuais e coletivos.\n"
   ]
  }
 ],
 "metadata": {
  "kernelspec": {
   "display_name": "Python 3",
   "language": "python",
   "name": "python3"
  },
  "language_info": {
   "codemirror_mode": {
    "name": "ipython",
    "version": 3
   },
   "file_extension": ".py",
   "mimetype": "text/x-python",
   "name": "python",
   "nbconvert_exporter": "python",
   "pygments_lexer": "ipython3",
   "version": "3.7.3"
  }
 },
 "nbformat": 4,
 "nbformat_minor": 4
}
