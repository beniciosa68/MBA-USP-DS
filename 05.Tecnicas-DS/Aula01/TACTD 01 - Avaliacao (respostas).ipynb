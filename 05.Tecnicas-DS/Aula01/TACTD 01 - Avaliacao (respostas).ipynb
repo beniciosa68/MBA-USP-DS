{
 "cells": [
  {
   "cell_type": "markdown",
   "metadata": {},
   "source": [
    "# MBA em Ciência de Dados\n",
    "# Técnicas Avançadas de Captura e Tratamento de Dados\n",
    "\n",
    "### <span style=\"color:darkred\">Módulo I - Dados Estruturados, Não Estruturados e problemas típicos em bases de dados</span>\n",
    "\n",
    "\n",
    "## <span style=\"color:darkred\">Avaliação com soluções</span>\n",
    "\n",
    "Moacir Antonelli Ponti\n",
    "\n",
    "CeMEAI - ICMC/USP São Carlos\n",
    "\n",
    "\n",
    "---"
   ]
  },
  {
   "cell_type": "code",
   "execution_count": 2,
   "metadata": {},
   "outputs": [],
   "source": [
    "# carregando a biblioteca necessária\n",
    "import pandas as pd\n",
    "import matplotlib.pyplot as plt\n",
    "import numpy as np\n",
    "\n",
    "df = pd.read_csv(\"./dados/TACTD-01-Base.csv\")"
   ]
  },
  {
   "cell_type": "markdown",
   "metadata": {},
   "source": [
    "### Exercício 1)\n",
    "\n",
    "Considere a base de dados disponível em `TACTD-01-Base.csv`, e analise os dados faltantes no atributo 'Sex', selecionando as linhas que não sejam 'F' nem 'M'. O tipo de dados faltantes é:\n",
    " \n",
    " <font color='red'>(a) Completamente aleatório (MCAR)</font><br>\n",
    " (b) (Condicionalmente) aleatório (MAR)<br>\n",
    " (c) Não aleatório<br>\n",
    " (d) Uma mistura de não aleatórios com MAR<br>\n",
    " \n",
    " <font color='red'>Resposta: (ver abaixo os dados e distribuicoes)</font><br>\n",
    " \n",
    " <i>TL;DR: Não há justificativa razoável para dizer que a perda da informação Sexo tem relação clara com algum outro *atributo* ou com o próprio *valor da variável*. Considerar MCAR é o mais plausível pois é razoável dizer que os dados existentes (não faltantes) são representativos com relação aos faltantes.\n",
    " "
   ]
  },
  {
   "cell_type": "markdown",
   "metadata": {},
   "source": [
    "\n",
    " <i>Explicação item a item:\n",
    " 1. MAR não se aplica pois há poucos dados para afirmar condicionalidade: não seria adequado confiar demais em poucos dados para estabelecer relações com *valores específicos* como \"England\" do atributo país e o valor \"1973\" do atributo ano de nascimento.\n",
    "    * país England: os dados perdidos representam 50% de todos os desse país, mas isso indica realmente algo? Os dois outros perdidos são USA, mas para esse temos muitos outros não faltantes, então há mesmo um padrão ligando País a perda do atributo Sexo? Porque 50% dos faltantes são de England mas para USA isso não se aplicaria?\n",
    "    * ano 1973: o argumento é parecido, e seria ainda mais difícil considerar uma relação pois precisaríamos condicionar ao ano 1973 e ao país USA, já que para England isso não se aplica (os anos de nascimento são 1986 e 1979 para England).\n",
    "    \n",
    "    Assim, para considerar condicionalmente aleatório, não basta achar correlação individual com valores isolados (England, 1973), se isso não tem um embasamento mais forte. Considerar MAR significaria dizer com certeza que a perda está relacionada a valores específicos, e essa conclusão pode estar equivocada.<br>\n",
    " \n",
    " 2. Podemos descartar o caso não aleatório pois não é possível afirmar que a falta dos dados tem a ver com o valor da variável. A distribuicao entre M e F é balanceada na base como um todo, a falta da informação em algumas linhas não tem relação clara com os próprios valores faltantes (M ou F). Apesar desse ser um atributo sensível (Sexo), os dados não indicam de nenhuma forma essa hipótese e, novamente, é razoável dizer que os dados existentes (não faltantes) são representativos com relação aos faltantes.<br>\n",
    " \n",
    " 3. Pelos casos expostos acima, a alternativa \"Uma mistura de não aleatórios com MAR\" também seria descartada.*<br>\n",
    " *Conclusão - o tipo de dados faltantes mais plausível é MCAR.*</i>"
   ]
  },
  {
   "cell_type": "code",
   "execution_count": 3,
   "metadata": {},
   "outputs": [
    {
     "data": {
      "text/html": [
       "<div>\n",
       "<style scoped>\n",
       "    .dataframe tbody tr th:only-of-type {\n",
       "        vertical-align: middle;\n",
       "    }\n",
       "\n",
       "    .dataframe tbody tr th {\n",
       "        vertical-align: top;\n",
       "    }\n",
       "\n",
       "    .dataframe thead th {\n",
       "        text-align: right;\n",
       "    }\n",
       "</style>\n",
       "<table border=\"1\" class=\"dataframe\">\n",
       "  <thead>\n",
       "    <tr style=\"text-align: right;\">\n",
       "      <th></th>\n",
       "      <th>Name</th>\n",
       "      <th>Sex</th>\n",
       "      <th>Year of Birth</th>\n",
       "      <th>Country of Birth</th>\n",
       "      <th>Religion</th>\n",
       "      <th>City</th>\n",
       "      <th>Profession</th>\n",
       "      <th>Years of Experience</th>\n",
       "    </tr>\n",
       "  </thead>\n",
       "  <tbody>\n",
       "    <tr>\n",
       "      <th>4</th>\n",
       "      <td>Mariann Mulero</td>\n",
       "      <td>NaN</td>\n",
       "      <td>1973</td>\n",
       "      <td>USA</td>\n",
       "      <td>Christian</td>\n",
       "      <td>New Orleans</td>\n",
       "      <td>Nurse</td>\n",
       "      <td>21.0</td>\n",
       "    </tr>\n",
       "    <tr>\n",
       "      <th>5</th>\n",
       "      <td>Kathey Kleiman</td>\n",
       "      <td>NaN</td>\n",
       "      <td>1973</td>\n",
       "      <td>USA</td>\n",
       "      <td>Christian</td>\n",
       "      <td>New Orleans</td>\n",
       "      <td>Nurse</td>\n",
       "      <td>18.0</td>\n",
       "    </tr>\n",
       "    <tr>\n",
       "      <th>6</th>\n",
       "      <td>Rupert Rollison</td>\n",
       "      <td>NaN</td>\n",
       "      <td>1986</td>\n",
       "      <td>England</td>\n",
       "      <td>Christian</td>\n",
       "      <td>Birmingham</td>\n",
       "      <td>Nurse</td>\n",
       "      <td>5.0</td>\n",
       "    </tr>\n",
       "    <tr>\n",
       "      <th>7</th>\n",
       "      <td>Signe Seymore</td>\n",
       "      <td>NaN</td>\n",
       "      <td>1979</td>\n",
       "      <td>England</td>\n",
       "      <td>Christian</td>\n",
       "      <td>Birmingham</td>\n",
       "      <td>Nurse</td>\n",
       "      <td>8.0</td>\n",
       "    </tr>\n",
       "  </tbody>\n",
       "</table>\n",
       "</div>"
      ],
      "text/plain": [
       "              Name  Sex  Year of Birth Country of Birth   Religion  \\\n",
       "4   Mariann Mulero  NaN           1973              USA  Christian   \n",
       "5   Kathey Kleiman  NaN           1973              USA  Christian   \n",
       "6  Rupert Rollison  NaN           1986          England  Christian   \n",
       "7    Signe Seymore  NaN           1979          England  Christian   \n",
       "\n",
       "          City Profession  Years of Experience  \n",
       "4  New Orleans      Nurse                 21.0  \n",
       "5  New Orleans      Nurse                 18.0  \n",
       "6   Birmingham      Nurse                  5.0  \n",
       "7   Birmingham      Nurse                  8.0  "
      ]
     },
     "execution_count": 3,
     "metadata": {},
     "output_type": "execute_result"
    }
   ],
   "source": [
    "df[(df['Sex']!= 'F') & (df['Sex']!= 'M')]"
   ]
  },
  {
   "cell_type": "code",
   "execution_count": 4,
   "metadata": {},
   "outputs": [
    {
     "data": {
      "image/png": "[encoded data removed]",
      "text/plain": [
       "<Figure size 432x288 with 1 Axes>"
      ]
     },
     "metadata": {
      "needs_background": "light"
     },
     "output_type": "display_data"
    }
   ],
   "source": [
    "# distribuicao de Sex na base de dados\n",
    "h = plt.hist(df.loc[df['Sex'].notnull(), 'Sex'])"
   ]
  },
  {
   "cell_type": "markdown",
   "metadata": {},
   "source": [
    "---\n",
    "\n",
    "### Exercício 2)\n",
    "\n",
    "\n",
    "Considere a base de dados disponível em `TACTD-01-Base.csv`, e analise os dados no atributo 'Religion'. Esse atributo possui os seguintes problemas:\n",
    "\n",
    " <font color='red'>(a) 5 dados faltantes, sendo desses 2 dados errôneos<br></font>\n",
    " (b) 2 dados faltantes devido a omissão do usuário<br>\n",
    " (c) 5 dados errôneos, sendo desses 2 outliers<br>\n",
    " (d) 5 outliers<br>\n",
    "\n",
    "<font color='red'>Resposta: </font>*os dados fora do esperado são 'd' '1' e nan, sendo 3 nans. Assim, 3 são faltantes e 2 outros foram digitados erroneamente ou corrompidos.*<br>"
   ]
  },
  {
   "cell_type": "code",
   "execution_count": 5,
   "metadata": {},
   "outputs": [
    {
     "data": {
      "text/plain": [
       "array(['Christian', 'd', nan, '1'], dtype=object)"
      ]
     },
     "execution_count": 5,
     "metadata": {},
     "output_type": "execute_result"
    }
   ],
   "source": [
    "df['Religion'].unique()"
   ]
  },
  {
   "cell_type": "code",
   "execution_count": 6,
   "metadata": {},
   "outputs": [
    {
     "data": {
      "text/html": [
       "<div>\n",
       "<style scoped>\n",
       "    .dataframe tbody tr th:only-of-type {\n",
       "        vertical-align: middle;\n",
       "    }\n",
       "\n",
       "    .dataframe tbody tr th {\n",
       "        vertical-align: top;\n",
       "    }\n",
       "\n",
       "    .dataframe thead th {\n",
       "        text-align: right;\n",
       "    }\n",
       "</style>\n",
       "<table border=\"1\" class=\"dataframe\">\n",
       "  <thead>\n",
       "    <tr style=\"text-align: right;\">\n",
       "      <th></th>\n",
       "      <th>Name</th>\n",
       "      <th>Sex</th>\n",
       "      <th>Year of Birth</th>\n",
       "      <th>Country of Birth</th>\n",
       "      <th>Religion</th>\n",
       "      <th>City</th>\n",
       "      <th>Profession</th>\n",
       "      <th>Years of Experience</th>\n",
       "    </tr>\n",
       "  </thead>\n",
       "  <tbody>\n",
       "    <tr>\n",
       "      <th>9</th>\n",
       "      <td>Leanne Lowy</td>\n",
       "      <td>F</td>\n",
       "      <td>1969</td>\n",
       "      <td>England</td>\n",
       "      <td>d</td>\n",
       "      <td>Birmingham</td>\n",
       "      <td>Nurse</td>\n",
       "      <td>22.0</td>\n",
       "    </tr>\n",
       "    <tr>\n",
       "      <th>18</th>\n",
       "      <td>Ricardo Rima</td>\n",
       "      <td>M</td>\n",
       "      <td>1977</td>\n",
       "      <td>Peru</td>\n",
       "      <td>NaN</td>\n",
       "      <td>Arequipa</td>\n",
       "      <td>Nurse</td>\n",
       "      <td>16.0</td>\n",
       "    </tr>\n",
       "    <tr>\n",
       "      <th>30</th>\n",
       "      <td>Amelia Caldwell</td>\n",
       "      <td>F</td>\n",
       "      <td>1977</td>\n",
       "      <td>Scotland</td>\n",
       "      <td>NaN</td>\n",
       "      <td>Edinburgh</td>\n",
       "      <td>Nurse</td>\n",
       "      <td>10.0</td>\n",
       "    </tr>\n",
       "    <tr>\n",
       "      <th>47</th>\n",
       "      <td>Erica Hudson</td>\n",
       "      <td>F</td>\n",
       "      <td>1980</td>\n",
       "      <td>Brazil</td>\n",
       "      <td>NaN</td>\n",
       "      <td>Santo André</td>\n",
       "      <td>Nurse</td>\n",
       "      <td>10.0</td>\n",
       "    </tr>\n",
       "    <tr>\n",
       "      <th>67</th>\n",
       "      <td>Marshall Vargas</td>\n",
       "      <td>M</td>\n",
       "      <td>2013</td>\n",
       "      <td>Scotland</td>\n",
       "      <td>1</td>\n",
       "      <td>Edinburgh</td>\n",
       "      <td>Nurse</td>\n",
       "      <td>NaN</td>\n",
       "    </tr>\n",
       "  </tbody>\n",
       "</table>\n",
       "</div>"
      ],
      "text/plain": [
       "               Name Sex  Year of Birth Country of Birth Religion         City  \\\n",
       "9       Leanne Lowy   F           1969          England        d   Birmingham   \n",
       "18     Ricardo Rima   M           1977             Peru      NaN     Arequipa   \n",
       "30  Amelia Caldwell   F           1977         Scotland      NaN    Edinburgh   \n",
       "47     Erica Hudson   F           1980           Brazil      NaN  Santo André   \n",
       "67  Marshall Vargas   M           2013         Scotland        1    Edinburgh   \n",
       "\n",
       "   Profession  Years of Experience  \n",
       "9       Nurse                 22.0  \n",
       "18      Nurse                 16.0  \n",
       "30      Nurse                 10.0  \n",
       "47      Nurse                 10.0  \n",
       "67      Nurse                  NaN  "
      ]
     },
     "execution_count": 6,
     "metadata": {},
     "output_type": "execute_result"
    }
   ],
   "source": [
    "df[df['Religion']!='Christian']"
   ]
  },
  {
   "cell_type": "markdown",
   "metadata": {},
   "source": [
    "---\n",
    "\n",
    "### Exercício 3)\n",
    "\n",
    "\n",
    "Considere a base de dados disponível em `TACTD-01-Base.csv`. Encontre e remova todos os dados errôneos no atributo 'Religion'. Após remover os dados, analise todos as linhas relativas a dados faltantes nesse mesmo atributo. Esses dados faltantes:\n",
    "\n",
    " (a) Podem ser tanto (condicionalmente) aleatórios (MAR) quanto completamente aleatórios, portanto é mais seguro considerá-los do tipo MAR<br>\n",
    " (b) São seguramente completamente aleatórios (MCAR)<br>\n",
    " <font color='red'>(c) Podem ser tanto do tipo completamente aleatório (MCAR) quanto não-aleatórios, portanto é mais seguro considerá-los não aleatórios</font><br>\n",
    " (d) São seguramente não aleatórios<br>\n"
   ]
  },
  {
   "cell_type": "markdown",
   "metadata": {},
   "source": [
    "\n",
    " <font color='red'>Resposta: (ver abaixo os dados e distribuicoes)</font><br>\n",
    " *Esse caso é diferente da questão 1, pois aqui temos muitos dados, no sentido de que TODOS os valores válidos são possuem um único valor, assim temos como certo que 95 dos 100 são \"Christian\".*\n",
    " *Podemos descartar o caso MAR pois não há qualquer sinal de que há algum outro atributo que esteja correlacionado aos faltantes, o que descarta a opcao \"Podem ser tanto (condicionalmente) aleatórios (MAR) quanto completamente aleatórios\", restando as opções: não aleatório vs MCAR  ou ainda que não podemos afirmar qual dos dois é o tipo.*<br>\n",
    " *1. Os dados válidos possuem um único valor. Isso chama a atencao, pois por ser um atributo sensível (Religião) é possível que os dados faltantes sejam justamente de uma religião não reportada pelos profissionais devido ao valor da religiao.*<br>\n",
    " *2. Se considerarmos que os dados são MCAR, assumimos uma premissa bastante forte, permitindo por exemplo o uso de métodos de preenchimento de dados faltantes que, nesse caso, iriam preencher os dados com o único dado existente: 'Christian'*<br>\n",
    " *3. Por outro lado, sem mais informacoes (não disponíveis apenas nos dados) não é possível afirmar com certeza que são seguramente não aleatórios*<br>\n",
    " *Conclusão - Podem ser tanto do tipo completamente aleatório (MCAR) quanto não-aleatórios, portanto é mais seguro considerá-los não aleatórios, assim não iremos considerar que os dados existentes são representativos para os faltantes.*"
   ]
  },
  {
   "cell_type": "code",
   "execution_count": 7,
   "metadata": {},
   "outputs": [
    {
     "data": {
      "text/html": [
       "<div>\n",
       "<style scoped>\n",
       "    .dataframe tbody tr th:only-of-type {\n",
       "        vertical-align: middle;\n",
       "    }\n",
       "\n",
       "    .dataframe tbody tr th {\n",
       "        vertical-align: top;\n",
       "    }\n",
       "\n",
       "    .dataframe thead th {\n",
       "        text-align: right;\n",
       "    }\n",
       "</style>\n",
       "<table border=\"1\" class=\"dataframe\">\n",
       "  <thead>\n",
       "    <tr style=\"text-align: right;\">\n",
       "      <th></th>\n",
       "      <th>Name</th>\n",
       "      <th>Sex</th>\n",
       "      <th>Year of Birth</th>\n",
       "      <th>Country of Birth</th>\n",
       "      <th>Religion</th>\n",
       "      <th>City</th>\n",
       "      <th>Profession</th>\n",
       "      <th>Years of Experience</th>\n",
       "    </tr>\n",
       "  </thead>\n",
       "  <tbody>\n",
       "    <tr>\n",
       "      <th>9</th>\n",
       "      <td>Leanne Lowy</td>\n",
       "      <td>F</td>\n",
       "      <td>1969</td>\n",
       "      <td>England</td>\n",
       "      <td>NaN</td>\n",
       "      <td>Birmingham</td>\n",
       "      <td>Nurse</td>\n",
       "      <td>22.0</td>\n",
       "    </tr>\n",
       "    <tr>\n",
       "      <th>18</th>\n",
       "      <td>Ricardo Rima</td>\n",
       "      <td>M</td>\n",
       "      <td>1977</td>\n",
       "      <td>Peru</td>\n",
       "      <td>NaN</td>\n",
       "      <td>Arequipa</td>\n",
       "      <td>Nurse</td>\n",
       "      <td>16.0</td>\n",
       "    </tr>\n",
       "    <tr>\n",
       "      <th>30</th>\n",
       "      <td>Amelia Caldwell</td>\n",
       "      <td>F</td>\n",
       "      <td>1977</td>\n",
       "      <td>Scotland</td>\n",
       "      <td>NaN</td>\n",
       "      <td>Edinburgh</td>\n",
       "      <td>Nurse</td>\n",
       "      <td>10.0</td>\n",
       "    </tr>\n",
       "    <tr>\n",
       "      <th>47</th>\n",
       "      <td>Erica Hudson</td>\n",
       "      <td>F</td>\n",
       "      <td>1980</td>\n",
       "      <td>Brazil</td>\n",
       "      <td>NaN</td>\n",
       "      <td>Santo André</td>\n",
       "      <td>Nurse</td>\n",
       "      <td>10.0</td>\n",
       "    </tr>\n",
       "    <tr>\n",
       "      <th>67</th>\n",
       "      <td>Marshall Vargas</td>\n",
       "      <td>M</td>\n",
       "      <td>2013</td>\n",
       "      <td>Scotland</td>\n",
       "      <td>NaN</td>\n",
       "      <td>Edinburgh</td>\n",
       "      <td>Nurse</td>\n",
       "      <td>NaN</td>\n",
       "    </tr>\n",
       "  </tbody>\n",
       "</table>\n",
       "</div>"
      ],
      "text/plain": [
       "               Name Sex  Year of Birth Country of Birth Religion         City  \\\n",
       "9       Leanne Lowy   F           1969          England      NaN   Birmingham   \n",
       "18     Ricardo Rima   M           1977             Peru      NaN     Arequipa   \n",
       "30  Amelia Caldwell   F           1977         Scotland      NaN    Edinburgh   \n",
       "47     Erica Hudson   F           1980           Brazil      NaN  Santo André   \n",
       "67  Marshall Vargas   M           2013         Scotland      NaN    Edinburgh   \n",
       "\n",
       "   Profession  Years of Experience  \n",
       "9       Nurse                 22.0  \n",
       "18      Nurse                 16.0  \n",
       "30      Nurse                 10.0  \n",
       "47      Nurse                 10.0  \n",
       "67      Nurse                  NaN  "
      ]
     },
     "execution_count": 7,
     "metadata": {},
     "output_type": "execute_result"
    }
   ],
   "source": [
    "df.loc[(df['Religion']!= 'Christian'), 'Religion'] = np.nan\n",
    "df[df['Religion'].isnull()]"
   ]
  },
  {
   "cell_type": "code",
   "execution_count": 9,
   "metadata": {},
   "outputs": [
    {
     "name": "stdout",
     "output_type": "stream",
     "text": [
      "[ 0.  0.  0.  0.  0. 95.  0.  0.  0.  0.]\n"
     ]
    },
    {
     "data": {
      "image/png": "[encoded data removed]",
      "text/plain": [
       "<Figure size 432x288 with 1 Axes>"
      ]
     },
     "metadata": {
      "needs_background": "light"
     },
     "output_type": "display_data"
    }
   ],
   "source": [
    "h = plt.hist(df.loc[df['Religion'].notnull(), 'Religion'])\n",
    "print(h[0])"
   ]
  },
  {
   "cell_type": "code",
   "execution_count": 21,
   "metadata": {},
   "outputs": [
    {
     "data": {
      "image/png": "[encoded data removed]",
      "text/plain": [
       "<Figure size 432x288 with 1 Axes>"
      ]
     },
     "metadata": {
      "needs_background": "light"
     },
     "output_type": "display_data"
    }
   ],
   "source": [
    "h = plt.hist(df.loc[:, 'Years of Experience'])"
   ]
  },
  {
   "cell_type": "markdown",
   "metadata": {},
   "source": [
    "---\n",
    "### Exercício 4)\n",
    "\n",
    "Dados estruturados, quando comparados aos não-estruturados, são caracterizados por:\n",
    "\n",
    "(a) possuir formato bem definido para armazenamento, sendo inviável executar validação dos dados<br>\n",
    "(b) possibilitar maior liberdade/flexibilidade na coleta dos dados, sendo ideais para coleta com baixo controle<br>\n",
    "<font color='red'>(c) possuir campos e atributos que permitam endereçar os dados, e maior custo de manutenção<br></font>\n",
    "(d) estar armazenado em formato binário ou de texto livre, e não permitir controle de versões\n"
   ]
  },
  {
   "cell_type": "markdown",
   "metadata": {},
   "source": [
    "---\n",
    "\n",
    "### Exercício 5)\n",
    "\n",
    "Considere a base de dados disponível em `TACTD-01-Base.csv`, e analise os dados no atributo 'Years of experience' por meio do gráfico de caixa e depois visualizando as linhas contendo outliers mostrados no gráfico de caixa.\n",
    "\n",
    "O atributo possui:\n",
    "\n",
    "(a) 1 outlier global, e 1 outlier contextual<br>\n",
    "(b) nenhum outlier, pois todos os dados são plausíveis<br>\n",
    "(c) 2 outliers contextuais, sendo um deles também um outlier global<br>\n",
    "<font color='red'>(d) 2 outliers globais, sendo um deles também um outlier contextual<br></font>\n",
    "\n",
    " <font color='red'>Resposta: (ver abaixo os dados e distribuicoes)</font><br>\n",
    " *Analisando o boxplot, vemos que os outliers estão acima de 40 anos de experiencia. Selecionando-os, notamos que são efetivamente pontos aberrantes, com 56 anos de experiencia. Sendo que um deles pode fazer sentido pois uma pessoa nascida em 1930, que teria hoje cerca de 90 anos, pode realmente ter 56 anos de experiência, já o segundo nascido em 1988 teria apenas 30 anos, sendo impossível ter 56 anos de experiência e portanto é também um outlier contextual*"
   ]
  },
  {
   "cell_type": "code",
   "execution_count": 6,
   "metadata": {},
   "outputs": [
    {
     "data": {
      "text/plain": [
       "<matplotlib.axes._subplots.AxesSubplot at 0x7f3935be0ac0>"
      ]
     },
     "execution_count": 6,
     "metadata": {},
     "output_type": "execute_result"
    },
    {
     "data": {
      "image/png": "[encoded data removed]",
      "text/plain": [
       "<Figure size 432x288 with 1 Axes>"
      ]
     },
     "metadata": {
      "needs_background": "light"
     },
     "output_type": "display_data"
    }
   ],
   "source": [
    "df.boxplot(['Years of Experience'])"
   ]
  },
  {
   "cell_type": "code",
   "execution_count": 11,
   "metadata": {},
   "outputs": [
    {
     "data": {
      "text/html": [
       "<div>\n",
       "<style scoped>\n",
       "    .dataframe tbody tr th:only-of-type {\n",
       "        vertical-align: middle;\n",
       "    }\n",
       "\n",
       "    .dataframe tbody tr th {\n",
       "        vertical-align: top;\n",
       "    }\n",
       "\n",
       "    .dataframe thead th {\n",
       "        text-align: right;\n",
       "    }\n",
       "</style>\n",
       "<table border=\"1\" class=\"dataframe\">\n",
       "  <thead>\n",
       "    <tr style=\"text-align: right;\">\n",
       "      <th></th>\n",
       "      <th>Name</th>\n",
       "      <th>Sex</th>\n",
       "      <th>Year of Birth</th>\n",
       "      <th>Country of Birth</th>\n",
       "      <th>Religion</th>\n",
       "      <th>City</th>\n",
       "      <th>Profession</th>\n",
       "      <th>Years of Experience</th>\n",
       "    </tr>\n",
       "  </thead>\n",
       "  <tbody>\n",
       "    <tr>\n",
       "      <th>1</th>\n",
       "      <td>Ivo Izidro</td>\n",
       "      <td>M</td>\n",
       "      <td>1988</td>\n",
       "      <td>Mexico</td>\n",
       "      <td>Christian</td>\n",
       "      <td>Acapulco</td>\n",
       "      <td>Nurse</td>\n",
       "      <td>56.0</td>\n",
       "    </tr>\n",
       "    <tr>\n",
       "      <th>22</th>\n",
       "      <td>Ariel Almada</td>\n",
       "      <td>F</td>\n",
       "      <td>1930</td>\n",
       "      <td>Portugal</td>\n",
       "      <td>Christian</td>\n",
       "      <td>Lisbon</td>\n",
       "      <td>Nurse</td>\n",
       "      <td>56.0</td>\n",
       "    </tr>\n",
       "  </tbody>\n",
       "</table>\n",
       "</div>"
      ],
      "text/plain": [
       "            Name Sex  Year of Birth Country of Birth   Religion      City  \\\n",
       "1     Ivo Izidro   M           1988           Mexico  Christian  Acapulco   \n",
       "22  Ariel Almada   F           1930         Portugal  Christian    Lisbon   \n",
       "\n",
       "   Profession  Years of Experience  \n",
       "1       Nurse                 56.0  \n",
       "22      Nurse                 56.0  "
      ]
     },
     "execution_count": 11,
     "metadata": {},
     "output_type": "execute_result"
    }
   ],
   "source": [
    "df[df['Years of Experience']>40]"
   ]
  },
  {
   "cell_type": "markdown",
   "metadata": {},
   "source": [
    "## Exercício 6)\n",
    "\n",
    "Gere o gráfico de caixa do atributo 'Year of Birth' e depois selecione e imprima na tela todas as linhas em que o atributo 'Year of Birth' possui valores fora das barras de mínimo e máximo do gráfico de caixa.\n",
    "\n",
    "Como interpretar as linhas retornadas e quais ações são mais indicadas, em termos de manter ou remover os dados supeitos?\n",
    "\n",
    "(a) a linha 22 e a linha 67 possuem outliers e dados errôneos, todos esses valores devem ser removidos.<br>\n",
    "<font color='red'>(b) a linha 22 possui valores outliers, mas são plausíveis e podem ser mantidos; a linha 67 possui outliers e dados errôneos, os quais devem ser removidos<br></font>\n",
    "(c) a linha 22 possui outliers e dados errôneos, os quais devem ser removidos; a linha 67 possui outliers, mas são plausíveis e podem ser mantidos<br>\n",
    "(d) a linha 67 e a linha 22 possuem valores outliers, mas não é recomendado removê-los.<br>\n",
    "\n",
    " <font color='red'>Resposta: (ver abaixo os dados e distribuicoes)</font><br>\n",
    " *A linha 22 já foi analisada na questão anterior, possui um valor outlier (1930), mas plausível, já a linha 67 possui ano de nascimento 2009 portanto essa pessoa teria no máximo 11 anos em 2020 sendo improvável que tenha formacao de \"Enfermeiro(a)\", o que é reforcado pelos Anos de Experiencia não reportados. Assim, é mais seguro remover essa linha, ou ao menos os atributos Year of Birth e Religion se considerarmos que podem ser dados erroneos (imputados incorretamente ou corrompidos).*\n"
   ]
  },
  {
   "cell_type": "code",
   "execution_count": 20,
   "metadata": {},
   "outputs": [
    {
     "data": {
      "text/plain": [
       "<matplotlib.axes._subplots.AxesSubplot at 0x7f7526f57df0>"
      ]
     },
     "execution_count": 20,
     "metadata": {},
     "output_type": "execute_result"
    },
    {
     "data": {
      "image/png": "[encoded data removed]",
      "text/plain": [
       "<Figure size 432x288 with 1 Axes>"
      ]
     },
     "metadata": {
      "needs_background": "light"
     },
     "output_type": "display_data"
    }
   ],
   "source": [
    "df.boxplot(['Year of Birth'])"
   ]
  },
  {
   "cell_type": "code",
   "execution_count": 22,
   "metadata": {},
   "outputs": [
    {
     "data": {
      "text/html": [
       "<div>\n",
       "<style scoped>\n",
       "    .dataframe tbody tr th:only-of-type {\n",
       "        vertical-align: middle;\n",
       "    }\n",
       "\n",
       "    .dataframe tbody tr th {\n",
       "        vertical-align: top;\n",
       "    }\n",
       "\n",
       "    .dataframe thead th {\n",
       "        text-align: right;\n",
       "    }\n",
       "</style>\n",
       "<table border=\"1\" class=\"dataframe\">\n",
       "  <thead>\n",
       "    <tr style=\"text-align: right;\">\n",
       "      <th></th>\n",
       "      <th>Name</th>\n",
       "      <th>Sex</th>\n",
       "      <th>Year of Birth</th>\n",
       "      <th>Country of Birth</th>\n",
       "      <th>Religion</th>\n",
       "      <th>City</th>\n",
       "      <th>Profession</th>\n",
       "      <th>Years of Experience</th>\n",
       "    </tr>\n",
       "  </thead>\n",
       "  <tbody>\n",
       "    <tr>\n",
       "      <th>22</th>\n",
       "      <td>Ariel Almada</td>\n",
       "      <td>F</td>\n",
       "      <td>1930</td>\n",
       "      <td>Portugal</td>\n",
       "      <td>Christian</td>\n",
       "      <td>Lisbon</td>\n",
       "      <td>Nurse</td>\n",
       "      <td>56.0</td>\n",
       "    </tr>\n",
       "    <tr>\n",
       "      <th>67</th>\n",
       "      <td>Marshall Vargas</td>\n",
       "      <td>M</td>\n",
       "      <td>2009</td>\n",
       "      <td>Scotland</td>\n",
       "      <td>1</td>\n",
       "      <td>Edinburgh</td>\n",
       "      <td>Nurse</td>\n",
       "      <td>NaN</td>\n",
       "    </tr>\n",
       "  </tbody>\n",
       "</table>\n",
       "</div>"
      ],
      "text/plain": [
       "               Name Sex  Year of Birth Country of Birth   Religion       City  \\\n",
       "22     Ariel Almada   F           1930         Portugal  Christian     Lisbon   \n",
       "67  Marshall Vargas   M           2009         Scotland          1  Edinburgh   \n",
       "\n",
       "   Profession  Years of Experience  \n",
       "22      Nurse                 56.0  \n",
       "67      Nurse                  NaN  "
      ]
     },
     "execution_count": 22,
     "metadata": {},
     "output_type": "execute_result"
    }
   ],
   "source": [
    "df[(df['Year of Birth']>1990) | (df['Year of Birth']<1940)]"
   ]
  }
 ],
 "metadata": {
  "kernelspec": {
   "display_name": "Python 3",
   "language": "python",
   "name": "python3"
  },
  "language_info": {
   "codemirror_mode": {
    "name": "ipython",
    "version": 3
   },
   "file_extension": ".py",
   "mimetype": "text/x-python",
   "name": "python",
   "nbconvert_exporter": "python",
   "pygments_lexer": "ipython3",
   "version": "3.8.2"
  }
 },
 "nbformat": 4,
 "nbformat_minor": 4
}
