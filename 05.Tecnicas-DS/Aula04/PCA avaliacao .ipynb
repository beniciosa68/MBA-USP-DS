{
 "cells": [
  {
   "cell_type": "markdown",
   "metadata": {},
   "source": [
    "# <span style=\"color:blue\"> MBA em Ciência de Dados</span>\n",
    "# <span style=\"color:blue\">Técnicas Avançadas para Captura e Tratamento de Dados</span>\n",
    "\n",
    "## <span style=\"color:blue\">Análise de Componentes Principais -  Avaliação</span>\n",
    "**Material Produzido por Luis Gustavo Nonato**<br>\n",
    "**Cemeai - ICMC/USP São Carlos**\n",
    "---"
   ]
  },
  {
   "cell_type": "markdown",
   "metadata": {},
   "source": [
    "Os exercícios abaixo farão uso do conjunto de dados <font style=\"font-family: monaco\">blobs2.csv</font> disponível no _moodle_."
   ]
  },
  {
   "cell_type": "code",
   "execution_count": 1,
   "metadata": {},
   "outputs": [],
   "source": [
    "import numpy as np\n",
    "import pandas as pd\n",
    "import matplotlib.pyplot as plt"
   ]
  },
  {
   "cell_type": "markdown",
   "metadata": {},
   "source": [
    "### Exercício 1)\n",
    "Calcule as direções principais dos dados contidos no arquivo <font style=\"font-family: monaco\">blobs2.csv</font>. Quais são os valores das duas maiores variâncias?\n",
    "\n",
    "Escolha uma:<br>\n",
    "<b>a. 1162.75 e 993.63<br>\n",
    "b. 271.17 e 160.90<br>\n",
    "c. 1074.60 e 338.02<br>\n",
    "d. 338.02 e 271.17<br>"
   ]
  },
  {
   "cell_type": "code",
   "execution_count": 11,
   "metadata": {},
   "outputs": [
    {
     "name": "stdout",
     "output_type": "stream",
     "text": [
      "(600, 25)\n"
     ]
    },
    {
     "data": {
      "text/html": [
       "<div>\n",
       "<style scoped>\n",
       "    .dataframe tbody tr th:only-of-type {\n",
       "        vertical-align: middle;\n",
       "    }\n",
       "\n",
       "    .dataframe tbody tr th {\n",
       "        vertical-align: top;\n",
       "    }\n",
       "\n",
       "    .dataframe thead th {\n",
       "        text-align: right;\n",
       "    }\n",
       "</style>\n",
       "<table border=\"1\" class=\"dataframe\">\n",
       "  <thead>\n",
       "    <tr style=\"text-align: right;\">\n",
       "      <th></th>\n",
       "      <th>c0</th>\n",
       "      <th>c1</th>\n",
       "      <th>c2</th>\n",
       "      <th>c3</th>\n",
       "      <th>c4</th>\n",
       "      <th>c5</th>\n",
       "      <th>c6</th>\n",
       "      <th>c7</th>\n",
       "      <th>c8</th>\n",
       "      <th>c9</th>\n",
       "      <th>...</th>\n",
       "      <th>c15</th>\n",
       "      <th>c16</th>\n",
       "      <th>c17</th>\n",
       "      <th>c18</th>\n",
       "      <th>c19</th>\n",
       "      <th>c20</th>\n",
       "      <th>c21</th>\n",
       "      <th>c22</th>\n",
       "      <th>c23</th>\n",
       "      <th>c24</th>\n",
       "    </tr>\n",
       "  </thead>\n",
       "  <tbody>\n",
       "    <tr>\n",
       "      <th>0</th>\n",
       "      <td>-9.587828</td>\n",
       "      <td>-4.640974</td>\n",
       "      <td>-7.238876</td>\n",
       "      <td>-6.755609</td>\n",
       "      <td>-7.260508</td>\n",
       "      <td>-4.018110</td>\n",
       "      <td>-2.473796</td>\n",
       "      <td>-8.732220</td>\n",
       "      <td>2.967323</td>\n",
       "      <td>1.927218</td>\n",
       "      <td>...</td>\n",
       "      <td>-4.232223</td>\n",
       "      <td>4.621523</td>\n",
       "      <td>-7.881127</td>\n",
       "      <td>5.715173</td>\n",
       "      <td>-2.198992</td>\n",
       "      <td>-5.652042</td>\n",
       "      <td>2.294532</td>\n",
       "      <td>-11.305678</td>\n",
       "      <td>6.456732</td>\n",
       "      <td>-9.103836</td>\n",
       "    </tr>\n",
       "    <tr>\n",
       "      <th>1</th>\n",
       "      <td>4.430200</td>\n",
       "      <td>-7.408960</td>\n",
       "      <td>6.542226</td>\n",
       "      <td>-0.340267</td>\n",
       "      <td>-3.035140</td>\n",
       "      <td>-6.110085</td>\n",
       "      <td>5.947367</td>\n",
       "      <td>1.504693</td>\n",
       "      <td>0.159693</td>\n",
       "      <td>-10.043071</td>\n",
       "      <td>...</td>\n",
       "      <td>-1.490352</td>\n",
       "      <td>-1.379686</td>\n",
       "      <td>2.898314</td>\n",
       "      <td>-11.554418</td>\n",
       "      <td>3.995090</td>\n",
       "      <td>5.556163</td>\n",
       "      <td>-6.243226</td>\n",
       "      <td>-6.956367</td>\n",
       "      <td>-4.079177</td>\n",
       "      <td>-3.332520</td>\n",
       "    </tr>\n",
       "    <tr>\n",
       "      <th>2</th>\n",
       "      <td>1.687488</td>\n",
       "      <td>-4.747313</td>\n",
       "      <td>7.714434</td>\n",
       "      <td>0.466089</td>\n",
       "      <td>-1.147214</td>\n",
       "      <td>-3.827851</td>\n",
       "      <td>6.199882</td>\n",
       "      <td>-1.339071</td>\n",
       "      <td>2.281886</td>\n",
       "      <td>-10.378856</td>\n",
       "      <td>...</td>\n",
       "      <td>-1.600070</td>\n",
       "      <td>-2.524161</td>\n",
       "      <td>5.790805</td>\n",
       "      <td>-9.779573</td>\n",
       "      <td>3.976283</td>\n",
       "      <td>4.339449</td>\n",
       "      <td>-5.007315</td>\n",
       "      <td>-7.194471</td>\n",
       "      <td>-3.641903</td>\n",
       "      <td>-4.378965</td>\n",
       "    </tr>\n",
       "    <tr>\n",
       "      <th>3</th>\n",
       "      <td>0.580085</td>\n",
       "      <td>5.054813</td>\n",
       "      <td>1.156155</td>\n",
       "      <td>1.735212</td>\n",
       "      <td>0.433977</td>\n",
       "      <td>3.390672</td>\n",
       "      <td>-1.775347</td>\n",
       "      <td>7.299190</td>\n",
       "      <td>10.483092</td>\n",
       "      <td>-3.457759</td>\n",
       "      <td>...</td>\n",
       "      <td>-7.155131</td>\n",
       "      <td>-10.292705</td>\n",
       "      <td>6.859731</td>\n",
       "      <td>6.322292</td>\n",
       "      <td>7.500807</td>\n",
       "      <td>8.617424</td>\n",
       "      <td>4.512770</td>\n",
       "      <td>0.240015</td>\n",
       "      <td>6.106763</td>\n",
       "      <td>-7.057556</td>\n",
       "    </tr>\n",
       "    <tr>\n",
       "      <th>4</th>\n",
       "      <td>0.549273</td>\n",
       "      <td>-2.220818</td>\n",
       "      <td>10.625565</td>\n",
       "      <td>-7.102454</td>\n",
       "      <td>-5.502638</td>\n",
       "      <td>-7.016894</td>\n",
       "      <td>3.315088</td>\n",
       "      <td>-5.413384</td>\n",
       "      <td>-2.160280</td>\n",
       "      <td>-3.655956</td>\n",
       "      <td>...</td>\n",
       "      <td>-3.004390</td>\n",
       "      <td>5.946111</td>\n",
       "      <td>-7.085767</td>\n",
       "      <td>5.839948</td>\n",
       "      <td>-7.414791</td>\n",
       "      <td>9.395698</td>\n",
       "      <td>-2.193346</td>\n",
       "      <td>7.786570</td>\n",
       "      <td>0.974318</td>\n",
       "      <td>5.583822</td>\n",
       "    </tr>\n",
       "  </tbody>\n",
       "</table>\n",
       "<p>5 rows × 25 columns</p>\n",
       "</div>"
      ],
      "text/plain": [
       "         c0        c1         c2        c3        c4        c5        c6  \\\n",
       "0 -9.587828 -4.640974  -7.238876 -6.755609 -7.260508 -4.018110 -2.473796   \n",
       "1  4.430200 -7.408960   6.542226 -0.340267 -3.035140 -6.110085  5.947367   \n",
       "2  1.687488 -4.747313   7.714434  0.466089 -1.147214 -3.827851  6.199882   \n",
       "3  0.580085  5.054813   1.156155  1.735212  0.433977  3.390672 -1.775347   \n",
       "4  0.549273 -2.220818  10.625565 -7.102454 -5.502638 -7.016894  3.315088   \n",
       "\n",
       "         c7         c8         c9  ...       c15        c16       c17  \\\n",
       "0 -8.732220   2.967323   1.927218  ... -4.232223   4.621523 -7.881127   \n",
       "1  1.504693   0.159693 -10.043071  ... -1.490352  -1.379686  2.898314   \n",
       "2 -1.339071   2.281886 -10.378856  ... -1.600070  -2.524161  5.790805   \n",
       "3  7.299190  10.483092  -3.457759  ... -7.155131 -10.292705  6.859731   \n",
       "4 -5.413384  -2.160280  -3.655956  ... -3.004390   5.946111 -7.085767   \n",
       "\n",
       "         c18       c19       c20       c21        c22       c23       c24  \n",
       "0   5.715173 -2.198992 -5.652042  2.294532 -11.305678  6.456732 -9.103836  \n",
       "1 -11.554418  3.995090  5.556163 -6.243226  -6.956367 -4.079177 -3.332520  \n",
       "2  -9.779573  3.976283  4.339449 -5.007315  -7.194471 -3.641903 -4.378965  \n",
       "3   6.322292  7.500807  8.617424  4.512770   0.240015  6.106763 -7.057556  \n",
       "4   5.839948 -7.414791  9.395698 -2.193346   7.786570  0.974318  5.583822  \n",
       "\n",
       "[5 rows x 25 columns]"
      ]
     },
     "execution_count": 11,
     "metadata": {},
     "output_type": "execute_result"
    }
   ],
   "source": [
    "data = pd.read_csv('.\\\\data\\\\blobs2.csv')\n",
    "print(data.shape)\n",
    "data.head()"
   ]
  },
  {
   "cell_type": "code",
   "execution_count": 78,
   "metadata": {},
   "outputs": [
    {
     "name": "stdout",
     "output_type": "stream",
     "text": [
      "Resposta: a. 1162.75 e 993.63\n",
      "\n",
      "1162.758\n",
      "993.633\n"
     ]
    }
   ],
   "source": [
    "from sklearn.decomposition import PCA\n",
    "\n",
    "pca_obj = PCA(svd_solver='full')\n",
    "data_transformed = pca_obj.fit(data.values)\n",
    "\n",
    "#montando um array onde temos as duas principais direções armazenadas num array. O primeiro com a linha de maior variância\n",
    "#e o segundo com a segunda linha de maior variância\n",
    "maiores_variancias = data_transformed.components_[0:2]\n",
    "\n",
    "print('Resposta: a. 1162.75 e 993.63')\n",
    "print()\n",
    "#explained variance me mostra os maiores elementos daquela linha que explicam a variância.\n",
    "print('%.3f' % data_transformed.explained_variance_[0])\n",
    "print('%.3f' % data_transformed.explained_variance_[1])"
   ]
  },
  {
   "cell_type": "markdown",
   "metadata": {},
   "source": [
    "### Exercício 2)\n",
    "Qual o número mínimo de direções principais necessárias para representar $90\\%$ da informação contida nos dados?\n",
    "\n",
    "Escolha uma:<br>\n",
    "<b>a. 3<br>\n",
    "b. 4<br>\n",
    "c. 5<br>\n",
    "d. 6<br>"
   ]
  },
  {
   "cell_type": "code",
   "execution_count": 36,
   "metadata": {},
   "outputs": [
    {
     "name": "stdout",
     "output_type": "stream",
     "text": [
      "Resposta:  5\n"
     ]
    }
   ],
   "source": [
    "#utilizamos o explained_variance_ratio que contém a porcentagem de informação em cada direção (do maior para o menor)\n",
    "perc=0.0\n",
    "num_component = 0\n",
    "\n",
    "#para o tamanho dos elementos da ratio achamos os seus percentuais e armazenamos em perc. Depois checamos quantos são >= 90%.\n",
    "for i in range(data_transformed.explained_variance_ratio_.shape[0]):\n",
    "    perc += data_transformed.explained_variance_ratio_[i]\n",
    "    if perc >=0.9:\n",
    "        num_component = i+1\n",
    "        break\n",
    "\n",
    "print('Resposta: ',num_component)"
   ]
  },
  {
   "cell_type": "markdown",
   "metadata": {},
   "source": [
    "### Exercício 3)\n",
    "Existem _outliers_ nos dados originais. Utilize z-score com um threshold de 2.8 para identificar os outliers e removê-los dos dados. Quantos outliers foram identificados?\n",
    "\n",
    "Escolha uma:<br>\n",
    "<b>a. 4<br>\n",
    "b. 3<br>\n",
    "c. 5<br>\n",
    "d. 6<br>"
   ]
  },
  {
   "cell_type": "code",
   "execution_count": 42,
   "metadata": {},
   "outputs": [
    {
     "name": "stdout",
     "output_type": "stream",
     "text": [
      "Resposta:  5\n",
      "\n",
      "Shape dos dados originais: (600, 25)\n",
      "Shape dos dados sem outlier: (595, 25)\n",
      "\n",
      "Linhas com outliers: [[116  13]\n",
      " [240  16]\n",
      " [286   5]\n",
      " [298  17]\n",
      " [398   6]]\n",
      "\n",
      "Número de outliers identificados: 5\n"
     ]
    }
   ],
   "source": [
    "from scipy.stats import zscore\n",
    "\n",
    "#calcula z-score\n",
    "data_zscore = zscore(data,axis=0)\n",
    "\n",
    "#encontra outliers\n",
    "outlier = np.abs(data_zscore) > 2.8\n",
    "outlier_id = np.argwhere(outlier == True)\n",
    "\n",
    "#removendo outliers\n",
    "data_sem_outlier = data.drop(outlier_id[:,0],axis=0)\n",
    "\n",
    "print('Resposta: ',outlier_id.shape[0])\n",
    "print()\n",
    "print('Shape dos dados originais:', data.shape)\n",
    "print('Shape dos dados sem outlier:', data_sem_outlier.shape)\n",
    "print()\n",
    "print('Linhas com outliers:', outlier_id)\n",
    "print()\n",
    "print('Número de outliers identificados:',outlier_id.shape[0])"
   ]
  },
  {
   "cell_type": "markdown",
   "metadata": {},
   "source": [
    "### Exercício 4)\n",
    "Qual a procentagem de informação representada pelas 4 primeiras componentes principais após a remoção dos outliers?\n",
    "\n",
    "Escolha uma:<br>\n",
    "<b>a. aproximadamente 97%<br>\n",
    "b. aproximadamente 90%<br>\n",
    "c. aproximadamente 87%<br>\n",
    "d. aproximadamente 80%<br>"
   ]
  },
  {
   "cell_type": "code",
   "execution_count": 74,
   "metadata": {},
   "outputs": [
    {
     "name": "stdout",
     "output_type": "stream",
     "text": [
      "Resposta: a. aproximadamente 97%\n",
      "\n",
      "Percentual de maiores variâncias: \n",
      "[0.40797396 0.34470211 0.21677456 0.00188786 0.00182726 0.00174456\n",
      " 0.00173148 0.00166477 0.00160839 0.00156057 0.00149408 0.00146905\n",
      " 0.00142417 0.00138814 0.00135414 0.0013118  0.00127311 0.0012421\n",
      " 0.0012167  0.00117687 0.00112642 0.00111238 0.0010522  0.00097218\n",
      " 0.00091112]\n",
      "\n",
      "Total dos 4 primeiros componentes: 97 %\n"
     ]
    }
   ],
   "source": [
    "data_sem_outlier_transformed = pca_obj.fit(data_sem_outlier.values)\n",
    "maiores_variancias_sem_outlier = data_sem_outlier_transformed.components_[0:4]\n",
    "perc = data_sem_outlier_transformed.explained_variance_ratio_\n",
    "print('Resposta: a. aproximadamente 97%')\n",
    "print()\n",
    "print(\"Percentual de maiores variâncias: \")\n",
    "print(perc)\n",
    "print()\n",
    "print('Total dos 4 primeiros componentes:',int(sum(perc[0:4])*100),'%')"
   ]
  },
  {
   "cell_type": "markdown",
   "metadata": {},
   "source": [
    "### Exercício 5)\n",
    "Projete os dados sem outliers nas duas primeiras direções principais. Quantos clusters você consegue visualizar na projeção?\n",
    "\n",
    "Escolha uma:<br>\n",
    "<b>a. 6<br>\n",
    "b. 4<br>\n",
    "c. 5<br>\n",
    "d. 3<br>"
   ]
  },
  {
   "cell_type": "code",
   "execution_count": 77,
   "metadata": {},
   "outputs": [
    {
     "name": "stdout",
     "output_type": "stream",
     "text": [
      "Resposta: 4\n"
     ]
    },
    {
     "data": {
      "image/png": "[encoded data removed]",
      "text/plain": [
       "<Figure size 432x288 with 1 Axes>"
      ]
     },
     "metadata": {
      "needs_background": "light"
     },
     "output_type": "display_data"
    }
   ],
   "source": [
    "grafico_2D = np.dot(data_sem_outlier,data_sem_outlier_transformed.components_[0:2].T)\n",
    "plt.scatter(grafico_2D[:,0],grafico_2D[:,1])\n",
    "\n",
    "print('Resposta: 4')"
   ]
  }
 ],
 "metadata": {
  "kernelspec": {
   "display_name": "Python 3",
   "language": "python",
   "name": "python3"
  },
  "language_info": {
   "codemirror_mode": {
    "name": "ipython",
    "version": 3
   },
   "file_extension": ".py",
   "mimetype": "text/x-python",
   "name": "python",
   "nbconvert_exporter": "python",
   "pygments_lexer": "ipython3",
   "version": "3.7.6"
  }
 },
 "nbformat": 4,
 "nbformat_minor": 2
}
