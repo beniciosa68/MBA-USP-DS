{
 "cells": [
  {
   "cell_type": "markdown",
   "metadata": {},
   "source": [
    "# <span style=\"color:blue\"> MBA em Ciência de Dados</span>\n",
    "# <span style=\"color:blue\">Técnicas Avançadas para Captura e Tratamento de Dados</span>\n",
    "\n",
    "## <span style=\"color:blue\">Análise de Componentes Principais -  Avaliação</span>\n",
    "**Material Produzido por Luis Gustavo Nonato**<br>\n",
    "**Cemeai - ICMC/USP São Carlos**\n",
    "---"
   ]
  },
  {
   "cell_type": "markdown",
   "metadata": {},
   "source": [
    "Os exercícios abaixo farão uso do conjunto de dados <font style=\"font-family: monaco\">blobs2.csv</font> disponível no _moodle_."
   ]
  },
  {
   "cell_type": "code",
   "execution_count": 1,
   "metadata": {},
   "outputs": [],
   "source": [
    "import numpy as np\n",
    "import pandas as pd\n",
    "import matplotlib.pyplot as plt"
   ]
  },
  {
   "cell_type": "markdown",
   "metadata": {},
   "source": [
    "### Exercício 1)\n",
    "Calcule as direções principais dos dados contidos no arquivo <font style=\"font-family: monaco\">blobs2.csv</font>. Quais são os valores das duas maiores variâncias?\n",
    "\n",
    "a) 338.02 e 271.17<br>\n",
    "<font color='red'>b) 1162.75 e 993.63</font><br>\n",
    "c) 271.17 e 160.90 <br>\n",
    "d) 1074.60 e 338.02\n"
   ]
  },
  {
   "cell_type": "code",
   "execution_count": 2,
   "metadata": {},
   "outputs": [
    {
     "name": "stdout",
     "output_type": "stream",
     "text": [
      "[1162.75796919  993.6332352   958.55083238  862.61165292  761.97587147]\n"
     ]
    }
   ],
   "source": [
    "from sklearn.decomposition import PCA\n",
    "\n",
    "X = pd.read_csv('blobs2.csv').values\n",
    "\n",
    "pca_obj=PCA(svd_solver='full')\n",
    "X_transformed = pca_obj.fit(X)\n",
    "\n",
    "print(X_transformed.explained_variance_[0:5])"
   ]
  },
  {
   "cell_type": "markdown",
   "metadata": {},
   "source": [
    "### Exercício 2)\n",
    "Qual o número mínimo de direções principais necessárias para representar $90\\%$ da informação contida nos dados?\n",
    "\n",
    "a) 6<br>\n",
    "<font color='red'>b) 5</font><br>\n",
    "c) 4<br>\n",
    "d) 3"
   ]
  },
  {
   "cell_type": "code",
   "execution_count": 3,
   "metadata": {},
   "outputs": [
    {
     "name": "stdout",
     "output_type": "stream",
     "text": [
      "Numero de componentes contendo 90% da informacao:  5\n",
      "\n",
      "Porcentagem da informacao:  0.9035960522494768\n"
     ]
    }
   ],
   "source": [
    "percentage_info = 0.0\n",
    "num_components = 0\n",
    "for i in range(X_transformed.explained_variance_ratio_.shape[0]):\n",
    "    percentage_info += X_transformed.explained_variance_ratio_[i]\n",
    "    if percentage_info >= 0.9:\n",
    "        num_components = i+1\n",
    "        break\n",
    "        \n",
    "print('Numero de componentes contendo 90% da informacao: ',\n",
    "     num_components)\n",
    "print('\\nPorcentagem da informacao: ',percentage_info)"
   ]
  },
  {
   "cell_type": "markdown",
   "metadata": {},
   "source": [
    "### Exercício 3)\n",
    "Existem _outliers_ nos dados originais. Utilize z-score com um threshold de 2.8 para identificar os outliers e removê-los dos dados. Quantos outliers foram identificados?\n",
    "\n",
    "a) 6<br>\n",
    "<font color='red'>b) 5</font><br>\n",
    "c) 4<br>\n",
    "d) 3"
   ]
  },
  {
   "cell_type": "code",
   "execution_count": 7,
   "metadata": {},
   "outputs": [
    {
     "name": "stdout",
     "output_type": "stream",
     "text": [
      "quantidade de outliers:  5\n",
      "(600, 25)\n",
      "(595, 25)\n"
     ]
    }
   ],
   "source": [
    "from scipy.stats import zscore\n",
    "\n",
    "# calculando z-scores\n",
    "Xzscore = zscore(X,axis=0)\n",
    "\n",
    "# encontrando outliers\n",
    "outliers = np.abs(Xzscore) > 2.8\n",
    "outliers_id = np.argwhere(outliers == True)\n",
    "print('quantidade de outliers: ',outliers_id.shape[0])\n",
    "\n",
    "# removendo outliers\n",
    "df = pd.DataFrame(data=X)\n",
    "print(df.shape)\n",
    "df = df.drop(outliers_id[:,0],axis=0)\n",
    "print(df.shape)\n",
    "\n",
    "X_no_outliers = df.values"
   ]
  },
  {
   "cell_type": "markdown",
   "metadata": {},
   "source": [
    "### Exercício 4)\n",
    "Qual a procentagem de informação representada pelas 4 primeiras componentes principais após a remoção dos outliers?\n",
    "\n",
    "a) aproximadamente 90% <br>\n",
    "<font color='red'> b) aproximadamente  97% </font><br>\n",
    "c) aproximadamente 80% <br>\n",
    "d) aproximadamente 87% "
   ]
  },
  {
   "cell_type": "code",
   "execution_count": 8,
   "metadata": {},
   "outputs": [
    {
     "name": "stdout",
     "output_type": "stream",
     "text": [
      "Porcentagem de informacao representada pelas 4 primeiras componentes principais:  97.13384896745538 %\n"
     ]
    }
   ],
   "source": [
    "pca_obj2=PCA(svd_solver='full')\n",
    "X_no_outliers_transformed = pca_obj2.fit(X_no_outliers)\n",
    "\n",
    "perc_exp = np.sum(X_no_outliers_transformed.explained_variance_ratio_[0:4])\n",
    "print('Porcentagem de informacao representada pelas 4 primeiras componentes principais: ',\n",
    "      100*perc_exp,'%')"
   ]
  },
  {
   "cell_type": "markdown",
   "metadata": {},
   "source": [
    "### Exercício 5)\n",
    "Projete os dados sem outliers nas duas primeiras direções principais. Quantos clusters você consegue visualizar na projeção?\n",
    "\n",
    "a) 6<br>\n",
    "b) 5<br>\n",
    "<font color='red'>c) 4</font><br>\n",
    "d) 3.\n"
   ]
  },
  {
   "cell_type": "code",
   "execution_count": 13,
   "metadata": {},
   "outputs": [
    {
     "data": {
      "text/plain": [
       "<matplotlib.collections.PathCollection at 0x12b3c7a58>"
      ]
     },
     "execution_count": 13,
     "metadata": {},
     "output_type": "execute_result"
    },
    {
     "data": {
      "image/png": "[encoded data removed]",
      "text/plain": [
       "<Figure size 864x432 with 2 Axes>"
      ]
     },
     "metadata": {
      "needs_background": "light"
     },
     "output_type": "display_data"
    }
   ],
   "source": [
    "X2D = np.dot(X,X_transformed.components_[0:2].T)\n",
    "X2D_no_outliers = np.dot(X_no_outliers,X_no_outliers_transformed.components_[0:2].T)\n",
    "\n",
    "plt.rcParams['figure.figsize'] = [12, 6]\n",
    "f, (ax1, ax2)  = plt.subplots(1,2)\n",
    "ax1.set_title('Com Outliers')\n",
    "ax1.scatter(X2D[:,0],X2D[:,1])\n",
    "ax2.set_title('Sem Outliers')\n",
    "ax2.scatter(X2D_no_outliers[:,0],X2D_no_outliers[:,1])"
   ]
  }
 ],
 "metadata": {
  "kernelspec": {
   "display_name": "Python 3",
   "language": "python",
   "name": "python3"
  },
  "language_info": {
   "codemirror_mode": {
    "name": "ipython",
    "version": 3
   },
   "file_extension": ".py",
   "mimetype": "text/x-python",
   "name": "python",
   "nbconvert_exporter": "python",
   "pygments_lexer": "ipython3",
   "version": "3.7.1"
  }
 },
 "nbformat": 4,
 "nbformat_minor": 2
}
