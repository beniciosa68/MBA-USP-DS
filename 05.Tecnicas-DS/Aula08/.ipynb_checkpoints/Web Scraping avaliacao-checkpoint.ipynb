{
 "cells": [
  {
   "cell_type": "markdown",
   "metadata": {},
   "source": [
    "# <span style=\"color:blue\"> MBA em Ciência de Dados</span>\n",
    "# <span style=\"color:blue\">Técnicas Avançadas para Captura e Tratamento de Dados</span>\n",
    "\n",
    "## <span style=\"color:blue\"> Web Scraping </span>\n",
    "\n",
    "## <span style=\"color:blue\">Avaliação </span> \n",
    "\n",
    "**Material Produzido por Luis Gustavo Nonato**<br>\n",
    "**Cemeai - ICMC/USP São Carlos**\n",
    "\n",
    "---"
   ]
  },
  {
   "cell_type": "code",
   "execution_count": 1,
   "metadata": {},
   "outputs": [],
   "source": [
    "import requests as rq\n",
    "from bs4 import BeautifulSoup"
   ]
  },
  {
   "cell_type": "markdown",
   "metadata": {},
   "source": [
    "Considere o portal de dados abertos do Governo Federal: \n",
    "\n",
    "[http://www.dados.gov.br/](http://www.dados.gov.br/)"
   ]
  },
  {
   "cell_type": "markdown",
   "metadata": {},
   "source": [
    "### Exercício 1)\n",
    "Faça uma requisição no side de dados abertos do Governo Federal utilizando a palavra \"seguranca\" (sem ç) como fonte de busca. Dentre os repositórios que aparecem na primeira página resultante da busca, quantos caracteres aparecem no nome do repositório com o nome mais longo?\n",
    "\n",
    "Por exemplo, o nome do repositório\n",
    "```html\n",
    "Segurança Pública com Cidadania\n",
    "\n",
    "Segurança Pública com Cidadania. Empreendimento pertencente a carteira do Anexo III do PPA 2012-2015. Programa 2070. Iniciativas 03DX e 04AD - escala 1:2.500.000. Sistema de...\n",
    "```\n",
    "&nbsp;&nbsp;&nbsp;&nbsp;&nbsp;&nbsp;&nbsp;&nbsp;<span style=\"background-color:blue\">HTML</span>\n",
    "<span style=\"background-color:orange\">XML</span>\n",
    "\n",
    "é _\"Segurança Pública com Cidadania\"_ e possui 31 caracteres.\n",
    "\n",
    "a) 77<br>\n",
    "b) 78<br>\n",
    "c) 79<br>\n",
    "<b>d) 80</b>\n",
    "\n",
    "**Dica**: Os repositórios estão marcados pela `tag` \n",
    "```html\n",
    "  <li class=\"dataset-item\">\n",
    "```"
   ]
  },
  {
   "cell_type": "code",
   "execution_count": 2,
   "metadata": {},
   "outputs": [
    {
     "name": "stdout",
     "output_type": "stream",
     "text": [
      "Status da requisição: 200\n"
     ]
    }
   ],
   "source": [
    "content = rq.get('http://www.dados.gov.br/dataset?q=seguranca')\n",
    "print('Status da requisição:',content.status_code)"
   ]
  },
  {
   "cell_type": "code",
   "execution_count": 3,
   "metadata": {},
   "outputs": [
    {
     "name": "stdout",
     "output_type": "stream",
     "text": [
      "Resposta: ['Indicadores sobre PRONASCI - Programa Nacional de Segurança Pública com Cidad... - Número Caracteres: 80']\n"
     ]
    }
   ],
   "source": [
    "soup = BeautifulSoup(content.text,'html.parser')\n",
    "\n",
    "conteudo = {}\n",
    "for search in soup('div', {'class':'dataset-content'}):\n",
    "    conteudo[search.find('a').text] = len(search.find('a').text)\n",
    "\n",
    "x = [str(k)+' - Número Caracteres: '+str(v) for (k,v) in conteudo.items() if (max(conteudo.values()) == v)]\n",
    "print('Resposta:',x)"
   ]
  },
  {
   "cell_type": "markdown",
   "metadata": {},
   "source": [
    "### Exercício 2) \n",
    "Quantos arquivos estão disponíveis para download nos repositórios listados na primeira página retornada pela requisição do exercício 1)?\n",
    "\n",
    "a) entre 30 e 35<br>\n",
    "<b>b) entre 100 e 105</b><br>\n",
    "c) entre 70 e 75<br>\n",
    "d) entre 80 e 90\n",
    "\n",
    "**Dica**: Você deve extrair a URL correspondente à página de cada repositório, fazer uma requisição a tais páginas e contar o número de arquivos listados em cada uma delas. Os arquivos estão marcados pela `tag` no HTML de cada repositório\n",
    "```html\n",
    "  <li class=\"resource-item\">\n",
    "```"
   ]
  },
  {
   "cell_type": "code",
   "execution_count": 4,
   "metadata": {},
   "outputs": [
    {
     "name": "stdout",
     "output_type": "stream",
     "text": [
      "Requisição: /dataset/mpog_seguranca_publica  -  Status: 200  -  Qtd de arquivos: 5\n",
      "Requisição: /dataset/seguranca-publica-com-cidadania  -  Status: 200  -  Qtd de arquivos: 2\n",
      "Requisição: /dataset/seguranca-publica  -  Status: 200  -  Qtd de arquivos: 4\n",
      "Requisição: /dataset/regioes-integradas-de-seguranca-publica  -  Status: 200  -  Qtd de arquivos: 3\n",
      "Requisição: /dataset/seminario-fronteiras-e-seguranca-nacional1  -  Status: 200  -  Qtd de arquivos: 1\n",
      "Requisição: /dataset/seminario-fronteiras-e-seguranca-nacional  -  Status: 200  -  Qtd de arquivos: 1\n",
      "Requisição: /dataset/seguranca-publica--editado  -  Status: 200  -  Qtd de arquivos: 4\n",
      "Requisição: /dataset/equipamentos-publicos-de-seguranca-alimentar-e-nutricional  -  Status: 200  -  Qtd de arquivos: 1\n",
      "Requisição: /dataset/municipios-com-conselho-municipal-de-seguranca-alimentar  -  Status: 200  -  Qtd de arquivos: 1\n",
      "Requisição: /dataset/diagnostico-da-juventude-seguranca-e-justica  -  Status: 200  -  Qtd de arquivos: 1\n",
      "Requisição: /dataset/forca-nacional-de-seguranca-publica  -  Status: 200  -  Qtd de arquivos: 8\n",
      "Requisição: /dataset/mapeamento-de-seguranca-alimentar-e-nutricional  -  Status: 200  -  Qtd de arquivos: 52\n",
      "Requisição: /dataset/aprimoramento-das-atividades-de-seguranca-publica  -  Status: 200  -  Qtd de arquivos: 4\n",
      "Requisição: /dataset/adequacao-de-unidades-de-seguranca-publica  -  Status: 200  -  Qtd de arquivos: 6\n",
      "Requisição: /dataset/a-opiniao-publica-e-a-seguranca-do-estado-2004  -  Status: 200  -  Qtd de arquivos: 1\n",
      "Requisição: /dataset/oppublica  -  Status: 200  -  Qtd de arquivos: 1\n",
      "Requisição: /dataset/pronasci-programa-nacional-de-seguranca-publica-com-cidadania  -  Status: 200  -  Qtd de arquivos: 2\n",
      "Requisição: /dataset/comunidades-terapeuticas-privado  -  Status: 200  -  Qtd de arquivos: 1\n",
      "Requisição: /dataset/ass-prev-2020-txt  -  Status: 200  -  Qtd de arquivos: 3\n",
      "Requisição: /dataset/ass_previo_out2018  -  Status: 200  -  Qtd de arquivos: 1\n",
      "\n",
      "Resposta: 102  arquivos\n"
     ]
    }
   ],
   "source": [
    "urls=[]\n",
    "for search in soup('div', {'class':'dataset-content'}):\n",
    "    urls.append(search.find('a').attrs['href'])\n",
    "\n",
    "#arquivos={}\n",
    "total = 0\n",
    "\n",
    "for i in urls:\n",
    "    pagina = rq.get('http://www.dados.gov.br/'+i)\n",
    "    soup_arquivo = BeautifulSoup(pagina.text,'html.parser')\n",
    "    \n",
    "    count = 0\n",
    "    for search in soup_arquivo.find_all('li', attrs={'class': 'resource-item'}):\n",
    "        #print(search('span', attrs={'class':'format-label'}))\n",
    "        count = count + 1\n",
    "        total = total + 1\n",
    "    \n",
    "    #arquivos[i] = count\n",
    "    \n",
    "    print('Requisição:',i,' - ','Status:',pagina.status_code,' - ','Qtd de arquivos:',count)\n",
    "    \n",
    "print()\n",
    "print('Resposta:',total,' arquivos')"
   ]
  },
  {
   "cell_type": "markdown",
   "metadata": {},
   "source": [
    "### Exercício 3)\n",
    "Repita o exercício 2), porém, contando apenas os aquivos de formato CSV que estão disponíveis para download. O total de arquivos CSV é:\n",
    "\n",
    "a) entre 20 e 25<br>\n",
    "b) entre 40 e 45<br>\n",
    "<b>c) entre 30 e 35</b><br>\n",
    "d) entre 50 e 55<br>"
   ]
  },
  {
   "cell_type": "code",
   "execution_count": 5,
   "metadata": {},
   "outputs": [
    {
     "name": "stdout",
     "output_type": "stream",
     "text": [
      "Requisição: /dataset/mpog_seguranca_publica  -  Status: 200  -  Qtd de arquivos CSV: 1\n",
      "Requisição: /dataset/seguranca-publica-com-cidadania  -  Status: 200  -  Qtd de arquivos CSV: 0\n",
      "Requisição: /dataset/seguranca-publica  -  Status: 200  -  Qtd de arquivos CSV: 0\n",
      "Requisição: /dataset/regioes-integradas-de-seguranca-publica  -  Status: 200  -  Qtd de arquivos CSV: 0\n",
      "Requisição: /dataset/seminario-fronteiras-e-seguranca-nacional1  -  Status: 200  -  Qtd de arquivos CSV: 0\n",
      "Requisição: /dataset/seminario-fronteiras-e-seguranca-nacional  -  Status: 200  -  Qtd de arquivos CSV: 0\n",
      "Requisição: /dataset/seguranca-publica--editado  -  Status: 200  -  Qtd de arquivos CSV: 0\n",
      "Requisição: /dataset/equipamentos-publicos-de-seguranca-alimentar-e-nutricional  -  Status: 200  -  Qtd de arquivos CSV: 0\n",
      "Requisição: /dataset/municipios-com-conselho-municipal-de-seguranca-alimentar  -  Status: 200  -  Qtd de arquivos CSV: 0\n",
      "Requisição: /dataset/diagnostico-da-juventude-seguranca-e-justica  -  Status: 200  -  Qtd de arquivos CSV: 1\n",
      "Requisição: /dataset/forca-nacional-de-seguranca-publica  -  Status: 200  -  Qtd de arquivos CSV: 0\n",
      "Requisição: /dataset/mapeamento-de-seguranca-alimentar-e-nutricional  -  Status: 200  -  Qtd de arquivos CSV: 29\n",
      "Requisição: /dataset/aprimoramento-das-atividades-de-seguranca-publica  -  Status: 200  -  Qtd de arquivos CSV: 0\n",
      "Requisição: /dataset/adequacao-de-unidades-de-seguranca-publica  -  Status: 200  -  Qtd de arquivos CSV: 0\n",
      "Requisição: /dataset/a-opiniao-publica-e-a-seguranca-do-estado-2004  -  Status: 200  -  Qtd de arquivos CSV: 0\n",
      "Requisição: /dataset/oppublica  -  Status: 200  -  Qtd de arquivos CSV: 0\n",
      "Requisição: /dataset/pronasci-programa-nacional-de-seguranca-publica-com-cidadania  -  Status: 200  -  Qtd de arquivos CSV: 0\n",
      "Requisição: /dataset/comunidades-terapeuticas-privado  -  Status: 200  -  Qtd de arquivos CSV: 0\n",
      "Requisição: /dataset/ass-prev-2020-txt  -  Status: 200  -  Qtd de arquivos CSV: 0\n",
      "Requisição: /dataset/ass_previo_out2018  -  Status: 200  -  Qtd de arquivos CSV: 0\n",
      "\n",
      "Resposta: 31  arquivos CSV\n"
     ]
    }
   ],
   "source": [
    "arquivos={}\n",
    "total = 0\n",
    "\n",
    "for i in urls:\n",
    "    pagina = rq.get('http://www.dados.gov.br/'+i)\n",
    "    soup_arquivo = BeautifulSoup(pagina.text,'html.parser')\n",
    "    \n",
    "    count = 0\n",
    "    for search in soup_arquivo.find_all('li', attrs={'class': 'resource-item'}):\n",
    "        if(search('span', attrs={'data-format':'csv'})):\n",
    "            count = count + 1\n",
    "            total = total + 1\n",
    "    \n",
    "    print('Requisição:',i,' - ','Status:',pagina.status_code,' - ','Qtd de arquivos CSV:',count)\n",
    "    \n",
    "print()\n",
    "print('Resposta:',total,' arquivos CSV')"
   ]
  },
  {
   "cell_type": "markdown",
   "metadata": {},
   "source": [
    "### Exercício 4) \n",
    "Um total de 11 páginas são retornadas como resultado da requisição realizada no exercício 1). Percorra os nomes dos repositórios em todas as 11 páginas e calcule quantos repositórios **não** possuem a palavra \"segurança\" como parte do nome. O número encontrado é:\n",
    "\n",
    "<b>a) entre 185 e 195</b><br>\n",
    "b) entre 170 e 175<br>\n",
    "c) entre 150 e 155<br>\n",
    "d) entre 75 e 80<br>\n",
    "\n",
    "\n",
    "**Obs:** A busca com a palavra \"seguranca\" é feita sem o ç, porém a busca nos nomes dos repositórios pela palavra \"segurança\" tem que ser feita com o ç. Não faça distinção entre letras maiúsculas ou minúsculas, ou seja, \"Segurança\" e \"segurança\" devem ser consideradas na contagem.\n",
    "\n",
    "**Dica:** Você consegue navegar pelas páginas enviando o parâmetro\n",
    "```python\n",
    "params={'page':pagina,'q': 'seguranca'}\n",
    "```\n",
    "para o comando <font color='blue'>get</font>, onde `pagina` é o número da página que se deseja buscar."
   ]
  },
  {
   "cell_type": "code",
   "execution_count": 36,
   "metadata": {},
   "outputs": [
    {
     "name": "stdout",
     "output_type": "stream",
     "text": [
      "Resposta: 190\n",
      "\n",
      "['comunidades terapêuticas', 'atos de assentimento prévio - 2020', 'atos de assentimento prévio – outubro de 2018', 'atos de assentimento prévio – setembro de 2018', 'plano de dados abertos do gsi - 2017-2018', 'plano de dados abertos do gsi  2017-2018', 'atos de assentimento prévio – dezembro de 2018', 'atos de assentimento prévio – maio/2019', 'atos de assentimento prévio – novembro de 2018', 'atos de assentimento prévio – abril/2019', 'postos e delegacias do departamento de polícia federal', 'atos de assentimento prévio - 2020', 'curso de pós-graduação - 2017 e 2018', 'atos de assentimento prévio - 2018', 'atos de assentimento prévio - janeiro a agosto de 2018', 'vii encontro nacional de estudos estratégicos – volume ii - 2007', 'vii encontro nacional de estudos estratégicos – volume i - 2007', 'plano de dados abertos - casa militar', 'postos campanha do desarmamento', 'vii encontro nacional de estudos estratégicos – volume ii', 'vii encontro nacional de estudos estratégicos – volume i', 'vii encontro nacional de estudos estratégicos – volume iii', 'registros de violência contra a mulher  no estado do rio grande do sul', 'vii encontro nacional de estudos estratégicos – volume iii - 2007', 'integração energética brasil-venezuela', 'tipos de infrações cometidas nas vias urbanas do distrito federal em 2018', 'indicadores sobre bolsa formação', 'anuário estatístico do estado de alagoas', 'a emergência da china e suas relações com a américa latina e áfrica', 'a emergência da china e suas relações com a américa e áfrica - 2011', 'postos e delegacias do departamento de polícia rodoviária federal', 'inventário de base de dados', 'recall - campanhas de chamamento', 'comunidades terapêuticas', 'lista de cartórios do brasil', 'diagnóstico dos municípios do estado do acre', 'diagnóstico do distrito federal', 'diagnóstico dos municípios do estado do piauí', 'diagnóstico dos municípios do estado de santa catarina', 'diagnóstico dos municípios do estado de rondônia', 'diagnóstico dos municípios do estado do amapá', 'diagnóstico dos municípios do estado de roraima', 'plano de dados abertos - ssp', 'estruturas da fundacentro', 'sistema multa - autuações de trânsito em rodovias federais', 'cadastro nacional de entidades sociais', 'resenha estatística do estado de alagoas', 'ocorrências criminais no estado do rio grande do sul', 'ocorrências criminais - sinesp', 'indicadores sobre protejo - projeto de proteção dos jovens em território vuln...', 'rol de informações classificadas de desclassificadas', 'tipos de infrações cometidas nas vias urbanas do distrito federal em 2019', 'número de habilitados nos distrito federal nos últimos 10 anos', 'sinalização vertical e horizontal por região administrativa nas vias urbanas ...', 'programa de análise de produtos (pap)', 'conflitos sociais na américa latina', 'a difusão de poder na economia globalizada', 'desaparecimento e localização de pessoas no distrito federal', 'pesquisa sobre tempo médio do processamento de homicídios', 'diagnóstico dos municípios do estado do mato grosso do sul', 'diagnóstico dos municípios do estado do amazonas', 'diagnóstico dos municípios do estado do paraná', 'diagnóstico dos municípios do estado do tocantis', 'diagnóstico dos municípios do estado de sergipe', 'diagnóstico dos municípios do estado do mato grosso', 'diagnóstico dos municípios do estado do rio grande do sul', 'sistema br-brasil - boletins de ocorrências em rodovias federais', 'gerenciamento de crises: modelos e inovação', 'operação de paz no haiti', 'encontro de estudos – terrorismo', 'ciclo de estudos sobre a amazônia', 'brasil-argentina: uma relação estratégica', 'organizações de formação - centro de instrução avsec - centros de instrução h...', 'encontro de estudos: terrorismo - 2006', 'encontro de estudos - mudanças climáticas', 'gerenciamento de crises: modelos e inovação - 2004', 'ciclo de estudos sobre a amazônia - 2004', 'operação de paz no haiti - 2005', 'brasil-argentina: uma relação estratégica', 'encontro de estudos - mudanças climáticas', 'fiscalização de barragens', 'comitê nacional para os refugiados', 'fiscalização de barragens', 'editais de seleção de servidores', 'encontro de estudos: terrorismo - 2003', 'encontro de estudos: terrorismo - 2003', 'editais de seleção de estagiários', 'violência contra a mulher no df', 'crimes de racismo e injúria racial no distrito federal', 'lista de terceirizados do ministério da justiça', 'debates públicos online', 'pesquisa sobre feminicídio', 'diagnóstico dos municípios do estado a paraíba', 'diagnóstico dos municípios do estado do maranhão', 'diagnóstico dos municípios do estado de são paulo', 'diagnóstico dos municípios do estado do ceará', 'diagnóstico dos municípios do estado do rio grande do norte', 'plano de dados abertos - cbmdf', 'cadastro de portos abrangidos pelo psp', 'estadias de embarcações abrangidas pelo psp', 'infopen - levantamento nacional de informações penitenciárias', 'perspectivas para a faixa de fronteira', 'desafios para a atividade de inteligência no século xxi', 'desafios para a atividade de inteligência no século xxi - 2004', 'cenários estratégicos para o brasil e seu potencial para a geração de crises', 'visão estratégica dos recursos do mar - 2005', 'seminário: perspectivas para a fronteira e seus anexos (2011)', 'centro de rereferencia da mulher  2011', 'centro de rereferencia da mulher  2010', 'centro de rereferencia da mulher  2009', 'anuário de indicadores do detran de alagoas', 'boletins da conjuntura criminal do estado de pernambuco', 'encontro de estudos – questão indígena - 2003', 'dados complementares de discentes', 'crimes violentos letais intencionais - cvli', 'crimes contra o patrimônio - ccp', 'ofta - amazônia', 'seminário crises na américa do sul: lições e perspectivas.', 'alianças estratégicas para o brasil: china e índia', 'alianças estratégicas para o brasil: china e índia', 'seminário crises na américa do sul: lições e perspectivas', 'observatório de fenômenos transnacionais nas américas - caderno amazônia', 'marinha do brasil - normas da autoridade marítima', 'sistema multa - autuações de trânsito em rodovias federais', 'diagnóstico dos municípios do estado do espírito santo', 'diagnóstico dos municípios do estado do pará', 'diagnóstico dos municípios do estado do alagoas', 'diagnóstico dos municípios do estado de goiás', 'violência contra a pessoa idosa - segundo a lei nº10.741/2003 \"estatuto do id...', 'incentivos fiscais portuários', 'faixa de fronteira: novos paradigmas', 'faixa de fronteira: novos paradigmas', 'encontro de estudos – questão indígena', 'órgãos estaduais', 'sistema inmetro de monitoramento de acidentes de consumo - sinmac', 'workshop - prevenção e combate ao terrorismo internacional', 'workshop - prevenção e combate ao terrorismo internacional', 'movimentos sociais: papel a desempenhar em uma democracia', 'a assim chamada “corrida armamentista” e os conflitos transnacionais na améri...', 'cenários estratégicos para o brasil e seu potencial para a geração de crises', 'encontro de estudos - visão estratégica dos recursos do mar', 'atos de assentimento prévio - 2017', 'peças, tabelas e fluxogramas padronizados de polícia judiciária', 'classificação indicativa - sistema classind', 'movimentos sociais: papel a desempenhar em uma democracia - 2004', 'atos de assentimento prévio - 2017', 'a assim chamada “corrida armamentista” e os conflitos transnacionais na améri...', 'conflitos sociais na américa latina: um estudo a partir das relações econômicas', 'sistema br-brasil - boletins de ocorrências em rodovias federais', 'iv diagnóstico defensoria pública', 'diagnóstico dos municípios do estado do rio de janeiro', '1ª reunião da comissão especial de organização da visita do papa ao brasil', 'diagnóstico dos municípios do estado da bahia', 'diagnóstico dos municípios do estado de minas gerais', 'diagnóstico dos municípios do estado do pernambuco', 'delegacias de polícia de maceió', 'benefícios básicos e variáveis - bolsa família - mi social', 'prestadores acreditados', 'anuário estatístico de acidentes de trabalho - aeat', 'atos de assentimento prévio - 2019', 'programa brasileiro de etiquetagem (pbe)', 'certificação e outorga - indicadores de qualidade de serviços', 'reunião de estudos - operações de paz', 'atos de assentimento prévio – 2019', 'atos de assentimento prévio de 2003 a 2016', 'reunião de estudos - operações de paz', 'a difusão de poder na economia globalizada: estados, empresas transnacionais ...', 'integração energética brasil-venezuela: um modelo que intensifica as mudanças...', 'procons', 'gestão da tecnologia da informação', 'indicadores sobre mulher e ciência', 'indicadores sobre defensoria pública da união', 'indicadores sobre assistência jurídica', 'cenipa - ocorrências aeronáuticas na aviação civil brasileira', 'aeronaves - drones cadastrados', 'dados georreferenciados - siturb/segeth', 'indicadores sobre terras indígenas homologadas', 'indicadores sobre estabelecimentos prisionais - aparelhamento e reaparelhamento', 'registro de objetos', 'bolsa família - mi social', 'bolsa família - mi social', 'dados consumidor.gov.br', 'dados sócio-econômicos de discentes', 'cadastro nacional de reclamações fundamentadas (procons - sindec)', 'atendimentos de consumidores nos procons (sindec)', 'mapas de caracterização territorial', 'programa universidade para todos - prouni', 'gestão de pessoas (executivo federal) - cargo de direção e assessoramento sup...', 'indicadores sobre reintegração social do preso/internado/egresso', 'indicadores sobre comissão da anistia - preservação da memória política do br...']\n"
     ]
    }
   ],
   "source": [
    "repo=[]\n",
    "for item in range(1,12,1):\n",
    "    paginas = rq.get('http://www.dados.gov.br/dataset?q=seguranca&page='+str(item))\n",
    "    soup = BeautifulSoup(paginas.text,'html.parser')\n",
    "    #print('Status:',paginas.status_code)\n",
    "    \n",
    "    for search in soup('h3', {'class':'dataset-heading'}):\n",
    "        repo.append((search.find('a').text).lower())\n",
    "    \n",
    "match = [val for val in repo if ('segurança' not in val) ]\n",
    "\n",
    "print('Resposta:',len(match))\n",
    "print()\n",
    "print(match)"
   ]
  },
  {
   "cell_type": "markdown",
   "metadata": {},
   "source": [
    "### Exercício 5) \n",
    "Os repositórios retornados pela requisição do exercício 1) podem trazer a informação sobre o \"Autor\" do repositório, ou seja, quem foi o criador do repositório. Percorra as 11 páginas retornadas da requisição do exercício 1) e, para todos os repositórios listados em cada página, verifique qual é o \"Autor\" que aparece mais frequentemente como criador dos repositórios. \n",
    "\n",
    "O \"Autor\" mais frequente é: \n",
    "\n",
    "<b>a) 'GSI' com aproximadamente 68 repositórios</b><br>\n",
    "b) 'SNJ' com aproximadamente 27 repositórios<br>\n",
    "c) 'Ministério da Justiça' com aproximadamente 16 repositórios<br>\n",
    "d) 'SNJ' com aproximadamente 76 repositórios<br>"
   ]
  },
  {
   "cell_type": "code",
   "execution_count": 88,
   "metadata": {},
   "outputs": [],
   "source": [
    "content = rq.get('http://www.dados.gov.br/dataset?q=seguranca')\n",
    "soup = BeautifulSoup(content.text,'html.parser')\n",
    "\n",
    "autor=[]\n",
    "for item in range(1,12,1):\n",
    "    paginas = rq.get('http://www.dados.gov.br/dataset?q=seguranca&page='+str(item))\n",
    "    soup = BeautifulSoup(paginas.text,'html.parser')\n",
    "    #print('Página ',item)\n",
    "    #print()\n",
    "    urls=[]\n",
    "    for search in soup('div', {'class':'dataset-content'}):\n",
    "        urls.append(search.find('a').attrs['href'])\n",
    "    \n",
    "    for i in urls:\n",
    "        #print()\n",
    "        #print('Documento:',i)\n",
    "        pagina = rq.get('http://www.dados.gov.br/'+i)\n",
    "        soup_autor = BeautifulSoup(pagina.text,'html.parser')\n",
    "    \n",
    "        for search in soup_autor.find_all('tr'):\n",
    "            if('Autor' in search.text):\n",
    "                #autor.append((search.find('td', attrs={'property':'dc:creator'}).text).upper()) # neste caso deu erro, pois nas fontes que não tinham autor, também não havia a propriedade dc:creator\n",
    "                #autor.append((search.find('td').text).upper()) #se converter tudo pra maiúsculo, vai perceber que temos um dos autores como GSi e não entra na contagem.\n",
    "                autor.append((search.find('td').text))"
   ]
  },
  {
   "cell_type": "code",
   "execution_count": 91,
   "metadata": {},
   "outputs": [
    {
     "data": {
      "text/plain": [
       "GSI                                                                                                                                  68\n",
       "SNJ                                                                                                                                  27\n",
       "Gabinete do Ministro - (MJ/GABMIN)                                                                                                   13\n",
       "Regimar F Campos                                                                                                                      7\n",
       "Ministério da Justiça                                                                                                                 6\n",
       "Departamento de Polícia Rodoviária Federal                                                                                            5\n",
       "Secretaria Nacional do Consumidor - Senacon/MJ                                                                                        4\n",
       "Secretaria Nacional de Renda e Cidadania / Secretaria de Avaliação e Gestão da Informação                                             3\n",
       "Renata Barreto Preturlan                                                                                                              3\n",
       "Departamento de Gestão e Modernização Portuária, Segurança e Saúde                                                                    3\n",
       "Moisés Paes Landim Plácido                                                                                                            3\n",
       "Secretaria de Estado do Planejamento e do Desenvolvimento Econômico de Alagoas                                                        2\n",
       "Secretaria de Segurança Pública do Rio Grande do Sul - SSP/RS                                                                         2\n",
       "Secretaria de Estado do Planejamento, Gestão e Patrimônio / Superintendência de Produção da Informação e do Conhecimento              2\n",
       "Suporte - UFRN                                                                                                                        2\n",
       "FUNDACENTRO                                                                                                                           1\n",
       "UFMG; SRJ                                                                                                                             1\n",
       "Gabinete de Segurança Institucional                                                                                                   1\n",
       "Diretoria de Políticas e Programas de Graduação (DIPES) e Secretaria de Educação Superior (SESu) do Ministério da Educação (MEC)      1\n",
       "Diretoria de Políticas e Programas de Graduação (DIPES) da Secretaria de Educação Superior (SESu) do Ministério da Educação (MEC)     1\n",
       "Gerência Técnica de Normas Operacionais - GTNO                                                                                        1\n",
       "SEGETH                                                                                                                                1\n",
       "Diretoria de Desenvolvimento Setorial - DIDES                                                                                         1\n",
       "Kécio da Silva Rabelo                                                                                                                 1\n",
       "Secretaria de Estado da Defesa Social/Núcleo de estatística e análise criminal                                                        1\n",
       "CGPG                                                                                                                                  1\n",
       "Ministério da Previdência Social - MPS                                                                                                1\n",
       "FGV; SRJ                                                                                                                              1\n",
       "GERÊNCIA DE QUALIDADE DE SERVIÇOS (GQES/SRA)                                                                                          1\n",
       "Secretaria de Estado da Defesa Social de Alagoas / Secretaria de Estado do Planejamento e do Desenvolvimento Econômico de Alagoas     1\n",
       "Darlan Aragão Mesquita                                                                                                                1\n",
       "Divig                                                                                                                                 1\n",
       "​GSAC GERÊNCIA DE SEGURANÇA DA AVIAÇÃO CIVIL CONTRA ATOS DE INTERFERÊNCIA ILÍCITA                                                     1\n",
       "Ministério da Justiça e Segurança Pública                                                                                             1\n",
       "Departamento Estado de Trânsito de Alagoas                                                                                            1\n",
       "Departamento Penitenciário Nacional e Fórum Brasileiro de Segurança Pública                                                           1\n",
       "SESAN -Secretaria Nacional de Segurança Alimentar e Nutricional                                                                       1\n",
       "Coordenação-Geral de Gestão do Portfólio de Projetos (CGGPP)/Secretaria de Gestão de Pessoas (SGP)                                    1\n",
       "Centro de Investigação e Prevenção de Acidentes Aeronáuticos                                                                          1\n",
       "Gabinete do Ministro - (PR_SPM/GABMIN)                                                                                                1\n",
       "Divet                                                                                                                                 1\n",
       "Diretoria de Avaliação da Conformidade (DCONF)                                                                                        1\n",
       "Secretaria de Reforma do Judiciário                                                                                                   1\n",
       "Coordenação de Classificação Indicativa                                                                                               1\n",
       "GSi                                                                                                                                   1\n",
       "Secretaria Nacional de Segurança Pública                                                                                              1\n",
       "Ernesto Batista da Silva Filho                                                                                                        1\n",
       "Secretaria Executiva - (MI/SE)                                                                                                        1\n",
       "Ernesto Batista da Silva  Filho                                                                                                       1\n",
       "Departamento de Polícia Federal/MJ                                                                                                    1\n",
       "Secretaria de Defesa Social do estado de Pernambuco                                                                                   1\n",
       "Senasp                                                                                                                                1\n",
       "Name: Autor, dtype: int64"
      ]
     },
     "execution_count": 91,
     "metadata": {},
     "output_type": "execute_result"
    }
   ],
   "source": [
    "import pandas as pd\n",
    "data = pd.DataFrame(autor,columns=['Autor'])\n",
    "\n",
    "data['Autor'].value_counts()"
   ]
  },
  {
   "cell_type": "code",
   "execution_count": null,
   "metadata": {},
   "outputs": [],
   "source": []
  }
 ],
 "metadata": {
  "kernelspec": {
   "display_name": "Python 3",
   "language": "python",
   "name": "python3"
  },
  "language_info": {
   "codemirror_mode": {
    "name": "ipython",
    "version": 3
   },
   "file_extension": ".py",
   "mimetype": "text/x-python",
   "name": "python",
   "nbconvert_exporter": "python",
   "pygments_lexer": "ipython3",
   "version": "3.7.6"
  }
 },
 "nbformat": 4,
 "nbformat_minor": 2
}
