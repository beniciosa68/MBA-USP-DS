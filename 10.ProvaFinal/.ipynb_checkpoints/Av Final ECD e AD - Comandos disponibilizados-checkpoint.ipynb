{
 "cells": [
  {
   "cell_type": "markdown",
   "metadata": {
    "id": "eEOkU2X8Xdju"
   },
   "source": [
    "Para a questão de **Estatística para Ciências de Dados** e **Aprendizado Dinâmico**, sugerem-se alguns comandos e passos em Python a seguir. Outros comandos podem ser usados conforme a necessidade.\n",
    "\n",
    "**Algumas instruções**\n",
    "\n",
    "- Salve este arquivo .ipynb e os dados indicados no enunciado da sua questão no moodle na mesma pasta na sua máquina local.\n",
    "\n",
    "- Responda às questões no moodle com base nos resultados obtidos nas suas análises. \n",
    "\n",
    "- Você deverá fazer o upload do arquivo de notebook .ipynb para conferência posterior, nos casos em que as correções automatizadas configuradas no sistema não levem em consideração diferentes versões do mesmo método estatístico implementadas em Python.\n",
    "\n",
    "Boa prova!\n",
    "\n",
    "Mariana e Cibele"
   ]
  },
  {
   "cell_type": "code",
   "execution_count": 1,
   "metadata": {
    "id": "3A-3qHcHXdjz"
   },
   "outputs": [],
   "source": [
    "# Instale os pacotes abaixo nas versões indicadas\n",
    "\n",
    "#!pip install statsmodels==0.11.1\n",
    "#!pip install scipy==1.4.1\n",
    "#!pip install pmdarima==1.7.1"
   ]
  },
  {
   "cell_type": "code",
   "execution_count": 2,
   "metadata": {
    "id": "oa8Auv36Xdj1"
   },
   "outputs": [],
   "source": [
    "# Carregue as bibliotecas \n",
    "\n",
    "import pandas as pd\n",
    "import numpy as np\n",
    "\n",
    "from sklearn.metrics import mean_squared_error\n",
    "\n",
    "from scipy import stats\n",
    "\n",
    "import matplotlib.pyplot as plt\n",
    "%matplotlib inline\n",
    "\n",
    "from statsmodels.formula.api import ols\n",
    "\n",
    "import statsmodels as sm\n",
    "import matplotlib.pyplot as plt\n",
    "from statsmodels.tsa.arima_process import arma_generate_sample\n",
    "from statsmodels.tsa.arima_model import ARMA\n",
    "from statsmodels.tsa.statespace.sarimax import SARIMAX\n",
    "from statsmodels.graphics.tsaplots import plot_acf,plot_pacf\n",
    "from statsmodels.tools.eval_measures import rmse\n",
    "\n",
    "from pmdarima import auto_arima\n",
    "\n",
    "import seaborn as sns"
   ]
  },
  {
   "cell_type": "markdown",
   "metadata": {
    "id": "7Gkp5xaXXdj2"
   },
   "source": [
    "**Baixe os dados indicados no link indicado no enunciado da sua questão no moodle e salve como 'dados.csv'**\n",
    "\n",
    "As variáveis da base de dados são\n",
    "\n",
    "Y: produção mensal de grãos (toneladas)\n",
    "\n",
    "X: tempo desde o início do registro (meses)\n",
    "\n",
    "D: 0, se a observação faz parte das 10 primeiras décadas e 1 se faz parte das 10 últimas décadas "
   ]
  },
  {
   "cell_type": "code",
   "execution_count": 3,
   "metadata": {
    "id": "lmDUUfkR8axd"
   },
   "outputs": [
    {
     "data": {
      "text/html": [
       "<div>\n",
       "<style scoped>\n",
       "    .dataframe tbody tr th:only-of-type {\n",
       "        vertical-align: middle;\n",
       "    }\n",
       "\n",
       "    .dataframe tbody tr th {\n",
       "        vertical-align: top;\n",
       "    }\n",
       "\n",
       "    .dataframe thead th {\n",
       "        text-align: right;\n",
       "    }\n",
       "</style>\n",
       "<table border=\"1\" class=\"dataframe\">\n",
       "  <thead>\n",
       "    <tr style=\"text-align: right;\">\n",
       "      <th></th>\n",
       "      <th>X</th>\n",
       "      <th>Y</th>\n",
       "      <th>D</th>\n",
       "    </tr>\n",
       "  </thead>\n",
       "  <tbody>\n",
       "    <tr>\n",
       "      <th>1980-01-31</th>\n",
       "      <td>0.0</td>\n",
       "      <td>0.572232</td>\n",
       "      <td>0.0</td>\n",
       "    </tr>\n",
       "    <tr>\n",
       "      <th>1980-02-29</th>\n",
       "      <td>1.0</td>\n",
       "      <td>2.425839</td>\n",
       "      <td>0.0</td>\n",
       "    </tr>\n",
       "    <tr>\n",
       "      <th>1980-03-31</th>\n",
       "      <td>2.0</td>\n",
       "      <td>3.847004</td>\n",
       "      <td>0.0</td>\n",
       "    </tr>\n",
       "    <tr>\n",
       "      <th>1980-04-30</th>\n",
       "      <td>3.0</td>\n",
       "      <td>2.933853</td>\n",
       "      <td>0.0</td>\n",
       "    </tr>\n",
       "    <tr>\n",
       "      <th>1980-05-31</th>\n",
       "      <td>4.0</td>\n",
       "      <td>7.916690</td>\n",
       "      <td>0.0</td>\n",
       "    </tr>\n",
       "  </tbody>\n",
       "</table>\n",
       "</div>"
      ],
      "text/plain": [
       "              X         Y    D\n",
       "1980-01-31  0.0  0.572232  0.0\n",
       "1980-02-29  1.0  2.425839  0.0\n",
       "1980-03-31  2.0  3.847004  0.0\n",
       "1980-04-30  3.0  2.933853  0.0\n",
       "1980-05-31  4.0  7.916690  0.0"
      ]
     },
     "execution_count": 3,
     "metadata": {},
     "output_type": "execute_result"
    }
   ],
   "source": [
    "dados = pd.read_csv('dados.csv',index_col=0)\n",
    "dados.head()"
   ]
  },
  {
   "cell_type": "code",
   "execution_count": 4,
   "metadata": {
    "id": "H1i-P1CjXdj3"
   },
   "outputs": [
    {
     "data": {
      "text/plain": [
       "<matplotlib.axes._subplots.AxesSubplot at 0x232cf343370>"
      ]
     },
     "execution_count": 4,
     "metadata": {},
     "output_type": "execute_result"
    },
    {
     "data": {
      "image/png": "[encoded data removed]",
      "text/plain": [
       "<Figure size 432x288 with 1 Axes>"
      ]
     },
     "metadata": {
      "needs_background": "light"
     },
     "output_type": "display_data"
    }
   ],
   "source": [
    "dados.plot.scatter('X','Y')"
   ]
  },
  {
   "cell_type": "code",
   "execution_count": 31,
   "metadata": {},
   "outputs": [
    {
     "name": "stdout",
     "output_type": "stream",
     "text": [
      "D\n",
      "0.0     66.435591\n",
      "1.0    198.331314\n",
      "Name: Y, dtype: float64\n",
      "\n",
      "...10 últimas décadas detectou um aumento importante da produção, com média mensal de 66.43559135753982 toneladas\n",
      "...para a década de 80, e  198.331313924806 toneladas, para a década de 90 (teste t de Student para amostras independentes, supondo-se variâncias equivalentes: p-valor<0,001)\n"
     ]
    }
   ],
   "source": [
    "#média agrupada por anos\n",
    "print(dados.groupby('D')['Y'].mean())\n",
    "print()\n",
    "print('...10 últimas décadas detectou um aumento importante da produção, com média mensal de',dados.groupby('D')['Y'].mean()[0],'toneladas')\n",
    "print('...para a década de 80, e ',dados.groupby('D')['Y'].mean()[1],'toneladas, para a década de 90 (teste t de Student para amostras independentes, supondo-se variâncias equivalentes: p-valor<0,001)')"
   ]
  },
  {
   "cell_type": "markdown",
   "metadata": {
    "id": "BbcxpWDErVDy"
   },
   "source": [
    "**Teste t de Student (bicaudal) para média de duas populações Normais com variâncias diferentes.**\n",
    "\n",
    "**Comando sugerido: stats.ttest_ind**\n",
    "\n",
    "**A variável D indica se a observação faz parte das 10 primeiras ou 10 últimas décadas.**"
   ]
  },
  {
   "cell_type": "code",
   "execution_count": 28,
   "metadata": {
    "id": "yzyCJV7vXdj5"
   },
   "outputs": [
    {
     "name": "stdout",
     "output_type": "stream",
     "text": [
      "estatistica -26.701300043027956\n",
      "p-valor: 1.5364677796402854e-73\n"
     ]
    }
   ],
   "source": [
    "tst_stat, tst_p = stats.ttest_ind(dados[dados['D']==0]['Y'],dados[dados['D']==1]['Y'])\n",
    "\n",
    "print('estatistica',tst_stat)\n",
    "print('p-valor:',tst_p)"
   ]
  },
  {
   "cell_type": "markdown",
   "metadata": {
    "id": "dWkecIa-rak1"
   },
   "source": [
    "**Teste de Levene**\n",
    "\n",
    "**Comando sugerido: stats.levene**"
   ]
  },
  {
   "cell_type": "code",
   "execution_count": 29,
   "metadata": {
    "id": "flWe6_lTXdj6"
   },
   "outputs": [
    {
     "name": "stdout",
     "output_type": "stream",
     "text": [
      "Resultado: 0.8788840646705208\n",
      "Não existe grande diferença na variância.\n",
      "\n",
      "...em ambas as décadas (teste de Levene: p-valor= 0.8788840646705208\n"
     ]
    }
   ],
   "source": [
    "lv_stat, lv_p = stats.levene(dados[dados['D']==0]['Y'],dados[dados['D']==1]['Y'])\n",
    "lv_res = 'Não existe grande diferença na variância.' if lv_p > 0.05 else 'Existe diferença na variância.'\n",
    "print('Resultado:',lv_p)\n",
    "print(lv_res)\n",
    "print()\n",
    "print('...em ambas as décadas (teste de Levene: p-valor=',lv_p)"
   ]
  },
  {
   "cell_type": "markdown",
   "metadata": {
    "id": "TBIREd5ArfJA"
   },
   "source": [
    "**Ajuste o modelo de regressão linear simples** \n",
    "\n",
    "**Comando sugerido: ols**"
   ]
  },
  {
   "cell_type": "code",
   "execution_count": 10,
   "metadata": {
    "id": "w7QEllaDXdj8"
   },
   "outputs": [
    {
     "name": "stdout",
     "output_type": "stream",
     "text": [
      "                            OLS Regression Results                            \n",
      "==============================================================================\n",
      "Dep. Variable:                      Y   R-squared:                       0.999\n",
      "Model:                            OLS   Adj. R-squared:                  0.999\n",
      "Method:                 Least Squares   F-statistic:                 4.638e+05\n",
      "Date:                Sat, 12 Dec 2020   Prob (F-statistic):               0.00\n",
      "Time:                        15:57:13   Log-Likelihood:                -471.40\n",
      "No. Observations:                 240   AIC:                             946.8\n",
      "Df Residuals:                     238   BIC:                             953.8\n",
      "Df Model:                           1                                         \n",
      "Covariance Type:            nonrobust                                         \n",
      "==============================================================================\n",
      "                 coef    std err          t      P>|t|      [0.025      0.975]\n",
      "------------------------------------------------------------------------------\n",
      "Intercept      1.0459      0.223      4.692      0.000       0.607       1.485\n",
      "X              1.0991      0.002    680.995      0.000       1.096       1.102\n",
      "==============================================================================\n",
      "Omnibus:                        4.141   Durbin-Watson:                   1.156\n",
      "Prob(Omnibus):                  0.126   Jarque-Bera (JB):                5.269\n",
      "Skew:                           0.022   Prob(JB):                       0.0718\n",
      "Kurtosis:                       3.725   Cond. No.                         275.\n",
      "==============================================================================\n",
      "\n",
      "Warnings:\n",
      "[1] Standard Errors assume that the covariance matrix of the errors is correctly specified.\n"
     ]
    }
   ],
   "source": [
    "mod = ols('Y ~ X',data=dados)\n",
    "res = mod.fit()\n",
    "print(res.summary())"
   ]
  },
  {
   "cell_type": "code",
   "execution_count": 39,
   "metadata": {},
   "outputs": [
    {
     "name": "stdout",
     "output_type": "stream",
     "text": [
      "Para a equação pegar os coeficientes do intercepto do modelo OLS e do coeficiente do valor de X\n",
      "y.chapeu = 1.05+1.10x.\n"
     ]
    }
   ],
   "source": [
    "print('Para a equação pegar os coeficientes do intercepto do modelo OLS e do coeficiente do valor de X')\n",
    "print('y.chapeu = 1.05+1.10x.')"
   ]
  },
  {
   "cell_type": "code",
   "execution_count": 45,
   "metadata": {},
   "outputs": [
    {
     "name": "stdout",
     "output_type": "stream",
     "text": [
      "Resumidamente, pode-se dizer que houve um aumento de aproximadamente 9.909999999999997 %\n"
     ]
    }
   ],
   "source": [
    "aumento = 1.0991 - 1\n",
    "print('Resumidamente, pode-se dizer que houve um aumento de aproximadamente', aumento * 100, '%')"
   ]
  },
  {
   "cell_type": "code",
   "execution_count": 11,
   "metadata": {
    "id": "-iTtq5MOXdj8"
   },
   "outputs": [],
   "source": [
    "# Calcule os valores preditos de E(Y)\n",
    "ypred=res.fittedvalues\n",
    "\n",
    "# Obtenha o resíduo = observado-ajustado\n",
    "residuo = res.resid\n",
    "\n",
    "dados['residuo'] = residuo"
   ]
  },
  {
   "cell_type": "code",
   "execution_count": 84,
   "metadata": {},
   "outputs": [
    {
     "name": "stdout",
     "output_type": "stream",
     "text": [
      "Valor previsto na equação: 119.88181818181815\n",
      "Buscando o mês previsto no dataframe: 1990-01-31\n",
      "Por exemplo, no mês de janeiro de 1990, a produção predita é de 132,92 toneladas\n"
     ]
    }
   ],
   "source": [
    "mes = (132.92 - 1.05)/1.10\n",
    "print('Valor previsto na equação:', mes)\n",
    "print('Buscando o mês previsto no dataframe:',dados.index[120])\n",
    "print('Por exemplo, no mês de janeiro de 1990, a produção predita é de 132,92 toneladas')"
   ]
  },
  {
   "cell_type": "code",
   "execution_count": 87,
   "metadata": {},
   "outputs": [
    {
     "name": "stdout",
     "output_type": "stream",
     "text": [
      "...o que pode ser evidenciado pelo gráfico de resíduos abaixo:\n"
     ]
    }
   ],
   "source": [
    "print('...o que pode ser evidenciado pelo gráfico de resíduos abaixo:')"
   ]
  },
  {
   "cell_type": "code",
   "execution_count": 12,
   "metadata": {
    "id": "dmj-5ayVXdj9"
   },
   "outputs": [
    {
     "data": {
      "text/plain": [
       "<matplotlib.collections.LineCollection at 0x232cfc602e0>"
      ]
     },
     "execution_count": 12,
     "metadata": {},
     "output_type": "execute_result"
    },
    {
     "data": {
      "image/png": "[encoded data removed]",
      "text/plain": [
       "<Figure size 432x288 with 1 Axes>"
      ]
     },
     "metadata": {
      "needs_background": "light"
     },
     "output_type": "display_data"
    }
   ],
   "source": [
    "plt.scatter(ypred, residuo)\n",
    "plt.xlabel('$\\hat{y}$')\n",
    "plt.ylabel('$y-\\hat{y}$')\n",
    "plt.hlines(0,xmin=min(ypred),xmax=max(ypred),color='gray')"
   ]
  },
  {
   "cell_type": "code",
   "execution_count": 88,
   "metadata": {},
   "outputs": [
    {
     "name": "stdout",
     "output_type": "stream",
     "text": [
      "...sugere a existência de correlação...\n"
     ]
    }
   ],
   "source": [
    "print('...sugere a existência de correlação...')"
   ]
  },
  {
   "cell_type": "markdown",
   "metadata": {
    "id": "Ifd96PlirCIC"
   },
   "source": [
    "**Verifique a suposição de distribuição Normal dos resíduos**\n",
    "\n",
    "**Comando sugerido: stats.probplot**"
   ]
  },
  {
   "cell_type": "code",
   "execution_count": 18,
   "metadata": {
    "id": "gGxfBpvEXdj-"
   },
   "outputs": [
    {
     "data": {
      "image/png": "[encoded data removed]",
      "text/plain": [
       "<Figure size 432x288 with 1 Axes>"
      ]
     },
     "metadata": {
      "needs_background": "light"
     },
     "output_type": "display_data"
    },
    {
     "name": "stdout",
     "output_type": "stream",
     "text": [
      "Index(['1982-09-30', '1982-10-31', '1982-11-30', '1983-01-31', '1983-05-31',\n",
      "       '1983-07-31', '1983-08-31', '1983-11-30', '1985-08-31', '1985-09-30',\n",
      "       '1985-10-31', '1988-06-30', '1990-01-31', '1990-02-28', '1990-11-30',\n",
      "       '1990-12-31', '1994-07-31', '1994-08-31', '1994-09-30', '1995-09-30',\n",
      "       '1995-10-31', '1997-01-31', '1997-02-28', '1997-03-31', '1997-05-31',\n",
      "       '1998-08-31', '1999-04-30', '1999-05-31', '1999-09-30'],\n",
      "      dtype='object') Index(['1980-05-31', '1980-11-30', '1981-11-30', '1981-12-31', '1985-01-31',\n",
      "       '1986-11-30', '1987-02-28', '1987-10-31', '1989-05-31', '1991-08-31',\n",
      "       '1992-01-31', '1992-08-31', '1993-10-31', '1994-01-31', '1994-03-31',\n",
      "       '1995-05-31', '1995-06-30', '1996-07-31', '1996-08-31', '1997-12-31',\n",
      "       '1998-02-28'],\n",
      "      dtype='object')\n"
     ]
    }
   ],
   "source": [
    "# diagnóstico de normalidade\n",
    "stats.probplot(dados['residuo'], plot=plt)\n",
    "plt.xlabel('quantis teóricos')\n",
    "plt.ylabel('resíduos ordenados')\n",
    "plt.show()\n",
    "print(dados.index[dados['residuo']<-2],dados.index[dados['residuo']>2])"
   ]
  },
  {
   "cell_type": "markdown",
   "metadata": {
    "id": "HEIORtNGrHVR"
   },
   "source": [
    "**Verifique os gráficos de autocorrelação e autocorrelação parcial dos resíduos.** \n",
    "\n",
    "**Comandos sugeridos: plot_acf e plot_pacf**"
   ]
  },
  {
   "cell_type": "code",
   "execution_count": 19,
   "metadata": {
    "id": "-Eo05wLfXdj_"
   },
   "outputs": [
    {
     "data": {
      "image/png": "[encoded data removed]",
      "text/plain": [
       "<Figure size 432x288 with 1 Axes>"
      ]
     },
     "metadata": {
      "needs_background": "light"
     },
     "output_type": "display_data"
    },
    {
     "data": {
      "image/png": "[encoded data removed]",
      "text/plain": [
       "<Figure size 432x288 with 1 Axes>"
      ]
     },
     "metadata": {
      "needs_background": "light"
     },
     "output_type": "display_data"
    }
   ],
   "source": [
    "lags=20\n",
    "plot_acf(dados['residuo'],lags=lags);\n",
    "plot_pacf(dados['residuo'],lags=lags);"
   ]
  },
  {
   "cell_type": "markdown",
   "metadata": {
    "id": "ZRHZ9NNMrP8Y"
   },
   "source": [
    "**Indique qual a ordem mais adequada de um modelo ARIMA(p,d,q) para os resíduos.**\n",
    "\n",
    "**Use a função auto_arima e stepwise, como feito em aula.**"
   ]
  },
  {
   "cell_type": "code",
   "execution_count": 90,
   "metadata": {
    "id": "4YfchTKsXdkA"
   },
   "outputs": [
    {
     "name": "stderr",
     "output_type": "stream",
     "text": [
      "D:\\ProgramData\\Anaconda3\\lib\\site-packages\\statsmodels\\tsa\\statespace\\sarimax.py:963: UserWarning: Non-stationary starting autoregressive parameters found. Using zeros as starting parameters.\n",
      "  warn('Non-stationary starting autoregressive parameters'\n",
      "D:\\ProgramData\\Anaconda3\\lib\\site-packages\\statsmodels\\tsa\\statespace\\sarimax.py:975: UserWarning: Non-invertible starting MA parameters found. Using zeros as starting parameters.\n",
      "  warn('Non-invertible starting MA parameters found.'\n",
      "D:\\ProgramData\\Anaconda3\\lib\\site-packages\\statsmodels\\tsa\\statespace\\sarimax.py:963: UserWarning: Non-stationary starting autoregressive parameters found. Using zeros as starting parameters.\n",
      "  warn('Non-stationary starting autoregressive parameters'\n",
      "D:\\ProgramData\\Anaconda3\\lib\\site-packages\\statsmodels\\tsa\\statespace\\sarimax.py:975: UserWarning: Non-invertible starting MA parameters found. Using zeros as starting parameters.\n",
      "  warn('Non-invertible starting MA parameters found.'\n"
     ]
    },
    {
     "name": "stdout",
     "output_type": "stream",
     "text": [
      "Performing stepwise search to minimize aic\n",
      " ARIMA(0,0,0)(1,0,1)[12] intercept   : AIC=949.259, Time=0.81 sec\n",
      " ARIMA(0,0,0)(0,0,0)[12] intercept   : AIC=946.792, Time=0.03 sec\n",
      " ARIMA(1,0,0)(1,0,0)[12] intercept   : AIC=904.134, Time=0.39 sec\n",
      " ARIMA(0,0,1)(0,0,1)[12] intercept   : AIC=915.910, Time=0.62 sec\n",
      " ARIMA(0,0,0)(0,0,0)[12]             : AIC=944.792, Time=0.02 sec\n",
      " ARIMA(1,0,0)(0,0,0)[12] intercept   : AIC=902.206, Time=0.11 sec\n",
      " ARIMA(1,0,0)(0,0,1)[12] intercept   : AIC=904.134, Time=0.29 sec\n",
      " ARIMA(1,0,0)(1,0,1)[12] intercept   : AIC=906.134, Time=0.66 sec\n",
      " ARIMA(2,0,0)(0,0,0)[12] intercept   : AIC=903.081, Time=0.11 sec\n",
      " ARIMA(1,0,1)(0,0,0)[12] intercept   : AIC=903.450, Time=0.18 sec\n",
      " ARIMA(0,0,1)(0,0,0)[12] intercept   : AIC=913.971, Time=0.11 sec\n"
     ]
    },
    {
     "name": "stderr",
     "output_type": "stream",
     "text": [
      "D:\\ProgramData\\Anaconda3\\lib\\site-packages\\statsmodels\\tsa\\statespace\\sarimax.py:963: UserWarning: Non-stationary starting autoregressive parameters found. Using zeros as starting parameters.\n",
      "  warn('Non-stationary starting autoregressive parameters'\n",
      "D:\\ProgramData\\Anaconda3\\lib\\site-packages\\statsmodels\\tsa\\statespace\\sarimax.py:975: UserWarning: Non-invertible starting MA parameters found. Using zeros as starting parameters.\n",
      "  warn('Non-invertible starting MA parameters found.'\n"
     ]
    },
    {
     "name": "stdout",
     "output_type": "stream",
     "text": [
      " ARIMA(2,0,1)(0,0,0)[12] intercept   : AIC=903.608, Time=0.34 sec\n",
      " ARIMA(1,0,0)(0,0,0)[12]             : AIC=900.207, Time=0.04 sec\n",
      " ARIMA(1,0,0)(1,0,0)[12]             : AIC=902.134, Time=0.13 sec\n",
      " ARIMA(1,0,0)(0,0,1)[12]             : AIC=902.135, Time=0.17 sec\n",
      " ARIMA(1,0,0)(1,0,1)[12]             : AIC=904.134, Time=0.58 sec\n",
      " ARIMA(2,0,0)(0,0,0)[12]             : AIC=901.082, Time=0.07 sec\n",
      " ARIMA(1,0,1)(0,0,0)[12]             : AIC=901.450, Time=0.11 sec\n",
      " ARIMA(0,0,1)(0,0,0)[12]             : AIC=911.971, Time=0.06 sec\n"
     ]
    },
    {
     "name": "stderr",
     "output_type": "stream",
     "text": [
      "D:\\ProgramData\\Anaconda3\\lib\\site-packages\\statsmodels\\tsa\\statespace\\sarimax.py:963: UserWarning: Non-stationary starting autoregressive parameters found. Using zeros as starting parameters.\n",
      "  warn('Non-stationary starting autoregressive parameters'\n",
      "D:\\ProgramData\\Anaconda3\\lib\\site-packages\\statsmodels\\tsa\\statespace\\sarimax.py:975: UserWarning: Non-invertible starting MA parameters found. Using zeros as starting parameters.\n",
      "  warn('Non-invertible starting MA parameters found.'\n"
     ]
    },
    {
     "name": "stdout",
     "output_type": "stream",
     "text": [
      " ARIMA(2,0,1)(0,0,0)[12]             : AIC=901.608, Time=0.26 sec\n",
      "\n",
      "Best model:  ARIMA(1,0,0)(0,0,0)[12]          \n",
      "Total fit time: 5.159 seconds\n"
     ]
    },
    {
     "data": {
      "text/html": [
       "<table class=\"simpletable\">\n",
       "<caption>SARIMAX Results</caption>\n",
       "<tr>\n",
       "  <th>Dep. Variable:</th>           <td>y</td>        <th>  No. Observations:  </th>    <td>240</td>  \n",
       "</tr>\n",
       "<tr>\n",
       "  <th>Model:</th>           <td>SARIMAX(1, 0, 0)</td> <th>  Log Likelihood     </th> <td>-448.103</td>\n",
       "</tr>\n",
       "<tr>\n",
       "  <th>Date:</th>            <td>Sat, 12 Dec 2020</td> <th>  AIC                </th>  <td>900.207</td>\n",
       "</tr>\n",
       "<tr>\n",
       "  <th>Time:</th>                <td>16:55:28</td>     <th>  BIC                </th>  <td>907.168</td>\n",
       "</tr>\n",
       "<tr>\n",
       "  <th>Sample:</th>                  <td>0</td>        <th>  HQIC               </th>  <td>903.012</td>\n",
       "</tr>\n",
       "<tr>\n",
       "  <th></th>                      <td> - 240</td>      <th>                     </th>     <td> </td>   \n",
       "</tr>\n",
       "<tr>\n",
       "  <th>Covariance Type:</th>        <td>opg</td>       <th>                     </th>     <td> </td>   \n",
       "</tr>\n",
       "</table>\n",
       "<table class=\"simpletable\">\n",
       "<tr>\n",
       "     <td></td>       <th>coef</th>     <th>std err</th>      <th>z</th>      <th>P>|z|</th>  <th>[0.025</th>    <th>0.975]</th>  \n",
       "</tr>\n",
       "<tr>\n",
       "  <th>ar.L1</th>  <td>    0.4200</td> <td>    0.061</td> <td>    6.877</td> <td> 0.000</td> <td>    0.300</td> <td>    0.540</td>\n",
       "</tr>\n",
       "<tr>\n",
       "  <th>sigma2</th> <td>    2.4486</td> <td>    0.180</td> <td>   13.586</td> <td> 0.000</td> <td>    2.095</td> <td>    2.802</td>\n",
       "</tr>\n",
       "</table>\n",
       "<table class=\"simpletable\">\n",
       "<tr>\n",
       "  <th>Ljung-Box (Q):</th>          <td>49.55</td> <th>  Jarque-Bera (JB):  </th> <td>13.08</td>\n",
       "</tr>\n",
       "<tr>\n",
       "  <th>Prob(Q):</th>                <td>0.14</td>  <th>  Prob(JB):          </th> <td>0.00</td> \n",
       "</tr>\n",
       "<tr>\n",
       "  <th>Heteroskedasticity (H):</th> <td>0.93</td>  <th>  Skew:              </th> <td>0.19</td> \n",
       "</tr>\n",
       "<tr>\n",
       "  <th>Prob(H) (two-sided):</th>    <td>0.74</td>  <th>  Kurtosis:          </th> <td>4.08</td> \n",
       "</tr>\n",
       "</table><br/><br/>Warnings:<br/>[1] Covariance matrix calculated using the outer product of gradients (complex-step)."
      ],
      "text/plain": [
       "<class 'statsmodels.iolib.summary.Summary'>\n",
       "\"\"\"\n",
       "                               SARIMAX Results                                \n",
       "==============================================================================\n",
       "Dep. Variable:                      y   No. Observations:                  240\n",
       "Model:               SARIMAX(1, 0, 0)   Log Likelihood                -448.103\n",
       "Date:                Sat, 12 Dec 2020   AIC                            900.207\n",
       "Time:                        16:55:28   BIC                            907.168\n",
       "Sample:                             0   HQIC                           903.012\n",
       "                                - 240                                         \n",
       "Covariance Type:                  opg                                         \n",
       "==============================================================================\n",
       "                 coef    std err          z      P>|z|      [0.025      0.975]\n",
       "------------------------------------------------------------------------------\n",
       "ar.L1          0.4200      0.061      6.877      0.000       0.300       0.540\n",
       "sigma2         2.4486      0.180     13.586      0.000       2.095       2.802\n",
       "===================================================================================\n",
       "Ljung-Box (Q):                       49.55   Jarque-Bera (JB):                13.08\n",
       "Prob(Q):                              0.14   Prob(JB):                         0.00\n",
       "Heteroskedasticity (H):               0.93   Skew:                             0.19\n",
       "Prob(H) (two-sided):                  0.74   Kurtosis:                         4.08\n",
       "===================================================================================\n",
       "\n",
       "Warnings:\n",
       "[1] Covariance matrix calculated using the outer product of gradients (complex-step).\n",
       "\"\"\""
      ]
     },
     "execution_count": 90,
     "metadata": {},
     "output_type": "execute_result"
    }
   ],
   "source": [
    "# aplicando stepwise para selecionar o melhor modelo SARIMA\n",
    "auto_arima(dados['residuo'],seasonal=True,m=12).summary()\n",
    "\n",
    "stepwise_fit = auto_arima(dados['residuo'], start_p=0, start_q=0,max_p=6,max_q=3,m=12,\n",
    "                          seasonal=True,\n",
    "                          trace=True,\n",
    "                          error_action='ignore',\n",
    "                          supress_warnings=True,\n",
    "                          stepwise=True)\n",
    "\n",
    "stepwise_fit.summary()"
   ]
  },
  {
   "cell_type": "code",
   "execution_count": 91,
   "metadata": {
    "id": "zrYnBhxGXdkB"
   },
   "outputs": [
    {
     "name": "stdout",
     "output_type": "stream",
     "text": [
      "..., observou-se a ordem 1, 0, 0, o que confirma os gráficos de autocorrelação e autocorrelação parcial dos resíduos\n"
     ]
    }
   ],
   "source": [
    "#ARIMA(1,0,0)(0,0,0)[12]\n",
    "#- Componente não sazonal autorregressiva de ordem 1\n",
    "#- Sem Componente não sazonal integrado\n",
    "#- Sem Componente não sazonal de médias móveis\n",
    "#- Sem Componente sazonal autorregressiva de primeira ordem com período 12\n",
    "#- Sem componente sazonal integrada\n",
    "#- Sem componente sazonal de média móvel\n",
    "\n",
    "print('..., observou-se a ordem 1, 0, 0, o que confirma os gráficos de autocorrelação e autocorrelação parcial dos resíduos')"
   ]
  },
  {
   "cell_type": "markdown",
   "metadata": {
    "id": "liEvpuCKqjZo"
   },
   "source": [
    "**Divida a base em treino e teste, separando 80% das observações para treino.**"
   ]
  },
  {
   "cell_type": "code",
   "execution_count": 93,
   "metadata": {},
   "outputs": [
    {
     "name": "stdout",
     "output_type": "stream",
     "text": [
      "foi dividida em bases de treino e teste...\n"
     ]
    }
   ],
   "source": [
    "print('foi dividida em bases de treino e teste...')"
   ]
  },
  {
   "cell_type": "code",
   "execution_count": 97,
   "metadata": {
    "id": "ibmYu1neXdkB"
   },
   "outputs": [],
   "source": [
    "dados_treino = dados.iloc[:round((len(dados) * 0.8))]\n",
    "dados_teste = dados.iloc[round((len(dados) * 0.8)):] "
   ]
  },
  {
   "cell_type": "code",
   "execution_count": 95,
   "metadata": {
    "id": "JDXBnbvHXdkC"
   },
   "outputs": [
    {
     "name": "stdout",
     "output_type": "stream",
     "text": [
      "...com 80% das observações para a base de treino, ou seja, 192\n"
     ]
    }
   ],
   "source": [
    "print('...com 80% das observações para a base de treino, ou seja,',len(dados_treino))"
   ]
  },
  {
   "cell_type": "markdown",
   "metadata": {
    "id": "7y9ZyUTMqxAJ"
   },
   "source": [
    "**Obtenha a ordem do melhor modelo ARIMA (p,d,q) para a variável resposta Y considerando somente a base de treino.**\n"
   ]
  },
  {
   "cell_type": "code",
   "execution_count": 102,
   "metadata": {
    "id": "OUW7chFjXdkC"
   },
   "outputs": [
    {
     "name": "stderr",
     "output_type": "stream",
     "text": [
      "D:\\ProgramData\\Anaconda3\\lib\\site-packages\\statsmodels\\tsa\\statespace\\sarimax.py:963: UserWarning: Non-stationary starting autoregressive parameters found. Using zeros as starting parameters.\n",
      "  warn('Non-stationary starting autoregressive parameters'\n",
      "D:\\ProgramData\\Anaconda3\\lib\\site-packages\\statsmodels\\base\\model.py:567: ConvergenceWarning: Maximum Likelihood optimization failed to converge. Check mle_retvals\n",
      "  warn(\"Maximum Likelihood optimization failed to converge. \"\n",
      "D:\\ProgramData\\Anaconda3\\lib\\site-packages\\statsmodels\\base\\model.py:567: ConvergenceWarning: Maximum Likelihood optimization failed to converge. Check mle_retvals\n",
      "  warn(\"Maximum Likelihood optimization failed to converge. \"\n",
      "D:\\ProgramData\\Anaconda3\\lib\\site-packages\\statsmodels\\tsa\\statespace\\sarimax.py:963: UserWarning: Non-stationary starting autoregressive parameters found. Using zeros as starting parameters.\n",
      "  warn('Non-stationary starting autoregressive parameters'\n",
      "D:\\ProgramData\\Anaconda3\\lib\\site-packages\\statsmodels\\tsa\\statespace\\sarimax.py:975: UserWarning: Non-invertible starting MA parameters found. Using zeros as starting parameters.\n",
      "  warn('Non-invertible starting MA parameters found.'\n",
      "D:\\ProgramData\\Anaconda3\\lib\\site-packages\\statsmodels\\base\\model.py:567: ConvergenceWarning: Maximum Likelihood optimization failed to converge. Check mle_retvals\n",
      "  warn(\"Maximum Likelihood optimization failed to converge. \"\n"
     ]
    },
    {
     "name": "stdout",
     "output_type": "stream",
     "text": [
      "Performing stepwise search to minimize aic\n",
      " ARIMA(0,1,0)(1,0,1)[12] intercept   : AIC=793.802, Time=1.60 sec\n",
      " ARIMA(0,1,0)(0,0,0)[12] intercept   : AIC=790.730, Time=0.03 sec\n",
      " ARIMA(1,1,0)(1,0,0)[12] intercept   : AIC=771.689, Time=0.78 sec\n",
      " ARIMA(0,1,1)(0,0,1)[12] intercept   : AIC=757.251, Time=0.63 sec\n",
      " ARIMA(0,1,0)(0,0,0)[12]             : AIC=843.844, Time=0.03 sec\n",
      " ARIMA(0,1,1)(0,0,0)[12] intercept   : AIC=755.395, Time=0.19 sec\n",
      " ARIMA(0,1,1)(1,0,0)[12] intercept   : AIC=757.258, Time=0.51 sec\n"
     ]
    },
    {
     "name": "stderr",
     "output_type": "stream",
     "text": [
      "D:\\ProgramData\\Anaconda3\\lib\\site-packages\\statsmodels\\base\\model.py:567: ConvergenceWarning: Maximum Likelihood optimization failed to converge. Check mle_retvals\n",
      "  warn(\"Maximum Likelihood optimization failed to converge. \"\n"
     ]
    },
    {
     "name": "stdout",
     "output_type": "stream",
     "text": [
      " ARIMA(0,1,1)(1,0,1)[12] intercept   : AIC=inf, Time=2.07 sec\n",
      " ARIMA(1,1,1)(0,0,0)[12] intercept   : AIC=inf, Time=1.23 sec\n",
      " ARIMA(0,1,2)(0,0,0)[12] intercept   : AIC=inf, Time=0.70 sec\n",
      " ARIMA(1,1,0)(0,0,0)[12] intercept   : AIC=769.986, Time=0.07 sec\n"
     ]
    },
    {
     "name": "stderr",
     "output_type": "stream",
     "text": [
      "D:\\ProgramData\\Anaconda3\\lib\\site-packages\\statsmodels\\tsa\\statespace\\sarimax.py:963: UserWarning: Non-stationary starting autoregressive parameters found. Using zeros as starting parameters.\n",
      "  warn('Non-stationary starting autoregressive parameters'\n",
      "D:\\ProgramData\\Anaconda3\\lib\\site-packages\\statsmodels\\tsa\\statespace\\sarimax.py:975: UserWarning: Non-invertible starting MA parameters found. Using zeros as starting parameters.\n",
      "  warn('Non-invertible starting MA parameters found.'\n"
     ]
    },
    {
     "name": "stdout",
     "output_type": "stream",
     "text": [
      " ARIMA(1,1,2)(0,0,0)[12] intercept   : AIC=inf, Time=1.11 sec\n",
      " ARIMA(0,1,1)(0,0,0)[12]             : AIC=845.843, Time=0.07 sec\n",
      "\n",
      "Best model:  ARIMA(0,1,1)(0,0,0)[12] intercept\n",
      "Total fit time: 9.074 seconds\n"
     ]
    },
    {
     "name": "stderr",
     "output_type": "stream",
     "text": [
      "D:\\ProgramData\\Anaconda3\\lib\\site-packages\\statsmodels\\base\\model.py:567: ConvergenceWarning: Maximum Likelihood optimization failed to converge. Check mle_retvals\n",
      "  warn(\"Maximum Likelihood optimization failed to converge. \"\n"
     ]
    },
    {
     "data": {
      "text/html": [
       "<table class=\"simpletable\">\n",
       "<caption>SARIMAX Results</caption>\n",
       "<tr>\n",
       "  <th>Dep. Variable:</th>           <td>y</td>        <th>  No. Observations:  </th>    <td>192</td>  \n",
       "</tr>\n",
       "<tr>\n",
       "  <th>Model:</th>           <td>SARIMAX(0, 1, 1)</td> <th>  Log Likelihood     </th> <td>-374.697</td>\n",
       "</tr>\n",
       "<tr>\n",
       "  <th>Date:</th>            <td>Sat, 12 Dec 2020</td> <th>  AIC                </th>  <td>755.395</td>\n",
       "</tr>\n",
       "<tr>\n",
       "  <th>Time:</th>                <td>17:08:06</td>     <th>  BIC                </th>  <td>765.152</td>\n",
       "</tr>\n",
       "<tr>\n",
       "  <th>Sample:</th>                  <td>0</td>        <th>  HQIC               </th>  <td>759.347</td>\n",
       "</tr>\n",
       "<tr>\n",
       "  <th></th>                      <td> - 192</td>      <th>                     </th>     <td> </td>   \n",
       "</tr>\n",
       "<tr>\n",
       "  <th>Covariance Type:</th>        <td>opg</td>       <th>                     </th>     <td> </td>   \n",
       "</tr>\n",
       "</table>\n",
       "<table class=\"simpletable\">\n",
       "<tr>\n",
       "      <td></td>         <th>coef</th>     <th>std err</th>      <th>z</th>      <th>P>|z|</th>  <th>[0.025</th>    <th>0.975]</th>  \n",
       "</tr>\n",
       "<tr>\n",
       "  <th>intercept</th> <td>    1.0942</td> <td>    0.044</td> <td>   24.950</td> <td> 0.000</td> <td>    1.008</td> <td>    1.180</td>\n",
       "</tr>\n",
       "<tr>\n",
       "  <th>ma.L1</th>     <td>   -0.6497</td> <td>    0.057</td> <td>  -11.490</td> <td> 0.000</td> <td>   -0.761</td> <td>   -0.539</td>\n",
       "</tr>\n",
       "<tr>\n",
       "  <th>sigma2</th>    <td>    2.9529</td> <td>    0.264</td> <td>   11.204</td> <td> 0.000</td> <td>    2.436</td> <td>    3.469</td>\n",
       "</tr>\n",
       "</table>\n",
       "<table class=\"simpletable\">\n",
       "<tr>\n",
       "  <th>Ljung-Box (Q):</th>          <td>60.18</td> <th>  Jarque-Bera (JB):  </th> <td>3.32</td> \n",
       "</tr>\n",
       "<tr>\n",
       "  <th>Prob(Q):</th>                <td>0.02</td>  <th>  Prob(JB):          </th> <td>0.19</td> \n",
       "</tr>\n",
       "<tr>\n",
       "  <th>Heteroskedasticity (H):</th> <td>1.41</td>  <th>  Skew:              </th> <td>-0.06</td>\n",
       "</tr>\n",
       "<tr>\n",
       "  <th>Prob(H) (two-sided):</th>    <td>0.17</td>  <th>  Kurtosis:          </th> <td>3.63</td> \n",
       "</tr>\n",
       "</table><br/><br/>Warnings:<br/>[1] Covariance matrix calculated using the outer product of gradients (complex-step)."
      ],
      "text/plain": [
       "<class 'statsmodels.iolib.summary.Summary'>\n",
       "\"\"\"\n",
       "                               SARIMAX Results                                \n",
       "==============================================================================\n",
       "Dep. Variable:                      y   No. Observations:                  192\n",
       "Model:               SARIMAX(0, 1, 1)   Log Likelihood                -374.697\n",
       "Date:                Sat, 12 Dec 2020   AIC                            755.395\n",
       "Time:                        17:08:06   BIC                            765.152\n",
       "Sample:                             0   HQIC                           759.347\n",
       "                                - 192                                         \n",
       "Covariance Type:                  opg                                         \n",
       "==============================================================================\n",
       "                 coef    std err          z      P>|z|      [0.025      0.975]\n",
       "------------------------------------------------------------------------------\n",
       "intercept      1.0942      0.044     24.950      0.000       1.008       1.180\n",
       "ma.L1         -0.6497      0.057    -11.490      0.000      -0.761      -0.539\n",
       "sigma2         2.9529      0.264     11.204      0.000       2.436       3.469\n",
       "===================================================================================\n",
       "Ljung-Box (Q):                       60.18   Jarque-Bera (JB):                 3.32\n",
       "Prob(Q):                              0.02   Prob(JB):                         0.19\n",
       "Heteroskedasticity (H):               1.41   Skew:                            -0.06\n",
       "Prob(H) (two-sided):                  0.17   Kurtosis:                         3.63\n",
       "===================================================================================\n",
       "\n",
       "Warnings:\n",
       "[1] Covariance matrix calculated using the outer product of gradients (complex-step).\n",
       "\"\"\""
      ]
     },
     "execution_count": 102,
     "metadata": {},
     "output_type": "execute_result"
    }
   ],
   "source": [
    "# aplicando stepwise para selecionar o melhor modelo SARIMA\n",
    "auto_arima(dados_treino['Y'],seasonal=True,m=12).summary()\n",
    "\n",
    "stepwise_fit = auto_arima(dados_treino['Y'], start_p=0, start_q=0,max_p=6,max_q=3,m=12,\n",
    "                          seasonal=True,\n",
    "                          trace=True,\n",
    "                          error_action='ignore',\n",
    "                          supress_warnings=True,\n",
    "                          stepwise=True)\n",
    "\n",
    "stepwise_fit.summary()"
   ]
  },
  {
   "cell_type": "code",
   "execution_count": 104,
   "metadata": {},
   "outputs": [
    {
     "name": "stdout",
     "output_type": "stream",
     "text": [
      "Isso significa que o modelo escolhido possui componentes integrados\n"
     ]
    }
   ],
   "source": [
    "#\tSARIMAX(0, 1, 1)\n",
    "#- Sem Componente não sazonal autorregressiva\n",
    "#- Componente não sazonal integrado de ordem 1\n",
    "#- Componente não sazonal de médias móveis de ordem 1\n",
    "\n",
    "print('Isso significa que o modelo escolhido possui componentes integrados')"
   ]
  },
  {
   "cell_type": "markdown",
   "metadata": {
    "id": "qLKEcJDrq5v2"
   },
   "source": [
    "**Obtenha o erro quadrático médio das previsões das observações da base de teste.**"
   ]
  },
  {
   "cell_type": "code",
   "execution_count": 110,
   "metadata": {},
   "outputs": [
    {
     "name": "stderr",
     "output_type": "stream",
     "text": [
      "D:\\ProgramData\\Anaconda3\\lib\\site-packages\\statsmodels\\tsa\\base\\tsa_model.py:159: ValueWarning: No frequency information was provided, so inferred frequency M will be used.\n",
      "  warnings.warn('No frequency information was'\n",
      "D:\\ProgramData\\Anaconda3\\lib\\site-packages\\statsmodels\\tsa\\base\\tsa_model.py:159: ValueWarning: No frequency information was provided, so inferred frequency M will be used.\n",
      "  warnings.warn('No frequency information was'\n"
     ]
    }
   ],
   "source": [
    "#predição utilizando o modelo SARIMA identificado pelo stepwise\n",
    "modelo = SARIMAX(dados_treino['Y'], order=(0,1,1))\n",
    "resultado = modelo.fit()"
   ]
  },
  {
   "cell_type": "code",
   "execution_count": 111,
   "metadata": {
    "id": "9yvyBuByXdkD"
   },
   "outputs": [],
   "source": [
    "inicio=len(dados_treino)\n",
    "fim=len(dados_treino)+len(dados_teste)-1\n",
    "\n",
    "previsões = resultado.predict(start=inicio, end=fim, dynamic=False, typ='levels')\n",
    "previsões.index = dados_teste.index"
   ]
  },
  {
   "cell_type": "code",
   "execution_count": 112,
   "metadata": {
    "id": "cVs7mvk6XdkD"
   },
   "outputs": [
    {
     "data": {
      "text/plain": [
       "31.351221569508574"
      ]
     },
     "execution_count": 112,
     "metadata": {},
     "output_type": "execute_result"
    }
   ],
   "source": [
    "error = rmse(dados_teste['Y'], previsões)\n",
    "error"
   ]
  },
  {
   "cell_type": "code",
   "execution_count": 113,
   "metadata": {
    "id": "mHAomt3RXdkD"
   },
   "outputs": [
    {
     "name": "stdout",
     "output_type": "stream",
     "text": [
      "...a raiz quadrática do erro quadrático médio, RMSE, obtém-se 31.351221569508574\n"
     ]
    }
   ],
   "source": [
    "print('...a raiz quadrática do erro quadrático médio, RMSE, obtém-se',error)"
   ]
  },
  {
   "cell_type": "code",
   "execution_count": null,
   "metadata": {},
   "outputs": [],
   "source": []
  }
 ],
 "metadata": {
  "colab": {
   "collapsed_sections": [],
   "name": "Av Final ECD e AD - Comandos disponibilizados.ipynb",
   "provenance": []
  },
  "kernelspec": {
   "display_name": "Python 3",
   "language": "python",
   "name": "python3"
  },
  "language_info": {
   "codemirror_mode": {
    "name": "ipython",
    "version": 3
   },
   "file_extension": ".py",
   "mimetype": "text/x-python",
   "name": "python",
   "nbconvert_exporter": "python",
   "pygments_lexer": "ipython3",
   "version": "3.8.3"
  }
 },
 "nbformat": 4,
 "nbformat_minor": 1
}
