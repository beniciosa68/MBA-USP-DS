{
 "cells": [
  {
   "cell_type": "code",
   "execution_count": 1,
   "metadata": {},
   "outputs": [],
   "source": [
    "#Benicio Ramos Magalhaes"
   ]
  },
  {
   "cell_type": "markdown",
   "metadata": {},
   "source": [
    "#Questão 1.1 - O que é overfitting e underfitting? Quando ocorrem?\n",
    "\n",
    "\n",
    "Overfitting é quando um modelo se ajusta de forma muito precisa ao conjunto de dados, porém, mostra-se ineficaz ao ser utilizado para prever modelos. Geralmente os dados podem apresentar desvios de erros de medição, entre outros fatores. E o overfitting acaba ocorrendo quando o modelo se ajusta muito bem a essa base de dados, mas não é uma boa representação da realidade.\n",
    "\n",
    "Underfitting é quando o modelo simplifica demais o conjunto de dados, não representando de forma adequada nem mesmo a base de dados na qual ele foi treinado. Isso gera uma simplificação que também não é uma boa representação da realidade."
   ]
  },
  {
   "cell_type": "markdown",
   "metadata": {},
   "source": [
    "#Questão 1.2 - Referente à questão 1.1, responda:\n",
    "\n",
    "#Explique como evitar a ocorrência desses fenômenos nos dados. Descreva um exemplo.\n",
    "\n",
    "Com relação aos problemas de overfitting/underfitting podemos usar a regularização para evitarmos a ocorrência desses fenômenos . A regularização basicamente ajuda a reduzir parâmetros de pouca importância no modelo. Alguns dos métodos mais conhecidos são os métodos ridge regression ou Tikhonov regularization e o LASSO (Least Absolute Shrinkage and Selection Operator).\n",
    "\n",
    "No método LASSO executa uma seleção de variáveis com o objetivo de melhorar a predição dos dados. Ele tende a selecionar alguns valores para serem iguais a zero e outros para serem diferentes de zero, realizando assim um melhor ajuste do modelo.\n"
   ]
  },
  {
   "cell_type": "markdown",
   "metadata": {},
   "source": [
    "Questão 1.3 - Imagine que você tem um conjunto de dados com 90% das observações na classe A e 10% na classe B. Explique como você faria a classificação de forma a evitar a predominância da classe A nos resultados.\n",
    "\n",
    "Esse é um clássico problema de desbalanceamento dos dados, onde a classe A (majoritária) irá influenciar nos resultados da  modelagem. Neste caso, eu usaria uma das técnicas mais comuns conhecida como SMOTE (Synthetic Minority Over-sampling Technique). A idéia fundamental é super-amostrar as classes minoritárias (over sampling) ou sub-amostrar as classes majoritárias (under sampling) ou mesmo realizar uma mistura das duas abordagens (over-under sampling), gerando assim um maior equilíbrio nos dados. Na prática, os procedimentos que eu faria seriam:\n",
    "1) Aplicar over sampling, under sampling e over-under sampling nos dados de treinamento (usando por exemplo, um pacote python, como o imblearn que tem essas funções implementadas).\n",
    "2) Criar um modelo classificador SVM para cada um dos dados obtidos\n",
    "3) Plotar uma matriz de confusão com os dados e verificar qual estratégia gerou uma melhor predição para a base de dados em questão."
   ]
  },
  {
   "cell_type": "code",
   "execution_count": null,
   "metadata": {},
   "outputs": [],
   "source": []
  },
  {
   "cell_type": "code",
   "execution_count": null,
   "metadata": {},
   "outputs": [],
   "source": [
    "Questão 2.2 -\n",
    "\n",
    "Ao concluir a questão e assinalar a resposta que julgue correta no Moodle, você ainda precisa realizar os seguintes passos para concluir a submissão da resposta:\n",
    "\n",
    "1) Exportar o notebook que utilizou para resolver a questão da prova em formato .py e fazer upload no Moodle. Atenção: você não deve fazer upload de um arquivo notebook (.ipynb), mas sim um arquivo texto .py contendo os códigos python que utilizou para resolver as questões. O arquivo .py pode ser gerado através da opção:\n",
    "\n",
    "File --> Download as --> Python (.py) disponível no Jupyter Notebook.\n",
    "ou\n",
    "File --> Download .py no Google Colab\n",
    "\n",
    "Caso não esteja utilizando o Jupyter, copie e cole seu código em um arquivo ASCII (Texto) salvando com a extensão .py\n",
    "\n",
    "2) O arquivo deve ser nomeado com seu nome e sobrenome, SEM ESPAÇO entre as partes de seu nome. Exemplo: moacirponti.py\n",
    "\n",
    "3) É OBRIGATÓRIO conter no cabeçalho (início) do arquivo um comentário com o seu nome completo. Por exemplo, # Moacir Ponti\n",
    "\n",
    "O arquivo submetido será verificado por plágio."
   ]
  },
  {
   "cell_type": "code",
   "execution_count": null,
   "metadata": {},
   "outputs": [],
   "source": [
    "Questão 3.1 - Instruções gerais: Para esta questão, utilize os comandos disponíveis no Jupyter notebook neste link e os dados deste link. Faça uma cópia do notebook na sua máquina, você deverá fazer o upload do arquivo .ipynb com os comandos utilizados ao final da questão. Use duas casas decimais para as respostas.\n",
    "\n",
    "\n",
    "No aniversário de 20 anos do programa de estímulo à produção de grãos, realizou-se um estudo para quantificar seu impacto. \n",
    "\n",
    "Uma comparação das 10 primeiras décadas do programa com as 10 últimas décadas detectou um aumento importante da produção, com média mensal de \n",
    " toneladas, para a década de 80, e \n",
    " toneladas, para a década de 90 (teste t de Student para amostras independentes, supondo-se variâncias equivalentes: p-valor<0,001). Nota-se que a variabilidade na produção mensal, porém, manteve-se equivalente em ambas as décadas (teste de Levene: p-valor=\n",
    "). \n",
    "\n",
    "Graficamente, observa-se um aumento da produtividade y ao longo dos anos que, numa análise preliminar, pode ser evidenciada pela reta de regressão linear simples, dada por:\n",
    "\n",
    "y.chapeu = \n",
    "+\n",
    "X.\n",
    "\n",
    "Resumidamente, pode-se dizer que houve um aumento de aproximadamente \n",
    "% na produção a cada mês. Por exemplo, no mês de \n",
    " de 1990, a produção predita é de 132,92 toneladas.\n",
    "\n",
    "Porém, a análise de regressão linear simples não é adequada para tal estudo, o que pode ser evidenciado pelo gráfico de \n",
    " abaixo:\n",
    "\n",
    "Gráfico de resíduos\n",
    "\n",
    "Note que as observações não estão aleatoriamente dispersas em torno de zero, refletindo um padrão que sugere a existência de \n",
    " positiva entre observações consecutivas.\n",
    "\n",
    "Ao escolher um modelo ARIMA para os resíduos, observou-se a ordem \n",
    ",\n",
    ",\n",
    ", o que \n",
    " (confirma/contraria) os gráficos de autocorrelação e autocorrelação parcial dos resíduos.\n",
    "\n",
    "A base de dados foi dividida em bases de treino e \n",
    ", com 80% das observações para a base de treino, ou seja, \n",
    " observações. Com a base de treino, ajustou-se um modelo ARIMA para a produção, e o melhor modelo obtido via stepwise foi o ARIMA \n",
    ",\n",
    ",\n",
    ". Isso significa que o modelo escolhido possui componentes \n",
    " e de média móvel.\n",
    "\n",
    "Calculando-se então as previsões para a base de teste, a raiz quadrática do erro quadrático médio, RMSE, obtém-se \n",
    "."
   ]
  },
  {
   "cell_type": "code",
   "execution_count": null,
   "metadata": {},
   "outputs": [],
   "source": [
    "Questão 3.2 - Obrigatório - Faça upload do arquivo de notebook.ipynb para conferência posterior, nos casos em que as correções automatizadas configuradas no sistema não levarem em consideração diferentes versões do mesmo método estatístico implementadas em Python."
   ]
  },
  {
   "cell_type": "code",
   "execution_count": null,
   "metadata": {},
   "outputs": [],
   "source": [
    "Questão 4.1 -\n",
    "\n",
    "1. Projete um autoencoder.\n",
    "2. Compile e treine esse autoencoder com dados de 2016.\n",
    "3. Compute o erro quadrático da reconstrução dos dados de 2017 e, a partir desse, obtenha a chave primária do funcionário (ou seja, funcPK) cujos dados possuem o maior erro. O funcionário a ser inspecionado é o funcionário identificado por essa funcPK.\n",
    "4. Faça uma consulta que tem como objetivo investigar os meses e os valores dos salários recebidos no ano de 2017 pelo funcionário que está sendo inspecionado.\n",
    "\n",
    "Selecione a alternativa que identifica qual a chave primária obtida após o Item 3, qual o nome do(a) funcionário(a), qual o maior valor de salário recebido pelo(a) funcionário(a) e qual o mês do ano de 2017 no qual o(a) funcionário(a) recebeu esse maior salário.\n",
    "\n",
    "\n",
    "Escolha uma opção:\n",
    "a. funcPK = 64, nome = ABILIO BARBOSA; maior salário = 4420.97; mês = 1\n",
    "b. funcPK = 147, nome = ABIMAELE BORGES; maior salário = 1559.94; mês = 1\n",
    "c. funcPK = 147, nome = ABILIO BARBOSA; maior salário = 250000.00; mês = 7\n",
    "d. funcPK = 147, nome = ABIMAELE BORGES; maior salário = 250000.00; mês = 7\n",
    "e. funcPK = 64, nome = ABILIO BARBOSA; maior salário = 250000.00; mês = 9"
   ]
  },
  {
   "cell_type": "code",
   "execution_count": null,
   "metadata": {},
   "outputs": [],
   "source": [
    "Questão 4.2 - Além de responder a questão no Moodle você deve:\n",
    "\n",
    "exportar esse notebook com sua solução para as questões da prova em formato .py e fazer upload no Moodle. Atenção: você não deve fazer upload de um arquivo notebook\n",
    "(.ipynb), mas sim um arquivo texto .py contendo os códigos python que utilizou para resolver as questões.\n",
    "\n",
    "O arquivo .py pode ser gerado através da opção:\n",
    "\n",
    "File --> Download as --> Python (.py) disponível no Jupyter Notebook.\n",
    "ou File --> Download .py no Google Colab\n",
    "\n",
    "Caso não esteja utilizando o Jupyter, copie e cole seu código em um arquivo ASCII (Texto) salvando com a extensão .py\n",
    "\n",
    "2) Você deve salvar esse notebook com sua solução para as questões da prova em formato .pdf e fazer upload no Moodle\n",
    "\n",
    "3) Os arquivos devem ser nomeados com seu nome e sobrenome, sem espaços. Exemplo: moacirponti.py e moacirponti.pdf\n",
    "\n",
    "4) É OBRIGATÓRIO conter no cabeçalho (início) do arquivo um comentário / texto com o seu nome completo\n",
    "\n",
    "Desejamos uma boa prova!"
   ]
  }
 ],
 "metadata": {
  "kernelspec": {
   "display_name": "Python 3",
   "language": "python",
   "name": "python3"
  },
  "language_info": {
   "codemirror_mode": {
    "name": "ipython",
    "version": 3
   },
   "file_extension": ".py",
   "mimetype": "text/x-python",
   "name": "python",
   "nbconvert_exporter": "python",
   "pygments_lexer": "ipython3",
   "version": "3.8.3"
  }
 },
 "nbformat": 4,
 "nbformat_minor": 4
}
