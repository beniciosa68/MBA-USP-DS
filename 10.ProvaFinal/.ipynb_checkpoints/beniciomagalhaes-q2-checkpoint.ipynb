{
 "cells": [
  {
   "cell_type": "code",
   "execution_count": 1,
   "metadata": {},
   "outputs": [],
   "source": [
    "#Benicio Ramos Magalhaes"
   ]
  },
  {
   "cell_type": "markdown",
   "metadata": {},
   "source": [
    "#### Questão 2.1 - O arquivo contratacaocorona-27-07-acertado.csv contém informações de compras emergenciais ligadas a COVID 19.\n",
    "\n",
    "1. Leia o arquivo e considere apenas as colunas 'QUANTIDADE', 'VALOR_UNITM-ARIO' e 'VALOR_TOTAL'. Verifique quantos dados faltantes existem no DataFrame resultante.\n",
    "\n",
    "2. Remova as linhas do data frame que contenham dados faltantes. Verifique quantas linhas foram removidas.\n",
    "\n",
    "3. Prepare a coluna 'VALOR_TOTAL' para ser processada como numérica, e a seguir busque por outliers presentes nesta coluna. Para isso use o método do desvio padrão com σ = 3 . Verifique o número de outliers encontrados.\n",
    "\n",
    "Com base nos itens acima, assinale a alternativa correta:\n",
    "\n",
    "Escolha uma opção:<br>\n",
    "a. Dados faltantes: 12, Linhas removidas: 12, Outliers encontrados: 6<br>\n",
    "b. Dados faltantes: 12, Linhas removidas: 12, Outliers encontrados: 4<br>\n",
    "c. Dados faltantes: 30, Linhas removidas: 24, Outliers encontrados: 6<br>\n",
    "<b>d. Dados faltantes: 30, Linhas removidas: 12, Outliers encontrados: 4<br></b>\n",
    "e. Dados faltantes: 30, Linhas removidas: 30, Outliers encontrados: 2<br>"
   ]
  },
  {
   "cell_type": "code",
   "execution_count": 2,
   "metadata": {},
   "outputs": [],
   "source": [
    "import pandas as pd"
   ]
  },
  {
   "cell_type": "code",
   "execution_count": 3,
   "metadata": {},
   "outputs": [
    {
     "name": "stdout",
     "output_type": "stream",
     "text": [
      "Número de linhas atuais: 129\n",
      "\n",
      "Qtd de dados faltantes:\n",
      "QUANTIDADE           6\n",
      "VALOR_UNITM-ARIO    12\n",
      "VALOR_TOTAL         12\n",
      "dtype: int64\n",
      "\n",
      "Total: 30\n"
     ]
    }
   ],
   "source": [
    "#1. Leia o arquivo e considere apenas as colunas 'QUANTIDADE', 'VALOR_UNITM-ARIO' e 'VALOR_TOTAL'. \n",
    "#Verifique quantos dados faltantes existem no DataFrame resultante.\n",
    "\n",
    "df = pd.read_csv('contratacaocorona-27-07-acertado.csv', sep=';')\n",
    "data = df[['QUANTIDADE','VALOR_UNITM-ARIO','VALOR_TOTAL']]\n",
    "\n",
    "numLinhas = data.shape[0]\n",
    "print('Número de linhas atuais:',data.shape[0])\n",
    "print()\n",
    "#verificando quantidade de dados faltantes\n",
    "print('Qtd de dados faltantes:')\n",
    "print(data.isnull().sum())\n",
    "print()\n",
    "print('Total:',12+12+6)"
   ]
  },
  {
   "cell_type": "code",
   "execution_count": 4,
   "metadata": {},
   "outputs": [
    {
     "name": "stdout",
     "output_type": "stream",
     "text": [
      "Total de linhas removidas: 12\n"
     ]
    }
   ],
   "source": [
    "#2. Remova as linhas do data frame que contenham dados faltantes. Verifique quantas linhas foram removidas.\n",
    "\n",
    "# remove colunas que contenham algum dado faltante\n",
    "data = data.dropna()\n",
    "numLinhasAtual = data.shape[0]\n",
    "\n",
    "print('Total de linhas removidas:', numLinhas - numLinhasAtual)"
   ]
  },
  {
   "cell_type": "code",
   "execution_count": 5,
   "metadata": {},
   "outputs": [
    {
     "name": "stdout",
     "output_type": "stream",
     "text": [
      "Quantidade de outliers: 4\n"
     ]
    }
   ],
   "source": [
    "#3. Prepare a coluna 'VALOR_TOTAL' para ser processada como numérica, e a seguir busque por outliers presentes nesta coluna. \n",
    "#Para isso use o método do desvio padrão com σ = 3 . Verifique o número de outliers encontrados.\n",
    "\n",
    "data['VALOR_TOTAL'] = data['VALOR_TOTAL'].str.replace(',', '')\n",
    "data['VALOR_TOTAL'] = data['VALOR_TOTAL'].str.replace(' ', '')\n",
    "data['VALOR_TOTAL'] = data['VALOR_TOTAL'].str.replace('R', '')\n",
    "data['VALOR_TOTAL'] = data['VALOR_TOTAL'].str.replace('$', '')\n",
    "data['VALOR_TOTAL'] = data['VALOR_TOTAL'].str.replace('.', '')\n",
    "data['VALOR_TOTAL'] = pd.to_numeric(data['VALOR_TOTAL'])\n",
    "\n",
    "#encontrando os outliers da coluna\n",
    "desvp = data['VALOR_TOTAL'].std()\n",
    "media = data['VALOR_TOTAL'].mean()\n",
    "sigma = 3\n",
    "\n",
    "outliers_std = data[(data['VALOR_TOTAL'] < media-(desvp*sigma)) \n",
    "                   | (data['VALOR_TOTAL'] > media+(desvp*sigma))]\n",
    "\n",
    "print('Quantidade de outliers:',len(outliers_std))"
   ]
  },
  {
   "cell_type": "code",
   "execution_count": null,
   "metadata": {},
   "outputs": [],
   "source": []
  }
 ],
 "metadata": {
  "kernelspec": {
   "display_name": "Python 3",
   "language": "python",
   "name": "python3"
  },
  "language_info": {
   "codemirror_mode": {
    "name": "ipython",
    "version": 3
   },
   "file_extension": ".py",
   "mimetype": "text/x-python",
   "name": "python",
   "nbconvert_exporter": "python",
   "pygments_lexer": "ipython3",
   "version": "3.8.3"
  }
 },
 "nbformat": 4,
 "nbformat_minor": 4
}
