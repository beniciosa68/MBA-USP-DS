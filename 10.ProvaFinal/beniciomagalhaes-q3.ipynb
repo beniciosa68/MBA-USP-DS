{
 "cells": [
  {
   "cell_type": "code",
   "execution_count": 1,
   "metadata": {},
   "outputs": [],
   "source": [
    "#Benicio Ramos Magalhaes"
   ]
  },
  {
   "cell_type": "code",
   "execution_count": 2,
   "metadata": {},
   "outputs": [],
   "source": [
    "#Bibliotecas\n",
    "#!pip install statsmodels==0.11.1\n",
    "#!pip install spicy==0.16.0\n",
    "#!pip install pmdarima==1.7.1\n",
    "import pandas as pd\n",
    "import numpy as np\n",
    "\n",
    "from sklearn.metrics import mean_squared_error\n",
    "\n",
    "from scipy.optimize import curve_fit\n",
    "from scipy.optimize import fsolve\n",
    "from scipy import stats\n",
    "\n",
    "import matplotlib.pyplot as plt\n",
    "%matplotlib inline\n",
    "\n",
    "from statsmodels.formula.api import ols\n",
    "\n",
    "import statsmodels as sm\n",
    "import matplotlib.pyplot as plt\n",
    "from statsmodels.tsa.arima_process import arma_generate_sample\n",
    "from statsmodels.tsa.arima_model import ARMA\n",
    "from statsmodels.tsa.statespace.sarimax import SARIMAX\n",
    "from statsmodels.graphics.tsaplots import plot_acf,plot_pacf\n",
    "from statsmodels.tools.eval_measures import rmse\n",
    "\n",
    "from pmdarima import auto_arima\n",
    "\n",
    "import seaborn as sns"
   ]
  },
  {
   "cell_type": "code",
   "execution_count": 3,
   "metadata": {},
   "outputs": [
    {
     "data": {
      "text/html": [
       "<div>\n",
       "<style scoped>\n",
       "    .dataframe tbody tr th:only-of-type {\n",
       "        vertical-align: middle;\n",
       "    }\n",
       "\n",
       "    .dataframe tbody tr th {\n",
       "        vertical-align: top;\n",
       "    }\n",
       "\n",
       "    .dataframe thead th {\n",
       "        text-align: right;\n",
       "    }\n",
       "</style>\n",
       "<table border=\"1\" class=\"dataframe\">\n",
       "  <thead>\n",
       "    <tr style=\"text-align: right;\">\n",
       "      <th></th>\n",
       "      <th>X</th>\n",
       "      <th>Y</th>\n",
       "      <th>D</th>\n",
       "    </tr>\n",
       "  </thead>\n",
       "  <tbody>\n",
       "    <tr>\n",
       "      <th>1980-01-31</th>\n",
       "      <td>0.0</td>\n",
       "      <td>0.572232</td>\n",
       "      <td>0.0</td>\n",
       "    </tr>\n",
       "    <tr>\n",
       "      <th>1980-02-29</th>\n",
       "      <td>1.0</td>\n",
       "      <td>2.425839</td>\n",
       "      <td>0.0</td>\n",
       "    </tr>\n",
       "    <tr>\n",
       "      <th>1980-03-31</th>\n",
       "      <td>2.0</td>\n",
       "      <td>3.847004</td>\n",
       "      <td>0.0</td>\n",
       "    </tr>\n",
       "    <tr>\n",
       "      <th>1980-04-30</th>\n",
       "      <td>3.0</td>\n",
       "      <td>2.933853</td>\n",
       "      <td>0.0</td>\n",
       "    </tr>\n",
       "    <tr>\n",
       "      <th>1980-05-31</th>\n",
       "      <td>4.0</td>\n",
       "      <td>7.916690</td>\n",
       "      <td>0.0</td>\n",
       "    </tr>\n",
       "  </tbody>\n",
       "</table>\n",
       "</div>"
      ],
      "text/plain": [
       "              X         Y    D\n",
       "1980-01-31  0.0  0.572232  0.0\n",
       "1980-02-29  1.0  2.425839  0.0\n",
       "1980-03-31  2.0  3.847004  0.0\n",
       "1980-04-30  3.0  2.933853  0.0\n",
       "1980-05-31  4.0  7.916690  0.0"
      ]
     },
     "execution_count": 3,
     "metadata": {},
     "output_type": "execute_result"
    }
   ],
   "source": [
    "dados = pd.read_csv('dados.csv',index_col=0)\n",
    "dados.head()"
   ]
  },
  {
   "cell_type": "code",
   "execution_count": 19,
   "metadata": {},
   "outputs": [
    {
     "name": "stdout",
     "output_type": "stream",
     "text": [
      "...10 últimas décadas detectou um aumento importante da produção, com média mensal de 66.43559135753982 toneladas\n",
      "...para a década de 80, e  198.331313924806 toneladas, para a década de 90 (teste t de Student para amostras independentes, supondo-se variâncias equivalentes: p-valor<0,001)\n"
     ]
    }
   ],
   "source": [
    "#média agrupada por anos\n",
    "print('...10 últimas décadas detectou um aumento importante da produção, com média mensal de',dados.groupby('D')['Y'].mean()[0],'toneladas')\n",
    "print('...para a década de 80, e ',dados.groupby('D')['Y'].mean()[1],'toneladas, para a década de 90 (teste t de Student para amostras independentes, supondo-se variâncias equivalentes: p-valor<0,001)')"
   ]
  },
  {
   "cell_type": "code",
   "execution_count": null,
   "metadata": {},
   "outputs": [],
   "source": []
  }
 ],
 "metadata": {
  "kernelspec": {
   "display_name": "Python 3",
   "language": "python",
   "name": "python3"
  },
  "language_info": {
   "codemirror_mode": {
    "name": "ipython",
    "version": 3
   },
   "file_extension": ".py",
   "mimetype": "text/x-python",
   "name": "python",
   "nbconvert_exporter": "python",
   "pygments_lexer": "ipython3",
   "version": "3.8.3"
  }
 },
 "nbformat": 4,
 "nbformat_minor": 4
}
