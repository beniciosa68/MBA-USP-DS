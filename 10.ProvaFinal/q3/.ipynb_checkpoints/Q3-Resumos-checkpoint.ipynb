{
 "cells": [
  {
   "cell_type": "markdown",
   "metadata": {},
   "source": [
    "## Orientações - Prof. Louzada\n",
    "3. Uma questão será relacionada às disciplinas “Estatística para Ciência de Dados” e “Aprendizado Dinâmico”. Nessa questão, será priorizada a modelagem estatística em aspectos práticos, como a estimação de parâmetros, testes de hipóteses, análise de resíduos, modelos com componentes autorregressivas, integradas e de média móvel. Será disponibilizado um notebook com pacotes com versões específicas recomendadas e alguns comandos. O enunciado trará informações adicionais necessárias para a resolução da questão e as respostas deverão ser apresentadas no moodle. O notebook com as análises desenvolvidas deverá ser adicionado em upload."
   ]
  },
  {
   "cell_type": "code",
   "execution_count": null,
   "metadata": {},
   "outputs": [],
   "source": []
  }
 ],
 "metadata": {
  "kernelspec": {
   "display_name": "Python 3",
   "language": "python",
   "name": "python3"
  },
  "language_info": {
   "codemirror_mode": {
    "name": "ipython",
    "version": 3
   },
   "file_extension": ".py",
   "mimetype": "text/x-python",
   "name": "python",
   "nbconvert_exporter": "python",
   "pygments_lexer": "ipython3",
   "version": "3.8.3"
  }
 },
 "nbformat": 4,
 "nbformat_minor": 4
}
