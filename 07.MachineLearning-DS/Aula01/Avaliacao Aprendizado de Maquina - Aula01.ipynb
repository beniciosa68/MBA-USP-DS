{
 "cells": [
  {
   "cell_type": "markdown",
   "metadata": {},
   "source": [
    "# <span style=\"color:blue\"> MBA em Ciência de Dados</span>\n",
    "# <span style=\"color:blue\">Aprendizado de Máquina</span>\n",
    "\n",
    "## <span style=\"color:blue\">Aula 01</span>\n",
    "**Material Produzido por André Carlos Ponce de Leon Ferreira de Carvalho**<br>\n",
    "**Cemeai - ICMC/USP São Carlos**"
   ]
  },
  {
   "cell_type": "markdown",
   "metadata": {},
   "source": [
    "<font color='red'> As respostas devem ser fornecidas no Moodle. O notebook é apenas para a implementação dos códigos que fornecerão as respostas</font>"
   ]
  },
  {
   "cell_type": "markdown",
   "metadata": {},
   "source": [
    "### Exercício 1\n",
    "\n",
    "Assinalar a alternativa <font color='red'><b>correta.</b></font> Participam do teste de Turing:\n",
    "\n",
    "Escolha uma:<br>\n",
    "a. Uma pessoa e dois computadores<br>\n",
    "<b>b. Um computador e duas pessoas<br></b>\n",
    "c. Dois computadores e duas pessoas<br>\n",
    "d. Uma pessoa e um computador<br>"
   ]
  },
  {
   "cell_type": "code",
   "execution_count": 1,
   "metadata": {},
   "outputs": [
    {
     "name": "stdout",
     "output_type": "stream",
     "text": [
      "b. Um computador e duas pessoas\n"
     ]
    }
   ],
   "source": [
    "print('b. Um computador e duas pessoas')"
   ]
  },
  {
   "cell_type": "markdown",
   "metadata": {},
   "source": [
    "### Exercício 2\n",
    "\n",
    "Assinalar a alternativa <font color='red'><b>correta.</b></font> Quem é Eliza?\n",
    "\n",
    "Escolha uma:<br>\n",
    "a. Um computador<br>\n",
    "b. A esposa de Turing<br>\n",
    "c. Um pesquisador de inteligência artificial<br>\n",
    "<b>d. Um programa de computador<br></b>"
   ]
  },
  {
   "cell_type": "code",
   "execution_count": 2,
   "metadata": {},
   "outputs": [
    {
     "name": "stdout",
     "output_type": "stream",
     "text": [
      "d. Um programa de computador\n"
     ]
    }
   ],
   "source": [
    "print('d. Um programa de computador')"
   ]
  },
  {
   "cell_type": "markdown",
   "metadata": {},
   "source": [
    "### Exercício 3\n",
    "\n",
    "Assinalar a alternativa <font color='red'><b>correta.</b></font> Não é uma sub-área: \n",
    "\n",
    "Escolha uma:<br>\n",
    "<b>a.  Filosofia<br></b>\n",
    "b. Lógica<br>\n",
    "c. Robótica<br>\n",
    "d. Representação de conhecimento<br>"
   ]
  },
  {
   "cell_type": "code",
   "execution_count": 3,
   "metadata": {},
   "outputs": [
    {
     "name": "stdout",
     "output_type": "stream",
     "text": [
      "a. Filosofia\n"
     ]
    }
   ],
   "source": [
    "print('a. Filosofia')"
   ]
  },
  {
   "cell_type": "markdown",
   "metadata": {},
   "source": [
    "### Exercício 4\n",
    "\n",
    "Assinalar a alternativa <font color='red'><b>correta.</b></font> Não é importante para uma IA responsável: \n",
    "\n",
    "Escolha uma:<br>\n",
    "a. Ser eficiente<br>\n",
    "b. Ser reproduzível<br>\n",
    "c. Ser transparente<br>\n",
    "d. Ser justa<br>"
   ]
  },
  {
   "cell_type": "code",
   "execution_count": 4,
   "metadata": {},
   "outputs": [
    {
     "name": "stdout",
     "output_type": "stream",
     "text": [
      "a. Ser eficiente\n"
     ]
    }
   ],
   "source": [
    "print('a. Ser eficiente')"
   ]
  },
  {
   "cell_type": "markdown",
   "metadata": {},
   "source": [
    "### Exercício 5\n",
    "\n",
    "Assinalar a alternativa <font color='red'><b>correta.</b></font> É um componente léxico: \n",
    "\n",
    "Escolha uma:<br>\n",
    "a. Termo<br>\n",
    "b. Gramática<br>\n",
    "c. Palavra<br>\n",
    "d. Axioma<br>"
   ]
  },
  {
   "cell_type": "code",
   "execution_count": 5,
   "metadata": {},
   "outputs": [
    {
     "name": "stdout",
     "output_type": "stream",
     "text": [
      "a. Termo\n"
     ]
    }
   ],
   "source": [
    "print('a. Termo')"
   ]
  },
  {
   "cell_type": "code",
   "execution_count": null,
   "metadata": {},
   "outputs": [],
   "source": []
  }
 ],
 "metadata": {
  "kernelspec": {
   "display_name": "Python 3",
   "language": "python",
   "name": "python3"
  },
  "language_info": {
   "codemirror_mode": {
    "name": "ipython",
    "version": 3
   },
   "file_extension": ".py",
   "mimetype": "text/x-python",
   "name": "python",
   "nbconvert_exporter": "python",
   "pygments_lexer": "ipython3",
   "version": "3.7.6"
  },
  "toc": {
   "base_numbering": 1,
   "nav_menu": {},
   "number_sections": true,
   "sideBar": true,
   "skip_h1_title": false,
   "title_cell": "Table of Contents",
   "title_sidebar": "Contents",
   "toc_cell": false,
   "toc_position": {},
   "toc_section_display": true,
   "toc_window_display": false
  }
 },
 "nbformat": 4,
 "nbformat_minor": 2
}
