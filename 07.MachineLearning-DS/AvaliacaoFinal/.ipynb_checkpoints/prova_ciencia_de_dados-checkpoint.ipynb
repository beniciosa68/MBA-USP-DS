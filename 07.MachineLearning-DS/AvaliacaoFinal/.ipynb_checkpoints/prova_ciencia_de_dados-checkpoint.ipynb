{
 "cells": [
  {
   "cell_type": "markdown",
   "metadata": {
    "colab_type": "text",
    "id": "sXp1gm48wnv3"
   },
   "source": [
    "<h1><center><b> MBA em Ciência de Dados </b></center></h1>\n",
    "<h3><center> CeMEAI - ICMC/USP - São Carlos</center></h3>\n",
    "\n",
    "<br><br>\n",
    "<h2><center><b> Avaliação Final </b></center></h2>\n",
    "<h3><center> Aprendizado de Máquina </center></h3>\n",
    "\n",
    "<h4>Docente: Prof. Dr. André C. P. L. F. de Carvalho</h4>\n",
    "<h4>Tutores: Edesio, Eugênio, Gustavo, Moisés, Saulo e Victor</h4>\n",
    "\n",
    "### Aluno: Benicio Ramos Magalhães"
   ]
  },
  {
   "cell_type": "markdown",
   "metadata": {
    "colab_type": "text",
    "id": "l4E4WDR0woFd"
   },
   "source": [
    "<p><b>Instruções e Avisos:</b></p>\n",
    "<ul>\n",
    "  <li>A avaliação vale 10 pontos</li>\n",
    "  <li>As questões de 1 a 4, caso respondidas da forma correta, já totalizam\n",
    "10 pontos</li>\n",
    "  <li>A questão 5 é extra e vale 1 ponto</li>\n",
    "  <li>Responda as questões nas células reservadas para respostas, demarcadas com <i>\"Resposta: \"</i></li>\n",
    "  <li>Seja sucinto e objetivo nas respostas</li>\n",
    "</ul>  \n",
    "\n"
   ]
  },
  {
   "cell_type": "markdown",
   "metadata": {
    "colab_type": "text",
    "id": "A8fN0Otb7W7H"
   },
   "source": [
    "#### **Questão 1.** (2,5)\n",
    "\n",
    "O algorimto $k$-vizinhos mais próximos ($k$NN) é um algoritmo de aprendizado de máquina baseado em distância. Pré-processamento e escolhas adequadas de k devem ser feitas para evitar comportamentos indesejados. O que pode-se dizer sobre:"
   ]
  },
  {
   "cell_type": "markdown",
   "metadata": {
    "colab_type": "text",
    "id": "ROn4p6y78uWO"
   },
   "source": [
    "**a)** O que pode acontecer de indesejado quando $k$ tende a ser muito pequeno, tendendo a 1 vizinho. (1,0)"
   ]
  },
  {
   "cell_type": "markdown",
   "metadata": {
    "colab_type": "text",
    "id": "ycozuyT261PK"
   },
   "source": [
    "*Resposta:*\n",
    "\n",
    "    blabalbalbalablablablabalbalbalabla\n",
    "   "
   ]
  },
  {
   "cell_type": "markdown",
   "metadata": {
    "colab_type": "text",
    "id": "nI0_JRYs80k0"
   },
   "source": [
    "**b)** O que pode acontecer de indesejado quando $k$ tende a ser muito grande, tendendo ao número de exemplos do conjunto de dados. (1,0)"
   ]
  },
  {
   "cell_type": "markdown",
   "metadata": {
    "colab_type": "text",
    "id": "BpTx2F879TZc"
   },
   "source": [
    "*Resposta:*\n",
    "\n",
    "    blabalbalbalablablablabalbalbalabla"
   ]
  },
  {
   "cell_type": "markdown",
   "metadata": {
    "colab_type": "text",
    "id": "ECDpBcMH_UXS"
   },
   "source": [
    "**c)** Por que o algoritmo kNN é considerado lazy (preguiçoso). (0,5)"
   ]
  },
  {
   "cell_type": "markdown",
   "metadata": {
    "colab_type": "text",
    "id": "xyUs8n_t_UoE"
   },
   "source": [
    "*Resposta:*\n",
    "\n",
    "    blabalbalbalablablablabalbalbalabla"
   ]
  },
  {
   "cell_type": "markdown",
   "metadata": {
    "colab_type": "text",
    "id": "HmfTCxGbrj4g"
   },
   "source": [
    "\n",
    "\n",
    "---\n",
    "\n"
   ]
  },
  {
   "cell_type": "markdown",
   "metadata": {
    "colab_type": "text",
    "id": "63qu35sZR8jg"
   },
   "source": [
    "#### **Questão 2** (2,5)\n",
    "\n",
    "O algoritmo k-médias é um método de agrupamento particional. Uma das principais escolhas que devem ser feitas é o número $k$ de agrupamentos que serão formados. Sobre o valor de $k$, o que é possível afirmar quando:\n"
   ]
  },
  {
   "cell_type": "markdown",
   "metadata": {
    "colab_type": "text",
    "id": "z8u6-BEb62jE"
   },
   "source": [
    "**a)** O valor de $k$ é grande, tendendo ao número de exemplos do conjunto de dados? (1,0)"
   ]
  },
  {
   "cell_type": "markdown",
   "metadata": {
    "colab_type": "text",
    "id": "f-gelpcoVexo"
   },
   "source": [
    "*Resposta:*\n",
    "\n",
    "    blabalbalbalablablablabalbalbalabla"
   ]
  },
  {
   "cell_type": "markdown",
   "metadata": {
    "colab_type": "text",
    "id": "m7GgZ7JLVl8z"
   },
   "source": [
    "**b)** O valor de $k$ é pequeno, tendendo a $k=1$? (1,0)"
   ]
  },
  {
   "cell_type": "markdown",
   "metadata": {
    "colab_type": "text",
    "id": "o6gC-M_9V02y"
   },
   "source": [
    "*Resposta:*\n",
    "\n",
    "    blabalbalbalablablablabalbalbalabla"
   ]
  },
  {
   "cell_type": "markdown",
   "metadata": {
    "colab_type": "text",
    "id": "AMylhfQ2V4FG"
   },
   "source": [
    "**c)** Cite um método que pode ser utilizado para escolha do valor de $k$ visto em aula. (0,5) "
   ]
  },
  {
   "cell_type": "markdown",
   "metadata": {
    "colab_type": "text",
    "id": "zehnhMlLWM_Y"
   },
   "source": [
    "*Resposta:*\n",
    "\n",
    "    blabalbalbalablablablabalbalbalabla"
   ]
  },
  {
   "cell_type": "markdown",
   "metadata": {
    "colab_type": "text",
    "id": "JAAISLbmrmDS"
   },
   "source": [
    "\n",
    "\n",
    "---\n",
    "\n"
   ]
  },
  {
   "cell_type": "markdown",
   "metadata": {
    "colab_type": "text",
    "id": "1GZPCPh-WQZz"
   },
   "source": [
    "**Questão 3.** (2,5)\n",
    "\n",
    "Considere as representações gráficas de três modelos de árvore de classificação para um problema de classificação binária a seguir, respectivamente as árvores **A**, **B** e **C**. Em cada nó, observamos o *array* no formato ```value = [<n_classe_1>, <n_classe_2>]```, nos quais ```n_classe_1``` representa o número de exemplos pertencentes a classe 1 naquele nó e ```n_classe_2``` o número de exemplos pertencentes à classe 2 naquele nó. Em nós não-folha, um campo extra é apresentando, simbolizando uma condição encontrada pelo algoritmo de árvore, no formato ```<atributo_preditivo> <operador> <valor>```, no qual ```atributo_preditivo``` representa um atributo preditivo da base de dados, ```operador``` representa um possível operador como ```<, <=, >, >=, =``` e ```valor```representa um valor a ser comparado com o ```atributo_preditivo``` usando ```operador```. Caso a condição seja **verdadeira**, segue-se o caminho à **esquerda**, e caso seja **falsa**, segue-se o caminho da **direita**. Considere que cada árvore classifica um exemplo de acordo com a classe com maior quantidade de exemplos no nó folha.\n",
    "\n",
    "<img src=\"https://drive.google.com/uc?id=1--wDs5uIK8OHoLO0LYo288DzcejqOznJ\" />\n",
    "\n",
    "<img src=\"https://drive.google.com/uc?id=1yvqAt-64wn8sM0EWZlORBJlLPSttGU7r\" />\n",
    "\n",
    "<img src=\"https://drive.google.com/uc?id=11HJt-q8QRMbfUjBwipJ9Uug0LEh-RPif\" />\n",
    "\n",
    "**a)** Considere que as árvores **A**, **B** e **C** formam um *ensemble* cuja combinação é feita por **voto majoritário**. Use o ensemble para classificar os exemplos apresentados na tabela a seguir. Qual a predição para cada exemplo? Qual o valor da acurácia? Qual o valor da acurácia balanceada? (1,0)\n",
    "\n",
    "<img src=\"https://drive.google.com/uc?id=13Q6SXXLsrWQ9d7_hoqJAggZhl6mf6kOx\" />\n",
    "\n"
   ]
  },
  {
   "cell_type": "markdown",
   "metadata": {
    "colab_type": "text",
    "id": "p2tQCcVLhHwd"
   },
   "source": [
    "*Resposta:*\n",
    "\n",
    "    blabalbalbalablablablabalbalbalabla"
   ]
  },
  {
   "cell_type": "markdown",
   "metadata": {
    "colab_type": "text",
    "id": "rtpu-ZjbhP_s"
   },
   "source": [
    "**b)** Escolha uma das árvores (**A**, **B** ou **C**). Indique a árvore escolhida e calcule a impureza de **todos** os nós-folhas usando *Gini*. (1,0)"
   ]
  },
  {
   "cell_type": "markdown",
   "metadata": {
    "colab_type": "text",
    "id": "87h0y24WktXj"
   },
   "source": [
    "*Resposta:*\n",
    "\n",
    "    blabalbalbalablablablabalbalbalabla"
   ]
  },
  {
   "cell_type": "markdown",
   "metadata": {
    "colab_type": "text",
    "id": "ZV3uMGaZkwbt"
   },
   "source": [
    "**c)** Considere a sub-árvore apresentada a seguir. (0,5)\n",
    "\n",
    "<img src=\"https://drive.google.com/uc?id=1LBYuFseXhcABSiF7SsmVEBmv3lLANP5Z\" />\n",
    "\n",
    "Considere a figura abaixo que representa o corte no espaço de atributos que apenas a sub-árvore apresentada faz. Quais os valores de **X**, **Y**, **z** e **w** para que a figura esteja correta?\n",
    "\n",
    "<img src=\"https://drive.google.com/uc?id=15l22F1f4XYptwJAxbNrVG-LHx4s1tItz\" />"
   ]
  },
  {
   "cell_type": "markdown",
   "metadata": {
    "colab_type": "text",
    "id": "ijA5m5ASq2kx"
   },
   "source": [
    "*Resposta:*\n",
    "X = ;\n",
    "Y = ;\n",
    "z = ;\n",
    "w =\n",
    "\n",
    "    blabalbalbalablablablabalbalbalabla"
   ]
  },
  {
   "cell_type": "markdown",
   "metadata": {
    "colab_type": "text",
    "id": "sq2i0LuWroSW"
   },
   "source": [
    "\n",
    "\n",
    "---\n",
    "\n"
   ]
  },
  {
   "cell_type": "markdown",
   "metadata": {
    "colab_type": "text",
    "id": "22uoVHh3Xi_Q"
   },
   "source": [
    "#### **Questão 4** (2,5)\n",
    "\n",
    "Dadas as características do conjunto de dados a seguir, as próximas questões se referem a escolha de um projeto de experimento adequado. Considere que os conjuntos de dados possuem dados suficientes.\n",
    "\n",
    "Características do conjunto de dados:\n",
    "\n",
    "* Tamanho: 3 atributos preditivos e 500 instâncias\n",
    "* Atributo 1: numérico, com valores entre (-2,2)\n",
    "* Atributo 2: numérico, com valores entre (0, 10000)\n",
    "* Atributo 3: categórico, com valores pertencentes ao conjunto {'A', 'B', 'C'}\n",
    "* Tarefa: Classificação\n",
    "* Número de classes: 2\n",
    "* Proporção entre as classes: 1:49\n",
    "\n",
    "Responda as seguintes questões:"
   ]
  },
  {
   "cell_type": "markdown",
   "metadata": {
    "colab_type": "text",
    "id": "4RJmmG9ltAWa"
   },
   "source": [
    "**a)** Quais dos seguintes particionamentos de dados você consideraria para avaliar um algoritmo de classificação qualquer: hold-out, validação cruzada estratificada, ou leave-one-out? Justifique. (1,0)"
   ]
  },
  {
   "cell_type": "markdown",
   "metadata": {
    "colab_type": "text",
    "id": "kAottS0pvD81"
   },
   "source": [
    "*Resposta:*\n",
    "\n",
    "    blabalbalbalablablablabalbalbalabla"
   ]
  },
  {
   "cell_type": "markdown",
   "metadata": {
    "colab_type": "text",
    "id": "ekNJJCp1v97e"
   },
   "source": [
    "**b)** Quais das seguintes medidas de avaliação você consideraria: acurácia ou acurácia balanceada? Justifique. (0,5)"
   ]
  },
  {
   "cell_type": "markdown",
   "metadata": {
    "colab_type": "text",
    "id": "7MVdSBv7wFT7"
   },
   "source": [
    "*Resposta:*\n",
    "\n",
    "    blabalbalbalablablablabalbalbalabla"
   ]
  },
  {
   "cell_type": "markdown",
   "metadata": {
    "colab_type": "text",
    "id": "uicqEVT5v-Jr"
   },
   "source": [
    "**c)** Considerando apenas as características apresentadas da base, você consideraria algum tipo de pré-processamento quando avaliando *k-nn*? Se sim, qual(is)? Justifique. (1,0):"
   ]
  },
  {
   "cell_type": "markdown",
   "metadata": {
    "colab_type": "text",
    "id": "G9OpQUbQwMn7"
   },
   "source": [
    "*Resposta:*\n",
    "\n",
    "    blabalbalbalablablablabalbalbalabla"
   ]
  },
  {
   "cell_type": "markdown",
   "metadata": {
    "colab_type": "text",
    "id": "Y4qua78wr09-"
   },
   "source": [
    "\n",
    "\n",
    "---\n",
    "\n"
   ]
  },
  {
   "cell_type": "markdown",
   "metadata": {
    "colab_type": "text",
    "id": "xkV98MhwXjZX"
   },
   "source": [
    "#### **Questão 5** (1,0)\n",
    "\n",
    "As imagens a seguir são resultados da aplicação das redes neurais perceptron com múltiplas camadas (MLP) em um conjunto de dados de classificação. Sobre os conceitos de underfitting e overfitting, diga o que está ocorrendo intuitivamente em cada imagem."
   ]
  },
  {
   "cell_type": "markdown",
   "metadata": {
    "colab_type": "text",
    "id": "DR75vJPLjQAS"
   },
   "source": [
    "**a)** Underfitting ou overfitting? (0,5)\n",
    "\n",
    "<img src=\"https://drive.google.com/uc?id=1KyF9AXG76hHCZy9n5TP9SwBFMB-lGcGN\" />\n"
   ]
  },
  {
   "cell_type": "markdown",
   "metadata": {
    "colab_type": "text",
    "id": "q0TloS63nZpG"
   },
   "source": [
    "*Resposta:*\n",
    "\n",
    "    blabalbalbalablablablabalbalbalabla"
   ]
  },
  {
   "cell_type": "markdown",
   "metadata": {
    "colab_type": "text",
    "id": "CfUR6OuZnhMw"
   },
   "source": [
    "**b)** Underfitting ou overfitting? (0,5)\n",
    "\n",
    "<img src=\"https://drive.google.com/uc?id=1fMdGCTSS9W1cuP-2Fr4NvicpmBGJs92k\" />"
   ]
  },
  {
   "cell_type": "markdown",
   "metadata": {
    "colab_type": "text",
    "id": "yTkWpCEHn7PE"
   },
   "source": [
    "*Resposta:*\n",
    "\n",
    "    blabalbalbalablablablabalbalbalabla"
   ]
  },
  {
   "cell_type": "markdown",
   "metadata": {
    "colab_type": "text",
    "id": "EP08PE2CrqtD"
   },
   "source": [
    "\n",
    "\n",
    "---\n",
    "\n"
   ]
  }
 ],
 "metadata": {
  "colab": {
   "collapsed_sections": [],
   "name": "prova ciencia de dados.ipynb",
   "provenance": [],
   "toc_visible": true
  },
  "kernelspec": {
   "display_name": "Python 3",
   "language": "python",
   "name": "python3"
  },
  "language_info": {
   "codemirror_mode": {
    "name": "ipython",
    "version": 3
   },
   "file_extension": ".py",
   "mimetype": "text/x-python",
   "name": "python",
   "nbconvert_exporter": "python",
   "pygments_lexer": "ipython3",
   "version": "3.7.6"
  }
 },
 "nbformat": 4,
 "nbformat_minor": 1
}
