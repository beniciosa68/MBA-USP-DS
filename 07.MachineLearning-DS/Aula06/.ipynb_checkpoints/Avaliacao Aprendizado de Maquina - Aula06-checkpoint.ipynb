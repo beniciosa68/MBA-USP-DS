{
 "cells": [
  {
   "cell_type": "markdown",
   "metadata": {},
   "source": [
    "# <span style=\"color:blue\"> MBA em Ciência de Dados</span>\n",
    "# <span style=\"color:blue\">Aprendizado de Máquina</span>\n",
    "\n",
    "## <span style=\"color:blue\">Aula 06</span>\n",
    "**Material Produzido por André Carlos Ponce de Leon Ferreira de Carvalho**<br>\n",
    "**Cemeai - ICMC/USP São Carlos**"
   ]
  },
  {
   "cell_type": "markdown",
   "metadata": {},
   "source": [
    "<font color='red'> As respostas devem ser fornecidas no Moodle. O notebook é apenas para a implementação dos códigos que fornecerão as respostas</font>"
   ]
  },
  {
   "cell_type": "markdown",
   "metadata": {},
   "source": [
    "### Exercício 1\n",
    "Quais são os principais aspectos de uma rede neural artificial?\n",
    "\n",
    "Escolha uma:<br>\n",
    "a. Fan-in and fan-out<br>\n",
    "b. Conexões excitatórias e inibitórias<br>\n",
    "<b>c. Arquitetura e algoritmo de treinamento<br></b>\n",
    "d. Neurônios e conexões<br>"
   ]
  },
  {
   "cell_type": "code",
   "execution_count": 1,
   "metadata": {},
   "outputs": [
    {
     "name": "stdout",
     "output_type": "stream",
     "text": [
      "c. Arquitetura e algoritmo de treinamento\n"
     ]
    }
   ],
   "source": [
    "print('c. Arquitetura e algoritmo de treinamento')"
   ]
  },
  {
   "cell_type": "markdown",
   "metadata": {},
   "source": [
    "### Exercício 2\n",
    "<font color='red'><b>NÃO</b></font> é um paradigma de aprendizado:\n",
    "\n",
    "Escolha uma:<br>\n",
    "a. Reforço<br>\n",
    "b. Não supervisionado<br>\n",
    "c. Supervisionado<br>\n",
    "<b>d. Competitivo<br></b>"
   ]
  },
  {
   "cell_type": "code",
   "execution_count": 2,
   "metadata": {},
   "outputs": [
    {
     "name": "stdout",
     "output_type": "stream",
     "text": [
      "d. Competitivo\n"
     ]
    }
   ],
   "source": [
    "print('d. Competitivo')"
   ]
  },
  {
   "cell_type": "markdown",
   "metadata": {},
   "source": [
    "### Exercício 3\n",
    "\n",
    "Qual foi a primeira rede neural?\n",
    "\n",
    "Escolha uma:<br>\n",
    "a. Adaline<br>\n",
    "<b>b. SNARC<br></b>\n",
    "c. Perceptron<br>\n",
    "d. MLP<br>"
   ]
  },
  {
   "cell_type": "code",
   "execution_count": 3,
   "metadata": {},
   "outputs": [
    {
     "name": "stdout",
     "output_type": "stream",
     "text": [
      "b. SNARC\n"
     ]
    }
   ],
   "source": [
    "print('b. SNARC')"
   ]
  },
  {
   "cell_type": "markdown",
   "metadata": {},
   "source": [
    "### Exercício 4\n",
    "Qual é a principal limitação da rede perceptron?\n",
    "\n",
    "Escolha uma:<br>\n",
    "a. Número muito grande de neurônios<br>\n",
    "b. Tempo de treinamento elevado<br>\n",
    "c. Não funciona para dados linearmente separáveis<br>\n",
    "<b>d. Não funciona para dados não linearmente separáveis<br></b>"
   ]
  },
  {
   "cell_type": "code",
   "execution_count": 4,
   "metadata": {},
   "outputs": [
    {
     "name": "stdout",
     "output_type": "stream",
     "text": [
      "d. Não funciona para dados não linearmente separáveis\n"
     ]
    }
   ],
   "source": [
    "print('d. Não funciona para dados não linearmente separáveis')"
   ]
  },
  {
   "cell_type": "markdown",
   "metadata": {},
   "source": [
    "### Exercício 5\n",
    "Que função de ativação é atualmente mais usada para redes com mais de uma camada?\n",
    "\n",
    "Escolha uma:<br>\n",
    "a. Tangente hiperbólica<br>\n",
    "b. Sigmoidal<br>\n",
    "c. Sinal<br>\n",
    "<b>d. ReLU<br></b>"
   ]
  },
  {
   "cell_type": "code",
   "execution_count": null,
   "metadata": {},
   "outputs": [],
   "source": []
  }
 ],
 "metadata": {
  "kernelspec": {
   "display_name": "Python 3",
   "language": "python",
   "name": "python3"
  },
  "language_info": {
   "codemirror_mode": {
    "name": "ipython",
    "version": 3
   },
   "file_extension": ".py",
   "mimetype": "text/x-python",
   "name": "python",
   "nbconvert_exporter": "python",
   "pygments_lexer": "ipython3",
   "version": "3.7.6"
  },
  "toc": {
   "base_numbering": 1,
   "nav_menu": {},
   "number_sections": true,
   "sideBar": true,
   "skip_h1_title": false,
   "title_cell": "Table of Contents",
   "title_sidebar": "Contents",
   "toc_cell": false,
   "toc_position": {},
   "toc_section_display": true,
   "toc_window_display": false
  }
 },
 "nbformat": 4,
 "nbformat_minor": 2
}
