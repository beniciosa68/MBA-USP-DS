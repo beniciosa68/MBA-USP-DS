{
 "cells": [
  {
   "cell_type": "markdown",
   "metadata": {},
   "source": [
    "# <span style=\"color:blue\"> MBA em Ciência de Dados</span>\n",
    "# <span style=\"color:blue\">Aprendizado de Máquina</span>\n",
    "\n",
    "## <span style=\"color:blue\">Aula 04</span>\n",
    "**Material Produzido por André Carlos Ponce de Leon Ferreira de Carvalho**<br>\n",
    "**Cemeai - ICMC/USP São Carlos**"
   ]
  },
  {
   "cell_type": "markdown",
   "metadata": {},
   "source": [
    "<font color='red'> As respostas devem ser fornecidas no Moodle. O notebook é apenas para a implementação dos códigos que fornecerão as respostas</font>"
   ]
  },
  {
   "cell_type": "markdown",
   "metadata": {},
   "source": [
    "### Exercício 1\n",
    "Uma árvore de decisão pode ser usada:\n",
    "\n",
    "Escolha uma:<br>\n",
    "<b>a. para classificação e para regressão<br></b>\n",
    "b. para nenhum dos dois<br>\n",
    "c. apenas para regressão<br>\n",
    "d. apenas para classificação<br>"
   ]
  },
  {
   "cell_type": "code",
   "execution_count": 1,
   "metadata": {},
   "outputs": [
    {
     "name": "stdout",
     "output_type": "stream",
     "text": [
      "a. para classificação e para regressão\n"
     ]
    }
   ],
   "source": [
    "print('a. para classificação e para regressão')"
   ]
  },
  {
   "cell_type": "markdown",
   "metadata": {},
   "source": [
    "### Exercício 2\n",
    "O que <font color='red'><b>NÃO</b></font> é um aspecto positivo das árvores de decisão:\n",
    "\n",
    "Escolha uma:<br>\n",
    "a. Interpretabilidade<br>\n",
    "b. Treinamento é rápido<br>\n",
    "<b>c. Adequada para tarefas com muitas classes<br></b>\n",
    "d. Teste é rápido<br>"
   ]
  },
  {
   "cell_type": "code",
   "execution_count": 6,
   "metadata": {},
   "outputs": [
    {
     "name": "stdout",
     "output_type": "stream",
     "text": [
      "c. Adequada para tarefas com muitas classes\n"
     ]
    }
   ],
   "source": [
    "print('c. Adequada para tarefas com muitas classes')"
   ]
  },
  {
   "cell_type": "markdown",
   "metadata": {},
   "source": [
    "### Exercício 3\n",
    "A partição do espaço dos dados por árvores de classificação com 2 atributos preditivos é limitado à:\n",
    "\n",
    "Escolha uma:<br>\n",
    "<b>a. Conjunto de retângulos<br></b>\n",
    "b. Conjunto de elipses<br>\n",
    "c. Conjunto de círculos<br>\n",
    "d. Conjunto de retas<br>"
   ]
  },
  {
   "cell_type": "code",
   "execution_count": 8,
   "metadata": {},
   "outputs": [
    {
     "name": "stdout",
     "output_type": "stream",
     "text": [
      "a. Conjunto de retângulos\n"
     ]
    }
   ],
   "source": [
    "print('a. Conjunto de retângulos')"
   ]
  },
  {
   "cell_type": "markdown",
   "metadata": {},
   "source": [
    "### Exercício 4\n",
    "O que mede o grau de impureza?\n",
    "\n",
    "Escolha uma:<br>\n",
    "a. Quantos objetos tem em um nó<br>\n",
    "<b>b. Quanto é a mistura de classes em um nó<br></b>\n",
    "c. Quantos atributos preditivos fazem parte da árvore<br>\n",
    "d. Quantos nós folha estão associados a cada classe<br>"
   ]
  },
  {
   "cell_type": "code",
   "execution_count": 2,
   "metadata": {},
   "outputs": [
    {
     "name": "stdout",
     "output_type": "stream",
     "text": [
      "b. Quanto é a mistura de classes em um nó\n"
     ]
    }
   ],
   "source": [
    "print('b. Quanto é a mistura de classes em um nó')"
   ]
  },
  {
   "cell_type": "markdown",
   "metadata": {},
   "source": [
    "### Exercício 5\n",
    "É um critério de parada do crescimento de uma árvore:\n",
    "\n",
    "Escolha uma:<br>\n",
    "a. Todos os nós folha têm o mesmo número de objetos<br>\n",
    "b. Um atributo preditivo ser usado em mais de um nó interno de um caminho<br>\n",
    "c. Tempo de treinamento<br>\n",
    "<b>d. Número de atributos preditivos usados é maior que um certo valor<br></b>"
   ]
  },
  {
   "cell_type": "code",
   "execution_count": 5,
   "metadata": {},
   "outputs": [
    {
     "name": "stdout",
     "output_type": "stream",
     "text": [
      "d. Número de atributos preditivos usados é maior que um certo valor\n"
     ]
    }
   ],
   "source": [
    "print('d. Número de atributos preditivos usados é maior que um certo valor')"
   ]
  },
  {
   "cell_type": "code",
   "execution_count": null,
   "metadata": {},
   "outputs": [],
   "source": []
  }
 ],
 "metadata": {
  "kernelspec": {
   "display_name": "Python 3",
   "language": "python",
   "name": "python3"
  },
  "language_info": {
   "codemirror_mode": {
    "name": "ipython",
    "version": 3
   },
   "file_extension": ".py",
   "mimetype": "text/x-python",
   "name": "python",
   "nbconvert_exporter": "python",
   "pygments_lexer": "ipython3",
   "version": "3.7.6"
  },
  "toc": {
   "base_numbering": 1,
   "nav_menu": {},
   "number_sections": true,
   "sideBar": true,
   "skip_h1_title": false,
   "title_cell": "Table of Contents",
   "title_sidebar": "Contents",
   "toc_cell": false,
   "toc_position": {},
   "toc_section_display": true,
   "toc_window_display": false
  }
 },
 "nbformat": 4,
 "nbformat_minor": 2
}
