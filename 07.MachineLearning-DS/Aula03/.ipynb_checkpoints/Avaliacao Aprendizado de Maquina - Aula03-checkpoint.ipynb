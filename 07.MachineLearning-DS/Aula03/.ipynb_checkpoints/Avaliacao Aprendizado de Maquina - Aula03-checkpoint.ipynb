{
 "cells": [
  {
   "cell_type": "markdown",
   "metadata": {},
   "source": [
    "# <span style=\"color:blue\"> MBA em Ciência de Dados</span>\n",
    "# <span style=\"color:blue\">Aprendizado de Máquina</span>\n",
    "\n",
    "## <span style=\"color:blue\">Aula 03</span>\n",
    "**Material Produzido por André Carlos Ponce de Leon Ferreira de Carvalho**<br>\n",
    "**Cemeai - ICMC/USP São Carlos**"
   ]
  },
  {
   "cell_type": "markdown",
   "metadata": {},
   "source": [
    "<font color='red'> As respostas devem ser fornecidas no Moodle. O notebook é apenas para a implementação dos códigos que fornecerão as respostas</font>"
   ]
  },
  {
   "cell_type": "markdown",
   "metadata": {},
   "source": [
    "### Exercício 1\n",
    "Leave one out é um caso especial de?\n",
    "\n",
    "Escolha uma:<br>\n",
    "a. Bootstrap<br>\n",
    "<b>b. cross-validation<br></b>\n",
    "c. Hold out<br>\n",
    "d. Jacknife<br>"
   ]
  },
  {
   "cell_type": "code",
   "execution_count": 1,
   "metadata": {},
   "outputs": [
    {
     "name": "stdout",
     "output_type": "stream",
     "text": [
      "b. cross-validation\n"
     ]
    }
   ],
   "source": [
    "print('b. cross-validation')"
   ]
  },
  {
   "cell_type": "markdown",
   "metadata": {},
   "source": [
    "### Exercício 2\n",
    "O que é <font color='red'><b>falso</b></font> para comparação de algoritmos?\n",
    "\n",
    "Escolha uma:<br>\n",
    "<b>a. Os algoritmos devem usar valores default para os hiperparâmetros<br></b>\n",
    "b. Os algoritmos devem produzir o mesmo número de modelos<br>\n",
    "c. Os algoritmos devem usar as mesmas partições<br>\n",
    "d. Os algoritmos podem ser determinísticos<br>"
   ]
  },
  {
   "cell_type": "code",
   "execution_count": 2,
   "metadata": {},
   "outputs": [
    {
     "name": "stdout",
     "output_type": "stream",
     "text": [
      "a. Os algoritmos devem usar valores default para os hiperparâmetros\n"
     ]
    }
   ],
   "source": [
    "print('a. Os algoritmos devem usar valores default para os hiperparâmetros')"
   ]
  },
  {
   "cell_type": "markdown",
   "metadata": {},
   "source": [
    "### Exercício 3\n",
    "Que taxa mede o custo?\n",
    "\n",
    "Escolha uma:<br>\n",
    "a. TVP<br>\n",
    "b. TFN<br>\n",
    "<b>c. TFP<br></b>\n",
    "d. TVN<br>"
   ]
  },
  {
   "cell_type": "code",
   "execution_count": 3,
   "metadata": {},
   "outputs": [
    {
     "name": "stdout",
     "output_type": "stream",
     "text": [
      "c. TFP\n"
     ]
    }
   ],
   "source": [
    "print('c. TFP')"
   ]
  },
  {
   "cell_type": "markdown",
   "metadata": {},
   "source": [
    "### Exercício 4\n",
    "Qual destas medidas de avaliação verifica se nenhum exemplo negativo é deixado de fora, ou seja, classificado como positivo?\n",
    "\n",
    "Escolha uma:<br>\n",
    "a. Revocação<br>\n",
    "b. Precisão<br>\n",
    "c. Sensibilidade<br>\n",
    "<b>d. Especificidade<br></b>"
   ]
  },
  {
   "cell_type": "code",
   "execution_count": 4,
   "metadata": {},
   "outputs": [
    {
     "name": "stdout",
     "output_type": "stream",
     "text": [
      "d. Especificidade\n"
     ]
    }
   ],
   "source": [
    "print('d. Especificidade')"
   ]
  },
  {
   "cell_type": "markdown",
   "metadata": {},
   "source": [
    "### Exercício 5\n",
    "So o valor do k no k-NN for muito grande, o que pode ocorrer:\n",
    "\n",
    "Escolha uma:<br>\n",
    "a. Vai olhar a classe de poucos exemplos<br>\n",
    "b. O tempo de execução aumenta<br>\n",
    "c. Exemplos ruidosos são classificados incorretamente<br>\n",
    "<b>d. Aumenta a chance do exemplo ser classificado na classe majoritária<br></b>"
   ]
  },
  {
   "cell_type": "code",
   "execution_count": 5,
   "metadata": {},
   "outputs": [
    {
     "name": "stdout",
     "output_type": "stream",
     "text": [
      "d. Aumenta a chance do exemplo ser classificado na classe majoritária\n"
     ]
    }
   ],
   "source": [
    "print('d. Aumenta a chance do exemplo ser classificado na classe majoritária')"
   ]
  }
 ],
 "metadata": {
  "kernelspec": {
   "display_name": "Python 3",
   "language": "python",
   "name": "python3"
  },
  "language_info": {
   "codemirror_mode": {
    "name": "ipython",
    "version": 3
   },
   "file_extension": ".py",
   "mimetype": "text/x-python",
   "name": "python",
   "nbconvert_exporter": "python",
   "pygments_lexer": "ipython3",
   "version": "3.7.6"
  },
  "toc": {
   "base_numbering": 1,
   "nav_menu": {},
   "number_sections": true,
   "sideBar": true,
   "skip_h1_title": false,
   "title_cell": "Table of Contents",
   "title_sidebar": "Contents",
   "toc_cell": false,
   "toc_position": {},
   "toc_section_display": true,
   "toc_window_display": false
  }
 },
 "nbformat": 4,
 "nbformat_minor": 2
}
