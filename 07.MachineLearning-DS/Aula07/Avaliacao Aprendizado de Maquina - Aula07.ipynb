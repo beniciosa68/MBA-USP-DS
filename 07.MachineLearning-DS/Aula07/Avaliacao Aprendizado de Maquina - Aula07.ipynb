{
 "cells": [
  {
   "cell_type": "markdown",
   "metadata": {},
   "source": [
    "# <span style=\"color:blue\"> MBA em Ciência de Dados</span>\n",
    "# <span style=\"color:blue\">Aprendizado de Máquina</span>\n",
    "\n",
    "## <span style=\"color:blue\">Aula 07</span>\n",
    "**Material Produzido por André Carlos Ponce de Leon Ferreira de Carvalho**<br>\n",
    "**Cemeai - ICMC/USP São Carlos**"
   ]
  },
  {
   "cell_type": "markdown",
   "metadata": {},
   "source": [
    "<font color='red'> As respostas devem ser fornecidas no Moodle. O notebook é apenas para a implementação dos códigos que fornecerão as respostas</font>"
   ]
  },
  {
   "cell_type": "markdown",
   "metadata": {},
   "source": [
    "### Exercício 1\n",
    "Na teoria de aprendizado estatístico que risco <font color='red'><b>não</b></font> é possível minimizar diretamente?\n",
    "\n",
    "Escolha uma:<br>\n",
    "a. Risco funcional<br>\n",
    "b. Risco empírico<br>\n",
    "c. Risco preditivo<br>\n",
    "d. Risco de overfitting<br>"
   ]
  },
  {
   "cell_type": "code",
   "execution_count": 1,
   "metadata": {},
   "outputs": [
    {
     "name": "stdout",
     "output_type": "stream",
     "text": [
      "a. Risco funcional\n"
     ]
    }
   ],
   "source": [
    "print('a. Risco funcional')"
   ]
  },
  {
   "cell_type": "markdown",
   "metadata": {},
   "source": [
    "### Exercício 2\n",
    "O que as SVMs têm em comum com a rede neural perceptron?\n",
    "\n",
    "Escolha uma:<br>\n",
    "a. Podem ser usados apenas em problemas de classificação<br>\n",
    "b. Quando usados em problemas de classificação, estão limitados a problemas com  2 classes<br>\n",
    "c. Usam algoritmo de aprendizado não supervisionado<br>\n",
    "d. São baseados no sistema nervoso<br>"
   ]
  },
  {
   "cell_type": "code",
   "execution_count": 3,
   "metadata": {},
   "outputs": [
    {
     "name": "stdout",
     "output_type": "stream",
     "text": [
      "b. Quando usados em problemas de classificação, estão limitados a problemas com 2 classes\n"
     ]
    }
   ],
   "source": [
    "print('b. Quando usados em problemas de classificação, estão limitados a problemas com 2 classes')"
   ]
  },
  {
   "cell_type": "markdown",
   "metadata": {},
   "source": [
    "### Exercício 3\n",
    "Como as SVMs conseguem lidar com problemas não linearmente separáveis?\n",
    "\n",
    "Escolha uma:<br>\n",
    "a. Modificando mecanismos internos do algoritmo de treinamento<br>\n",
    "b. Aumentando a dimensão do espaço de atributos<br>\n",
    "c. Combinando mais de uma SVM<br>\n",
    "d. Usando mais de uma camada de SVMs<br>"
   ]
  },
  {
   "cell_type": "code",
   "execution_count": 4,
   "metadata": {},
   "outputs": [
    {
     "name": "stdout",
     "output_type": "stream",
     "text": [
      "b. Aumentando a dimensão do espaço de atributos\n"
     ]
    }
   ],
   "source": [
    "print('b. Aumentando a dimensão do espaço de atributos')"
   ]
  },
  {
   "cell_type": "markdown",
   "metadata": {},
   "source": [
    "### Exercício 4\n",
    "Como é gerada uma random forest (floresta aleatória)?\n",
    "\n",
    "Escolha uma:<br>\n",
    "a. Treinando cada árvore de decisão com uma amostra do conjunto de dados<br>\n",
    "b. Gerando várias árvores aleatoriamente<br>\n",
    "c. Treinando cada árvore de decisão com um subconjunto dos atributos preditivos<br>\n",
    "d. Treinando cada árvore de decisão com uma amostra do conjunto de dados e com um subconjunto dos atributos preditivos<br>"
   ]
  },
  {
   "cell_type": "code",
   "execution_count": 6,
   "metadata": {},
   "outputs": [
    {
     "name": "stdout",
     "output_type": "stream",
     "text": [
      "d. Treinando cada árvore de decisão com uma amostra do conjunto de dados e com um subconjunto dos atributos preditivos\n"
     ]
    }
   ],
   "source": [
    "print('d. Treinando cada árvore de decisão com uma amostra do conjunto de dados e com um subconjunto dos atributos preditivos')"
   ]
  },
  {
   "cell_type": "markdown",
   "metadata": {},
   "source": [
    "### Exercício 5\n",
    "Em um emsemble do tipo stacking, a saída final do ensemble é:\n",
    "\n",
    "Escolha uma:<br>\n",
    "a. Definida por um estimador que combina a saída dos estimadores base<br>\n",
    "b. A maioria dos votos dos estimadores base<br>\n",
    "c. A saída do estimador base que teve o melhor desempenho<br>\n",
    "d. A média da saída dos estimadores base<br>"
   ]
  },
  {
   "cell_type": "code",
   "execution_count": 5,
   "metadata": {},
   "outputs": [
    {
     "name": "stdout",
     "output_type": "stream",
     "text": [
      "a. Definida por um estimador que combina a saída dos estimadores base\n"
     ]
    }
   ],
   "source": [
    "print('a. Definida por um estimador que combina a saída dos estimadores base')"
   ]
  },
  {
   "cell_type": "code",
   "execution_count": null,
   "metadata": {},
   "outputs": [],
   "source": []
  }
 ],
 "metadata": {
  "kernelspec": {
   "display_name": "Python 3",
   "language": "python",
   "name": "python3"
  },
  "language_info": {
   "codemirror_mode": {
    "name": "ipython",
    "version": 3
   },
   "file_extension": ".py",
   "mimetype": "text/x-python",
   "name": "python",
   "nbconvert_exporter": "python",
   "pygments_lexer": "ipython3",
   "version": "3.7.6"
  },
  "toc": {
   "base_numbering": 1,
   "nav_menu": {},
   "number_sections": true,
   "sideBar": true,
   "skip_h1_title": false,
   "title_cell": "Table of Contents",
   "title_sidebar": "Contents",
   "toc_cell": false,
   "toc_position": {},
   "toc_section_display": true,
   "toc_window_display": false
  }
 },
 "nbformat": 4,
 "nbformat_minor": 2
}
