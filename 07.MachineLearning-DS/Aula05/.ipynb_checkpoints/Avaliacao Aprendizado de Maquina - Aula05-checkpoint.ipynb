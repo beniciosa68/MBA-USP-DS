{
 "cells": [
  {
   "cell_type": "markdown",
   "metadata": {},
   "source": [
    "# <span style=\"color:blue\"> MBA em Ciência de Dados</span>\n",
    "# <span style=\"color:blue\">Aprendizado de Máquina</span>\n",
    "\n",
    "## <span style=\"color:blue\">Aula 05</span>\n",
    "**Material Produzido por André Carlos Ponce de Leon Ferreira de Carvalho**<br>\n",
    "**Cemeai - ICMC/USP São Carlos**"
   ]
  },
  {
   "cell_type": "markdown",
   "metadata": {},
   "source": [
    "<font color='red'> As respostas devem ser fornecidas no Moodle. O notebook é apenas para a implementação dos códigos que fornecerão as respostas</font>"
   ]
  },
  {
   "cell_type": "markdown",
   "metadata": {},
   "source": [
    "### Exercício 1\n",
    "São características de modelos generativos:\n",
    "\n",
    "Escolha uma:<br>\n",
    "<b>a. Modelam a distribuição de cada classe<br></b>\n",
    "b. Servem apenas para regressão<br>\n",
    "c. Retornam um valor qualitativo<br>\n",
    "d. Modelam a fronteira de decisão<br>"
   ]
  },
  {
   "cell_type": "code",
   "execution_count": 1,
   "metadata": {},
   "outputs": [
    {
     "name": "stdout",
     "output_type": "stream",
     "text": [
      "a. Modelam a distribuição de cada classe\n"
     ]
    }
   ],
   "source": [
    "print('a. Modelam a distribuição de cada classe')"
   ]
  },
  {
   "cell_type": "markdown",
   "metadata": {},
   "source": [
    "### Exercício 2\n",
    "São características de modelos discriminativos:\n",
    "\n",
    "Escolha uma:<br>\n",
    "a. Modelam a distribuição de cada classe<br>\n",
    "b. Servem apenas para regressão<br>\n",
    "c. Retornam um valor qualitativo<br>\n",
    "<b>d. Modelam a fronteira de decisão<br></b>"
   ]
  },
  {
   "cell_type": "code",
   "execution_count": 2,
   "metadata": {},
   "outputs": [
    {
     "name": "stdout",
     "output_type": "stream",
     "text": [
      "d. Modelam a fronteira de decisão\n"
     ]
    }
   ],
   "source": [
    "print('d. Modelam a fronteira de decisão')"
   ]
  },
  {
   "cell_type": "markdown",
   "metadata": {},
   "source": [
    "### Exercício 3\n",
    "Dado que X representa um atributo preditivo e Y um atributo alvo, que probabilidade é difícil de estimar só olhando as frequências de valores em um conjunto de dados?\n",
    "\n",
    "Escolha uma:<br>\n",
    "a. P(Y)<br>\n",
    "b. P(X)<br>\n",
    "c. P(X/Y)<br>\n",
    "<b>d. P(Y/X)<br></b>"
   ]
  },
  {
   "cell_type": "code",
   "execution_count": 3,
   "metadata": {},
   "outputs": [
    {
     "name": "stdout",
     "output_type": "stream",
     "text": [
      "d. P(Y/X)\n"
     ]
    }
   ],
   "source": [
    "print('d. P(Y/X)')"
   ]
  },
  {
   "cell_type": "markdown",
   "metadata": {},
   "source": [
    "### Exercício 4\n",
    "Que afirmação <font color='red'><b>NÃO</b></font> está correta?\n",
    "\n",
    "Escolha uma:<br>\n",
    "a. Naive Bayes considera os atributos preditivos independentes<br>\n",
    "b. Naive Bayes tem um custo computacional baixo<br>\n",
    "c. Naive Bayes é generativo<br>\n",
    "d. Naive Bayes funciona apenas para problemas de classificação com 2 classes<br>"
   ]
  },
  {
   "cell_type": "code",
   "execution_count": 4,
   "metadata": {},
   "outputs": [
    {
     "name": "stdout",
     "output_type": "stream",
     "text": [
      "d. Naive Bayes funciona apenas para problemas de classificação com 2 classes\n"
     ]
    }
   ],
   "source": [
    "print('d. Naive Bayes funciona apenas para problemas de classificação com 2 classes')"
   ]
  },
  {
   "cell_type": "markdown",
   "metadata": {},
   "source": [
    "### Exercício 5\n",
    "Os dados são particionados em intervalos quando:\n",
    "\n",
    "Escolha uma:<br>\n",
    "a. O atributo preditivo é contínuo<br>\n",
    "b. O atributo preditivo é nominal<br>\n",
    "c. O atributo preditivo é um intervalo<br>\n",
    "d. O atributo preditivo é binário<br>"
   ]
  },
  {
   "cell_type": "code",
   "execution_count": 5,
   "metadata": {},
   "outputs": [
    {
     "name": "stdout",
     "output_type": "stream",
     "text": [
      "a. O atributo preditivo é contínuo\n"
     ]
    }
   ],
   "source": [
    "print('a. O atributo preditivo é contínuo')"
   ]
  },
  {
   "cell_type": "code",
   "execution_count": null,
   "metadata": {},
   "outputs": [],
   "source": []
  }
 ],
 "metadata": {
  "kernelspec": {
   "display_name": "Python 3",
   "language": "python",
   "name": "python3"
  },
  "language_info": {
   "codemirror_mode": {
    "name": "ipython",
    "version": 3
   },
   "file_extension": ".py",
   "mimetype": "text/x-python",
   "name": "python",
   "nbconvert_exporter": "python",
   "pygments_lexer": "ipython3",
   "version": "3.7.6"
  },
  "toc": {
   "base_numbering": 1,
   "nav_menu": {},
   "number_sections": true,
   "sideBar": true,
   "skip_h1_title": false,
   "title_cell": "Table of Contents",
   "title_sidebar": "Contents",
   "toc_cell": false,
   "toc_position": {},
   "toc_section_display": true,
   "toc_window_display": false
  }
 },
 "nbformat": 4,
 "nbformat_minor": 2
}
