{
 "cells": [
  {
   "cell_type": "markdown",
   "metadata": {},
   "source": [
    "# <span style=\"color:blue\"> MBA em Ciência de Dados</span>\n",
    "# <span style=\"color:blue\">Aprendizado de Máquina</span>\n",
    "\n",
    "## <span style=\"color:blue\">Aula 02</span>\n",
    "**Material Produzido por André Carlos Ponce de Leon Ferreira de Carvalho**<br>\n",
    "**Cemeai - ICMC/USP São Carlos**"
   ]
  },
  {
   "cell_type": "markdown",
   "metadata": {},
   "source": [
    "<font color='red'> As respostas devem ser fornecidas no Moodle. O notebook é apenas para a implementação dos códigos que fornecerão as respostas</font>"
   ]
  },
  {
   "cell_type": "markdown",
   "metadata": {},
   "source": [
    "### Exercício 1\n",
    "\n",
    "Assinalar a alternativa <font color='green'><b>correta</b></font>. O que faz o Nettalk?\n",
    "\n",
    "Escolha uma:<br>\n",
    "a. Conversa com pessoas<br>\n",
    "b. Traduz texto de um idioma para outro<br>\n",
    "<b>c. Transforma texto em fala<br></b>\n",
    "d. Interpreta conversas<br>"
   ]
  },
  {
   "cell_type": "code",
   "execution_count": 2,
   "metadata": {},
   "outputs": [
    {
     "name": "stdout",
     "output_type": "stream",
     "text": [
      "c. Transforma texto em fala\n"
     ]
    }
   ],
   "source": [
    "print('c. Transforma texto em fala')"
   ]
  },
  {
   "cell_type": "markdown",
   "metadata": {},
   "source": [
    "### Exercício 2\n",
    "Assinalar a alternativa <font color='green'><b>correta</b></font>. O que está errado sobre dedução?\n",
    "\n",
    "Escolha uma:<br>\n",
    "a. É usado na lógica matemática<br>\n",
    "b. É Top-Down<br>\n",
    "c. É uma forma de argumentação<br>\n",
    "<b>d. Vai do específico para o geral<br>"
   ]
  },
  {
   "cell_type": "code",
   "execution_count": 1,
   "metadata": {},
   "outputs": [
    {
     "name": "stdout",
     "output_type": "stream",
     "text": [
      "d. Vai do específico para o geral\n"
     ]
    }
   ],
   "source": [
    "print('d. Vai do específico para o geral')"
   ]
  },
  {
   "cell_type": "markdown",
   "metadata": {},
   "source": [
    "### Exercício 3\n",
    "Assinalar a alternativa <font color='green'><b>correta</b></font>. Qual o melhor cenário relacionado a viés e variância:\n",
    "\n",
    "Escolha uma:<br>\n",
    "a. Viés baixo e variância alta<br>\n",
    "b. Viés alto e variância baixa<br>\n",
    "<b>c. Viés baixo e variância baixa<br></b>\n",
    "d. Viés alto e variância alta<br>"
   ]
  },
  {
   "cell_type": "code",
   "execution_count": 6,
   "metadata": {},
   "outputs": [
    {
     "name": "stdout",
     "output_type": "stream",
     "text": [
      "c. Viés baixo e variância baixa\n"
     ]
    }
   ],
   "source": [
    "print('c. Viés baixo e variância baixa')"
   ]
  },
  {
   "cell_type": "markdown",
   "metadata": {},
   "source": [
    "### Exercício 4\n",
    "Assinalar a alternativa <font color='green'><b>correta</b></font>. O que faz ALVINN:\n",
    "\n",
    "Escolha uma:<br>\n",
    "a. Ultrapassa outros carros<br>\n",
    "<b>b. Aprende a dirigir usando duas câmeras<br></b>\n",
    "c. Dirige usando um navegador<br>\n",
    "d. Aprende a girar a direção e a acelerar um veículo<br>"
   ]
  },
  {
   "cell_type": "code",
   "execution_count": 4,
   "metadata": {},
   "outputs": [
    {
     "name": "stdout",
     "output_type": "stream",
     "text": [
      "b. Aprende a dirigir usando duas câmeras\n"
     ]
    }
   ],
   "source": [
    "print('b. Aprende a dirigir usando duas câmeras')"
   ]
  },
  {
   "cell_type": "markdown",
   "metadata": {},
   "source": [
    "### Exercício 5\n",
    "Assinalar a alternativa <font color='green'><b>correta</b></font> sobre viés indutivo:\n",
    "\n",
    "Escolha uma:<br>\n",
    "a. Precisa ser alto<br>\n",
    "b. Precisa ser baixo<br>\n",
    "c. Depende da variância<br>\n",
    "<b>d. Sem ele um algoritmo não aprende<br></b>"
   ]
  },
  {
   "cell_type": "code",
   "execution_count": 5,
   "metadata": {},
   "outputs": [
    {
     "name": "stdout",
     "output_type": "stream",
     "text": [
      "d. Sem ele um algoritmo não aprende\n"
     ]
    }
   ],
   "source": [
    "print('d. Sem ele um algoritmo não aprende')"
   ]
  }
 ],
 "metadata": {
  "kernelspec": {
   "display_name": "Python 3",
   "language": "python",
   "name": "python3"
  },
  "language_info": {
   "codemirror_mode": {
    "name": "ipython",
    "version": 3
   },
   "file_extension": ".py",
   "mimetype": "text/x-python",
   "name": "python",
   "nbconvert_exporter": "python",
   "pygments_lexer": "ipython3",
   "version": "3.8.3"
  },
  "toc": {
   "base_numbering": 1,
   "nav_menu": {},
   "number_sections": true,
   "sideBar": true,
   "skip_h1_title": false,
   "title_cell": "Table of Contents",
   "title_sidebar": "Contents",
   "toc_cell": false,
   "toc_position": {},
   "toc_section_display": true,
   "toc_window_display": false
  }
 },
 "nbformat": 4,
 "nbformat_minor": 2
}
