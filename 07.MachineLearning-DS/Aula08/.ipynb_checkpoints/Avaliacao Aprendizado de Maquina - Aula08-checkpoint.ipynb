{
 "cells": [
  {
   "cell_type": "markdown",
   "metadata": {},
   "source": [
    "# <span style=\"color:blue\"> MBA em Ciência de Dados</span>\n",
    "# <span style=\"color:blue\">Aprendizado de Máquina</span>\n",
    "\n",
    "## <span style=\"color:blue\">Aula 08</span>\n",
    "**Material Produzido por André Carlos Ponce de Leon Ferreira de Carvalho**<br>\n",
    "**Cemeai - ICMC/USP São Carlos**"
   ]
  },
  {
   "cell_type": "markdown",
   "metadata": {},
   "source": [
    "<font color='red'> As respostas devem ser fornecidas no Moodle. O notebook é apenas para a implementação dos códigos que fornecerão as respostas</font>"
   ]
  },
  {
   "cell_type": "markdown",
   "metadata": {},
   "source": [
    "### Exercício 1\n",
    "<font color='red'><b>NÃO</b></font> é uma classe de algoritmo de agrupamento de dados?\n",
    "\n",
    "Escolha uma:<br>\n",
    "a. Algoritmos hierárquicos<br>\n",
    "b. Algoritmos particionais<br>\n",
    "<b>c. Algoritmos não supervisionados<br></b>\n",
    "d. Algoritmos baseados em grafos<br>"
   ]
  },
  {
   "cell_type": "code",
   "execution_count": 1,
   "metadata": {},
   "outputs": [
    {
     "name": "stdout",
     "output_type": "stream",
     "text": [
      "c. Algoritmos não supervisionados\n"
     ]
    }
   ],
   "source": [
    "print('c. Algoritmos não supervisionados')"
   ]
  },
  {
   "cell_type": "markdown",
   "metadata": {},
   "source": [
    "### Exercício 2\n",
    "Em um algoritmo de agrupamento fuzzy:\n",
    "\n",
    "Escolha uma:<br>\n",
    "<b>a. Objetos podem pertencer parcialmente a mais de um grupo<br></b>\n",
    "b. Não está claro quantos objetos pertencem a cada grupo<br>\n",
    "c. Objetos podem pertencer totalmente a mais de um grupo<br>\n",
    "d. Objetos podem pertencer a um único grupo<br>"
   ]
  },
  {
   "cell_type": "code",
   "execution_count": 6,
   "metadata": {},
   "outputs": [
    {
     "name": "stdout",
     "output_type": "stream",
     "text": [
      "a. Objetos podem pertencer parcialmente a mais de um grupo\n"
     ]
    }
   ],
   "source": [
    "print('a. Objetos podem pertencer parcialmente a mais de um grupo')"
   ]
  },
  {
   "cell_type": "markdown",
   "metadata": {},
   "source": [
    "### Exercício 3\n",
    "O que é <font color='red'><b>falso</b></font> para algoritmos de agrupamento hierárquico?\n",
    "\n",
    "Escolha uma:<br>\n",
    "a. Partições podem ser realizadas por medidas externas<br>\n",
    "b. É possível extrair uma partição<br>\n",
    "c. A ordem dos elementos na base do dendograma influencia a hierarquia de partições<br>\n",
    "d. Partições geradas podem ser representadas por um diagrama de Venn<br>"
   ]
  },
  {
   "cell_type": "code",
   "execution_count": 4,
   "metadata": {},
   "outputs": [
    {
     "name": "stdout",
     "output_type": "stream",
     "text": [
      "c. A ordem dos elementos na base do dendograma influencia a hierarquia de partições\n"
     ]
    }
   ],
   "source": [
    "print('c. A ordem dos elementos na base do dendograma influencia a hierarquia de partições')"
   ]
  },
  {
   "cell_type": "markdown",
   "metadata": {},
   "source": [
    "### Exercício 4\n",
    "Algoritmos de agrupamento hierárquico podem ser?\n",
    "\n",
    "Escolha uma:<br>\n",
    "<b>a. Aglomerativos ou divisivos<br></b>\n",
    "b. Aglomerativos ou distinguíveis<br>\n",
    "c. Agrupativos ou divisivos<br>\n",
    "d. Agrupativos ou distinguíveis<br>"
   ]
  },
  {
   "cell_type": "code",
   "execution_count": 3,
   "metadata": {},
   "outputs": [
    {
     "name": "stdout",
     "output_type": "stream",
     "text": [
      "a. Aglomerativos ou divisivos\n"
     ]
    }
   ],
   "source": [
    "print('a. Aglomerativos ou divisivos')"
   ]
  },
  {
   "cell_type": "markdown",
   "metadata": {},
   "source": [
    "### Exercício 5\n",
    "Silheta é uma medida de validação:\n",
    "\n",
    "Escolha uma:<br>\n",
    "a. Não supervisionada<br>\n",
    "<b>b. Interna<br></b>\n",
    "c. Relativa<br>\n",
    "d. Externa<br>"
   ]
  },
  {
   "cell_type": "code",
   "execution_count": 5,
   "metadata": {},
   "outputs": [
    {
     "name": "stdout",
     "output_type": "stream",
     "text": [
      "b. Interna\n"
     ]
    }
   ],
   "source": [
    "print('b. Interna')"
   ]
  }
 ],
 "metadata": {
  "kernelspec": {
   "display_name": "Python 3",
   "language": "python",
   "name": "python3"
  },
  "language_info": {
   "codemirror_mode": {
    "name": "ipython",
    "version": 3
   },
   "file_extension": ".py",
   "mimetype": "text/x-python",
   "name": "python",
   "nbconvert_exporter": "python",
   "pygments_lexer": "ipython3",
   "version": "3.7.6"
  },
  "toc": {
   "base_numbering": 1,
   "nav_menu": {},
   "number_sections": true,
   "sideBar": true,
   "skip_h1_title": false,
   "title_cell": "Table of Contents",
   "title_sidebar": "Contents",
   "toc_cell": false,
   "toc_position": {},
   "toc_section_display": true,
   "toc_window_display": false
  }
 },
 "nbformat": 4,
 "nbformat_minor": 2
}
