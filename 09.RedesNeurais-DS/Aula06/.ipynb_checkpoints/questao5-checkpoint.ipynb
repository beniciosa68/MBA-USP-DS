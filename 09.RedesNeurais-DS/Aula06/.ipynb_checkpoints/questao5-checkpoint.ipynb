{
 "cells": [
  {
   "cell_type": "code",
   "execution_count": 1,
   "metadata": {
    "id": "TaqYWLRs-2JO"
   },
   "outputs": [],
   "source": [
    "import os\n",
    "import numpy as np\n",
    "import matplotlib.pyplot as plt\n",
    "import tensorflow as tf\n",
    "import pandas as pd\n",
    "\n",
    "from tensorflow import keras\n",
    "from tensorflow.keras import layers\n",
    "from numpy.random import seed\n",
    "from tensorflow.random import set_seed"
   ]
  },
  {
   "cell_type": "code",
   "execution_count": 1,
   "metadata": {
    "colab": {
     "base_uri": "https://localhost:8080/"
    },
    "id": "k8WKjweO99aT",
    "outputId": "c38e3bea-5f90-408b-c6f8-a1f64b05ed83"
   },
   "outputs": [
    {
     "name": "stdout",
     "output_type": "stream",
     "text": [
      "--2020-11-02 12:42:48--  http://143.107.183.175:22980/download.php?file=embeddings/glove/glove_s50.zip\n",
      "Connecting to 143.107.183.175:22980... connected.\n",
      "HTTP request sent, awaiting response... 200 OK\n",
      "Length: 181356545 (173M) [application/octet-stream]\n",
      "Saving to: ‘download.php?file=embeddings%2Fglove%2Fglove_s50.zip’\n",
      "\n",
      "download.php?file=e 100%[===================>] 172.96M   357KB/s    in 3m 58s  \n",
      "\n",
      "2020-11-02 12:46:46 (745 KB/s) - ‘download.php?file=embeddings%2Fglove%2Fglove_s50.zip’ saved [181356545/181356545]\n",
      "\n"
     ]
    }
   ],
   "source": [
    "!wget http://143.107.183.175:22980/download.php?file=embeddings/glove/glove_s50.zip"
   ]
  },
  {
   "cell_type": "code",
   "execution_count": 47,
   "metadata": {
    "colab": {
     "base_uri": "https://localhost:8080/"
    },
    "id": "s85v2lQp_Afb",
    "outputId": "2a042d98-2f86-48f5-a8de-51985826249c"
   },
   "outputs": [
    {
     "name": "stdout",
     "output_type": "stream",
     "text": [
      "mv: cannot stat 'download.php?file=embeddings%2Fglove%2Fglove_s50.zip': No such file or directory\n",
      "replace glove_s50.txt? [y]es, [n]o, [A]ll, [N]one, [r]ename: n\n"
     ]
    }
   ],
   "source": [
    "!mv download.php?file=embeddings%2Fglove%2Fglove_s50.zip glove_s50.zip\n",
    "!unzip -q glove_s50.zip"
   ]
  },
  {
   "cell_type": "code",
   "execution_count": 8,
   "metadata": {
    "colab": {
     "base_uri": "https://localhost:8080/"
    },
    "id": "3SnxHBL-_DUG",
    "outputId": "71e9858b-e849-480e-a523-9226ae40190b"
   },
   "outputs": [
    {
     "name": "stderr",
     "output_type": "stream",
     "text": [
      "<ipython-input-8-07264d539109>:7: DeprecationWarning: string or file could not be read to its end due to unmatched data; this will raise a ValueError in the future.\n",
      "  coefs = np.fromstring(coefs, \"f\", sep=\" \")\n"
     ]
    },
    {
     "name": "stdout",
     "output_type": "stream",
     "text": [
      "Encontrados 929594 word vectors.\n"
     ]
    }
   ],
   "source": [
    "path_to_glove_file = \".\\glove_s50.txt\"\n",
    "\n",
    "embeddings_index = {}\n",
    "with open(path_to_glove_file,encoding=\"utf-8\") as f:\n",
    "    for line in f:\n",
    "        word, coefs = line.split(maxsplit=1)\n",
    "        coefs = np.fromstring(coefs, \"f\", sep=\" \")\n",
    "        embeddings_index[word] = coefs\n",
    "\n",
    "print(\"Encontrados %s word vectors.\" % len(embeddings_index))"
   ]
  },
  {
   "cell_type": "code",
   "execution_count": 9,
   "metadata": {
    "colab": {
     "base_uri": "https://localhost:8080/"
    },
    "id": "DnMk2WyzoH2L",
    "outputId": "a0c10d55-6b9d-44f9-df5b-79b2897159e7"
   },
   "outputs": [
    {
     "name": "stdout",
     "output_type": "stream",
     "text": [
      "{'': 0, '[UNK]': 1, 'triste': 2, 'teclado': 3, 'música': 4, 'livro': 5, 'feliz': 6, 'estudo': 7, 'escritório': 8, 'celular': 9, 'cansado': 10, 'arte': 11}\n"
     ]
    }
   ],
   "source": [
    "seed(1)\n",
    "set_seed(2)\n",
    "\n",
    "#palavras de estudo\n",
    "words = ['celular', 'triste', 'arte', 'livro', 'feliz', 'cansado', 'teclado', 'música', 'estudo', 'escritório']\n",
    "\n",
    "#vetorização\n",
    "from tensorflow.keras.layers.experimental.preprocessing import TextVectorization\n",
    "\n",
    "vectorizer = TextVectorization(max_tokens=5000, output_sequence_length=10)\n",
    "text_ds = tf.data.Dataset.from_tensor_slices(words).batch(16)\n",
    "vectorizer.adapt(text_ds)\n",
    "\n",
    "voc = vectorizer.get_vocabulary()\n",
    "word_index = dict(zip(voc, range(len(voc))))\n",
    "\n",
    "print(word_index)"
   ]
  },
  {
   "cell_type": "code",
   "execution_count": 11,
   "metadata": {
    "colab": {
     "base_uri": "https://localhost:8080/"
    },
    "id": "3vgdUbg3lqyR",
    "outputId": "2982fa51-1a76-4218-e006-36168dc7b40b"
   },
   "outputs": [
    {
     "name": "stdout",
     "output_type": "stream",
     "text": [
      "Número de tokens:  12\n",
      "\n",
      "Palavras Convertidas\n",
      "(12, 50)\n",
      "Convertida (Não):  \n",
      "Convertida (Não):  [UNK]\n",
      "Convertida (Sim):  triste\n",
      "Convertida (Sim):  teclado\n",
      "Convertida (Sim):  música\n",
      "Convertida (Sim):  livro\n",
      "Convertida (Sim):  feliz\n",
      "Convertida (Sim):  estudo\n",
      "Convertida (Sim):  escritório\n",
      "Convertida (Sim):  celular\n",
      "Convertida (Sim):  cansado\n",
      "Convertida (Sim):  arte\n",
      "\n",
      "Total de palavras convertidas: 10 | não convertidas: 2)\n",
      "\n",
      "Índices das classes na matrix:\n",
      "tf.Tensor([[ 9  2 11  5  6 10  3  4  7  8]], shape=(1, 10), dtype=int64)\n"
     ]
    }
   ],
   "source": [
    "#apresentando palavras que encontram-se no vocabulario\n",
    "\n",
    "num_tokens = len(voc)\n",
    "print(\"Número de tokens: \", num_tokens)\n",
    "embedding_dim = 50\n",
    "convertidas = 0\n",
    "falhas = 0\n",
    "print()\n",
    "embedding_matrix = np.zeros((num_tokens, embedding_dim))\n",
    "print('Palavras Convertidas')\n",
    "print(embedding_matrix.shape)\n",
    "for word, i in word_index.items():\n",
    "    embedding_vector = embeddings_index.get(word)\n",
    "    if embedding_vector is not None:\n",
    "        if (embedding_vector.shape[0] != embedding_dim):\n",
    "            falhas += 1\n",
    "            print('Convertida (Não): ',word)\n",
    "        else:\n",
    "            embedding_matrix[i] = embedding_vector\n",
    "            convertidas += 1\n",
    "            print('Convertida (Sim): ',word)\n",
    "    else:\n",
    "        falhas += 1\n",
    "        print('Convertida (Não): ',word)\n",
    "print()\n",
    "print(\"Total de palavras convertidas: %d | não convertidas: %d)\" % (convertidas, falhas))\n",
    "print()\n",
    "\n",
    "#indices das classes na matrix\n",
    "print('Índices das classes na matrix:')\n",
    "output = vectorizer([[\"celular triste arte livro feliz cansado teclado música estudo escritório\"]])\n",
    "print(output)"
   ]
  },
  {
   "cell_type": "code",
   "execution_count": 12,
   "metadata": {
    "id": "jWbQoLrxWj9d"
   },
   "outputs": [],
   "source": [
    "#função de normalização, caso queira aplicar a normalização nos dados\n",
    "def normalize(train):\n",
    "    d_max = np.max(train)\n",
    "    d_min = np.min(train)\t\t\n",
    "    return ((train - d_min) / (d_max-d_min))"
   ]
  },
  {
   "cell_type": "code",
   "execution_count": 13,
   "metadata": {
    "colab": {
     "base_uri": "https://localhost:8080/",
     "height": 421
    },
    "id": "LU28LnBUlyXf",
    "outputId": "a47ad366-028a-43e6-9559-b3cbed0d48b5"
   },
   "outputs": [
    {
     "data": {
      "text/html": [
       "<div>\n",
       "<style scoped>\n",
       "    .dataframe tbody tr th:only-of-type {\n",
       "        vertical-align: middle;\n",
       "    }\n",
       "\n",
       "    .dataframe tbody tr th {\n",
       "        vertical-align: top;\n",
       "    }\n",
       "\n",
       "    .dataframe thead th {\n",
       "        text-align: right;\n",
       "    }\n",
       "</style>\n",
       "<table border=\"1\" class=\"dataframe\">\n",
       "  <thead>\n",
       "    <tr style=\"text-align: right;\">\n",
       "      <th></th>\n",
       "      <th>classes</th>\n",
       "      <th>x</th>\n",
       "      <th>y</th>\n",
       "    </tr>\n",
       "  </thead>\n",
       "  <tbody>\n",
       "    <tr>\n",
       "      <th>0</th>\n",
       "      <td></td>\n",
       "      <td>0.763272</td>\n",
       "      <td>1.270712</td>\n",
       "    </tr>\n",
       "    <tr>\n",
       "      <th>1</th>\n",
       "      <td>[UNK]</td>\n",
       "      <td>0.763272</td>\n",
       "      <td>1.270712</td>\n",
       "    </tr>\n",
       "    <tr>\n",
       "      <th>2</th>\n",
       "      <td>triste</td>\n",
       "      <td>2.933856</td>\n",
       "      <td>-1.801652</td>\n",
       "    </tr>\n",
       "    <tr>\n",
       "      <th>3</th>\n",
       "      <td>teclado</td>\n",
       "      <td>-1.127462</td>\n",
       "      <td>2.879138</td>\n",
       "    </tr>\n",
       "    <tr>\n",
       "      <th>4</th>\n",
       "      <td>música</td>\n",
       "      <td>-2.086134</td>\n",
       "      <td>-2.172870</td>\n",
       "    </tr>\n",
       "    <tr>\n",
       "      <th>5</th>\n",
       "      <td>livro</td>\n",
       "      <td>-1.642176</td>\n",
       "      <td>-2.092636</td>\n",
       "    </tr>\n",
       "    <tr>\n",
       "      <th>6</th>\n",
       "      <td>feliz</td>\n",
       "      <td>2.904129</td>\n",
       "      <td>-1.637500</td>\n",
       "    </tr>\n",
       "    <tr>\n",
       "      <th>7</th>\n",
       "      <td>estudo</td>\n",
       "      <td>-2.570981</td>\n",
       "      <td>-0.259961</td>\n",
       "    </tr>\n",
       "    <tr>\n",
       "      <th>8</th>\n",
       "      <td>escritório</td>\n",
       "      <td>-0.057668</td>\n",
       "      <td>1.436756</td>\n",
       "    </tr>\n",
       "    <tr>\n",
       "      <th>9</th>\n",
       "      <td>celular</td>\n",
       "      <td>-0.534874</td>\n",
       "      <td>3.306433</td>\n",
       "    </tr>\n",
       "    <tr>\n",
       "      <th>10</th>\n",
       "      <td>cansado</td>\n",
       "      <td>3.004718</td>\n",
       "      <td>-0.113281</td>\n",
       "    </tr>\n",
       "    <tr>\n",
       "      <th>11</th>\n",
       "      <td>arte</td>\n",
       "      <td>-2.349952</td>\n",
       "      <td>-2.085850</td>\n",
       "    </tr>\n",
       "  </tbody>\n",
       "</table>\n",
       "</div>"
      ],
      "text/plain": [
       "       classes         x         y\n",
       "0               0.763272  1.270712\n",
       "1        [UNK]  0.763272  1.270712\n",
       "2       triste  2.933856 -1.801652\n",
       "3      teclado -1.127462  2.879138\n",
       "4       música -2.086134 -2.172870\n",
       "5        livro -1.642176 -2.092636\n",
       "6        feliz  2.904129 -1.637500\n",
       "7       estudo -2.570981 -0.259961\n",
       "8   escritório -0.057668  1.436756\n",
       "9      celular -0.534874  3.306433\n",
       "10     cansado  3.004718 -0.113281\n",
       "11        arte -2.349952 -2.085850"
      ]
     },
     "execution_count": 13,
     "metadata": {},
     "output_type": "execute_result"
    }
   ],
   "source": [
    "from sklearn.decomposition import PCA \n",
    "\n",
    "n_train = normalize(embedding_matrix) #dado normalizado, caso queira aplicar, mas não é necessário.\n",
    "\n",
    "pca = PCA(n_components=2 , random_state=1)\n",
    "#pca_result = pca.fit_transform(n_train) #caso queira normalizar os dados, basta aplicar este PCA\n",
    "pca_result = pca.fit_transform(embedding_matrix)\n",
    "\n",
    "#fazendo o de-para de acordo com os índices do embedding_matrix:\n",
    "dic={' ':pca_result[0], '[UNK]':pca_result[1], 'triste':pca_result[2], 'teclado':pca_result[3], 'música':pca_result[4], 'livro':pca_result[5], \n",
    "     'feliz':pca_result[6], 'estudo':pca_result[7], 'escritório':pca_result[8], 'celular':pca_result[9], 'cansado':pca_result[10], 'arte':pca_result[11]} \n",
    "\n",
    "#print(pca_result)\n",
    "data_pca = pd.DataFrame(pca_result, columns=['x','y'])\n",
    "\n",
    "#atribuindo classes corretras ao dataframe:\n",
    "data_pca.insert(0,'classes', [' ', '[UNK]', 'triste', 'teclado', 'música', 'livro', 'feliz', 'estudo' ,'escritório', 'celular', 'cansado', 'arte'], True)\n",
    "\n",
    "#print(pca_result)\n",
    "data_pca.head(12)"
   ]
  },
  {
   "cell_type": "code",
   "execution_count": 14,
   "metadata": {
    "colab": {
     "base_uri": "https://localhost:8080/",
     "height": 374
    },
    "id": "hmSJSyiLlmcx",
    "outputId": "7b8bf1c9-215f-492a-8d19-66409368a14f"
   },
   "outputs": [
    {
     "data": {
      "image/png": "[encoded data removed]",
      "text/plain": [
       "<Figure size 1440x432 with 1 Axes>"
      ]
     },
     "metadata": {
      "needs_background": "light"
     },
     "output_type": "display_data"
    }
   ],
   "source": [
    "classes = np.unique(data_pca['classes'].iloc[2:]) #pegando os dados a partir do índice 2, pois os 2 primeiros elementos não estão no vocabulário\n",
    "classes_invertido = classes[::-1] #invertendo a ordem do array\n",
    "colors = ['r', 'g', 'b', 'c', 'm', 'y', 'k', 'tab:gray','tab:orange', 'tab:brown'] #cores para o gráfico\n",
    "aux=0\n",
    "\n",
    "plt.figure(figsize=(20,6))\n",
    "\n",
    "for c in classes_invertido: #por algum motivo, ele leu o classes de trás pra frente. Para corrigir isso, precisei inverter a ordem do array.\n",
    "  plt.scatter(x=data_pca['x'].iloc[aux+2], y=data_pca['y'].iloc[aux+2], color=colors[aux], label=c) #apresentando os dados a partir do índice 2\n",
    "  aux=aux+1\n",
    "\n",
    "plt.legend()\n",
    "plt.show(True)"
   ]
  },
  {
   "cell_type": "code",
   "execution_count": 15,
   "metadata": {
    "colab": {
     "base_uri": "https://localhost:8080/"
    },
    "id": "D4_8LYUXu6qY",
    "outputId": "f82acf8e-b262-4a90-8add-97daab3084a2"
   },
   "outputs": [
    {
     "name": "stdout",
     "output_type": "stream",
     "text": [
      "Distâncias Euclidianas da palavra Celular:\n",
      "\n",
      "2.832 ->  celular - triste\n",
      "0.731 ->  celular - teclado\n",
      "1.921 ->  celular - música\n",
      "1.643 ->  celular - livro\n",
      "2.898 ->  celular - feliz\n",
      "3.664 ->  celular - estudo\n",
      "1.930 ->  celular - escritório\n",
      "0.000 ->  celular - celular\n",
      "4.037 ->  celular - cansado\n",
      "2.187 ->  celular - arte\n"
     ]
    }
   ],
   "source": [
    "from scipy.spatial import distance\n",
    "\n",
    "print('Distâncias Euclidianas da palavra Celular:')\n",
    "print()\n",
    "for i in range(2,12):\n",
    "  print('%.3f' % distance.euclidean(np.abs(pca_result[9]),np.abs(pca_result[i])),'->',' celular -',data_pca['classes'].iloc[i])"
   ]
  },
  {
   "cell_type": "code",
   "execution_count": 16,
   "metadata": {
    "colab": {
     "base_uri": "https://localhost:8080/"
    },
    "id": "w_J7nW9tcnrx",
    "outputId": "e8fd84ff-eb32-4077-aa7c-8d6c1042fedc"
   },
   "outputs": [
    {
     "name": "stdout",
     "output_type": "stream",
     "text": [
      "Distâncias Euclidianas da palavra Triste:\n",
      "\n",
      "0.000 ->  triste - triste\n",
      "2.103 ->  triste - teclado\n",
      "0.925 ->  triste - música\n",
      "1.324 ->  triste - livro\n",
      "0.167 ->  triste - feliz\n",
      "1.584 ->  triste - estudo\n",
      "2.899 ->  triste - escritório\n",
      "2.832 ->  triste - celular\n",
      "1.690 ->  triste - cansado\n",
      "0.649 ->  triste - arte\n"
     ]
    }
   ],
   "source": [
    "print('Distâncias Euclidianas da palavra Triste:')\n",
    "print()\n",
    "for i in range(2,12):\n",
    "  print('%.3f' % distance.euclidean(np.abs(pca_result[2]),np.abs(pca_result[i])),'->',' triste -',data_pca['classes'].iloc[i])"
   ]
  },
  {
   "cell_type": "code",
   "execution_count": 17,
   "metadata": {
    "colab": {
     "base_uri": "https://localhost:8080/"
    },
    "id": "HNNWgaib5KPY",
    "outputId": "9a10001f-509b-4365-8e2c-e60b216216be"
   },
   "outputs": [
    {
     "name": "stdout",
     "output_type": "stream",
     "text": [
      "Distâncias Euclidianas da palavra Arte:\n",
      "\n",
      "0.649 ->  arte - triste\n",
      "1.457 ->  arte - teclado\n",
      "0.278 ->  arte - música\n",
      "0.708 ->  arte - livro\n",
      "0.713 ->  arte - feliz\n",
      "1.839 ->  arte - estudo\n",
      "2.382 ->  arte - escritório\n",
      "2.187 ->  arte - celular\n",
      "2.078 ->  arte - cansado\n",
      "0.000 ->  arte - arte\n"
     ]
    }
   ],
   "source": [
    "print('Distâncias Euclidianas da palavra Arte:')\n",
    "print()\n",
    "for i in range(2,12):\n",
    "  print('%.3f' % distance.euclidean(np.abs(pca_result[11]),np.abs(pca_result[i])),'->',' arte -',data_pca['classes'].iloc[i])"
   ]
  },
  {
   "cell_type": "code",
   "execution_count": 18,
   "metadata": {
    "colab": {
     "base_uri": "https://localhost:8080/"
    },
    "id": "Iw8t7sgOk8nE",
    "outputId": "6a5a5a7d-3434-4896-b595-6e00ae41cf1d"
   },
   "outputs": [
    {
     "name": "stdout",
     "output_type": "stream",
     "text": [
      "Respostas:\n",
      "0.731 ->  celular - teclado\n",
      "0.167 ->  triste - feliz\n",
      "0.278 ->  arte - música\n"
     ]
    }
   ],
   "source": [
    "print('Respostas:')\n",
    "print('0.731 ->  celular - teclado')\n",
    "print('0.167 ->  triste - feliz')\n",
    "print('0.278 ->  arte - música')"
   ]
  },
  {
   "cell_type": "code",
   "execution_count": null,
   "metadata": {},
   "outputs": [],
   "source": []
  }
 ],
 "metadata": {
  "colab": {
   "collapsed_sections": [],
   "name": "questao5.ipynb",
   "provenance": []
  },
  "kernelspec": {
   "display_name": "Python 3",
   "language": "python",
   "name": "python3"
  },
  "language_info": {
   "codemirror_mode": {
    "name": "ipython",
    "version": 3
   },
   "file_extension": ".py",
   "mimetype": "text/x-python",
   "name": "python",
   "nbconvert_exporter": "python",
   "pygments_lexer": "ipython3",
   "version": "3.8.3"
  }
 },
 "nbformat": 4,
 "nbformat_minor": 1
}
