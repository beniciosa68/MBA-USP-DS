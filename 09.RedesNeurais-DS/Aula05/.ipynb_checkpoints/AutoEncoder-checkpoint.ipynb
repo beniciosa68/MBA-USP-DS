{
 "cells": [
  {
   "cell_type": "markdown",
   "metadata": {
    "id": "P_iP73y2mCMQ"
   },
   "source": [
    "# AutoEncoder para inicializar pesos de uma CNN\n",
    "\n",
    "\n",
    "Antes de iniciar a execução do código faça a seguinte alteração: Menu: **Ambiente de execução -> Alterar o tipo de ambiente de execução -> GPU**"
   ]
  },
  {
   "cell_type": "code",
   "execution_count": null,
   "metadata": {
    "id": "24WOZMWukEmQ"
   },
   "outputs": [],
   "source": [
    "import numpy as np\n",
    "from PIL import Image\n",
    "\n",
    "from keras.models import Model, Sequential\n",
    "from keras.layers import Input, Conv2D, MaxPooling2D, Flatten, Reshape, UpSampling2D, Conv2DTranspose, Dense\n",
    "from keras.models import load_model\n",
    "from keras.datasets import cifar10\n",
    "from keras.utils import to_categorical\n",
    "\n",
    "from sklearn.decomposition import PCA\n",
    "\n",
    "import matplotlib.pyplot as plt\n",
    "\n",
    "from numpy.random import seed\n",
    "from tensorflow.random import set_seed"
   ]
  },
  {
   "cell_type": "markdown",
   "metadata": {
    "id": "6XMcnDsymP6H"
   },
   "source": [
    "**Definição de parâmetros:**"
   ]
  },
  {
   "cell_type": "code",
   "execution_count": null,
   "metadata": {
    "id": "7Nwz3YkPk_HZ"
   },
   "outputs": [],
   "source": [
    "batchSize = 32\n",
    "numberEpochs = 50"
   ]
  },
  {
   "cell_type": "markdown",
   "metadata": {
    "id": "Dlb9MhRTmVE6"
   },
   "source": [
    "**Preparação dos dados:**\n",
    "\n",
    "\n",
    "\n",
    "\n"
   ]
  },
  {
   "cell_type": "code",
   "execution_count": null,
   "metadata": {
    "colab": {
     "base_uri": "https://localhost:8080/",
     "height": 84
    },
    "id": "3f8teqaqkYAd",
    "outputId": "4460f134-49d9-4dbb-e46d-e60bd52fd6d2"
   },
   "outputs": [
    {
     "name": "stdout",
     "output_type": "stream",
     "text": [
      "Loading CIFAR10 images ...\n",
      "\tTraining Supervised set shape:  (25000, 32, 32, 3)\n",
      "\tTraining Unsupervised set shape:  (25000, 32, 32, 3)\n",
      "\tTesting set shape:  (10000, 32, 32, 3)\n"
     ]
    }
   ],
   "source": [
    "print(\"Loading CIFAR10 images ...\")\n",
    "(Xtrain, Ytrain), (Xtest, Ytest) = cifar10.load_data()\n",
    "\n",
    "perm = np.random.permutation(Xtrain.shape[0])\n",
    "XtrainSuper = Xtrain[perm[0 : 25000]]\n",
    "XtrainUnsup = Xtrain[perm[25000 : 50000]]\n",
    "Ytrain = Ytrain[perm[0 : 25000]]\n",
    "\n",
    "YtrainCategorical = to_categorical(Ytrain)\n",
    "YtestCategorical = to_categorical(Ytest)\n",
    "\n",
    "print('\\tTraining Supervised set shape: ', XtrainSuper.shape)\n",
    "print('\\tTraining Unsupervised set shape: ', XtrainUnsup.shape)\n",
    "print('\\tTesting set shape: ', Xtest.shape)"
   ]
  },
  {
   "cell_type": "markdown",
   "metadata": {
    "id": "T2yMB5NS_EP9"
   },
   "source": [
    "**Treinando uma CNN com pesos aleatórios:**"
   ]
  },
  {
   "cell_type": "code",
   "execution_count": null,
   "metadata": {
    "colab": {
     "base_uri": "https://localhost:8080/",
     "height": 1000
    },
    "id": "M6HqBK8B_5qt",
    "outputId": "03358a5c-b5a9-4343-ce90-41e3cd70d6cc"
   },
   "outputs": [
    {
     "name": "stdout",
     "output_type": "stream",
     "text": [
      "Defining the CNN from scratch ...\n",
      "Training the CNN ...\n",
      "Epoch 1/50\n",
      "782/782 [==============================] - 3s 3ms/step - loss: 2.1293 - accuracy: 0.3989\n",
      "Epoch 2/50\n",
      "782/782 [==============================] - 3s 3ms/step - loss: 1.3166 - accuracy: 0.5348\n",
      "Epoch 3/50\n",
      "782/782 [==============================] - 3s 3ms/step - loss: 1.1923 - accuracy: 0.5806\n",
      "Epoch 4/50\n",
      "782/782 [==============================] - 3s 3ms/step - loss: 1.1120 - accuracy: 0.6140\n",
      "Epoch 5/50\n",
      "782/782 [==============================] - 3s 3ms/step - loss: 1.0386 - accuracy: 0.6375\n",
      "Epoch 6/50\n",
      "782/782 [==============================] - 3s 3ms/step - loss: 0.9866 - accuracy: 0.6566\n",
      "Epoch 7/50\n",
      "782/782 [==============================] - 3s 3ms/step - loss: 0.9214 - accuracy: 0.6782\n",
      "Epoch 8/50\n",
      "782/782 [==============================] - 3s 3ms/step - loss: 0.8660 - accuracy: 0.7020\n",
      "Epoch 9/50\n",
      "782/782 [==============================] - 3s 3ms/step - loss: 0.7978 - accuracy: 0.7183\n",
      "Epoch 10/50\n",
      "782/782 [==============================] - 3s 3ms/step - loss: 0.7468 - accuracy: 0.7399\n",
      "Epoch 11/50\n",
      "782/782 [==============================] - 3s 3ms/step - loss: 0.6857 - accuracy: 0.7629\n",
      "Epoch 12/50\n",
      "782/782 [==============================] - 3s 3ms/step - loss: 0.6497 - accuracy: 0.7730\n",
      "Epoch 13/50\n",
      "782/782 [==============================] - 3s 3ms/step - loss: 0.6076 - accuracy: 0.7854\n",
      "Epoch 14/50\n",
      "782/782 [==============================] - 3s 3ms/step - loss: 0.5890 - accuracy: 0.7946\n",
      "Epoch 15/50\n",
      "782/782 [==============================] - 3s 3ms/step - loss: 0.5434 - accuracy: 0.8137\n",
      "Epoch 16/50\n",
      "782/782 [==============================] - 3s 3ms/step - loss: 0.5236 - accuracy: 0.8198\n",
      "Epoch 17/50\n",
      "782/782 [==============================] - 3s 3ms/step - loss: 0.5107 - accuracy: 0.8255\n",
      "Epoch 18/50\n",
      "782/782 [==============================] - 3s 3ms/step - loss: 0.4736 - accuracy: 0.8360\n",
      "Epoch 19/50\n",
      "782/782 [==============================] - 3s 3ms/step - loss: 0.4577 - accuracy: 0.8454\n",
      "Epoch 20/50\n",
      "782/782 [==============================] - 3s 3ms/step - loss: 0.4668 - accuracy: 0.8467\n",
      "Epoch 21/50\n",
      "782/782 [==============================] - 3s 3ms/step - loss: 0.4390 - accuracy: 0.8534\n",
      "Epoch 22/50\n",
      "782/782 [==============================] - 3s 3ms/step - loss: 0.4406 - accuracy: 0.8538\n",
      "Epoch 23/50\n",
      "782/782 [==============================] - 3s 3ms/step - loss: 0.4544 - accuracy: 0.8523\n",
      "Epoch 24/50\n",
      "782/782 [==============================] - 3s 3ms/step - loss: 0.3938 - accuracy: 0.8693\n",
      "Epoch 25/50\n",
      "782/782 [==============================] - 3s 3ms/step - loss: 0.4199 - accuracy: 0.8620\n",
      "Epoch 26/50\n",
      "782/782 [==============================] - 3s 3ms/step - loss: 0.3889 - accuracy: 0.8730\n",
      "Epoch 27/50\n",
      "782/782 [==============================] - 3s 3ms/step - loss: 0.4352 - accuracy: 0.8643\n",
      "Epoch 28/50\n",
      "782/782 [==============================] - 3s 3ms/step - loss: 0.3651 - accuracy: 0.8829\n",
      "Epoch 29/50\n",
      "782/782 [==============================] - 3s 3ms/step - loss: 0.3666 - accuracy: 0.8869\n",
      "Epoch 30/50\n",
      "782/782 [==============================] - 3s 3ms/step - loss: 0.4021 - accuracy: 0.8765\n",
      "Epoch 31/50\n",
      "782/782 [==============================] - 3s 3ms/step - loss: 0.3833 - accuracy: 0.8827\n",
      "Epoch 32/50\n",
      "782/782 [==============================] - 3s 3ms/step - loss: 0.3899 - accuracy: 0.8813\n",
      "Epoch 33/50\n",
      "782/782 [==============================] - 3s 3ms/step - loss: 0.3747 - accuracy: 0.8861\n",
      "Epoch 34/50\n",
      "782/782 [==============================] - 3s 3ms/step - loss: 0.3845 - accuracy: 0.8871\n",
      "Epoch 35/50\n",
      "782/782 [==============================] - 3s 3ms/step - loss: 0.3676 - accuracy: 0.8943\n",
      "Epoch 36/50\n",
      "782/782 [==============================] - 3s 3ms/step - loss: 0.3533 - accuracy: 0.8992\n",
      "Epoch 37/50\n",
      "782/782 [==============================] - 3s 3ms/step - loss: 0.3487 - accuracy: 0.8990\n",
      "Epoch 38/50\n",
      "782/782 [==============================] - 3s 3ms/step - loss: 0.3961 - accuracy: 0.8898\n",
      "Epoch 39/50\n",
      "782/782 [==============================] - 3s 3ms/step - loss: 0.4035 - accuracy: 0.8863\n",
      "Epoch 40/50\n",
      "782/782 [==============================] - 3s 3ms/step - loss: 0.3178 - accuracy: 0.9067\n",
      "Epoch 41/50\n",
      "782/782 [==============================] - 3s 3ms/step - loss: 0.3600 - accuracy: 0.8999\n",
      "Epoch 42/50\n",
      "782/782 [==============================] - 3s 3ms/step - loss: 0.3604 - accuracy: 0.9017\n",
      "Epoch 43/50\n",
      "782/782 [==============================] - 3s 3ms/step - loss: 0.3906 - accuracy: 0.8970\n",
      "Epoch 44/50\n",
      "782/782 [==============================] - 3s 3ms/step - loss: 0.4210 - accuracy: 0.8935\n",
      "Epoch 45/50\n",
      "782/782 [==============================] - 3s 3ms/step - loss: 0.3696 - accuracy: 0.9034\n",
      "Epoch 46/50\n",
      "782/782 [==============================] - 3s 3ms/step - loss: 0.3577 - accuracy: 0.9032\n",
      "Epoch 47/50\n",
      "782/782 [==============================] - 3s 3ms/step - loss: 0.3741 - accuracy: 0.9028\n",
      "Epoch 48/50\n",
      "782/782 [==============================] - 3s 3ms/step - loss: 0.4009 - accuracy: 0.9004\n",
      "Epoch 49/50\n",
      "782/782 [==============================] - 3s 3ms/step - loss: 0.3688 - accuracy: 0.9064\n",
      "Epoch 50/50\n",
      "782/782 [==============================] - 3s 3ms/step - loss: 0.3950 - accuracy: 0.9013\n"
     ]
    },
    {
     "data": {
      "image/png": "[encoded data removed]",
      "text/plain": [
       "<Figure size 432x288 with 1 Axes>"
      ]
     },
     "metadata": {
      "needs_background": "light",
      "tags": []
     },
     "output_type": "display_data"
    }
   ],
   "source": [
    "print(\"Defining the CNN from scratch ...\")\n",
    "input_img = Input(shape=(32, 32, 3,))\n",
    "\n",
    "cnnScratch = Conv2D(64, kernel_size=(3,3), strides=(2, 2), padding='same', activation='relu')(input_img)\n",
    "cnnScratch = Conv2D(64, kernel_size=(3,3), padding='same', activation='relu')(cnnScratch)\n",
    "cnnScratch = Conv2D(64, kernel_size=(3,3), padding='same', activation='relu')(cnnScratch)\n",
    "cnnScratch = MaxPooling2D(pool_size=(2, 2))(cnnScratch)\n",
    "cnnScratch = Flatten(name='code')(cnnScratch)\n",
    "cnnScratch = Dense(10, activation='softmax', name='pred')(cnnScratch)\n",
    "\n",
    "seed(1)\n",
    "set_seed(2)\n",
    "\n",
    "cnnScratch = Model(inputs=input_img, outputs=cnnScratch)\n",
    "cnnScratch.compile(loss='categorical_crossentropy', optimizer='adam', metrics=['accuracy'])\n",
    "#cnnScratch.summary()\n",
    "\n",
    "print(\"Training the CNN ...\")\n",
    "historyScratch = cnnScratch.fit(x=XtrainSuper, y=YtrainCategorical, batch_size=batchSize, epochs=numberEpochs, shuffle=True, verbose=1)\n",
    "\n",
    "plt.plot(historyScratch.history['loss'])\n",
    "plt.ylabel('Loss')\n",
    "plt.show()"
   ]
  },
  {
   "cell_type": "markdown",
   "metadata": {
    "id": "VOS3oM12mkav"
   },
   "source": [
    "**Utilizando AutoEncoder para inicializar os pesos:**\n",
    "\n",
    "Em alguns cenários poderemos ter dados rotulados e não rotulados simultaneamente. Uma alternativa muito interessante para não desperdiçar nenhuma imagem é construir um AutoEncoder e treiná-lo com as imagens não rotuladas. Em seguida, reutilizamos as camadas que compõem o Encoder como base para uma CNN adicionando camadas posteriores. Assim, ao invés de inicializarmos os pesos aleatoriamente, aproveitamos as amostras não rotuladas com este propósito.\n",
    "\n",
    "\n",
    "1.   Treinamentos o AE com os exemplos não rotulados;\n",
    "2.   Carregamos o AE pré-treinado, selecionamos o Encoder da rede e adicionamos as camadas desejadas;\n",
    "1.   Definimos a função de perda e o algoritmo de otimização para o treinamento da CNN;\n",
    "2.   Utilizamos a rede para predição ou para extração de características."
   ]
  },
  {
   "cell_type": "code",
   "execution_count": null,
   "metadata": {
    "colab": {
     "base_uri": "https://localhost:8080/",
     "height": 1000
    },
    "id": "tziFfwmNkfmY",
    "outputId": "83784d63-942e-4ebf-a01a-3e16f061ff77"
   },
   "outputs": [
    {
     "name": "stdout",
     "output_type": "stream",
     "text": [
      "Defining the AE ...\n",
      "Training the AE ...\n",
      "Epoch 1/25\n",
      "782/782 [==============================] - 3s 4ms/step - loss: 590.9249\n",
      "Epoch 2/25\n",
      "782/782 [==============================] - 3s 4ms/step - loss: 170.5302\n",
      "Epoch 3/25\n",
      "782/782 [==============================] - 3s 4ms/step - loss: 131.6716\n",
      "Epoch 4/25\n",
      "782/782 [==============================] - 3s 4ms/step - loss: 114.1641\n",
      "Epoch 5/25\n",
      "782/782 [==============================] - 3s 4ms/step - loss: 102.0484\n",
      "Epoch 6/25\n",
      "782/782 [==============================] - 3s 4ms/step - loss: 91.8715\n",
      "Epoch 7/25\n",
      "782/782 [==============================] - 3s 4ms/step - loss: 86.5382\n",
      "Epoch 8/25\n",
      "782/782 [==============================] - 3s 4ms/step - loss: 79.9281\n",
      "Epoch 9/25\n",
      "782/782 [==============================] - 3s 4ms/step - loss: 78.3436\n",
      "Epoch 10/25\n",
      "782/782 [==============================] - 3s 4ms/step - loss: 73.1829\n",
      "Epoch 11/25\n",
      "782/782 [==============================] - 3s 4ms/step - loss: 69.5844\n",
      "Epoch 12/25\n",
      "782/782 [==============================] - 3s 4ms/step - loss: 68.4072\n",
      "Epoch 13/25\n",
      "782/782 [==============================] - 3s 4ms/step - loss: 66.6149\n",
      "Epoch 14/25\n",
      "782/782 [==============================] - 3s 4ms/step - loss: 63.9595\n",
      "Epoch 15/25\n",
      "782/782 [==============================] - 3s 4ms/step - loss: 60.9910\n",
      "Epoch 16/25\n",
      "782/782 [==============================] - 3s 4ms/step - loss: 59.5830\n",
      "Epoch 17/25\n",
      "782/782 [==============================] - 3s 4ms/step - loss: 58.2784\n",
      "Epoch 18/25\n",
      "782/782 [==============================] - 3s 4ms/step - loss: 58.2328\n",
      "Epoch 19/25\n",
      "782/782 [==============================] - 3s 4ms/step - loss: 53.9484\n",
      "Epoch 20/25\n",
      "782/782 [==============================] - 3s 4ms/step - loss: 54.0180\n",
      "Epoch 21/25\n",
      "782/782 [==============================] - 3s 4ms/step - loss: 52.5482\n",
      "Epoch 22/25\n",
      "782/782 [==============================] - 3s 4ms/step - loss: 51.6581\n",
      "Epoch 23/25\n",
      "782/782 [==============================] - 3s 4ms/step - loss: 50.8206\n",
      "Epoch 24/25\n",
      "782/782 [==============================] - 3s 4ms/step - loss: 49.3241\n",
      "Epoch 25/25\n",
      "782/782 [==============================] - 3s 4ms/step - loss: 48.5814\n"
     ]
    },
    {
     "data": {
      "image/png": "[encoded data removed]",
      "text/plain": [
       "<Figure size 432x288 with 1 Axes>"
      ]
     },
     "metadata": {
      "needs_background": "light",
      "tags": []
     },
     "output_type": "display_data"
    }
   ],
   "source": [
    "print(\"Defining the AE ...\")\n",
    "input_img = Input(shape=(32, 32, 3,))\n",
    "\n",
    "encoder = Conv2D(64, kernel_size=(3,3), strides=(2, 2), padding='same', activation='relu')(input_img)\n",
    "encoder = Conv2D(64, kernel_size=(3,3), padding='same', activation='relu')(encoder)\n",
    "encoder = Conv2D(64, kernel_size=(3,3), padding='same', activation='relu')(encoder)\n",
    "encoder = MaxPooling2D(pool_size=(2, 2))(encoder)\n",
    "encoder = Flatten(name='code')(encoder)\n",
    "\n",
    "decoder = Reshape((8,8,64))(encoder)\n",
    "decoder = UpSampling2D((2,2))(decoder)\n",
    "decoder = Conv2DTranspose(64, kernel_size=(3,3), padding='same', activation='relu')(decoder)\n",
    "decoder = Conv2DTranspose(64, kernel_size=(3,3), padding='same', activation='relu')(decoder)\n",
    "decoder = Conv2DTranspose(3, kernel_size=(3,3), strides=(2, 2), padding='same', activation='relu')(decoder)\n",
    "\n",
    "seed(1)\n",
    "set_seed(2)\n",
    "\n",
    "autoencoder = Model(input_img, decoder)\n",
    "autoencoder.compile(loss='mean_squared_error', optimizer='adam')\n",
    "#autoencoder.summary()\n",
    "\n",
    "print(\"Training the AE ...\")\n",
    "historyAE = autoencoder.fit(x=XtrainUnsup, y=XtrainUnsup, batch_size=batchSize, epochs=int(numberEpochs/2), shuffle=True, verbose=1)\n",
    "\n",
    "plt.plot(historyAE.history['loss'])\n",
    "plt.ylabel('Loss')\n",
    "plt.show()"
   ]
  },
  {
   "cell_type": "markdown",
   "metadata": {
    "id": "jdfTGMgAtFHi"
   },
   "source": [
    "**A partir do Encoder fazemos fine-tuning na CNN:**\n",
    "\n",
    "\n"
   ]
  },
  {
   "cell_type": "code",
   "execution_count": null,
   "metadata": {
    "colab": {
     "base_uri": "https://localhost:8080/",
     "height": 1000
    },
    "id": "YB5r0f0cs3Oe",
    "outputId": "576abba6-37f2-473e-ae84-76375c4f9403"
   },
   "outputs": [
    {
     "name": "stdout",
     "output_type": "stream",
     "text": [
      "Loading the Encoder model\n",
      "\tAdding new layers to the model ...\n",
      "\tSet fine-tuning configuration...\n",
      "Training the CNN ...\n",
      "Epoch 1/25\n",
      "782/782 [==============================] - 3s 3ms/step - loss: 2.8118 - accuracy: 0.2555\n",
      "Epoch 2/25\n",
      "782/782 [==============================] - 3s 3ms/step - loss: 1.6027 - accuracy: 0.4262\n",
      "Epoch 3/25\n",
      "782/782 [==============================] - 3s 3ms/step - loss: 1.4222 - accuracy: 0.4954\n",
      "Epoch 4/25\n",
      "782/782 [==============================] - 3s 3ms/step - loss: 1.2843 - accuracy: 0.5466\n",
      "Epoch 5/25\n",
      "782/782 [==============================] - 3s 3ms/step - loss: 1.1795 - accuracy: 0.5844\n",
      "Epoch 6/25\n",
      "782/782 [==============================] - 3s 3ms/step - loss: 1.0957 - accuracy: 0.6154\n",
      "Epoch 7/25\n",
      "782/782 [==============================] - 3s 3ms/step - loss: 1.0340 - accuracy: 0.6360\n",
      "Epoch 8/25\n",
      "782/782 [==============================] - 3s 3ms/step - loss: 0.9521 - accuracy: 0.6673\n",
      "Epoch 9/25\n",
      "782/782 [==============================] - 3s 3ms/step - loss: 0.8728 - accuracy: 0.6922\n",
      "Epoch 10/25\n",
      "782/782 [==============================] - 3s 3ms/step - loss: 0.8155 - accuracy: 0.7166\n",
      "Epoch 11/25\n",
      "782/782 [==============================] - 3s 3ms/step - loss: 0.7363 - accuracy: 0.7436\n",
      "Epoch 12/25\n",
      "782/782 [==============================] - 3s 3ms/step - loss: 0.6801 - accuracy: 0.7630\n",
      "Epoch 13/25\n",
      "782/782 [==============================] - 3s 3ms/step - loss: 0.6364 - accuracy: 0.7757\n",
      "Epoch 14/25\n",
      "782/782 [==============================] - 3s 3ms/step - loss: 0.5749 - accuracy: 0.7994\n",
      "Epoch 15/25\n",
      "782/782 [==============================] - 3s 3ms/step - loss: 0.5708 - accuracy: 0.8020\n",
      "Epoch 16/25\n",
      "782/782 [==============================] - 3s 3ms/step - loss: 0.5068 - accuracy: 0.8230\n",
      "Epoch 17/25\n",
      "782/782 [==============================] - 3s 3ms/step - loss: 0.4904 - accuracy: 0.8308\n",
      "Epoch 18/25\n",
      "782/782 [==============================] - 3s 3ms/step - loss: 0.4606 - accuracy: 0.8423\n",
      "Epoch 19/25\n",
      "782/782 [==============================] - 3s 3ms/step - loss: 0.4725 - accuracy: 0.8406\n",
      "Epoch 20/25\n",
      "782/782 [==============================] - 3s 3ms/step - loss: 0.4190 - accuracy: 0.8601\n",
      "Epoch 21/25\n",
      "782/782 [==============================] - 3s 3ms/step - loss: 0.3832 - accuracy: 0.8726\n",
      "Epoch 22/25\n",
      "782/782 [==============================] - 3s 3ms/step - loss: 0.4063 - accuracy: 0.8672\n",
      "Epoch 23/25\n",
      "782/782 [==============================] - 3s 3ms/step - loss: 0.4034 - accuracy: 0.8666\n",
      "Epoch 24/25\n",
      "782/782 [==============================] - 3s 3ms/step - loss: 0.4079 - accuracy: 0.8678\n",
      "Epoch 25/25\n",
      "782/782 [==============================] - 3s 3ms/step - loss: 0.3848 - accuracy: 0.8771\n"
     ]
    },
    {
     "data": {
      "image/png": "[encoded data removed]",
      "text/plain": [
       "<Figure size 432x288 with 1 Axes>"
      ]
     },
     "metadata": {
      "needs_background": "light",
      "tags": []
     },
     "output_type": "display_data"
    },
    {
     "name": "stdout",
     "output_type": "stream",
     "text": [
      "313/313 [==============================] - 1s 3ms/step - loss: 6.0218 - accuracy: 0.5345\n",
      "CNN Scratch:  0.534500002861023\n",
      "313/313 [==============================] - 1s 3ms/step - loss: 3.3428 - accuracy: 0.5462\n",
      "CNN using AE:  0.5461999773979187\n"
     ]
    }
   ],
   "source": [
    "print(\"Loading the Encoder model\")\n",
    "cnnEncoder = Model(inputs=autoencoder.input, outputs=autoencoder.get_layer(name='code').output)\n",
    "\n",
    "print(\"\\tAdding new layers to the model ...\")\n",
    "newTop = Sequential()\n",
    "newTop.add(Dense(10, activation='softmax', name='pred', input_shape=cnnEncoder.output_shape[1:]))\n",
    "\n",
    "seed(1)\n",
    "set_seed(2)\n",
    "\n",
    "print(\"\\tSet fine-tuning configuration...\")\n",
    "cnnEncoder = Model(inputs=cnnEncoder.input, outputs=newTop(cnnEncoder.output))\n",
    "cnnEncoder.compile(loss='categorical_crossentropy', optimizer='adam', metrics=['accuracy'])\n",
    "#cnnEncoder.summary()\n",
    "\n",
    "print(\"Training the CNN ...\")\n",
    "historyEncoder = cnnEncoder.fit(x=XtrainSuper, y=YtrainCategorical, batch_size=batchSize, epochs=int(numberEpochs/2), shuffle=True, verbose=1)\n",
    "\n",
    "plt.plot(historyEncoder.history['loss'])\n",
    "plt.ylabel('Loss')\n",
    "plt.show()\n",
    "\n",
    "acc = cnnScratch.evaluate(x=Xtest, y=YtestCategorical, batch_size=batchSize)\n",
    "print(\"CNN Scratch: \", acc[1])\n",
    "\n",
    "acc = cnnEncoder.evaluate(x=Xtest, y=YtestCategorical, batch_size=batchSize)\n",
    "print(\"CNN using AE: \", acc[1])"
   ]
  },
  {
   "cell_type": "markdown",
   "metadata": {
    "id": "yYdPnnLMbqJ3"
   },
   "source": [
    "**Visualização do código gerado:**\n",
    "\n",
    "Podemos verificar se a representação do conjunto de dados está bem separável por meio da geração de um gráfico. Neste exemplo, nosso autoencoder não convergiu propriamente (loss: 48.5814) pela quantidade pequena de épocas, consequentemente, as características ainda não são tão representativas para a separação adequada."
   ]
  },
  {
   "cell_type": "code",
   "execution_count": null,
   "metadata": {
    "colab": {
     "base_uri": "https://localhost:8080/",
     "height": 265
    },
    "id": "xjBorl3OHezD",
    "outputId": "e58640ff-05d9-435c-8ebf-e1a8480b3bba"
   },
   "outputs": [
    {
     "data": {
      "image/png": "[encoded data removed]",
      "text/plain": [
       "<Figure size 432x288 with 1 Axes>"
      ]
     },
     "metadata": {
      "needs_background": "light",
      "tags": []
     },
     "output_type": "display_data"
    }
   ],
   "source": [
    "model = Model(inputs=autoencoder.input, outputs=autoencoder.get_layer(name='code').output)\n",
    "prediction = np.array(model.predict(Xtest))\n",
    "featuresTest = np.reshape(prediction, (prediction.shape[0], prediction.shape[1]))\n",
    "featuresTest = PCA(n_components=2).fit_transform(featuresTest)\n",
    "\n",
    "color = [\"green\", \"red\", \"blue\", \"yellow\", \"gray\", \"orange\", \"pink\", \"brown\", \"purple\", \"black\"]\n",
    "for i in range (0, Ytest.shape[0]):\n",
    "    if (Ytest[i][0] == 0 or Ytest[i][0] == 1):\n",
    "      plt.scatter(featuresTest[i][0], featuresTest[i][1], c=color[Ytest[i][0]], marker='o')\n",
    "plt.show()"
   ]
  },
  {
   "cell_type": "markdown",
   "metadata": {
    "id": "-__tdhLVYwr8"
   },
   "source": [
    "**Resumo:**\n",
    "\n",
    "Treinamento:\n",
    "- CNN inicializado com pesos aleatórios: 50 épocas (loss: 0.3950 - accuracy: 0.9013)\n",
    "- CNN inicializado com Encoder: (25+25) épocas (loss: 0.3848 - accuracy: 0.8771)\n",
    "\n",
    "Teste:\n",
    "- CNN inicializado com pesos aleatórios (accuracy: 0.5345)\n",
    "- CNN inicializado com Encoder (accuracy: 0.5462)"
   ]
  }
 ],
 "metadata": {
  "accelerator": "GPU",
  "colab": {
   "collapsed_sections": [],
   "name": "AutoEncoder.ipynb",
   "provenance": []
  },
  "kernelspec": {
   "display_name": "Python 3",
   "language": "python",
   "name": "python3"
  },
  "language_info": {
   "codemirror_mode": {
    "name": "ipython",
    "version": 3
   },
   "file_extension": ".py",
   "mimetype": "text/x-python",
   "name": "python",
   "nbconvert_exporter": "python",
   "pygments_lexer": "ipython3",
   "version": "3.8.3"
  }
 },
 "nbformat": 4,
 "nbformat_minor": 1
}
