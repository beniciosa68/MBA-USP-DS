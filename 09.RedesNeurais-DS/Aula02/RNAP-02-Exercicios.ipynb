{
 "cells": [
  {
   "cell_type": "markdown",
   "metadata": {},
   "source": [
    "## MBA em Ciência de Dados\n",
    "# Redes Neurais e Arquiteturas Profundas\n",
    "\n",
    "### <span style=\"color:darkred\">Módulo II - Redes Neurais Convolucionais (CNNs)</span>\n",
    "\n",
    "\n",
    "### <span style=\"color:darkred\">Exercícios com soluções</span>\n",
    "\n",
    "Moacir Antonelli Ponti\n",
    "\n",
    "CeMEAI - ICMC/USP São Carlos\n",
    "\n",
    "---\n",
    "\n",
    "#### <span style=\"color:red\">Recomenda-se fortemente que os exercícios sejam feitos sem consultar as respostas antecipadamente.</span>\n",
    "\n",
    "---"
   ]
  },
  {
   "cell_type": "markdown",
   "metadata": {},
   "source": [
    "### Exercício 1)\n",
    "\n",
    "Como se comparam uma camada densa e uma camada convolucional?\n",
    " \n",
    " (a) Camadas densas são formadas por filtros que processam os dados localmente, enquanto as convolucionais permitem obter combinações lineares de todos os dados de entrada e por isso possuem menor quantidade de parâmetros<br>\n",
    " (b) As camadas convolucionais se diferenciam das densas por não assumir independência entre os dados de entrada<br>\n",
    " (c) As camadas densas realizam uma combinação linear de todos os elementos de entrada, enquanto as camadas convolucionais também processam todos os elementos da entrada, mas são consideradas não lineares<br>\n",
    " <b>(d) Camadas convolucionais atuam sobre valores de campo receptivo local, processando localmente valores da entrada com os mesmos pesos, enquanto camadas densas possuem um peso para cada elemento da entrada.<br>"
   ]
  },
  {
   "cell_type": "markdown",
   "metadata": {},
   "source": [
    "---\n",
    "\n",
    "### Exercício 2)\n",
    "\n",
    "A operação de convolução consiste em, centrada em um ponto de uma matriz ou tensor, fazer uma combinação linear de valores na região da posição central, gerando como saída um único valor, escalar. \n",
    "\n",
    "Considere que a convolução opera numa região de tamanho $5\\times 5$ com stride = 1, isso significa que para cada conjunto local de $5 \\times 5$ valores, produziremos um único de saída. Se a entrada é uma matriz com tamanho $10 \\times 10$, e caso não seja utilizado nenhum pré-processamento nos dados, qual o tamanho da saída?\n",
    "\n",
    " (a) $10\\times 10$<br>\n",
    " <b>(b) $6\\times 6$<br></b>\n",
    " (c) $8\\times 8$<br>\n",
    " (d) $5\\times 5$<br>\n"
   ]
  },
  {
   "cell_type": "markdown",
   "metadata": {},
   "source": [
    "---\n",
    "### Exercício 3)\n",
    "\n",
    "Cada camada convolucional com $k$ neurônios (filtros de convolução) gera $k$ saídas distintas. Enquanto na camada densa as $k$ saídas são valores individuais (escalares), na convolucional as saídas são mapas de ativação (ou mapas de características). Porque eles recebem esse nome?\n",
    "\n",
    " (a) Pois podemos escolher os filtros de convolução de forma a processar imagens de entrada e obter características como borda, textura e regiões planas com cores.<br>\n",
    " <b>(b) Pois podem ser interpretados como representações dos dados de entrada, aprendidas por meio da otimização da função de custo/perda da rede neural convolucional<br></b>\n",
    " (c) Pois os filtros convolucionais extraem de forma aleatória características da entrada de forma que essas características, ou ativações, melhorem a capacidade de classificar novos exemplos<br>\n",
    " (d) Pois foram baseadas em funções de ativação das redes neurais Multilayer Perceptron, as quais também realizam um tipo de processamento de características das entradas<br>"
   ]
  },
  {
   "cell_type": "markdown",
   "metadata": {},
   "source": [
    "---\n",
    "### Exercício 4)\n",
    "\n",
    "Assuma uma entrada de tamanho $256 \\times 256 \\times 3$, e duas camadas convolucionais, sequenciais. A primeira possui 8 neurônios de tamanho $3\\times 3 \\times 3$ e *não* usa zero-padding. A segunda possui 16 neurônios de tamanho $3 \\times 3 \\times p$ e aplica zero-padding. \n",
    "\n",
    "Quantos mapas de ativação são gerados pela segunda camada convolucional, qual o tamanho final da saída da segunda camada e qual o valor de $p$?\n",
    "\n",
    " <b>(a) 16 mapas, saída $254 \\times 254 \\times 16$, $p = 8$<br></b>\n",
    " (a) 24 mapas, saída $254 \\times 254 \\times 8$, $p = 8$<br>\n",
    " (c) 16 mapas, saída $252 \\times 252 \\times 8$, $p = 16$<br>\n",
    " (d) 24 mapas, saída $256 \\times 256 \\times 16$, $p = 8$<br>"
   ]
  },
  {
   "cell_type": "markdown",
   "metadata": {},
   "source": [
    "---\n",
    "\n",
    "### Exercício 5)\n",
    "\n",
    "Camadas convolucionais costumam gerar saídas de alta dimensionalidade, o que pode tornar difícil a otimização do modelo. Desejamos manter o aprendizado de mapas de ativação, mas reduzir a dimensionalidade espacial dos dados ao longo da rede neural. Marque a alternativa com a estratégia que melhor se adequa ao efeito desejado.\n",
    "\n",
    "(a) Utilizar filtros de convolucão de tamanho menor<br>\n",
    "(b) Aumentar a quantidade de camadas de convolucão<br>\n",
    "<b>(c) Utilizar camadas de pooling ou convoluções com stride maior do que 1<br></b>\n",
    "(d) Substituir todas as camadas convolucionais por camadas de pooling\n"
   ]
  },
  {
   "cell_type": "markdown",
   "metadata": {},
   "source": [
    "---\n",
    "\n",
    "### Exercício 6)\n",
    "\n",
    "Utilizando a biblioteca Keras, formule duas arquiteturas de rede neural sequencial convolucional, cuja entrada seja preparada para receber um vetor unidimensional de $1024$ dimensões.\n",
    "\n",
    "Arquitetura A\n",
    "1. camada convolucional 1 com 16 filtros de tamanho $1\\times 8$, com padding\n",
    "2. camada max pooling de tamanho $4$\n",
    "3. camada convolucional 2 com 32 filtros de tamanho $1\\times 8$, com padding\n",
    "4. camada max pooling de tamanho $4$\n",
    "5. camada convolucional 3 com 8 filtros de tamanho $1\\times 1$, com padding\n",
    "5. camada densa de saída com 3 neurônios.\n",
    "\n",
    "Arquitetura B\n",
    "1. camada convolucional 1 com 16 filtros de tamanho  $1\\times 8$ e stride 4, com padding\n",
    "2. camada convolucional 2 com 32 filtros de tamanho  $1\\times 8$ e stride 4, com padding\n",
    "3. camada convolucional 3 com 8 filtros de tamanho $1\\times 1$, com padding\n",
    "4. camada densa de saída com 3 neurônios.\n",
    "\n",
    "Qual o tamanho da saída das camadas convolucionais 2 e 3, e o total de parâmetros de cada rede?\n",
    "\n",
    "(a) A: conv2=(256,32), conv3=(64,8), total=6075; B: conv2=(64,32), conv3=(64,8), total=4075 <br>\n",
    "(b) A: conv2=(64,32), conv3=(64,8), total=6075; B: conv2=(64,32), conv3=(64,8), total=6075 <br>\n",
    "(c) A: conv2=(64,32), conv3=(1,8), total=4128; B: conv2=(64,32), conv3=(1,8), total=1539 <br>\n",
    "<b>(d) A: conv2=(256,32), conv3=(64,8), total=6075; B: conv2=(64,32), conv3=(64,8), total=6075 <br></b>"
   ]
  },
  {
   "cell_type": "code",
   "execution_count": 2,
   "metadata": {
    "scrolled": true
   },
   "outputs": [],
   "source": [
    "import tensorflow as tf\n",
    "from tensorflow import keras\n",
    "import numpy as np\n",
    "import matplotlib.pyplot as plt"
   ]
  },
  {
   "cell_type": "code",
   "execution_count": 5,
   "metadata": {},
   "outputs": [
    {
     "name": "stdout",
     "output_type": "stream",
     "text": [
      "Model: \"sequential\"\n",
      "_________________________________________________________________\n",
      "Layer (type)                 Output Shape              Param #   \n",
      "=================================================================\n",
      "conv1d (Conv1D)              (None, 1024, 16)          144       \n",
      "_________________________________________________________________\n",
      "max_pooling1d (MaxPooling1D) (None, 256, 16)           0         \n",
      "_________________________________________________________________\n",
      "conv1d_1 (Conv1D)            (None, 256, 32)           4128      \n",
      "_________________________________________________________________\n",
      "max_pooling1d_1 (MaxPooling1 (None, 64, 32)            0         \n",
      "_________________________________________________________________\n",
      "conv1d_2 (Conv1D)            (None, 64, 8)             264       \n",
      "_________________________________________________________________\n",
      "flatten (Flatten)            (None, 512)               0         \n",
      "_________________________________________________________________\n",
      "dense (Dense)                (None, 3)                 1539      \n",
      "=================================================================\n",
      "Total params: 6,075\n",
      "Trainable params: 6,075\n",
      "Non-trainable params: 0\n",
      "_________________________________________________________________\n"
     ]
    }
   ],
   "source": [
    "modeloA = keras.Sequential()\n",
    "modeloA.add(keras.layers.Conv1D(16,kernel_size=8,padding='same',activation='relu',input_shape=(1024,1)))\n",
    "modeloA.add(keras.layers.MaxPooling1D(pool_size=4))\n",
    "modeloA.add(keras.layers.Conv1D(32,kernel_size=8,padding='same',activation='relu'))\n",
    "modeloA.add(keras.layers.MaxPooling1D(pool_size=4))\n",
    "modeloA.add(keras.layers.Conv1D(8,kernel_size=1,padding='same',activation='relu'))\n",
    "modeloA.add(keras.layers.Flatten())\n",
    "modeloA.add(keras.layers.Dense(3, activation='softmax'))\n",
    "modeloA.summary()"
   ]
  },
  {
   "cell_type": "code",
   "execution_count": 6,
   "metadata": {},
   "outputs": [
    {
     "name": "stdout",
     "output_type": "stream",
     "text": [
      "Model: \"sequential_1\"\n",
      "_________________________________________________________________\n",
      "Layer (type)                 Output Shape              Param #   \n",
      "=================================================================\n",
      "conv1d_3 (Conv1D)            (None, 256, 16)           144       \n",
      "_________________________________________________________________\n",
      "conv1d_4 (Conv1D)            (None, 64, 32)            4128      \n",
      "_________________________________________________________________\n",
      "conv1d_5 (Conv1D)            (None, 64, 8)             264       \n",
      "_________________________________________________________________\n",
      "flatten_1 (Flatten)          (None, 512)               0         \n",
      "_________________________________________________________________\n",
      "dense_1 (Dense)              (None, 3)                 1539      \n",
      "=================================================================\n",
      "Total params: 6,075\n",
      "Trainable params: 6,075\n",
      "Non-trainable params: 0\n",
      "_________________________________________________________________\n"
     ]
    }
   ],
   "source": [
    "modeloB = keras.Sequential()\n",
    "modeloB.add(keras.layers.Conv1D(16,kernel_size=8,strides=4,padding='same',activation='relu',input_shape=(1024,1)))\n",
    "modeloB.add(keras.layers.Conv1D(32,kernel_size=8,strides=4,padding='same',activation='relu'))\n",
    "modeloB.add(keras.layers.Conv1D(8,kernel_size=1,padding='same',activation='relu'))\n",
    "modeloB.add(keras.layers.Flatten())\n",
    "modeloB.add(keras.layers.Dense(3,activation='softmax'))\n",
    "modeloB.summary()"
   ]
  },
  {
   "cell_type": "markdown",
   "metadata": {},
   "source": [
    "---\n",
    "\n",
    "### Exercício 7)\n",
    "\n",
    "Utilizando a biblioteca Keras, formule uma arquiteturas de rede neural profunda, cuja entrada seja preparada para receber uma matriz com $1024 \\times 1024$ dimensões e a seguinte arquitetura com 5 camadas:\n",
    "\n",
    "1. camada convolucional 1 com 32 filtros de tamanho $3\\times 3$, com padding e stride 2 (nas duas direções)\n",
    "2. camada convolucional 2 com 64 filtros de tamanho $1\\times 3$, com padding e stride $1,2$\n",
    "3. camada convolucional 3 com 64 filtros de tamanho $3\\times 1$, com padding e stride $2,1$\n",
    "4. camada convolucional 4 com 128 filtros de tamanho $3\\times 3$, sem padding e stride 3 (nas duas direções)\n",
    "5. camada global average pooling\n",
    "\n",
    "Qual o tamanho da saída das camadas conv2, conv3, conv4 e global_avg_pooling?\n",
    "\n",
    "(a) conv2=(512,512,32), conv3=(256,256,64), conv4=(64,64,128) e global_avg_pooling=(128,128)<br>\n",
    "(b) conv2=(512,256,64), conv3=(256,256,64), conv4=(85,85,128) e global_avg_pooling=(128)<br>\n",
    "(c) conv2=(256,512,32), conv3=(256,256,64), conv4=(64,64,128) e global_avg_pooling=(128) <br>\n",
    "(d) conv2=(512,256,32), conv3=(128,256,64), conv4=(85,85,128) e global_avg_pooling=(128,128)<br>\n"
   ]
  },
  {
   "cell_type": "code",
   "execution_count": null,
   "metadata": {},
   "outputs": [],
   "source": []
  },
  {
   "cell_type": "markdown",
   "metadata": {},
   "source": [
    "---\n",
    "\n",
    "### Exercício 8)\n",
    "\n",
    "Carregue a base de dados CIFAR-100 e exiba as 10 primeiras imagens dessa base de dados. Normalize os dados das imagens de forma a que os valores estejam entre 0 e 1, depois converta as classes para o tipo categórico utilizando o ` tf.keras.utils.to_categorical`.\n",
    "\n",
    "A seguir, adapte a arquitetura da questão anterior para que a rede seja capaz de receber como entrada imagens dessa base. Crie uma camada densa no final que permita classificar as imagens nos rótulos disponíveis no conjunto de treinamento. Todas as camadas da rede, exceto a última, devem ter funções de ativação do tipo `relu`.\n",
    "\n",
    "Qual o tamanho da saída das duas últimas camadas da rede (global average pooling e densa), e o total de parâmetros da mesma rede?\n",
    "\n",
    "(a) global average pooling = 128, densa = 128, parâmetros = 106212<br>\n",
    "(b) global average pooling = 128, densa = 100, parâmetros = 12900<br>\n",
    "(c) global average pooling = 128, densa = 20, parâmetros = 12900<br>\n",
    "(d) global average pooling = 128, densa = 100, parâmetros = 106212<br>"
   ]
  },
  {
   "cell_type": "code",
   "execution_count": 3,
   "metadata": {},
   "outputs": [],
   "source": [
    "from tensorflow.keras.datasets import cifar100\n",
    "(x_train, y_train), (x_test, y_test) = cifar100.load_data()\n"
   ]
  },
  {
   "cell_type": "code",
   "execution_count": 7,
   "metadata": {},
   "outputs": [
    {
     "ename": "ModuleNotFoundError",
     "evalue": "No module named 'tensorflow.random'",
     "output_type": "error",
     "traceback": [
      "\u001b[1;31m---------------------------------------------------------------------------\u001b[0m",
      "\u001b[1;31mModuleNotFoundError\u001b[0m                       Traceback (most recent call last)",
      "\u001b[1;32m<ipython-input-7-509a7a9b451b>\u001b[0m in \u001b[0;36m<module>\u001b[1;34m\u001b[0m\n\u001b[1;32m----> 1\u001b[1;33m \u001b[1;32mfrom\u001b[0m \u001b[0mtensorflow\u001b[0m\u001b[1;33m.\u001b[0m\u001b[0mrandom\u001b[0m \u001b[1;32mimport\u001b[0m \u001b[0mset_seed\u001b[0m\u001b[1;33m\u001b[0m\u001b[1;33m\u001b[0m\u001b[0m\n\u001b[0m\u001b[0;32m      2\u001b[0m \u001b[0mset_seed\u001b[0m\u001b[1;33m(\u001b[0m\u001b[1;36m2\u001b[0m\u001b[1;33m)\u001b[0m\u001b[1;33m\u001b[0m\u001b[1;33m\u001b[0m\u001b[0m\n",
      "\u001b[1;31mModuleNotFoundError\u001b[0m: No module named 'tensorflow.random'"
     ]
    }
   ],
   "source": [
    "from tensorflow.random import set_seed\n",
    "set_seed(2)"
   ]
  },
  {
   "cell_type": "markdown",
   "metadata": {},
   "source": [
    "---\n",
    "\n",
    "### Exercício 9)\n",
    "\n",
    "Defina as sementes aleatórias do numpy para 1 e do tensorflow para 2. Depois, utilizando a arquitetura definida no exercício anterior, configure a rede para treinar com a configuração abaixo, salvando o histórico da perda e acurácia para as épocas.\n",
    "* otimizador: SGD\n",
    "* taxa de aprendizado: 0.05\n",
    "* função de custo: `categorical_crossentropy`\n",
    "* métrica: `accuracy`\n",
    "* épocas: 8\n",
    "* batchsize: 100\n",
    "\n",
    "Após as 8 épocas, exiba e analise gráfico da função de custo no conjunto de treinamento ao longo das épocas e avalie a acurácia no conjunto de testes. Considerando: (1) a convergência da função de custo e (2) comparando a acurácia no conjunto de testes com o que seria a acurácia de um classificador aleatório para a base de dados CIFAR-100, escolha a alternativa correta.\n",
    "\n",
    "(a) A função de custo indica um valor baixo de custo e assim, treinar por mais épocas não irá beneficiar o modelo, a acurácia obtida é mais do que 100 vezes superior do que um classificador aleatório<br>\n",
    "(b) A função de custo indica um valor baixo de custo e assim, treinar por mais épocas não irá beneficiar o modelo, a acurácia obtida é apenas ligeiramente superior a um classificador aleatório<br>\n",
    "(c) A função de custo indica estabilização, alcançando uma acurácia 20 vezes superior a de um classificador aleatório<br>\n",
    "(d) A função de custo indica que ainda há espaço para o treinamento de mais épocas, e a acurácia obtida é mais do que 10 vezes superior do que um classificador aleatório<br>"
   ]
  },
  {
   "cell_type": "code",
   "execution_count": 12,
   "metadata": {},
   "outputs": [],
   "source": [
    "from numpy.random import seed\n",
    "seed(1)\n",
    "import tensorflow\n",
    "#from tensorflow.random import set_seed\n",
    "tensorflow.random.set_seed(2)\n"
   ]
  },
  {
   "cell_type": "code",
   "execution_count": null,
   "metadata": {
    "scrolled": true
   },
   "outputs": [],
   "source": []
  },
  {
   "cell_type": "markdown",
   "metadata": {},
   "source": [
    "---\n",
    "\n",
    "### Exercício 10)\n",
    "\n",
    "\n",
    "Crie uma nova rede neural com base na anterior mas adicionando, logo após a 3.a camada convolucional, e antes da 4.a camada convolucional, outras 2 camadas no formato:\n",
    "\n",
    "* camada convolucional com 64 filtros de tamanho $1\\times 3$, com padding e stride $1,2$\n",
    "* camada convolucional com 64 filtros de tamanho $3\\times 1$, com padding e stride $2,1$\n",
    "\n",
    "Defina as sementes aleatórias do numpy para 1 e do tensorflow para 2, e a seguir execute o treinamento dessa rede utilizando os parâmetros conforme a questão anterior, mas aumente o número de épocas para 16.\n",
    "\n",
    "Considerando:\n",
    "1. a diferença no valor da função de custo obtida nas épocas 1 e 8, e\n",
    "2. a acurácia no conjunto de testes após o treinamento completo\n",
    "\n",
    "Escolha a alternativa correta:\n",
    "\n",
    "(a) A diferença do custo da 1.a para a 8.a época é maior nessa nova arquitetura, indicando convergência mais rápida, e ao final a acurácia atinge valor superior a 25% com a arquitetura mais profunda<br>\n",
    "(b) A diferença do valor da função de custo da 1.a para a 8.a época é menor nessa nova arquitetura, indicando convergência mais lenta, e ao final a acurácia atinge valor superior a 25% com essa arquitetura mais profunda<br>\n",
    "(c) A diferença do valor da função de custo da 1.a para a 8.a época é maior nessa nova arquitetura, mostrando a superioridade da arquitetura mais profunda, que ao final atinge acurácia atinge valor acima de 50%<br>\n",
    "(d) A diferença do valor da função de custo da 1.a para a 8.a época é menor nessa nova arquitetura, indicando que a arquitetura menos profunda é mais estável, e ao final a acurácia atinge valor próxmo a 10% com essa arquitetura mais profunda<br>"
   ]
  },
  {
   "cell_type": "code",
   "execution_count": null,
   "metadata": {
    "scrolled": true
   },
   "outputs": [],
   "source": []
  },
  {
   "cell_type": "code",
   "execution_count": 6,
   "metadata": {},
   "outputs": [],
   "source": [
    "seed(1)\n",
    "set_seed(2)\n"
   ]
  }
 ],
 "metadata": {
  "kernelspec": {
   "display_name": "Python 3",
   "language": "python",
   "name": "python3"
  },
  "language_info": {
   "codemirror_mode": {
    "name": "ipython",
    "version": 3
   },
   "file_extension": ".py",
   "mimetype": "text/x-python",
   "name": "python",
   "nbconvert_exporter": "python",
   "pygments_lexer": "ipython3",
   "version": "3.7.6"
  }
 },
 "nbformat": 4,
 "nbformat_minor": 4
}
