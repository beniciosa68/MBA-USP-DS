{
 "cells": [
  {
   "cell_type": "markdown",
   "metadata": {},
   "source": [
    "# <span style=\"color:blue\"> MBA em Ciência de Dados</span>\n",
    "# <span style=\"color:blue\">Análise de Dados com Base em Processamento Massivo em Paralelo</span>\n",
    "\n",
    "## <span style=\"color:blue\">Aula 05</span>\n",
    "**Material Produzido por Cristina Dutra de Aguiar Ciferri**<br>\n",
    "**Cemeai - ICMC/USP São Carlos**"
   ]
  },
  {
   "cell_type": "markdown",
   "metadata": {},
   "source": [
    "<font color='red'> As respostas devem ser fornecidas no Moodle. O notebook é apenas para a implementação dos códigos que fornecerão as respostas</font>"
   ]
  },
  {
   "cell_type": "markdown",
   "metadata": {},
   "source": [
    "### Exercício 1\n",
    "Considere as seguintes afirmações acerca dos dados de um data warehouse:\n",
    "\n",
    "I. Os dados são integrados, não voláteis, orientados a assunto e históricos. V\n",
    "\n",
    "II. Dados menos detalhados são dados menos agregados. F\n",
    "\n",
    "III. Dados mais detalhados possuem grão pequeno. V\n",
    "\n",
    "IV. O data warehouse é mais volumoso quando o grão é grande. F\n",
    "\n",
    "V. Dados menos agregados estão no nível inferior de agregação. V\n",
    "\n",
    "Considerando V (Verdadeiro) e F (Falso), assinale a alternativa <font color='green'><b>correta</b></font>:\n",
    "\n",
    "Escolha uma:<br>\n",
    "<b>a. V - F - V - F - V<br></b>\n",
    "b. F - F - V - V - F<br>\n",
    "c. V - V - F - V - F<br>\n",
    "d. F - F - F - V - V<br>\n",
    "e. V - V - F - F - V<br>"
   ]
  },
  {
   "cell_type": "code",
   "execution_count": 1,
   "metadata": {},
   "outputs": [
    {
     "name": "stdout",
     "output_type": "stream",
     "text": [
      "a. V - F - V - F - V\n"
     ]
    }
   ],
   "source": [
    "print('a. V - F - V - F - V')"
   ]
  },
  {
   "cell_type": "markdown",
   "metadata": {},
   "source": [
    "### Exercício 2\n",
    "Considere as seguintes afirmações acerca das operações OLAP:\n",
    "\n",
    "I. A operação slice diminui a dimensionalidade do cubo de dados. V\n",
    "\n",
    "II. As operações drill-down e roll-up estão relacionados com agrupamentos dos dados. V\n",
    "\n",
    "III. A operação roll-up navega pela hierarquia de atributos no sentido de dados menos detalhados para mais detalhados. F\n",
    "\n",
    "IV. A operação drill-across compara medidas numéricas de dois cubos de dados diferentes que estão no mesmo nível de agregação. V\n",
    "\n",
    "V. A operação Pivot está relacionada com a seleção de dados. F\n",
    "\n",
    "Considerando V (Verdadeiro) e F (Falso), assinale a alternativa <font color='green'><b>correta</b></font>:\n",
    "\n",
    "Escolha uma:<br>\n",
    "a. V - F - V - F - V.<br>\n",
    "b. F - V - V - V - F.<br>\n",
    "<b>c. V - V - F - V - F.<br></b>\n",
    "d. F - V - F - V - F.<br>\n",
    "e. F - V - F - V - V.<br>"
   ]
  },
  {
   "cell_type": "code",
   "execution_count": 2,
   "metadata": {},
   "outputs": [
    {
     "name": "stdout",
     "output_type": "stream",
     "text": [
      "c. V - V - F - V - F.\n"
     ]
    }
   ],
   "source": [
    "print('c. V - V - F - V - F.')"
   ]
  },
  {
   "cell_type": "markdown",
   "metadata": {},
   "source": [
    "### Exercício 3\n",
    "Os dados de um data mart são:\n",
    "\n",
    "Escolha uma:<br>\n",
    "a. Orientados a projeto, não-voláteis e normalizados.<br>\n",
    "b. Orientados a projeto, não-voláteis e históricos.<br>\n",
    "c. Orientados a assunto, voláteis e históricos.<br>\n",
    "d. Orientados a projeto, voláteis e normalizados.<br>\n",
    "<b>e. Orientados a assunto, não-voláteis e históricos.<br></b>"
   ]
  },
  {
   "cell_type": "code",
   "execution_count": 6,
   "metadata": {},
   "outputs": [
    {
     "name": "stdout",
     "output_type": "stream",
     "text": [
      "e. Orientados a assunto, não-voláteis e históricos.\n"
     ]
    }
   ],
   "source": [
    "print('e. Orientados a assunto, não-voláteis e históricos.')"
   ]
  },
  {
   "cell_type": "markdown",
   "metadata": {},
   "source": [
    "### Exercício 4\n",
    "Marque a alternativa <font color='green'><b>correta</b></font>:\n",
    "\n",
    "Escolha uma:<br>\n",
    "a. A operação drill-down possibilita que as análises dos usuários de suporte à decisão sejam realizadas em níveis progressivamente de maior granularidade.<br>\n",
    "b. O processo de integração dos dados não é uma operação necessária de ser realizada antes dos dados serem armazenados no data warehouse, uma vez que esses dados são normalmente extraídos de sistemas compostos por uma modelagem de dados robusta.<br>\n",
    "c. Os aspectos estáticos do modelo multidimensional incluem um conjunto de medidas numéricas que podem ser classificadas em aditivas, multiplicativas e agregadas.<br>\n",
    "<b>d. A característica de não-volatilidade está relacionada ao fato de que o conteúdo do data warehouse permanece estável por longos períodos de tempo.<br></b>\n",
    "e. ROLAP (Resilient Online Analytica Processing) é uma variação de OLAP (Online Analytics Processing) em que os conjuntos de dados são distribuídos em pequenas partições e são imutáveis, realizando somente operações de leitura.<br>"
   ]
  },
  {
   "cell_type": "code",
   "execution_count": 4,
   "metadata": {},
   "outputs": [
    {
     "name": "stdout",
     "output_type": "stream",
     "text": [
      "d. A característica de não-volatilidade está relacionada ao fato de que o conteúdo do data warehouse permanece estável por longos períodos de tempo.\n"
     ]
    }
   ],
   "source": [
    "print('d. A característica de não-volatilidade está relacionada ao fato de que o conteúdo do data warehouse permanece estável por longos períodos de tempo.')"
   ]
  },
  {
   "cell_type": "markdown",
   "metadata": {},
   "source": [
    "### Exercício 5\n",
    "Considere as seguintes alternativas relacionadas aos tipos de esquema utilizados para organizar a visão multidimensional dos dados do data warehouse.\n",
    "\n",
    "(I) O esquema estrela possui uma tabela de fatos dominante em seu centro e um conjunto de tabelas de dimensão nas extremidades. V\n",
    "\n",
    "(II) O esquema floco de neve consiste em uma extensão do esquema estrela na qual cada extremidade do esquema estrela é normalizada utilizando como base a hierarquia de atributos referente àquela extremidade. V\n",
    "\n",
    "(III) Em contrate às tabelas de dimensão, que usualmente possuem um menor número de tuplas e uma grande quantidade de colunas, as tabelas de fatos geralmente possuem um grande número de tuplas e uma quantidade reduzida de colunas. V\n",
    "\n",
    "Marque:\n",
    "\n",
    "Escolha uma:<br>\n",
    "<b>a. Se as afirmativas I, II e III estão corretas.<br></b>\n",
    "b. Se as afirmativas II e III estão corretas.<br>\n",
    "c. Se somente a afirmativa I está correta.<br>\n",
    "d. Se as afirmativas I e II estão corretas.<br>\n",
    "e. Se as afirmativas I e III estão corretas.<br>"
   ]
  },
  {
   "cell_type": "code",
   "execution_count": 5,
   "metadata": {},
   "outputs": [
    {
     "name": "stdout",
     "output_type": "stream",
     "text": [
      "a. Se as afirmativas I, II e III estão corretas.\n"
     ]
    }
   ],
   "source": [
    "print('a. Se as afirmativas I, II e III estão corretas.')"
   ]
  },
  {
   "cell_type": "code",
   "execution_count": null,
   "metadata": {},
   "outputs": [],
   "source": []
  }
 ],
 "metadata": {
  "kernelspec": {
   "display_name": "Python 3",
   "language": "python",
   "name": "python3"
  },
  "language_info": {
   "codemirror_mode": {
    "name": "ipython",
    "version": 3
   },
   "file_extension": ".py",
   "mimetype": "text/x-python",
   "name": "python",
   "nbconvert_exporter": "python",
   "pygments_lexer": "ipython3",
   "version": "3.7.6"
  },
  "toc": {
   "base_numbering": 1,
   "nav_menu": {},
   "number_sections": true,
   "sideBar": true,
   "skip_h1_title": false,
   "title_cell": "Table of Contents",
   "title_sidebar": "Contents",
   "toc_cell": false,
   "toc_position": {},
   "toc_section_display": true,
   "toc_window_display": false
  }
 },
 "nbformat": 4,
 "nbformat_minor": 2
}
