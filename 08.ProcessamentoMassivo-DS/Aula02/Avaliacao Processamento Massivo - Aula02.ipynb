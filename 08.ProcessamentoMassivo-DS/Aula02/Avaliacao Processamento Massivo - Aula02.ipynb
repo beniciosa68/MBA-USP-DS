{
 "cells": [
  {
   "cell_type": "markdown",
   "metadata": {},
   "source": [
    "# <span style=\"color:blue\"> MBA em Ciência de Dados</span>\n",
    "# <span style=\"color:blue\">Análise de Dados com Base em Processamento Massivo em Paralelo</span>\n",
    "\n",
    "## <span style=\"color:blue\">Aula 02</span>\n",
    "**Material Produzido por Cristina Dutra de Aguiar Ciferri**<br>\n",
    "**Cemeai - ICMC/USP São Carlos**"
   ]
  },
  {
   "cell_type": "markdown",
   "metadata": {},
   "source": [
    "<font color='red'> As respostas devem ser fornecidas no Moodle. O notebook é apenas para a implementação dos códigos que fornecerão as respostas</font>"
   ]
  },
  {
   "cell_type": "markdown",
   "metadata": {},
   "source": [
    "### Exercício 1\n",
    "\n",
    "Considerando as camadas da arquitetura de data warehousing, assinale a alternativa <font color='green'><b>correta</b></font>:\n",
    "\n",
    "Escolha uma:<br>\n",
    "a. O data lake é um dos integrantes da camada de data warehouse, sendo responsável por armazenar dados não estruturados, semiestruturados e estruturados.<br>\n",
    "b. A arquitetura de data warehousing não permite o uso de fontes externas na camada de fontes de dados, uma vez que o mercado considera uma boa prática o uso de dados oriundos somente de fontes internas à organização.<br>\n",
    "c. Dentre as ferramentas de análise e consulta é possível destacar o servidor OLAP, o qual permite analisar os dados de acordo com a metáfora do cubo de dados.<br>\n",
    "<b>d. O repositório de metadados é parte integrante da camada de data warehouse, sendo responsável por armazenar os metadados de todos os dados e processos envolvidos no data warehousing.<br></b>\n",
    "e. Os bancos de dados operacionais fazem parte da camada de pré-processamento de dados, uma vez que os dados devem ser pré-processados nas origens antes de serem carregados no data warehouse.<br>"
   ]
  },
  {
   "cell_type": "code",
   "execution_count": 1,
   "metadata": {},
   "outputs": [
    {
     "name": "stdout",
     "output_type": "stream",
     "text": [
      "d. O repositório de metadados é parte integrante da camada de data warehouse, sendo responsável por armazenar os metadados de todos os dados e processos envolvidos no data warehousing.\n"
     ]
    }
   ],
   "source": [
    "print('d. O repositório de metadados é parte integrante da camada de data warehouse, sendo responsável por armazenar os metadados de todos os dados e processos envolvidos no data warehousing.')"
   ]
  },
  {
   "cell_type": "markdown",
   "metadata": {},
   "source": [
    "### Exercício 2\n",
    "\n",
    "Considere as seguintes afirmações sobre as ferramentas de análise e consulta:\n",
    "\n",
    " I - As ferramentas de análise e consulta são a forma pela qual os usuários de sistemas de suporte à decisão (usuários de SSD) interagem com o ambiente de data warehousing. V\n",
    "\n",
    "II - Modelos de machine learning são ferramentas que reúnem diversos dados e indicadores por meio de gráficos e tabelas, permitindo o monitoramento simultâneo de um grande número de informações. F\n",
    "\n",
    "III - Ferramentas OLAP são caracterizadas por permitir que usuários de sistemas de suporte à decisão (usuários de SSD) analisem os dados usando visões multidimensionais complexas e elaboradas, apresentando os dados de acordo com o modelo multidimensional somente quando os dados são também armazenados neste modelo. F\n",
    "\n",
    " Assinale a alternativa que contém as afirmações <font color='green'><b>corretas</b></font>:\n",
    "\n",
    "\n",
    "Escolha uma:<br>\n",
    "<b>a. Somente I.<br></b>\n",
    "b. Somente II.<br>\n",
    "c. I e III.<br>\n",
    "d. II e III.<br>\n",
    "e. Somente III.<br>"
   ]
  },
  {
   "cell_type": "code",
   "execution_count": 2,
   "metadata": {},
   "outputs": [
    {
     "name": "stdout",
     "output_type": "stream",
     "text": [
      "a. Somente I.\n"
     ]
    }
   ],
   "source": [
    "print('a. Somente I.')"
   ]
  },
  {
   "cell_type": "markdown",
   "metadata": {},
   "source": [
    "### Exercício 3\n",
    "\n",
    "Considerando os conceitos de data warehouse e data mart, assinale a alternativa <font color='red'><b>incorreta</b></font>:\n",
    "\n",
    "\n",
    "Escolha uma:<br>\n",
    "a. Data mart consiste na implementação de um data warehouse no qual o escopo do dado é limitado quando comparado ao data warehouse propriamente dito.<br>\n",
    "b. A criação de data marts independentes pode conduzir a problemas de integração, caso um modelo de negócio completo não seja desenvolvido. Isso se deve ao fato de que cada data mart independente pode assumir formas diferentes de consolidar seus dados, gerando inconsistências.<br>\n",
    "c. Os dados armazenados em data marts compartilham as mesmas características que os dados do data warehouse.<br>\n",
    "<b>d. Construir um data warehouse é mais barato do que construir um data mart, uma vez que o data warehouse possui um escopo limitado, enquanto o data mart engloba o escopo de todos os data warehouses da organização.<br></b>\n",
    "e. Uma vez que o processo de construção de um data warehouse sobre toda a organização é longo e complexo e os custos envolvidos são altos, data marts são construídos paulatinamente e, à medida que estes se consolidam, inicia-se a construção do data warehouse corporativo.<br>"
   ]
  },
  {
   "cell_type": "code",
   "execution_count": 3,
   "metadata": {},
   "outputs": [
    {
     "name": "stdout",
     "output_type": "stream",
     "text": [
      "d. Construir um data warehouse é mais barato do que construir um data mart, uma vez que o data warehouse possui um escopo limitado, enquanto o data mart engloba o escopo de todos os data warehouses da organização.\n"
     ]
    }
   ],
   "source": [
    "print('d. Construir um data warehouse é mais barato do que construir um data mart, uma vez que o data warehouse possui um escopo limitado, enquanto o data mart engloba o escopo de todos os data warehouses da organização.')"
   ]
  },
  {
   "cell_type": "markdown",
   "metadata": {},
   "source": [
    "### Exercício 4\n",
    "\n",
    "Considerando os conceitos de data staging area e data lake, assinale a alternativa <font color='red'><b>incorreta</b></font>:\n",
    "\n",
    "\n",
    "Escolha uma:<br>\n",
    "a. O data lake contém um grande volume de dados extraídos das fontes de dados em seu formato nativo (raw data), incluindo dados estruturados, semiestruturados e não estruturados.<br>\n",
    "b. O data lake pode atuar também como data staging area.<br>\n",
    "c. Para povoar o data warehouse, os dados precisam primeiro passar pelo processo de ETL. Em contrapartida, os dados armazenados no data lake são decorrentes do processo de ELT.<br>\n",
    "<b>d. A data staging area se comunica diretamente com as ferramentas de análise e consulta, uma vez que pode ser necessário realizar análises sobre dados cuja transformação ainda não está concluída.<br></b>\n",
    "e. O processamento de consultas analíticas em um data lake pode ser mais custoso, porém a carga de dados neste ambiente é muito mais rápida do que em um data warehouse.<br>"
   ]
  },
  {
   "cell_type": "code",
   "execution_count": 4,
   "metadata": {},
   "outputs": [
    {
     "name": "stdout",
     "output_type": "stream",
     "text": [
      "d. A data staging area se comunica diretamente com as ferramentas de análise e consulta, uma vez que pode ser necessário realizar análises sobre dados cuja transformação ainda não está concluída.\n"
     ]
    }
   ],
   "source": [
    "print('d. A data staging area se comunica diretamente com as ferramentas de análise e consulta, uma vez que pode ser necessário realizar análises sobre dados cuja transformação ainda não está concluída.')"
   ]
  },
  {
   "cell_type": "markdown",
   "metadata": {},
   "source": [
    "### Exercício 5\n",
    "\n",
    "Considere as seguintes afirmações sobre big data:\n",
    "\n",
    " I - A manipulação de big data requer o uso de sistemas de arquivos distribuídos e bancos de dados NoSQL, além do emprego de modelos de programação paralela. V\n",
    "\n",
    "II - No modelo de 7Vs, o conceito de variedade se refere ao fato de que os valores dos dados e seus significados podem variar constantemente.\n",
    "\n",
    "III - De acordo com o modelo de 7Vs, big data se refere não apenas a quão volumosos são os dados e a quão rápida é feita a coleta desses dados, mas também a vários outros fatores. V\n",
    "\n",
    " Assinale a alternativa que contém as afirmações <font color='green'><b>corretas</b></font>:\n",
    "\n",
    "\n",
    "Escolha uma:<br>\n",
    "a. Somente I.<br>\n",
    "b. Todas as afirmações.<br>\n",
    "c. Nenhuma afirmação.<br>\n",
    "d. I e II.<br>\n",
    "<b>e. I e III.<br></b>"
   ]
  },
  {
   "cell_type": "code",
   "execution_count": 5,
   "metadata": {},
   "outputs": [
    {
     "name": "stdout",
     "output_type": "stream",
     "text": [
      "e. I e III.\n"
     ]
    }
   ],
   "source": [
    "print('e. I e III.')"
   ]
  },
  {
   "cell_type": "code",
   "execution_count": null,
   "metadata": {},
   "outputs": [],
   "source": []
  }
 ],
 "metadata": {
  "kernelspec": {
   "display_name": "Python 3",
   "language": "python",
   "name": "python3"
  },
  "language_info": {
   "codemirror_mode": {
    "name": "ipython",
    "version": 3
   },
   "file_extension": ".py",
   "mimetype": "text/x-python",
   "name": "python",
   "nbconvert_exporter": "python",
   "pygments_lexer": "ipython3",
   "version": "3.7.6"
  },
  "toc": {
   "base_numbering": 1,
   "nav_menu": {},
   "number_sections": true,
   "sideBar": true,
   "skip_h1_title": false,
   "title_cell": "Table of Contents",
   "title_sidebar": "Contents",
   "toc_cell": false,
   "toc_position": {},
   "toc_section_display": true,
   "toc_window_display": false
  }
 },
 "nbformat": 4,
 "nbformat_minor": 2
}
