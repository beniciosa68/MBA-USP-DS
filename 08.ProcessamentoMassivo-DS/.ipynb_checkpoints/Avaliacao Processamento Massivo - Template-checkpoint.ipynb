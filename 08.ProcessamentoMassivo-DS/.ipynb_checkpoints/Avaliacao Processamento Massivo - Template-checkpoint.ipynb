{
 "cells": [
  {
   "cell_type": "markdown",
   "metadata": {},
   "source": [
    "# <span style=\"color:blue\"> MBA em Ciência de Dados</span>\n",
    "# <span style=\"color:blue\">Análise de Dados com Base em Processamento Massivo em Paralelo</span>\n",
    "\n",
    "## <span style=\"color:blue\">Aula 01</span>\n",
    "**Material Produzido por Cristina Dutra de Aguiar Ciferri**<br>\n",
    "**Cemeai - ICMC/USP São Carlos**"
   ]
  },
  {
   "cell_type": "markdown",
   "metadata": {},
   "source": [
    "<font color='red'> As respostas devem ser fornecidas no Moodle. O notebook é apenas para a implementação dos códigos que fornecerão as respostas</font>"
   ]
  },
  {
   "cell_type": "markdown",
   "metadata": {},
   "source": [
    "### Exercício 1\n",
    "\n",
    "Marque a alternativa <font color='green'><b>correta</b></font>:\n",
    "\n",
    "Escolha uma:<br>\n",
    "a. Data Warehousing desempenha sozinho todas as funcionalidades requeridas pelo processo de inteligência de negócio em sua amplitude.<br>\n",
    "b. Business Intelligence (BI) é o processo que define o correto armazenamento de dados visando melhoria de desempenho para consultas analíticas.<br>\n",
    "c. Quando se pensa em inteligência de negócio e em Data Warehousing, pensa-se em transações, inserções, atualizações e remoções frequentes no banco de dados analítico, uma vez que muitas operações são necessárias para a geração de conhecimento.<br>\n",
    "<b>d. Um dos objetivos de Business Intelligence (BI) é produzir a informação certa, para a pessoa certa, na hora certa.<br></b>\n",
    "e. Informação advém da interpretação, da análise e da extração de dados brutos a partir de fontes diversas.<br>"
   ]
  },
  {
   "cell_type": "code",
   "execution_count": 1,
   "metadata": {},
   "outputs": [
    {
     "name": "stdout",
     "output_type": "stream",
     "text": [
      "d. Um dos objetivos de Business Intelligence (BI) é produzir a informação certa, para a pessoa certa, na hora certa.\n"
     ]
    }
   ],
   "source": [
    "print('d. Um dos objetivos de Business Intelligence (BI) é produzir a informação certa, para a pessoa certa, na hora certa.')"
   ]
  },
  {
   "cell_type": "markdown",
   "metadata": {},
   "source": [
    "### Exercício 2\n",
    "\n",
    "Considere as seguintes afirmações:\n",
    "\n",
    "\n",
    "I - Data Warehousing se refere ao local onde os dados estão fisicamente armazenados, enquanto Data Warehouse é um conceito mais abrangente, que se refere ao ambiente como um todo.\n",
    "\n",
    "II - Exemplos de usuários do ambiente operacional incluem administradores do sistema, projetistas e usuários finais, enquanto exemplos de usuários do ambiente informacional incluem analistas, gerentes e executivos.\n",
    "\n",
    "III - O projeto do Data Warehouse é normalizado. Portanto, ele foca em entidades e relacionamentos entre essas entidades.\n",
    "\n",
    "\n",
    "Assinale a alternativa que contém as afirmações <font color='green'><b>corretas</b></font>.\n",
    "\n",
    "\n",
    "Escolha uma:<br>\n",
    "a. Somente I.<br>\n",
    "b. II e III.<br>\n",
    "c. I e III.<br>\n",
    "<b>d. Somente II.<br></b>\n",
    "e. I, II, e III.<br>"
   ]
  },
  {
   "cell_type": "code",
   "execution_count": null,
   "metadata": {},
   "outputs": [],
   "source": [
    "#I - F\n",
    "#II - V\n",
    "#III - F\n",
    "\n",
    "print('d. Somente II.')"
   ]
  },
  {
   "cell_type": "markdown",
   "metadata": {},
   "source": [
    "### Exercício 3\n",
    "\n",
    "Qual a sigla para o processo que consiste na extração, transformação e carga de dados de interesse para análise de determinado problema ou situação?\n",
    "\n",
    "Escolha uma:<br>\n",
    "a. OLTP.<br>\n",
    "<b>b. ETL.<br></b>\n",
    "c. BI.<br>\n",
    "d. DW.<br>\n",
    "e. OLAP.<br>"
   ]
  },
  {
   "cell_type": "code",
   "execution_count": 2,
   "metadata": {},
   "outputs": [
    {
     "name": "stdout",
     "output_type": "stream",
     "text": [
      "b. ETL.\n"
     ]
    }
   ],
   "source": [
    "print('b. ETL.')"
   ]
  },
  {
   "cell_type": "markdown",
   "metadata": {},
   "source": [
    "### Exercício 4\n",
    "\n",
    "No ambiente OLTP (Online Transaction Processing) as operações mais frequentes são:\n",
    "\n",
    "\n",
    "Escolha uma:<br>\n",
    "<b>a. Inserção, remoção e atualização.<br></b>\n",
    "b. Inserção, remoção e consultas analíticas.<br>\n",
    "c. Leitura, análise e atualização.<br>\n",
    "d. Extração, transformação e carga.<br>\n",
    "e. Leitura, análise e geração de relatórios.<br>"
   ]
  },
  {
   "cell_type": "code",
   "execution_count": 3,
   "metadata": {},
   "outputs": [
    {
     "name": "stdout",
     "output_type": "stream",
     "text": [
      "a. Inserção, remoção e atualização\n"
     ]
    }
   ],
   "source": [
    "print('a. Inserção, remoção e atualização')"
   ]
  },
  {
   "cell_type": "markdown",
   "metadata": {},
   "source": [
    "### Exercício 5\n",
    "\n",
    "Marque a alternativa que é composta por exemplos comuns de aplicações em um ambiente operacional:\n",
    "\n",
    "\n",
    "Escolha uma:<br>\n",
    "a. Planejamento de marketing, tomada de decisão e análise financeira.<br>\n",
    "b. Transações bancárias, planejamento de marketing e análise de tendências.<br>\n",
    "c. Análises históricas, planejamento estratégico e matrículas em cursos.<br>\n",
    "d. Planejamento estratégico, análise de tendências e análises históricas.<br>\n",
    "<b>e. Transações bancárias, empréstimos de livros, matrículas em cursos.<br></b>"
   ]
  },
  {
   "cell_type": "code",
   "execution_count": 4,
   "metadata": {},
   "outputs": [
    {
     "name": "stdout",
     "output_type": "stream",
     "text": [
      "e. Transações bancárias, empréstimos de livros, matrículas em cursos.\n"
     ]
    }
   ],
   "source": [
    "print('e. Transações bancárias, empréstimos de livros, matrículas em cursos.')"
   ]
  }
 ],
 "metadata": {
  "kernelspec": {
   "display_name": "Python 3",
   "language": "python",
   "name": "python3"
  },
  "language_info": {
   "codemirror_mode": {
    "name": "ipython",
    "version": 3
   },
   "file_extension": ".py",
   "mimetype": "text/x-python",
   "name": "python",
   "nbconvert_exporter": "python",
   "pygments_lexer": "ipython3",
   "version": "3.7.6"
  },
  "toc": {
   "base_numbering": 1,
   "nav_menu": {},
   "number_sections": true,
   "sideBar": true,
   "skip_h1_title": false,
   "title_cell": "Table of Contents",
   "title_sidebar": "Contents",
   "toc_cell": false,
   "toc_position": {},
   "toc_section_display": true,
   "toc_window_display": false
  }
 },
 "nbformat": 4,
 "nbformat_minor": 2
}
