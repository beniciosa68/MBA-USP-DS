{
 "cells": [
  {
   "cell_type": "markdown",
   "metadata": {},
   "source": [
    "# <span style=\"color:blue\"> MBA em Ciência de Dados</span>\n",
    "# <span style=\"color:blue\">Análise de Dados com Base em Processamento Massivo em Paralelo</span>\n",
    "\n",
    "## <span style=\"color:blue\">Aula 03</span>\n",
    "**Material Produzido por Cristina Dutra de Aguiar Ciferri**<br>\n",
    "**Cemeai - ICMC/USP São Carlos**"
   ]
  },
  {
   "cell_type": "markdown",
   "metadata": {},
   "source": [
    "<font color='red'> As respostas devem ser fornecidas no Moodle. O notebook é apenas para a implementação dos códigos que fornecerão as respostas</font>"
   ]
  },
  {
   "cell_type": "markdown",
   "metadata": {},
   "source": [
    "### Exercício 1\n",
    "\n",
    "Considerando o processo ETL, o que significa cada etapa (E - T - L)?\n",
    "\n",
    "Escolha uma:<br>\n",
    "a. Exportação, Tradução, Limpeza.<br>\n",
    "b. Extração, Transformação, Limpeza.<br>\n",
    "<b>c. Extração, Transformação, Carga.<br></b>\n",
    "d. Extração, Tradução, Limpeza.<br>\n",
    "e. Exportação, Tradução, Carga."
   ]
  },
  {
   "cell_type": "code",
   "execution_count": 1,
   "metadata": {},
   "outputs": [
    {
     "name": "stdout",
     "output_type": "stream",
     "text": [
      "c. Extração, Transformação, Carga.\n"
     ]
    }
   ],
   "source": [
    "print('c. Extração, Transformação, Carga.')"
   ]
  },
  {
   "cell_type": "markdown",
   "metadata": {},
   "source": [
    "### Exercício 2\n",
    "\n",
    "Considere 3 diferentes fontes de dados sobre funcionários. Os itens a seguir indicam algumas características dessas fontes:\n",
    "\n",
    "(I) Fonte 1: Funcionario.csv<br>\n",
    "Fonte 2: Colaborador.json<br>\n",
    "Fonte 3: Empregado.xlsx<br>\n",
    "\n",
    "(II) Fonte 1->Sexo: ’Feminino’<br>\n",
    "Fonte 2->Sexo: ’F’<br>\n",
    "Fonte 3->Sexo: 0<br>\n",
    "\n",
    "(III) Fonte 1->NomeFuncionario: ’João da Silva’<br>\n",
    "Fonte 2->NomeColaborador: ’João da Silva’<br>\n",
    "Fonte 3->NomeEmpregado: ’João da Silva’<br>\n",
    "\n",
    "(IV) Fonte 1->DataNascimento: ’1990-01-01’<br>\n",
    "Fonte 2->DataNasc: ’01/01/1990’<br>\n",
    "Fonte 3->Nascimento: ’01 JAN 1990’<br>\n",
    "\n",
    "(V) Fonte 1->EstadoSigla: ’SP’<br>\n",
    "Fonte 2->EstadoSigla: ’SP’<br>\n",
    "Fonte 3->EstadoSigla: ’SP’<br>\n",
    "\n",
    "Considere que o projeto do data mart é representado pela Fonte 1. Indique quais itens necessitam de integração de esquemas e/ou instâncias:\n",
    "\n",
    "Escolha uma:<br><br>\n",
    "a. Integração de Esquemas: (I) e (IV)<br>\n",
    "Integração de Instâncias: (II), (III) e (V)<br>\n",
    "\n",
    "<b>b. Integração de Esquemas: (I), (III) e (IV)<br>\n",
    "Integração de Instâncias: (II) e (IV).<br></b>\n",
    "\n",
    "c. Integração de Esquemas: (I) e (II)<br>\n",
    "Integração de Instâncias: (III), (IV) e (V).<br>\n",
    "\n",
    "d. Integração de Esquemas: (I) e (IV)<br>\n",
    "Integração de Instâncias: (II) e (IV)<br>\n",
    "\n",
    "e. Integração de Esquemas: (I) e (V)<br>\n",
    "Integração de Instâncias: (II), (III) e (IV)<br>"
   ]
  },
  {
   "cell_type": "code",
   "execution_count": 3,
   "metadata": {},
   "outputs": [
    {
     "name": "stdout",
     "output_type": "stream",
     "text": [
      "b. Integração de Esquemas: (I), (III) e (IV)\n",
      "Integração de Instâncias: (II) e (IV).\n"
     ]
    }
   ],
   "source": [
    "#ESQUEMAS\n",
    "#-> item I, III, IV\n",
    "\n",
    "#INSTÂNCIAS\n",
    "#-> item II, IV\n",
    "\n",
    "print('b. Integração de Esquemas: (I), (III) e (IV)')\n",
    "print('Integração de Instâncias: (II) e (IV).')"
   ]
  },
  {
   "cell_type": "markdown",
   "metadata": {},
   "source": [
    "### Exercício 3\n",
    "\n",
    "Considere o seguinte contexto: Uma rede de supermercados com várias filiais pelo país está desenvolvendo uma aplicação de data warehousing com foco na análise de vendas de cada produto, em cada filial, em cada dia. Considere que a extração inicial já foi realizada e que os dados referentes a essa extração já se encontram armazenados no data warehouse. Quais estratégias do processo de ETL são mais indicadas para o objetivo da rede de supermercados?\n",
    "\n",
    "Escolha uma:<br>\n",
    "a. Processamento em lote, recomputação e periodicidade diária.<br>\n",
    "b. Processamento em streaming, extração incremental e periodicidade contínua.<br>\n",
    "c. Processamento em lote, recomputação e periodicidade semanal.<br>\n",
    "d. Processamento em streaming, extração incremental e periodicidade semanal.<br>\n",
    "<b>e. Processamento em lote, extração incremental e periodicidade diária.<br></b>"
   ]
  },
  {
   "cell_type": "code",
   "execution_count": 5,
   "metadata": {},
   "outputs": [
    {
     "name": "stdout",
     "output_type": "stream",
     "text": [
      "e. Processamento em lote, extração incremental e periodicidade diária.\n"
     ]
    }
   ],
   "source": [
    "print('e. Processamento em lote, extração incremental e periodicidade diária.')"
   ]
  },
  {
   "cell_type": "markdown",
   "metadata": {},
   "source": [
    "### Exercício 4\n",
    "\n",
    "Marque a alternativa <font color='green'><b>correta</b></font>:\n",
    "\n",
    "Escolha uma:<br>\n",
    "a. Durante a etapa de limpeza, é comum realizar um processamento adicional voltado à construção de índices com o objetivo de melhorar o desempenho na realização da operação de carga no data warehouse.<br>\n",
    "<b>b. A sigla CDC vem do termo Change Data Capture e se refere às técnicas que podem ser utilizadas na implementação de rotinas de detecção de alterações.<br></b>\n",
    "c. Dentro do processo de ETL, a extração e a transformação são operações opcionais, sendo que a única operação obrigatória é a carga.<br>\n",
    "d. Uma técnica utilizada para atualização do data warehouse é a recomputação. Nessa técnica, apenas as alterações nos dados das fontes são propagadas ao data warehousing, as quais, juntamente com os dados armazenados no data warehouse, são utilizadas para determinar o novo conteúdo do data warehouse.<br>\n",
    "e. O processo de integração corresponde à conversão de dados do formato nativo das fontes de dados para o formato e o modelo utilizados para armazenamento dos dados no data warehouse.<br>"
   ]
  },
  {
   "cell_type": "code",
   "execution_count": 6,
   "metadata": {},
   "outputs": [
    {
     "name": "stdout",
     "output_type": "stream",
     "text": [
      "b. A sigla CDC vem do termo Change Data Capture e se refere às técnicas que podem ser utilizadas na implementação de rotinas de detecção de alterações.\n"
     ]
    }
   ],
   "source": [
    "print('b. A sigla CDC vem do termo Change Data Capture e se refere às técnicas que podem ser utilizadas na implementação de rotinas de detecção de alterações.')"
   ]
  },
  {
   "cell_type": "markdown",
   "metadata": {},
   "source": [
    "### Exercício 5\n",
    "\n",
    "Com relação à integração de esquemas e de instâncias, analise as afirmativas a seguir:\n",
    "\n",
    "(I) Durante a integração de esquemas, os conflitos estruturais surgem sempre que diferentes construtores estruturais são utilizados para modelar o mesmo conceito representado em diferentes aplicações.\n",
    "\n",
    "(II) Em um ambiente de data warehousing, a integração de esquemas é obrigatória desde que ela já é suficiente para manter a semântica dos dados extraídos, sendo a integração de instâncias algo opcional e normalmente não considerada uma boa prática.\n",
    "\n",
    "(III) O processo de identificação das entidades das fontes de dados heterogêneas e adequação às entidades do mundo real faz parte da etapa de integração de esquemas.\n",
    "\n",
    "(IV) No processo de integração de esquemas, o conflito de nome refere-se aos nomes utilizados para representar os diferentes elementos existentes nos esquemas a serem integrados.\n",
    "\n",
    "Marque:<br>\n",
    "\n",
    "Escolha uma:<br>\n",
    "a. Se somente a afirmativa IV está correta.<br>\n",
    "<b>b. Se somente as afirmativas I e IV estão corretas.<br></b>\n",
    "c. Se somente as afirmativas II e III estão corretas.<br>\n",
    "d. Se somente a afirmativa III está correta.<br>\n",
    "e. Se somente a afirmativa I está correta.<br>"
   ]
  },
  {
   "cell_type": "code",
   "execution_count": 7,
   "metadata": {},
   "outputs": [
    {
     "name": "stdout",
     "output_type": "stream",
     "text": [
      "b. Se somente as afirmativas I e IV estão corretas.\n"
     ]
    }
   ],
   "source": [
    "# I - verdadeira\n",
    "# II - falsa\n",
    "# III - falsa\n",
    "# IV - verdadeira\n",
    "\n",
    "print('b. Se somente as afirmativas I e IV estão corretas.')"
   ]
  },
  {
   "cell_type": "code",
   "execution_count": null,
   "metadata": {},
   "outputs": [],
   "source": []
  }
 ],
 "metadata": {
  "kernelspec": {
   "display_name": "Python 3",
   "language": "python",
   "name": "python3"
  },
  "language_info": {
   "codemirror_mode": {
    "name": "ipython",
    "version": 3
   },
   "file_extension": ".py",
   "mimetype": "text/x-python",
   "name": "python",
   "nbconvert_exporter": "python",
   "pygments_lexer": "ipython3",
   "version": "3.7.6"
  },
  "toc": {
   "base_numbering": 1,
   "nav_menu": {},
   "number_sections": true,
   "sideBar": true,
   "skip_h1_title": false,
   "title_cell": "Table of Contents",
   "title_sidebar": "Contents",
   "toc_cell": false,
   "toc_position": {},
   "toc_section_display": true,
   "toc_window_display": false
  }
 },
 "nbformat": 4,
 "nbformat_minor": 2
}
