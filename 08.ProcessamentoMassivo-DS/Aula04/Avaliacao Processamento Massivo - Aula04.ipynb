{
 "cells": [
  {
   "cell_type": "markdown",
   "metadata": {},
   "source": [
    "# <span style=\"color:blue\"> MBA em Ciência de Dados</span>\n",
    "# <span style=\"color:blue\">Análise de Dados com Base em Processamento Massivo em Paralelo</span>\n",
    "\n",
    "## <span style=\"color:blue\">Aula 04</span>\n",
    "**Material Produzido por Cristina Dutra de Aguiar Ciferri**<br>\n",
    "**Cemeai - ICMC/USP São Carlos**"
   ]
  },
  {
   "cell_type": "markdown",
   "metadata": {},
   "source": [
    "<font color='red'> As respostas devem ser fornecidas no Moodle. O notebook é apenas para a implementação dos códigos que fornecerão as respostas</font>"
   ]
  },
  {
   "cell_type": "markdown",
   "metadata": {},
   "source": [
    "### Exercício 1\n",
    "Assinale a alternativa <font color='green'><b>correta</b></font> acerca da modelagem conceitual do processo de ETL:\n",
    "\n",
    "Escolha uma:<br>\n",
    "<b>a. A modelagem conceitual do processo de ETL baseada em operadores contribui para facilitar a análise de impacto e a refatoração do processo em casos de manutenção e evolução do sistema.<br></b>\n",
    "b. O esquema conceitual é um recurso precioso para a análise de impacto das alterações necessárias para atendimento de demandas que ocorrem no ciclo de vida do data warehousing, porém ele não deve englobar a evolução das regras de negócio.<br>\n",
    "c. A modelagem conceitual do processo de ETL deve ocorrer após sua implementação ter sido finalizada, pois dessa forma o desenvolvedor consegue visualizar melhor todo o processo e então criar uma modelagem mais completa.<br>\n",
    "d. Para que o projeto de DW seja bem sucedido, o processo de ETL deve ser robusto e de fácil manutenção. Sendo assim, não é necessário que o desenvolvedor adote nenhum modelo que represente esse workflow, mas sim que ele realize a construção imediata de todo o processo em um código fonte com bons comentários.<br>\n",
    "e. As seguintes características são imprescindíveis para uma boa modelagem: complexidade, completude, possibilidade de customização, clareza, consistência e não ambiguidade."
   ]
  },
  {
   "cell_type": "code",
   "execution_count": 1,
   "metadata": {},
   "outputs": [
    {
     "name": "stdout",
     "output_type": "stream",
     "text": [
      "a. A modelagem conceitual do processo de ETL baseada em operadores contribui para facilitar a análise de impacto e a refatoração do processo em casos de manutenção e evolução do sistema.\n"
     ]
    }
   ],
   "source": [
    "print('a. A modelagem conceitual do processo de ETL baseada em operadores contribui para facilitar a análise de impacto e a refatoração do processo em casos de manutenção e evolução do sistema.')"
   ]
  },
  {
   "cell_type": "markdown",
   "metadata": {},
   "source": [
    "### Exercício 2\n",
    "Considere as seguintes afirmações acerca dos operadores utilizados na modelagem conceitual do processo de ETL:\n",
    "\n",
    "I. O operador Function é usado para representar tarefas ou funções que não são representados pelos demais operadores descritos nessa abordagem. Normalmente, as tarefas ou funções representadas por esse operador envolvem um nível de especificidade consideravelmente baixo, sendo, portanto, mais genéricas.<br>\n",
    "\n",
    "II. O operador Union é usado para juntar os itens de dados de dois conjuntos fornecidos. Para utilizá-lo corretamente, é necessário garantir que os conjuntos de dados de entrada estejam preparados, ou seja, as tarefas anteriores aplicadas aos dados devem estar terminadas para o início da operação de união. Nessa operação, os itens da segunda fonte de dados são priorizados, sendo que somente os itens da primeira fonte que não têm um correspondente na segunda são adicionados ao resultado.<br>\n",
    "\n",
    "III. O operador Filter é usado para a seleção de subconjuntos de dados de acordo com condições estabelecidas. A entrada para o operador Filter é unária, ou seja, um único conjunto de dados. O resultado, no entanto, é n-ário, ou seja, um conjunto de dados para cada condição de seleção fornecida. Além disso, os itens de dados que destoam das condições estabelecidas podem ser direcionados para um fluxo alternativo ou para um repositório de “dados inválidos”.<br>\n",
    "\n",
    "Assinale a alternativa que contém apenas as afirmações verdadeiras:<br>\n",
    "\n",
    "Escolha uma:<br>\n",
    "<b>a. Apenas III.<br></b>\n",
    "b. Nenhuma das afirmações.<br>\n",
    "c. Todas as afirmações.<br>\n",
    "d. Apenas I e II.<br>\n",
    "e. Apenas II.<br>"
   ]
  },
  {
   "cell_type": "code",
   "execution_count": 2,
   "metadata": {},
   "outputs": [
    {
     "name": "stdout",
     "output_type": "stream",
     "text": [
      "a. Apenas III.\n"
     ]
    }
   ],
   "source": [
    "print('a. Apenas III.')"
   ]
  },
  {
   "cell_type": "markdown",
   "metadata": {},
   "source": [
    "### Exercício 3\n",
    "A Figura 1 ilustra o funcionamento dos operadores Fork (Figura 1a) e Junction (Figura 1b). Assinale a alternativa <font color='red'><b>incorreta</b></font> acerca desse funcionamento:\n",
    "\n",
    "<img src='.\\img1.gif'>\n",
    "\n",
    "Escolha uma:<br>\n",
    "a. O operador Junction representa o ponto de encontro de fluxos que tenham sido disparados de forma paralela. Assim, a entrada para o operador Junction são os dados resultantes da aplicação de transformações, limpezas ou agregações.<br>\n",
    "b. O operador Fork é usado para representar uma situação na qual um conjunto de dados, vindo de um repositório ou resultante de alguma tarefa, é direcionado para dois ou mais fluxos que são executados de forma paralela ou para um repositório e também para uma ou mais fluxos do workflow.<br>\n",
    "<b>c. O operador Fork impacta os dados que trafegam no workflow, uma vez que seu uso ocasiona em uma separação do conjunto de dados em duas ou mais partes para possibilitar seu processamento de forma paralela em diferentes fluxos.<br></b>\n",
    "d. Um exemplo de caso de uso para o operador Junction é uma situação na qual operações de agregação são aplicadas a um conjunto de dados e, ao final dessas operações, os dados resultantes são direcionados para um repositório.<br>\n",
    "e. O operador Junction não impacta os dados que trafegam no workflow, uma vez que seu uso ocasiona apenas no direcionamento dos dados resultantes do processamento de dois ou mais fluxos executados em paralelo para um outro fluxo ou para um repositório."
   ]
  },
  {
   "cell_type": "code",
   "execution_count": 3,
   "metadata": {},
   "outputs": [
    {
     "name": "stdout",
     "output_type": "stream",
     "text": [
      "c. O operador Fork impacta os dados que trafegam no workflow, uma vez que seu uso ocasiona em uma separação do conjunto de dados em duas ou mais partes para possibilitar seu processamento de forma paralela em diferentes fluxos.\n"
     ]
    }
   ],
   "source": [
    "print('c. O operador Fork impacta os dados que trafegam no workflow, uma vez que seu uso ocasiona em uma separação do conjunto de dados em duas ou mais partes para possibilitar seu processamento de forma paralela em diferentes fluxos.')"
   ]
  },
  {
   "cell_type": "markdown",
   "metadata": {},
   "source": [
    "### Exercício 4\n",
    "Considere o diagrama conceitual modelado na Figura 2. Assinale a alternativa que associa os valores corretos para as descrições “Parte A”, “Parte B” e “Parte C”, respectivamente:\n",
    "\n",
    "<img src='.\\img2.gif'>\n",
    "\n",
    "Escolha uma:<br>\n",
    "<b>a. “Parte A” se refere à integração de esquemas, “Parte B” se refere à integração de instâncias e “Parte C” se refere à carga dos dados.<br></b>\n",
    "b. “Parte A” se refere à integração de instâncias, “Parte B” se refere à integração de esquemas e “Parte C” se refere à carga dos  dados.<br>\n",
    "c. “Parte A” se refere à carga dos dados, “Parte B” se refere à integração de esquemas e “Parte C” se refere à integração de instâncias.<br>\n",
    "d. “Parte A” se refere à integração de esquemas, “Parte B” se refere à carga dos dados e “Parte C” se refere à integração de instâncias.<br>\n",
    "e. “Parte A” se refere à carga dos dados, “Parte B” se refere à integração de instâncias e “Parte C” se refere à integração de esquemas."
   ]
  },
  {
   "cell_type": "code",
   "execution_count": 4,
   "metadata": {},
   "outputs": [
    {
     "name": "stdout",
     "output_type": "stream",
     "text": [
      "a. “Parte A” se refere à integração de esquemas, “Parte B” se refere à integração de instâncias e “Parte C” se refere à carga dos dados.\n"
     ]
    }
   ],
   "source": [
    "print('a. “Parte A” se refere à integração de esquemas, “Parte B” se refere à integração de instâncias e “Parte C” se refere à carga dos dados.')"
   ]
  },
  {
   "cell_type": "markdown",
   "metadata": {},
   "source": [
    "### Exercício 5\n",
    "Ainda considerando o diagrama conceitual modelado na Figura 2, assinale a alternativa <font color='red'><b>incorreta</b></font>:\n",
    "\n",
    "Escolha uma:<br>\n",
    "a. O operador SurrogateKey foi adicionado na “Parte C” para criar um novo atributo chamado funcPK, o qual contém valores de chaves numéricas que identificam univocamente cada funcionário que será carregado no data mart.<br>\n",
    "b. O operador Function é utilizado para representar tarefas muito específicas, como exemplo a priorização de dados oriundos de um determinado conjunto de dados em detrimento dos dados advindos de outro conjunto.<br>\n",
    "c. O operador de armazenamento DataWarehouse não foi utilizado como destino para a carga dos dados devido ao fato de que o escopo do diagrama é limitado apenas a um setor muito específico da empresa. Sendo assim, o operador de armazenamento DataMart foi utilizado por se adequar melhor a tal escopo.<br>\n",
    "<b>d. O operador Join, representado na “Parte B”, pode ser substituído pelo operador Junction, uma vez que os fluxos relacionados às fontes de dados funcionarioRelacional e colaboradorJSON estão sendo processados de forma paralela.<br></b>\n",
    "e. O operador Join, representado na “Parte B”, combina os itens dos conjuntos de dados “funcionarioRelacional” e “colaboradorJSON” com base na matrícula dos funcionários. Caso as matrículas tenham valores iguais, os dados correspondentes são encaminhados para o operador Function. Caso as matrículas tenham valores diferentes, os dados correspondentes são encaminhados para o operador Union."
   ]
  },
  {
   "cell_type": "code",
   "execution_count": 5,
   "metadata": {},
   "outputs": [
    {
     "name": "stdout",
     "output_type": "stream",
     "text": [
      "d. O operador Join, representado na “Parte B”, pode ser substituído pelo operador Junction, uma vez que os fluxos relacionados às fontes de dados funcionarioRelacional e colaboradorJSON estão sendo processados de forma paralela.\n"
     ]
    }
   ],
   "source": [
    "print('d. O operador Join, representado na “Parte B”, pode ser substituído pelo operador Junction, uma vez que os fluxos relacionados às fontes de dados funcionarioRelacional e colaboradorJSON estão sendo processados de forma paralela.')"
   ]
  },
  {
   "cell_type": "code",
   "execution_count": null,
   "metadata": {},
   "outputs": [],
   "source": []
  }
 ],
 "metadata": {
  "kernelspec": {
   "display_name": "Python 3",
   "language": "python",
   "name": "python3"
  },
  "language_info": {
   "codemirror_mode": {
    "name": "ipython",
    "version": 3
   },
   "file_extension": ".py",
   "mimetype": "text/x-python",
   "name": "python",
   "nbconvert_exporter": "python",
   "pygments_lexer": "ipython3",
   "version": "3.7.6"
  },
  "toc": {
   "base_numbering": 1,
   "nav_menu": {},
   "number_sections": true,
   "sideBar": true,
   "skip_h1_title": false,
   "title_cell": "Table of Contents",
   "title_sidebar": "Contents",
   "toc_cell": false,
   "toc_position": {},
   "toc_section_display": true,
   "toc_window_display": false
  }
 },
 "nbformat": 4,
 "nbformat_minor": 2
}
