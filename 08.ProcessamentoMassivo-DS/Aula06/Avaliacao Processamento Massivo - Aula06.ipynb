{
 "cells": [
  {
   "cell_type": "markdown",
   "metadata": {},
   "source": [
    "# <span style=\"color:blue\"> MBA em Ciência de Dados</span>\n",
    "# <span style=\"color:blue\">Análise de Dados com Base em Processamento Massivo em Paralelo</span>\n",
    "\n",
    "## <span style=\"color:blue\">Aula XX</span>\n",
    "**Material Produzido por Cristina Dutra de Aguiar Ciferri**<br>\n",
    "**Cemeai - ICMC/USP São Carlos**"
   ]
  },
  {
   "cell_type": "markdown",
   "metadata": {},
   "source": [
    "<font color='red'> As respostas devem ser fornecidas no Moodle. O notebook é apenas para a implementação dos códigos que fornecerão as respostas</font>"
   ]
  },
  {
   "cell_type": "markdown",
   "metadata": {},
   "source": [
    "### Exercício 1\n",
    "Considere que está sendo desenvolvida uma aplicação web para uma empresa que produz mensagens de texto ilustradas que podem ser usadas como cartões de presente em datas especiais. Suponha que seja o final de semana do dia das mães e que esteja se esperando uma grande quantidade de clientes acessando os cartões e escolhendo-os para enviar para as pessoas apropriadas.\n",
    "\n",
    "Considere as seguintes possibilidades:\n",
    "\n",
    "I. Uma solução adequada para a demanda desta aplicação é escolher um cluster de computadores voltado ao alto desempenho.\n",
    "\n",
    "II. Uma solução adequada para a demanda desta aplicação é escolher uma combinação de dois tipos de clusters de computadores, um de alta disponibilidade e outro para balanceamento de carga.\n",
    "\n",
    "III. Uma solução adequada para a demanda desta aplicação é escolher um ambiente de computação em nuvem e implantar a aplicação em uma nuvem comunitária.\n",
    "\n",
    "IV. Uma solução adequada para a demanda desta aplicação é escolher um ambiente de computação em nuvem e implantar a aplicação em uma nuvem pública.\n",
    "\n",
    "Quais as possibilidades que devem ser escolhidas?\n",
    "\n",
    "Escolha uma:<br>\n",
    "a. As possibilidades II e III.<br>\n",
    "b. Apenas a possibilidade I.<br>\n",
    "c. As possibilidades I e IV.<br>\n",
    "d. Apenas a possibilidade IV.<br>\n",
    "e. As possibilidades II e IV<br>"
   ]
  },
  {
   "cell_type": "code",
   "execution_count": null,
   "metadata": {},
   "outputs": [],
   "source": []
  },
  {
   "cell_type": "markdown",
   "metadata": {},
   "source": [
    "### Exercício 2\n",
    "Considere as seguintes afirmações:\n",
    "\n",
    "I. O modelo MapReduce é definido em termos de duas funções base, a função map e a função reduce, as quais trabalham com pares chave-valor.\n",
    "\n",
    "II. O uso de pares chave-valor é muito importante porque é a partir deste modelo que o MapReduce esconde a complexidade inerente ao paralelismo e à distribuição, introduzindo, por outro lado, a complexidade de se explicitamente especificar a etapa de shuffling entre as funções map e reduce para a obtenção do resultado desejado.\n",
    "\n",
    "III. A arquitetura do HDFS possui dois nós NameNode (um primário e um secundário), os quais são responsáveis por manter os metadados que indicam os locais nos quais as partições dos arquivos de dados estão localizadas, e vários nós DataNode, os quais são responsáveis por armazenar partições do arquivos de dados e réplicas destas partições em adição a alguns aspectos de controle sobre as partições e réplicas armazenadas.\n",
    "\n",
    "IV. Yarn é um dos componentes da arquitetura do framework Apache Hadoop, tendo sido incluído como componente desta arquitetura como resultado do processo de evolução do Hadoop para o ecossistema Hadoop, sendo capaz também de ser utilizado como gerenciador do framework Apache Spark.\n",
    "\n",
    "Considerando V (Verdadeiro) e F (Falso), assinale a alternativa correta:\n",
    "\n",
    "Escolha uma:<br>\n",
    "a. V - V - V - F<br>\n",
    "b. V - F - V - V<br>\n",
    "c. F - V - F - V<br>\n",
    "d. V - V - F - V<br>\n",
    "e. V - F - F - V<br>"
   ]
  },
  {
   "cell_type": "code",
   "execution_count": null,
   "metadata": {},
   "outputs": [],
   "source": []
  },
  {
   "cell_type": "markdown",
   "metadata": {},
   "source": [
    "### Exercício 3\n",
    "Considere as seguintes afirmações acerca de uma aplicação Spark:\n",
    "\n",
    "I. Tasks são submetidas aos executors pelo driver.\n",
    "\n",
    "II. Uma aplicação Spark possui apenas um nó mestre, porém pode possuir vários nós trabalho.\n",
    "\n",
    "III. O objeto SparkContext provê recursos computacionais.\n",
    "\n",
    "IV. Nós trabalho são responsáveis por executar os executors.\n",
    "\n",
    "Considerando V (Verdadeiro) e F (Falso), assinale a alternativa correta:\n",
    "\n",
    "Escolha uma:<br>\n",
    "a. V - F - F - V<br>\n",
    "b. V - V - F - V<br>\n",
    "c. F - F - V - F<br>\n",
    "d. F - V - F - V<br>\n",
    "e. V - V - V - F<br>"
   ]
  },
  {
   "cell_type": "code",
   "execution_count": null,
   "metadata": {},
   "outputs": [],
   "source": []
  },
  {
   "cell_type": "markdown",
   "metadata": {},
   "source": [
    "### Exercício 4\n",
    "Considere o código Python abaixo. Qual o valor da variável output?\n",
    "<img src='.\\img1.gif'>\n",
    "\n",
    "Escolha uma:<br>\n",
    "a. 4<br>\n",
    "b. 5<br>\n",
    "c. 3<br>\n",
    "d. 6<br>\n",
    "e. 2<br>"
   ]
  },
  {
   "cell_type": "code",
   "execution_count": null,
   "metadata": {},
   "outputs": [],
   "source": []
  },
  {
   "cell_type": "markdown",
   "metadata": {},
   "source": [
    "### Exercício 5\n",
    "Considere o código Python abaixo. Qual o valor da variável output?\n",
    "<img src='./img2.gif'>\n",
    "Escolha uma:<br>\n",
    "a. [True, 17]<br>\n",
    "b. [-13, True]<br>\n",
    "c. [False, -13]<br>\n",
    "d. [False, 17]<br>\n",
    "e. [17, False]<br>"
   ]
  },
  {
   "cell_type": "code",
   "execution_count": null,
   "metadata": {},
   "outputs": [],
   "source": []
  }
 ],
 "metadata": {
  "kernelspec": {
   "display_name": "Python 3",
   "language": "python",
   "name": "python3"
  },
  "language_info": {
   "codemirror_mode": {
    "name": "ipython",
    "version": 3
   },
   "file_extension": ".py",
   "mimetype": "text/x-python",
   "name": "python",
   "nbconvert_exporter": "python",
   "pygments_lexer": "ipython3",
   "version": "3.7.6"
  },
  "toc": {
   "base_numbering": 1,
   "nav_menu": {},
   "number_sections": true,
   "sideBar": true,
   "skip_h1_title": false,
   "title_cell": "Table of Contents",
   "title_sidebar": "Contents",
   "toc_cell": false,
   "toc_position": {},
   "toc_section_display": true,
   "toc_window_display": false
  }
 },
 "nbformat": 4,
 "nbformat_minor": 2
}
