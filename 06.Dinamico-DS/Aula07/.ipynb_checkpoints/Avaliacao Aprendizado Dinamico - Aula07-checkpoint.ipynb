{
 "cells": [
  {
   "cell_type": "markdown",
   "metadata": {},
   "source": [
    "# <span style=\"color:blue\"> MBA em Ciência de Dados</span>\n",
    "# <span style=\"color:blue\">Aprendizado Dinâmico</span>\n",
    "\n",
    "## <span style=\"color:blue\">Aula 07</span>\n",
    "**Material Produzido por Cibele Russo**<br>\n",
    "**Cemeai - ICMC/USP São Carlos**"
   ]
  },
  {
   "cell_type": "markdown",
   "metadata": {},
   "source": [
    "<font color='red'> As respostas devem ser fornecidas no Moodle. O notebook é apenas para a implementação dos códigos que fornecerão as respostas</font>"
   ]
  },
  {
   "cell_type": "markdown",
   "metadata": {},
   "source": [
    "### Exercício 1\n",
    "Sobre as redes neurais artificiais, assinale as alternativas <font color='green'><b>corretas</b></font>:\n",
    "\n",
    "\n",
    "Escolha uma ou mais:<br>\n",
    "a. Na representação do perceptron, há sempre pelo menos três camadas ocultas, além de uma camada de entrada e uma de saída<br>\n",
    "<b>b. A indicação do caminho das informações nas redes neurais artificiais segue a orientação das setas nos grafos usados para representá-las<br>\n",
    "c. As redes neurais artificiais têm inspiração em sistemas neurais biológicos<br>\n",
    "d. A função de ativação transforma a informação recebida e a leva para o próximo neurônio<br></b>"
   ]
  },
  {
   "cell_type": "code",
   "execution_count": 1,
   "metadata": {},
   "outputs": [
    {
     "name": "stdout",
     "output_type": "stream",
     "text": [
      "b. A indicação do caminho das informações nas redes neurais artificiais segue a orientação das setas nos grafos usados para representá-las\n",
      "c. As redes neurais artificiais têm inspiração em sistemas neurais biológicos\n",
      "d. A função de ativação transforma a informação recebida e a leva para o próximo neurônio\n"
     ]
    }
   ],
   "source": [
    "print('b. A indicação do caminho das informações nas redes neurais artificiais segue a orientação das setas nos grafos usados para representá-las')\n",
    "print('c. As redes neurais artificiais têm inspiração em sistemas neurais biológicos')\n",
    "print('d. A função de ativação transforma a informação recebida e a leva para o próximo neurônio')"
   ]
  },
  {
   "cell_type": "markdown",
   "metadata": {},
   "source": [
    "### Exercício 2\n",
    "Sobre redes neurais recorrentes, assinale as alternativas <font color='green'><b>corretas</b></font>:\n",
    "\n",
    "Escolha uma ou mais:<br>\n",
    "a. As redes neurais recorrentes armazenam toda a informação anterior em sua memória<br>\n",
    "<b>b. Long Short-Term Memory (LSTM) e GRU (Gated Recurrent Unit) são exemplos de redes neurais artificiais recorrentes<br></b>\n",
    "c. O diagrama abaixo representa a modelagem de redes neurais artificiais para dados independentes ao longo do tempo<br>\n",
    "<img src='.\\img\\img1.gif'>\n",
    "<b>d. As redes neurais recorrentes servem para modelar dados que são coletados de forma sequencial</b>"
   ]
  },
  {
   "cell_type": "code",
   "execution_count": 11,
   "metadata": {},
   "outputs": [
    {
     "name": "stdout",
     "output_type": "stream",
     "text": [
      "b. Long Short-Term Memory (LSTM) e GRU (Gated Recurrent Unit) são exemplos de redes neurais artificiais recorrentes\n",
      "d. As redes neurais recorrentes servem para modelar dados que são coletados de forma sequencial\n"
     ]
    }
   ],
   "source": [
    "print('b. Long Short-Term Memory (LSTM) e GRU (Gated Recurrent Unit) são exemplos de redes neurais artificiais recorrentes')\n",
    "print('d. As redes neurais recorrentes servem para modelar dados que são coletados de forma sequencial')"
   ]
  },
  {
   "cell_type": "markdown",
   "metadata": {},
   "source": [
    "### Exercício 3\n",
    "Sobre o Long Short-Term Memory (LSTM) e GRU (Gated Recurrent Unit), assinale a alternativa <font color='red'><b>incorreta</b></font>:\n",
    "\n",
    "<img src='.\\img\\img2.gif'>\n",
    "\n",
    "Escolha uma:<br>\n",
    "a. Um só neurônio pode carregar informações de vetores de dados<br>\n",
    "<b>b. Nos dois métodos há seleção de informações que serão armazenadas ou descartadas no processo<br></b>\n",
    "c. Tanto o LSTM quanto o GRU podem ser usados para fazer modelagem de séries temporais<br>\n",
    "d. GRU é uma simplificação do LSTM<br>"
   ]
  },
  {
   "cell_type": "code",
   "execution_count": 7,
   "metadata": {},
   "outputs": [
    {
     "name": "stdout",
     "output_type": "stream",
     "text": [
      "b. Nos dois métodos há seleção de informações que serão armazenadas ou descartadas no processo\n"
     ]
    }
   ],
   "source": [
    "print('b. Nos dois métodos há seleção de informações que serão armazenadas ou descartadas no processo')"
   ]
  },
  {
   "cell_type": "markdown",
   "metadata": {},
   "source": [
    "### Exercício 4\n",
    "Sobre a modelagem de redes neurais recorrentes, assinale a alternativa <font color='red'><b>incorreta</b></font>:\n",
    "\n",
    "\n",
    "Escolha uma:<br>\n",
    "a. É necessário definir uma função de perda e um otimizador para desenvolver o modelo de redes neurais artificiais<br>\n",
    "<b>b. Poucos neurônios em geral são suficientes para fazer a modelagem de dados complexos com estrutura sequencial como dados de séries temporais<br></b>\n",
    "c. A implementação de RNNs pode ser feita no keras, que é uma interface de programação de aplicativos (API) do tensorflow<br>\n",
    "d. Para a implementação do LSTM usa-se uma camada do tipo Dense para representar a camada de saída da rede neural artificial"
   ]
  },
  {
   "cell_type": "code",
   "execution_count": 8,
   "metadata": {},
   "outputs": [
    {
     "name": "stdout",
     "output_type": "stream",
     "text": [
      "b. Poucos neurônios em geral são suficientes para fazer a modelagem de dados complexos com estrutura sequencial como dados de séries temporais\n"
     ]
    }
   ],
   "source": [
    "print('b. Poucos neurônios em geral são suficientes para fazer a modelagem de dados complexos com estrutura sequencial como dados de séries temporais')"
   ]
  },
  {
   "cell_type": "code",
   "execution_count": null,
   "metadata": {},
   "outputs": [],
   "source": []
  }
 ],
 "metadata": {
  "kernelspec": {
   "display_name": "Python 3",
   "language": "python",
   "name": "python3"
  },
  "language_info": {
   "codemirror_mode": {
    "name": "ipython",
    "version": 3
   },
   "file_extension": ".py",
   "mimetype": "text/x-python",
   "name": "python",
   "nbconvert_exporter": "python",
   "pygments_lexer": "ipython3",
   "version": "3.7.6"
  },
  "toc": {
   "base_numbering": 1,
   "nav_menu": {},
   "number_sections": true,
   "sideBar": true,
   "skip_h1_title": false,
   "title_cell": "Table of Contents",
   "title_sidebar": "Contents",
   "toc_cell": false,
   "toc_position": {},
   "toc_section_display": true,
   "toc_window_display": false
  }
 },
 "nbformat": 4,
 "nbformat_minor": 2
}
