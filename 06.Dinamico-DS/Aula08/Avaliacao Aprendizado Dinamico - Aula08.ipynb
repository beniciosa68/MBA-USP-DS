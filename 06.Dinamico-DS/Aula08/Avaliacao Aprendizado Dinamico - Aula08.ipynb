{
 "cells": [
  {
   "cell_type": "markdown",
   "metadata": {},
   "source": [
    "# <span style=\"color:blue\"> MBA em Ciência de Dados</span>\n",
    "# <span style=\"color:blue\">Aprendizado Dinâmico</span>\n",
    "\n",
    "## <span style=\"color:blue\">Aula 08</span>\n",
    "**Material Produzido por Cibele Russo**<br>\n",
    "**Cemeai - ICMC/USP São Carlos**"
   ]
  },
  {
   "cell_type": "markdown",
   "metadata": {},
   "source": [
    "<font color='red'> As respostas devem ser fornecidas no Moodle. O notebook é apenas para a implementação dos códigos que fornecerão as respostas</font>"
   ]
  },
  {
   "cell_type": "markdown",
   "metadata": {},
   "source": [
    "### Exercício 1\n",
    "Sobre estudos de análise de sobrevivência, assinale as alternativas <font color='green'><b>corretas</b></font>:\n",
    "\n",
    "\n",
    "Escolha uma ou mais:<br>\n",
    "a. Hazard ratio e risco relativo são sinônimos<br>\n",
    "b. O evento de interesse no estudo pode, eventualmente, ter mais de dois possíveis resultados, como ocorre, não ocorre ou ocorre parcialmente<br>\n",
    "<b>c. O estimador de Kaplan Meier é um estimador não-paramétrico<br>\n",
    "d. O estimador de Kaplan Meier é o estimador de máxima verossimilhança de S(t)<br>"
   ]
  },
  {
   "cell_type": "code",
   "execution_count": 5,
   "metadata": {},
   "outputs": [
    {
     "name": "stdout",
     "output_type": "stream",
     "text": [
      "c. O estimador de Kaplan Meier é um estimador não-paramétrico\n",
      "d. O estimador de Kaplan Meier é o estimador de máxima verossimilhança de S(t)\n"
     ]
    }
   ],
   "source": [
    "print('c. O estimador de Kaplan Meier é um estimador não-paramétrico')\n",
    "print('d. O estimador de Kaplan Meier é o estimador de máxima verossimilhança de S(t)')"
   ]
  },
  {
   "cell_type": "markdown",
   "metadata": {},
   "source": [
    "### Exercício 2\n",
    "Considere um estudo em que o interesse é predizer o evento contágio por COVID-19 em habitantes de uma cidade, a partir do primeiro caso. Para isso, foi coletada uma amostra de tamanho 1000 e os indivíduos foram acompanhados por 5 meses com testes de sorologia que detectam a presença de anticorpos de coronavírus. Os voluntários são acompanhados até que o primeiro positivo seja observado. Assinale as alternativas <font color='green'><b>corretas</b></font>.\n",
    "\n",
    "\n",
    "Escolha uma ou mais:<br>\n",
    "a. Esse tipo de estudo leva em consideração a possibilidade de o mesmo voluntário se contaminar duas vezes com o mesmo vírus.<br>\n",
    "<b>b. Alguns voluntários saíram do estudo e os anticorpos ainda não haviam sido observados. Esses dados são censurados à direita.<br>\n",
    "c. Se o primeiro teste em um voluntário apontou a presença de anticorpos, esse dado é censurado à esquerda.<br>\n",
    "d. Um voluntário fez dois testes. O primeiro teste, há dois meses, deu resultado negativo e o segundo teste há um mês deu resultado positivo. Esse dado possui censura intervalar.<br></b>\n",
    "e. Para estudar esses dados utilizando técnicas de análise de sobrevivência é estritamente necessário supor que todos os voluntários irão em algum momento se contaminar com o coronavírus."
   ]
  },
  {
   "cell_type": "code",
   "execution_count": 2,
   "metadata": {},
   "outputs": [
    {
     "name": "stdout",
     "output_type": "stream",
     "text": [
      "b. Alguns voluntários saíram do estudo e os anticorpos ainda não haviam sido observados. Esses dados são censurados à direita.\n",
      "c. Se o primeiro teste em um voluntário apontou a presença de anticorpos, esse dado é censurado à esquerda.\n",
      "d. Um voluntário fez dois testes. O primeiro teste, há dois meses, deu resultado negativo e o segundo teste há um mês deu resultado positivo. Esse dado possui censura intervalar.\n"
     ]
    }
   ],
   "source": [
    "print('b. Alguns voluntários saíram do estudo e os anticorpos ainda não haviam sido observados. Esses dados são censurados à direita.')\n",
    "print('c. Se o primeiro teste em um voluntário apontou a presença de anticorpos, esse dado é censurado à esquerda.')\n",
    "print('d. Um voluntário fez dois testes. O primeiro teste, há dois meses, deu resultado negativo e o segundo teste há um mês deu resultado positivo. Esse dado possui censura intervalar.')"
   ]
  },
  {
   "cell_type": "markdown",
   "metadata": {},
   "source": [
    "### Exercício 3\n",
    "Assinale a alternativa <font color='red'><b>incorreta</b></font>:\n",
    "\n",
    "\n",
    "Escolha uma:<br>\n",
    "<b>a. Quando um paciente não apresenta bons resultados à medicação e é retirado do estudo, ocorre uma censura independente<br></b>\n",
    "b. Quando um número preestabelecido de eventos ocorrem, as outras observações sofrem censura tipo II<br>\n",
    "c. A censura tipo I ocorre quando um tempo é preestabelecido para o fim das observações, e então os pacientes em que não se observou o evento de interesse têm suas observações censuradas<br>\n",
    "d. A censura aleatória é observada quando além dos tempos de vida, as censuras também ocorrem em tempos aleatórios<br>"
   ]
  },
  {
   "cell_type": "code",
   "execution_count": 3,
   "metadata": {},
   "outputs": [
    {
     "name": "stdout",
     "output_type": "stream",
     "text": [
      "a. Quando um paciente não apresenta bons resultados à medicação e é retirado do estudo, ocorre uma censura independente\n"
     ]
    }
   ],
   "source": [
    "print('a. Quando um paciente não apresenta bons resultados à medicação e é retirado do estudo, ocorre uma censura independente')"
   ]
  },
  {
   "cell_type": "markdown",
   "metadata": {},
   "source": [
    "### Exercício 4\n",
    "Sobre estudos de análise de sobrevivência, assinale as alternativas <font color='green'><b>corretas</b></font>:\n",
    "\n",
    "Escolha uma ou mais:<br><br>\n",
    "a. Na figura abaixo, as linhas azuis representam dados que foram censurados pois naquelas observações o evento de interesse não ocorreu até o tempo t=12<br>\n",
    "<img src='.\\img\\img1.gif'>\n",
    "<b>b. Considerando o modelo de Cox abaixo, o maior risco relativo está relacionado à variável 1 e o menor à variável 2\n",
    "<img src='.\\img\\img2.gif'>\n",
    "c. Na figura abaixo, a probabilidade de um indivíduo sobreviver pelo menos até o tempo 45 é aproximadamente 60%\n",
    "<img src='.\\img\\img3.gif'>\n",
    "d. O estimador de Kaplan-Meier na figura abaixo pode indicar um modelo de longa duração, ou seja, o evento de interesse pode nunca ocorrer para parte da amostra\n",
    "<img src='.\\img\\img4.gif'>\n",
    "e. O estimador de Kaplan-Meier na Figura abaixo dá evidências de maior probabilidade de sobrevida no grupo controle do que no grupo miR-137\n",
    "<img src='.\\img\\img5.gif'>"
   ]
  },
  {
   "cell_type": "code",
   "execution_count": 4,
   "metadata": {},
   "outputs": [
    {
     "name": "stdout",
     "output_type": "stream",
     "text": [
      "b. Considerando o modelo de Cox abaixo, o maior risco relativo está relacionado à variável 1 e o menor à variável 2\n",
      "c. Na figura abaixo, a probabilidade de um indivíduo sobreviver pelo menos até o tempo 45 é aproximadamente 60%\n",
      "d. O estimador de Kaplan-Meier na figura abaixo pode indicar um modelo de longa duração, ou seja, o evento de interesse pode nunca ocorrer para parte da amostra\n",
      "e. O estimador de Kaplan-Meier na Figura abaixo dá evidências de maior probabilidade de sobrevida no grupo controle do que no grupo miR-137\n"
     ]
    }
   ],
   "source": [
    "print('b. Considerando o modelo de Cox abaixo, o maior risco relativo está relacionado à variável 1 e o menor à variável 2')\n",
    "print('c. Na figura abaixo, a probabilidade de um indivíduo sobreviver pelo menos até o tempo 45 é aproximadamente 60%')\n",
    "print('d. O estimador de Kaplan-Meier na figura abaixo pode indicar um modelo de longa duração, ou seja, o evento de interesse pode nunca ocorrer para parte da amostra')\n",
    "print('e. O estimador de Kaplan-Meier na Figura abaixo dá evidências de maior probabilidade de sobrevida no grupo controle do que no grupo miR-137')"
   ]
  },
  {
   "cell_type": "code",
   "execution_count": null,
   "metadata": {},
   "outputs": [],
   "source": []
  }
 ],
 "metadata": {
  "kernelspec": {
   "display_name": "Python 3",
   "language": "python",
   "name": "python3"
  },
  "language_info": {
   "codemirror_mode": {
    "name": "ipython",
    "version": 3
   },
   "file_extension": ".py",
   "mimetype": "text/x-python",
   "name": "python",
   "nbconvert_exporter": "python",
   "pygments_lexer": "ipython3",
   "version": "3.7.6"
  },
  "toc": {
   "base_numbering": 1,
   "nav_menu": {},
   "number_sections": true,
   "sideBar": true,
   "skip_h1_title": false,
   "title_cell": "Table of Contents",
   "title_sidebar": "Contents",
   "toc_cell": false,
   "toc_position": {},
   "toc_section_display": true,
   "toc_window_display": false
  }
 },
 "nbformat": 4,
 "nbformat_minor": 2
}
