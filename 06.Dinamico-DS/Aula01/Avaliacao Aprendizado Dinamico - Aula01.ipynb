{
 "cells": [
  {
   "cell_type": "markdown",
   "metadata": {},
   "source": [
    "# <span style=\"color:blue\"> MBA em Ciência de Dados</span>\n",
    "# <span style=\"color:blue\">Aprendizado Dinâmico</span>\n",
    "\n",
    "## <span style=\"color:blue\">Aula 01</span>\n",
    "**Material Produzido por Cibele Russo**<br>\n",
    "**Cemeai - ICMC/USP São Carlos**"
   ]
  },
  {
   "cell_type": "markdown",
   "metadata": {},
   "source": [
    "<font color='red'> As respostas devem ser fornecidas no Moodle. O notebook é apenas para a implementação dos códigos que fornecerão as respostas</font>"
   ]
  },
  {
   "cell_type": "markdown",
   "metadata": {},
   "source": [
    "### Exercício 1\n",
    "\n",
    "Assinale a alternativa que <font color='red'><b>não</b></font> corresponde a um objetivo de análise de séries temporais:\n",
    "\n",
    "Escolha uma:<br>\n",
    "a. Fazer previsões de valores futuros da série com base em comportamentos passados, a menos de possíveis incertezas de predição.<br>\n",
    "b. Descrever comportamentos como tendência ou sazonalidade.<br>\n",
    "c. Compreender como duas séries diferentes estão associadas, e possivelmente utilizar as variações de uma para estimar as variações de outra.<br>\n",
    "<b>d. Identificar dados extremos que possam ser eliminados da série de observações<br></b>\n"
   ]
  },
  {
   "cell_type": "code",
   "execution_count": 1,
   "metadata": {},
   "outputs": [
    {
     "name": "stdout",
     "output_type": "stream",
     "text": [
      "d. Identificar dados extremos que possam ser eliminados da série de observações\n"
     ]
    }
   ],
   "source": [
    "print('d. Identificar dados extremos que possam ser eliminados da série de observações')"
   ]
  },
  {
   "cell_type": "markdown",
   "metadata": {},
   "source": [
    "### Exercício 2\n",
    "\n",
    "Assinale todos os exemplos típicos de séries temporais:\n",
    "\n",
    "Escolha <font color= 'red'><b>uma ou mais:</b></font><br>\n",
    "a. Medidas de placa bacteriana antes e após utilizar um antisséptico bucal<br>\n",
    "<b>b. Índices diários das ações PETR4 na Bolsa de Valores de SP.<br>\n",
    "c. Medidas diárias de glicemia de jejum por uma gestante com diabetes gestacional, nos últimos meses de gestação.<br>\n",
    "d. Valores diários de mortes por pneumonia em uma cidade europeia.<br></b>"
   ]
  },
  {
   "cell_type": "code",
   "execution_count": 2,
   "metadata": {},
   "outputs": [
    {
     "name": "stdout",
     "output_type": "stream",
     "text": [
      "b. Índices diários das ações PETR4 na Bolsa de Valores de SP.\n",
      "c. Medidas diárias de glicemia de jejum por uma gestante com diabetes gestacional, nos últimos meses de gestação.\n",
      "d. Valores diários de mortes por pneumonia em uma cidade europeia.\n"
     ]
    }
   ],
   "source": [
    "print('b. Índices diários das ações PETR4 na Bolsa de Valores de SP.')\n",
    "print('c. Medidas diárias de glicemia de jejum por uma gestante com diabetes gestacional, nos últimos meses de gestação.')\n",
    "print('d. Valores diários de mortes por pneumonia em uma cidade europeia.')"
   ]
  },
  {
   "cell_type": "markdown",
   "metadata": {},
   "source": [
    "### Exercício 3\n",
    "Considere as seguintes séries temporais e identifique as que tem certamente possuem sazonalidade:\n",
    "\n",
    "<img src='.\\img\\img1.gif'>\n",
    "<img src='.\\img\\img2.gif'>\n",
    "<img src='.\\img\\img3.gif'>\n",
    "<img src='.\\img\\img4.gif'>\n",
    "<img src='.\\img\\img5.gif'>\n",
    "\n",
    "\n",
    "As séries que apresentam clara sazonalidade são:\n",
    "\n",
    "\n",
    "Escolha uma:<br>\n",
    "a. II, III e V<br>\n",
    "<b>b. I, II e V<br></b>\n",
    "c. II, IV e V<br>\n",
    "d. I, III e V<br>\n",
    "e. II, III e IV<br>"
   ]
  },
  {
   "cell_type": "code",
   "execution_count": 3,
   "metadata": {},
   "outputs": [
    {
     "name": "stdout",
     "output_type": "stream",
     "text": [
      "b. I, II e V\n"
     ]
    }
   ],
   "source": [
    "print('b. I, II e V')"
   ]
  },
  {
   "cell_type": "markdown",
   "metadata": {},
   "source": [
    "### Exercício 4\n",
    "\n",
    "No gráfico a seguir, assinale as cores das séries: original, média móvel com janela r=5 e média móvel com janela r=15, respectivamente:\n",
    "\n",
    "<img src='.\\img\\img6.gif'>\n",
    "\n",
    "Escolha uma:<br>\n",
    "a. azul, verde e laranja<br>\n",
    "<b>b. azul, laranja e verde<br></b>\n",
    "c. laranja, verde e azul<br>\n",
    "d. laranja, azul e verde<br>\n",
    "e. verde, azul e laranja<br>"
   ]
  },
  {
   "cell_type": "code",
   "execution_count": 4,
   "metadata": {},
   "outputs": [
    {
     "name": "stdout",
     "output_type": "stream",
     "text": [
      "b. azul, laranja e verde\n"
     ]
    }
   ],
   "source": [
    "print('b. azul, laranja e verde')"
   ]
  },
  {
   "cell_type": "markdown",
   "metadata": {},
   "source": [
    "### Exercício 5\n",
    "\n",
    "Sobre suavização e alisamento exponencial, assinale todas as alternativas <font color='red'><b>corretas:</b></font>\n",
    "\n",
    "Escolha uma ou mais:<br><br>\n",
    "<b>a. A cada novo instante de tempo, a média móvel simples com janela r é calculada como a média simples das últimas r observações<br><br>\n",
    "b. A média móvel exponencialmente ponderada é menos afetada por pontos anteriores extremos do que a média móvel simples<br><br>\n",
    "c. A média móvel simples não atinge picos e vales e produz curvas mais suaves conforme r aumenta<br><br></b>\n",
    "d. As técnicas de média móvel simples, mediana móvel simples e média móvel exponencialmente ponderadas auxiliam na previsão da sazonalidade da série temporal<br><br>\n",
    "<b>e. A curva da série da mediana móvel simples é menos suave do que a da média móvel<br><br>\n",
    "f. A média móvel exponencialmente ponderada dá pesos maiores a observações mais recentes e menores a observações mais distantes.<br><br></b>"
   ]
  },
  {
   "cell_type": "code",
   "execution_count": 4,
   "metadata": {},
   "outputs": [
    {
     "name": "stdout",
     "output_type": "stream",
     "text": [
      "a. A cada novo instante de tempo, a média móvel simples com janela r é calculada como a média simples das últimas r observações\n",
      "b. A média móvel exponencialmente ponderada é menos afetada por pontos anteriores extremos do que a média móvel simples\n",
      "c. A média móvel simples não atinge picos e vales e produz curvas mais suaves conforme r aumenta\n",
      "e. A curva da série da mediana móvel simples é menos suave do que a da média móvel\n",
      "f. A média móvel exponencialmente ponderada dá pesos maiores a observações mais recentes e menores a observações mais distantes\n"
     ]
    }
   ],
   "source": [
    "print('a. A cada novo instante de tempo, a média móvel simples com janela r é calculada como a média simples das últimas r observações')\n",
    "print('b. A média móvel exponencialmente ponderada é menos afetada por pontos anteriores extremos do que a média móvel simples')\n",
    "print('c. A média móvel simples não atinge picos e vales e produz curvas mais suaves conforme r aumenta')\n",
    "print('e. A curva da série da mediana móvel simples é menos suave do que a da média móvel')\n",
    "print('f. A média móvel exponencialmente ponderada dá pesos maiores a observações mais recentes e menores a observações mais distantes')\n"
   ]
  },
  {
   "cell_type": "code",
   "execution_count": null,
   "metadata": {},
   "outputs": [],
   "source": []
  }
 ],
 "metadata": {
  "kernelspec": {
   "display_name": "Python 3",
   "language": "python",
   "name": "python3"
  },
  "language_info": {
   "codemirror_mode": {
    "name": "ipython",
    "version": 3
   },
   "file_extension": ".py",
   "mimetype": "text/x-python",
   "name": "python",
   "nbconvert_exporter": "python",
   "pygments_lexer": "ipython3",
   "version": "3.7.6"
  },
  "toc": {
   "base_numbering": 1,
   "nav_menu": {},
   "number_sections": true,
   "sideBar": true,
   "skip_h1_title": false,
   "title_cell": "Table of Contents",
   "title_sidebar": "Contents",
   "toc_cell": false,
   "toc_position": {},
   "toc_section_display": true,
   "toc_window_display": false
  }
 },
 "nbformat": 4,
 "nbformat_minor": 2
}
