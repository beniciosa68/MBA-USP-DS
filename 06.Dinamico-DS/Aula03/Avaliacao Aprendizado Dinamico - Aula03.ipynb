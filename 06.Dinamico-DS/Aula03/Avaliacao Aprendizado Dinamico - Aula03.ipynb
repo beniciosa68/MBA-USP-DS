{
 "cells": [
  {
   "cell_type": "markdown",
   "metadata": {},
   "source": [
    "# <span style=\"color:blue\"> MBA em Ciência de Dados</span>\n",
    "# <span style=\"color:blue\">Aprendizado Dinâmico</span>\n",
    "\n",
    "## <span style=\"color:blue\">Aula 03</span>\n",
    "**Material Produzido por Cibele Russo**<br>\n",
    "**Cemeai - ICMC/USP São Carlos**"
   ]
  },
  {
   "cell_type": "markdown",
   "metadata": {},
   "source": [
    "<font color='red'> As respostas devem ser fornecidas no Moodle. O notebook é apenas para a implementação dos códigos que fornecerão as respostas</font>"
   ]
  },
  {
   "cell_type": "markdown",
   "metadata": {},
   "source": [
    "### Exercício 1\n",
    "Assinale a alternativa que fornece o significado <font color='red'><b>incorreto</b></font> da sigla:\n",
    "\n",
    "Escolha uma:<br>\n",
    "a. Modelo AR: Modelo autorregressivo<br>\n",
    "b. Modelo SARIMA: modelo autorregressivo integrado com médias móveis sazonal<br>\n",
    "c. Modelo ARMA: Modelo autorregressivo e de médias móveis<br>\n",
    "<b>d. Modelo ARIMA: Modelo autorregressivo iniciado com médias móveis<br></b>\n",
    "e. Modelo MA: Modelo de médias móveis<br>"
   ]
  },
  {
   "cell_type": "code",
   "execution_count": 1,
   "metadata": {},
   "outputs": [
    {
     "name": "stdout",
     "output_type": "stream",
     "text": [
      "d. Modelo ARIMA: Modelo autorregressivo iniciado com médias móveis\n"
     ]
    }
   ],
   "source": [
    "print('d. Modelo ARIMA: Modelo autorregressivo iniciado com médias móveis')"
   ]
  },
  {
   "cell_type": "markdown",
   "metadata": {},
   "source": [
    "### Exercício 2\n",
    "Assinale a alternativa que corresponde aos processos representados pelos correlogramas correspondentes I, II, III e IV:\n",
    "\n",
    "<img src='.\\img\\img1-aula03.gif'>\n",
    "<img src='.\\img\\img2-aula03.gif'>\n",
    "<img src='.\\img\\img3-aula03.gif'>\n",
    "<img src='.\\img\\img4-aula03.gif'>\n",
    "\n",
    "Escolha uma:<br>\n",
    "a. MA(1), AR(1), MA(2) e AR(3)<br>\n",
    "b. AR(1), AR(2), MA(2) e ARMA(1,3)<br>\n",
    "c. MA(2), AR(2), MA(1) e ARMA(1,1)<br>\n",
    "<b>d. ARMA(1,2), AR(1), AR(2) e MA(1)<br></b>\n",
    "e. ARMA(1,2), AR(2), AR(1) e MA(2)<br>"
   ]
  },
  {
   "cell_type": "code",
   "execution_count": 4,
   "metadata": {},
   "outputs": [
    {
     "name": "stdout",
     "output_type": "stream",
     "text": [
      "d. ARMA(1,2), AR(1), AR(2) e MA(1)\n"
     ]
    }
   ],
   "source": [
    "print('d. ARMA(1,2), AR(1), AR(2) e MA(1)')"
   ]
  },
  {
   "cell_type": "markdown",
   "metadata": {},
   "source": [
    "### Exercício 3\n",
    "Sobre modelos AR, MA, ARMA e ARIMA, assinale todas as alternativas <font color='green'><b>corretas</b></font>:\n",
    "\n",
    "Escolha uma ou mais:<br><br>\n",
    "a. Se uma série não é estacionária mas a primeira diferença é estacionária, pode-se utilizar um modelo ARIMA para fazer previsões<br>\n",
    "\n",
    "b.Uma forma de escolher a ordem dos modelos AR, MA, ARMA e ARIMA é considerar uma grade de valores de p, d, q nos modelos correspondentes e utilizar um critério de informação, por exemplo AIC ou BIC<br>\n",
    "\n",
    "c.Os modelos AR, MA, ARMA e ARIMA são adequados para séries não-estacionárias que não possuam sazonalidade<br>\n",
    "\n",
    "d.Os modelos de médias móveis são modelos em que os preditores são séries transladadas para o passado (backshift) ou para o futuro (forward)<br>\n",
    "\n",
    "e.Os modelos ARMA são casos particulares do ARIMA<br>\n",
    "\n",
    "f.O modelo ARMA combina componentes autorregressivas e de médias móveis<br>\n",
    "\n",
    "g.Os modelos AR são casos particulares do ARMA<br>\n",
    "\n",
    "h.Observado as funções de autocorrelação e autocorrelação parcial é sempre possível identificar o melhor modelo dentre as opções AR, MA, ARMA ou ARIMA<br>"
   ]
  },
  {
   "cell_type": "code",
   "execution_count": 7,
   "metadata": {},
   "outputs": [
    {
     "name": "stdout",
     "output_type": "stream",
     "text": [
      "a. Se uma série não é estacionária mas a primeira diferença é estacionária, pode-se utilizar um modelo ARIMA para fazer previsões\n",
      "b.Uma forma de escolher a ordem dos modelos AR, MA, ARMA e ARIMA é considerar uma grade de valores de p, d, q nos modelos correspondentes e utilizar um critério de informação, por exemplo AIC ou BIC\n",
      "e.Os modelos ARMA são casos particulares do ARIMA\n",
      "f.O modelo ARMA combina componentes autorregressivas e de médias móveis\n",
      "g.Os modelos AR são casos particulares do ARMA\n"
     ]
    }
   ],
   "source": [
    "print('a. Se uma série não é estacionária mas a primeira diferença é estacionária, pode-se utilizar um modelo ARIMA para fazer previsões')\n",
    "print('b.Uma forma de escolher a ordem dos modelos AR, MA, ARMA e ARIMA é considerar uma grade de valores de p, d, q nos modelos correspondentes e utilizar um critério de informação, por exemplo AIC ou BIC')\n",
    "print('e.Os modelos ARMA são casos particulares do ARIMA')\n",
    "print('f.O modelo ARMA combina componentes autorregressivas e de médias móveis')\n",
    "print('g.Os modelos AR são casos particulares do ARMA')"
   ]
  },
  {
   "cell_type": "markdown",
   "metadata": {},
   "source": [
    "### Exercício 4\n",
    "As equações descritas em I, II, III e IV abaixo, considerando que os erros são do tipo ruído branco, representam, respectivamente, modelos do tipo:\n",
    "\n",
    "<img src='.\\img\\img5-aula03.gif'>\n",
    "\n",
    "Escolha uma:<br>\n",
    "a.ARMA (1,2), MA(3), AR(2), AR(1)<br>\n",
    "<b>b.ARMA(2,1), AR(3), MA(2), AR(1)<br></b>\n",
    "c.AR(2), AR(3), ARMA(3,2), MA(2)<br>\n",
    "d.MA (1), ARMA (2,1), AR(2), AR(2)<br>\n",
    "e.ARMA(1,2), AR(1), MA(2), AR(2)<br>"
   ]
  },
  {
   "cell_type": "code",
   "execution_count": 5,
   "metadata": {},
   "outputs": [
    {
     "name": "stdout",
     "output_type": "stream",
     "text": [
      "b.ARMA(2,1), AR(3), MA(2), AR(1)\n"
     ]
    }
   ],
   "source": [
    "print('b.ARMA(2,1), AR(3), MA(2), AR(1)')"
   ]
  }
 ],
 "metadata": {
  "kernelspec": {
   "display_name": "Python 3",
   "language": "python",
   "name": "python3"
  },
  "language_info": {
   "codemirror_mode": {
    "name": "ipython",
    "version": 3
   },
   "file_extension": ".py",
   "mimetype": "text/x-python",
   "name": "python",
   "nbconvert_exporter": "python",
   "pygments_lexer": "ipython3",
   "version": "3.7.6"
  },
  "toc": {
   "base_numbering": 1,
   "nav_menu": {},
   "number_sections": true,
   "sideBar": true,
   "skip_h1_title": false,
   "title_cell": "Table of Contents",
   "title_sidebar": "Contents",
   "toc_cell": false,
   "toc_position": {},
   "toc_section_display": true,
   "toc_window_display": false
  }
 },
 "nbformat": 4,
 "nbformat_minor": 2
}
