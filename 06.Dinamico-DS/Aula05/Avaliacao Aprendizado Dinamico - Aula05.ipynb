{
 "cells": [
  {
   "cell_type": "markdown",
   "metadata": {},
   "source": [
    "# <span style=\"color:blue\"> MBA em Ciência de Dados</span>\n",
    "# <span style=\"color:blue\">Aprendizado Dinâmico</span>\n",
    "\n",
    "## <span style=\"color:blue\">Aula 05</span>\n",
    "**Material Produzido por Cibele Russo**<br>\n",
    "**Cemeai - ICMC/USP São Carlos**"
   ]
  },
  {
   "cell_type": "markdown",
   "metadata": {},
   "source": [
    "<font color='red'> As respostas devem ser fornecidas no Moodle. O notebook é apenas para a implementação dos códigos que fornecerão as respostas</font>"
   ]
  },
  {
   "cell_type": "markdown",
   "metadata": {},
   "source": [
    "### Exercício 1\n",
    "Considere a representação gráfica do modelo oculto de Markov (fonte: Wikipedia). Assinale todas as alternativas <font color='green'><b>corretas</b></font> sobre esse modelo com base no diagrama.\n",
    "<img src='.\\img\\img1.gif'>\n",
    "\n",
    "Escolha uma ou mais:<br><br>\n",
    "a. X1, X2 e X3 representam as variáveis observáveis e y1, y2, y3 e y4 as variáveis no estado oculto ou hidden space.<br><br>\n",
    "<b>b. As quantidades bij, com i=1,2,3 e j=1,2,3,4, representam as probabilidades de saída do espaço escondido para o espaço observável.<br><br></b>\n",
    "c. O modelo oculto de Markov pode representar um problema de séries temporais  por meio de um modelo estrutural em que a série observada nos tempos t=1,2,3 é dada por  X1, X2 e X3.<br><br>\n",
    "<b>d. O valor da variável X3 depende exclusivamente do valor da variável X2.<br><br>\n",
    "e. O comportamento das variáveis no espaço observável depende exclusivamente do comportamento das variáveis no espaço oculto.<br><br>\n",
    "f. y1, y2, y3 e y4 representam as variáveis observáveis do modelo.<br><br></b>\n",
    "g. A variável X2 depende da variável Y2<br>"
   ]
  },
  {
   "cell_type": "code",
   "execution_count": 1,
   "metadata": {},
   "outputs": [
    {
     "name": "stdout",
     "output_type": "stream",
     "text": [
      "b. As quantidades bij, com i=1,2,3 e j=1,2,3,4, representam as probabilidades de saída do espaço escondido para o espaço observável.\n",
      "d. O valor da variável X3 depende exclusivamente do valor da variável X2.\n",
      "e. O comportamento das variáveis no espaço observável depende exclusivamente do comportamento das variáveis no espaço oculto.\n",
      "f. y1, y2, y3 e y4 representam as variáveis observáveis do modelo.\n"
     ]
    }
   ],
   "source": [
    "print('b. As quantidades bij, com i=1,2,3 e j=1,2,3,4, representam as probabilidades de saída do espaço escondido para o espaço observável.')\n",
    "print('d. O valor da variável X3 depende exclusivamente do valor da variável X2.')\n",
    "print('e. O comportamento das variáveis no espaço observável depende exclusivamente do comportamento das variáveis no espaço oculto.')\n",
    "print('f. y1, y2, y3 e y4 representam as variáveis observáveis do modelo.')"
   ]
  },
  {
   "cell_type": "markdown",
   "metadata": {},
   "source": [
    "### Exercício 2\n",
    "Um modelo geral de espaço de estado pode ser usado para representar:\n",
    "<img src='.\\img\\img2.gif'>\n",
    "\n",
    "Escolha uma ou mais:<br>\n",
    "<b>a. Um modelo de tendência linear e sazonalidade<br>\n",
    "b. Um modelo ARIMA<br>\n",
    "c. Um modelo SARIMA<br>\n",
    "d. Um modelo com variáveis exógenas e estruturas de erros SARIMA<br>\n",
    "e. Um modelo ARMA<br><b>"
   ]
  },
  {
   "cell_type": "code",
   "execution_count": 2,
   "metadata": {},
   "outputs": [
    {
     "name": "stdout",
     "output_type": "stream",
     "text": [
      "a. Um modelo de tendência linear e sazonalidade\n",
      "b. Um modelo ARIMA\n",
      "c. Um modelo SARIMA\n",
      "d. Um modelo com variáveis exógenas e estruturas de erros SARIMA\n",
      "e. Um modelo ARMA\n"
     ]
    }
   ],
   "source": [
    "print('a. Um modelo de tendência linear e sazonalidade')\n",
    "print('b. Um modelo ARIMA')\n",
    "print('c. Um modelo SARIMA')\n",
    "print('d. Um modelo com variáveis exógenas e estruturas de erros SARIMA')\n",
    "print('e. Um modelo ARMA')"
   ]
  },
  {
   "cell_type": "markdown",
   "metadata": {},
   "source": [
    "### Exercício 3\n",
    "Um modelo Bayesiano foi ajustado aos dados de CO2. Assinale as alternativas <font color='green'><b>corretas</b></font> sobre esse modelo:\n",
    "<img src='.\\img\\img3.gif'>\n",
    "\n",
    "Escolha uma ou mais:<br><br>\n",
    "<b>a. A previsão pontual neste modelo tende a subestimar a concentração de CO2<br><br></b>\n",
    "b. Para ajustar um modelo Bayesiano, é estritamente necessário ter informações a priori sobre os parâmetros do modelo, tal como conhecer seus hiperparâmetros<br><br>\n",
    "<b>c. A região laranja representa uma previsão intervalar e esse intervalo aumenta conforme o modelo se distancia da amostra de treino, dada a maior incerteza sobre o futuro mais distante<br><br></b>\n",
    "d. Existe uma tendência claramente não-linear de crescimento na média de concentração de CO2 ao longo dos anos<br>"
   ]
  },
  {
   "cell_type": "code",
   "execution_count": 7,
   "metadata": {},
   "outputs": [
    {
     "name": "stdout",
     "output_type": "stream",
     "text": [
      "a. A previsão pontual neste modelo tende a subestimar a concentração de CO2\n",
      "c. A região laranja representa uma previsão intervalar e esse intervalo aumenta conforme o modelo se distancia da amostra de treino, dada a maior incerteza sobre o futuro mais distante\n"
     ]
    }
   ],
   "source": [
    "print('a. A previsão pontual neste modelo tende a subestimar a concentração de CO2')\n",
    "print('c. A região laranja representa uma previsão intervalar e esse intervalo aumenta conforme o modelo se distancia da amostra de treino, dada a maior incerteza sobre o futuro mais distante')"
   ]
  },
  {
   "cell_type": "markdown",
   "metadata": {},
   "source": [
    "### Exercício 4\n",
    "Sobre os modelos de espaço de estado para a representação de séries temporais, assinale a alternativa <font color='red'><b>incorreta</b></font>:\n",
    "\n",
    "Escolha uma:<br><br>\n",
    "<b>a. Os ruídos precisam necessariamente ter distribuição normal<br><br></b>\n",
    "b. Uma variável exógena é uma variável externa adicionada ao modelo e representa uma outra série temporal com influência na variabilidade da série temporal principal de estudo<br><br>\n",
    "c. No contexto Bayesiano, muitos estimadores são baseados em medidas resumo a partir de amostras da distribuição a posteriori dos parâmetros<br><br>\n",
    "d. O filtro de Kalman é um algoritmo recursivo que determina a estimativa do vetor de estados no tempo t dada toda a informação disponı́vel até o instante t-1<br><br>\n",
    "e. A previsão dinâmica em modelos de espaço de estado possui mais fontes de variabilidade do que a previsão passo à frente<br><br>\n",
    "f. No enfoque clássico, em geral é obtido o estimador de máxima verossimilhança mas os estimadores dificilmente podem ser encontrados de forma explícita<br><br>\n",
    "g. Em modelos estruturais as equações são denominadas equação de medida e equação de transição"
   ]
  },
  {
   "cell_type": "code",
   "execution_count": 12,
   "metadata": {},
   "outputs": [
    {
     "name": "stdout",
     "output_type": "stream",
     "text": [
      "a. Os ruídos precisam necessariamente ter distribuição normal\n"
     ]
    }
   ],
   "source": [
    "print('a. Os ruídos precisam necessariamente ter distribuição normal')"
   ]
  },
  {
   "cell_type": "code",
   "execution_count": null,
   "metadata": {},
   "outputs": [],
   "source": []
  }
 ],
 "metadata": {
  "kernelspec": {
   "display_name": "Python 3",
   "language": "python",
   "name": "python3"
  },
  "language_info": {
   "codemirror_mode": {
    "name": "ipython",
    "version": 3
   },
   "file_extension": ".py",
   "mimetype": "text/x-python",
   "name": "python",
   "nbconvert_exporter": "python",
   "pygments_lexer": "ipython3",
   "version": "3.7.6"
  },
  "toc": {
   "base_numbering": 1,
   "nav_menu": {},
   "number_sections": true,
   "sideBar": true,
   "skip_h1_title": false,
   "title_cell": "Table of Contents",
   "title_sidebar": "Contents",
   "toc_cell": false,
   "toc_position": {},
   "toc_section_display": true,
   "toc_window_display": false
  }
 },
 "nbformat": 4,
 "nbformat_minor": 2
}
