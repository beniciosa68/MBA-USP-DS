{
 "cells": [
  {
   "cell_type": "markdown",
   "metadata": {},
   "source": [
    "# <span style=\"color:blue\"> MBA em Ciência de Dados</span>\n",
    "# <span style=\"color:blue\">Aprendizado Dinâmico</span>\n",
    "\n",
    "## <span style=\"color:blue\">Aula 04</span>\n",
    "**Material Produzido por Cibele Russo**<br>\n",
    "**Cemeai - ICMC/USP São Carlos**"
   ]
  },
  {
   "cell_type": "markdown",
   "metadata": {},
   "source": [
    "<font color='red'> As respostas devem ser fornecidas no Moodle. O notebook é apenas para a implementação dos códigos que fornecerão as respostas</font>"
   ]
  },
  {
   "cell_type": "markdown",
   "metadata": {},
   "source": [
    "### Exercício 1\n",
    "Dado o enunciado abaixo:\n",
    "<img src='.\\img\\img1.gif'>\n",
    "\n",
    "Escolha uma:<br>\n",
    "a. ARIMA(0,1,1), ARIMA(0,1,1), SARIMA(1,0,1)x(7), ARMA(0,1)<br>\n",
    "b. ARIMA(1,1,1), ARIMA(0,1,1), ARIMA(1,0,1), ARIMA(0,1,1)<br>\n",
    "c. SARIMA(0,2,1)x(1,1,0)12, ARIMA(1,1,0), SARIMA(1,1,1)x(0,1,0)7, ARMA(1,1)<br>\n",
    "<b>d. SARIMA(0,1,1)x(0,1,0)12, ARIMA(1,1,0), SARIMA(1,0,1)x(0,1,0)7, ARIMA(0,1,1)<br></b>\n",
    "e. SARIMA(0,1,1)x(0,1,0)12, ARIMA(0,1,1), SARIMA(1,0,1)x(0,1,0)7, ARMA(1,1)<br>"
   ]
  },
  {
   "cell_type": "code",
   "execution_count": 5,
   "metadata": {},
   "outputs": [
    {
     "name": "stdout",
     "output_type": "stream",
     "text": [
      "d. SARIMA(0,1,1)x(0,1,0)12, ARIMA(1,1,0), SARIMA(1,0,1)x(0,1,0)7, ARIMA(0,1,1)\n"
     ]
    }
   ],
   "source": [
    "print('d. SARIMA(0,1,1)x(0,1,0)12, ARIMA(1,1,0), SARIMA(1,0,1)x(0,1,0)7, ARIMA(0,1,1)')"
   ]
  },
  {
   "cell_type": "markdown",
   "metadata": {},
   "source": [
    "### Exercício 2\n",
    "Sobre modelos ARIMA e SARIMA, assinale todas as alternativas <font color='green'><b>corretas</b></font>:\n",
    "\n",
    "Escolha uma ou mais:<br><br>\n",
    "<b>a. Os modelos ARIMA e SARIMA são adequados para séries não-estacionárias mas cujas diferenças de alguma ordem, simples ou com sazonalidade, sejam estacionárias<br><br></b>\n",
    "b. Os critérios AIC e BIC garantem que o modelo escolhido é o correto<br><br>\n",
    "<b>c. Nos modelos SARIMA é possível incluir componentes autorregressivas, integradas e de médias móveis com ou sem sazonalidade<br><br></b>\n",
    "d. Um modelo SARIMA (0,1,0)x(2,0,0)7 possui componentes autorregressivas com sazonalidade de período 7 e de média móvel sem sazonalidade<br><br>\n",
    "<b>e. Os resíduos de um modelo ajustado não devem apresentar padrões nos gráficos de autocorrelação, mas caso apresentem, podem auxiliar na busca por um modelo mais adequado<br><br>\n",
    "f. Um modelo SARIMA (1,0,0)x(1,1,0)7 possui componentes autorregressivas simples e com sazonalidade de período 7<br><br>\n",
    "g. Os modelos ARIMA são casos particulares dos modelos SARIMA quando não se tem sazonalidade nas componentes autorregressiva, integrada ou de médias móveis<br><br></b>"
   ]
  },
  {
   "cell_type": "code",
   "execution_count": 3,
   "metadata": {},
   "outputs": [
    {
     "name": "stdout",
     "output_type": "stream",
     "text": [
      "a. Os modelos ARIMA e SARIMA são adequados para séries não-estacionárias mas cujas diferenças de alguma ordem, simples ou com sazonalidade, sejam estacionárias\n",
      "\n",
      "c. Nos modelos SARIMA é possível incluir componentes autorregressivas, integradas e de médias móveis com ou sem sazonalidade\n",
      "\n",
      "e. Os resíduos de um modelo ajustado não devem apresentar padrões nos gráficos de autocorrelação, mas caso apresentem, podem auxiliar na busca por um modelo mais adequado\n",
      "\n",
      "f. Um modelo SARIMA (1,0,0)x(1,1,0)7 possui componentes autorregressivas simples e com sazonalidade de período 7\n",
      "\n",
      "g. Os modelos ARIMA são casos particulares dos modelos SARIMA quando não se tem sazonalidade nas componentes autorregressiva, integrada ou de médias móveis\n"
     ]
    }
   ],
   "source": [
    "print('a. Os modelos ARIMA e SARIMA são adequados para séries não-estacionárias mas cujas diferenças de alguma ordem, simples ou com sazonalidade, sejam estacionárias')\n",
    "print()\n",
    "print('c. Nos modelos SARIMA é possível incluir componentes autorregressivas, integradas e de médias móveis com ou sem sazonalidade')\n",
    "print()\n",
    "print('e. Os resíduos de um modelo ajustado não devem apresentar padrões nos gráficos de autocorrelação, mas caso apresentem, podem auxiliar na busca por um modelo mais adequado')\n",
    "print()\n",
    "print('f. Um modelo SARIMA (1,0,0)x(1,1,0)7 possui componentes autorregressivas simples e com sazonalidade de período 7')\n",
    "print()\n",
    "print('g. Os modelos ARIMA são casos particulares dos modelos SARIMA quando não se tem sazonalidade nas componentes autorregressiva, integrada ou de médias móveis')"
   ]
  },
  {
   "cell_type": "markdown",
   "metadata": {},
   "source": [
    "### Exercício 3\n",
    "Os gráficos dos itens foram obtidos a partir de resíduos de modelos ajustados do tipo SARIMA. Assinale as alternativas em que há evidências claras de que o modelo <font color='red'><b>NÃO</b></font> está bem ajustado.\n",
    "\n",
    "Escolha uma ou mais:<br>\n",
    "\n",
    "<b>a. <img src='.\\img\\img2.gif'><br></b>\n",
    "b. <img src='.\\img\\img3.gif'><br>\n",
    "<b>c. <img src='.\\img\\img4.gif'><br></b>\n",
    "d. <img src='.\\img\\img5.gif'><br>\n",
    "<b>e. <img src='.\\img\\img6.gif'><br></b>"
   ]
  },
  {
   "cell_type": "code",
   "execution_count": 4,
   "metadata": {},
   "outputs": [
    {
     "name": "stdout",
     "output_type": "stream",
     "text": [
      "a\n",
      "c\n",
      "e\n"
     ]
    }
   ],
   "source": [
    "print('a')\n",
    "print('c')\n",
    "print('e')"
   ]
  },
  {
   "cell_type": "code",
   "execution_count": null,
   "metadata": {},
   "outputs": [],
   "source": []
  }
 ],
 "metadata": {
  "kernelspec": {
   "display_name": "Python 3",
   "language": "python",
   "name": "python3"
  },
  "language_info": {
   "codemirror_mode": {
    "name": "ipython",
    "version": 3
   },
   "file_extension": ".py",
   "mimetype": "text/x-python",
   "name": "python",
   "nbconvert_exporter": "python",
   "pygments_lexer": "ipython3",
   "version": "3.7.6"
  },
  "toc": {
   "base_numbering": 1,
   "nav_menu": {},
   "number_sections": true,
   "sideBar": true,
   "skip_h1_title": false,
   "title_cell": "Table of Contents",
   "title_sidebar": "Contents",
   "toc_cell": false,
   "toc_position": {},
   "toc_section_display": true,
   "toc_window_display": false
  }
 },
 "nbformat": 4,
 "nbformat_minor": 2
}
