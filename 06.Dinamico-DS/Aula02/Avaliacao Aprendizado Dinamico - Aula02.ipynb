{
 "cells": [
  {
   "cell_type": "markdown",
   "metadata": {},
   "source": [
    "# <span style=\"color:blue\"> MBA em Ciência de Dados</span>\n",
    "# <span style=\"color:blue\">Aprendizado Dinâmico</span>\n",
    "\n",
    "## <span style=\"color:blue\">Aula 02</span>\n",
    "**Material Produzido por Cibele Russo**<br>\n",
    "**Cemeai - ICMC/USP São Carlos**"
   ]
  },
  {
   "cell_type": "markdown",
   "metadata": {},
   "source": [
    "<font color='red'> As respostas devem ser fornecidas no Moodle. O notebook é apenas para a implementação dos códigos que fornecerão as respostas</font>"
   ]
  },
  {
   "cell_type": "markdown",
   "metadata": {},
   "source": [
    "### Exercício 1\n",
    "\n",
    "Assinale a alternativa <font color='red'><b>incorreta</b></font> a respeito dos métodos de suavização:\n",
    "\n",
    "Escolha uma:<br><br>\n",
    "a. A média móvel simples e a média móvel exponencialmente ponderada são técnicas descritivas e portanto não são recomendadas para fazer previsão.<br><br>\n",
    "b. Os métodos de Holt e Holt-Winters permitem fazer previsões para as observações futuras, porém se a sazonalidade estiver presente o método de Holt-Winters produzirá previsões mais acuradas.<br><br>\n",
    "c. O método de Holt supõe que a série temporal possui uma componente de tendência mas não de sazonalidade.<br><br>\n",
    "d. O método de Holt-Winters supõe que a série temporal possui componentes de tendência e de sazonalidade.<br><br>\n",
    "<b>e. Existem três tipos de sazonalidade, a aditiva, a multiplicativa e a exponencial.<br><br></b>\n"
   ]
  },
  {
   "cell_type": "code",
   "execution_count": 1,
   "metadata": {},
   "outputs": [
    {
     "name": "stdout",
     "output_type": "stream",
     "text": [
      "e. Existem três tipos de sazonalidade, a aditiva, a multiplicativa e a exponencial.\n"
     ]
    }
   ],
   "source": [
    "print('e. Existem três tipos de sazonalidade, a aditiva, a multiplicativa e a exponencial.')"
   ]
  },
  {
   "cell_type": "markdown",
   "metadata": {},
   "source": [
    "### Exercício 2\n",
    "\n",
    "Assinale uma ou mais alternativas <font color='blue'><b>corretas</font> para descrever o método utilizado na figura abaixo:\n",
    "\n",
    "<img src='.\\img\\img1-aula02.gif'>\n",
    "\n",
    "Escolha <font color='blue'><b>uma ou mais:</b></font><br><br>\n",
    "a. As bases de treinamento e teste para o método de Holt-Winters têm cada uma 50% das observações.<br><br>\n",
    "b. Os dados de passageiros aéreos apresentados na figura possuem sazonalidade semanal, dada a dinâmica de vôos em dias úteis e aos finais de semana.<br><br>\n",
    "c. A curva em laranja não representa dados reais da base original de passageiros aéreos.<br><br>\n",
    "<b>d. A base de treinamento possui 75% das observações e a base de teste 25% das observações da base original de dados.<br><br>\n",
    "e. Suponha, hipoteticamente, que os dados continuaram a ser observados até os dias atuais, e que o padrão de tendência e sazonalidade tivessem continuado até 2019. Se o método fosse treinado com os dados até 2019, as previsões para o ano de 2020 estariam possivelmente comprometidas, devido à queda do número de vôos durante a pandemia de COVID-19.<br><br>\n",
    "f. A sazonalidade foi considerada pelo método para produzir previsões das futuras observações.<br><br></b>"
   ]
  },
  {
   "cell_type": "code",
   "execution_count": 6,
   "metadata": {},
   "outputs": [
    {
     "name": "stdout",
     "output_type": "stream",
     "text": [
      "d. A base de treinamento possui 75% das observações e a base de teste 25% das observações da base original de dados.\n",
      "e. Suponha, hipoteticamente, que os dados continuaram a ser observados até os dias atuais, e que o padrão de tendência e sazonalidade tivessem continuado até 2019. Se o método fosse treinado com os dados até 2019, as previsões para o ano de 2020 estariam possivelmente comprometidas, devido à queda do número de vôos durante a pandemia de COVID-19.\n",
      "f. A sazonalidade foi considerada pelo método para produzir previsões das futuras observações.\n"
     ]
    }
   ],
   "source": [
    "print('d. A base de treinamento possui 75% das observações e a base de teste 25% das observações da base original de dados.')\n",
    "print('e. Suponha, hipoteticamente, que os dados continuaram a ser observados até os dias atuais, e que o padrão de tendência e sazonalidade tivessem continuado até 2019. Se o método fosse treinado com os dados até 2019, as previsões para o ano de 2020 estariam possivelmente comprometidas, devido à queda do número de vôos durante a pandemia de COVID-19.')\n",
    "print('f. A sazonalidade foi considerada pelo método para produzir previsões das futuras observações.')"
   ]
  },
  {
   "cell_type": "markdown",
   "metadata": {},
   "source": [
    "### Exercício 3\n",
    "\n",
    "Considere as primeiras e segundas diferenças a seguir, e assinale uma ou mais alternativas <font color='blue'><b>corretas</b></font> sobre elas:\n",
    "\n",
    "<img src='.\\img\\img2-aula02.gif'>\n",
    "          \n",
    "Escolha <font color='blue'><b>uma ou mais:</b></font><br><br>\n",
    "<b>a. A primeira e segunda diferenças são também séries temporais, porém a primeira diferença possui uma observação a menos que a série original, e uma observação a mais do que a série das segundas diferenças.<br><br></b>\n",
    "b. A série da primeira diferença elimina o efeito de sazonalidade da série original.<br><br>\n",
    "<b>c.  Para muitas séries temporais, a primeira diferença produz uma série estacionária.<br><br>\n",
    "d. Não é garantido que a primeira ou a segunda diferenças produzem uma série estacionária.<br><br>\n",
    "e. É bastante provável que a tendência da série temporal seja eliminada ao considerar a primeira diferença dos dados.<br><br></b>"
   ]
  },
  {
   "cell_type": "code",
   "execution_count": 15,
   "metadata": {},
   "outputs": [
    {
     "name": "stdout",
     "output_type": "stream",
     "text": [
      "a. A primeira e segunda diferenças são também séries temporais, porém a primeira diferença possui uma observação a menos que a série original, e uma observação a mais do que a série das segundas diferenças.\n",
      "c. Para muitas séries temporais, a primeira diferença produz uma série estacionária.\n",
      "d. Não é garantido que a primeira ou a segunda diferenças produzem uma série estacionária.\n",
      "e. É bastante provável que a tendência da série temporal seja eliminada ao considerar a primeira diferença dos dados.\n"
     ]
    }
   ],
   "source": [
    "print('a. A primeira e segunda diferenças são também séries temporais, porém a primeira diferença possui uma observação a menos que a série original, e uma observação a mais do que a série das segundas diferenças.')\n",
    "print('c. Para muitas séries temporais, a primeira diferença produz uma série estacionária.')\n",
    "print('d. Não é garantido que a primeira ou a segunda diferenças produzem uma série estacionária.')\n",
    "print('e. É bastante provável que a tendência da série temporal seja eliminada ao considerar a primeira diferença dos dados.')"
   ]
  },
  {
   "cell_type": "markdown",
   "metadata": {},
   "source": [
    "### Exercício 4\n",
    "\n",
    "Sobre a estacionariedade de séries temporais, assinale a alternativa <font color='red'><b>incorreta</b></font>:\n",
    "\n",
    "Escolha uma:<br><br>\n",
    "a. Os diagramas de caixa (boxplots) ao longo do tempo podem indicar uma mudança na média da série e portanto a sua não-estacionariedade.\n",
    "<img src='.\\img\\img3-aula02.gif'>\n",
    "<br>\n",
    "b. Considere os boxplots abaixo para as mortes registradas por COVID-19 no estado de São Paulo que apontam para a não-estacionariedade da série. Nas semanas 19, 20 e 28 pode ter havido falha no registro de mortes e isso pode justificar a presença dos pontos que se destacam como atípicos (outliers).\n",
    "<img src='.\\img\\img4-aula02.gif'>\n",
    "<br>\n",
    "<b>c. A série das ações PETR3 na figura abaixo não apresenta padrão de estacionariedade em nenhuma possível janela de observação no último ano.</b>\n",
    "<img src='.\\img\\img5-aula02.gif'>\n",
    "<br>\n",
    "d. A média e o desvio-padrão móveis representados em laranja e em verde, respectivamente, podem auxiliar de forma descritiva para a verificação da estacionariedade da série temporal (em azul).\n",
    "<img src='.\\img\\img6-aula02.gif'>"
   ]
  },
  {
   "cell_type": "code",
   "execution_count": 10,
   "metadata": {},
   "outputs": [
    {
     "name": "stdout",
     "output_type": "stream",
     "text": [
      "Duvida entre a C e a D\n",
      "c. A série das ações PETR3 na figura abaixo não apresenta padrão de estacionariedade em nenhuma possível janela de observação no último ano.\n"
     ]
    }
   ],
   "source": [
    "print(\"Duvida entre a C e a D\")\n",
    "print('c. A série das ações PETR3 na figura abaixo não apresenta padrão de estacionariedade em nenhuma possível janela de observação no último ano.')"
   ]
  },
  {
   "cell_type": "markdown",
   "metadata": {},
   "source": [
    "### Exercício 5\n",
    "\n",
    "Considere o teste de Dickey e Fuller, ou Dickey e Fuller aumentado. Assinale uma ou mais alternativas <font color='blue'><b>corretas</b></font>:\n",
    "\n",
    "\n",
    "Escolha <font color='blue'><b>uma ou mais</b></font>:<br><br>\n",
    "<b>a. Quando o valor p obtido está próximo de 0.9, há evidências da não-estacionariedade da série temporal.<br><br>\n",
    "b. Os testes fornecem evidências a favor ou contra a estacionariedade.<br><br>\n",
    "c. Os testes dão garantia de estacionariedade quando, para uma determinada série temporal, o valor p é 0.04.<br><br></b>\n",
    "d. É possível obter um valor p baixo e a série temporal não ser estacionária mas ser apenas tendência-estacionária, ou seja, que não apresenta tendência positiva ou negativa ao longo do tempo.<br><br>\n"
   ]
  },
  {
   "cell_type": "code",
   "execution_count": 16,
   "metadata": {},
   "outputs": [
    {
     "name": "stdout",
     "output_type": "stream",
     "text": [
      "a. Quando o valor p obtido está próximo de 0.9, há evidências da não-estacionariedade da série temporal.\n",
      "b. Os testes fornecem evidências a favor ou contra a estacionariedade.\n",
      "d. É possível obter um valor p baixo e a série temporal não ser estacionária mas ser apenas tendência-estacionária, ou seja, que não apresenta tendência positiva ou negativa ao longo do tempo.\n"
     ]
    }
   ],
   "source": [
    "print('a. Quando o valor p obtido está próximo de 0.9, há evidências da não-estacionariedade da série temporal.')\n",
    "print('b. Os testes fornecem evidências a favor ou contra a estacionariedade.')\n",
    "print('d. É possível obter um valor p baixo e a série temporal não ser estacionária mas ser apenas tendência-estacionária, ou seja, que não apresenta tendência positiva ou negativa ao longo do tempo.')"
   ]
  },
  {
   "cell_type": "code",
   "execution_count": null,
   "metadata": {},
   "outputs": [],
   "source": []
  }
 ],
 "metadata": {
  "kernelspec": {
   "display_name": "Python 3",
   "language": "python",
   "name": "python3"
  },
  "language_info": {
   "codemirror_mode": {
    "name": "ipython",
    "version": 3
   },
   "file_extension": ".py",
   "mimetype": "text/x-python",
   "name": "python",
   "nbconvert_exporter": "python",
   "pygments_lexer": "ipython3",
   "version": "3.7.6"
  },
  "toc": {
   "base_numbering": 1,
   "nav_menu": {},
   "number_sections": true,
   "sideBar": true,
   "skip_h1_title": false,
   "title_cell": "Table of Contents",
   "title_sidebar": "Contents",
   "toc_cell": false,
   "toc_position": {},
   "toc_section_display": true,
   "toc_window_display": false
  }
 },
 "nbformat": 4,
 "nbformat_minor": 2
}
