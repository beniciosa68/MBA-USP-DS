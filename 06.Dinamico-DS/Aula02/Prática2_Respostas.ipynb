{
 "cells": [
  {
   "cell_type": "markdown",
   "metadata": {},
   "source": [
    "# Prática 2\n",
    "\n",
    "***Aprendizado Dinâmico***\n",
    "\n",
    "por **Cibele Russo** (ICMC/USP - São Carlos SP)\n",
    "\n",
    "**MBA em Ciências de Dados**"
   ]
  },
  {
   "cell_type": "markdown",
   "metadata": {},
   "source": [
    "Considere os dados de fechamento do papel PETR4 a partir de 18/3 no arquivo PETR4.SA.csv.\n",
    "(fonte dos dados completos, nesta prática utilizaremos uma parte deles: https://br.financas.yahoo.com/quote/PETR4.SA/history/)\n",
    "\n",
    "\n",
    "Nesta prática, aplicaremos os conhecimentos adquiridos na Aula 2 a esses dados, a saber:\n",
    "\n",
    "- Método de Holt\n",
    "\n",
    "- Método de Holt-Winters\n",
    "\n",
    "- Previsão \n",
    "\n",
    "- Estacionariedade\n"
   ]
  },
  {
   "cell_type": "markdown",
   "metadata": {},
   "source": [
    "Carregue as bibliotecas"
   ]
  },
  {
   "cell_type": "code",
   "execution_count": 1,
   "metadata": {},
   "outputs": [],
   "source": [
    "# Bibliotecas\n",
    "\n",
    "import pandas as pd\n",
    "import matplotlib.pyplot as plt\n",
    "import numpy as np\n",
    "\n",
    "%matplotlib inline\n"
   ]
  },
  {
   "cell_type": "markdown",
   "metadata": {},
   "source": [
    "**1. Faça a leitura dos dados a partir do arquivo PETR4.SA.csv disponível no material do curso. Para essa análise, utilizaremos a variável que indica os fechamentos, Close. Quantas observações tem a série original? Visualize a série Close.**"
   ]
  },
  {
   "cell_type": "code",
   "execution_count": 2,
   "metadata": {},
   "outputs": [
    {
     "data": {
      "text/html": [
       "<div>\n",
       "<style scoped>\n",
       "    .dataframe tbody tr th:only-of-type {\n",
       "        vertical-align: middle;\n",
       "    }\n",
       "\n",
       "    .dataframe tbody tr th {\n",
       "        vertical-align: top;\n",
       "    }\n",
       "\n",
       "    .dataframe thead th {\n",
       "        text-align: right;\n",
       "    }\n",
       "</style>\n",
       "<table border=\"1\" class=\"dataframe\">\n",
       "  <thead>\n",
       "    <tr style=\"text-align: right;\">\n",
       "      <th></th>\n",
       "      <th>Open</th>\n",
       "      <th>High</th>\n",
       "      <th>Low</th>\n",
       "      <th>Close</th>\n",
       "      <th>Adj Close</th>\n",
       "      <th>Volume</th>\n",
       "    </tr>\n",
       "    <tr>\n",
       "      <th>Date</th>\n",
       "      <th></th>\n",
       "      <th></th>\n",
       "      <th></th>\n",
       "      <th></th>\n",
       "      <th></th>\n",
       "      <th></th>\n",
       "    </tr>\n",
       "  </thead>\n",
       "  <tbody>\n",
       "    <tr>\n",
       "      <th>2020-03-18</th>\n",
       "      <td>11.79</td>\n",
       "      <td>12.27</td>\n",
       "      <td>10.87</td>\n",
       "      <td>11.29</td>\n",
       "      <td>11.289389</td>\n",
       "      <td>162515200</td>\n",
       "    </tr>\n",
       "    <tr>\n",
       "      <th>2020-03-19</th>\n",
       "      <td>11.07</td>\n",
       "      <td>13.07</td>\n",
       "      <td>10.85</td>\n",
       "      <td>12.21</td>\n",
       "      <td>12.209339</td>\n",
       "      <td>157065200</td>\n",
       "    </tr>\n",
       "    <tr>\n",
       "      <th>2020-03-20</th>\n",
       "      <td>13.11</td>\n",
       "      <td>13.50</td>\n",
       "      <td>11.83</td>\n",
       "      <td>12.00</td>\n",
       "      <td>11.999351</td>\n",
       "      <td>149029900</td>\n",
       "    </tr>\n",
       "    <tr>\n",
       "      <th>2020-03-23</th>\n",
       "      <td>12.11</td>\n",
       "      <td>12.18</td>\n",
       "      <td>11.28</td>\n",
       "      <td>11.50</td>\n",
       "      <td>11.499378</td>\n",
       "      <td>107092400</td>\n",
       "    </tr>\n",
       "    <tr>\n",
       "      <th>2020-03-24</th>\n",
       "      <td>12.57</td>\n",
       "      <td>13.54</td>\n",
       "      <td>12.28</td>\n",
       "      <td>13.25</td>\n",
       "      <td>13.249283</td>\n",
       "      <td>114259200</td>\n",
       "    </tr>\n",
       "  </tbody>\n",
       "</table>\n",
       "</div>"
      ],
      "text/plain": [
       "             Open   High    Low  Close  Adj Close     Volume\n",
       "Date                                                        \n",
       "2020-03-18  11.79  12.27  10.87  11.29  11.289389  162515200\n",
       "2020-03-19  11.07  13.07  10.85  12.21  12.209339  157065200\n",
       "2020-03-20  13.11  13.50  11.83  12.00  11.999351  149029900\n",
       "2020-03-23  12.11  12.18  11.28  11.50  11.499378  107092400\n",
       "2020-03-24  12.57  13.54  12.28  13.25  13.249283  114259200"
      ]
     },
     "execution_count": 2,
     "metadata": {},
     "output_type": "execute_result"
    }
   ],
   "source": [
    "pkgdir = '.\\data'\n",
    "\n",
    "# PETR4 - Leitura dos dados\n",
    "PETR4 = pd.read_csv(f'{pkgdir}/PETR4.csv', index_col='Date', parse_dates=True)\n",
    "\n",
    "PETR4.head()\n"
   ]
  },
  {
   "cell_type": "code",
   "execution_count": 3,
   "metadata": {},
   "outputs": [
    {
     "data": {
      "text/plain": [
       "84"
      ]
     },
     "execution_count": 3,
     "metadata": {},
     "output_type": "execute_result"
    }
   ],
   "source": [
    "len(PETR4)"
   ]
  },
  {
   "cell_type": "code",
   "execution_count": 4,
   "metadata": {},
   "outputs": [
    {
     "data": {
      "text/plain": [
       "<AxesSubplot:xlabel='Date'>"
      ]
     },
     "execution_count": 4,
     "metadata": {},
     "output_type": "execute_result"
    },
    {
     "data": {
      "image/png": "[encoded data removed]",
      "text/plain": [
       "<Figure size 432x288 with 1 Axes>"
      ]
     },
     "metadata": {
      "needs_background": "light"
     },
     "output_type": "display_data"
    }
   ],
   "source": [
    "PETR4['Close'].plot()"
   ]
  },
  {
   "cell_type": "markdown",
   "metadata": {},
   "source": [
    "**2. Quais as datas mínima e máxima de observação da série Close? Repita o procedimento feito em aula para preencher os dados faltantes com a função PETR4.fillna(method='ffill', inplace=True). Nesse caso, a frequência usada em pd.date_range deve ser 'B' pois a bolsa de valores não funciona aos fins de semana. O que faz o método ffill de fillna?**"
   ]
  },
  {
   "cell_type": "code",
   "execution_count": 5,
   "metadata": {},
   "outputs": [
    {
     "data": {
      "text/plain": [
       "Timestamp('2020-03-18 00:00:00')"
      ]
     },
     "execution_count": 5,
     "metadata": {},
     "output_type": "execute_result"
    }
   ],
   "source": [
    "PETR4.index.min()"
   ]
  },
  {
   "cell_type": "code",
   "execution_count": 6,
   "metadata": {},
   "outputs": [
    {
     "data": {
      "text/plain": [
       "Timestamp('2020-07-17 00:00:00')"
      ]
     },
     "execution_count": 6,
     "metadata": {},
     "output_type": "execute_result"
    }
   ],
   "source": [
    "PETR4.index.max()"
   ]
  },
  {
   "cell_type": "code",
   "execution_count": 7,
   "metadata": {},
   "outputs": [
    {
     "data": {
      "text/plain": [
       "DatetimeIndex(['2020-03-18', '2020-03-19', '2020-03-20', '2020-03-23',\n",
       "               '2020-03-24', '2020-03-25', '2020-03-26', '2020-03-27',\n",
       "               '2020-03-30', '2020-03-31', '2020-04-01', '2020-04-02',\n",
       "               '2020-04-03', '2020-04-06', '2020-04-07', '2020-04-08',\n",
       "               '2020-04-09', '2020-04-10', '2020-04-13', '2020-04-14',\n",
       "               '2020-04-15', '2020-04-16', '2020-04-17', '2020-04-20',\n",
       "               '2020-04-21', '2020-04-22', '2020-04-23', '2020-04-24',\n",
       "               '2020-04-27', '2020-04-28', '2020-04-29', '2020-04-30',\n",
       "               '2020-05-01', '2020-05-04', '2020-05-05', '2020-05-06',\n",
       "               '2020-05-07', '2020-05-08', '2020-05-11', '2020-05-12',\n",
       "               '2020-05-13', '2020-05-14', '2020-05-15', '2020-05-18',\n",
       "               '2020-05-19', '2020-05-20', '2020-05-21', '2020-05-22',\n",
       "               '2020-05-25', '2020-05-26', '2020-05-27', '2020-05-28',\n",
       "               '2020-05-29', '2020-06-01', '2020-06-02', '2020-06-03',\n",
       "               '2020-06-04', '2020-06-05', '2020-06-08', '2020-06-09',\n",
       "               '2020-06-10', '2020-06-11', '2020-06-12', '2020-06-15',\n",
       "               '2020-06-16', '2020-06-17', '2020-06-18', '2020-06-19',\n",
       "               '2020-06-22', '2020-06-23', '2020-06-24', '2020-06-25',\n",
       "               '2020-06-26', '2020-06-29', '2020-06-30', '2020-07-01',\n",
       "               '2020-07-02', '2020-07-03', '2020-07-06', '2020-07-07',\n",
       "               '2020-07-08', '2020-07-09', '2020-07-10', '2020-07-13',\n",
       "               '2020-07-14', '2020-07-15', '2020-07-16', '2020-07-17'],\n",
       "              dtype='datetime64[ns]', freq='B')"
      ]
     },
     "execution_count": 7,
     "metadata": {},
     "output_type": "execute_result"
    }
   ],
   "source": [
    "idx = pd.date_range(start=PETR4.index.min(), end=PETR4.index.max(), freq='B')\n",
    "idx"
   ]
  },
  {
   "cell_type": "code",
   "execution_count": 8,
   "metadata": {},
   "outputs": [
    {
     "data": {
      "text/html": [
       "<div>\n",
       "<style scoped>\n",
       "    .dataframe tbody tr th:only-of-type {\n",
       "        vertical-align: middle;\n",
       "    }\n",
       "\n",
       "    .dataframe tbody tr th {\n",
       "        vertical-align: top;\n",
       "    }\n",
       "\n",
       "    .dataframe thead th {\n",
       "        text-align: right;\n",
       "    }\n",
       "</style>\n",
       "<table border=\"1\" class=\"dataframe\">\n",
       "  <thead>\n",
       "    <tr style=\"text-align: right;\">\n",
       "      <th></th>\n",
       "      <th>Open</th>\n",
       "      <th>High</th>\n",
       "      <th>Low</th>\n",
       "      <th>Close</th>\n",
       "      <th>Adj Close</th>\n",
       "      <th>Volume</th>\n",
       "    </tr>\n",
       "  </thead>\n",
       "  <tbody>\n",
       "    <tr>\n",
       "      <th>2020-03-18</th>\n",
       "      <td>11.79</td>\n",
       "      <td>12.27</td>\n",
       "      <td>10.87</td>\n",
       "      <td>11.29</td>\n",
       "      <td>11.289389</td>\n",
       "      <td>162515200.0</td>\n",
       "    </tr>\n",
       "    <tr>\n",
       "      <th>2020-03-19</th>\n",
       "      <td>11.07</td>\n",
       "      <td>13.07</td>\n",
       "      <td>10.85</td>\n",
       "      <td>12.21</td>\n",
       "      <td>12.209339</td>\n",
       "      <td>157065200.0</td>\n",
       "    </tr>\n",
       "    <tr>\n",
       "      <th>2020-03-20</th>\n",
       "      <td>13.11</td>\n",
       "      <td>13.50</td>\n",
       "      <td>11.83</td>\n",
       "      <td>12.00</td>\n",
       "      <td>11.999351</td>\n",
       "      <td>149029900.0</td>\n",
       "    </tr>\n",
       "    <tr>\n",
       "      <th>2020-03-23</th>\n",
       "      <td>12.11</td>\n",
       "      <td>12.18</td>\n",
       "      <td>11.28</td>\n",
       "      <td>11.50</td>\n",
       "      <td>11.499378</td>\n",
       "      <td>107092400.0</td>\n",
       "    </tr>\n",
       "    <tr>\n",
       "      <th>2020-03-24</th>\n",
       "      <td>12.57</td>\n",
       "      <td>13.54</td>\n",
       "      <td>12.28</td>\n",
       "      <td>13.25</td>\n",
       "      <td>13.249283</td>\n",
       "      <td>114259200.0</td>\n",
       "    </tr>\n",
       "  </tbody>\n",
       "</table>\n",
       "</div>"
      ],
      "text/plain": [
       "             Open   High    Low  Close  Adj Close       Volume\n",
       "2020-03-18  11.79  12.27  10.87  11.29  11.289389  162515200.0\n",
       "2020-03-19  11.07  13.07  10.85  12.21  12.209339  157065200.0\n",
       "2020-03-20  13.11  13.50  11.83  12.00  11.999351  149029900.0\n",
       "2020-03-23  12.11  12.18  11.28  11.50  11.499378  107092400.0\n",
       "2020-03-24  12.57  13.54  12.28  13.25  13.249283  114259200.0"
      ]
     },
     "execution_count": 8,
     "metadata": {},
     "output_type": "execute_result"
    }
   ],
   "source": [
    "PETR4 = PETR4.reindex(idx)\n",
    "PETR4.head()"
   ]
  },
  {
   "cell_type": "code",
   "execution_count": 9,
   "metadata": {},
   "outputs": [],
   "source": [
    "PETR4.fillna(method='ffill', inplace=True)"
   ]
  },
  {
   "cell_type": "markdown",
   "metadata": {},
   "source": [
    "**3. Qual o novo número de observações da série Close após o procedimento em 2.?**"
   ]
  },
  {
   "cell_type": "code",
   "execution_count": 10,
   "metadata": {},
   "outputs": [
    {
     "data": {
      "text/plain": [
       "88"
      ]
     },
     "execution_count": 10,
     "metadata": {},
     "output_type": "execute_result"
    }
   ],
   "source": [
    "len(PETR4)"
   ]
  },
  {
   "cell_type": "markdown",
   "metadata": {},
   "source": [
    "**4. Vamos aplicar os métodos de Holt e Holt-Winters para esses dados. Faça a leitura das bibliotecas necessárias e crie a série Holt na base de dados. Atribua a ela os valores ajustados pelo Método de Holt. Lembre-se que a série fica deslocada e corrija com a função shift(-1).**"
   ]
  },
  {
   "cell_type": "code",
   "execution_count": 11,
   "metadata": {},
   "outputs": [
    {
     "name": "stderr",
     "output_type": "stream",
     "text": [
      "C:\\ProgramData\\Anaconda3\\lib\\site-packages\\statsmodels\\tsa\\holtwinters\\model.py:429: FutureWarning: After 0.13 initialization must be handled at model creation\n",
      "  FutureWarning,\n"
     ]
    },
    {
     "data": {
      "text/html": [
       "<div>\n",
       "<style scoped>\n",
       "    .dataframe tbody tr th:only-of-type {\n",
       "        vertical-align: middle;\n",
       "    }\n",
       "\n",
       "    .dataframe tbody tr th {\n",
       "        vertical-align: top;\n",
       "    }\n",
       "\n",
       "    .dataframe thead th {\n",
       "        text-align: right;\n",
       "    }\n",
       "</style>\n",
       "<table border=\"1\" class=\"dataframe\">\n",
       "  <thead>\n",
       "    <tr style=\"text-align: right;\">\n",
       "      <th></th>\n",
       "      <th>Open</th>\n",
       "      <th>High</th>\n",
       "      <th>Low</th>\n",
       "      <th>Close</th>\n",
       "      <th>Adj Close</th>\n",
       "      <th>Volume</th>\n",
       "      <th>Holt</th>\n",
       "    </tr>\n",
       "  </thead>\n",
       "  <tbody>\n",
       "    <tr>\n",
       "      <th>2020-03-18</th>\n",
       "      <td>11.79</td>\n",
       "      <td>12.27</td>\n",
       "      <td>10.87</td>\n",
       "      <td>11.29</td>\n",
       "      <td>11.289389</td>\n",
       "      <td>162515200.0</td>\n",
       "      <td>11.441651</td>\n",
       "    </tr>\n",
       "    <tr>\n",
       "      <th>2020-03-19</th>\n",
       "      <td>11.07</td>\n",
       "      <td>13.07</td>\n",
       "      <td>10.85</td>\n",
       "      <td>12.21</td>\n",
       "      <td>12.209339</td>\n",
       "      <td>157065200.0</td>\n",
       "      <td>12.209521</td>\n",
       "    </tr>\n",
       "    <tr>\n",
       "      <th>2020-03-20</th>\n",
       "      <td>13.11</td>\n",
       "      <td>13.50</td>\n",
       "      <td>11.83</td>\n",
       "      <td>12.00</td>\n",
       "      <td>11.999351</td>\n",
       "      <td>149029900.0</td>\n",
       "      <td>12.166389</td>\n",
       "    </tr>\n",
       "    <tr>\n",
       "      <th>2020-03-23</th>\n",
       "      <td>12.11</td>\n",
       "      <td>12.18</td>\n",
       "      <td>11.28</td>\n",
       "      <td>11.50</td>\n",
       "      <td>11.499378</td>\n",
       "      <td>107092400.0</td>\n",
       "      <td>11.744351</td>\n",
       "    </tr>\n",
       "    <tr>\n",
       "      <th>2020-03-24</th>\n",
       "      <td>12.57</td>\n",
       "      <td>13.54</td>\n",
       "      <td>12.28</td>\n",
       "      <td>13.25</td>\n",
       "      <td>13.249283</td>\n",
       "      <td>114259200.0</td>\n",
       "      <td>13.123704</td>\n",
       "    </tr>\n",
       "  </tbody>\n",
       "</table>\n",
       "</div>"
      ],
      "text/plain": [
       "             Open   High    Low  Close  Adj Close       Volume       Holt\n",
       "2020-03-18  11.79  12.27  10.87  11.29  11.289389  162515200.0  11.441651\n",
       "2020-03-19  11.07  13.07  10.85  12.21  12.209339  157065200.0  12.209521\n",
       "2020-03-20  13.11  13.50  11.83  12.00  11.999351  149029900.0  12.166389\n",
       "2020-03-23  12.11  12.18  11.28  11.50  11.499378  107092400.0  11.744351\n",
       "2020-03-24  12.57  13.54  12.28  13.25  13.249283  114259200.0  13.123704"
      ]
     },
     "execution_count": 11,
     "metadata": {},
     "output_type": "execute_result"
    }
   ],
   "source": [
    "# Método de Holt \n",
    "\n",
    "from statsmodels.tsa.api import ExponentialSmoothing\n",
    "\n",
    "modelo =  ExponentialSmoothing(PETR4['Close'], trend='add');\n",
    "\n",
    "ajustadoH = modelo.fit();\n",
    "\n",
    "PETR4['Holt'] = ajustadoH.fittedvalues.shift(-1);\n",
    "\n",
    "PETR4.head()\n"
   ]
  },
  {
   "cell_type": "markdown",
   "metadata": {},
   "source": [
    "**5. Visualize as séries Close e Holt. O método apresenta um bom ajuste?**"
   ]
  },
  {
   "cell_type": "code",
   "execution_count": 12,
   "metadata": {},
   "outputs": [
    {
     "data": {
      "text/plain": [
       "<AxesSubplot:>"
      ]
     },
     "execution_count": 12,
     "metadata": {},
     "output_type": "execute_result"
    },
    {
     "data": {
      "image/png": "[encoded data removed]",
      "text/plain": [
       "<Figure size 432x288 with 1 Axes>"
      ]
     },
     "metadata": {
      "needs_background": "light"
     },
     "output_type": "display_data"
    }
   ],
   "source": [
    "PETR4[['Close','Holt']].plot()"
   ]
  },
  {
   "cell_type": "markdown",
   "metadata": {},
   "source": [
    "**6. Faz sentido ajustar o método de Holt-Winters? Qual seria o período da sazonalidade? 7 dias pode fazer sentido? Aplique os métodos de Holt-Winters com sazonalidade aditiva e multiplicativa e visualize os resultados.**"
   ]
  },
  {
   "cell_type": "code",
   "execution_count": 13,
   "metadata": {},
   "outputs": [
    {
     "name": "stderr",
     "output_type": "stream",
     "text": [
      "C:\\ProgramData\\Anaconda3\\lib\\site-packages\\statsmodels\\tsa\\holtwinters\\model.py:429: FutureWarning: After 0.13 initialization must be handled at model creation\n",
      "  FutureWarning,\n"
     ]
    },
    {
     "data": {
      "text/html": [
       "<div>\n",
       "<style scoped>\n",
       "    .dataframe tbody tr th:only-of-type {\n",
       "        vertical-align: middle;\n",
       "    }\n",
       "\n",
       "    .dataframe tbody tr th {\n",
       "        vertical-align: top;\n",
       "    }\n",
       "\n",
       "    .dataframe thead th {\n",
       "        text-align: right;\n",
       "    }\n",
       "</style>\n",
       "<table border=\"1\" class=\"dataframe\">\n",
       "  <thead>\n",
       "    <tr style=\"text-align: right;\">\n",
       "      <th></th>\n",
       "      <th>Open</th>\n",
       "      <th>High</th>\n",
       "      <th>Low</th>\n",
       "      <th>Close</th>\n",
       "      <th>Adj Close</th>\n",
       "      <th>Volume</th>\n",
       "      <th>Holt</th>\n",
       "      <th>Holt-Winters-adit-7</th>\n",
       "    </tr>\n",
       "  </thead>\n",
       "  <tbody>\n",
       "    <tr>\n",
       "      <th>2020-03-18</th>\n",
       "      <td>11.79</td>\n",
       "      <td>12.27</td>\n",
       "      <td>10.87</td>\n",
       "      <td>11.29</td>\n",
       "      <td>11.289389</td>\n",
       "      <td>162515200.0</td>\n",
       "      <td>11.441651</td>\n",
       "      <td>11.290081</td>\n",
       "    </tr>\n",
       "    <tr>\n",
       "      <th>2020-03-19</th>\n",
       "      <td>11.07</td>\n",
       "      <td>13.07</td>\n",
       "      <td>10.85</td>\n",
       "      <td>12.21</td>\n",
       "      <td>12.209339</td>\n",
       "      <td>157065200.0</td>\n",
       "      <td>12.209521</td>\n",
       "      <td>11.883815</td>\n",
       "    </tr>\n",
       "    <tr>\n",
       "      <th>2020-03-20</th>\n",
       "      <td>13.11</td>\n",
       "      <td>13.50</td>\n",
       "      <td>11.83</td>\n",
       "      <td>12.00</td>\n",
       "      <td>11.999351</td>\n",
       "      <td>149029900.0</td>\n",
       "      <td>12.166389</td>\n",
       "      <td>12.260744</td>\n",
       "    </tr>\n",
       "    <tr>\n",
       "      <th>2020-03-23</th>\n",
       "      <td>12.11</td>\n",
       "      <td>12.18</td>\n",
       "      <td>11.28</td>\n",
       "      <td>11.50</td>\n",
       "      <td>11.499378</td>\n",
       "      <td>107092400.0</td>\n",
       "      <td>11.744351</td>\n",
       "      <td>12.086928</td>\n",
       "    </tr>\n",
       "    <tr>\n",
       "      <th>2020-03-24</th>\n",
       "      <td>12.57</td>\n",
       "      <td>13.54</td>\n",
       "      <td>12.28</td>\n",
       "      <td>13.25</td>\n",
       "      <td>13.249283</td>\n",
       "      <td>114259200.0</td>\n",
       "      <td>13.123704</td>\n",
       "      <td>11.722513</td>\n",
       "    </tr>\n",
       "  </tbody>\n",
       "</table>\n",
       "</div>"
      ],
      "text/plain": [
       "             Open   High    Low  Close  Adj Close       Volume       Holt  \\\n",
       "2020-03-18  11.79  12.27  10.87  11.29  11.289389  162515200.0  11.441651   \n",
       "2020-03-19  11.07  13.07  10.85  12.21  12.209339  157065200.0  12.209521   \n",
       "2020-03-20  13.11  13.50  11.83  12.00  11.999351  149029900.0  12.166389   \n",
       "2020-03-23  12.11  12.18  11.28  11.50  11.499378  107092400.0  11.744351   \n",
       "2020-03-24  12.57  13.54  12.28  13.25  13.249283  114259200.0  13.123704   \n",
       "\n",
       "            Holt-Winters-adit-7  \n",
       "2020-03-18            11.290081  \n",
       "2020-03-19            11.883815  \n",
       "2020-03-20            12.260744  \n",
       "2020-03-23            12.086928  \n",
       "2020-03-24            11.722513  "
      ]
     },
     "execution_count": 13,
     "metadata": {},
     "output_type": "execute_result"
    }
   ],
   "source": [
    "# Ajuste do modelo pelo Método de Holt-Winters com sazonalidade aditiva\n",
    "from statsmodels.tsa.api import ExponentialSmoothing\n",
    "modelo =  ExponentialSmoothing(PETR4['Close'],trend='add',seasonal='add',seasonal_periods=7);\n",
    "\n",
    "ajustadoHW = modelo.fit();\n",
    "\n",
    "PETR4['Holt-Winters-adit-7'] = ajustadoHW.fittedvalues;\n",
    "\n",
    "PETR4.head()"
   ]
  },
  {
   "cell_type": "code",
   "execution_count": 14,
   "metadata": {},
   "outputs": [
    {
     "data": {
      "text/plain": [
       "<AxesSubplot:>"
      ]
     },
     "execution_count": 14,
     "metadata": {},
     "output_type": "execute_result"
    },
    {
     "data": {
      "image/png": "[encoded data removed]",
      "text/plain": [
       "<Figure size 432x288 with 1 Axes>"
      ]
     },
     "metadata": {
      "needs_background": "light"
     },
     "output_type": "display_data"
    }
   ],
   "source": [
    "PETR4[['Close','Holt','Holt-Winters-adit-7']].plot()"
   ]
  },
  {
   "cell_type": "code",
   "execution_count": 15,
   "metadata": {},
   "outputs": [
    {
     "name": "stderr",
     "output_type": "stream",
     "text": [
      "C:\\ProgramData\\Anaconda3\\lib\\site-packages\\statsmodels\\tsa\\holtwinters\\model.py:429: FutureWarning: After 0.13 initialization must be handled at model creation\n",
      "  FutureWarning,\n"
     ]
    },
    {
     "data": {
      "text/html": [
       "<div>\n",
       "<style scoped>\n",
       "    .dataframe tbody tr th:only-of-type {\n",
       "        vertical-align: middle;\n",
       "    }\n",
       "\n",
       "    .dataframe tbody tr th {\n",
       "        vertical-align: top;\n",
       "    }\n",
       "\n",
       "    .dataframe thead th {\n",
       "        text-align: right;\n",
       "    }\n",
       "</style>\n",
       "<table border=\"1\" class=\"dataframe\">\n",
       "  <thead>\n",
       "    <tr style=\"text-align: right;\">\n",
       "      <th></th>\n",
       "      <th>Open</th>\n",
       "      <th>High</th>\n",
       "      <th>Low</th>\n",
       "      <th>Close</th>\n",
       "      <th>Adj Close</th>\n",
       "      <th>Volume</th>\n",
       "      <th>Holt</th>\n",
       "      <th>Holt-Winters-adit-7</th>\n",
       "      <th>Holt-Winters-mul-7</th>\n",
       "    </tr>\n",
       "  </thead>\n",
       "  <tbody>\n",
       "    <tr>\n",
       "      <th>2020-03-18</th>\n",
       "      <td>11.79</td>\n",
       "      <td>12.27</td>\n",
       "      <td>10.87</td>\n",
       "      <td>11.29</td>\n",
       "      <td>11.289389</td>\n",
       "      <td>162515200.0</td>\n",
       "      <td>11.441651</td>\n",
       "      <td>11.290081</td>\n",
       "      <td>11.289973</td>\n",
       "    </tr>\n",
       "    <tr>\n",
       "      <th>2020-03-19</th>\n",
       "      <td>11.07</td>\n",
       "      <td>13.07</td>\n",
       "      <td>10.85</td>\n",
       "      <td>12.21</td>\n",
       "      <td>12.209339</td>\n",
       "      <td>157065200.0</td>\n",
       "      <td>12.209521</td>\n",
       "      <td>11.883815</td>\n",
       "      <td>11.705481</td>\n",
       "    </tr>\n",
       "    <tr>\n",
       "      <th>2020-03-20</th>\n",
       "      <td>13.11</td>\n",
       "      <td>13.50</td>\n",
       "      <td>11.83</td>\n",
       "      <td>12.00</td>\n",
       "      <td>11.999351</td>\n",
       "      <td>149029900.0</td>\n",
       "      <td>12.166389</td>\n",
       "      <td>12.260744</td>\n",
       "      <td>12.281294</td>\n",
       "    </tr>\n",
       "    <tr>\n",
       "      <th>2020-03-23</th>\n",
       "      <td>12.11</td>\n",
       "      <td>12.18</td>\n",
       "      <td>11.28</td>\n",
       "      <td>11.50</td>\n",
       "      <td>11.499378</td>\n",
       "      <td>107092400.0</td>\n",
       "      <td>11.744351</td>\n",
       "      <td>12.086928</td>\n",
       "      <td>12.122538</td>\n",
       "    </tr>\n",
       "    <tr>\n",
       "      <th>2020-03-24</th>\n",
       "      <td>12.57</td>\n",
       "      <td>13.54</td>\n",
       "      <td>12.28</td>\n",
       "      <td>13.25</td>\n",
       "      <td>13.249283</td>\n",
       "      <td>114259200.0</td>\n",
       "      <td>13.123704</td>\n",
       "      <td>11.722513</td>\n",
       "      <td>11.633683</td>\n",
       "    </tr>\n",
       "  </tbody>\n",
       "</table>\n",
       "</div>"
      ],
      "text/plain": [
       "             Open   High    Low  Close  Adj Close       Volume       Holt  \\\n",
       "2020-03-18  11.79  12.27  10.87  11.29  11.289389  162515200.0  11.441651   \n",
       "2020-03-19  11.07  13.07  10.85  12.21  12.209339  157065200.0  12.209521   \n",
       "2020-03-20  13.11  13.50  11.83  12.00  11.999351  149029900.0  12.166389   \n",
       "2020-03-23  12.11  12.18  11.28  11.50  11.499378  107092400.0  11.744351   \n",
       "2020-03-24  12.57  13.54  12.28  13.25  13.249283  114259200.0  13.123704   \n",
       "\n",
       "            Holt-Winters-adit-7  Holt-Winters-mul-7  \n",
       "2020-03-18            11.290081           11.289973  \n",
       "2020-03-19            11.883815           11.705481  \n",
       "2020-03-20            12.260744           12.281294  \n",
       "2020-03-23            12.086928           12.122538  \n",
       "2020-03-24            11.722513           11.633683  "
      ]
     },
     "execution_count": 15,
     "metadata": {},
     "output_type": "execute_result"
    }
   ],
   "source": [
    "# Ajuste do modelo pelo Método de Holt-Winters com sazonalidade aditiva\n",
    "\n",
    "modelo =  ExponentialSmoothing(PETR4['Close'],trend='add',seasonal='mul',seasonal_periods=7);\n",
    "\n",
    "ajustadoHW = modelo.fit();\n",
    "\n",
    "PETR4['Holt-Winters-mul-7'] = ajustadoHW.fittedvalues;\n",
    "\n",
    "PETR4.head()"
   ]
  },
  {
   "cell_type": "code",
   "execution_count": 16,
   "metadata": {},
   "outputs": [
    {
     "data": {
      "text/plain": [
       "<AxesSubplot:>"
      ]
     },
     "execution_count": 16,
     "metadata": {},
     "output_type": "execute_result"
    },
    {
     "data": {
      "image/png": "[encoded data removed]",
      "text/plain": [
       "<Figure size 432x288 with 1 Axes>"
      ]
     },
     "metadata": {
      "needs_background": "light"
     },
     "output_type": "display_data"
    }
   ],
   "source": [
    "PETR4[['Close','Holt','Holt-Winters-mul-7']].plot()"
   ]
  },
  {
   "cell_type": "markdown",
   "metadata": {},
   "source": [
    "**7. Olhe as previsões para as últimas 40 observações**"
   ]
  },
  {
   "cell_type": "code",
   "execution_count": 17,
   "metadata": {},
   "outputs": [
    {
     "data": {
      "text/plain": [
       "<AxesSubplot:>"
      ]
     },
     "execution_count": 17,
     "metadata": {},
     "output_type": "execute_result"
    },
    {
     "data": {
      "image/png": "[encoded data removed]",
      "text/plain": [
       "<Figure size 432x288 with 1 Axes>"
      ]
     },
     "metadata": {
      "needs_background": "light"
     },
     "output_type": "display_data"
    }
   ],
   "source": [
    "PETR4[['Close','Holt','Holt-Winters-adit-7']][-40:].plot()"
   ]
  },
  {
   "cell_type": "markdown",
   "metadata": {},
   "source": [
    "**8. Como ficam as previsões? Use cerca de 80% da base para treino e 20% para teste, ou seja, 70 observações para treino e 18 observações para teste.**"
   ]
  },
  {
   "cell_type": "code",
   "execution_count": 18,
   "metadata": {},
   "outputs": [],
   "source": [
    "dados_treino = PETR4.iloc[:70] # Dados de treinamento até observação 210, sem incluí-la\n",
    "dados_teste = PETR4.iloc[70:] # Dados de teste a partir da observação 210"
   ]
  },
  {
   "cell_type": "code",
   "execution_count": 19,
   "metadata": {},
   "outputs": [
    {
     "name": "stderr",
     "output_type": "stream",
     "text": [
      "C:\\ProgramData\\Anaconda3\\lib\\site-packages\\statsmodels\\tsa\\holtwinters\\model.py:429: FutureWarning: After 0.13 initialization must be handled at model creation\n",
      "  FutureWarning,\n"
     ]
    },
    {
     "data": {
      "image/png": "[encoded data removed]",
      "text/plain": [
       "<Figure size 576x432 with 1 Axes>"
      ]
     },
     "metadata": {
      "needs_background": "light"
     },
     "output_type": "display_data"
    }
   ],
   "source": [
    "ajustado_H = ExponentialSmoothing(dados_treino['Close'],trend='add').fit()\n",
    "ajustado_HW = ExponentialSmoothing(dados_treino['Close'],trend='add',seasonal='add',seasonal_periods=7).fit()\n",
    "\n",
    "predito_H = ajustado_H.forecast(18).rename('Previsão Holt')\n",
    "predito_HW = ajustado_HW.forecast(18).rename('Previsão Holt')\n",
    "\n",
    "predito_H.index = PETR4.index[70:]\n",
    "predito_HW.index = PETR4.index[70:]\n",
    "\n",
    "dados_treino['Close'].plot(legend=True,label='Treino')\n",
    "dados_teste['Close'].plot(legend=True,label='Teste',figsize=(8,6))\n",
    "predito_H.plot(legend=True,label='Previsão Holt');\n",
    "predito_HW.plot(legend=True,label='Previsão Holt-Winters');\n",
    "\n"
   ]
  },
  {
   "cell_type": "markdown",
   "metadata": {},
   "source": [
    "**9. É possível melhorar as previsões com o método de Holt-Winters com sazonalidade e/ou tendência multiplicativos?**"
   ]
  },
  {
   "cell_type": "code",
   "execution_count": 20,
   "metadata": {},
   "outputs": [
    {
     "name": "stderr",
     "output_type": "stream",
     "text": [
      "C:\\ProgramData\\Anaconda3\\lib\\site-packages\\statsmodels\\tsa\\holtwinters\\model.py:429: FutureWarning: After 0.13 initialization must be handled at model creation\n",
      "  FutureWarning,\n"
     ]
    },
    {
     "data": {
      "image/png": "[encoded data removed]",
      "text/plain": [
       "<Figure size 576x432 with 1 Axes>"
      ]
     },
     "metadata": {
      "needs_background": "light"
     },
     "output_type": "display_data"
    }
   ],
   "source": [
    "ajustado_H = ExponentialSmoothing(dados_treino['Close'],trend='add').fit()\n",
    "ajustado_HW = ExponentialSmoothing(dados_treino['Close'],trend='add',seasonal='mul',seasonal_periods=7).fit()\n",
    "\n",
    "predito_H = ajustado_H.forecast(18).rename('Previsão Holt')\n",
    "predito_HW = ajustado_HW.forecast(18).rename('Previsão Holt')\n",
    "\n",
    "predito_H.index = PETR4.index[70:]\n",
    "predito_HW.index = PETR4.index[70:]\n",
    "\n",
    "dados_treino['Close'].plot(legend=True,label='Treino')\n",
    "dados_teste['Close'].plot(legend=True,label='Teste',figsize=(8,6))\n",
    "predito_H.plot(legend=True,label='Previsão Holt');\n",
    "predito_HW.plot(legend=True,label='Previsão Holt-Winters');\n",
    "\n",
    "\n"
   ]
  },
  {
   "cell_type": "code",
   "execution_count": 21,
   "metadata": {},
   "outputs": [
    {
     "name": "stderr",
     "output_type": "stream",
     "text": [
      "C:\\ProgramData\\Anaconda3\\lib\\site-packages\\statsmodels\\tsa\\holtwinters\\model.py:429: FutureWarning: After 0.13 initialization must be handled at model creation\n",
      "  FutureWarning,\n"
     ]
    },
    {
     "data": {
      "image/png": "[encoded data removed]",
      "text/plain": [
       "<Figure size 576x432 with 1 Axes>"
      ]
     },
     "metadata": {
      "needs_background": "light"
     },
     "output_type": "display_data"
    }
   ],
   "source": [
    "\n",
    "ajustado_H = ExponentialSmoothing(dados_treino['Close'],trend='add').fit()\n",
    "ajustado_HW = ExponentialSmoothing(dados_treino['Close'],trend='mul',seasonal='mul',seasonal_periods=7).fit()\n",
    "\n",
    "predito_H = ajustado_H.forecast(18).rename('Previsão Holt')\n",
    "predito_HW = ajustado_HW.forecast(18).rename('Previsão Holt')\n",
    "\n",
    "predito_H.index = PETR4.index[70:]\n",
    "predito_HW.index = PETR4.index[70:]\n",
    "\n",
    "dados_treino['Close'].plot(legend=True,label='Treino')\n",
    "dados_teste['Close'].plot(legend=True,label='Teste',figsize=(8,6))\n",
    "predito_H.plot(legend=True,label='Previsão Holt');\n",
    "predito_HW.plot(legend=True,label='Previsão Holt-Winters');\n",
    "\n"
   ]
  },
  {
   "cell_type": "markdown",
   "metadata": {},
   "source": [
    "**10. Utilize os métodos de Holt e Holt-Winters e compare os erros quadráticos médios e erros absolutos médios. (Depois você pode repetir para os dados de COVID-19).**"
   ]
  },
  {
   "cell_type": "code",
   "execution_count": 22,
   "metadata": {},
   "outputs": [
    {
     "ename": "ModuleNotFoundError",
     "evalue": "No module named 'sklearn'",
     "output_type": "error",
     "traceback": [
      "\u001b[1;31m---------------------------------------------------------------------------\u001b[0m",
      "\u001b[1;31mModuleNotFoundError\u001b[0m                       Traceback (most recent call last)",
      "\u001b[1;32m<ipython-input-22-6c3bf355a521>\u001b[0m in \u001b[0;36m<module>\u001b[1;34m\u001b[0m\n\u001b[1;32m----> 1\u001b[1;33m \u001b[1;32mfrom\u001b[0m \u001b[0msklearn\u001b[0m\u001b[1;33m.\u001b[0m\u001b[0mmetrics\u001b[0m \u001b[1;32mimport\u001b[0m \u001b[0mmean_squared_error\u001b[0m\u001b[1;33m,\u001b[0m\u001b[0mmean_absolute_error\u001b[0m\u001b[1;33m\u001b[0m\u001b[1;33m\u001b[0m\u001b[0m\n\u001b[0m",
      "\u001b[1;31mModuleNotFoundError\u001b[0m: No module named 'sklearn'"
     ]
    }
   ],
   "source": [
    "from sklearn.metrics import mean_squared_error,mean_absolute_error\n"
   ]
  },
  {
   "cell_type": "code",
   "execution_count": null,
   "metadata": {},
   "outputs": [],
   "source": [
    "mean_squared_error(dados_teste['Close'],predito_HW)"
   ]
  },
  {
   "cell_type": "code",
   "execution_count": null,
   "metadata": {},
   "outputs": [],
   "source": [
    "mean_absolute_error(dados_teste['Close'], predito_HW)"
   ]
  },
  {
   "cell_type": "code",
   "execution_count": null,
   "metadata": {},
   "outputs": [],
   "source": [
    "mean_squared_error(dados_teste['Close'],predito_H)"
   ]
  },
  {
   "cell_type": "code",
   "execution_count": null,
   "metadata": {},
   "outputs": [],
   "source": [
    "mean_absolute_error(dados_teste['Close'], predito_H)"
   ]
  },
  {
   "cell_type": "markdown",
   "metadata": {},
   "source": [
    "**11. Crie séries da média móvel simples e desvio padrão móvel com janelas de 7 dias. A série parece estacionária?**"
   ]
  },
  {
   "cell_type": "code",
   "execution_count": null,
   "metadata": {},
   "outputs": [],
   "source": [
    "# Verificando as séries de média e desvio-padrão móvel com janela de 7 dias\n",
    "\n",
    "PETR4['MMS-7'] = PETR4['Close'].rolling(window=7).mean()\n",
    "PETR4['DP-7'] = PETR4['Close'].rolling(window=7).std()\n",
    "\n",
    "PETR4[['Close','MMS-7','DP-7']].plot();"
   ]
  },
  {
   "cell_type": "markdown",
   "metadata": {},
   "source": [
    "A série não parece estacionária."
   ]
  },
  {
   "cell_type": "markdown",
   "metadata": {},
   "source": [
    "**12. A série das primeiras diferenças parece estacionária?.**"
   ]
  },
  {
   "cell_type": "code",
   "execution_count": null,
   "metadata": {},
   "outputs": [],
   "source": [
    "# Primeiras diferenças\n",
    "y = np.diff(PETR4['Close'])\n",
    "x = PETR4.iloc[1:].index\n",
    "\n",
    "plt.plot(x,y);"
   ]
  },
  {
   "cell_type": "markdown",
   "metadata": {},
   "source": [
    "**13. Considere boxplots semanais para a série original. Ela parece estacionária?**"
   ]
  },
  {
   "cell_type": "code",
   "execution_count": null,
   "metadata": {},
   "outputs": [],
   "source": [
    "import seaborn as sns\n",
    "\n",
    "PETR4['Week'] = PETR4.index.week\n",
    "\n",
    "sns.boxplot(x=PETR4['Week'], y=PETR4['Close'])"
   ]
  },
  {
   "cell_type": "markdown",
   "metadata": {},
   "source": [
    "**14. Utilize o Teste de Dickey-Fuller aumentado. Que evidências ele dá sobre a estacionariedade da série e da primeira diferença?**"
   ]
  },
  {
   "cell_type": "code",
   "execution_count": null,
   "metadata": {},
   "outputs": [],
   "source": [
    "from statsmodels.tsa.stattools import adfuller\n",
    "\n",
    "result = adfuller(PETR4['Close'], autolag='AIC')\n",
    "print('ADF Statistic: %f' % result[0])\n",
    "print('p-value: %f' % result[1])\n",
    "print('Critical Values:')\n",
    "for key, value in result[4].items():\n",
    "\tprint('\\t%s: %.3f' % (key, value))"
   ]
  },
  {
   "cell_type": "code",
   "execution_count": null,
   "metadata": {},
   "outputs": [],
   "source": [
    "from statsmodels.tsa.stattools import adfuller\n",
    "\n",
    "result = adfuller(np.diff(PETR4['Close']), autolag='AIC')\n",
    "print('ADF Statistic: %f' % result[0])\n",
    "print('p-value: %f' % result[1])\n",
    "print('Critical Values:')\n",
    "for key, value in result[4].items():\n",
    "\tprint('\\t%s: %.3f' % (key, value))"
   ]
  }
 ],
 "metadata": {
  "kernelspec": {
   "display_name": "Python 3",
   "language": "python",
   "name": "python3"
  },
  "language_info": {
   "codemirror_mode": {
    "name": "ipython",
    "version": 3
   },
   "file_extension": ".py",
   "mimetype": "text/x-python",
   "name": "python",
   "nbconvert_exporter": "python",
   "pygments_lexer": "ipython3",
   "version": "3.7.6"
  }
 },
 "nbformat": 4,
 "nbformat_minor": 4
}
