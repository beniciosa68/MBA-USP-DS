{
 "cells": [
  {
   "cell_type": "markdown",
   "metadata": {},
   "source": [
    "# <span style=\"color:blue\"> MBA em Ciência de Dados</span>\n",
    "# <span style=\"color:blue\">Aprendizado Dinâmico</span>\n",
    "\n",
    "## <span style=\"color:blue\">Aula 06</span>\n",
    "**Material Produzido por Cibele Russo**<br>\n",
    "**Cemeai - ICMC/USP São Carlos**"
   ]
  },
  {
   "cell_type": "markdown",
   "metadata": {},
   "source": [
    "<font color='red'> As respostas devem ser fornecidas no Moodle. O notebook é apenas para a implementação dos códigos que fornecerão as respostas</font>"
   ]
  },
  {
   "cell_type": "markdown",
   "metadata": {},
   "source": [
    "### Exercício 1\n",
    "Considere os pacotes de Python que utilizamos nesse curso até agora. Assinale a alternativa <font color='red'><b>incorreta</b></font>.\n",
    "\n",
    "Escolha uma:<br>\n",
    "a. rpy2 permite que sejam executadas funções da linguagem R no ambiente Python<br>\n",
    "<b>b. O Método Theta é um método de forecasting que está implementado no pacote tensorflow_probability<br></b>\n",
    "c. tensorflow_probability permite ajustes Bayesianos de séries temporais que tenham componentes de sazonalidade, tendência e termos autorregressivos, entre outros<br>\n",
    "d. tensorflow permite o ajuste de modelos probabilísticos, incluindo o ajuste de modelos Bayesianos com simulação de Monte Carlos via Cadeias de Markov<br>\n",
    "e. statsmodels permite ajustar modelos de séries temporais autorregressivos, de médias móveis, ARMA, ARIMA, SARIMA, além de modelos de espaço de estado com estrutura SARIMA para o estado oculto com a inclusão de variáveis exógenas"
   ]
  },
  {
   "cell_type": "code",
   "execution_count": 1,
   "metadata": {},
   "outputs": [
    {
     "name": "stdout",
     "output_type": "stream",
     "text": [
      "b. O Método Theta é um método de forecasting que está implementado no pacote tensorflow_probability\n"
     ]
    }
   ],
   "source": [
    "print('b. O Método Theta é um método de forecasting que está implementado no pacote tensorflow_probability')"
   ]
  },
  {
   "cell_type": "markdown",
   "metadata": {},
   "source": [
    "### Exercício 2\n",
    "Considere a desigualdade abaixo, discutida em Pellegrini (2012) no contexto de séries temporais, em que r significa a autocorrelação de lag adequado.\n",
    "\n",
    "<img src='.\\img\\img1.gif'>\n",
    "\n",
    "Assinale as alternativas <font color='green'><b>corretas</b></font>:\n",
    "\n",
    "Escolha uma ou mais:<br>\n",
    "<b>a. é possível utilizar a desigualdade para avaliar a sazonalidade de uma série temporal em um teste de hipóteses<br></b>\n",
    "b. Se os dados são diários e registrados em todos os dias úteis, o valor de m é 7.<br>\n",
    "c. se a desigualdade é falsa, há evidências de que há sazonalidade na série temporal<br>\n",
    "d. A quantidade q é um quantil de uma distribuição qui-quadrado com 1-a/2 graus de liberdade"
   ]
  },
  {
   "cell_type": "code",
   "execution_count": 2,
   "metadata": {},
   "outputs": [
    {
     "name": "stdout",
     "output_type": "stream",
     "text": [
      "a. é possível utilizar a desigualdade para avaliar a sazonalidade de uma série temporal em um teste de hipóteses\n"
     ]
    }
   ],
   "source": [
    "print('a. é possível utilizar a desigualdade para avaliar a sazonalidade de uma série temporal em um teste de hipóteses')"
   ]
  },
  {
   "cell_type": "markdown",
   "metadata": {},
   "source": [
    "### Exercício 3\n",
    "Considere os métodos Theta, Theta otimizado e Theta otimizado dinâmico. Assinale as alternativas <font color='green'><b>corretas.</b></font>\n",
    "\n",
    "Escolha uma ou mais:<br>\n",
    "a. É necessário eliminar a tendência da série para aplicar os métodos Theta<br>\n",
    "<b>b. O método Theta otimizado fornece, além da previsão pontual, uma previsão intervalar para as próximas observações da série<br>\n",
    "c. O método Theta é equivalente ao método de suavização exponencial simples<br></b>\n",
    "d. Os métodos Theta otimizado e Theta otimizado dinâmico podem ser aplicados diretamente a séries com sazonalidade<br>\n",
    "<b>e. O método Theta otimizado generaliza o método Theta usual</b>"
   ]
  },
  {
   "cell_type": "code",
   "execution_count": 6,
   "metadata": {},
   "outputs": [
    {
     "name": "stdout",
     "output_type": "stream",
     "text": [
      "b. O método Theta otimizado fornece, além da previsão pontual, uma previsão intervalar para as próximas observações da série\n",
      "c. O método Theta é equivalente ao método de suavização exponencial simples\n",
      "e. O método Theta otimizado generaliza o método Theta usual\n"
     ]
    }
   ],
   "source": [
    "print('b. O método Theta otimizado fornece, além da previsão pontual, uma previsão intervalar para as próximas observações da série')\n",
    "print('c. O método Theta é equivalente ao método de suavização exponencial simples')\n",
    "print('e. O método Theta otimizado generaliza o método Theta usual')"
   ]
  },
  {
   "cell_type": "markdown",
   "metadata": {},
   "source": [
    "### Exercício 4\n",
    "Considere os métodos Theta, Theta otimizado e Theta otimizado dinâmico. Assinale as alternativas <font color='green'><b>corretas.</b></font>\n",
    "\n",
    "Escolha uma ou mais:<br>\n",
    "<b>a. Os métodos Theta, Theta otimizado e Theta otimizado dinâmico são adequados para séries temporais não-sazonais ou dessazonalizadas<br></b>\n",
    "b. Se a série temporal tiver sazonalidade, o método Theta não pode ser utilizado<br>\n",
    "<b>c. O método Theta foi premiado na competição de forecasting M3<br>\n",
    "d. Com o método Theta, obtém-se combinações de modelos lineares e o resultado do ajuste é aproximadamente linear</b>"
   ]
  },
  {
   "cell_type": "code",
   "execution_count": 5,
   "metadata": {},
   "outputs": [
    {
     "name": "stdout",
     "output_type": "stream",
     "text": [
      "a. Os métodos Theta, Theta otimizado e Theta otimizado dinâmico são adequados para séries temporais não-sazonais ou dessazonalizadas\n",
      "c. O método Theta foi premiado na competição de forecasting M3\n",
      "d. Com o método Theta, obtém-se combinações de modelos lineares e o resultado do ajuste é aproximadamente linear\n"
     ]
    }
   ],
   "source": [
    "print('a. Os métodos Theta, Theta otimizado e Theta otimizado dinâmico são adequados para séries temporais não-sazonais ou dessazonalizadas')\n",
    "print('c. O método Theta foi premiado na competição de forecasting M3')\n",
    "print('d. Com o método Theta, obtém-se combinações de modelos lineares e o resultado do ajuste é aproximadamente linear')"
   ]
  },
  {
   "cell_type": "code",
   "execution_count": null,
   "metadata": {},
   "outputs": [],
   "source": []
  }
 ],
 "metadata": {
  "kernelspec": {
   "display_name": "Python 3",
   "language": "python",
   "name": "python3"
  },
  "language_info": {
   "codemirror_mode": {
    "name": "ipython",
    "version": 3
   },
   "file_extension": ".py",
   "mimetype": "text/x-python",
   "name": "python",
   "nbconvert_exporter": "python",
   "pygments_lexer": "ipython3",
   "version": "3.7.6"
  },
  "toc": {
   "base_numbering": 1,
   "nav_menu": {},
   "number_sections": true,
   "sideBar": true,
   "skip_h1_title": false,
   "title_cell": "Table of Contents",
   "title_sidebar": "Contents",
   "toc_cell": false,
   "toc_position": {},
   "toc_section_display": true,
   "toc_window_display": false
  }
 },
 "nbformat": 4,
 "nbformat_minor": 2
}
