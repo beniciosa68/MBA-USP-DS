{
 "cells": [
  {
   "cell_type": "markdown",
   "metadata": {},
   "source": [
    "# Avaliação Aula 04 - Introdução Ciência de Dados"
   ]
  },
  {
   "cell_type": "markdown",
   "metadata": {},
   "source": [
    "# Exercicio 1\n",
    "\n",
    "\n",
    "Considere os dados gerados pelo código abaixo. Determine o número ideal de clusters usando a medida normalized mutual information. Use o métodos k-mean para encontrar os clusters.\n",
    "\n",
    "from sklearn.datasets import make_blobs<br>\n",
    "from sklearn.cluster import KMeans<br>\n",
    "import numpy as np<br>\n",
    "np.random.seed(10)<br>\n",
    "\n",
    "import numpy as np<br>\n",
    "import matplotlib.pyplot as plt<br>\n",
    "\n",
    "#create blobs<br>\n",
    "     \n",
    "k = 5<br>\n",
    "n=200<br>\n",
    "data = make_blobs(n_samples=n, n_features=2, centers=k, cluster_std=1.5, random_state=50)<br>\n",
    "X = data[0]<br>\n",
    "labels = data[1]<br>\n",
    "plt.scatter(X[:,0], X[:,1], c=labels, cmap='viridis', s=50, alpha=0.9)<br>\n",
    "plt.xlim(-15,15)<br>\n",
    "plt.ylim(-15,15)<br>\n",
    "plt.show(True)<br>\n",
    "\n",
    "Escolha uma:<br>\n",
    "<b>a. 10</b> <br>\n",
    "<b>b. 1</b> <br>\n",
    "<b>c. 5</b> <br>\n",
    "<b>d. 2</b> <br>\n",
    "<b>e. 8</b> <br>"
   ]
  },
  {
   "cell_type": "code",
   "execution_count": null,
   "metadata": {},
   "outputs": [],
   "source": []
  },
  {
   "cell_type": "markdown",
   "metadata": {},
   "source": [
    "# Exercicio 2\n",
    "\n",
    "Aplique o método k-means aos dados gerados com o código abaixo. Calcule a medida Silhouette score. Selecione a alternativa mais próxima.\n",
    "\n",
    "from sklearn.datasets import make_blobs<br>\n",
    "from sklearn.cluster import KMeans<br>\n",
    "np.random.seed(10)<br>\n",
    "\n",
    "\n",
    "import numpy as np<br>\n",
    "import matplotlib.pyplot as plt<br>\n",
    "#create blobs<br>\n",
    "k = 5<br>\n",
    "n=200<br>\n",
    "data = make_blobs(n_samples=n, n_features=2, centers=k, cluster_std=1.5, random_state=50)<br>\n",
    "X = data[0]<br>\n",
    "labels = data[1]<br>\n",
    "plt.figure(figsize=(8,6))<br>\n",
    "plt.scatter(X[:,0], X[:,1], c=labels, cmap='viridis', s=50, alpha=0.9)<br>\n",
    "plt.xlim(-15,15)<br>\n",
    "plt.ylim(-15,15)<br>\n",
    "plt.show(True)<br>\n",
    "\n",
    "Escolha uma:<br>\n",
    "<b>a. 0.2</b> <br>\n",
    "<b>b. 0.5</b> <br>\n",
    "<b>c. 0.1</b> <br>\n",
    "<b>d. 0.9</b> <br>\n",
    "<b>e. 1.0</b> <br>"
   ]
  },
  {
   "cell_type": "code",
   "execution_count": null,
   "metadata": {},
   "outputs": [],
   "source": []
  },
  {
   "cell_type": "markdown",
   "metadata": {},
   "source": [
    "# Exercicio 3\n",
    "\n",
    "Aplique o algoritmo aglomerativo hierárquico com o método de Ward nos dados gerados com o código abaixo. Calcule a medida Mutual information. Selecione a alternativa mais próxima.\n",
    "\n",
    "from sklearn.datasets import make_blobs<br>\n",
    "from sklearn.cluster import KMeans<br>\n",
    "np.random.seed(10)<br>\n",
    "\n",
    "\n",
    "import numpy as np<br>\n",
    "import matplotlib.pyplot as plt<br>\n",
    "#create blobs<br>\n",
    "k = 2<br>\n",
    "n=200<br>\n",
    "#data = make_blobs(n_samples=n, n_features=2, centers=k, cluster_std=1.5, random_state=50)<br>\n",
    "data  = datasets.make_moons(n_samples=n, noise=.05)<br>\n",
    "X = data[0]<br>\n",
    "labels = data[1]<br>\n",
    "plt.scatter(X[:,0], X[:,1], c=labels, cmap='viridis', s=50, alpha=0.9)<br>\n",
    "plt.show(True)<br>\n",
    "\n",
    "Escolha uma:<br>\n",
    "<b>a. 0.8</b> <br>\n",
    "<b>b. 0.6</b> <br>\n",
    "<b>c. 1.0</b> <br>\n",
    "<b>d. 0.1</b> <br>\n",
    "<b>e. 0.9</b> <br>"
   ]
  },
  {
   "cell_type": "code",
   "execution_count": null,
   "metadata": {},
   "outputs": [],
   "source": []
  },
  {
   "cell_type": "markdown",
   "metadata": {},
   "source": [
    "# Exercicio 4\n",
    "\n",
    "Determine o número ideal de clusters para a base Iris usando o método k-means e a medida normalized mutual informaton.\n",
    "\n",
    "from scipy.spatial.distance import cdist<br>\n",
    "from sklearn import datasets<br>\n",
    "import numpy as np<br>\n",
    "np.random.seed(10)<br>\n",
    "\n",
    "\n",
    "\n",
    "iris = datasets.load_iris()<br>\n",
    "X = iris.data[:, :2]  # we only take the first two features.<br>\n",
    "y = iris.target<br>\n",
    "\n",
    "Escolha uma:<br>\n",
    "<b>a. 3</b> <br>\n",
    "<b>b. 1</b> <br>\n",
    "<b>c. 2</b> <br>\n",
    "<b>d. 5</b> <br>\n",
    "<b>e. 10</b> <br>"
   ]
  },
  {
   "cell_type": "code",
   "execution_count": null,
   "metadata": {},
   "outputs": [],
   "source": []
  },
  {
   "cell_type": "markdown",
   "metadata": {},
   "source": [
    "# Exercicio 5\n",
    "\n",
    "Determine o número ideal de clusters para a base Iris usando o método de agrupamento hierárquico (Ward) e a medida normalized mutual information.\n",
    "\n",
    "Escolha uma:<br>\n",
    "<b>a. 1</b> <br>\n",
    "<b>b. 10</b> <br>\n",
    "<b>c. 4</b> <br>\n",
    "<b>d. 5</b> <br>\n",
    "<b>e. 2</b> <br>"
   ]
  },
  {
   "cell_type": "code",
   "execution_count": null,
   "metadata": {},
   "outputs": [],
   "source": []
  }
 ],
 "metadata": {
  "celltoolbar": "Raw Cell Format",
  "kernelspec": {
   "display_name": "Python 3",
   "language": "python",
   "name": "python3"
  },
  "language_info": {
   "codemirror_mode": {
    "name": "ipython",
    "version": 3
   },
   "file_extension": ".py",
   "mimetype": "text/x-python",
   "name": "python",
   "nbconvert_exporter": "python",
   "pygments_lexer": "ipython3",
   "version": "3.7.3"
  }
 },
 "nbformat": 4,
 "nbformat_minor": 2
}
