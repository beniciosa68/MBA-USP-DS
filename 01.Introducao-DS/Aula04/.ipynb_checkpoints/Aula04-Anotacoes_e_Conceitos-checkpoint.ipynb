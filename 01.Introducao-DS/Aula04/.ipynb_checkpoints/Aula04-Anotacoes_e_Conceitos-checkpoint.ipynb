{
 "cells": [
  {
   "cell_type": "markdown",
   "metadata": {},
   "source": [
    "# Anotações e Conceitos - Aula04 - ICD\n",
    "\n",
    "\n",
    "## Fixação de Conceitos:\n",
    "\n",
    "\n",
    "#### topico1\n",
    "        \n",
    "   ##### subtopico1.1:\n",
    "         blablablablablabla\n",
    "   <img src=\"img/exemplo_imagem.gif\" width=\"500\" height=\"300\"> \n",
    "   \n",
    "   ##### subtopico1.2:\n",
    "\n",
    "#### topico2\n",
    "\n",
    "\n",
    "\n"
   ]
  },
  {
   "cell_type": "code",
   "execution_count": null,
   "metadata": {},
   "outputs": [],
   "source": []
  }
 ],
 "metadata": {
  "kernelspec": {
   "display_name": "Python 3",
   "language": "python",
   "name": "python3"
  },
  "language_info": {
   "codemirror_mode": {
    "name": "ipython",
    "version": 3
   },
   "file_extension": ".py",
   "mimetype": "text/x-python",
   "name": "python",
   "nbconvert_exporter": "python",
   "pygments_lexer": "ipython3",
   "version": "3.7.3"
  }
 },
 "nbformat": 4,
 "nbformat_minor": 2
}
