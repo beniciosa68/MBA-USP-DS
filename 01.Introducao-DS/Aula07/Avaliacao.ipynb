{
 "cells": [
  {
   "cell_type": "markdown",
   "metadata": {},
   "source": [
    "# Avaliação Aula 07 - Introdução Ciência de Dados"
   ]
  },
  {
   "cell_type": "markdown",
   "metadata": {},
   "source": [
    "# Exercicio 1\n",
    "Considere a base de dados 'vertebralcolumn-2C'. Calcule a acurácia usando uma árvore de decisão que tem como critério a medida de entropia. Use o código abaixo. Arrendonde o valor para uma casa decimal.\n",
    "```python\n",
    "import pandas as pd\n",
    "import numpy as np\n",
    "import matplotlib.pyplot as plt\n",
    "from sklearn.preprocessing import StandardScaler\n",
    "from sklearn.model_selection import train_test_split\n",
    "np.random.seed(42) # define the seed (important to reproduce the results)\n",
    "\n",
    "data = pd.read_csv('data/vertebralcolumn-2C.csv', header=(0))\n",
    "data = data.dropna(axis='rows') #remove NaN\n",
    "data = data.to_numpy()\n",
    "nrow,ncol = data.shape\n",
    "y = data[:,-1]\n",
    "X = data[:,0:ncol-1]\n",
    "\n",
    "scaler = StandardScaler().fit(X)\n",
    "X = scaler.transform(X)\n",
    "\n",
    "p = 0.2 # fraction of elements in the test set\n",
    "x_train, x_test, y_train, y_test = train_test_split(X, y, test_size = p, random_state = 42)\n",
    "\n",
    "```\n",
    "\n",
    "Escolha uma:<br>\n",
    "<b>a. 0.2</b><br>\n",
    "<b>b. 0.5</b><br>\n",
    "<b>c. 0.8</b><br>\n",
    "<b>d. 1.0</b><br>\n",
    "<b>e. 0.1</b><br>"
   ]
  },
  {
   "cell_type": "code",
   "execution_count": null,
   "metadata": {},
   "outputs": [],
   "source": []
  },
  {
   "cell_type": "markdown",
   "metadata": {},
   "source": [
    "# Exercicio 2\n",
    "Considere a base de dados 'vertebralcolumn-2C'. Calcule a acurácia na classificação usando o método bagging com 100 estimadores. Considere o código abaixo. Arrendonde o valor para uma casa decimal.\n",
    "```python\n",
    "import pandas as pd\n",
    "import numpy as np\n",
    "from sklearn.preprocessing import StandardScaler\n",
    "from sklearn.model_selection import train_test_split\n",
    "np.random.seed(42) # define the seed (important to reproduce the results)\n",
    "\n",
    "data = pd.read_csv('data/vertebralcolumn-2C.csv', header=(0))\n",
    "data = data.dropna(axis='rows') #remove NaN\n",
    "\n",
    "data = data.to_numpy()\n",
    "nrow,ncol = data.shape\n",
    "y = data[:,-1]\n",
    "X = data[:,0:ncol-1]\n",
    "\n",
    "scaler = StandardScaler().fit(X)\n",
    "X = scaler.transform(X)\n",
    "\n",
    "p = 0.2 # fraction of elements in the test set\n",
    "x_train, x_test, y_train, y_test = train_test_split(X, y, test_size = p, random_state = 42)\n",
    "```\n",
    "\n",
    "Escolha uma:<br>\n",
    "<b>a. 0.2</b><br>\n",
    "<b>b. 0.8</b><br>\n",
    "<b>c. 0.1</b><br>\n",
    "<b>d. 1.0</b><br>\n",
    "<b>e. 0.5</b><br>"
   ]
  },
  {
   "cell_type": "code",
   "execution_count": null,
   "metadata": {},
   "outputs": [],
   "source": []
  },
  {
   "cell_type": "markdown",
   "metadata": {},
   "source": [
    "# Exercicio 3\n",
    "Considere a base de dados 'vertebralcolumn-3C'. Calcule a acurácia na classificação usando o classificar random forest considerando 100 árvores. Considere o código abaixo. Arrendonde o valor para uma casa decimal.\n",
    "```python\n",
    "import pandas as pd\n",
    "import numpy as np\n",
    "from sklearn.preprocessing import StandardScaler\n",
    "from sklearn.model_selection import train_test_split\n",
    "\n",
    "np.random.seed(42) # define the seed (important to reproduce the results)\n",
    "\n",
    "data = pd.read_csv('data/vertebralcolumn-3C.csv', header=(0))\n",
    "data = data.dropna(axis='rows') #remove NaN\n",
    "\n",
    "data = data.to_numpy()\n",
    "nrow,ncol = data.shape\n",
    "y = data[:,-1]\n",
    "X = data[:,0:ncol-1]\n",
    "\n",
    "scaler = StandardScaler().fit(X)\n",
    "X = scaler.transform(X)\n",
    "\n",
    "p = 0.2 # fraction of elements in the test set\n",
    "x_train, x_test, y_train, y_test = train_test_split(X, y, test_size = p, random_state = 42)\n",
    "```\n",
    "\n",
    "Escolha uma:<br>\n",
    "<b>a. 0.2</b><br>\n",
    "<b>b. 0.8</b><br>\n",
    "<b>c. 0.1</b><br>\n",
    "<b>d. 0.5</b><br>\n",
    "<b>e. 1.0</b><br>"
   ]
  },
  {
   "cell_type": "code",
   "execution_count": null,
   "metadata": {},
   "outputs": [],
   "source": []
  },
  {
   "cell_type": "markdown",
   "metadata": {},
   "source": [
    "# Exercicio 4\n",
    "Considere a base winequality-red. Realizando a classificação usando o método hold-out, selecionando 20% dos dados no conjunto de teste, qual classificador oferece o melhor resultado?\n",
    "\n",
    "Escolha uma:<br>\n",
    "<b>a. árvore de decisão usando o critério entropia</b><br>\n",
    "<b>b. Adaboosting com n=10 estimadores</b><br>\n",
    "<b>c. Todos oferecem a mesma acurácia (considere duas casas decimais)</b><br>\n",
    "<b>d. floresta aleatória com n=100 árvores</b><br>\n",
    "<b>e. bagging com n=10 estimadores</b><br>"
   ]
  },
  {
   "cell_type": "code",
   "execution_count": null,
   "metadata": {},
   "outputs": [],
   "source": []
  },
  {
   "cell_type": "markdown",
   "metadata": {},
   "source": [
    "# Exercicio 5\n",
    "Para os dados gerados com o código abaixo, qual classificar oferece a melhor acurácia? Considere apenas uma casa decimal.\n",
    "```python\n",
    "from sklearn import datasets\n",
    "import matplotlib.pyplot as plt\n",
    "from sklearn.preprocessing import StandardScaler\n",
    "from sklearn.model_selection import train_test_split\n",
    "import numpy as np \n",
    "np.random.seed(42) # define the seed (important to reproduce the results)\n",
    "plt.figure(figsize=(6,4))\n",
    "\n",
    "n_samples = 1000\n",
    "data  = datasets.make_moons(n_samples=n_samples, noise=.5, random_state = 42)\n",
    "X = data[0]\n",
    "y = data[1]\n",
    "plt.scatter(X[:,0], X[:,1], c=y, cmap='viridis', s=50, alpha=0.7)\n",
    "plt.show(True)\n",
    "\n",
    "scaler = StandardScaler().fit(X)\n",
    "X = scaler.transform(X)\n",
    "\n",
    "p = 0.2 # fraction of elements in the test set\n",
    "x_train, x_test, y_train, y_test = train_test_split(X, y, test_size = p, random_state = 42)\n",
    "```\n",
    "\n",
    "Escolha uma:<br>\n",
    "<b>a. bagging com n=10 estimadores</b><br>\n",
    "<b>b. floresta aleatória com n=100 árvores</b><br>\n",
    "<b>c. Todos oferecem a mesma acurácia (considere apenas uma casa decimal)</b><br>\n",
    "<b>d. árvore de decisão usando o critério entropia</b><br>\n",
    "<b>e. Adaboosting com n=10 estimadores</b><br>"
   ]
  },
  {
   "cell_type": "code",
   "execution_count": null,
   "metadata": {},
   "outputs": [],
   "source": []
  }
 ],
 "metadata": {
  "celltoolbar": "Raw Cell Format",
  "kernelspec": {
   "display_name": "Python 3",
   "language": "python",
   "name": "python3"
  },
  "language_info": {
   "codemirror_mode": {
    "name": "ipython",
    "version": 3
   },
   "file_extension": ".py",
   "mimetype": "text/x-python",
   "name": "python",
   "nbconvert_exporter": "python",
   "pygments_lexer": "ipython3",
   "version": "3.7.3"
  }
 },
 "nbformat": 4,
 "nbformat_minor": 2
}
