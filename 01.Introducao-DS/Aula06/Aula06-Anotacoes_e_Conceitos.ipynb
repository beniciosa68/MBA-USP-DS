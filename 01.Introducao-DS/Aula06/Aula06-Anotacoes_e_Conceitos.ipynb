{
 "cells": [
  {
   "cell_type": "markdown",
   "metadata": {},
   "source": [
    "# Anotações e Conceitos - Aula06 - ICD\n",
    "\n",
    "\n",
    "## Métodos de Classificação:\n",
    "\n",
    "\n",
    "#### Knn (K-vizinhos mais próximos):\n",
    "   \n",
    "   <img src=\"img/regressao-linear-simples.gif\" width=\"500\" height=\"300\">\n",
    "\n",
    "#### Regressão Logística:\n",
    "\n",
    "\n",
    "#### Naive Bayes:\n"
   ]
  }
 ],
 "metadata": {
  "kernelspec": {
   "display_name": "Python 3",
   "language": "python",
   "name": "python3"
  },
  "language_info": {
   "codemirror_mode": {
    "name": "ipython",
    "version": 3
   },
   "file_extension": ".py",
   "mimetype": "text/x-python",
   "name": "python",
   "nbconvert_exporter": "python",
   "pygments_lexer": "ipython3",
   "version": "3.7.3"
  }
 },
 "nbformat": 4,
 "nbformat_minor": 2
}
