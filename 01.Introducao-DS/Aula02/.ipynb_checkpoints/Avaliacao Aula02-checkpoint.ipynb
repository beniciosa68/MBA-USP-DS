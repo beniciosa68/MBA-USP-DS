{
 "cells": [
  {
   "cell_type": "markdown",
   "metadata": {},
   "source": [
    "# Avaliação Aula 02 - Introdução Ciência de Dados"
   ]
  },
  {
   "cell_type": "markdown",
   "metadata": {},
   "source": [
    "# Exercicio 1\n",
    "\n",
    "Mude a função seno para cosseno (no exemplo da aula) e verifique qual o grau do polinômio mais adequado para 20 observações (10 no conjunto de teste e 10 no conjunto de treinamento). Considere o código abaixo para gerar os dados.\n",
    "\n",
    "import numpy as np\n",
    "from matplotlib import pyplot as plt\n",
    "\n",
    "np.random.seed(101)\n",
    "\n",
    "def function(x):\n",
    "    y = np.cos(2 * np.pi * x)\n",
    "    return y\n",
    "\n",
    "-> training set\n",
    "N_train = 10\n",
    "x_train=np.linspace(0, 1,N_train)\n",
    "y_train = function(x_train) + np.random.normal(0,0.1, N_train)\n",
    "\n",
    "fig = plt.figure(figsize=(8, 6))\n",
    "plt.scatter(x_train, y_train, facecolor=\"none\", edgecolor=\"b\", s=100, label=\"training data\")\n",
    "\n",
    "-> test set\n",
    "N_test = 10\n",
    "x_test=np.linspace(0, 1,N_test)\n",
    "y_test = function(x_test) +  np.random.normal(0,0.1, N_test)\n",
    "\n",
    "-> Theoretical curves\n",
    "xt=np.linspace(0,1,100)\n",
    "yt = function(xt)\n",
    "plt.plot(xt,yt, '-r',  label=\"Theoretical curve\")\n",
    "plt.legend()\n",
    "plt.show(True)\n",
    "\n",
    "Escolha uma:\n",
    "\n",
    "a. 9\n",
    "b. 4\n",
    "c. 2\n",
    "d. 8\n",
    "e. 1"
   ]
  },
  {
   "cell_type": "code",
   "execution_count": null,
   "metadata": {},
   "outputs": [],
   "source": []
  },
  {
   "cell_type": "code",
   "execution_count": null,
   "metadata": {},
   "outputs": [],
   "source": [
    "#EXERCICIO 2\n",
    "\n",
    "Mude a função seno para x4 (no exemplo da aula) e verifique qual grau do polinômio mais adequado para 20 observações (10 no conjunto de teste e 10 no conjunto de treinamento). Use o código abaixo para gerar os dados:\n",
    "\n",
    "import numpy as np\n",
    "from matplotlib import pyplot as plt\n",
    "np.random.seed(101)\n",
    "def function(x):\n",
    "    y = x**4\n",
    "    return y\n",
    "\n",
    "----------------------------------------------------------------------------------------------------\n",
    "-> training set\n",
    "----------------------------------------------------------------------------------------------------\n",
    "N_train = 10\n",
    "x_train=np.linspace(0, 1,N_train)\n",
    "y_train = function(x_train) + np.random.normal(0,0.1, N_train)\n",
    "fig = plt.figure(figsize=(8, 6))\n",
    "plt.scatter(x_train, y_train, facecolor=\"none\", edgecolor=\"b\", s=100, label=\"training data\")\n",
    "\n",
    "----------------------------------------------------------------------------------------------------\n",
    "-> test set\n",
    "----------------------------------------------------------------------------------------------------\n",
    "N_test = 10\n",
    "x_test=np.linspace(0, 1,N_test)\n",
    "y_test = function(x_test) +  np.random.normal(0,0.1, N_test)\n",
    "-> Theoretical curves\n",
    "xt=np.linspace(0,1,100)\n",
    "yt = function(xt)\n",
    "plt.plot(xt,yt, '-r',  label=\"Theoretical curve\")\n",
    "plt.legend()\n",
    "plt.show(True)\n",
    "\n",
    "\n",
    "Escolha uma:\n",
    "a. 8\n",
    "b. 1\n",
    "c. 4\n",
    "d. 2\n",
    "e. 3"
   ]
  }
 ],
 "metadata": {
  "celltoolbar": "Raw Cell Format",
  "kernelspec": {
   "display_name": "Python 3",
   "language": "python",
   "name": "python3"
  },
  "language_info": {
   "codemirror_mode": {
    "name": "ipython",
    "version": 3
   },
   "file_extension": ".py",
   "mimetype": "text/x-python",
   "name": "python",
   "nbconvert_exporter": "python",
   "pygments_lexer": "ipython3",
   "version": "3.7.3"
  }
 },
 "nbformat": 4,
 "nbformat_minor": 2
}
