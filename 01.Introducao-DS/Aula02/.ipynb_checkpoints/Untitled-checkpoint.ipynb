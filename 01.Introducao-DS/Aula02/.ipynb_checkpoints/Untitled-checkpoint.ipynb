{
 "cells": [
  {
   "cell_type": "markdown",
   "metadata": {},
   "source": [
    "# Anotações e Conceitos - Aula02 - ICD\n",
    "\n",
    "\n",
    "## Fixação de Conceitos:\n",
    "\n",
    "\n",
    "#### Ajuste de modelos e overfitting:\n",
    "\n",
    "#### Erro quadrático (RMSE):\n",
    "\n",
    "#### Validação cruzada (KNeighborsClassifier):\n",
    "\n",
    "#### Número de Folds:\n",
    "\n",
    "\n"
   ]
  }
 ],
 "metadata": {
  "kernelspec": {
   "display_name": "Python 3",
   "language": "python",
   "name": "python3"
  },
  "language_info": {
   "codemirror_mode": {
    "name": "ipython",
    "version": 3
   },
   "file_extension": ".py",
   "mimetype": "text/x-python",
   "name": "python",
   "nbconvert_exporter": "python",
   "pygments_lexer": "ipython3",
   "version": "3.7.3"
  }
 },
 "nbformat": 4,
 "nbformat_minor": 2
}
