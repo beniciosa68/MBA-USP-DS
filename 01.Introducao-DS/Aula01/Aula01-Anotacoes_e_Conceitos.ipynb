{
 "cells": [
  {
   "cell_type": "markdown",
   "metadata": {},
   "source": [
    "# Anotações e Conceitos - Aula01 - ICD\n",
    "\n",
    "\n",
    "## Fixação de Conceitos:\n",
    "\n",
    "\n",
    "#### Medidas de posição:\n",
    "   ##### Moda:\n",
    "        A moda de um conjunto de dados pode ser definida como o valor que ocorre com mais frequência dentro deste conjunto. Por isso, é possível descobrir a moda de uma sequência de valores facilmente, apenas observando o número que mais aparece nela.\n",
    "        - Sistemas Mulimodais:\n",
    "            Quando procuramos o valor mais frequente dentro da sequência 12, 20, 56, 34, 15, 5, 7, 12, 5, percebemos que tanto o número 12 quanto o número 5 se repetem duas vezes. Sem problemas! Isso significa que a sequência é bimodal, ou seja, possui duas modas. Algo semelhante ocorre com a segunda sequência, 1, 9, 2, 1, 4, 6, 5, 3, 2, 9. Nela, os números 1, 2 e 9 são os valores mais frequentes. Assim, podemos dizer que a sequência é trimodal.\n",
    "    \n",
    "   ##### Média:\n",
    "        A média aritmética é a medida de tendência central mais conhecida e mais utilizada para representar um conjunto de valores. Ela pode ser dividida em dois tipos: a média aritmética simples e a média aritmética ponderada.\n",
    "        \n",
    "        média simples:\n",
    "   <img src=\"img/media_simples.gif\" alt=\"title\" >\n",
    "    \n",
    "        média ponderada:\n",
    "   <img src=\"img/media_ponderada.gif\" alt=\"title\" >   \n",
    "    \n",
    "    \n",
    "   ##### Mediana:\n",
    "        A mediana de um conjunto de valores é o valor que está no centro desse conjunto. Desta forma, a metade dos demais elementos do conjunto ficam abaixo da mediana, ou seja, são valores menores que ela, e a outra metade dos elementos fica acima da mediana, pois são valores maiores do que ela.\n",
    "        Sempre que vocês desejarem encontrar a mediana de uma sequência, devem começar reorganizando a mesma em ordem crescente ou decrescente, tanto faz. Aí é só ficar atento aos seguintes detalhes:\n",
    "            - se a sequência apresentar número de elementos ímpar, então, a mediana será o número que ocupar a posição central do conjunto de elementos;\n",
    "            - já se a sequência apresentar número de elementos par, então, a mediana será a média aritmética simples dos dois números que estiverem no centro do conjunto de elementos.\n",
    "\n",
    "#### Medidas de dispersão:\n",
    "   ##### Variância:\n",
    "   ##### Desvio Padrão:\n",
    "   ##### Distância Interquartil (IRQ):\n",
    "   ##### Amplitude:\n",
    "\n",
    "\n",
    "#### Correlação:\n",
    "   ##### Coeficiente de Pearson:\n",
    "   ##### Coeficiente de Spearman:\n",
    "\n",
    "\n",
    "#### Medidas de Entropia:\n",
    "   ##### Entropia de Shannon:\n",
    "   ##### Entropia de Relativa (Divergência de Kulback-Leibler):\n",
    "\n"
   ]
  },
  {
   "cell_type": "code",
   "execution_count": null,
   "metadata": {},
   "outputs": [],
   "source": []
  }
 ],
 "metadata": {
  "kernelspec": {
   "display_name": "Python 3",
   "language": "python",
   "name": "python3"
  },
  "language_info": {
   "codemirror_mode": {
    "name": "ipython",
    "version": 3
   },
   "file_extension": ".py",
   "mimetype": "text/x-python",
   "name": "python",
   "nbconvert_exporter": "python",
   "pygments_lexer": "ipython3",
   "version": "3.7.3"
  }
 },
 "nbformat": 4,
 "nbformat_minor": 2
}
