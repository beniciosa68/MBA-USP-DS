{
 "cells": [
  {
   "cell_type": "markdown",
   "metadata": {},
   "source": [
    "# Avaliação I - Introdução Ciência de Dados"
   ]
  },
  {
   "cell_type": "raw",
   "metadata": {},
   "source": [
    "Determine a moda do conjunto: Z = [0,0,2,3,1,2,4,5,6,8,0,0,7,0, 5,3,1,0,7,3,2,3,4,5,6,7,8,9,1,1,2,2,3]\n",
    "Escolha uma:\n",
    "a. 5\n",
    "b. 0\n",
    "c. 3\n",
    "d. 2\n",
    "e. 7"
   ]
  },
  {
   "cell_type": "code",
   "execution_count": null,
   "metadata": {},
   "outputs": [],
   "source": []
  },
  {
   "cell_type": "raw",
   "metadata": {},
   "source": [
    "Determine a média e mediana do conjunto de dados Z = [0,0,2,3,1,2,4,5,6,8,7,5,3,1,0,7,3,2,3,4,5,6,7,8,9,1,1,2,2,3]\n",
    "Escolha uma:\n",
    "a. 3.6 e 4.5\n",
    "b. 4.5 e 3.5\n",
    "c. 4.0 e 2.5\n",
    "d. 4.0 e 4.0\n",
    "e. 3.6 e 3.0"
   ]
  },
  {
   "cell_type": "code",
   "execution_count": null,
   "metadata": {},
   "outputs": [],
   "source": []
  },
  {
   "cell_type": "raw",
   "metadata": {},
   "source": [
    "Calcule a variância, desvio padrão e distância interquantil do conjunto de dados: Z = [0,0,2,3,1,2,4,5,6,8,7,5,3,1,0,7,3,2,3,4,5,6,7,8,9,1,1,2,2,3]\n",
    "Escolha uma:\n",
    "a. 8,0, 2.7 e 3.0\n",
    "b. 7.4, 4.0 e 3.0\n",
    "c. 6.9, 2.6 e 3.75\n",
    "d. 7.4, 5.0 e 4.0\n",
    "e.  7.4, 2.7 e 2.0"
   ]
  },
  {
   "cell_type": "code",
   "execution_count": null,
   "metadata": {},
   "outputs": [],
   "source": []
  },
  {
   "cell_type": "raw",
   "metadata": {},
   "source": [
    "Para a função tangente no intervalo [-1,5,1,5], calcule os coeficientes de Pearson e Spearman.\n",
    "Escolha uma:\n",
    "a. 0.8 e 0.99\n",
    "b. 1 e 1\n",
    "c. 0.8 e 0.7\n",
    "d. 0.8 e 0.6\n",
    "e. 0.99 e 0.5"
   ]
  },
  {
   "cell_type": "code",
   "execution_count": null,
   "metadata": {},
   "outputs": [],
   "source": []
  },
  {
   "cell_type": "raw",
   "metadata": {},
   "source": [
    "Calcule a distância de Kullback-Leibler entre as variáveis X e Y, com distribuição: P = [0.15,0.25,0.6] e Q = [0.3, 0.6, 0.1]\n",
    "Escolha uma:\n",
    "a. 0.4 e 0.7\n",
    "b. 0.65 e 0.85\n",
    "c. 0.4 e 0.9\n",
    "d. 0.75 e 0.55\n",
    "e. 0.55 e 0.55"
   ]
  },
  {
   "cell_type": "code",
   "execution_count": null,
   "metadata": {},
   "outputs": [],
   "source": []
  }
 ],
 "metadata": {
  "kernelspec": {
   "display_name": "Python 3",
   "language": "python",
   "name": "python3"
  },
  "language_info": {
   "codemirror_mode": {
    "name": "ipython",
    "version": 3
   },
   "file_extension": ".py",
   "mimetype": "text/x-python",
   "name": "python",
   "nbconvert_exporter": "python",
   "pygments_lexer": "ipython3",
   "version": "3.7.3"
  }
 },
 "nbformat": 4,
 "nbformat_minor": 2
}
