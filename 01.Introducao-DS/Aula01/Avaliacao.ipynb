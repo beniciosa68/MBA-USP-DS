{
 "cells": [
  {
   "cell_type": "markdown",
   "metadata": {},
   "source": [
    "# Avaliação I - Introdução Ciência de Dados"
   ]
  },
  {
   "cell_type": "raw",
   "metadata": {},
   "source": [
    "1) Determine a moda do conjunto: Z = [0,0,2,3,1,2,4,5,6,8,0,0,7,0,5,3,1,0,7,3,2,3,4,5,6,7,8,9,1,1,2,2,3]\n",
    "Escolha uma:\n",
    "a. 5\n",
    "b. 0\n",
    "c. 3\n",
    "d. 2\n",
    "e. 7"
   ]
  },
  {
   "cell_type": "code",
   "execution_count": 2,
   "metadata": {},
   "outputs": [
    {
     "name": "stdout",
     "output_type": "stream",
     "text": [
      "A moda de Z: 0\n"
     ]
    }
   ],
   "source": [
    "Z = [0,0,2,3,1,2,4,5,6,8,0,0,7,0,5,3,1,0,7,3,2,3,4,5,6,7,8,9,1,1,2,2,3]\n",
    "\n",
    "from statistics import mode\n",
    "m = mode(Z)\n",
    "print('A moda de Z:', m)"
   ]
  },
  {
   "cell_type": "raw",
   "metadata": {},
   "source": [
    "2) Determine a média e mediana do conjunto de dados Z = [0,0,2,3,1,2,4,5,6,8,7,5,3,1,0,7,3,2,3,4,5,6,7,8,9,1,1,2,2,3]\n",
    "Escolha uma:\n",
    "a. 3.6 e 4.5\n",
    "b. 4.5 e 3.5\n",
    "c. 4.0 e 2.5\n",
    "d. 4.0 e 4.0\n",
    "e. 3.6 e 3.0"
   ]
  },
  {
   "cell_type": "code",
   "execution_count": 3,
   "metadata": {},
   "outputs": [
    {
     "name": "stdout",
     "output_type": "stream",
     "text": [
      "Média: 3.6 e Mediana: 3.0\n"
     ]
    }
   ],
   "source": [
    "import numpy as np \n",
    "\n",
    "Z = [0,0,2,3,1,2,4,5,6,8,7,5,3,1,0,7,3,2,3,4,5,6,7,8,9,1,1,2,2,3]\n",
    "\n",
    "mz = np.mean(Z)\n",
    "mz = int(mz*10)/10\n",
    "\n",
    "md = np.median(Z)\n",
    "\n",
    "print('Média:',mz,'e Mediana:',md)"
   ]
  },
  {
   "cell_type": "raw",
   "metadata": {},
   "source": [
    "3) Calcule a variância, desvio padrão e distância interquantil do conjunto de dados: Z = [0,0,2,3,1,2,4,5,6,8,7,5,3,1,0,7,3,2,3,4,5,6,7,8,9,1,1,2,2,3]\n",
    "Escolha uma:\n",
    "a. 8,0, 2.7 e 3.0\n",
    "b. 7.4, 4.0 e 3.0\n",
    "c. 6.9, 2.6 e 3.75\n",
    "d. 7.4, 5.0 e 4.0\n",
    "e.  7.4, 2.7 e 2.0"
   ]
  },
  {
   "cell_type": "code",
   "execution_count": 6,
   "metadata": {},
   "outputs": [
    {
     "name": "stdout",
     "output_type": "stream",
     "text": [
      "Variância: 6.9\n",
      "Desvio Padrão: 2.6\n",
      "Distância Interquartil: 3.75\n"
     ]
    }
   ],
   "source": [
    "import numpy as np\n",
    "import math\n",
    "from scipy.stats import iqr\n",
    "\n",
    "\n",
    "Z = [0,0,2,3,1,2,4,5,6,8,7,5,3,1,0,7,3,2,3,4,5,6,7,8,9,1,1,2,2,3]\n",
    "\n",
    "def variancia(X):\n",
    "    m = np.mean(X)\n",
    "    N = len(X)\n",
    "    s = 0\n",
    "    for i in np.arange(0, len(X)):\n",
    "        s = s + (X[i]-m)**2\n",
    "    s = s/(N-1)\n",
    "    return s\n",
    "\n",
    "def desvio(X):\n",
    "    m = np.mean(X)\n",
    "    N = len(X)\n",
    "    s = 0\n",
    "    for i in np.arange(0, len(X)):\n",
    "        s = s + (X[i]-m)**2\n",
    "    s = s/(N-1)\n",
    "    return math.sqrt(s)\n",
    "\n",
    "print('Variância:',int(variancia(Z)*10)/10)\n",
    "print('Desvio Padrão:',int(desvio(Z)*10)/10)\n",
    "print('Distância Interquartil:',iqr(Z))"
   ]
  },
  {
   "cell_type": "raw",
   "metadata": {},
   "source": [
    "4) Para a função tangente no intervalo [-1.5,1.5], calcule os coeficientes de Pearson e Spearman.\n",
    "Escolha uma:\n",
    "a. 0.8 e 0.99\n",
    "b. 1 e 1\n",
    "c. 0.8 e 0.7\n",
    "d. 0.8 e 0.6\n",
    "e. 0.99 e 0.5"
   ]
  },
  {
   "cell_type": "code",
   "execution_count": 8,
   "metadata": {},
   "outputs": [
    {
     "name": "stdout",
     "output_type": "stream",
     "text": [
      "Coeficiente de Pearson = 0.8\n",
      "Coeficiente de Spearman = 0.99\n"
     ]
    }
   ],
   "source": [
    "import numpy as np\n",
    "from scipy.stats import pearsonr, spearmanr\n",
    "intervalo = [-1.5,1.5]\n",
    "X = np.linspace(intervalo[0],intervalo[1],100) #cria um intervalo de -1.5 até 1.5 com 100 pontos\n",
    "Y = np.tan(X) #obtém tangente deste intervalo com 100 pontos\n",
    "\n",
    "corrp,p_value_p = pearsonr(X, Y)\n",
    "corrs,p_value_s = spearmanr(X, Y)\n",
    "\n",
    "corrp = int(corrp*100)/100\n",
    "corrs = int(corrs*100)/100\n",
    "\n",
    "print('Coeficiente de Pearson = '+ str(corrp))\n",
    "print('Coeficiente de Spearman = '+ str(corrs))"
   ]
  },
  {
   "cell_type": "raw",
   "metadata": {},
   "source": [
    "5) Calcule a distância de Kullback-Leibler entre as variáveis X e Y, com distribuição: P = [0.15,0.25,0.6] e Q = [0.3, 0.6, 0.1]\n",
    "Escolha uma:\n",
    "a. 0.4 e 0.7\n",
    "b. 0.65 e 0.85\n",
    "c. 0.4 e 0.9\n",
    "d. 0.75 e 0.55\n",
    "e. 0.55 e 0.55"
   ]
  },
  {
   "cell_type": "code",
   "execution_count": 14,
   "metadata": {},
   "outputs": [
    {
     "name": "stdout",
     "output_type": "stream",
     "text": [
      "KL(P,Q) =  0.75\n",
      "KL(Q,P) =  0.55\n"
     ]
    }
   ],
   "source": [
    "from scipy.stats import entropy\n",
    "\n",
    "P = [0.15,0.25,0.6]\n",
    "Q = [0.3, 0.6, 0.1]\n",
    "\n",
    "print('KL(P,Q) = ', int(entropy(P,Q, base = np.exp(1))*100)/100)\n",
    "print('KL(Q,P) = ', int(entropy(Q,P, base = np.exp(1))*100)/100)"
   ]
  },
  {
   "cell_type": "code",
   "execution_count": null,
   "metadata": {},
   "outputs": [],
   "source": []
  }
 ],
 "metadata": {
  "kernelspec": {
   "display_name": "Python 3",
   "language": "python",
   "name": "python3"
  },
  "language_info": {
   "codemirror_mode": {
    "name": "ipython",
    "version": 3
   },
   "file_extension": ".py",
   "mimetype": "text/x-python",
   "name": "python",
   "nbconvert_exporter": "python",
   "pygments_lexer": "ipython3",
   "version": "3.7.3"
  }
 },
 "nbformat": 4,
 "nbformat_minor": 2
}
