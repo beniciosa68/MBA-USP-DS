{
 "cells": [
  {
   "cell_type": "markdown",
   "metadata": {
    "colab_type": "text",
    "id": "pWXsa1oSEkX2"
   },
   "source": [
    "# Semana 1 - Resolução dos exercícios de fixação\n",
    "\n",
    "Esse notebook contém a solução dos exercícios de fixação da semana 1 de Introdução a Ciências de Dados. A ideia é os alunos tentarem solucionar os exercícios sem olhar as respostas primeiro e depois conferir.\n",
    "\n",
    "Não é necessário entregar os exercícios abaixo, mas é bom resolvê-los para fixar os conteúdos estudados.\n",
    "\n",
    "Para cada exercício, um comentário é feito em markdown explicando o conceito do exercício. Nesse momento é muito mais importante entender o funcionamento do método e sua utilidade do que o código em si, então não se preocupe tanto com ele.\n",
    "\n",
    "Qualquer dúvida procure um tutor no fórum ou na monitoria :)\n",
    "\n",
    "Universidade de São Paulo, São Carlos, Brasil.<br>\n",
    "Copyright (c) 2020."
   ]
  },
  {
   "cell_type": "code",
   "execution_count": 3,
   "metadata": {
    "colab": {},
    "colab_type": "code",
    "id": "-Vs-4Jd4EkX5"
   },
   "outputs": [],
   "source": [
    "# Para começar vamos importar bibliotecas e funções que estão sendo utilizadas\n",
    "\n",
    "# Biblioteca muito utilizada para calculos em python (talvez a mais importante), \n",
    "# é bem usual chama-la renomeando para np para evitar de ficar escrevendo numpy toda vez que formos utiliza-la \n",
    "import numpy as np \n",
    "\n",
    "# Biblioteca onde muitas funções estatisticas estao disponiveis, \n",
    "#como vamos utilizar apenas algumas funções específicas vamos importar apenas as funções que formos utilizar\n",
    "from scipy.stats import entropy, pearsonr, spearmanr\n",
    "\n",
    "# Biblioteca para realizar plots de graficos \n",
    "import matplotlib.pyplot as plt "
   ]
  },
  {
   "cell_type": "markdown",
   "metadata": {
    "colab_type": "text",
    "id": "joBoKDRzEkX-"
   },
   "source": [
    "### Exercício 1\n",
    "\n",
    "> Considere uma moeda cuja probabilidade de sair cara é $p$. Monte um gráfico da entropia em função do valor de $p$."
   ]
  },
  {
   "cell_type": "markdown",
   "metadata": {
    "colab_type": "text",
    "id": "DfCXyaZGEkX_"
   },
   "source": [
    "#### *Solução*\n",
    "\n",
    "A entropia é uma medida utilizada no meio estatístico para mensurar incertezas em distribuições ou sistemas. O objetivo desse exercício é observar essa \"incerteza\" no lançamento de uma moeda.\n",
    "\n",
    "Para montar o gráfico, siga essas etapas:  \n",
    "- Crie um vetor de probabilidades para cair um lado da moeda (de 0 a 1). Veja função np.arange() do numpy\n",
    "- Use um laço \"for\" e salve em um vetor a entropia de \"p\" e \"1-p\" que, nesse caso, seria a probabilidade para cair o outro lado da moeda.\n",
    "- Utilize a biblioteca matplotlib para criar o gráfico.\n",
    "\n",
    "Podemos observar que temos um alto grau de incerteza quando a probabilidade é 0.5 para cada um dos lados da moeda. A entropia alcança o valor 0 quando temos probabilidade 100% de cair somente um lado da moeda sempre."
   ]
  },
  {
   "cell_type": "code",
   "execution_count": 5,
   "metadata": {
    "colab": {
     "base_uri": "https://localhost:8080/",
     "height": 295
    },
    "colab_type": "code",
    "id": "HcXE0SVoEkYB",
    "outputId": "49a5d418-e1c9-4bcb-f594-61183316196e"
   },
   "outputs": [
    {
     "name": "stdout",
     "output_type": "stream",
     "text": [
      "[0.  0.1 0.2 0.3 0.4 0.5 0.6 0.7 0.8 0.9 1. ]\n",
      "[0.0, 0.46899559358928117, 0.7219280948873623, 0.8812908992306927, 0.9709505944546688, 1.0, 0.9709505944546686, 0.8812908992306926, 0.7219280948873623, 0.46899559358928117, 0.0]\n"
     ]
    },
    {
     "data": {
      "image/png": "[encoded data removed]",
      "text/plain": [
       "<Figure size 504x288 with 1 Axes>"
      ]
     },
     "metadata": {
      "needs_background": "light"
     },
     "output_type": "display_data"
    }
   ],
   "source": [
    "# Estamos criando um vetor (sequencia de varios elementos) de 0 até 1.1 com espaços de 0.1, logo\n",
    "# probabilidades = [0, 0.1, 0,2 ..., 1.0] cabe ressaltar que os intervalos são da forma [0, 1.1) \n",
    "# ou seja 1.1 não é incluso nessa lista \n",
    "probabilidades = np.arange(0, 1.1, 0.1) \n",
    "print (probabilidades)\n",
    "H = [] # Criando uma lista vazia para armazenas as entropias\n",
    "\n",
    "# Para cada elemento do vetor, vamos calcular a entropia\n",
    "for p in probabilidades: \n",
    "    \n",
    "    # Para isso, passamos os dois elementos necessarios \n",
    "    # (a propabilidade de ocorrer determinado evento,  e 1-p que é a prob de não ocorrer)\n",
    "    # a função exige que sejam passados como uma lista, por isso usamos [p, 1-p]. \n",
    "    # O resultado desse calculo é adicionado em uma lista de entropias base=2 é outro parametro\n",
    "    # da função pois por padrão ela considera e e a formula da entropia que vimos usa base 2\n",
    "    H.append(entropy([p, 1-p], base=2))\n",
    "\n",
    "print(H)\n",
    "# Para realizar o plot primeiro utilizamos essa função plt.subplots (que retorna tanto a\n",
    "# figura em si, quanto os eixos da figura, o figsize é um parâmetro de ajuste do tamanho da figura)\n",
    "fig, ax = plt.subplots(figsize=(7, 4))\n",
    "\n",
    "# Agora que criamos os plots vamos adcionar no eixo x as probailidades e no eixo y as entropias\n",
    "plt.plot(probabilidades, H)\n",
    "\n",
    "# Vamos adcionar uma legenda para o eixo x\n",
    "plt.xlabel('P')\n",
    "\n",
    "# O mesmo para o eixo y\n",
    "plt.ylabel('Entropia')\n",
    "\n",
    "# E agora um titulo para o grafico\n",
    "plt.title('Entropia vs P')\n",
    "\n",
    "# Para mostrar todos os valores do vetor de probabilidades no eixo x utilizamos o set_xticks\n",
    "# do contrario o proprio plot decide qual o melhor espacamento levando em consideração o tamanho da figura\n",
    "ax.set_xticks(probabilidades)\n",
    "\n",
    "# Por fim vamos exibir o plot na tela\n",
    "plt.show()"
   ]
  },
  {
   "cell_type": "markdown",
   "metadata": {
    "colab_type": "text",
    "id": "Np1iBIGPEkYG"
   },
   "source": [
    "### Exercício 2\n",
    "\n",
    "> Gere dados a partir de uma distribuição de Poisson. Calcula a média e variância e compare seus valores."
   ]
  },
  {
   "cell_type": "markdown",
   "metadata": {
    "colab_type": "text",
    "id": "Din1MHNDEkYH"
   },
   "source": [
    "#### *Solução*\n",
    "\n",
    "Usem a biblioteca numpy para gerar um vetor X com a distribuição de Poisson. O argumento \"size\" diz o tamanho desse vetor e o \"lam\" é o parâmetro lambda da distribuição.\n",
    "\n",
    "É esperado esse resultado pois em uma distribuição de poisson E[X] = lambda e Var[X] = lambda."
   ]
  },
  {
   "cell_type": "code",
   "execution_count": 3,
   "metadata": {
    "colab": {
     "base_uri": "https://localhost:8080/",
     "height": 34
    },
    "colab_type": "code",
    "id": "xOXZXnPyEkYI",
    "outputId": "a4a495bd-6bcd-4e0d-9a1f-4908dfeefd0f"
   },
   "outputs": [
    {
     "name": "stdout",
     "output_type": "stream",
     "text": [
      "Média: 3.994, Variância: 3.971\n"
     ]
    }
   ],
   "source": [
    "# Vamos utilizar a função possion da numpy.random para gerar os elementos\n",
    "# ela recebe como parametro lambda (que é um parâmetro da distribuição)\n",
    "# e o número de elementos contidos no vetor\n",
    "X = np.random.poisson(lam=4, size=100000)\n",
    "\n",
    "# Calculamos a media e variancia do vetor\n",
    "media = np.mean(X)\n",
    "variancia = np.var(X)\n",
    "\n",
    "# Mostrando o resultado. \n",
    "# Para a função de print, estamos passando f'' que é uma forma comum de printar os resultados.\n",
    "# dentro dessas aspas simpes colocamos o texto, e entre {} as variaveis, o número de casas\n",
    "# decimais é dado pelo :.3f  nesse caso 3 casas, que também é colocado dentro das {}\n",
    "print(f'Média: {media:.3f}, Variância: {variancia:.3f}')"
   ]
  },
  {
   "cell_type": "markdown",
   "metadata": {
    "colab_type": "text",
    "id": "ucS9s-9rEkYP"
   },
   "source": [
    "### Exercício 3\n",
    "\n",
    "> Calcula e a divergência de Kullback-Leibler entre as distribuições Normal e Poisson. Gerem os dados com mesma média e variância."
   ]
  },
  {
   "cell_type": "markdown",
   "metadata": {
    "colab_type": "text",
    "id": "BETyzkm8EkYQ"
   },
   "source": [
    "#### Solução\n",
    "\n",
    "A divergência de Kullback-Leibler mede como uma distribuição se difere de outra. Apesar de ser usada como uma função para ver \"distância\", não pode ser considerada assim pois é assimétrica. Ou seja, o resultado de entropy(X_norm, X_pois) e entropy(X_pois, X_norm) são diferentes. Sua formula é a seguinte:\n",
    "\n",
    "$$KL(p||q) = \\sum_x p(x) log\\frac{p(x)}{q(x)}$$\n",
    "\n",
    "Para calcular a divergencia precisamos das distruições $p(x)$ e $q(x)$, isto é, para cada valor de $x$ precisamos saber sua probabilidade. **Vamos obter essas probabilidades atráves de uma simulação** (no exércicio 4 usaremos outro método), ou seja, iremos gerar uma grande quantidade de dados utilizando as distribuições especificadas e contar quantas vezes cada um deles aparece. **A probabilidade de um valor aparecer será dada pelo número de ocorrencias dividido pelo total de dados**.\n",
    "\n",
    "Agora só temos um problema extra para resolver, a distribuição normal é para dados contínuos (números reias) mas a Poisson é para dados discretos (números inteiros). Vamos resolver esse problema separando nossos dados em bins ou \"caixas\", todo numero dentro do intervalo \\[1, 2) será tratado como 1, todo número dentro de [2, 3) como 2 e assim em diante. Dessa forma para cada número inteiro teramos seu número de ocorrencias."
   ]
  },
  {
   "cell_type": "code",
   "execution_count": 4,
   "metadata": {
    "colab": {
     "base_uri": "https://localhost:8080/",
     "height": 299
    },
    "colab_type": "code",
    "id": "xAF7qXb-EkYR",
    "outputId": "0d782dee-bca8-46d6-e5ac-b1affcd23094"
   },
   "outputs": [
    {
     "name": "stdout",
     "output_type": "stream",
     "text": [
      "KL(normal||poisson) = 0.4912866293296128\n",
      "KL(poisson||normal) = inf\n"
     ]
    },
    {
     "data": {
      "image/png": "[encoded data removed]",
      "text/plain": [
       "<Figure size 432x288 with 1 Axes>"
      ]
     },
     "metadata": {
      "tags": []
     },
     "output_type": "display_data"
    }
   ],
   "source": [
    "# Definindo o número de dados que iremos gerar na nossa simulação\n",
    "N = 1000\n",
    "\n",
    "# Vamos utilizar a função np.random.normal para gerar N dados vindos de uma distri-\n",
    "# buição normal. Perceba que passamos como parâmetro a média e a variancia da normal\n",
    "# que estamos amostrando, parametros loc e scale respectivamente\n",
    "X_norm = np.random.normal(loc=4, scale=1, size=N)\n",
    "\n",
    "# Processo analogo para os dados vindos da distribuição de Poisson\n",
    "X_pois = np.random.poisson(lam=5, size=N)\n",
    "\n",
    "# Vamos pegar o menor e o maior dado gerado pelas duas distribuições, para\n",
    "# isso vamos pegar o minimo entre o menor valor de cada e máximo entre o maior\n",
    "# valor de cada.\n",
    "min_val = min(np.min(X_norm), np.min(X_pois))\n",
    "max_val = max(np.max(X_norm), np.max(X_pois))\n",
    "\n",
    "# Bins especificam os intervalos que as contagens serão realizadas, por exemplo:\n",
    "# bins = [0, 1, 2, 3] ira contar os valores entre [0, 1), [1, 2), [2, 3)\n",
    "# já bins = [0, 2, 4, 6] ira contar os valores entre [0, 2), [2, 4), [4, 6)\n",
    "# No nosso caso vamos do floor(arrendondar decimal para inteiro de baixo) do menor\n",
    "# até o floor do maior. Estamos somando dois porque tanto o intervalo do arange, quanto o\n",
    "# dos bins é aberto. (Não se preocupe tanto com esses detalhes de código, logo tudo vai\n",
    "# ficar mais claro :D)\n",
    "bins = np.arange(np.floor(min_val), np.floor(max_val)+2)\n",
    "\n",
    "# A função np.histogram realiza a contagem dos valores dentro de intervalo e retorna duas\n",
    "# listas, uma com as contagens e outra com os bins usados para realizar a contagem\n",
    "p_norm = np.histogram(X_norm, bins=bins)\n",
    "p_pois = np.histogram(X_pois, bins=bins)\n",
    "\n",
    "# Vamos pegar apenas as contagens e para os valores vamos usar apenas as partes de baixo de \n",
    "# cada intervalo (ignoramos o ultimo pq como vimos o intervalo vai de bins[n] a bins[n+1])\n",
    "# já que como dito iremos contar 2.5 como 2, por exemplo.\n",
    "p_norm, p_pois, values = p_norm[0], p_pois[0], p_norm[1][:-1]\n",
    "\n",
    "# Vamos dividir cada ocorrencia pelo somatorio total dos dados para obter um valor\n",
    "# entre 0 e 1, podendo portanto representar uma probabilidade\n",
    "p_norm, p_pois = p_norm / np.sum(p_norm), p_pois / np.sum(p_pois)\n",
    "\n",
    "# Vamos olhar como essas distribuições ficaram em um gráfico (não seria obrigatório)\n",
    "plt.bar(values, p_norm, alpha=0.5, label='Binomial')\n",
    "plt.bar(values, p_pois, alpha=0.5, label='Poisson')\n",
    "plt.legend()\n",
    "\n",
    "# Vamos calcular a divergencia KL. Perceba que invertendo as distribuições não temos o mesmo resultado\n",
    "print('KL(normal||poisson) =', entropy(p_norm, p_pois))\n",
    "print('KL(poisson||normal) =', entropy(p_pois, p_norm))"
   ]
  },
  {
   "cell_type": "markdown",
   "metadata": {
    "colab_type": "text",
    "id": "vWttbBmnEkYX"
   },
   "source": [
    "### Exercício 4\n",
    "\n",
    "> Calcula e a divergência de Kullback-Leibler entre as distribuições Binomial e Poisson. Gerem os dados com mesma média e variância."
   ]
  },
  {
   "cell_type": "markdown",
   "metadata": {
    "colab_type": "text",
    "id": "qRY5rraQEkYZ"
   },
   "source": [
    "#### Solução\n",
    "\n",
    "Dessa vez, como ambas as distribuições de interesse são discretas, nosso trabalho será mais simples. **Ao invés de obter os dados com uma simulação usaremos o próprio valor téorico da probabilidade**, de acordo com cada distribuição. Por exemplo, sabemos que a probabilidade para um $x$ qualquer com dados vindos de uma distribuição binomial com $n$ repetições e probabilidade de sucesso $p$ é dado por:\n",
    "\n",
    "$$P(X=x) = {n\\choose x}p^x(1-p)^{n-x}$$\n",
    "\n",
    "Então podemos simplesmente **calcular essa probabilidades para vários valores $x$ usando as fórmulas das distribuições**.\n",
    "\n",
    "Por sorte a biblioteca scipy já possui funções que calculam esses valores sem mesmo precisarmos usar as fórmulas. Iremos usar essas funções para obter as probabilidades de cada x em ambas as distribuições e com esses valores calcular a divergencia KL.\n"
   ]
  },
  {
   "cell_type": "code",
   "execution_count": 5,
   "metadata": {
    "colab": {
     "base_uri": "https://localhost:8080/",
     "height": 299
    },
    "colab_type": "code",
    "id": "X5eAQeTUEkYa",
    "outputId": "4bbabacb-8589-49c1-f939-c1593233c58b",
    "scrolled": true
   },
   "outputs": [
    {
     "name": "stdout",
     "output_type": "stream",
     "text": [
      "KL(binomial||poisson) = 0.261074350708247\n",
      "KL(poisson||binomial) = inf\n"
     ]
    },
    {
     "data": {
      "image/png": "[encoded data removed]",
      "text/plain": [
       "<Figure size 432x288 with 1 Axes>"
      ]
     },
     "metadata": {
      "tags": []
     },
     "output_type": "display_data"
    }
   ],
   "source": [
    "# Importando as funções que irão calcular as probabilidades\n",
    "from scipy.stats import binom, poisson\n",
    "\n",
    "# Gerando um vetor com os valores que iremos calcular a probabilidade\n",
    "# no caso numeros de 0 até 20\n",
    "values = np.arange(20)\n",
    "\n",
    "# Estamos especificando que queremos um distribuição binomial com n=10 e p=5,\n",
    "# em seguida pedimos a função massa de probabilidade (probability mass function - pmf)\n",
    "# para os valores que definimos anteriormente\n",
    "p_bin = binom(10, 0.6).pmf(values)\n",
    "\n",
    "# Processo análogo, porem dessa vez para uma distribuição poisson com lambda = 5\n",
    "p_pois = poisson(5).pmf(values)\n",
    "\n",
    "# Vamos observar as distribuições geradas (não seria obrigatório)\n",
    "plt.bar(values, p_bin, alpha=0.5, label='Binomial')\n",
    "plt.bar(values, p_pois, alpha=0.5, label='Poisson')\n",
    "plt.legend()\n",
    "\n",
    "# Finalmente podemos calcular a divergencia KL\n",
    "print('KL(binomial||poisson) =', entropy(p_bin, p_pois))\n",
    "print('KL(poisson||binomial) =', entropy(p_pois, p_bin))"
   ]
  },
  {
   "cell_type": "markdown",
   "metadata": {
    "colab_type": "text",
    "id": "f0W7msioEkYe"
   },
   "source": [
    "### Exercício 5\n",
    "\n",
    "> Para a função log(), investigue como as correlações de Pearson e Spearman variam de acordo com o intervalo dos dados."
   ]
  },
  {
   "cell_type": "markdown",
   "metadata": {
    "colab_type": "text",
    "id": "7dIkaQ_WEkYf"
   },
   "source": [
    "#### Solução\n",
    "\n",
    "A função np.arange(10,100,10) retorna um vetor que começa em 10, termina em 100 e \"caminha\" de 10 em 10. Usamos esse vetor para criar os intervalos para a função log() e cada laço do \"for\" deve calcular um valor de correlações de Pearson e Spearman.\n",
    "\n",
    "A correlação de Pearson é igual a 1 se, conforme uma variável x aumenta, a variável y continua a aumentar em uma proporção que é sempre a mesma. A correlação de Spearman não leva em conta essa proporção.\n",
    "\n",
    "Conforme usamos um intervalo maior da função log, essa \"proporção\" citada acima se torna cada vez menor pois a função vai se estabilizando mesmo com x aumentando (como pode ser visto no gráfico), então, a correlação de Pearson se torna cada vez menor, porém, a de Spearman é constante."
   ]
  },
  {
   "cell_type": "code",
   "execution_count": 6,
   "metadata": {
    "colab": {
     "base_uri": "https://localhost:8080/",
     "height": 170
    },
    "colab_type": "code",
    "id": "N1Z8j7O-EkYg",
    "outputId": "56e253ac-873d-4972-b302-9be099ffd9e2"
   },
   "outputs": [
    {
     "name": "stdout",
     "output_type": "stream",
     "text": [
      "Intervalo [1, 10] - Pearson: 0.96, Spearman: 1.0\n",
      "Intervalo [1, 20] - Pearson: 0.94, Spearman: 1.0\n",
      "Intervalo [1, 30] - Pearson: 0.93, Spearman: 1.0\n",
      "Intervalo [1, 40] - Pearson: 0.93, Spearman: 1.0\n",
      "Intervalo [1, 50] - Pearson: 0.92, Spearman: 1.0\n",
      "Intervalo [1, 60] - Pearson: 0.92, Spearman: 1.0\n",
      "Intervalo [1, 70] - Pearson: 0.91, Spearman: 1.0\n",
      "Intervalo [1, 80] - Pearson: 0.91, Spearman: 1.0\n",
      "Intervalo [1, 90] - Pearson: 0.91, Spearman: 1.0\n"
     ]
    }
   ],
   "source": [
    "# Variando o tamanho do intervalo, cabe ressaltar que o inicio é fixo em 1\n",
    "for stop in np.arange(10, 100, 10):\n",
    "    \n",
    "    # Vamos criar um vetor de 1000 elementos igualmente espaçados entre start e stop\n",
    "    x = np.linspace(start=1, stop=stop, num=1000)\n",
    "    \n",
    "    # Aplicando a função logaritmica\n",
    "    y = np.log(x)\n",
    "    \n",
    "    # Calculando a correlação de pearson e de spearman\n",
    "    # Como as funções abaixo retornam também o valor p, mas não é algo que será utilizado no exercício\n",
    "    # atribuimos a uma variavel qualquer, nesse caso _\n",
    "    corr_pearson, _ = pearsonr(x, y)\n",
    "    corr_spearman, _ = spearmanr(x, y)\n",
    "    \n",
    "    print(f'Intervalo [1, {stop}] - Pearson: {corr_pearson:.2f}, Spearman: {corr_spearman}')"
   ]
  },
  {
   "cell_type": "code",
   "execution_count": 7,
   "metadata": {
    "colab": {
     "base_uri": "https://localhost:8080/",
     "height": 295
    },
    "colab_type": "code",
    "id": "NtIK129PEkYm",
    "outputId": "310103f8-dd5b-45fc-e0fb-5e22f82d210b"
   },
   "outputs": [
    {
     "data": {
      "image/png": "[encoded data removed]",
      "text/plain": [
       "<Figure size 432x288 with 1 Axes>"
      ]
     },
     "metadata": {
      "tags": []
     },
     "output_type": "display_data"
    }
   ],
   "source": [
    "plt.plot(x, y)\n",
    "plt.title(\"Função log\")\n",
    "plt.xlabel(\"x\")\n",
    "plt.ylabel(\"log(x)\");"
   ]
  },
  {
   "cell_type": "code",
   "execution_count": 0,
   "metadata": {
    "colab": {},
    "colab_type": "code",
    "id": "K4twYCukEkYt"
   },
   "outputs": [],
   "source": []
  }
 ],
 "metadata": {
  "colab": {
   "collapsed_sections": [],
   "name": "Aula01_exercicios.ipynb",
   "provenance": []
  },
  "kernelspec": {
   "display_name": "Python 3",
   "language": "python",
   "name": "python3"
  },
  "language_info": {
   "codemirror_mode": {
    "name": "ipython",
    "version": 3
   },
   "file_extension": ".py",
   "mimetype": "text/x-python",
   "name": "python",
   "nbconvert_exporter": "python",
   "pygments_lexer": "ipython3",
   "version": "3.7.3"
  }
 },
 "nbformat": 4,
 "nbformat_minor": 1
}
