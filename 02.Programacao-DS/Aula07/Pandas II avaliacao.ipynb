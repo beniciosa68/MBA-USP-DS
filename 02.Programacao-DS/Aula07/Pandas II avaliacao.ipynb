{
 "cells": [
  {
   "cell_type": "markdown",
   "metadata": {},
   "source": [
    "# <span style=\"color:blue\"> MBA em Ciência de Dados</span>\n",
    "# <span style=\"color:blue\">Programação para Ciência de Dados</span>\n",
    "\n",
    "## <span style=\"color:blue\">Avaliação Pandas II</span>\n",
    "**Material Produzido por Luis Gustavo Nonato**<br>\n",
    "**Cemeai - ICMC/USP São Carlos**"
   ]
  },
  {
   "cell_type": "code",
   "execution_count": 53,
   "metadata": {},
   "outputs": [],
   "source": [
    "import pandas as pd\n",
    "import numpy as np\n",
    "\n",
    "escolas = pd.DataFrame(pd.read_csv('data\\ESC2013_RMSP_CEM.csv'))\n",
    "enem = pd.DataFrame(pd.read_csv('data\\ENEM2015.csv'))"
   ]
  },
  {
   "cell_type": "markdown",
   "metadata": {},
   "source": [
    "### Exercício 1)\n",
    "\n",
    "Carregue os arquivos <font color='red'>ESC2013_RMSP_CEM.csv</font> e <font color='red'>ENEM2015.csv</font>, armazenando-os em variáveis tipo DataFrame chamadas escolas e enem respectivamente. Os arquivos <font color='red'>ESC2013_RMSP_CEM.csv</font> e <font color='red'>ENEM2015.csv</font> possuem em comum o código das escolas, os quais estão armazenados nas colunas <b>CODESC</b> e <b>CODIGO DA ENTIDADE</b>, respectivamente. Quantas escolas cujo código aparece no arquivo <font color='red'>ENEM2015.csv</font> tambem aparecem em <font color='red'>ESC2013_RMSP_CEM.csv</font>?\n",
    "\n",
    "Escolha uma:<br>\n",
    "<b>a. 1243 escolas</b><br>\n",
    "<b>b. 1043 escolas</b><br>\n",
    "<b>c. 1003 escolas</b><br>\n",
    "<b>d. 10243 escolas</b><br>"
   ]
  },
  {
   "cell_type": "code",
   "execution_count": 9,
   "metadata": {},
   "outputs": [
    {
     "name": "stdout",
     "output_type": "stream",
     "text": [
      "Resposta: 1243 escolas\n"
     ]
    }
   ],
   "source": [
    "print('Resposta: ' + str(len(pd.merge(escolas, enem,left_on='CODESC',right_on='CODIGO DA ENTIDADE'))) + ' escolas')"
   ]
  },
  {
   "cell_type": "markdown",
   "metadata": {},
   "source": [
    "### Exercício 2)\n",
    "\n",
    "Verifique quantos valores faltantes existem em cada um dos DataFrames:\n",
    "\n",
    "Escolha uma:<br>\n",
    "<b>a. escolas : 7346 valores faltantes; enem : 103 valores faltantes</b><br>\n",
    "<b>b. escolas : 776346 valores faltantes; enem : 0 valores faltantes</b><br>\n",
    "<b>c. escolas : 776346 valores faltantes; enem : 1 valor faltante</b><br>\n",
    "<b>d. escolas : 7346 valores faltantes; enem : 10 valores faltantes</b><br>"
   ]
  },
  {
   "cell_type": "code",
   "execution_count": 28,
   "metadata": {},
   "outputs": [
    {
     "name": "stdout",
     "output_type": "stream",
     "text": [
      "Resposta: escolas: 776346 valor(es) faltante(s); enem: 1 valor(es) faltante(s)\n"
     ]
    }
   ],
   "source": [
    "print('Resposta: ' + 'escolas: '+ str(escolas.isnull().sum().sum()) + ' valor(es) faltante(s); enem: ' + str(enem.isnull().sum().sum()) + ' valor(es) faltante(s)')"
   ]
  },
  {
   "cell_type": "markdown",
   "metadata": {},
   "source": [
    "### Exercício 3)\n",
    "Em cada DataFrame, qual o índice da linha que possui o maior número de valores faltantes.\n",
    "\n",
    "<b>Dica</b>: Utilize uma combinação dos comandos isna, sum e idxmax do pandas\n",
    "\n",
    "Escolha uma:<br>\n",
    "<b>a. escolas : linha de índice 3433; enem : linha de índice 103</b><br>\n",
    "<b>b. escolas : linha de índice 3431; enem : linha de índice 1182</b><br>\n",
    "<b>c. escolas : linha de índice 6346; enem : linha de índice 1020</b><br>\n",
    "<b>d. escolas : linha de índice 6350; enem : linha de índice 1100</b><br>"
   ]
  },
  {
   "cell_type": "code",
   "execution_count": 58,
   "metadata": {},
   "outputs": [
    {
     "name": "stdout",
     "output_type": "stream",
     "text": [
      "Resposta: escolas: linha de índice 3431; enem: linha de índice 1182\n"
     ]
    }
   ],
   "source": [
    "print('Resposta: ' + 'escolas: linha de índice ' + str(escolas.isnull().sum(axis=1).idxmax()) + '; enem: linha de índice ' + str(enem.isnull().sum(axis=1).idxmax()))"
   ]
  },
  {
   "cell_type": "markdown",
   "metadata": {},
   "source": [
    "### Exercício 4)\n",
    "O DataFrame enem possui valores faltantes na coluna 'Classificacao'. Preencha os valores faltantes com o valor da 'moda' da coluna. Qual o valor da moda utilizado para preencher os valores faltantes?\n",
    "\n",
    "Escolha uma:<br>\n",
    "<b>a. 1</b><br>\n",
    "<b>b. 2</b><br>\n",
    "<b>c. 3</b><br>\n",
    "<b>d. 4</b><br>"
   ]
  },
  {
   "cell_type": "code",
   "execution_count": 56,
   "metadata": {},
   "outputs": [
    {
     "name": "stdout",
     "output_type": "stream",
     "text": [
      "Resposta:  2\n",
      "\n",
      "Valor antes do fillna: nan\n",
      "Valor depois do fillna: 2.0\n"
     ]
    }
   ],
   "source": [
    "from scipy import stats\n",
    "\n",
    "moda = stats.mode(enem['Classificacao'])\n",
    "\n",
    "enem_without_nan = enem.fillna({'Classificacao': int(moda[0])})\n",
    "\n",
    "print('Resposta: ', int(moda[0]))\n",
    "print()\n",
    "print('Valor antes do fillna: ' + str(enem['Classificacao'][enem.isnull().sum(axis=1).idxmax()]))\n",
    "print('Valor depois do fillna: ' + str(enem_without_nan['Classificacao'][enem.isnull().sum(axis=1).idxmax()]))"
   ]
  },
  {
   "cell_type": "markdown",
   "metadata": {},
   "source": [
    "### Exercício 5)\n",
    "Os arquivos <font color='red'>ESC2013_RMSP_CEM.csv</font> e <font color='red'>ENEM2015.csv</font> possuem em comum o código das escolas, os quais estão armazenados nas colunas <b>CODESC</b> e <b>CODIGO DA ENTIDADE</b>, respectivamente. Busque na coluna <b>'NUMERO DE PARTICIPANTES'</b> do DataFrame enem o código da escola que possui o  maior número de participantes no ENEM. Utilizando o código obtido, imprima o nome da escola correspondente (armazenado na coluna <b>'NOMEESC'</b> do DataFrame escolas ). A escola com o maior  número de participantes é:\n",
    "\n",
    "Escolha uma:<br>\n",
    "<b>a. AGENOR LINO DE MATOS</b><br>\n",
    "<b>b. OSWALDO SAMMARTINO</b><br>\n",
    "<b>c. BRASILIO FLORES DE AZEVEDO</b><br>\n",
    "<b>d. THAMARA CORREA DE MATOS</b><br>"
   ]
  },
  {
   "cell_type": "code",
   "execution_count": 101,
   "metadata": {
    "scrolled": true
   },
   "outputs": [
    {
     "name": "stdout",
     "output_type": "stream",
     "text": [
      "Resposta:  BRASILIO FLORES DE AZEVEDO\n"
     ]
    }
   ],
   "source": [
    "#mascara para procurar o maior numero de participantes\n",
    "mask = (max(enem.sort_values('NUMERO DE PARTICIPANTES')['NUMERO DE PARTICIPANTES']) == enem['NUMERO DE PARTICIPANTES'])\n",
    "\n",
    "#aplica mascara no campo CODIGO DA ENTIDADE para achar o código da escola\n",
    "cod_escola_max_enem = list(enem[mask]['CODIGO DA ENTIDADE'])[0]\n",
    "\n",
    "#query no df escolas passando pro CODESC = código da escola encontrado no df enem e pedindo pra retornar o valor da coluna NOMEESC\n",
    "#obs: dado o tipo de objeto retornado, converto pra lista e trago o elemento 0, para trazer o nome limpo da escola\n",
    "nome_escola = list(escolas.query('CODESC == ' + str(cod_escola_max_enem))['NOMEESC'])[0]\n",
    "\n",
    "print('Resposta: ', nome_escola)"
   ]
  }
 ],
 "metadata": {
  "kernelspec": {
   "display_name": "Python 3",
   "language": "python",
   "name": "python3"
  },
  "language_info": {
   "codemirror_mode": {
    "name": "ipython",
    "version": 3
   },
   "file_extension": ".py",
   "mimetype": "text/x-python",
   "name": "python",
   "nbconvert_exporter": "python",
   "pygments_lexer": "ipython3",
   "version": "3.7.6"
  }
 },
 "nbformat": 4,
 "nbformat_minor": 2
}
