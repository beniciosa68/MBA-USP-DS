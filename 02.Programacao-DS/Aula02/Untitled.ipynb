{
 "cells": [
  {
   "cell_type": "code",
   "execution_count": null,
   "metadata": {},
   "outputs": [],
   "source": [
    "import panel as pn\n",
    "import altair as alt\n",
    "from altair import datum\n",
    "import pandas as pd\n",
    "from vega_datasets import data\n",
    "import datetime as dt"
   ]
  },
  {
   "cell_type": "code",
   "execution_count": 1,
   "metadata": {},
   "outputs": [
    {
     "ename": "SyntaxError",
     "evalue": "invalid character in identifier (<ipython-input-1-ab74757b6e0d>, line 1)",
     "output_type": "error",
     "traceback": [
      "\u001b[1;36m  File \u001b[1;32m\"<ipython-input-1-ab74757b6e0d>\"\u001b[1;36m, line \u001b[1;32m1\u001b[0m\n\u001b[1;33m    alt.renderers.enable(‘default’)\u001b[0m\n\u001b[1;37m                                 ^\u001b[0m\n\u001b[1;31mSyntaxError\u001b[0m\u001b[1;31m:\u001b[0m invalid character in identifier\n"
     ]
    }
   ],
   "source": [
    "alt.renderers.enable(‘default')\n",
    "pn.extension(‘vega’)"
   ]
  },
  {
   "cell_type": "code",
   "execution_count": null,
   "metadata": {},
   "outputs": [],
   "source": [
    "# create list of company names (tickers) to use as options\n",
    "tickers = [‘AAPL’, ‘GOOG’, ‘IBM’, ‘MSFT’]\n",
    "# this creates the dropdown widget\n",
    "ticker = pn.widgets.Select(name=’Company’, options=tickers)"
   ]
  },
  {
   "cell_type": "code",
   "execution_count": null,
   "metadata": {},
   "outputs": [],
   "source": [
    "# this creates the date range slider\n",
    "date_range_slider = pn.widgets.DateRangeSlider(\n",
    "name=’Date Range Slider’,\n",
    "start=dt.datetime(2001, 1, 1), end=dt.datetime(2010, 1, 1),\n",
    "value=(dt.datetime(2001, 1, 1), dt.datetime(2010, 1, 1)))"
   ]
  },
  {
   "cell_type": "code",
   "execution_count": null,
   "metadata": {},
   "outputs": [],
   "source": [
    "title = ‘### Stock Price Dashboard’\n",
    "subtitle = ‘This dashboard allows you to select a company and date range to see stock prices.’"
   ]
  },
  {
   "cell_type": "code",
   "execution_count": null,
   "metadata": {},
   "outputs": [],
   "source": [
    "@pn.depends(ticker.param.value, date_range_slider.param.value)"
   ]
  },
  {
   "cell_type": "code",
   "execution_count": null,
   "metadata": {},
   "outputs": [],
   "source": [
    "def get_plot(ticker, date_range):\n",
    "     # Load and format the data\n",
    "     df = source # define df\n",
    "     df[‘date’] = pd.to_datetime(df[‘date’])\n",
    "     # create date filter using values from the range slider\n",
    "     # store the first and last date range slider value in a var\n",
    "     start_date = date_range_slider.value[0] \n",
    "     end_date = date_range_slider.value[1] \n",
    "     # create filter mask for the dataframe\n",
    "     mask = (df[‘date’] > start_date) & (df[‘date’] <= end_date)\n",
    "     df = df.loc[mask] # filter the dataframe\n",
    "     # create the Altair chart object\n",
    "     chart = alt.Chart(df).mark_line().encode(x=’date’, y=‘price’,      tooltip=alt.Tooltip([‘date’,’price’])).transform_filter(\n",
    "(datum.symbol == ticker) # this ties in the filter \n",
    ")\n",
    "     return chart"
   ]
  },
  {
   "cell_type": "code",
   "execution_count": null,
   "metadata": {},
   "outputs": [],
   "source": [
    "dashboard = pn.Row(pn.Column(title, subtitle, ticker, date_range_slider),\n",
    "get_plot # our draw chart function!\n",
    ")"
   ]
  },
  {
   "cell_type": "code",
   "execution_count": null,
   "metadata": {},
   "outputs": [],
   "source": [
    "dashboard.servable()"
   ]
  },
  {
   "cell_type": "code",
   "execution_count": null,
   "metadata": {},
   "outputs": [],
   "source": [
    "panel serve --show panel-altair-demo.ipynb"
   ]
  },
  {
   "cell_type": "code",
   "execution_count": null,
   "metadata": {},
   "outputs": [],
   "source": []
  }
 ],
 "metadata": {
  "kernelspec": {
   "display_name": "Python 3",
   "language": "python",
   "name": "python3"
  },
  "language_info": {
   "codemirror_mode": {
    "name": "ipython",
    "version": 3
   },
   "file_extension": ".py",
   "mimetype": "text/x-python",
   "name": "python",
   "nbconvert_exporter": "python",
   "pygments_lexer": "ipython3",
   "version": "3.7.6"
  }
 },
 "nbformat": 4,
 "nbformat_minor": 4
}
