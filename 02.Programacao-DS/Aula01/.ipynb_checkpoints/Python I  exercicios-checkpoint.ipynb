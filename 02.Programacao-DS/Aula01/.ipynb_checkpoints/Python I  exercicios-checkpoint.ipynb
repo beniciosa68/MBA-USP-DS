{
 "cells": [
  {
   "cell_type": "markdown",
   "metadata": {},
   "source": [
    "# <span style=\"color:blue\"> MBA em Ciência de Dados</span>\n",
    "# <span style=\"color:blue\">Programação para Ciência de Dados</span>\n",
    "\n",
    "## <span style=\"color:blue\">Exercícios Python Parte I</span>\n",
    "**Material Produzido por Luis Gustavo Nonato**<br>\n",
    "**Cemeai - ICMC/USP São Carlos**"
   ]
  },
  {
   "cell_type": "markdown",
   "metadata": {},
   "source": [
    "#### <span style=\"color:red\">Recomenda-se fortemente que os exercícios sejam feitos sem consultar as respostas antecipadamente.</span>"
   ]
  },
  {
   "cell_type": "markdown",
   "metadata": {},
   "source": [
    "### Exercício 1)\n",
    "Declare duas variáveis chamadas *preco_dolar* e *preco_celular_em_dolar* com os valores *4.12* e *849*, respectivamente. Realize a conversão do preço desso celular para real e imprima o resultado"
   ]
  },
  {
   "cell_type": "code",
   "execution_count": 3,
   "metadata": {},
   "outputs": [
    {
     "name": "stdout",
     "output_type": "stream",
     "text": [
      "3497.88\n"
     ]
    }
   ],
   "source": [
    "# escreva o codigo nesta celula \n",
    "preco_dolar=4.12\n",
    "preco_celular_em_dolar=849\n",
    "\n",
    "preco_real = preco_dolar * preco_celular_em_dolar\n",
    "print(preco_real)"
   ]
  },
  {
   "cell_type": "markdown",
   "metadata": {},
   "source": [
    "### Exercício 2)\n",
    "Considere o conjunto de valores armazenados na lista `valores` descrita abaixo. Utilizando um laço \"_for_\" percorra a lista e calcule:\n",
    "- A média dos valores\n",
    "- O maior valor\n",
    "- O menor valor\n",
    "\n",
    "Armazene os resultados nas variáveis *media*, *maximo* e *minimo*. Imprima os valores obtidos."
   ]
  },
  {
   "cell_type": "code",
   "execution_count": 9,
   "metadata": {},
   "outputs": [
    {
     "name": "stdout",
     "output_type": "stream",
     "text": [
      "Media =  0.11705882352941177\n",
      "Maximo =  0.99\n",
      "Minimo =  -0.97\n"
     ]
    }
   ],
   "source": [
    "valores = [-0.85,-0.64,0.93,0.73,0.34,0.90,0.39,\n",
    "           0.04,0.32,0.99,-0.71,-0.97,0.04,0.30,0.47,0.46,-0.75]\n",
    "\n",
    "# escreva o codigo aqui\n",
    "soma = 0\n",
    "\n",
    "for val in valores:\n",
    "    soma = soma + val\n",
    "\n",
    "media = soma / len(valores)\n",
    "maximo = max(valores)\n",
    "minimo = min(valores)\n",
    "\n",
    "print('Media = ',media)\n",
    "print('Maximo = ',maximo)\n",
    "print('Minimo = ',minimo)"
   ]
  },
  {
   "cell_type": "markdown",
   "metadata": {},
   "source": [
    "### Exercício 3)\n",
    "Dada a lista `meus_numeros` abaixo, crie uma nova lista chamada `meus_numeros3` contendo apenas elementos de `meus_numeros` que são multiplos de 3.\n",
    "\n",
    "__Dica:__ Utilize o operador binário <font color='blue'>'%'</font> que retorna o resto da divisão de um número por outro. Por exemplo:\n",
    "```python\n",
    "print(22%6)\n",
    "```\n",
    "resulta no valor 4"
   ]
  },
  {
   "cell_type": "code",
   "execution_count": 11,
   "metadata": {},
   "outputs": [
    {
     "name": "stdout",
     "output_type": "stream",
     "text": [
      "[342, 12, 45, 123, 567]\n"
     ]
    }
   ],
   "source": [
    "meus_numeros = [1, 56, 342, 12, 781, 23, 43, 45, 123, 567]\n",
    "\n",
    "# escreva o codigo aqui\n",
    "meus_numeros3 = []\n",
    "\n",
    "for val in meus_numeros:\n",
    "    resto = val%3\n",
    "    if  resto == 0:\n",
    "        meus_numeros3.append(val)\n",
    "        \n",
    "print(meus_numeros3)"
   ]
  },
  {
   "cell_type": "markdown",
   "metadata": {},
   "source": [
    "### Exercício 4)\n",
    "Considere a lista `minha_lista` declarada abaixo. \n",
    "- Utilizando \"slicing\", imprima o subconjunto de elementos entre o segundo e o quarto elemento (inclusive)\n",
    "- Gere uma nova lista chamada `maiores4` contendo os elementos da lista `minha_lista` que possuam quatro caracteres ou mais.\n",
    "- Gere uma nova lista chamada `j_ou_c` contendo os elementos da lista `minha_lista` que começam com a letra j ou com a letra c."
   ]
  },
  {
   "cell_type": "code",
   "execution_count": 15,
   "metadata": {},
   "outputs": [
    {
     "name": "stdout",
     "output_type": "stream",
     "text": [
      "['java', 'c++', 'javascript', 'c#']\n",
      "['python', 'java', 'javascript']\n",
      "['java', 'c++', 'javascript', 'c#']\n"
     ]
    }
   ],
   "source": [
    "minha_lista = ['python', 'java', 'c++', 'javascript', 'c#', 'go', 'r']\n",
    "\n",
    "# escreva o codigo aqui\n",
    "subconj = minha_lista[1:5]\n",
    "maiores4 = []\n",
    "j_ou_c = []\n",
    "\n",
    "for val in minha_lista:\n",
    "    if len(val) >= 4:\n",
    "        maiores4.append(val)\n",
    "\n",
    "    if val[0] == 'j' or val[0] == 'c':\n",
    "        j_ou_c.append(val)\n",
    "    \n",
    "print(subconj)\n",
    "print(maiores4)\n",
    "print(j_ou_c)"
   ]
  },
  {
   "cell_type": "markdown",
   "metadata": {},
   "source": [
    "### Exercício 5) \n",
    "Considere a lista `minhas_notas` definida abaixo, onde cada elemento é uma lista que representa notas dadas a um produto. Calcule a média de notas de cada produto, salvando o resultado em uma nova lista chamada `notas_medias`.\n",
    "\n",
    "__Dica:__ Utilize o comando <font color='blue'>'sum'</font> do Python para somar os valores em uma lista. Por exemplo:\n",
    "```python\n",
    "ls = [1,1,1,1,1]\n",
    "print(sum(ls))\n",
    "```\n",
    "resulta no valor 5"
   ]
  },
  {
   "cell_type": "code",
   "execution_count": 21,
   "metadata": {},
   "outputs": [
    {
     "name": "stdout",
     "output_type": "stream",
     "text": [
      "[2.6666666666666665, 5.7749999999999995, 8.16, 8.7, 3.5250000000000004]\n"
     ]
    }
   ],
   "source": [
    "minhas_notas = [[2.3, 4.5, 1.2], # Notas do produto 1\n",
    "                [5.4, 3.6, 7.9, 6.2], # Notas do produto 2\n",
    "                [8.1, 8.9, 6.5, 7.9, 9.4], # ...\n",
    "                [9.8, 7.6],\n",
    "                [3.2, 4.5, 1.6, 4.8]]\n",
    "\n",
    "# escreva o codigo aqui\n",
    "notas_medias = []\n",
    "\n",
    "for val in minhas_notas:\n",
    "    notas_medias.append(sum(val)/len(val))\n",
    "\n",
    "print(notas_medias)"
   ]
  },
  {
   "cell_type": "markdown",
   "metadata": {},
   "source": [
    "### Exercício 6) \n",
    "Considerando a lista `nomes` a abaixo:\n",
    "- crie uma nova lista chamada `nomes_o` com os elementos da lista `nomes` que possuam a letra  'o' como parte do nome. Para isso, utilize o comando <font color='blue'>'in'</font> disponível no Python para verificar se uma substring está contida em outra. Por exemplo, o código abaixo:\n",
    "```python\n",
    "print('us' in 'Gustavo')\n",
    "```\n",
    "imprime como resultado:\n",
    "```python\n",
    "True\n",
    "```\n"
   ]
  },
  {
   "cell_type": "code",
   "execution_count": 22,
   "metadata": {},
   "outputs": [
    {
     "name": "stdout",
     "output_type": "stream",
     "text": [
      "['Gustavo', 'Hugo', 'Ricardo']\n"
     ]
    }
   ],
   "source": [
    "nomes = ['Matheus', 'Gabriel', 'Gustavo', 'Hugo', 'Ricardo', 'Rui', 'Guilherme', 'Luiz']\n",
    "\n",
    "# escreva o codigo aqui\n",
    "nomes_o = []\n",
    "\n",
    "for val in nomes:\n",
    "    if 'o' in val:\n",
    "        nomes_o.append(val)\n",
    "        \n",
    "print(nomes_o)"
   ]
  },
  {
   "cell_type": "markdown",
   "metadata": {},
   "source": [
    "### Exercício 7) \n",
    "Ainda utilizando a lista `nomes` definida a cima:\n",
    "- crie uma nova lista chamada `concatenados` com os elementos da lista `nomes`, porém, elementos começando com a mesma letra devem ser concatenados em um único elemento, ou seja, a lista resultante deve ser: \n",
    "```python\n",
    "['Matheus', 'GabrielGustavoGuilherme', 'Hugo', 'RicardoRui', 'Luiz']\n",
    "```\n",
    "__Dica:__ Crie um dicionario onde a chave corresponde uma letra e o valor a uma string que pode ser concatenada caso o valor não seja vazio. Você pode utilizar o comando <font color='blue'>'in'</font> para verificar se uma chave existe em um dicionário. Por exemplo, o código:\n",
    "```python\n",
    "dc = {'c1': 0, 'c2':1, 'c3':2}\n",
    "print('c2' in dc)\n",
    "```\n",
    "imprime como resultado:\n",
    "```python\n",
    "True\n",
    "```"
   ]
  },
  {
   "cell_type": "code",
   "execution_count": 8,
   "metadata": {},
   "outputs": [
    {
     "name": "stdout",
     "output_type": "stream",
     "text": [
      "['Matheus', 'GabrielGustavoGuilherme', 'Hugo', 'RicardoRui', 'Luiz']\n"
     ]
    }
   ],
   "source": [
    "nomes = ['Matheus', 'Gabriel', 'Gustavo', 'Hugo', 'Ricardo', 'Rui', 'Guilherme', 'Luiz']\n",
    "\n",
    "# escreva o codigo aqui\n",
    "concatenados = []\n",
    "dicionario = {}\n",
    "for i in nomes:\n",
    "    if i[0] in dicionario:\n",
    "        dicionario[i[0]] = dicionario[i[0]] + i\n",
    "    else:\n",
    "        dicionario[i[0]] = i\n",
    "\n",
    "concatenados = list(dicionario.values())\n",
    "\n",
    "print (concatenados)"
   ]
  },
  {
   "cell_type": "markdown",
   "metadata": {},
   "source": [
    "### Exercício 8) \n",
    "Dado o dicionário abaixo, o qual contém valores de imóveis pertencentes a uma pessoa, escreva um código para encontrar qual é o imóvel de maior valor, salvando a chave correspondente em uma variável tipo string."
   ]
  },
  {
   "cell_type": "code",
   "execution_count": 31,
   "metadata": {},
   "outputs": [
    {
     "name": "stdout",
     "output_type": "stream",
     "text": [
      "Imovel de maior valor:  Sitio com lago\n"
     ]
    }
   ],
   "source": [
    "preco_imoveis = {'Apartamento centro': 1250000,\n",
    "               'Apartamento suburbio': 500000,\n",
    "               'Casa cinco quartos': 750000,\n",
    "               'Casa com garagem': 300000,\n",
    "               'Casa com piscina': 1200000,\n",
    "               'Sitio pequeno': 3000000,\n",
    "               'Sitio com lago': 5500000}\n",
    "\n",
    "# escreva o codigo aqui\n",
    "for key, val in preco_imoveis.items():\n",
    "        if val == max(preco_imoveis.values()):\n",
    "            imovel = key\n",
    "\n",
    "print(\"Imovel de maior valor: \",imovel)"
   ]
  },
  {
   "cell_type": "markdown",
   "metadata": {},
   "source": [
    "### Exercício 9) \n",
    "Repita o exercício anterior de modo a encontrar o imóvel de maior valor, porém, **NÃO** utilizando de um laço <font color='blue'>'for'</font><br> no código.\n",
    "\n",
    "__Dica:__ Armazene os pares (chave, valor) em listas e utilize uma combinação do comando <font color='blue'>'max'</font> disponível no python com o método <font color='blue'>.index()</font> presente nos objetos tipo <font color='blue'>'list'</font>."
   ]
  },
  {
   "cell_type": "code",
   "execution_count": 51,
   "metadata": {},
   "outputs": [
    {
     "name": "stdout",
     "output_type": "stream",
     "text": [
      "Imovel de maior valor:  Sitio com lago\n"
     ]
    }
   ],
   "source": [
    "# escreva o codigo aqui\n",
    "preco_imoveis = {'Apartamento centro': 1250000,\n",
    "               'Apartamento suburbio': 500000,\n",
    "               'Casa cinco quartos': 750000,\n",
    "               'Casa com garagem': 300000,\n",
    "               'Casa com piscina': 1200000,\n",
    "               'Sitio pequeno': 3000000,\n",
    "               'Sitio com lago': 5500000}\n",
    "\n",
    "# escreva o codigo aqui\n",
    "preco = []\n",
    "imovel = []\n",
    "imovel = list(preco_imoveis.keys())\n",
    "preco = list(preco_imoveis.values())\n",
    "\n",
    "print(\"Imovel de maior valor: \",imovel[preco.index(max(preco))])"
   ]
  },
  {
   "cell_type": "markdown",
   "metadata": {},
   "source": [
    "### Exercício 10) \n",
    "Escreva um código para contar o número de ocorrências de cada letra na string fornecida e imprima os resultados.\n",
    "\n",
    "__Dica:__ Utilize um dicionário."
   ]
  },
  {
   "cell_type": "code",
   "execution_count": 73,
   "metadata": {},
   "outputs": [
    {
     "name": "stdout",
     "output_type": "stream",
     "text": [
      "{'s': 2, 'c': 2, 'i': 3, 'e': 2, 'n': 2, 't': 1, 'a': 1, ' ': 1, 'v': 1}\n"
     ]
    }
   ],
   "source": [
    "minha_string = \"scientia vinces\"\n",
    "\n",
    "# escreva o codigo aqui\n",
    "dic = {}\n",
    "for val in minha_string:\n",
    "    if val in dic:\n",
    "        dic[val] +=1\n",
    "    else:\n",
    "        dic[val] = 1\n",
    "    \n",
    "print(dic)"
   ]
  },
  {
   "cell_type": "code",
   "execution_count": null,
   "metadata": {},
   "outputs": [],
   "source": []
  },
  {
   "cell_type": "code",
   "execution_count": null,
   "metadata": {},
   "outputs": [],
   "source": []
  }
 ],
 "metadata": {
  "kernelspec": {
   "display_name": "Python 3",
   "language": "python",
   "name": "python3"
  },
  "language_info": {
   "codemirror_mode": {
    "name": "ipython",
    "version": 3
   },
   "file_extension": ".py",
   "mimetype": "text/x-python",
   "name": "python",
   "nbconvert_exporter": "python",
   "pygments_lexer": "ipython3",
   "version": "3.7.3"
  },
  "toc": {
   "base_numbering": 1,
   "nav_menu": {},
   "number_sections": true,
   "sideBar": true,
   "skip_h1_title": false,
   "title_cell": "Table of Contents",
   "title_sidebar": "Contents",
   "toc_cell": false,
   "toc_position": {},
   "toc_section_display": true,
   "toc_window_display": false
  }
 },
 "nbformat": 4,
 "nbformat_minor": 2
}
