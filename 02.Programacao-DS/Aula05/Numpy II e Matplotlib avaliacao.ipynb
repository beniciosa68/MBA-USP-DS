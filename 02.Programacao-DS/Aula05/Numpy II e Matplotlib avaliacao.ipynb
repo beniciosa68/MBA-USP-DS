{
 "cells": [
  {
   "cell_type": "markdown",
   "metadata": {},
   "source": [
    "# <span style=\"color:blue\"> MBA em Ciência de Dados</span>\n",
    "# <span style=\"color:blue\">Programação para Ciência de Dados</span>\n",
    "\n",
    "## <span style=\"color:blue\">Avaliação Numpy Parte II e Matplotlib</span>\n",
    "**Material Produzido por Luis Gustavo Nonato**<br>\n",
    "**Cemeai - ICMC/USP São Carlos**"
   ]
  },
  {
   "cell_type": "markdown",
   "metadata": {},
   "source": [
    "### Exercício 1)\n",
    "\n",
    "Qual dos códigos abaixo corretamente utiliza broadcasting para construir uma matriz cujas colunas são todas formadas pelos elementos [0,1,2,3]?\n",
    "\n",
    "```python\n",
    "A = np.zeros((4,4))\n",
    "v = np.arange(4)\n",
    "```\n",
    "\n",
    "Escolha uma:<br>\n",
    "\n",
    "<b>a.</b>\n",
    "```python\n",
    "A[:] = v.reshape(4,1) \n",
    "```\n",
    "\n",
    "<b>b.</b>\n",
    "```python\n",
    "A[:] = v \n",
    "A = A.T\n",
    "```\n",
    "\n",
    "<b>c.</b>\n",
    "```python\n",
    "A[:] = v[:,np.newaxis]\n",
    "```\n",
    "\n",
    "<b>d</b>. Todas as alternativas estão corretas"
   ]
  },
  {
   "cell_type": "code",
   "execution_count": 80,
   "metadata": {},
   "outputs": [
    {
     "name": "stdout",
     "output_type": "stream",
     "text": [
      "[[0. 0. 0. 0.]\n",
      " [1. 1. 1. 1.]\n",
      " [2. 2. 2. 2.]\n",
      " [3. 3. 3. 3.]]\n",
      "\n",
      "Resposta: Todas as alternativas estão corretas\n"
     ]
    }
   ],
   "source": [
    "import numpy as np\n",
    "\n",
    "A = np.zeros((4,4))\n",
    "v = np.arange(4)\n",
    "\n",
    "A[:] = v.reshape(4,1)\n",
    "\n",
    "A[:] = v[:,np.newaxis]\n",
    "\n",
    "A[:] = v \n",
    "A = A.T\n",
    "\n",
    "print(A)\n",
    "print()\n",
    "print(\"Resposta: Todas as alternativas estão corretas\")"
   ]
  },
  {
   "cell_type": "markdown",
   "metadata": {},
   "source": [
    "### Exercício 2)\n",
    "\n",
    "Qual das alternativas corretamente explica como o array W está sendo calculando no código abaixo?\n",
    "```python\n",
    "u = np.random.randint(0,30,7)\n",
    "v = np.random.randint(0,30,10).reshape(10,1)\n",
    "\n",
    "W = v + u\n",
    "```\n",
    "\n",
    "Escolha uma:<br>\n",
    "<b>a. O array `W` é uma matriz com 10 linhas e 7 colunas gerado a partir da soma das matriz obtidas do broadcasting do array `v` em 7 colunas e do array `u` em 10 linhas.</b><br>\n",
    "<b>b. O array W é uma matriz com 7 linhas e 10 colunas gerado a partir da soma das matriz obtidas do broadcasting do array v em 7 linhas e o array u em 10 linhas.</b><br>\n",
    "<b>c. O array W possui 10 elementos como resultado da soma dos arrays u e v , onde u é complementado com zeros durante o broadcasting.</b><br>\n",
    "<b>d. O array W possui 7 elementos como resultado da soma dos arrays u e v , onde os três últimos elementos de v são descartados no broadcasting.</b><br>"
   ]
  },
  {
   "cell_type": "code",
   "execution_count": 12,
   "metadata": {},
   "outputs": [
    {
     "name": "stdout",
     "output_type": "stream",
     "text": [
      "[[39 40 38 45 28 34 46]\n",
      " [22 23 21 28 11 17 29]\n",
      " [25 26 24 31 14 20 32]\n",
      " [45 46 44 51 34 40 52]\n",
      " [26 27 25 32 15 21 33]\n",
      " [31 32 30 37 20 26 38]\n",
      " [41 42 40 47 30 36 48]\n",
      " [50 51 49 56 39 45 57]\n",
      " [37 38 36 43 26 32 44]\n",
      " [21 22 20 27 10 16 28]]\n",
      "\n",
      "Resposta: O array W é uma matriz com 10 linhas e 7 colunas gerado a partir da soma das matriz obtidas do broadcasting do array v em 7 colunas e do array u em 10 linhas.\n"
     ]
    }
   ],
   "source": [
    "import numpy as np\n",
    "\n",
    "u = np.random.randint(0,30,7)\n",
    "v = np.random.randint(0,30,10).reshape(10,1)\n",
    "\n",
    "W = v + u\n",
    "\n",
    "print(W)\n",
    "print()\n",
    "print(\"Resposta: O array W é uma matriz com 10 linhas e 7 colunas gerado a partir da soma das matriz obtidas do broadcasting do array v em 7 colunas e do array u em 10 linhas.\")"
   ]
  },
  {
   "cell_type": "markdown",
   "metadata": {},
   "source": [
    "### Exercício 3)\n",
    "Considere a matriz abaixo. Utilizando redução, encontre o índice da linha que possui a maior soma dos elementos.\n",
    "```python\n",
    "A = np.array([[5, 2, 3, 6, 1, 5, 7, 7, 8, 9], [8, 8, 3, 5, 0, 1, 4, 8, 3, 7],\n",
    "            [8, 0, 0, 4, 2, 0, 2, 6, 0, 3], [5, 0, 0, 4, 4, 3, 5, 8, 0, 0],\n",
    "            [2, 4, 2, 5, 3, 4, 9, 8, 0, 0], [6, 7, 4, 8, 5, 1, 3, 5, 4, 1],\n",
    "            [6, 8, 0, 5, 2, 9, 3, 6, 1, 6], [5, 5, 2, 9, 0, 5, 5, 8, 2, 4],\n",
    "            [8, 8, 1, 8, 4, 1, 8, 9, 7, 6], [5, 6, 0, 9, 0, 4, 9, 0, 2, 0]])\n",
    "```\n",
    "Escolha uma:<br>\n",
    "<b>a. linha 9</b><br>\n",
    "<b>b. linha 8</b><br>\n",
    "<b>c. linha 0</b><br>\n",
    "<b>d. linha 6</b><br>"
   ]
  },
  {
   "cell_type": "code",
   "execution_count": 29,
   "metadata": {},
   "outputs": [
    {
     "name": "stdout",
     "output_type": "stream",
     "text": [
      "[[53]\n",
      " [47]\n",
      " [25]\n",
      " [29]\n",
      " [37]\n",
      " [44]\n",
      " [46]\n",
      " [45]\n",
      " [60]\n",
      " [35]]\n",
      "\n",
      "Resposta: linha 8\n"
     ]
    }
   ],
   "source": [
    "import numpy as np\n",
    "\n",
    "A = np.array([[5, 2, 3, 6, 1, 5, 7, 7, 8, 9], [8, 8, 3, 5, 0, 1, 4, 8, 3, 7],\n",
    "            [8, 0, 0, 4, 2, 0, 2, 6, 0, 3], [5, 0, 0, 4, 4, 3, 5, 8, 0, 0],\n",
    "            [2, 4, 2, 5, 3, 4, 9, 8, 0, 0], [6, 7, 4, 8, 5, 1, 3, 5, 4, 1],\n",
    "            [6, 8, 0, 5, 2, 9, 3, 6, 1, 6], [5, 5, 2, 9, 0, 5, 5, 8, 2, 4],\n",
    "            [8, 8, 1, 8, 4, 1, 8, 9, 7, 6], [5, 6, 0, 9, 0, 4, 9, 0, 2, 0]])\n",
    "\n",
    "B = np.array([np.sum(A[0]),np.sum(A[1]),\n",
    "             np.sum(A[2]),np.sum(A[3]),\n",
    "             np.sum(A[4]),np.sum(A[5]),\n",
    "             np.sum(A[6]),np.sum(A[7]),\n",
    "             np.sum(A[8]),np.sum(A[9])]).reshape(10,1)\n",
    "\n",
    "print(B)\n",
    "elemento = np.argmax(B)\n",
    "print()\n",
    "print(\"Resposta: linha\",elemento)"
   ]
  },
  {
   "cell_type": "markdown",
   "metadata": {},
   "source": [
    "### Exercício 4)\n",
    "Considerando a matriz A do exercício anterior, qual o índice da coluna que possui a menor média de valores?\n",
    "\n",
    "Escolha uma:<br>\n",
    "<b>a. coluna 9</b><br>\n",
    "<b>b. coluna 0</b><br>\n",
    "<b>c. coluna 2</b><br>\n",
    "<b>d. coluna 8</b><br>"
   ]
  },
  {
   "cell_type": "code",
   "execution_count": 31,
   "metadata": {},
   "outputs": [
    {
     "name": "stdout",
     "output_type": "stream",
     "text": [
      "[5.3 4.7 2.5 2.9 3.7 4.4 4.6 4.5 6.  3.5]\n",
      "\n",
      "Resposta: coluna 2\n"
     ]
    }
   ],
   "source": [
    "import numpy as np\n",
    "\n",
    "A = np.array([[5, 2, 3, 6, 1, 5, 7, 7, 8, 9], [8, 8, 3, 5, 0, 1, 4, 8, 3, 7],\n",
    "            [8, 0, 0, 4, 2, 0, 2, 6, 0, 3], [5, 0, 0, 4, 4, 3, 5, 8, 0, 0],\n",
    "            [2, 4, 2, 5, 3, 4, 9, 8, 0, 0], [6, 7, 4, 8, 5, 1, 3, 5, 4, 1],\n",
    "            [6, 8, 0, 5, 2, 9, 3, 6, 1, 6], [5, 5, 2, 9, 0, 5, 5, 8, 2, 4],\n",
    "            [8, 8, 1, 8, 4, 1, 8, 9, 7, 6], [5, 6, 0, 9, 0, 4, 9, 0, 2, 0]])\n",
    "\n",
    "B = np.array([np.mean(A[0]),np.mean(A[1]),\n",
    "             np.mean(A[2]),np.mean(A[3]),\n",
    "             np.mean(A[4]),np.mean(A[5]),\n",
    "             np.mean(A[6]),np.mean(A[7]),\n",
    "             np.mean(A[8]),np.mean(A[9])])\n",
    "\n",
    "print(B)\n",
    "elemento = np.argmin(B)\n",
    "print()\n",
    "print(\"Resposta: coluna\",elemento)"
   ]
  },
  {
   "cell_type": "markdown",
   "metadata": {},
   "source": [
    "### Exercício 5)\n",
    "Suponha que a variável A no código abaixo é uma matriz com linhas e colunas. O que o código está realizando?\n",
    "```python\n",
    "Aargs = np.argsort(A)\n",
    "A[np.arange(A.shape[0]),Aargs[:,-1]] = -1\n",
    "```\n",
    "Escolha uma:<br>\n",
    "<b>a. Substituindo o menor valor de cada coluna por -1</b><br>\n",
    "<b>b. Substituindo o maior valor de cada linha por -1</b><br>\n",
    "<b>c. Substituindo o maior valor de cada coluna por -1</b><br>\n",
    "<b>d. Substituindo o menor valor de cada linha por -1</b><br>"
   ]
  },
  {
   "cell_type": "code",
   "execution_count": 76,
   "metadata": {},
   "outputs": [
    {
     "name": "stdout",
     "output_type": "stream",
     "text": [
      "Matriz original:\n",
      "[[1 2 3]\n",
      " [2 3 1]\n",
      " [3 2 1]]\n",
      "\n",
      "np.argsort(A) -> retorna o índice de cada elemento de A ordenados do menor para o maior\n",
      "[[0 1 2]\n",
      " [2 0 1]\n",
      " [2 1 0]]\n",
      "\n",
      "Aargs[:,-1] -> retorna o maior índice de cada linha de A, ou seja, vai retornar o maior número de cada linha de A\n",
      "[2 1 0]\n",
      "\n",
      "A[np.arange(A.shape[0]),Aargs[:,-1]] = -1 -> retorna para cada linha de A, o maior valor encontrado e substitui por -1\n",
      "[[ 1  2 -1]\n",
      " [ 2 -1  1]\n",
      " [-1  2  1]]\n",
      "\n",
      "Resposta: Substituindo o maior valor de cada linha por -1\n"
     ]
    }
   ],
   "source": [
    "import numpy as np\n",
    "\n",
    "A = np.array([[1,  2, 3],\n",
    "              [2,  3,  1],\n",
    "              [3,  2, 1]])\n",
    "print(\"Matriz original:\")\n",
    "print(A)\n",
    "Aargs = np.argsort(A)\n",
    "print()\n",
    "print(\"np.argsort(A) -> retorna o índice de cada elemento de A ordenados do menor para o maior\")\n",
    "print(Aargs)\n",
    "print()\n",
    "print(\"Aargs[:,-1] -> retorna o maior índice de cada linha de A, ou seja, vai retornar o maior número de cada linha de A\")\n",
    "print(Aargs[:,-1])\n",
    "\n",
    "print()\n",
    "A[np.arange(A.shape[0]),Aargs[:,-1]] = -1\n",
    "print(\"A[np.arange(A.shape[0]),Aargs[:,-1]] = -1 -> retorna para cada linha de A, o maior valor encontrado e substitui por -1\")\n",
    "print(A)\n",
    "print()\n",
    "print(\"Resposta: Substituindo o maior valor de cada linha por -1\")"
   ]
  },
  {
   "cell_type": "code",
   "execution_count": null,
   "metadata": {},
   "outputs": [],
   "source": []
  }
 ],
 "metadata": {
  "kernelspec": {
   "display_name": "Python 3",
   "language": "python",
   "name": "python3"
  },
  "language_info": {
   "codemirror_mode": {
    "name": "ipython",
    "version": 3
   },
   "file_extension": ".py",
   "mimetype": "text/x-python",
   "name": "python",
   "nbconvert_exporter": "python",
   "pygments_lexer": "ipython3",
   "version": "3.7.3"
  }
 },
 "nbformat": 4,
 "nbformat_minor": 2
}
