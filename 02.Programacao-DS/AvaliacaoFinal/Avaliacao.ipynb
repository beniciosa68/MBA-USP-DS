{
 "cells": [
  {
   "cell_type": "markdown",
   "metadata": {},
   "source": [
    "# <span style=\"color:blue\"> MBA em Ciência de Dados</span>\n",
    "# <span style=\"color:blue\">Programação para Ciência de Dados</span>\n",
    "\n",
    "## <span style=\"color:blue\">Avaliação Final</span>\n",
    "**Material Produzido por Luis Gustavo Nonato**<br>\n",
    "**Cemeai - ICMC/USP São Carlos**"
   ]
  },
  {
   "cell_type": "markdown",
   "metadata": {},
   "source": [
    "A avaliação vale 10 pontos. As questões de 1 a 4, caso respondidas da forma correta, totalizam 10 pontos. A última questão é um bônus que, se respondida corretamente, pode ajudar na nota final, ou seja, caso tenha respondido incorretamente uma das questões de 1 a 4, mas tenha acertado a questão bônus, ainda poderá atingir 10 pontos."
   ]
  },
  {
   "cell_type": "markdown",
   "metadata": {},
   "source": [
    "<font color='red'>**ATENÇÃO:** Quando terminar de exame, você deve fazer um \"upload\" do notebook no _moodle_</font>."
   ]
  },
  {
   "cell_type": "markdown",
   "metadata": {},
   "source": [
    "Para responder as questões abaixo será necessário fazer uso do arquivo <font style=\"font-family: monaco\">covid.csv\"</font> disponível para download no sistema _Moodle_. As colunas do conjunto de dados fornece informações sobre:\n",
    "- **'Province/State'**: estado ou província onde os casos de COVID19 foram registrados\n",
    "- **'Country/Region'**: país onde os casos de COVID19 foram registrados\n",
    "- **'Lat'** e **'Long'**: latitude e longitude de referência\n",
    "- **'Date'**: data dos registros\n",
    "- **'Value'**: quantidade de casos registrados"
   ]
  },
  {
   "cell_type": "code",
   "execution_count": 1,
   "metadata": {},
   "outputs": [],
   "source": [
    "import numpy as np\n",
    "import pandas as pd"
   ]
  },
  {
   "cell_type": "markdown",
   "metadata": {},
   "source": [
    "### Questão 1 (2 pontos)\n",
    "Considerando os dados contidos no arquivo <font style=\"font-family: monaco\">covid.csv\"</font>:\n"
   ]
  },
  {
   "cell_type": "markdown",
   "metadata": {},
   "source": [
    "#### a) (0.5 pontos)\n",
    "Carregue o arquivo \"covid.csv\" e armazena em um pandas DataFrame."
   ]
  },
  {
   "cell_type": "code",
   "execution_count": 2,
   "metadata": {},
   "outputs": [
    {
     "data": {
      "text/html": [
       "<div>\n",
       "<style scoped>\n",
       "    .dataframe tbody tr th:only-of-type {\n",
       "        vertical-align: middle;\n",
       "    }\n",
       "\n",
       "    .dataframe tbody tr th {\n",
       "        vertical-align: top;\n",
       "    }\n",
       "\n",
       "    .dataframe thead th {\n",
       "        text-align: right;\n",
       "    }\n",
       "</style>\n",
       "<table border=\"1\" class=\"dataframe\">\n",
       "  <thead>\n",
       "    <tr style=\"text-align: right;\">\n",
       "      <th></th>\n",
       "      <th>Province/State</th>\n",
       "      <th>Country/Region</th>\n",
       "      <th>Lat</th>\n",
       "      <th>Long</th>\n",
       "      <th>Date</th>\n",
       "      <th>Value</th>\n",
       "    </tr>\n",
       "  </thead>\n",
       "  <tbody>\n",
       "    <tr>\n",
       "      <th>0</th>\n",
       "      <td>#adm1+name</td>\n",
       "      <td>#country+name</td>\n",
       "      <td>#geo+lat</td>\n",
       "      <td>#geo+lon</td>\n",
       "      <td>#date</td>\n",
       "      <td>#affected+infected+value+num</td>\n",
       "    </tr>\n",
       "    <tr>\n",
       "      <th>1</th>\n",
       "      <td>NaN</td>\n",
       "      <td>afghanistan</td>\n",
       "      <td>33</td>\n",
       "      <td>65</td>\n",
       "      <td>2020-03-18</td>\n",
       "      <td>22</td>\n",
       "    </tr>\n",
       "    <tr>\n",
       "      <th>2</th>\n",
       "      <td>NaN</td>\n",
       "      <td>afghanistan</td>\n",
       "      <td>33</td>\n",
       "      <td>65</td>\n",
       "      <td>2020-03-17</td>\n",
       "      <td>22</td>\n",
       "    </tr>\n",
       "    <tr>\n",
       "      <th>3</th>\n",
       "      <td>NaN</td>\n",
       "      <td>afghanistan</td>\n",
       "      <td>33</td>\n",
       "      <td>65</td>\n",
       "      <td>2020-03-16</td>\n",
       "      <td>21</td>\n",
       "    </tr>\n",
       "    <tr>\n",
       "      <th>4</th>\n",
       "      <td>NaN</td>\n",
       "      <td>Afghanistan</td>\n",
       "      <td>33</td>\n",
       "      <td>65</td>\n",
       "      <td>2020-03-15</td>\n",
       "      <td>16</td>\n",
       "    </tr>\n",
       "    <tr>\n",
       "      <th>5</th>\n",
       "      <td>NaN</td>\n",
       "      <td>afghanistan</td>\n",
       "      <td>33</td>\n",
       "      <td>65</td>\n",
       "      <td>2020-03-14</td>\n",
       "      <td>11</td>\n",
       "    </tr>\n",
       "  </tbody>\n",
       "</table>\n",
       "</div>"
      ],
      "text/plain": [
       "  Province/State Country/Region       Lat      Long        Date  \\\n",
       "0     #adm1+name  #country+name  #geo+lat  #geo+lon       #date   \n",
       "1            NaN    afghanistan        33        65  2020-03-18   \n",
       "2            NaN    afghanistan        33        65  2020-03-17   \n",
       "3            NaN    afghanistan        33        65  2020-03-16   \n",
       "4            NaN    Afghanistan        33        65  2020-03-15   \n",
       "5            NaN    afghanistan        33        65  2020-03-14   \n",
       "\n",
       "                          Value  \n",
       "0  #affected+infected+value+num  \n",
       "1                            22  \n",
       "2                            22  \n",
       "3                            21  \n",
       "4                            16  \n",
       "5                            11  "
      ]
     },
     "execution_count": 2,
     "metadata": {},
     "output_type": "execute_result"
    }
   ],
   "source": [
    "covid = pd.read_csv('data\\covid.csv')\n",
    "covid.head(6)"
   ]
  },
  {
   "cell_type": "markdown",
   "metadata": {},
   "source": [
    "#### b) (0.5 pontos)\n",
    "Elimine a primeira linha do DataFrame, a qual contém a informação:\n",
    "```python\n",
    "#adm1+name,#country+name,#geo+lat,#geo+lon,#date,#affected+infected+value+num\n",
    "```"
   ]
  },
  {
   "cell_type": "code",
   "execution_count": 3,
   "metadata": {},
   "outputs": [
    {
     "data": {
      "text/html": [
       "<div>\n",
       "<style scoped>\n",
       "    .dataframe tbody tr th:only-of-type {\n",
       "        vertical-align: middle;\n",
       "    }\n",
       "\n",
       "    .dataframe tbody tr th {\n",
       "        vertical-align: top;\n",
       "    }\n",
       "\n",
       "    .dataframe thead th {\n",
       "        text-align: right;\n",
       "    }\n",
       "</style>\n",
       "<table border=\"1\" class=\"dataframe\">\n",
       "  <thead>\n",
       "    <tr style=\"text-align: right;\">\n",
       "      <th></th>\n",
       "      <th>Province/State</th>\n",
       "      <th>Country/Region</th>\n",
       "      <th>Lat</th>\n",
       "      <th>Long</th>\n",
       "      <th>Date</th>\n",
       "      <th>Value</th>\n",
       "    </tr>\n",
       "  </thead>\n",
       "  <tbody>\n",
       "    <tr>\n",
       "      <th>1</th>\n",
       "      <td>NaN</td>\n",
       "      <td>afghanistan</td>\n",
       "      <td>33</td>\n",
       "      <td>65</td>\n",
       "      <td>2020-03-18</td>\n",
       "      <td>22</td>\n",
       "    </tr>\n",
       "    <tr>\n",
       "      <th>2</th>\n",
       "      <td>NaN</td>\n",
       "      <td>afghanistan</td>\n",
       "      <td>33</td>\n",
       "      <td>65</td>\n",
       "      <td>2020-03-17</td>\n",
       "      <td>22</td>\n",
       "    </tr>\n",
       "    <tr>\n",
       "      <th>3</th>\n",
       "      <td>NaN</td>\n",
       "      <td>afghanistan</td>\n",
       "      <td>33</td>\n",
       "      <td>65</td>\n",
       "      <td>2020-03-16</td>\n",
       "      <td>21</td>\n",
       "    </tr>\n",
       "    <tr>\n",
       "      <th>4</th>\n",
       "      <td>NaN</td>\n",
       "      <td>Afghanistan</td>\n",
       "      <td>33</td>\n",
       "      <td>65</td>\n",
       "      <td>2020-03-15</td>\n",
       "      <td>16</td>\n",
       "    </tr>\n",
       "    <tr>\n",
       "      <th>5</th>\n",
       "      <td>NaN</td>\n",
       "      <td>afghanistan</td>\n",
       "      <td>33</td>\n",
       "      <td>65</td>\n",
       "      <td>2020-03-14</td>\n",
       "      <td>11</td>\n",
       "    </tr>\n",
       "  </tbody>\n",
       "</table>\n",
       "</div>"
      ],
      "text/plain": [
       "  Province/State Country/Region Lat Long        Date Value\n",
       "1            NaN    afghanistan  33   65  2020-03-18    22\n",
       "2            NaN    afghanistan  33   65  2020-03-17    22\n",
       "3            NaN    afghanistan  33   65  2020-03-16    21\n",
       "4            NaN    Afghanistan  33   65  2020-03-15    16\n",
       "5            NaN    afghanistan  33   65  2020-03-14    11"
      ]
     },
     "execution_count": 3,
     "metadata": {},
     "output_type": "execute_result"
    }
   ],
   "source": [
    "covid = covid.drop([0])\n",
    "covid.head()"
   ]
  },
  {
   "cell_type": "markdown",
   "metadata": {},
   "source": [
    "#### c) (1 ponto)\n",
    "Verifique qual o tipo de dado da coluna \"Value\" e converta o tipo para inteiro (<font color='blue'>int</font>)."
   ]
  },
  {
   "cell_type": "code",
   "execution_count": 4,
   "metadata": {},
   "outputs": [
    {
     "name": "stdout",
     "output_type": "stream",
     "text": [
      "Tipo de dado da coluna 'Value':  object\n",
      "Tipo de dado convertido:  int64\n"
     ]
    }
   ],
   "source": [
    "print(\"Tipo de dado da coluna 'Value': \",covid.dtypes['Value'])\n",
    "covid['Value'] = covid['Value'].astype('int64')\n",
    "print(\"Tipo de dado convertido: \",covid.dtypes['Value'])"
   ]
  },
  {
   "cell_type": "markdown",
   "metadata": {},
   "source": [
    "### Questão 2 (2 pontos)\n",
    "Devido a um erro de armazenamento de inteiros, alguns países apresentam mais de 8 bilhões de casos de COVID19 (valor da coluna \"Value\" maior ou igual a 8.000.000.000) \n",
    "\n",
    "Elimine as linhas onde o número de casos é maior ou igual a 8 bilhões."
   ]
  },
  {
   "cell_type": "code",
   "execution_count": 5,
   "metadata": {},
   "outputs": [
    {
     "name": "stdout",
     "output_type": "stream",
     "text": [
      "Número de linhas antes da remoção:  26334\n",
      "Número de linhas encontradas:  19\n",
      "Número de linhas depois da remoção:  26315\n"
     ]
    }
   ],
   "source": [
    "print(\"Número de linhas antes da remoção: \", covid.shape[0])\n",
    "\n",
    "mask = (covid['Value'] >= 8000000000)\n",
    "indices = covid[mask].index.values\n",
    "\n",
    "print(\"Número de linhas encontradas: \", len(indices))\n",
    "\n",
    "for i in indices:\n",
    "    covid = covid.drop([i])\n",
    "    \n",
    "    \n",
    "print(\"Número de linhas depois da remoção: \", covid.shape[0])"
   ]
  },
  {
   "cell_type": "markdown",
   "metadata": {},
   "source": [
    "### Questão 3 (3 pontos)\n",
    "O nome de alguns países estão com a primeira letra em maíuscula e outros não.\n",
    "\n",
    "Transforme os nomes dos países na coluna \"Country/Region\" para que contenham apenas letras **minúsculas**."
   ]
  },
  {
   "cell_type": "code",
   "execution_count": 6,
   "metadata": {},
   "outputs": [
    {
     "name": "stdout",
     "output_type": "stream",
     "text": [
      "Ocorrências de letras maiúsculas:  False\n"
     ]
    }
   ],
   "source": [
    "covid['Country/Region'] = covid['Country/Region'].map(lambda x: x.lower())\n",
    "print('Ocorrências de letras maiúsculas: ' , str(covid['Country/Region']).isupper())"
   ]
  },
  {
   "cell_type": "markdown",
   "metadata": {},
   "source": [
    "### Questão 4 (3 pontos)\n",
    "Quais são os três países com a maior quantidade de infectados?\n",
    "\n",
    "Lembre de considerar apenas o maior valor de cada país.\n",
    "\n",
    "**DICA:** groupby + max"
   ]
  },
  {
   "cell_type": "code",
   "execution_count": 7,
   "metadata": {},
   "outputs": [
    {
     "name": "stdout",
     "output_type": "stream",
     "text": [
      "Considerando o maior valor de cada país, temos no top 3: \n",
      "\n",
      "    país  infectados\n",
      "0  china       67800\n",
      "1  italy       35713\n",
      "2   iran       17361\n"
     ]
    }
   ],
   "source": [
    "maxinfect = covid.groupby(['Country/Region']).apply(lambda x: x['Value'].max())\n",
    "print('Considerando o maior valor de cada país, temos no top 3: ')\n",
    "print()\n",
    "print(pd.DataFrame(maxinfect.sort_values(ascending=False)[0:3].to_dict().items(), columns=['país','infectados']))"
   ]
  },
  {
   "cell_type": "markdown",
   "metadata": {},
   "source": [
    "### Questão Bonus (2 pontos)\n",
    "Considerando que a taxa de crescimento diária do vírus é de 1.31, quantos dias até o Brasil atingir 10000 casos?\n",
    "\n",
    "OBS: A fórmula para a quantidade de pessoas infectada no dia $n$ a partir da quantidade atual é:\n",
    "\n",
    "$ quantidade\\_atual * (1+1.31^{n})$ (dentro do parênteses: 1 mais 1.31 elevado a $n$)"
   ]
  },
  {
   "cell_type": "code",
   "execution_count": 8,
   "metadata": {},
   "outputs": [
    {
     "name": "stdout",
     "output_type": "stream",
     "text": [
      "A previsão é que o Brasil levará 13 dias para atingir 10.000 casos infectados.\n"
     ]
    }
   ],
   "source": [
    "mask = (covid['Country/Region'] == 'brazil')\n",
    "brazil_data = covid[mask].apply(lambda x: max(x))\n",
    "\n",
    "dia=[]\n",
    "infectados=[]\n",
    "\n",
    "for i in np.arange(1,51):\n",
    "    dia.append(i)\n",
    "    infectados.append(brazil_data[5] * (1+1.31**i))\n",
    "    \n",
    "estimativa_brazil = pd.DataFrame(zip(dia,infectados),columns=['dias','infectados']).astype('int64')\n",
    "\n",
    "mask = (estimativa_brazil['infectados'] >= 10000)\n",
    "previsao_10k = estimativa_brazil[mask].apply(lambda x: min(x))\n",
    "\n",
    "print('A previsão é que o Brasil levará '+ str(previsao_10k[0]) + ' dias para atingir 10.000 casos infectados.')"
   ]
  }
 ],
 "metadata": {
  "kernelspec": {
   "display_name": "Python 3",
   "language": "python",
   "name": "python3"
  },
  "language_info": {
   "codemirror_mode": {
    "name": "ipython",
    "version": 3
   },
   "file_extension": ".py",
   "mimetype": "text/x-python",
   "name": "python",
   "nbconvert_exporter": "python",
   "pygments_lexer": "ipython3",
   "version": "3.7.3"
  },
  "toc": {
   "base_numbering": 1,
   "nav_menu": {},
   "number_sections": true,
   "sideBar": true,
   "skip_h1_title": false,
   "title_cell": "Table of Contents",
   "title_sidebar": "Contents",
   "toc_cell": false,
   "toc_position": {},
   "toc_section_display": true,
   "toc_window_display": false
  }
 },
 "nbformat": 4,
 "nbformat_minor": 2
}
