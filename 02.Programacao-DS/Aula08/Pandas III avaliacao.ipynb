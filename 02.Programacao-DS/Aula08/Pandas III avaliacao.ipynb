{
 "cells": [
  {
   "cell_type": "markdown",
   "metadata": {},
   "source": [
    "# <span style=\"color:blue\"> MBA em Ciência de Dados</span>\n",
    "# <span style=\"color:blue\">Programação para Ciência de Dados</span>\n",
    "\n",
    "## <span style=\"color:blue\">Avaliação Pandas III</span>\n",
    "**Material Produzido por Luis Gustavo Nonato**<br>\n",
    "**Cemeai - ICMC/USP São Carlos**"
   ]
  },
  {
   "cell_type": "code",
   "execution_count": 1,
   "metadata": {},
   "outputs": [],
   "source": [
    "import pandas as pd\n",
    "import numpy as np\n",
    "\n",
    "sales = pd.DataFrame(pd.read_csv('data\\sales1000.csv'))"
   ]
  },
  {
   "cell_type": "markdown",
   "metadata": {},
   "source": [
    "### Exercício 1)\n",
    "\n",
    "Agrupe os elementos da base de dados armazenada no arquivo <font color='red'>sales1000.csv</font> de acordo com os países. Quantos produtos diferentes o país 'Japan' vende?\n",
    "\n",
    "Escolha uma:<br>\n",
    "<b>a. 7</b><br>\n",
    "<b>b. 5</b><br>\n",
    "<b>c. 8</b><br>\n",
    "<b>d. 6</b><br>"
   ]
  },
  {
   "cell_type": "code",
   "execution_count": null,
   "metadata": {},
   "outputs": [],
   "source": []
  },
  {
   "cell_type": "markdown",
   "metadata": {},
   "source": [
    "### Exercício 2)\n",
    "\n",
    "Considerando todas as vendas de um país, qual o país com o maior lucro total?\n",
    "\n",
    "Escolha uma:<br>\n",
    "<b>a. Australia</b><br>\n",
    "<b>b. Japan</b><br>\n",
    "<b>c. Cuba</b><br>\n",
    "<b>d. Ghana</b><br>"
   ]
  },
  {
   "cell_type": "code",
   "execution_count": null,
   "metadata": {},
   "outputs": [],
   "source": []
  },
  {
   "cell_type": "markdown",
   "metadata": {},
   "source": [
    "### Exercício 3)\n",
    "\n",
    "Quais países vendem mais que sete produtos distintos?\n",
    "\n",
    "Escolha uma:<br>\n",
    "<b>a. Cuba e Australia</b><br>\n",
    "<b>b. Romania e Angola</b><br>\n",
    "<b>c. Cuba</b><br>\n",
    "<b>d. Cuba e Belarus</b><br>"
   ]
  },
  {
   "cell_type": "code",
   "execution_count": null,
   "metadata": {},
   "outputs": [],
   "source": []
  },
  {
   "cell_type": "markdown",
   "metadata": {},
   "source": [
    "### Exercício 4)\n",
    "\n",
    "Qual o país com a maior diferença entre a maior quantidade e a menor quantidade de produtos vendidos? \n",
    "\n",
    "Por exemplo, 'Tonga' vende os seguintes quantidades de produtos:\n",
    "\n",
    "Household 8635<br>\n",
    "Beverages 9367<br>\n",
    "Meat 9633<br>\n",
    "Fruits 7124<br>\n",
    "Meat 3499<br>\n",
    "\n",
    "Portando, a diferença entre a maior e a menor quantidade de produtos vendidos é: 9633 − 3499 = 6134<br>\n",
    "Qual o país com a maior diferença?\n",
    "\n",
    "Escolha uma:<br>\n",
    "<b>a. Cape Verde</b><br>\n",
    "<b>b. Cuba</b><br>\n",
    "<b>c. Romania</b><br>\n",
    "<b>d. Tonga</b><br>"
   ]
  },
  {
   "cell_type": "code",
   "execution_count": null,
   "metadata": {},
   "outputs": [],
   "source": []
  },
  {
   "cell_type": "markdown",
   "metadata": {},
   "source": [
    "### Exercício 5)\n",
    "\n",
    "O lucro de um produto é a diferença entre o preço de venda e o de custo. Qual o produto que fornece o maior lucro médio?\n",
    "\n",
    "Escolha uma:<br>\n",
    "<b>a. Cosmetics</b><br>\n",
    "<b>b. Household</b><br>\n",
    "<b>c. Baby Food</b><br>\n",
    "<b>d. Cereal</b><br>"
   ]
  },
  {
   "cell_type": "code",
   "execution_count": null,
   "metadata": {
    "scrolled": true
   },
   "outputs": [],
   "source": []
  }
 ],
 "metadata": {
  "kernelspec": {
   "display_name": "Python 3",
   "language": "python",
   "name": "python3"
  },
  "language_info": {
   "codemirror_mode": {
    "name": "ipython",
    "version": 3
   },
   "file_extension": ".py",
   "mimetype": "text/x-python",
   "name": "python",
   "nbconvert_exporter": "python",
   "pygments_lexer": "ipython3",
   "version": "3.7.3"
  }
 },
 "nbformat": 4,
 "nbformat_minor": 2
}
