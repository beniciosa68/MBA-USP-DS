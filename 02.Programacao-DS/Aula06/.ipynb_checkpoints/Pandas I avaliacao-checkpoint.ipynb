{
 "cells": [
  {
   "cell_type": "markdown",
   "metadata": {},
   "source": [
    "# <span style=\"color:blue\"> MBA em Ciência de Dados</span>\n",
    "# <span style=\"color:blue\">Programação para Ciência de Dados</span>\n",
    "\n",
    "## <span style=\"color:blue\">Avaliação Pandas I</span>\n",
    "**Material Produzido por Luis Gustavo Nonato**<br>\n",
    "**Cemeai - ICMC/USP São Carlos**"
   ]
  },
  {
   "cell_type": "code",
   "execution_count": 1,
   "metadata": {},
   "outputs": [
    {
     "data": {
      "text/html": [
       "<div>\n",
       "<style scoped>\n",
       "    .dataframe tbody tr th:only-of-type {\n",
       "        vertical-align: middle;\n",
       "    }\n",
       "\n",
       "    .dataframe tbody tr th {\n",
       "        vertical-align: top;\n",
       "    }\n",
       "\n",
       "    .dataframe thead th {\n",
       "        text-align: right;\n",
       "    }\n",
       "</style>\n",
       "<table border=\"1\" class=\"dataframe\">\n",
       "  <thead>\n",
       "    <tr style=\"text-align: right;\">\n",
       "      <th></th>\n",
       "      <th>Year</th>\n",
       "      <th>Datetime</th>\n",
       "      <th>Stage</th>\n",
       "      <th>Stadium</th>\n",
       "      <th>City</th>\n",
       "      <th>HomeTeamName</th>\n",
       "      <th>HomeTeamGoals</th>\n",
       "      <th>AwayTeamGoals</th>\n",
       "      <th>AwayTeamName</th>\n",
       "      <th>WinConditions</th>\n",
       "      <th>Attendance</th>\n",
       "      <th>HalfTimeHomeGoals</th>\n",
       "      <th>HalfTimeAwayGoals</th>\n",
       "      <th>Referee</th>\n",
       "      <th>Assistant1</th>\n",
       "      <th>Assistant2</th>\n",
       "      <th>RoundID</th>\n",
       "      <th>MatchID</th>\n",
       "      <th>HomeTeamInitials</th>\n",
       "      <th>AwayTeamInitials</th>\n",
       "    </tr>\n",
       "  </thead>\n",
       "  <tbody>\n",
       "    <tr>\n",
       "      <th>0</th>\n",
       "      <td>1930</td>\n",
       "      <td>13 Jul 1930 - 15:00</td>\n",
       "      <td>Group 1</td>\n",
       "      <td>Pocitos</td>\n",
       "      <td>Montevideo</td>\n",
       "      <td>France</td>\n",
       "      <td>4</td>\n",
       "      <td>1</td>\n",
       "      <td>Mexico</td>\n",
       "      <td></td>\n",
       "      <td>4444.0</td>\n",
       "      <td>3</td>\n",
       "      <td>0</td>\n",
       "      <td>LOMBARDI Domingo (URU)</td>\n",
       "      <td>CRISTOPHE Henry (BEL)</td>\n",
       "      <td>REGO Gilberto (BRA)</td>\n",
       "      <td>201</td>\n",
       "      <td>1096</td>\n",
       "      <td>FRA</td>\n",
       "      <td>MEX</td>\n",
       "    </tr>\n",
       "    <tr>\n",
       "      <th>1</th>\n",
       "      <td>1930</td>\n",
       "      <td>13 Jul 1930 - 15:00</td>\n",
       "      <td>Group 4</td>\n",
       "      <td>Parque Central</td>\n",
       "      <td>Montevideo</td>\n",
       "      <td>USA</td>\n",
       "      <td>3</td>\n",
       "      <td>0</td>\n",
       "      <td>Belgium</td>\n",
       "      <td></td>\n",
       "      <td>18346.0</td>\n",
       "      <td>2</td>\n",
       "      <td>0</td>\n",
       "      <td>MACIAS Jose (ARG)</td>\n",
       "      <td>MATEUCCI Francisco (URU)</td>\n",
       "      <td>WARNKEN Alberto (CHI)</td>\n",
       "      <td>201</td>\n",
       "      <td>1090</td>\n",
       "      <td>USA</td>\n",
       "      <td>BEL</td>\n",
       "    </tr>\n",
       "    <tr>\n",
       "      <th>2</th>\n",
       "      <td>1930</td>\n",
       "      <td>14 Jul 1930 - 12:45</td>\n",
       "      <td>Group 2</td>\n",
       "      <td>Parque Central</td>\n",
       "      <td>Montevideo</td>\n",
       "      <td>Yugoslavia</td>\n",
       "      <td>2</td>\n",
       "      <td>1</td>\n",
       "      <td>Brazil</td>\n",
       "      <td></td>\n",
       "      <td>24059.0</td>\n",
       "      <td>2</td>\n",
       "      <td>0</td>\n",
       "      <td>TEJADA Anibal (URU)</td>\n",
       "      <td>VALLARINO Ricardo (URU)</td>\n",
       "      <td>BALWAY Thomas (FRA)</td>\n",
       "      <td>201</td>\n",
       "      <td>1093</td>\n",
       "      <td>YUG</td>\n",
       "      <td>BRA</td>\n",
       "    </tr>\n",
       "    <tr>\n",
       "      <th>3</th>\n",
       "      <td>1930</td>\n",
       "      <td>14 Jul 1930 - 14:50</td>\n",
       "      <td>Group 3</td>\n",
       "      <td>Pocitos</td>\n",
       "      <td>Montevideo</td>\n",
       "      <td>Romania</td>\n",
       "      <td>3</td>\n",
       "      <td>1</td>\n",
       "      <td>Peru</td>\n",
       "      <td></td>\n",
       "      <td>2549.0</td>\n",
       "      <td>1</td>\n",
       "      <td>0</td>\n",
       "      <td>WARNKEN Alberto (CHI)</td>\n",
       "      <td>LANGENUS Jean (BEL)</td>\n",
       "      <td>MATEUCCI Francisco (URU)</td>\n",
       "      <td>201</td>\n",
       "      <td>1098</td>\n",
       "      <td>ROU</td>\n",
       "      <td>PER</td>\n",
       "    </tr>\n",
       "    <tr>\n",
       "      <th>4</th>\n",
       "      <td>1930</td>\n",
       "      <td>15 Jul 1930 - 16:00</td>\n",
       "      <td>Group 1</td>\n",
       "      <td>Parque Central</td>\n",
       "      <td>Montevideo</td>\n",
       "      <td>Argentina</td>\n",
       "      <td>1</td>\n",
       "      <td>0</td>\n",
       "      <td>France</td>\n",
       "      <td></td>\n",
       "      <td>23409.0</td>\n",
       "      <td>0</td>\n",
       "      <td>0</td>\n",
       "      <td>REGO Gilberto (BRA)</td>\n",
       "      <td>SAUCEDO Ulises (BOL)</td>\n",
       "      <td>RADULESCU Constantin (ROU)</td>\n",
       "      <td>201</td>\n",
       "      <td>1085</td>\n",
       "      <td>ARG</td>\n",
       "      <td>FRA</td>\n",
       "    </tr>\n",
       "  </tbody>\n",
       "</table>\n",
       "</div>"
      ],
      "text/plain": [
       "   Year              Datetime    Stage         Stadium         City  \\\n",
       "0  1930  13 Jul 1930 - 15:00   Group 1         Pocitos  Montevideo    \n",
       "1  1930  13 Jul 1930 - 15:00   Group 4  Parque Central  Montevideo    \n",
       "2  1930  14 Jul 1930 - 12:45   Group 2  Parque Central  Montevideo    \n",
       "3  1930  14 Jul 1930 - 14:50   Group 3         Pocitos  Montevideo    \n",
       "4  1930  15 Jul 1930 - 16:00   Group 1  Parque Central  Montevideo    \n",
       "\n",
       "  HomeTeamName  HomeTeamGoals  AwayTeamGoals AwayTeamName WinConditions  \\\n",
       "0       France              4              1       Mexico                 \n",
       "1          USA              3              0      Belgium                 \n",
       "2   Yugoslavia              2              1       Brazil                 \n",
       "3      Romania              3              1         Peru                 \n",
       "4    Argentina              1              0       France                 \n",
       "\n",
       "   Attendance  HalfTimeHomeGoals  HalfTimeAwayGoals                 Referee  \\\n",
       "0      4444.0                  3                  0  LOMBARDI Domingo (URU)   \n",
       "1     18346.0                  2                  0       MACIAS Jose (ARG)   \n",
       "2     24059.0                  2                  0     TEJADA Anibal (URU)   \n",
       "3      2549.0                  1                  0   WARNKEN Alberto (CHI)   \n",
       "4     23409.0                  0                  0     REGO Gilberto (BRA)   \n",
       "\n",
       "                 Assistant1                  Assistant2  RoundID  MatchID  \\\n",
       "0     CRISTOPHE Henry (BEL)         REGO Gilberto (BRA)      201     1096   \n",
       "1  MATEUCCI Francisco (URU)       WARNKEN Alberto (CHI)      201     1090   \n",
       "2   VALLARINO Ricardo (URU)         BALWAY Thomas (FRA)      201     1093   \n",
       "3       LANGENUS Jean (BEL)    MATEUCCI Francisco (URU)      201     1098   \n",
       "4      SAUCEDO Ulises (BOL)  RADULESCU Constantin (ROU)      201     1085   \n",
       "\n",
       "  HomeTeamInitials AwayTeamInitials  \n",
       "0              FRA              MEX  \n",
       "1              USA              BEL  \n",
       "2              YUG              BRA  \n",
       "3              ROU              PER  \n",
       "4              ARG              FRA  "
      ]
     },
     "execution_count": 1,
     "metadata": {},
     "output_type": "execute_result"
    }
   ],
   "source": [
    "import pandas as pd\n",
    "\n",
    "copa_partidas = pd.DataFrame(pd.read_csv('data\\WorldCupMatches.csv'))\n",
    "\n",
    "copa_partidas.head()"
   ]
  },
  {
   "cell_type": "markdown",
   "metadata": {},
   "source": [
    "### Exercício 1)\n",
    "Leia o arquivo <font color='red'>WorldCupMatches.csv</font>, armazene em uma variável DataFrame chamada copa_partidas. Quantas\n",
    "\n",
    "colunas possuem rótulo cujo nome começa com a letra <b>'A'</b>?\n",
    "\n",
    "Escolha uma:<br>\n",
    "<b>a. 4</b><br>\n",
    "<b>b. 7</b><br>\n",
    "<b>c. 5</b><br>\n",
    "<b>d. 6</b><br>"
   ]
  },
  {
   "cell_type": "code",
   "execution_count": 68,
   "metadata": {},
   "outputs": [
    {
     "name": "stdout",
     "output_type": "stream",
     "text": [
      "Resposta:  6\n",
      "\n",
      "['AwayTeamGoals', 'AwayTeamName', 'Attendance', 'Assistant1', 'Assistant2', 'AwayTeamInitials']\n"
     ]
    }
   ],
   "source": [
    "rotulos_A = [i for i in copa_partidas.columns.values if i[0] == 'A']\n",
    "\n",
    "print(\"Resposta: \", len(rotulos_A))\n",
    "print()\n",
    "print(rotulos_A)"
   ]
  },
  {
   "cell_type": "markdown",
   "metadata": {},
   "source": [
    "### Exercício 2)\n",
    "O comando abaixo extrai quais são as 'strings' contidas na coluna Stage :\n",
    "```python\n",
    "copa_partidas['Stage'].unique()\n",
    "```\n",
    "Dentre as strings resultantes, 'Semi-finals' indica que a linha corresponde a uma partida de semi-final de uma copa.\n",
    "\n",
    "Utilizando o método query, encontre as linhas contendo as partidas de semi-final das copas. Construa uma lista contendo os nomes dos times que disputaram a semi-final da copa de 1986.\n",
    "\n",
    "Os nomes que aparecem na lista construída são:\n",
    "\n",
    "<b>DICA:</b> Utilize o método query duas vezes, a primeira para obter um DataFrame com os semi-finalistas e a segunda para obter um DataFrame com os semi-finalistas da copa de 1986. Os nomes dos semi-finalistas estarão nas colunas <font color='red'> HomeTeamName</font> e <font color='red'>AwayTeamName</font>\n",
    "\n",
    "Escolha uma:<br>\n",
    "<b>a. ['France', 'Argentina', 'Germany', 'Belgium']</b><br>\n",
    "<b>b. ['Franca', 'Argentina', 'Alemanha', 'Belgica']</b><br>\n",
    "<b>c. ['Franca', 'Argentin', 'German', 'Belgium']</b><br>\n",
    "<b>d. ['France', 'Argentina', 'Germany FR', 'Belgium']</b><br>"
   ]
  },
  {
   "cell_type": "code",
   "execution_count": 9,
   "metadata": {},
   "outputs": [
    {
     "name": "stdout",
     "output_type": "stream",
     "text": [
      "Resposta:  ['France', 'Argentina', 'Germany FR', 'Belgium']\n"
     ]
    }
   ],
   "source": [
    "uniqueStages = copa_partidas['Stage'].unique()\n",
    "\n",
    "semi_finals = copa_partidas.query('Stage == \"Semi-finals\"')\n",
    "\n",
    "#semi_finals.query('Year == 1986') -- imprime todos os dados dos times que chegaram na semi-final de 1986\n",
    "lista = list(semi_finals.query('Year == 1986')['HomeTeamName']) + list(semi_finals.query('Year == 1986')['AwayTeamName'])\n",
    "\n",
    "print(\"Resposta: \", lista)"
   ]
  },
  {
   "cell_type": "markdown",
   "metadata": {},
   "source": [
    "### Exercício 3)\n",
    "Quantas vezes o Brasil jogou contra a Argentina em copas do mundo?\n",
    "\n",
    "<b>DICA:</b> Utilize o método query combinando & (AND) e | (OR)\n",
    "\n",
    "Escolha uma:<br>\n",
    "<b>a. 5</b><br>\n",
    "<b>b. 4</b><br>\n",
    "<b>c. 6</b><br>\n",
    "<b>d. 7</b><br>"
   ]
  },
  {
   "cell_type": "code",
   "execution_count": 24,
   "metadata": {},
   "outputs": [
    {
     "name": "stdout",
     "output_type": "stream",
     "text": [
      "Resposta:  4\n"
     ]
    }
   ],
   "source": [
    "braVsArg = copa_partidas.query('HomeTeamInitials == \"ARG\" & AwayTeamInitials == \"BRA\" | HomeTeamInitials == \"BRA\" & AwayTeamInitials == \"ARG\"')\n",
    "print(\"Resposta: \", len(braVsArg.values))"
   ]
  },
  {
   "cell_type": "markdown",
   "metadata": {},
   "source": [
    "### Exercício 4)\n",
    "Qual foi a partida em copa do mundo com o maior número de espectadores?\n",
    "\n",
    "<b>DICA:</b> Ordene o DataFrame pela coluna <font color='red'>Attendance</font>\n",
    "\n",
    "Escolha uma:<br>\n",
    "<b>a. Brazil X Sweden em 1950</b><br>\n",
    "<b>b. Uruguay X Brazil em 1950</b><br>\n",
    "<b>c. Mexico X Paraguay em 1986</b><br>\n",
    "<b>d. Argentina X England em 1986</b><br>"
   ]
  },
  {
   "cell_type": "code",
   "execution_count": 51,
   "metadata": {},
   "outputs": [
    {
     "name": "stdout",
     "output_type": "stream",
     "text": [
      "Resposta: Uruguay X Brazil em 1950\n"
     ]
    }
   ],
   "source": [
    "mask = (max(copa_partidas.sort_values('Attendance')['Attendance']) == copa_partidas['Attendance'])\n",
    "l1 = list(copa_partidas[mask]['Year'])\n",
    "l2 = list(copa_partidas[mask]['HomeTeamName'])\n",
    "l3 = list(copa_partidas[mask]['AwayTeamName'])\n",
    "\n",
    "print(\"Resposta: \" + str(l2[0]) + \" X \" + str(l3[0]) + \" em \" + str(l1[0]))"
   ]
  },
  {
   "cell_type": "markdown",
   "metadata": {},
   "source": [
    "### Exercício 5)\n",
    "Qual foi o estádio com o maior número de partidas?\n",
    "\n",
    "<b>DICA:</b> Construa um dicionário onde a chave é o nome do estádio e o valor o número de partidas disputadas naquele estádio. Busque pela tupla (chave,valor) onde valor é máximo.\n",
    "\n",
    "Escolha uma:<br>\n",
    "<b>a. Nacional</b><br>\n",
    "<b>b. Maracana</b><br>\n",
    "<b>c. Jalisco</b><br>\n",
    "<b>d. Estadio Azteca</b><br>"
   ]
  },
  {
   "cell_type": "code",
   "execution_count": 105,
   "metadata": {},
   "outputs": [
    {
     "name": "stdout",
     "output_type": "stream",
     "text": [
      "Resposta:  Estadio Azteca\n"
     ]
    }
   ],
   "source": [
    "estadio = copa_partidas['Stadium'].value_counts()\n",
    "\n",
    "estadio.index = estadio.index.astype(str)\n",
    "dic = estadio.to_dict()\n",
    "\n",
    "valor = [key for (key,value) in dic.items() if (max(dic.values()) == value)]\n",
    "print(\"Resposta: \",valor[0])"
   ]
  }
 ],
 "metadata": {
  "kernelspec": {
   "display_name": "Python 3",
   "language": "python",
   "name": "python3"
  },
  "language_info": {
   "codemirror_mode": {
    "name": "ipython",
    "version": 3
   },
   "file_extension": ".py",
   "mimetype": "text/x-python",
   "name": "python",
   "nbconvert_exporter": "python",
   "pygments_lexer": "ipython3",
   "version": "3.7.3"
  }
 },
 "nbformat": 4,
 "nbformat_minor": 2
}
