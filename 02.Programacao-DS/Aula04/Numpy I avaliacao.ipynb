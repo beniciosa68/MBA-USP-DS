{
 "cells": [
  {
   "cell_type": "markdown",
   "metadata": {},
   "source": [
    "# <span style=\"color:blue\"> MBA em Ciência de Dados</span>\n",
    "# <span style=\"color:blue\">Programação para Ciência de Dados</span>\n",
    "\n",
    "## <span style=\"color:blue\">Avaliação Numpy Parte I</span>\n",
    "**Material Produzido por Luis Gustavo Nonato**<br>\n",
    "**Cemeai - ICMC/USP São Carlos**"
   ]
  },
  {
   "cell_type": "markdown",
   "metadata": {},
   "source": [
    "### Exercício 1)\n",
    "\n",
    "Considere o array <font color='red'>X</font> como descrito abaixo:\n",
    "```python\n",
    "[[0 1 2 3 4]\n",
    " [5 6 7 8 9]\n",
    " [10 11 12 13 14]\n",
    " [15 16 17 18 19]]\n",
    "```\n",
    "Qual dos códigos abaixo retorna um array com os elementos 12, 18 e 6?\n",
    "\n",
    "Escolha uma:<br>\n",
    "\n",
    "<b>a. print(X[[2,3,1],[2,3,1]])</b><br>\n",
    "<b>b. print(X[:,[2,3,1])</b><br>\n",
    "<b>c. print(X[1,2,3])</b><br>\n",
    "<b>d. print([1,2,3],:)</b><br>"
   ]
  },
  {
   "cell_type": "code",
   "execution_count": null,
   "metadata": {},
   "outputs": [],
   "source": []
  },
  {
   "cell_type": "markdown",
   "metadata": {},
   "source": [
    "### Exercício 2)\n",
    "Considerando o array <font color='red'>X</font> do exercício 1), qual dos códigos abaixo retorna o array\n",
    "```python\n",
    "[[ 5 7 8]\n",
    " [10 12 13]]\n",
    "```\n",
    "Escolha uma:<br>\n",
    "<b>a. print(X[1:3,:3])</b><br>\n",
    "<b>b. print(X[1:3,[0,2,3]])</b><br>\n",
    "<b>c. print(X[1:3,0:2:3]])</b><br>\n",
    "<b>d. print(X[[1,2,3],[0,2,3]])</b><br>"
   ]
  },
  {
   "cell_type": "code",
   "execution_count": null,
   "metadata": {},
   "outputs": [],
   "source": []
  },
  {
   "cell_type": "markdown",
   "metadata": {},
   "source": [
    "### Exercício 3)\n",
    "Considere o numpy array <font color='red'>A</font> abaixo:\n",
    "```python\n",
    "[[ 2 19 16 1 12 7]\n",
    " [ 5 19 18 17 9 3]\n",
    " [16 4 18 11 4 2]\n",
    " [ 6 2 18 14 15 15]\n",
    " [ 4 8 1 14 19 13]]\n",
    "```\n",
    "Qual das alternativas abaixo corresponde a saída do comando:\n",
    "\n",
    "```python\n",
    "print(A.ndim, A.shape, A.size)\n",
    "```\n",
    "\n",
    "Escolha uma:<br>\n",
    "<b>a. (5, 6) 2 2</b><br>\n",
    "<b>b. 2 (5, 6) 30</b><br>\n",
    "<b>c. 2 (5, 6) 2</b><br>\n",
    "<b>d. (5, 6) 2 30</b><br>"
   ]
  },
  {
   "cell_type": "code",
   "execution_count": null,
   "metadata": {},
   "outputs": [],
   "source": []
  },
  {
   "cell_type": "markdown",
   "metadata": {},
   "source": [
    "### Exercício 4)\n",
    "Considere o numpy array <font color='red'>A</font> do exercício anterior. Escreva um código para criar uma máscara para selecionar todos os elementos pares do array e armazena-los em uma novo array unidimensional <font color='red'>B</font> . O resultado do comando\n",
    "```python\n",
    "print(B.size)\n",
    "```\n",
    "será:\n",
    "\n",
    "Escolha uma:<br>\n",
    "<b>a. 17</b><br>\n",
    "<b>b. 16</b><br>\n",
    "<b>c. 15</b><br>\n",
    "<b>d. 13</b><br>"
   ]
  },
  {
   "cell_type": "code",
   "execution_count": null,
   "metadata": {},
   "outputs": [],
   "source": []
  },
  {
   "cell_type": "markdown",
   "metadata": {},
   "source": [
    "### Exercício 5)\n",
    "Ainda considerando o array <font color='red'>A</font> do exercício 3), que alternativa melhor explica o que o código abaixo está realizando:\n",
    "\n",
    "```python\n",
    "l_mask = [j%2!=0 for i in range(A.shape[0]) for j in range(A.shape[1])]\n",
    "mask = np.array(l_mask).reshape(A.shape)\n",
    "A[mask] = -1\n",
    "```\n",
    "\n",
    "Escolha uma:<br>\n",
    "<b>a. troca os elementos ímpares da matriz por -1 utilizando uma máscara booleana</b><br>\n",
    "<b>b. troca os elementos pares da matriz por -1 utilizando uma máscara booleana</b><br>\n",
    "<b>c. insere elementos -1 nas linhas ímpares de <font color='red'>A</font> utilizando uma máscara booleana</b><br>\n",
    "<b>d. insere elementos -1 nas colunas ímpares de <font color='red'>A</font> utilizando uma máscara booleana</b><br>"
   ]
  },
  {
   "cell_type": "code",
   "execution_count": null,
   "metadata": {},
   "outputs": [],
   "source": []
  }
 ],
 "metadata": {
  "kernelspec": {
   "display_name": "Python 3",
   "language": "python",
   "name": "python3"
  },
  "language_info": {
   "codemirror_mode": {
    "name": "ipython",
    "version": 3
   },
   "file_extension": ".py",
   "mimetype": "text/x-python",
   "name": "python",
   "nbconvert_exporter": "python",
   "pygments_lexer": "ipython3",
   "version": "3.7.3"
  }
 },
 "nbformat": 4,
 "nbformat_minor": 2
}
