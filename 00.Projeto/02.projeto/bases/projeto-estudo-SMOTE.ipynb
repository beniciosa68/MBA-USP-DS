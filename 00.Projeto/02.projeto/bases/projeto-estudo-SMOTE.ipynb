{
 "cells": [
  {
   "cell_type": "code",
   "execution_count": 22,
   "metadata": {
    "id": "lCKOLYy4ZpBl"
   },
   "outputs": [],
   "source": [
    "import random #randomização\n",
    "import numpy as np #tratamentos numéricos\n",
    "import pandas as pd #dataframes\n",
    "import seaborn as sns #distribuições\n",
    "from sklearn import metrics #metricas\n",
    "from sklearn.svm import SVC #técnica SVM\n",
    "from imblearn import combine #técnica de SMOTE (combine)\n",
    "import matplotlib.pyplot as plt #gráficos\n",
    "from imblearn import over_sampling #técnica de SMOTE (over_sampling)\n",
    "from imblearn import under_sampling #técnica de SMOTE (under_sampling)\n",
    "from sklearn.metrics import f1_score #avaliar modelo pela métrica f1_score\n",
    "from sklearn.decomposition import PCA #técnica PCA\n",
    "from sklearn.metrics import recall_score #avaliar modelo pela métrica recall_score\n",
    "from sklearn.metrics import roc_auc_score #avaliar modelo pela métrica roc_auc_score\n",
    "from sklearn.metrics import accuracy_score #avaliar modelo pela métrica accuracy_score\n",
    "from sklearn.metrics import precision_score #avaliar modelo pela métrica precision_score\n",
    "from sklearn.preprocessing import StandardScaler #padronização\n",
    "from sklearn.metrics import plot_confusion_matrix #análise de matriz de confusão\n",
    "from sklearn.linear_model import LinearRegression #regressão linear\n",
    "from sklearn.neighbors import KNeighborsClassifier #k-vizinhos"
   ]
  },
  {
   "cell_type": "code",
   "execution_count": 2,
   "metadata": {
    "colab": {
     "base_uri": "https://localhost:8080/",
     "height": 221
    },
    "id": "NYe4bnUXaHS1",
    "outputId": "d5ad9542-3caf-48a1-90ba-bb791800342a"
   },
   "outputs": [
    {
     "name": "stdout",
     "output_type": "stream",
     "text": [
      "Número de linhas e colunas: (241600, 18)\n"
     ]
    },
    {
     "data": {
      "text/html": [
       "<div>\n",
       "<style scoped>\n",
       "    .dataframe tbody tr th:only-of-type {\n",
       "        vertical-align: middle;\n",
       "    }\n",
       "\n",
       "    .dataframe tbody tr th {\n",
       "        vertical-align: top;\n",
       "    }\n",
       "\n",
       "    .dataframe thead th {\n",
       "        text-align: right;\n",
       "    }\n",
       "</style>\n",
       "<table border=\"1\" class=\"dataframe\">\n",
       "  <thead>\n",
       "    <tr style=\"text-align: right;\">\n",
       "      <th></th>\n",
       "      <th>MWG</th>\n",
       "      <th>NWG</th>\n",
       "      <th>KWG</th>\n",
       "      <th>MDIMC</th>\n",
       "      <th>NDIMC</th>\n",
       "      <th>MDIMA</th>\n",
       "      <th>NDIMB</th>\n",
       "      <th>KWI</th>\n",
       "      <th>VWM</th>\n",
       "      <th>VWN</th>\n",
       "      <th>STRM</th>\n",
       "      <th>STRN</th>\n",
       "      <th>SA</th>\n",
       "      <th>SB</th>\n",
       "      <th>Run1 (ms)</th>\n",
       "      <th>Run2 (ms)</th>\n",
       "      <th>Run3 (ms)</th>\n",
       "      <th>Run4 (ms)</th>\n",
       "    </tr>\n",
       "  </thead>\n",
       "  <tbody>\n",
       "    <tr>\n",
       "      <th>0</th>\n",
       "      <td>16</td>\n",
       "      <td>16</td>\n",
       "      <td>16</td>\n",
       "      <td>8</td>\n",
       "      <td>8</td>\n",
       "      <td>8</td>\n",
       "      <td>8</td>\n",
       "      <td>2</td>\n",
       "      <td>1</td>\n",
       "      <td>1</td>\n",
       "      <td>0</td>\n",
       "      <td>0</td>\n",
       "      <td>0</td>\n",
       "      <td>0</td>\n",
       "      <td>115.26</td>\n",
       "      <td>115.87</td>\n",
       "      <td>118.55</td>\n",
       "      <td>115.80</td>\n",
       "    </tr>\n",
       "    <tr>\n",
       "      <th>1</th>\n",
       "      <td>16</td>\n",
       "      <td>16</td>\n",
       "      <td>16</td>\n",
       "      <td>8</td>\n",
       "      <td>8</td>\n",
       "      <td>8</td>\n",
       "      <td>8</td>\n",
       "      <td>2</td>\n",
       "      <td>1</td>\n",
       "      <td>1</td>\n",
       "      <td>0</td>\n",
       "      <td>0</td>\n",
       "      <td>0</td>\n",
       "      <td>1</td>\n",
       "      <td>78.13</td>\n",
       "      <td>78.25</td>\n",
       "      <td>79.25</td>\n",
       "      <td>79.19</td>\n",
       "    </tr>\n",
       "    <tr>\n",
       "      <th>2</th>\n",
       "      <td>16</td>\n",
       "      <td>16</td>\n",
       "      <td>16</td>\n",
       "      <td>8</td>\n",
       "      <td>8</td>\n",
       "      <td>8</td>\n",
       "      <td>8</td>\n",
       "      <td>2</td>\n",
       "      <td>1</td>\n",
       "      <td>1</td>\n",
       "      <td>0</td>\n",
       "      <td>0</td>\n",
       "      <td>1</td>\n",
       "      <td>0</td>\n",
       "      <td>79.84</td>\n",
       "      <td>80.69</td>\n",
       "      <td>80.76</td>\n",
       "      <td>80.97</td>\n",
       "    </tr>\n",
       "    <tr>\n",
       "      <th>3</th>\n",
       "      <td>16</td>\n",
       "      <td>16</td>\n",
       "      <td>16</td>\n",
       "      <td>8</td>\n",
       "      <td>8</td>\n",
       "      <td>8</td>\n",
       "      <td>8</td>\n",
       "      <td>2</td>\n",
       "      <td>1</td>\n",
       "      <td>1</td>\n",
       "      <td>0</td>\n",
       "      <td>0</td>\n",
       "      <td>1</td>\n",
       "      <td>1</td>\n",
       "      <td>84.32</td>\n",
       "      <td>89.90</td>\n",
       "      <td>86.75</td>\n",
       "      <td>85.58</td>\n",
       "    </tr>\n",
       "    <tr>\n",
       "      <th>4</th>\n",
       "      <td>16</td>\n",
       "      <td>16</td>\n",
       "      <td>16</td>\n",
       "      <td>8</td>\n",
       "      <td>8</td>\n",
       "      <td>8</td>\n",
       "      <td>8</td>\n",
       "      <td>2</td>\n",
       "      <td>1</td>\n",
       "      <td>1</td>\n",
       "      <td>0</td>\n",
       "      <td>1</td>\n",
       "      <td>0</td>\n",
       "      <td>0</td>\n",
       "      <td>115.13</td>\n",
       "      <td>121.98</td>\n",
       "      <td>122.73</td>\n",
       "      <td>114.81</td>\n",
       "    </tr>\n",
       "  </tbody>\n",
       "</table>\n",
       "</div>"
      ],
      "text/plain": [
       "   MWG  NWG  KWG  MDIMC  NDIMC  ...  SB  Run1 (ms)  Run2 (ms)  Run3 (ms)  Run4 (ms)\n",
       "0   16   16   16      8      8  ...   0     115.26     115.87     118.55     115.80\n",
       "1   16   16   16      8      8  ...   1      78.13      78.25      79.25      79.19\n",
       "2   16   16   16      8      8  ...   0      79.84      80.69      80.76      80.97\n",
       "3   16   16   16      8      8  ...   1      84.32      89.90      86.75      85.58\n",
       "4   16   16   16      8      8  ...   0     115.13     121.98     122.73     114.81\n",
       "\n",
       "[5 rows x 18 columns]"
      ]
     },
     "execution_count": 2,
     "metadata": {
      "tags": []
     },
     "output_type": "execute_result"
    }
   ],
   "source": [
    "df = pd.read_csv('sgemm_product.csv',sep=',')\n",
    "#df1 = pd.read_csv('sgemm_product.csv',sep=',')\n",
    "#df = df1.sample(frac=0.4) #limitar o tamanho apenas para processamento mais rápido e testar técnicas\n",
    "print('Número de linhas e colunas:',df.shape)\n",
    "df.head()"
   ]
  },
  {
   "cell_type": "code",
   "execution_count": 3,
   "metadata": {
    "colab": {
     "base_uri": "https://localhost:8080/",
     "height": 204
    },
    "id": "DW4Wed8uaIxM",
    "outputId": "cddead8b-0340-4ad0-d945-db3080e91ba7"
   },
   "outputs": [
    {
     "data": {
      "text/html": [
       "<div>\n",
       "<style scoped>\n",
       "    .dataframe tbody tr th:only-of-type {\n",
       "        vertical-align: middle;\n",
       "    }\n",
       "\n",
       "    .dataframe tbody tr th {\n",
       "        vertical-align: top;\n",
       "    }\n",
       "\n",
       "    .dataframe thead th {\n",
       "        text-align: right;\n",
       "    }\n",
       "</style>\n",
       "<table border=\"1\" class=\"dataframe\">\n",
       "  <thead>\n",
       "    <tr style=\"text-align: right;\">\n",
       "      <th></th>\n",
       "      <th>MWG</th>\n",
       "      <th>NWG</th>\n",
       "      <th>KWG</th>\n",
       "      <th>MDIMC</th>\n",
       "      <th>NDIMC</th>\n",
       "      <th>MDIMA</th>\n",
       "      <th>NDIMB</th>\n",
       "      <th>KWI</th>\n",
       "      <th>VWM</th>\n",
       "      <th>VWN</th>\n",
       "      <th>STRM</th>\n",
       "      <th>STRN</th>\n",
       "      <th>SA</th>\n",
       "      <th>SB</th>\n",
       "      <th>Run1 (ms)</th>\n",
       "      <th>Run2 (ms)</th>\n",
       "      <th>Run3 (ms)</th>\n",
       "      <th>Run4 (ms)</th>\n",
       "    </tr>\n",
       "  </thead>\n",
       "  <tbody>\n",
       "    <tr>\n",
       "      <th>0</th>\n",
       "      <td>16</td>\n",
       "      <td>16</td>\n",
       "      <td>16</td>\n",
       "      <td>8.0</td>\n",
       "      <td>8.0</td>\n",
       "      <td>8</td>\n",
       "      <td>8</td>\n",
       "      <td>2</td>\n",
       "      <td>1</td>\n",
       "      <td>1</td>\n",
       "      <td>0</td>\n",
       "      <td>0</td>\n",
       "      <td>0</td>\n",
       "      <td>0</td>\n",
       "      <td>115.26</td>\n",
       "      <td>115.87</td>\n",
       "      <td>118.55</td>\n",
       "      <td>115.80</td>\n",
       "    </tr>\n",
       "    <tr>\n",
       "      <th>1</th>\n",
       "      <td>16</td>\n",
       "      <td>16</td>\n",
       "      <td>16</td>\n",
       "      <td>8.0</td>\n",
       "      <td>8.0</td>\n",
       "      <td>8</td>\n",
       "      <td>8</td>\n",
       "      <td>2</td>\n",
       "      <td>1</td>\n",
       "      <td>1</td>\n",
       "      <td>0</td>\n",
       "      <td>0</td>\n",
       "      <td>0</td>\n",
       "      <td>1</td>\n",
       "      <td>78.13</td>\n",
       "      <td>78.25</td>\n",
       "      <td>79.25</td>\n",
       "      <td>79.19</td>\n",
       "    </tr>\n",
       "    <tr>\n",
       "      <th>2</th>\n",
       "      <td>16</td>\n",
       "      <td>16</td>\n",
       "      <td>16</td>\n",
       "      <td>8.0</td>\n",
       "      <td>8.0</td>\n",
       "      <td>8</td>\n",
       "      <td>8</td>\n",
       "      <td>2</td>\n",
       "      <td>1</td>\n",
       "      <td>1</td>\n",
       "      <td>0</td>\n",
       "      <td>0</td>\n",
       "      <td>1</td>\n",
       "      <td>0</td>\n",
       "      <td>79.84</td>\n",
       "      <td>80.69</td>\n",
       "      <td>80.76</td>\n",
       "      <td>80.97</td>\n",
       "    </tr>\n",
       "    <tr>\n",
       "      <th>3</th>\n",
       "      <td>16</td>\n",
       "      <td>16</td>\n",
       "      <td>16</td>\n",
       "      <td>8.0</td>\n",
       "      <td>8.0</td>\n",
       "      <td>8</td>\n",
       "      <td>8</td>\n",
       "      <td>2</td>\n",
       "      <td>1</td>\n",
       "      <td>1</td>\n",
       "      <td>0</td>\n",
       "      <td>0</td>\n",
       "      <td>1</td>\n",
       "      <td>1</td>\n",
       "      <td>84.32</td>\n",
       "      <td>89.90</td>\n",
       "      <td>86.75</td>\n",
       "      <td>85.58</td>\n",
       "    </tr>\n",
       "    <tr>\n",
       "      <th>4</th>\n",
       "      <td>16</td>\n",
       "      <td>16</td>\n",
       "      <td>16</td>\n",
       "      <td>8.0</td>\n",
       "      <td>8.0</td>\n",
       "      <td>8</td>\n",
       "      <td>8</td>\n",
       "      <td>2</td>\n",
       "      <td>1</td>\n",
       "      <td>1</td>\n",
       "      <td>0</td>\n",
       "      <td>1</td>\n",
       "      <td>0</td>\n",
       "      <td>0</td>\n",
       "      <td>115.13</td>\n",
       "      <td>121.98</td>\n",
       "      <td>122.73</td>\n",
       "      <td>114.81</td>\n",
       "    </tr>\n",
       "  </tbody>\n",
       "</table>\n",
       "</div>"
      ],
      "text/plain": [
       "   MWG  NWG  KWG  MDIMC  NDIMC  ...  SB  Run1 (ms)  Run2 (ms)  Run3 (ms)  Run4 (ms)\n",
       "0   16   16   16    8.0    8.0  ...   0     115.26     115.87     118.55     115.80\n",
       "1   16   16   16    8.0    8.0  ...   1      78.13      78.25      79.25      79.19\n",
       "2   16   16   16    8.0    8.0  ...   0      79.84      80.69      80.76      80.97\n",
       "3   16   16   16    8.0    8.0  ...   1      84.32      89.90      86.75      85.58\n",
       "4   16   16   16    8.0    8.0  ...   0     115.13     121.98     122.73     114.81\n",
       "\n",
       "[5 rows x 18 columns]"
      ]
     },
     "execution_count": 3,
     "metadata": {
      "tags": []
     },
     "output_type": "execute_result"
    }
   ],
   "source": [
    "#detectando e removendo outliers\n",
    "def detect_remove_outlier(data):\n",
    "    Q1 = data.quantile(0.25)\n",
    "    Q3 = data.quantile(0.75)\n",
    "    IQR = Q3-Q1\n",
    "    mask = ((data > (Q1 - 1.5 * IQR)) & (data < (Q3 + 1.5 * IQR)))\n",
    "    data_clean = data[mask]\n",
    "    return data_clean\n",
    "\n",
    "df_clean = detect_remove_outlier(df)\n",
    "df_clean.head()"
   ]
  },
  {
   "cell_type": "code",
   "execution_count": 4,
   "metadata": {
    "colab": {
     "base_uri": "https://localhost:8080/"
    },
    "id": "h7H528AhaOBu",
    "outputId": "6797385c-9214-400d-8dcd-9c61ab0b9f5e"
   },
   "outputs": [
    {
     "name": "stdout",
     "output_type": "stream",
     "text": [
      "Tamanho da base sem outliers: (153253, 19)\n"
     ]
    },
    {
     "data": {
      "text/plain": [
       "Run4 (ms)    0\n",
       "KWI          0\n",
       "MWG          0\n",
       "NWG          0\n",
       "KWG          0\n",
       "MDIMC        0\n",
       "NDIMC        0\n",
       "MDIMA        0\n",
       "NDIMB        0\n",
       "VWM          0\n",
       "Run3 (ms)    0\n",
       "VWN          0\n",
       "STRM         0\n",
       "STRN         0\n",
       "SA           0\n",
       "SB           0\n",
       "Run1 (ms)    0\n",
       "Run2 (ms)    0\n",
       "dtype: int64"
      ]
     },
     "execution_count": 4,
     "metadata": {
      "tags": []
     },
     "output_type": "execute_result"
    }
   ],
   "source": [
    "#dropando as linhas com NaN\n",
    "df_clean = df_clean.dropna()\n",
    "df_clean = df_clean.reset_index()\n",
    "print('Tamanho da base sem outliers:',df_clean.shape)\n",
    "df_clean.isnull().sum().sort_values(ascending=False).head(18)"
   ]
  },
  {
   "cell_type": "code",
   "execution_count": 5,
   "metadata": {
    "id": "-bEKxEwMaQqq"
   },
   "outputs": [],
   "source": [
    "#Consolidando os atributos de predição em um único apenas, considerando suas médias\n",
    "run = df_clean.iloc[:,-4:].mean(axis=1)\n",
    "df_clean['Run (ms)'] = pd.Series(run)"
   ]
  },
  {
   "cell_type": "code",
   "execution_count": 6,
   "metadata": {
    "colab": {
     "base_uri": "https://localhost:8080/",
     "height": 419
    },
    "id": "YwnRn1mYaUgm",
    "outputId": "6ce4e44f-96f7-47fe-a393-a8bdfe1ee172"
   },
   "outputs": [
    {
     "data": {
      "text/html": [
       "<div>\n",
       "<style scoped>\n",
       "    .dataframe tbody tr th:only-of-type {\n",
       "        vertical-align: middle;\n",
       "    }\n",
       "\n",
       "    .dataframe tbody tr th {\n",
       "        vertical-align: top;\n",
       "    }\n",
       "\n",
       "    .dataframe thead th {\n",
       "        text-align: right;\n",
       "    }\n",
       "</style>\n",
       "<table border=\"1\" class=\"dataframe\">\n",
       "  <thead>\n",
       "    <tr style=\"text-align: right;\">\n",
       "      <th></th>\n",
       "      <th>index</th>\n",
       "      <th>MWG</th>\n",
       "      <th>NWG</th>\n",
       "      <th>KWG</th>\n",
       "      <th>MDIMC</th>\n",
       "      <th>NDIMC</th>\n",
       "      <th>MDIMA</th>\n",
       "      <th>NDIMB</th>\n",
       "      <th>KWI</th>\n",
       "      <th>VWM</th>\n",
       "      <th>VWN</th>\n",
       "      <th>STRM</th>\n",
       "      <th>STRN</th>\n",
       "      <th>SA</th>\n",
       "      <th>SB</th>\n",
       "      <th>Run1 (ms)</th>\n",
       "      <th>Run2 (ms)</th>\n",
       "      <th>Run3 (ms)</th>\n",
       "      <th>Run4 (ms)</th>\n",
       "      <th>Run (ms)</th>\n",
       "    </tr>\n",
       "  </thead>\n",
       "  <tbody>\n",
       "    <tr>\n",
       "      <th>0</th>\n",
       "      <td>0</td>\n",
       "      <td>16</td>\n",
       "      <td>16</td>\n",
       "      <td>16</td>\n",
       "      <td>8.0</td>\n",
       "      <td>8.0</td>\n",
       "      <td>8</td>\n",
       "      <td>8</td>\n",
       "      <td>2</td>\n",
       "      <td>1</td>\n",
       "      <td>1</td>\n",
       "      <td>0</td>\n",
       "      <td>0</td>\n",
       "      <td>0</td>\n",
       "      <td>0</td>\n",
       "      <td>115.26</td>\n",
       "      <td>115.87</td>\n",
       "      <td>118.55</td>\n",
       "      <td>115.80</td>\n",
       "      <td>116.3700</td>\n",
       "    </tr>\n",
       "    <tr>\n",
       "      <th>1</th>\n",
       "      <td>1</td>\n",
       "      <td>16</td>\n",
       "      <td>16</td>\n",
       "      <td>16</td>\n",
       "      <td>8.0</td>\n",
       "      <td>8.0</td>\n",
       "      <td>8</td>\n",
       "      <td>8</td>\n",
       "      <td>2</td>\n",
       "      <td>1</td>\n",
       "      <td>1</td>\n",
       "      <td>0</td>\n",
       "      <td>0</td>\n",
       "      <td>0</td>\n",
       "      <td>1</td>\n",
       "      <td>78.13</td>\n",
       "      <td>78.25</td>\n",
       "      <td>79.25</td>\n",
       "      <td>79.19</td>\n",
       "      <td>78.7050</td>\n",
       "    </tr>\n",
       "    <tr>\n",
       "      <th>2</th>\n",
       "      <td>2</td>\n",
       "      <td>16</td>\n",
       "      <td>16</td>\n",
       "      <td>16</td>\n",
       "      <td>8.0</td>\n",
       "      <td>8.0</td>\n",
       "      <td>8</td>\n",
       "      <td>8</td>\n",
       "      <td>2</td>\n",
       "      <td>1</td>\n",
       "      <td>1</td>\n",
       "      <td>0</td>\n",
       "      <td>0</td>\n",
       "      <td>1</td>\n",
       "      <td>0</td>\n",
       "      <td>79.84</td>\n",
       "      <td>80.69</td>\n",
       "      <td>80.76</td>\n",
       "      <td>80.97</td>\n",
       "      <td>80.5650</td>\n",
       "    </tr>\n",
       "    <tr>\n",
       "      <th>3</th>\n",
       "      <td>3</td>\n",
       "      <td>16</td>\n",
       "      <td>16</td>\n",
       "      <td>16</td>\n",
       "      <td>8.0</td>\n",
       "      <td>8.0</td>\n",
       "      <td>8</td>\n",
       "      <td>8</td>\n",
       "      <td>2</td>\n",
       "      <td>1</td>\n",
       "      <td>1</td>\n",
       "      <td>0</td>\n",
       "      <td>0</td>\n",
       "      <td>1</td>\n",
       "      <td>1</td>\n",
       "      <td>84.32</td>\n",
       "      <td>89.90</td>\n",
       "      <td>86.75</td>\n",
       "      <td>85.58</td>\n",
       "      <td>86.6375</td>\n",
       "    </tr>\n",
       "    <tr>\n",
       "      <th>4</th>\n",
       "      <td>4</td>\n",
       "      <td>16</td>\n",
       "      <td>16</td>\n",
       "      <td>16</td>\n",
       "      <td>8.0</td>\n",
       "      <td>8.0</td>\n",
       "      <td>8</td>\n",
       "      <td>8</td>\n",
       "      <td>2</td>\n",
       "      <td>1</td>\n",
       "      <td>1</td>\n",
       "      <td>0</td>\n",
       "      <td>1</td>\n",
       "      <td>0</td>\n",
       "      <td>0</td>\n",
       "      <td>115.13</td>\n",
       "      <td>121.98</td>\n",
       "      <td>122.73</td>\n",
       "      <td>114.81</td>\n",
       "      <td>118.6625</td>\n",
       "    </tr>\n",
       "    <tr>\n",
       "      <th>...</th>\n",
       "      <td>...</td>\n",
       "      <td>...</td>\n",
       "      <td>...</td>\n",
       "      <td>...</td>\n",
       "      <td>...</td>\n",
       "      <td>...</td>\n",
       "      <td>...</td>\n",
       "      <td>...</td>\n",
       "      <td>...</td>\n",
       "      <td>...</td>\n",
       "      <td>...</td>\n",
       "      <td>...</td>\n",
       "      <td>...</td>\n",
       "      <td>...</td>\n",
       "      <td>...</td>\n",
       "      <td>...</td>\n",
       "      <td>...</td>\n",
       "      <td>...</td>\n",
       "      <td>...</td>\n",
       "      <td>...</td>\n",
       "    </tr>\n",
       "    <tr>\n",
       "      <th>153248</th>\n",
       "      <td>235451</td>\n",
       "      <td>128</td>\n",
       "      <td>128</td>\n",
       "      <td>32</td>\n",
       "      <td>16.0</td>\n",
       "      <td>16.0</td>\n",
       "      <td>32</td>\n",
       "      <td>32</td>\n",
       "      <td>8</td>\n",
       "      <td>4</td>\n",
       "      <td>4</td>\n",
       "      <td>1</td>\n",
       "      <td>0</td>\n",
       "      <td>1</td>\n",
       "      <td>1</td>\n",
       "      <td>173.13</td>\n",
       "      <td>173.10</td>\n",
       "      <td>173.20</td>\n",
       "      <td>173.18</td>\n",
       "      <td>173.1525</td>\n",
       "    </tr>\n",
       "    <tr>\n",
       "      <th>153249</th>\n",
       "      <td>235452</td>\n",
       "      <td>128</td>\n",
       "      <td>128</td>\n",
       "      <td>32</td>\n",
       "      <td>16.0</td>\n",
       "      <td>16.0</td>\n",
       "      <td>32</td>\n",
       "      <td>32</td>\n",
       "      <td>8</td>\n",
       "      <td>4</td>\n",
       "      <td>4</td>\n",
       "      <td>1</td>\n",
       "      <td>1</td>\n",
       "      <td>0</td>\n",
       "      <td>0</td>\n",
       "      <td>317.68</td>\n",
       "      <td>317.05</td>\n",
       "      <td>316.85</td>\n",
       "      <td>317.34</td>\n",
       "      <td>317.2300</td>\n",
       "    </tr>\n",
       "    <tr>\n",
       "      <th>153250</th>\n",
       "      <td>235453</td>\n",
       "      <td>128</td>\n",
       "      <td>128</td>\n",
       "      <td>32</td>\n",
       "      <td>16.0</td>\n",
       "      <td>16.0</td>\n",
       "      <td>32</td>\n",
       "      <td>32</td>\n",
       "      <td>8</td>\n",
       "      <td>4</td>\n",
       "      <td>4</td>\n",
       "      <td>1</td>\n",
       "      <td>1</td>\n",
       "      <td>0</td>\n",
       "      <td>1</td>\n",
       "      <td>167.10</td>\n",
       "      <td>169.57</td>\n",
       "      <td>169.34</td>\n",
       "      <td>169.33</td>\n",
       "      <td>168.8350</td>\n",
       "    </tr>\n",
       "    <tr>\n",
       "      <th>153251</th>\n",
       "      <td>235454</td>\n",
       "      <td>128</td>\n",
       "      <td>128</td>\n",
       "      <td>32</td>\n",
       "      <td>16.0</td>\n",
       "      <td>16.0</td>\n",
       "      <td>32</td>\n",
       "      <td>32</td>\n",
       "      <td>8</td>\n",
       "      <td>4</td>\n",
       "      <td>4</td>\n",
       "      <td>1</td>\n",
       "      <td>1</td>\n",
       "      <td>1</td>\n",
       "      <td>0</td>\n",
       "      <td>150.23</td>\n",
       "      <td>152.80</td>\n",
       "      <td>152.35</td>\n",
       "      <td>152.25</td>\n",
       "      <td>151.9075</td>\n",
       "    </tr>\n",
       "    <tr>\n",
       "      <th>153252</th>\n",
       "      <td>235455</td>\n",
       "      <td>128</td>\n",
       "      <td>128</td>\n",
       "      <td>32</td>\n",
       "      <td>16.0</td>\n",
       "      <td>16.0</td>\n",
       "      <td>32</td>\n",
       "      <td>32</td>\n",
       "      <td>8</td>\n",
       "      <td>4</td>\n",
       "      <td>4</td>\n",
       "      <td>1</td>\n",
       "      <td>1</td>\n",
       "      <td>1</td>\n",
       "      <td>1</td>\n",
       "      <td>172.18</td>\n",
       "      <td>172.25</td>\n",
       "      <td>172.18</td>\n",
       "      <td>172.16</td>\n",
       "      <td>172.1925</td>\n",
       "    </tr>\n",
       "  </tbody>\n",
       "</table>\n",
       "<p>153253 rows × 20 columns</p>\n",
       "</div>"
      ],
      "text/plain": [
       "         index  MWG  NWG  KWG  ...  Run2 (ms)  Run3 (ms)  Run4 (ms)  Run (ms)\n",
       "0            0   16   16   16  ...     115.87     118.55     115.80  116.3700\n",
       "1            1   16   16   16  ...      78.25      79.25      79.19   78.7050\n",
       "2            2   16   16   16  ...      80.69      80.76      80.97   80.5650\n",
       "3            3   16   16   16  ...      89.90      86.75      85.58   86.6375\n",
       "4            4   16   16   16  ...     121.98     122.73     114.81  118.6625\n",
       "...        ...  ...  ...  ...  ...        ...        ...        ...       ...\n",
       "153248  235451  128  128   32  ...     173.10     173.20     173.18  173.1525\n",
       "153249  235452  128  128   32  ...     317.05     316.85     317.34  317.2300\n",
       "153250  235453  128  128   32  ...     169.57     169.34     169.33  168.8350\n",
       "153251  235454  128  128   32  ...     152.80     152.35     152.25  151.9075\n",
       "153252  235455  128  128   32  ...     172.25     172.18     172.16  172.1925\n",
       "\n",
       "[153253 rows x 20 columns]"
      ]
     },
     "execution_count": 6,
     "metadata": {
      "tags": []
     },
     "output_type": "execute_result"
    }
   ],
   "source": [
    "data = df_clean.copy()\n",
    "data"
   ]
  },
  {
   "cell_type": "code",
   "execution_count": 7,
   "metadata": {
    "colab": {
     "base_uri": "https://localhost:8080/",
     "height": 374
    },
    "id": "5lY_H4GNaWAK",
    "outputId": "80940d6c-7eee-4f9f-a66b-60fdde96e7a4"
   },
   "outputs": [
    {
     "name": "stderr",
     "output_type": "stream",
     "text": [
      "/usr/local/lib/python3.6/dist-packages/seaborn/distributions.py:2551: FutureWarning: `distplot` is a deprecated function and will be removed in a future version. Please adapt your code to use either `displot` (a figure-level function with similar flexibility) or `histplot` (an axes-level function for histograms).\n",
      "  warnings.warn(msg, FutureWarning)\n"
     ]
    },
    {
     "data": {
      "image/png": "[encoded data removed]",
      "text/plain": [
       "<Figure size 1152x360 with 1 Axes>"
      ]
     },
     "metadata": {
      "needs_background": "light",
      "tags": []
     },
     "output_type": "display_data"
    }
   ],
   "source": [
    "#aplicando log na variável alvo\n",
    "run_log = np.log(data['Run (ms)'])\n",
    "data.insert(20,'Run Log (ms)',run_log)\n",
    "\n",
    "plt.figure(figsize=(16,5))\n",
    "fig = sns.distplot(data.iloc[:,-1:])"
   ]
  },
  {
   "cell_type": "code",
   "execution_count": 8,
   "metadata": {
    "colab": {
     "base_uri": "https://localhost:8080/"
    },
    "id": "SZgQXfXTaZck",
    "outputId": "8a39f8b7-0c69-454a-f10a-ba57c6bb7f1a"
   },
   "outputs": [
    {
     "data": {
      "text/plain": [
       "array([1, 0, 2, 3, 4, 5], dtype=int8)"
      ]
     },
     "execution_count": 8,
     "metadata": {
      "tags": []
     },
     "output_type": "execute_result"
    }
   ],
   "source": [
    "#aplicando discretização dos dados no tempo de resposta\n",
    "\n",
    "#classificação utilizando os dados reais\n",
    "threshold = [0,100,200,300,400,500,600]\n",
    "run_disc = pd.cut(data['Run (ms)'], bins=threshold)\n",
    "\n",
    "#classificação utilizando dados log\n",
    "#threshold = [3,4,5,6] #classificação utilizando os dados log\n",
    "#run_disc = pd.cut(data['Run Log (ms)'], bins=threshold)\n",
    "\n",
    "#inserindo na base\n",
    "data.insert(21,'Run Discretizado (ms)',run_disc)\n",
    "\n",
    "#realizando o mapping numbers (transformando categorias em números)\n",
    "data['Run Discretizado Mapping (ms)'] = data['Run Discretizado (ms)'].astype('category').cat.codes\n",
    "data['Run Discretizado Mapping (ms)'].unique()"
   ]
  },
  {
   "cell_type": "code",
   "execution_count": 9,
   "metadata": {
    "colab": {
     "base_uri": "https://localhost:8080/",
     "height": 507
    },
    "id": "X02GRB-Aacos",
    "outputId": "42d194d5-bd39-4375-db28-2788052a514d"
   },
   "outputs": [
    {
     "name": "stdout",
     "output_type": "stream",
     "text": [
      "Se menor ou igual que  128.5751088070057 então será 0\n",
      "Se maior que  128.5751088070057 então será 1\n"
     ]
    },
    {
     "data": {
      "text/html": [
       "<div>\n",
       "<style scoped>\n",
       "    .dataframe tbody tr th:only-of-type {\n",
       "        vertical-align: middle;\n",
       "    }\n",
       "\n",
       "    .dataframe tbody tr th {\n",
       "        vertical-align: top;\n",
       "    }\n",
       "\n",
       "    .dataframe thead th {\n",
       "        text-align: right;\n",
       "    }\n",
       "</style>\n",
       "<table border=\"1\" class=\"dataframe\">\n",
       "  <thead>\n",
       "    <tr style=\"text-align: right;\">\n",
       "      <th></th>\n",
       "      <th>index</th>\n",
       "      <th>MWG</th>\n",
       "      <th>NWG</th>\n",
       "      <th>KWG</th>\n",
       "      <th>MDIMC</th>\n",
       "      <th>NDIMC</th>\n",
       "      <th>MDIMA</th>\n",
       "      <th>NDIMB</th>\n",
       "      <th>KWI</th>\n",
       "      <th>VWM</th>\n",
       "      <th>VWN</th>\n",
       "      <th>STRM</th>\n",
       "      <th>STRN</th>\n",
       "      <th>SA</th>\n",
       "      <th>SB</th>\n",
       "      <th>Run1 (ms)</th>\n",
       "      <th>Run2 (ms)</th>\n",
       "      <th>Run3 (ms)</th>\n",
       "      <th>Run4 (ms)</th>\n",
       "      <th>Run (ms)</th>\n",
       "      <th>Run Log (ms)</th>\n",
       "      <th>Run Discretizado (ms)</th>\n",
       "      <th>Run Discretizado Mapping (ms)</th>\n",
       "      <th>Run Binario</th>\n",
       "    </tr>\n",
       "  </thead>\n",
       "  <tbody>\n",
       "    <tr>\n",
       "      <th>0</th>\n",
       "      <td>0</td>\n",
       "      <td>16</td>\n",
       "      <td>16</td>\n",
       "      <td>16</td>\n",
       "      <td>8.0</td>\n",
       "      <td>8.0</td>\n",
       "      <td>8</td>\n",
       "      <td>8</td>\n",
       "      <td>2</td>\n",
       "      <td>1</td>\n",
       "      <td>1</td>\n",
       "      <td>0</td>\n",
       "      <td>0</td>\n",
       "      <td>0</td>\n",
       "      <td>0</td>\n",
       "      <td>115.26</td>\n",
       "      <td>115.87</td>\n",
       "      <td>118.55</td>\n",
       "      <td>115.80</td>\n",
       "      <td>116.3700</td>\n",
       "      <td>4.756775</td>\n",
       "      <td>(100, 200]</td>\n",
       "      <td>1</td>\n",
       "      <td>0</td>\n",
       "    </tr>\n",
       "    <tr>\n",
       "      <th>1</th>\n",
       "      <td>1</td>\n",
       "      <td>16</td>\n",
       "      <td>16</td>\n",
       "      <td>16</td>\n",
       "      <td>8.0</td>\n",
       "      <td>8.0</td>\n",
       "      <td>8</td>\n",
       "      <td>8</td>\n",
       "      <td>2</td>\n",
       "      <td>1</td>\n",
       "      <td>1</td>\n",
       "      <td>0</td>\n",
       "      <td>0</td>\n",
       "      <td>0</td>\n",
       "      <td>1</td>\n",
       "      <td>78.13</td>\n",
       "      <td>78.25</td>\n",
       "      <td>79.25</td>\n",
       "      <td>79.19</td>\n",
       "      <td>78.7050</td>\n",
       "      <td>4.365707</td>\n",
       "      <td>(0, 100]</td>\n",
       "      <td>0</td>\n",
       "      <td>0</td>\n",
       "    </tr>\n",
       "    <tr>\n",
       "      <th>2</th>\n",
       "      <td>2</td>\n",
       "      <td>16</td>\n",
       "      <td>16</td>\n",
       "      <td>16</td>\n",
       "      <td>8.0</td>\n",
       "      <td>8.0</td>\n",
       "      <td>8</td>\n",
       "      <td>8</td>\n",
       "      <td>2</td>\n",
       "      <td>1</td>\n",
       "      <td>1</td>\n",
       "      <td>0</td>\n",
       "      <td>0</td>\n",
       "      <td>1</td>\n",
       "      <td>0</td>\n",
       "      <td>79.84</td>\n",
       "      <td>80.69</td>\n",
       "      <td>80.76</td>\n",
       "      <td>80.97</td>\n",
       "      <td>80.5650</td>\n",
       "      <td>4.389064</td>\n",
       "      <td>(0, 100]</td>\n",
       "      <td>0</td>\n",
       "      <td>0</td>\n",
       "    </tr>\n",
       "    <tr>\n",
       "      <th>3</th>\n",
       "      <td>3</td>\n",
       "      <td>16</td>\n",
       "      <td>16</td>\n",
       "      <td>16</td>\n",
       "      <td>8.0</td>\n",
       "      <td>8.0</td>\n",
       "      <td>8</td>\n",
       "      <td>8</td>\n",
       "      <td>2</td>\n",
       "      <td>1</td>\n",
       "      <td>1</td>\n",
       "      <td>0</td>\n",
       "      <td>0</td>\n",
       "      <td>1</td>\n",
       "      <td>1</td>\n",
       "      <td>84.32</td>\n",
       "      <td>89.90</td>\n",
       "      <td>86.75</td>\n",
       "      <td>85.58</td>\n",
       "      <td>86.6375</td>\n",
       "      <td>4.461733</td>\n",
       "      <td>(0, 100]</td>\n",
       "      <td>0</td>\n",
       "      <td>0</td>\n",
       "    </tr>\n",
       "    <tr>\n",
       "      <th>4</th>\n",
       "      <td>4</td>\n",
       "      <td>16</td>\n",
       "      <td>16</td>\n",
       "      <td>16</td>\n",
       "      <td>8.0</td>\n",
       "      <td>8.0</td>\n",
       "      <td>8</td>\n",
       "      <td>8</td>\n",
       "      <td>2</td>\n",
       "      <td>1</td>\n",
       "      <td>1</td>\n",
       "      <td>0</td>\n",
       "      <td>1</td>\n",
       "      <td>0</td>\n",
       "      <td>0</td>\n",
       "      <td>115.13</td>\n",
       "      <td>121.98</td>\n",
       "      <td>122.73</td>\n",
       "      <td>114.81</td>\n",
       "      <td>118.6625</td>\n",
       "      <td>4.776283</td>\n",
       "      <td>(100, 200]</td>\n",
       "      <td>1</td>\n",
       "      <td>0</td>\n",
       "    </tr>\n",
       "    <tr>\n",
       "      <th>...</th>\n",
       "      <td>...</td>\n",
       "      <td>...</td>\n",
       "      <td>...</td>\n",
       "      <td>...</td>\n",
       "      <td>...</td>\n",
       "      <td>...</td>\n",
       "      <td>...</td>\n",
       "      <td>...</td>\n",
       "      <td>...</td>\n",
       "      <td>...</td>\n",
       "      <td>...</td>\n",
       "      <td>...</td>\n",
       "      <td>...</td>\n",
       "      <td>...</td>\n",
       "      <td>...</td>\n",
       "      <td>...</td>\n",
       "      <td>...</td>\n",
       "      <td>...</td>\n",
       "      <td>...</td>\n",
       "      <td>...</td>\n",
       "      <td>...</td>\n",
       "      <td>...</td>\n",
       "      <td>...</td>\n",
       "      <td>...</td>\n",
       "    </tr>\n",
       "    <tr>\n",
       "      <th>153248</th>\n",
       "      <td>235451</td>\n",
       "      <td>128</td>\n",
       "      <td>128</td>\n",
       "      <td>32</td>\n",
       "      <td>16.0</td>\n",
       "      <td>16.0</td>\n",
       "      <td>32</td>\n",
       "      <td>32</td>\n",
       "      <td>8</td>\n",
       "      <td>4</td>\n",
       "      <td>4</td>\n",
       "      <td>1</td>\n",
       "      <td>0</td>\n",
       "      <td>1</td>\n",
       "      <td>1</td>\n",
       "      <td>173.13</td>\n",
       "      <td>173.10</td>\n",
       "      <td>173.20</td>\n",
       "      <td>173.18</td>\n",
       "      <td>173.1525</td>\n",
       "      <td>5.154173</td>\n",
       "      <td>(100, 200]</td>\n",
       "      <td>1</td>\n",
       "      <td>1</td>\n",
       "    </tr>\n",
       "    <tr>\n",
       "      <th>153249</th>\n",
       "      <td>235452</td>\n",
       "      <td>128</td>\n",
       "      <td>128</td>\n",
       "      <td>32</td>\n",
       "      <td>16.0</td>\n",
       "      <td>16.0</td>\n",
       "      <td>32</td>\n",
       "      <td>32</td>\n",
       "      <td>8</td>\n",
       "      <td>4</td>\n",
       "      <td>4</td>\n",
       "      <td>1</td>\n",
       "      <td>1</td>\n",
       "      <td>0</td>\n",
       "      <td>0</td>\n",
       "      <td>317.68</td>\n",
       "      <td>317.05</td>\n",
       "      <td>316.85</td>\n",
       "      <td>317.34</td>\n",
       "      <td>317.2300</td>\n",
       "      <td>5.759627</td>\n",
       "      <td>(300, 400]</td>\n",
       "      <td>3</td>\n",
       "      <td>1</td>\n",
       "    </tr>\n",
       "    <tr>\n",
       "      <th>153250</th>\n",
       "      <td>235453</td>\n",
       "      <td>128</td>\n",
       "      <td>128</td>\n",
       "      <td>32</td>\n",
       "      <td>16.0</td>\n",
       "      <td>16.0</td>\n",
       "      <td>32</td>\n",
       "      <td>32</td>\n",
       "      <td>8</td>\n",
       "      <td>4</td>\n",
       "      <td>4</td>\n",
       "      <td>1</td>\n",
       "      <td>1</td>\n",
       "      <td>0</td>\n",
       "      <td>1</td>\n",
       "      <td>167.10</td>\n",
       "      <td>169.57</td>\n",
       "      <td>169.34</td>\n",
       "      <td>169.33</td>\n",
       "      <td>168.8350</td>\n",
       "      <td>5.128922</td>\n",
       "      <td>(100, 200]</td>\n",
       "      <td>1</td>\n",
       "      <td>1</td>\n",
       "    </tr>\n",
       "    <tr>\n",
       "      <th>153251</th>\n",
       "      <td>235454</td>\n",
       "      <td>128</td>\n",
       "      <td>128</td>\n",
       "      <td>32</td>\n",
       "      <td>16.0</td>\n",
       "      <td>16.0</td>\n",
       "      <td>32</td>\n",
       "      <td>32</td>\n",
       "      <td>8</td>\n",
       "      <td>4</td>\n",
       "      <td>4</td>\n",
       "      <td>1</td>\n",
       "      <td>1</td>\n",
       "      <td>1</td>\n",
       "      <td>0</td>\n",
       "      <td>150.23</td>\n",
       "      <td>152.80</td>\n",
       "      <td>152.35</td>\n",
       "      <td>152.25</td>\n",
       "      <td>151.9075</td>\n",
       "      <td>5.023272</td>\n",
       "      <td>(100, 200]</td>\n",
       "      <td>1</td>\n",
       "      <td>1</td>\n",
       "    </tr>\n",
       "    <tr>\n",
       "      <th>153252</th>\n",
       "      <td>235455</td>\n",
       "      <td>128</td>\n",
       "      <td>128</td>\n",
       "      <td>32</td>\n",
       "      <td>16.0</td>\n",
       "      <td>16.0</td>\n",
       "      <td>32</td>\n",
       "      <td>32</td>\n",
       "      <td>8</td>\n",
       "      <td>4</td>\n",
       "      <td>4</td>\n",
       "      <td>1</td>\n",
       "      <td>1</td>\n",
       "      <td>1</td>\n",
       "      <td>1</td>\n",
       "      <td>172.18</td>\n",
       "      <td>172.25</td>\n",
       "      <td>172.18</td>\n",
       "      <td>172.16</td>\n",
       "      <td>172.1925</td>\n",
       "      <td>5.148613</td>\n",
       "      <td>(100, 200]</td>\n",
       "      <td>1</td>\n",
       "      <td>1</td>\n",
       "    </tr>\n",
       "  </tbody>\n",
       "</table>\n",
       "<p>153253 rows × 24 columns</p>\n",
       "</div>"
      ],
      "text/plain": [
       "         index  MWG  ...  Run Discretizado Mapping (ms)  Run Binario\n",
       "0            0   16  ...                              1            0\n",
       "1            1   16  ...                              0            0\n",
       "2            2   16  ...                              0            0\n",
       "3            3   16  ...                              0            0\n",
       "4            4   16  ...                              1            0\n",
       "...        ...  ...  ...                            ...          ...\n",
       "153248  235451  128  ...                              1            1\n",
       "153249  235452  128  ...                              3            1\n",
       "153250  235453  128  ...                              1            1\n",
       "153251  235454  128  ...                              1            1\n",
       "153252  235455  128  ...                              1            1\n",
       "\n",
       "[153253 rows x 24 columns]"
      ]
     },
     "execution_count": 9,
     "metadata": {
      "tags": []
     },
     "output_type": "execute_result"
    }
   ],
   "source": [
    "#problema de classificação binária (maior ou menor que a média)\n",
    "\n",
    "#classificação utilizando os dados reais\n",
    "avg = data['Run (ms)'].mean()\n",
    "data.loc[data['Run (ms)'] <= avg, 'Run Bin'] = 0\n",
    "data.loc[data['Run (ms)'] >  avg, 'Run Bin'] = 1\n",
    "\n",
    "#classificação utilizando os dados log\n",
    "#avg = data['Run Log (ms)'].mean()\n",
    "#data.loc[data['Run Log (ms)'] <= avg, 'Run Bin'] = 0\n",
    "#data.loc[data['Run Log (ms)'] >  avg, 'Run Bin'] = 1\n",
    "\n",
    "#obtendo dados\n",
    "run_bin = data[['Run Bin']].values.astype('int')\n",
    "data.drop(data.iloc[:,-1:],axis = 1, inplace = True)\n",
    "\n",
    "#inserindo na base de dados\n",
    "data.insert(23,'Run Binario',run_bin)\n",
    "\n",
    "print('Se menor ou igual que ',avg,'então será 0')\n",
    "print('Se maior que ',avg,'então será 1')\n",
    "\n",
    "data"
   ]
  },
  {
   "cell_type": "code",
   "execution_count": 10,
   "metadata": {
    "colab": {
     "base_uri": "https://localhost:8080/",
     "height": 361
    },
    "id": "oMQ5PPYIafPr",
    "outputId": "3aba3649-49e9-4558-844e-6286acb3b03c"
   },
   "outputs": [
    {
     "data": {
      "image/png": "[encoded data removed]",
      "text/plain": [
       "<Figure size 1152x360 with 1 Axes>"
      ]
     },
     "metadata": {
      "needs_background": "light",
      "tags": []
     },
     "output_type": "display_data"
    }
   ],
   "source": [
    "#verificando balanceamento entre as variáveis categóricas (multiclasse)\n",
    "fig = plt.figure(figsize=(16,5))\n",
    "fig = data['Run Discretizado (ms)'].value_counts().plot(kind='bar')"
   ]
  },
  {
   "cell_type": "code",
   "execution_count": 11,
   "metadata": {
    "colab": {
     "base_uri": "https://localhost:8080/",
     "height": 435
    },
    "id": "ZBz_j7oPaiGL",
    "outputId": "1eec1f26-3a9a-449a-b372-2663e54bf72c"
   },
   "outputs": [
    {
     "name": "stdout",
     "output_type": "stream",
     "text": [
      "Distribuição das classes:\n",
      "[000,100]: 60.56 %\n",
      "[100,200]: 15.98 %\n",
      "[200,300]: 13.78 %\n",
      "[300,400]: 3.64  %\n",
      "[400,500]: 4.73  %\n",
      "[500,600]: 1.30  %\n"
     ]
    },
    {
     "data": {
      "image/png": "[encoded data removed]",
      "text/plain": [
       "<Figure size 1152x360 with 1 Axes>"
      ]
     },
     "metadata": {
      "needs_background": "light",
      "tags": []
     },
     "output_type": "display_data"
    }
   ],
   "source": [
    "#verificando balanceamento entre as variáveis categóricas mapping (multiclasse)\n",
    "fig = plt.figure(figsize=(16,5))\n",
    "fig = data['Run Discretizado Mapping (ms)'].value_counts().plot(kind='bar')\n",
    "\n",
    "#classificação utilizando os dados reais\n",
    "mask0 = (data['Run Discretizado Mapping (ms)'] == 0)\n",
    "mask1 = (data['Run Discretizado Mapping (ms)'] == 1)\n",
    "mask2 = (data['Run Discretizado Mapping (ms)'] == 2)\n",
    "mask3 = (data['Run Discretizado Mapping (ms)'] == 3)\n",
    "mask4 = (data['Run Discretizado Mapping (ms)'] == 4)\n",
    "mask5 = (data['Run Discretizado Mapping (ms)'] == 5)\n",
    "\n",
    "print('Distribuição das classes:')\n",
    "print(\"[000,100] - 0: %.2f\" % (len(data[mask0].index.values)/len(data['Run Discretizado Mapping (ms)']) * 100),'%')\n",
    "print(\"[100,200] - 1: %.2f\" % (len(data[mask1].index.values)/len(data['Run Discretizado Mapping (ms)']) * 100),'%')\n",
    "print(\"[200,300] - 2: %.2f\" % (len(data[mask2].index.values)/len(data['Run Discretizado Mapping (ms)']) * 100),'%')\n",
    "print(\"[300,400] - 3: %.2f\" % (len(data[mask3].index.values)/len(data['Run Discretizado Mapping (ms)']) * 100),' %')\n",
    "print(\"[400,500] - 4: %.2f\" % (len(data[mask4].index.values)/len(data['Run Discretizado Mapping (ms)']) * 100),' %')\n",
    "print(\"[500,600] - 5: %.2f\" % (len(data[mask5].index.values)/len(data['Run Discretizado Mapping (ms)']) * 100),' %')"
   ]
  },
  {
   "cell_type": "code",
   "execution_count": 12,
   "metadata": {
    "colab": {
     "base_uri": "https://localhost:8080/",
     "height": 367
    },
    "id": "zGTeoKSoakis",
    "outputId": "da7941c8-a46e-45e7-d6eb-8a0ccd18de22"
   },
   "outputs": [
    {
     "name": "stdout",
     "output_type": "stream",
     "text": [
      "Distribuição das classes:\n",
      " <= Média: 63.69 %\n",
      " >  Média: 36.31 %\n"
     ]
    },
    {
     "data": {
      "image/png": "[encoded data removed]",
      "text/plain": [
       "<Figure size 1152x360 with 1 Axes>"
      ]
     },
     "metadata": {
      "needs_background": "light",
      "tags": []
     },
     "output_type": "display_data"
    }
   ],
   "source": [
    "#verificando balanceamento entre as variáveis binárias\n",
    "fig = plt.figure(figsize=(16,5))\n",
    "fig = data['Run Binario'].value_counts().plot(kind='bar')\n",
    "\n",
    "mask0 = (data['Run Binario'] == 0)\n",
    "mask1 = (data['Run Binario'] == 1)\n",
    "\n",
    "print('Distribuição das classes:')\n",
    "print(\" <= Média: %.2f\" % (len(data[mask0].index.values)/len(data['Run Binario']) * 100),'%')\n",
    "print(\" >  Média: %.2f\" % (len(data[mask1].index.values)/len(data['Run Binario']) * 100),'%')"
   ]
  },
  {
   "cell_type": "code",
   "execution_count": 13,
   "metadata": {
    "colab": {
     "base_uri": "https://localhost:8080/"
    },
    "id": "MnTAqSbVaoH7",
    "outputId": "e092750e-225e-413a-d665-3d66d0ece860"
   },
   "outputs": [
    {
     "name": "stdout",
     "output_type": "stream",
     "text": [
      "Tamanho da amostra de treinamento: 122602\n",
      "Tamanho da amostra de teste: 30651\n"
     ]
    }
   ],
   "source": [
    "#separando os dados em conjunto de treinamento e testes, na proporção 80-20\n",
    "perc = 0.8\n",
    "\n",
    "#salvando y como serie classificação multiclasse\n",
    "x_train_m, y_train_m = data.iloc[0:int(len(data)*perc),1:-9],data['Run Discretizado (ms)'].iloc[0:int(len(data)*perc)]\n",
    "x_test_m, y_test_m = data.iloc[int(len(data)*perc):int(len(data)),1:-9],data['Run Discretizado (ms)'].iloc[int(len(data)*perc):int(len(data))]\n",
    "\n",
    "#salvando y como serie classificação multiclasse mapping number\n",
    "x_train_map, y_train_map = data.iloc[0:int(len(data)*perc),1:-9],data['Run Discretizado Mapping (ms)'].iloc[0:int(len(data)*perc)]\n",
    "x_test_map, y_test_map = data.iloc[int(len(data)*perc):int(len(data)),1:-9],data['Run Discretizado Mapping (ms)'].iloc[int(len(data)*perc):int(len(data))]\n",
    "\n",
    "#salvando y como classificação binário\n",
    "x_train_b, y_train_b = data.iloc[0:int(len(data)*perc),1:-9],data['Run Binario'].iloc[0:int(len(data)*perc)]\n",
    "x_test_b, y_test_b = data.iloc[int(len(data)*perc):int(len(data)),1:-9],data['Run Binario'].iloc[int(len(data)*perc):int(len(data))]\n",
    "\n",
    "\n",
    "sc = StandardScaler()\n",
    "x_train_m = sc.fit_transform(x_train_m)\n",
    "x_test_m = sc.fit_transform(x_test_m)\n",
    "\n",
    "x_train_map = sc.fit_transform(x_train_map)\n",
    "x_test_map = sc.fit_transform(x_test_map)\n",
    "\n",
    "x_train_b = sc.fit_transform(x_train_b)\n",
    "x_test_b = sc.fit_transform(x_test_b)\n",
    "\n",
    "print('Tamanho da amostra de treinamento:',len(x_train_b))\n",
    "print('Tamanho da amostra de teste:',len(x_test_b))"
   ]
  },
  {
   "cell_type": "code",
   "execution_count": 14,
   "metadata": {
    "colab": {
     "base_uri": "https://localhost:8080/",
     "height": 279
    },
    "id": "Od0fOO7Caq1V",
    "outputId": "15967068-b35f-492b-e7bc-2551800064f5"
   },
   "outputs": [
    {
     "data": {
      "image/png": "[encoded data removed]",
      "text/plain": [
       "<Figure size 432x288 with 2 Axes>"
      ]
     },
     "metadata": {
      "needs_background": "light",
      "tags": []
     },
     "output_type": "display_data"
    }
   ],
   "source": [
    "#treinando um classificador\n",
    "clf = SVC(gamma='auto')\n",
    "clf.fit(x_train_map,y_train_map)\n",
    "ZY_ = clf.predict(x_test_map)\n",
    "\n",
    "\n",
    "disp = plot_confusion_matrix(clf,x_test_map,y_test_map,cmap=plt.cm.Blues,normalize='true')"
   ]
  },
  {
   "cell_type": "code",
   "execution_count": 15,
   "metadata": {
    "colab": {
     "base_uri": "https://localhost:8080/"
    },
    "id": "N7Z3GQgqauEz",
    "outputId": "5ca963d4-8040-4ef0-b09f-dfd01aadc896"
   },
   "outputs": [
    {
     "name": "stdout",
     "output_type": "stream",
     "text": [
      "+--------------Classificador--------------+\n",
      "| Accuracy:  0.20                         |\n",
      "| F1 score:  0.13                         |\n",
      "| Precision: 0.13                         |\n",
      "| Recall:    0.26                         |\n",
      "+-----------------------------------------+\n"
     ]
    }
   ],
   "source": [
    "print('+--------------Classificador--------------+')\n",
    "print('| Accuracy: ', '%.2f' % accuracy_score(ZY_, y_test_map),'                        |')\n",
    "print('| F1 score: ', '%.2f' % f1_score(y_test_map, ZY_, average='weighted', labels=np.unique(ZY_)),'                        |')\n",
    "print('| Precision:', '%.2f' % precision_score(y_test_map, ZY_, average='weighted', labels=np.unique(ZY_)),'                        |')\n",
    "print('| Recall:   ', '%.2f' % recall_score(y_test_map, ZY_, average='weighted', labels=np.unique(ZY_)),'                        |')\n",
    "print('+-----------------------------------------+')"
   ]
  },
  {
   "cell_type": "code",
   "execution_count": 16,
   "metadata": {
    "colab": {
     "base_uri": "https://localhost:8080/",
     "height": 510
    },
    "id": "EXHh818pausV",
    "outputId": "9508ed7c-59b2-4055-a39a-ab4093690234"
   },
   "outputs": [
    {
     "name": "stderr",
     "output_type": "stream",
     "text": [
      "/usr/local/lib/python3.6/dist-packages/sklearn/utils/deprecation.py:87: FutureWarning: Function safe_indexing is deprecated; safe_indexing is deprecated in version 0.22 and will be removed in version 0.24.\n",
      "  warnings.warn(msg, category=FutureWarning)\n",
      "/usr/local/lib/python3.6/dist-packages/sklearn/utils/deprecation.py:87: FutureWarning: Function safe_indexing is deprecated; safe_indexing is deprecated in version 0.22 and will be removed in version 0.24.\n",
      "  warnings.warn(msg, category=FutureWarning)\n",
      "/usr/local/lib/python3.6/dist-packages/sklearn/utils/deprecation.py:87: FutureWarning: Function safe_indexing is deprecated; safe_indexing is deprecated in version 0.22 and will be removed in version 0.24.\n",
      "  warnings.warn(msg, category=FutureWarning)\n",
      "/usr/local/lib/python3.6/dist-packages/sklearn/utils/deprecation.py:87: FutureWarning: Function safe_indexing is deprecated; safe_indexing is deprecated in version 0.22 and will be removed in version 0.24.\n",
      "  warnings.warn(msg, category=FutureWarning)\n",
      "/usr/local/lib/python3.6/dist-packages/sklearn/utils/deprecation.py:87: FutureWarning: Function safe_indexing is deprecated; safe_indexing is deprecated in version 0.22 and will be removed in version 0.24.\n",
      "  warnings.warn(msg, category=FutureWarning)\n"
     ]
    },
    {
     "data": {
      "image/png": "[encoded data removed]",
      "text/plain": [
       "<Figure size 1152x360 with 1 Axes>"
      ]
     },
     "metadata": {
      "needs_background": "light",
      "tags": []
     },
     "output_type": "display_data"
    }
   ],
   "source": [
    "#aplicando técnicas de SMOTE para verificar uma estratégia melhor de balanceamento para validar os modelos\n",
    "\n",
    "#Over Sampling\n",
    "oversamp = over_sampling.SMOTE() # sampling_strategy pode ser usado para casos binários\n",
    "Xo, Yo = oversamp.fit_resample(x_train_map, y_train_map)\n",
    "\n",
    "plt.figure(figsize=(16,5))\n",
    "h = plt.hist(Yo)"
   ]
  },
  {
   "cell_type": "code",
   "execution_count": 17,
   "metadata": {
    "colab": {
     "base_uri": "https://localhost:8080/",
     "height": 374
    },
    "id": "2OXpLYDQawV4",
    "outputId": "d943848d-6edc-4ce8-bf85-5792b5e71459"
   },
   "outputs": [
    {
     "name": "stderr",
     "output_type": "stream",
     "text": [
      "/usr/local/lib/python3.6/dist-packages/sklearn/utils/deprecation.py:87: FutureWarning: Function safe_indexing is deprecated; safe_indexing is deprecated in version 0.22 and will be removed in version 0.24.\n",
      "  warnings.warn(msg, category=FutureWarning)\n"
     ]
    },
    {
     "data": {
      "image/png": "[encoded data removed]",
      "text/plain": [
       "<Figure size 1152x360 with 1 Axes>"
      ]
     },
     "metadata": {
      "needs_background": "light",
      "tags": []
     },
     "output_type": "display_data"
    }
   ],
   "source": [
    "#Under Sampling\n",
    "undersamp = under_sampling.RandomUnderSampler()\n",
    "Xu, Yu = undersamp.fit_resample(x_train_map, y_train_map)\n",
    "\n",
    "plt.figure(figsize=(16,5))\n",
    "h = plt.hist(Yu)"
   ]
  },
  {
   "cell_type": "code",
   "execution_count": 18,
   "metadata": {
    "colab": {
     "base_uri": "https://localhost:8080/",
     "height": 748
    },
    "id": "i9dbWwTBaxpO",
    "outputId": "1d7fc736-319f-472c-baf6-932aeb3a3a2e"
   },
   "outputs": [
    {
     "name": "stderr",
     "output_type": "stream",
     "text": [
      "/usr/local/lib/python3.6/dist-packages/sklearn/utils/deprecation.py:87: FutureWarning: Function safe_indexing is deprecated; safe_indexing is deprecated in version 0.22 and will be removed in version 0.24.\n",
      "  warnings.warn(msg, category=FutureWarning)\n",
      "/usr/local/lib/python3.6/dist-packages/sklearn/utils/deprecation.py:87: FutureWarning: Function safe_indexing is deprecated; safe_indexing is deprecated in version 0.22 and will be removed in version 0.24.\n",
      "  warnings.warn(msg, category=FutureWarning)\n",
      "/usr/local/lib/python3.6/dist-packages/sklearn/utils/deprecation.py:87: FutureWarning: Function safe_indexing is deprecated; safe_indexing is deprecated in version 0.22 and will be removed in version 0.24.\n",
      "  warnings.warn(msg, category=FutureWarning)\n",
      "/usr/local/lib/python3.6/dist-packages/sklearn/utils/deprecation.py:87: FutureWarning: Function safe_indexing is deprecated; safe_indexing is deprecated in version 0.22 and will be removed in version 0.24.\n",
      "  warnings.warn(msg, category=FutureWarning)\n",
      "/usr/local/lib/python3.6/dist-packages/sklearn/utils/deprecation.py:87: FutureWarning: Function safe_indexing is deprecated; safe_indexing is deprecated in version 0.22 and will be removed in version 0.24.\n",
      "  warnings.warn(msg, category=FutureWarning)\n",
      "/usr/local/lib/python3.6/dist-packages/sklearn/utils/deprecation.py:87: FutureWarning: Function safe_indexing is deprecated; safe_indexing is deprecated in version 0.22 and will be removed in version 0.24.\n",
      "  warnings.warn(msg, category=FutureWarning)\n",
      "/usr/local/lib/python3.6/dist-packages/sklearn/utils/deprecation.py:87: FutureWarning: Function safe_indexing is deprecated; safe_indexing is deprecated in version 0.22 and will be removed in version 0.24.\n",
      "  warnings.warn(msg, category=FutureWarning)\n",
      "/usr/local/lib/python3.6/dist-packages/sklearn/utils/deprecation.py:87: FutureWarning: Function safe_indexing is deprecated; safe_indexing is deprecated in version 0.22 and will be removed in version 0.24.\n",
      "  warnings.warn(msg, category=FutureWarning)\n",
      "/usr/local/lib/python3.6/dist-packages/sklearn/utils/deprecation.py:87: FutureWarning: Function safe_indexing is deprecated; safe_indexing is deprecated in version 0.22 and will be removed in version 0.24.\n",
      "  warnings.warn(msg, category=FutureWarning)\n",
      "/usr/local/lib/python3.6/dist-packages/sklearn/utils/deprecation.py:87: FutureWarning: Function safe_indexing is deprecated; safe_indexing is deprecated in version 0.22 and will be removed in version 0.24.\n",
      "  warnings.warn(msg, category=FutureWarning)\n",
      "/usr/local/lib/python3.6/dist-packages/sklearn/utils/deprecation.py:87: FutureWarning: Function safe_indexing is deprecated; safe_indexing is deprecated in version 0.22 and will be removed in version 0.24.\n",
      "  warnings.warn(msg, category=FutureWarning)\n",
      "/usr/local/lib/python3.6/dist-packages/sklearn/utils/deprecation.py:87: FutureWarning: Function safe_indexing is deprecated; safe_indexing is deprecated in version 0.22 and will be removed in version 0.24.\n",
      "  warnings.warn(msg, category=FutureWarning)\n"
     ]
    },
    {
     "data": {
      "image/png": "[encoded data removed]",
      "text/plain": [
       "<Figure size 1152x360 with 1 Axes>"
      ]
     },
     "metadata": {
      "needs_background": "light",
      "tags": []
     },
     "output_type": "display_data"
    }
   ],
   "source": [
    "#Over Under Sampling (estratégia mista - combinado)\n",
    "overunder = combine.SMOTEENN(sampling_strategy='all')\n",
    "Xc, Yc = overunder.fit_resample(x_train_map, y_train_map)\n",
    "\n",
    "plt.figure(figsize=(16,5))\n",
    "h = plt.hist(Yc)"
   ]
  },
  {
   "cell_type": "code",
   "execution_count": 19,
   "metadata": {
    "id": "r-eZ0VDqazBk"
   },
   "outputs": [],
   "source": [
    "#avaliando qual a melhor estratégia de SMOTE\n",
    "clf_ov = SVC(gamma='auto')\n",
    "clf_ov.fit(Xo,Yo)\n",
    "ZYov_ = clf_ov.predict(x_test_map)\n",
    "\n",
    "clf_un = SVC(gamma='auto')\n",
    "clf_un.fit(Xu,Yu)\n",
    "ZYun_ = clf_un.predict(x_test_map)\n",
    "\n",
    "clf_co = SVC(gamma='auto')\n",
    "clf_co.fit(Xc,Yc)\n",
    "ZYco_ = clf_co.predict(x_test_map)"
   ]
  },
  {
   "cell_type": "code",
   "execution_count": 23,
   "metadata": {
    "colab": {
     "base_uri": "https://localhost:8080/"
    },
    "id": "pL1euHXfa0ud",
    "outputId": "afa628f7-d022-4f91-f518-f396accecd1f"
   },
   "outputs": [
    {
     "name": "stdout",
     "output_type": "stream",
     "text": [
      "Acurácia balanceada base: 0.176\n",
      "Acurácia balanceada oversampling: 0.170\n",
      "Acurácia balanceada undersampling: 0.234\n",
      "Acurácia balanceada combinado: 0.173\n"
     ]
    }
   ],
   "source": [
    "accb_base = metrics.balanced_accuracy_score(y_test_map, ZY_)\n",
    "accb_ov = metrics.balanced_accuracy_score(y_test_map, ZYov_)\n",
    "accb_un = metrics.balanced_accuracy_score(y_test_map, ZYun_)\n",
    "accb_co = metrics.balanced_accuracy_score(y_test_map, ZYco_)\n",
    "print(\"Acurácia balanceada base: %0.3f\" % (accb_base))\n",
    "print(\"Acurácia balanceada oversampling: %0.3f\" % (accb_ov))\n",
    "print(\"Acurácia balanceada undersampling: %0.3f\" % (accb_un))\n",
    "print(\"Acurácia balanceada combinado: %0.3f\" % (accb_co))"
   ]
  },
  {
   "cell_type": "code",
   "execution_count": 24,
   "metadata": {
    "colab": {
     "base_uri": "https://localhost:8080/",
     "height": 279
    },
    "id": "LeAnuaoWgPtE",
    "outputId": "c516f411-c4dd-45cd-9a7e-9a98d38c1b95"
   },
   "outputs": [
    {
     "data": {
      "image/png": "[encoded data removed]",
      "text/plain": [
       "<Figure size 432x288 with 2 Axes>"
      ]
     },
     "metadata": {
      "needs_background": "light",
      "tags": []
     },
     "output_type": "display_data"
    }
   ],
   "source": [
    "disp = plot_confusion_matrix(clf_ov, x_test_map, y_test_map,\n",
    "                                 cmap=plt.cm.Blues,\n",
    "                                 normalize='true')"
   ]
  },
  {
   "cell_type": "code",
   "execution_count": 25,
   "metadata": {
    "colab": {
     "base_uri": "https://localhost:8080/",
     "height": 279
    },
    "id": "a6e1n5aigTrj",
    "outputId": "7ef24faa-3d09-483d-f33e-9e15cfe13123"
   },
   "outputs": [
    {
     "data": {
      "image/png": "[encoded data removed]",
      "text/plain": [
       "<Figure size 432x288 with 2 Axes>"
      ]
     },
     "metadata": {
      "needs_background": "light",
      "tags": []
     },
     "output_type": "display_data"
    }
   ],
   "source": [
    "disp = plot_confusion_matrix(clf_un, x_test_map, y_test_map,\n",
    "                                 cmap=plt.cm.Blues,\n",
    "                                 normalize='true')"
   ]
  },
  {
   "cell_type": "code",
   "execution_count": 26,
   "metadata": {
    "colab": {
     "base_uri": "https://localhost:8080/",
     "height": 279
    },
    "id": "p2dY74CvgWUl",
    "outputId": "f705afc4-702d-4f8e-b577-f7b1f2b910f1"
   },
   "outputs": [
    {
     "data": {
      "image/png": "[encoded data removed]",
      "text/plain": [
       "<Figure size 432x288 with 2 Axes>"
      ]
     },
     "metadata": {
      "needs_background": "light",
      "tags": []
     },
     "output_type": "display_data"
    }
   ],
   "source": [
    "disp = plot_confusion_matrix(clf_co, x_test_map, y_test_map,\n",
    "                                 cmap=plt.cm.Blues,\n",
    "                                 normalize='true')"
   ]
  }
 ],
 "metadata": {
  "colab": {
   "collapsed_sections": [],
   "name": "Untitled7.ipynb",
   "provenance": []
  },
  "kernelspec": {
   "display_name": "Python 3",
   "language": "python",
   "name": "python3"
  },
  "language_info": {
   "codemirror_mode": {
    "name": "ipython",
    "version": 3
   },
   "file_extension": ".py",
   "mimetype": "text/x-python",
   "name": "python",
   "nbconvert_exporter": "python",
   "pygments_lexer": "ipython3",
   "version": "3.8.3"
  }
 },
 "nbformat": 4,
 "nbformat_minor": 1
}
