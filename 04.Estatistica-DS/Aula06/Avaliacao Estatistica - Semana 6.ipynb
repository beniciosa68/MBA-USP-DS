{
 "cells": [
  {
   "cell_type": "markdown",
   "metadata": {},
   "source": [
    "# <span style=\"color:blue\"> MBA em Ciência de Dados</span>\n",
    "# <span style=\"color:blue\">Estatística para Ciência de Dados</span>\n",
    "\n",
    "## <span style=\"color:blue\">Semana 6</span>\n",
    "**Material Produzido por Mariana Cúri**<br>\n",
    "**Cemeai - ICMC/USP São Carlos**"
   ]
  },
  {
   "cell_type": "markdown",
   "metadata": {},
   "source": [
    "<font color='red'> As respostas devem ser fornecidas no Moodle. O notebook é apenas para a implementação dos códigos que fornecerão as respostas</font>"
   ]
  },
  {
   "cell_type": "markdown",
   "metadata": {},
   "source": [
    "### Exercício 1\n",
    "Assuma que a distribuição da diferença (D) entre os resultados do método novo e padrão seja Normal. Se os métodos fossem equivalentes, suas medidas seriam muito parecidas, e a diferença, D, teria média 0. Suponha, para simplificar, que o desvio padrão amostral igual a 3,5 possa ser considerado como o desvio padrão populacional, σ, e que possamos desprezar a imprecisão na obtenção de cada medida. Nessas condições quantos cães esperaríamos encontrar nessa amostra com diferenças (em módulo, ou seja, tanto para mais quanto para menos) maiores do que 6 U/L?\n",
    "\n",
    "Escolha uma:<br>\n",
    "<b>a. menos de 1 <br>\n",
    "b. de 3 a 4<br>\n",
    "c. de 8 a 9<br>\n",
    "d. nenhum<br>\n",
    "e. de 1 a 2<br>"
   ]
  },
  {
   "cell_type": "code",
   "execution_count": 8,
   "metadata": {},
   "outputs": [
    {
     "name": "stdout",
     "output_type": "stream",
     "text": [
      "3.4590506197466286\n",
      "\n",
      "Resposta: de 3 a 4\n"
     ]
    },
    {
     "data": {
      "image/png": "[encoded data removed]",
      "text/plain": [
       "<Figure size 432x288 with 1 Axes>"
      ]
     },
     "metadata": {
      "needs_background": "light"
     },
     "output_type": "display_data"
    }
   ],
   "source": [
    "import numpy as np\n",
    "from scipy.stats import norm\n",
    "import matplotlib.pyplot as plt\n",
    "\n",
    "media = 0\n",
    "desvP = 3.5\n",
    "n = 40\n",
    "\n",
    "eixo_x = np.arange(-10,10,0.01)\n",
    "\n",
    "fx = norm.pdf(eixo_x,media,desvP)\n",
    "plt.plot(eixo_x,fx,label='media=0, desvP=3.5')\n",
    "\n",
    "z = (6 - media)/desvP\n",
    "prob = 1-norm.cdf(z,0,1)\n",
    "\n",
    "print(2*prob*40)\n",
    "print()\n",
    "print('Resposta: de 3 a 4')"
   ]
  },
  {
   "cell_type": "markdown",
   "metadata": {},
   "source": [
    "### Exercício 2\n",
    "Um estudo para relacionar tamanho do cérebro, gênero e inteligência, coletou em uma amostra de 40 indivíduos, variáveis referentes à inteligência (com resultados resumidos em 3 variáveis que refletem o QI), ao tamanho do cérebro (via ressonância magnética) e pessoais (peso, altura e gênero).\n",
    "\n",
    "Os dados encontram-se no arquivo QI, na página da disciplina.\n",
    "\n",
    "Para responder às peguntar abaixo, leve em consideração as suposições dos métodos e se os dados as satisfazem.<br>\n",
    "\n",
    "<b>\n",
    "a) Que método é adequado para comparar as variâncias dos pesos de homens e mulheres? __<br>\n",
    "\n",
    "b) Que método é adequado para comparar os QIs médios verbal e de performance?______________________<br>\n",
    "\n",
    "c) Que método é adequado para comparar o QI médio verbal de mulheres e homens?______________________<br>\n",
    "\n",
    "d) Que método é adequado para prever o QI_Total do indivíduo a partir de variáveis pessoais, de inteligência e dimensões do cérebro?______________________<br>\n",
    "\n",
    "e) Que método é adequado para verificar se existe relação entre os valores de QIs verbal e de os dados de RM?______________________<br>\n",
    "\n",
    "    \n",
    "1) teste t de student pareado<br>\n",
    "2) teste de Mann-Whitney<br>\n",
    "3) correlação de Pearson<br>\n",
    "4) regressão linear<br>\n",
    "5) teste de Levene<br>"
   ]
  },
  {
   "cell_type": "code",
   "execution_count": 21,
   "metadata": {},
   "outputs": [
    {
     "name": "stdout",
     "output_type": "stream",
     "text": [
      "a) teste de Levene\n",
      "b) teste t de student pareado\n",
      "c) teste de Mann-Whitney\n",
      "d) regressão linear\n",
      "e) correlação de Pearson\n"
     ]
    }
   ],
   "source": [
    "print('a) teste de Levene')\n",
    "print('b) teste t de student pareado')\n",
    "print('c) teste de Mann-Whitney')\n",
    "print('d) regressão linear')\n",
    "print('e) correlação de Pearson')"
   ]
  },
  {
   "cell_type": "markdown",
   "metadata": {},
   "source": [
    "### Exercício 3\n",
    "Em Estatística, tenta-se, sempre que possível, testar conjuntamente hipóteses sobre parâmetros de um modelo. Para testar a hipótese de que os métodos padrão e novo são equivalentes, um das análises desenvolvidas em aula foi verificar se a reta de regressão que os relaciona é a identidade (x=y). Para tanto, basta verificar se o intercepto do modelo é igual a 0 e a inclinação é igual a 1. No entanto, em aula, esses testes de hipóteses sobre os dois parâmetros foram feitos separadamente.\n",
    "\n",
    "Juntamente com o código disponibilizado em aula, utilize o comando:\n",
    "\n",
    "```python\n",
    "hypotheses = '(Padrão = 1),(Intercept = 0)'\n",
    "print(res.f_test(hypotheses))\n",
    "```\n",
    "\n",
    "para o teste conjunto e escolha qual das alternativas abaixo está <font color='red'><b>INCORRETA:</b></font><br>\n",
    "\n",
    "Escolha uma:<br>\n",
    "<b>a. com o comando f_test, podemos testar várias hipóteses simultaneamente, mais de 2, inclusive<br>\n",
    "\n",
    "b. A um nível de significância de 1%, rejeita-se a hipótese de que a reta de regressão que relaciona os dois métodos é a identidade (x=y)<br><b>\n",
    "\n",
    "c. outra opção para testar hipóteses desse tipo é o teste de Wald<br><b>\n",
    "\n",
    "d. Se fixarmos o mesmo nível de significância para todos os testes de hipóteses envolvidos em nossa conclusão, a probabilidade de cometer o erro tipo I interpretando o resultado do teste de hipóteses conjunto será menor do que probabilidade de cometer o erro tipo I na conclusão global baseada nos dois testes separados<br><b>\n",
    "\n",
    "e. Para o teste de hipóteses conjunto desses dois parâmetros, o nível de significância do teste deverá ser duplicado<br><b>"
   ]
  },
  {
   "cell_type": "code",
   "execution_count": 15,
   "metadata": {},
   "outputs": [
    {
     "data": {
      "image/png": "[encoded data removed]",
      "text/plain": [
       "<Figure size 432x288 with 1 Axes>"
      ]
     },
     "metadata": {
      "needs_background": "light"
     },
     "output_type": "display_data"
    }
   ],
   "source": [
    "import statistics\n",
    "import numpy as np\n",
    "import pandas as pd\n",
    "from scipy import stats\n",
    "from scipy.stats import norm\n",
    "import matplotlib.pyplot as plt\n",
    "\n",
    "# Dados de entrada\n",
    "df = pd.read_csv(\".\\data\\ALAT.csv\")\n",
    "padrao = df[\"Padrao\"]\n",
    "novo = df[\"Novo\"]\n",
    "\n",
    "# Constrói o gráfico de dispersão\n",
    "plt.scatter(x=padrao,y=novo)\n",
    "plt.xlabel(\"método padrão\")\n",
    "plt.ylabel(\"novo método\")\n",
    "plt.title(\"Experimento ALAT\")\n",
    "\n",
    "# Desenha a reta de igualdade das duas medidas\n",
    "plt.plot(padrao, padrao, 'k-', color = 'r', label=\"x=y\")\n",
    "plt.legend()\n",
    "plt.show()"
   ]
  },
  {
   "cell_type": "code",
   "execution_count": 16,
   "metadata": {},
   "outputs": [
    {
     "name": "stdout",
     "output_type": "stream",
     "text": [
      "                            OLS Regression Results                            \n",
      "==============================================================================\n",
      "Dep. Variable:                   Novo   R-squared:                       0.961\n",
      "Model:                            OLS   Adj. R-squared:                  0.960\n",
      "Method:                 Least Squares   F-statistic:                     945.2\n",
      "Date:                Wed, 20 May 2020   Prob (F-statistic):           1.87e-28\n",
      "Time:                        12:29:19   Log-Likelihood:                -101.61\n",
      "No. Observations:                  40   AIC:                             207.2\n",
      "Df Residuals:                      38   BIC:                             210.6\n",
      "Df Model:                           1                                         \n",
      "Covariance Type:            nonrobust                                         \n",
      "==============================================================================\n",
      "                 coef    std err          t      P>|t|      [0.025      0.975]\n",
      "------------------------------------------------------------------------------\n",
      "Intercept     -1.2900      3.479     -0.371      0.713      -8.333       5.753\n",
      "Padrao         1.1109      0.036     30.744      0.000       1.038       1.184\n",
      "==============================================================================\n",
      "Omnibus:                       11.680   Durbin-Watson:                   1.644\n",
      "Prob(Omnibus):                  0.003   Jarque-Bera (JB):               12.554\n",
      "Skew:                          -0.977   Prob(JB):                      0.00188\n",
      "Kurtosis:                       4.928   Cond. No.                         673.\n",
      "==============================================================================\n",
      "\n",
      "Warnings:\n",
      "[1] Standard Errors assume that the covariance matrix of the errors is correctly specified.\n"
     ]
    }
   ],
   "source": [
    "from statsmodels.formula.api import ols\n",
    "\n",
    "mod = ols('Novo ~ Padrao',data=df)\n",
    "res = mod.fit()\n",
    "print(res.summary())"
   ]
  },
  {
   "cell_type": "code",
   "execution_count": 18,
   "metadata": {},
   "outputs": [
    {
     "name": "stdout",
     "output_type": "stream",
     "text": [
      "<F test: F=array([[178.28223489]]), p=4.8938067364968435e-20, df_denom=38, df_num=2>\n"
     ]
    }
   ],
   "source": [
    "hypotheses = '(Padrao = 1),(Intercept = 0)'\n",
    "print(res.f_test(hypotheses))"
   ]
  },
  {
   "cell_type": "code",
   "execution_count": 20,
   "metadata": {},
   "outputs": [
    {
     "name": "stdout",
     "output_type": "stream",
     "text": [
      "Resposta: e. Para o teste de hipóteses conjunto desses dois parâmetros, o nível de significância do teste deverá ser duplicado\n"
     ]
    }
   ],
   "source": [
    "print('Resposta: e. Para o teste de hipóteses conjunto desses dois parâmetros, o nível de significância do teste deverá ser duplicado')"
   ]
  },
  {
   "cell_type": "code",
   "execution_count": null,
   "metadata": {},
   "outputs": [],
   "source": []
  }
 ],
 "metadata": {
  "kernelspec": {
   "display_name": "Python 3",
   "language": "python",
   "name": "python3"
  },
  "language_info": {
   "codemirror_mode": {
    "name": "ipython",
    "version": 3
   },
   "file_extension": ".py",
   "mimetype": "text/x-python",
   "name": "python",
   "nbconvert_exporter": "python",
   "pygments_lexer": "ipython3",
   "version": "3.7.6"
  },
  "toc": {
   "base_numbering": 1,
   "nav_menu": {},
   "number_sections": true,
   "sideBar": true,
   "skip_h1_title": false,
   "title_cell": "Table of Contents",
   "title_sidebar": "Contents",
   "toc_cell": false,
   "toc_position": {},
   "toc_section_display": true,
   "toc_window_display": false
  }
 },
 "nbformat": 4,
 "nbformat_minor": 2
}
