{
 "cells": [
  {
   "cell_type": "markdown",
   "metadata": {},
   "source": [
    "## Tutoria Extra 16/05 "
   ]
  },
  {
   "cell_type": "markdown",
   "metadata": {},
   "source": [
    "Questão de estudo: O tempo de transmitir 10 MB em determinada rede de computadores varia segundo um modelo normal com média $7,4 s$ e variância $1,3 s^2$. Depois de algumas mudanças na rede, acredita-se na redução no tempo de transmissão de dados, além de uma alteração na variabilidade. Foram realizados 10 ensaios independentes com um arquivo de 10 MB e foram anotados os tempos de transmissão, em segundos: 6,8; 7,1; 5,9; 7,5; 6,3; 6,9; 7,2; 7,6; 6,6; 6,3.\n",
    "\n"
   ]
  },
  {
   "cell_type": "markdown",
   "metadata": {},
   "source": [
    "a) Ao nível de $ 5\\% $ de significância, pode-se afirmar que existe evidência suficiente de que o tempo médio de transmissão foi reduzida? (supondo que a variabilidade dos tempos de transmissão não tenha sido alterada). "
   ]
  },
  {
   "cell_type": "markdown",
   "metadata": {},
   "source": [
    "### Hipóteses:\n",
    "\n",
    "$H_0:t=7,4$   \n",
    "\n",
    "$H_a:t<7,4$\n",
    "\n",
    "Nível de significância= 0.05 (alpha)\n"
   ]
  },
  {
   "cell_type": "code",
   "execution_count": 162,
   "metadata": {},
   "outputs": [
    {
     "name": "stdout",
     "output_type": "stream",
     "text": [
      "6.82\n",
      "6.85\n",
      "0.5513619500836088\n",
      "0.30399999999999994\n"
     ]
    }
   ],
   "source": [
    "import numpy as np\n",
    "import matplotlib.pyplot as plt\n",
    "from scipy.stats import norm\n",
    "from scipy.stats import chi2\n",
    "from scipy.stats import f\n",
    "from scipy.stats import t\n",
    "import statistics\n",
    "import pandas as pd\n",
    "from scipy import stats\n",
    "from scipy.stats import norm\n",
    "import math\n",
    "import scipy.stats \n",
    "\n",
    "\n",
    "# Dados \n",
    "t1_bar=7.4 #média de transmissão da rede antiga\n",
    "t1_var=1.3  #desvio padrão dos tempos de trnsmissão da rede antiga\n",
    "\n",
    "t2= np.array([6.8, 7.1, 5.9, 7.5, 6.3, 6.9, 7.2, 7.6, 6.6, 6.3])  #tempos de transmissão da nova rede\n",
    "\n",
    "t2_bar=np.mean(t2)  #média de transmissão da nova rede\n",
    "t2_med=np.median(t2)\n",
    "t2_std= statistics.stdev(t2)    #desvio padrão amostral dos tempos de transmissão da nova rede\n",
    "t2_var=statistics.variance(t2)    #variância amostral dos tempos de transmissão da nova rede (desvio padrão ao quadrado)\n",
    "\n",
    "\n",
    "print(t2_bar)\n",
    "print(t2_med)\n",
    "print(t2_std)\n",
    "print(t2_var)       #observe que o valor da média e da mediana são bem próximos,\n",
    "                                    #propriedade importante para a suposião de normalidade"
   ]
  },
  {
   "cell_type": "code",
   "execution_count": 163,
   "metadata": {},
   "outputs": [
    {
     "data": {
      "image/png": "[encoded data removed]",
      "text/plain": [
       "<Figure size 432x288 with 1 Axes>"
      ]
     },
     "metadata": {
      "needs_background": "light"
     },
     "output_type": "display_data"
    }
   ],
   "source": [
    "# Gráfico  para checar suposição de distribuição normal dos dados\n",
    "\n",
    "stats.probplot(t2, plot=plt)\n",
    "plt.xlabel('quantis teóricos')\n",
    "plt.ylabel('valores ordenados da variável')\n",
    "plt.show()"
   ]
  },
  {
   "cell_type": "code",
   "execution_count": 164,
   "metadata": {},
   "outputs": [
    {
     "name": "stdout",
     "output_type": "stream",
     "text": [
      "-1.6086305690531646\n",
      "-1.6448536269514729\n",
      "0.05384857292235576\n"
     ]
    }
   ],
   "source": [
    "#Teste Z  para a hipótese nula de que a média de uma amostra de \n",
    "# observações independentes  é igual à média populacional conhecida (tem a suposição de igualdade de variâncias)\n",
    "\n",
    "Z=(t2_bar-7.4)/(math.sqrt(t1_var)/ math.sqrt(10))  # estatístiva do teste Z\n",
    "print(Z)   #valor da estatística do teste\n",
    "\n",
    "pc=norm.ppf(0.05)  #cálculo do ponto crítico (x_corte)\n",
    "p_valor=norm.cdf(Z)  #cálculo do p-valor\n",
    "\n",
    "print(pc)\n",
    "print(p_valor)   #Tanto pela estatística (está fora da região crítica) do teste quanto pelo p-valor (maior que alpha), \n",
    "                  #não rejeitamos H0, ao nível de significância de 0,05."
   ]
  },
  {
   "cell_type": "markdown",
   "metadata": {},
   "source": [
    "b) Com probabilidade de cometer o erro tipo I de 0,1, pode-se afirmar que a variabilidade dos tempos tenha sido alterada?\n",
    "\n",
    "Hipóteses:\n",
    "\n",
    "$H_0:\\sigma^2=\\sigma_{0}^{2}$   \n",
    "\n",
    "$H_a:\\sigma^2 \\neq \\sigma_{0}^{2}$\n",
    "\n",
    "Nível de significância= 0.1 (alpha=probabilidade do erro tipo I)\n",
    "\n",
    "Consulte o link a seguir para detalhes do teste:\n",
    "http://www.portalaction.com.br/inferencia/55-teste-para-variancia"
   ]
  },
  {
   "cell_type": "code",
   "execution_count": 165,
   "metadata": {},
   "outputs": [
    {
     "name": "stdout",
     "output_type": "stream",
     "text": [
      "2.1046153846153843\n",
      "3.325112843066815\n",
      "16.918977604620448\n",
      "0.02059389663091032\n"
     ]
    }
   ],
   "source": [
    "# Teste qui-quadrado para variância\n",
    "\n",
    "Qobs=(10-1)*0.304/t1_var   #Estatística do teste\n",
    "print(V)\n",
    "\n",
    "pc1=chi2.ppf(0.05,df=9)  # cálculo do ponto crítico inferior \n",
    "pc2=chi2.ppf(0.95,df=9) #cálculo do ponto crítico superior  (como a distribuição qui-quadrado não é simétrico,\n",
    "                        #os valores dos  pontos críticos não serão iguais em módulo, como por exemplo, para a normal)\n",
    "\n",
    "p_valor=2*min(chi2.cdf(Qobs,df=9),1-chi2.cdf(Qobs,df=9)) #cálculo do p-valor: 2.min(P(Q>Qobs),P(Q<Qobs)) \n",
    "\n",
    "print(pc1)\n",
    "print(pc2)\n",
    "\n",
    "print(p_valor)                   #Tanto pela estatística (está dentro da região crítica) do teste quanto pelo p-valor \n",
    "                            #(menor que alpha), rejeitamos H0, ao nível de significância de 0,1."
   ]
  },
  {
   "cell_type": "markdown",
   "metadata": {},
   "source": [
    "c) Você acha que a suposição feita em (a) é justificável? Se não é justificável, teste as hipóteses em (a), usando nível descritivo (p-valor).\n",
    "\n",
    "Não é justificável a suposição de igualdade de variâncias feita em (a). verificamos isso pelo teste feito em (b). Assim, o teste t para a média, que não exige a suposição de igualdade de variâncias, é o adequado.\n",
    "\n",
    "Hipóteses:\n",
    "\n",
    "$H_0:t=7,4$   \n",
    "\n",
    "$H_a:t<7,4$\n",
    "\n",
    "Nível de significância= 0.05 (alpha)"
   ]
  },
  {
   "cell_type": "code",
   "execution_count": 166,
   "metadata": {
    "scrolled": true
   },
   "outputs": [
    {
     "name": "stdout",
     "output_type": "stream",
     "text": [
      "-3.1558216879785514\n",
      "-1.8331129326536337\n",
      "0.005814056329661572\n"
     ]
    }
   ],
   "source": [
    "#Teste t para uma média e varância desconhecida\n",
    "\n",
    "temp=(t2_bar-7.4)/(math.sqrt(t2_var)/ math.sqrt(9))   #estatística do teste t\n",
    "print(temp)\n",
    "\n",
    "\n",
    "\n",
    "pc=t.ppf(0.05,df=9)\n",
    "print(pc)\n",
    "\n",
    "p_valor= t.cdf(temp,df=9)\n",
    "print(p_valor)\n",
    "                              #Tanto pela estatística (está dentro da região crítica) do teste quanto pelo p-valor\n",
    "                              #(menor que alpha), rejeitamos H0, ao nível de significância de 0,05."
   ]
  }
 ],
 "metadata": {
  "kernelspec": {
   "display_name": "Python 3",
   "language": "python",
   "name": "python3"
  },
  "language_info": {
   "codemirror_mode": {
    "name": "ipython",
    "version": 3
   },
   "file_extension": ".py",
   "mimetype": "text/x-python",
   "name": "python",
   "nbconvert_exporter": "python",
   "pygments_lexer": "ipython3",
   "version": "3.8.3"
  }
 },
 "nbformat": 4,
 "nbformat_minor": 4
}
