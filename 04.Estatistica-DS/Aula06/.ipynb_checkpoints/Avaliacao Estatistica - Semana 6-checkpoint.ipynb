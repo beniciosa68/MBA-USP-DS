{
 "cells": [
  {
   "cell_type": "markdown",
   "metadata": {},
   "source": [
    "# <span style=\"color:blue\"> MBA em Ciência de Dados</span>\n",
    "# <span style=\"color:blue\">Estatística para Ciência de Dados</span>\n",
    "\n",
    "## <span style=\"color:blue\">Semana 6</span>\n",
    "**Material Produzido por Mariana Cúri**<br>\n",
    "**Cemeai - ICMC/USP São Carlos**"
   ]
  },
  {
   "cell_type": "markdown",
   "metadata": {},
   "source": [
    "<font color='red'> As respostas devem ser fornecidas no Moodle. O notebook é apenas para a implementação dos códigos que fornecerão as respostas</font>"
   ]
  },
  {
   "cell_type": "markdown",
   "metadata": {},
   "source": [
    "### Exercício 1\n",
    "Assuma que a distribuição da diferença (D) entre os resultados do método novo e padrão seja Normal. Se os métodos fossem equivalentes, suas medidas seriam muito parecidas, e a diferença, D, teria média 0. Suponha, para simplificar, que o desvio padrão amostral igual a 3,5 possa ser considerado como o desvio padrão populacional, σ, e que possamos desprezar a imprecisão na obtenção de cada medida. Nessas condições quantos cães esperaríamos encontrar nessa amostra com diferenças (em módulo, ou seja, tanto para mais quanto para menos) maiores do que 6 U/L?\n",
    "\n",
    "Escolha uma:<br>\n",
    "<b>a. menos de 1 <br>\n",
    "b. de 3 a 4<br>\n",
    "c. de 8 a 9<br>\n",
    "d. nenhum<br>\n",
    "e. de 1 a 2<br>"
   ]
  },
  {
   "cell_type": "code",
   "execution_count": null,
   "metadata": {},
   "outputs": [],
   "source": []
  },
  {
   "cell_type": "markdown",
   "metadata": {},
   "source": [
    "### Exercício 2\n",
    "Um estudo para relacionar tamanho do cérebro, gênero e inteligência, coletou em uma amostra de 40 indivíduos, variáveis referentes à inteligência (com resultados resumidos em 3 variáveis que refletem o QI), ao tamanho do cérebro (via ressonância magnética) e pessoais (peso, altura e gênero).\n",
    "\n",
    "Os dados encontram-se no arquivo QI, na página da disciplina.\n",
    "\n",
    "Para responder às peguntar abaixo, leve em consideração as suposições dos métodos e se os dados as satisfazem.<br>\n",
    "\n",
    "<b>\n",
    "Que método é adequado para comparar as variâncias dos pesos de homens e mulheres? __<br>\n",
    "\n",
    "Que método é adequado para comparar os QIs médios verbal e de performance?______________________<br>\n",
    "\n",
    "Que método é adequado para comparar o QI médio verbal de mulheres e homens?______________________<br>\n",
    "\n",
    "Que método é adequado para prever o QI_Total do indivíduo a partir de variáveis pessoais, de inteligência e dimensões do cérebro?______________________<br>\n",
    "\n",
    "\n",
    "Que método é adequado para verificar se existe relação entre os valores de QIs verbal e de os dados de RM?______________________<br>\n",
    "\n",
    "    \n",
    "1) teste t de student pareado<br>\n",
    "2) teste de Mann-Whitney<br>\n",
    "3) correlação de Pearson<br>\n",
    "4) regressão linear<br>\n",
    "5) teste de Levene<br>"
   ]
  },
  {
   "cell_type": "code",
   "execution_count": null,
   "metadata": {},
   "outputs": [],
   "source": []
  },
  {
   "cell_type": "markdown",
   "metadata": {},
   "source": [
    "### Exercício 3\n",
    "Em Estatística, tenta-se, sempre que possível, testar conjuntamente hipóteses sobre parâmetros de um modelo. Para testar a hipótese de que os métodos padrão e novo são equivalentes, um das análises desenvolvidas em aula foi verificar se a reta de regressão que os relaciona é a identidade (x=y). Para tanto, basta verificar se o intercepto do modelo é igual a 0 e a inclinação é igual a 1. No entanto, em aula, esses testes de hipóteses sobre os dois parâmetros foram feitos separadamente.\n",
    "\n",
    "Juntamente com o código disponibilizado em aula, utilize o comando:\n",
    "\n",
    "```python\n",
    "hypotheses = '(Padrão = 1),(Intercept = 0)'\n",
    "print(res.f_test(hypotheses))\n",
    "```\n",
    "\n",
    "para o teste conjunto e escolha qual das alternativas abaixo está <font color='red'><b>INCORRETA:</b></font><br>\n",
    "\n",
    "Escolha uma:<br>\n",
    "<b>a. com o comando f_test, podemos testar várias hipóteses simultaneamente, mais de 2, inclusive<br>\n",
    "\n",
    "b. A um nível de significância de 1%, rejeita-se a hipótese de que a reta de regressão que relaciona os dois métodos é a identidade (x=y)<br><b>\n",
    "\n",
    "c. outra opção para testar hipóteses desse tipo é o teste de Wald<br><b>\n",
    "\n",
    "d. Se fixarmos o mesmo nível de significância para todos os testes de hipóteses envolvidos em nossa conclusão, a probabilidade de cometer o erro tipo I interpretando o resultado do teste de hipóteses conjunto será menor do que probabilidade de cometer o erro tipo I na conclusão global baseada nos dois testes separados<br><b>\n",
    "\n",
    "e. Para o teste de hipóteses conjunto desses dois parâmetros, o nível de significância do teste deverá ser duplicado<br><b>"
   ]
  },
  {
   "cell_type": "code",
   "execution_count": null,
   "metadata": {},
   "outputs": [],
   "source": []
  }
 ],
 "metadata": {
  "kernelspec": {
   "display_name": "Python 3",
   "language": "python",
   "name": "python3"
  },
  "language_info": {
   "codemirror_mode": {
    "name": "ipython",
    "version": 3
   },
   "file_extension": ".py",
   "mimetype": "text/x-python",
   "name": "python",
   "nbconvert_exporter": "python",
   "pygments_lexer": "ipython3",
   "version": "3.7.6"
  },
  "toc": {
   "base_numbering": 1,
   "nav_menu": {},
   "number_sections": true,
   "sideBar": true,
   "skip_h1_title": false,
   "title_cell": "Table of Contents",
   "title_sidebar": "Contents",
   "toc_cell": false,
   "toc_position": {},
   "toc_section_display": true,
   "toc_window_display": false
  }
 },
 "nbformat": 4,
 "nbformat_minor": 2
}
