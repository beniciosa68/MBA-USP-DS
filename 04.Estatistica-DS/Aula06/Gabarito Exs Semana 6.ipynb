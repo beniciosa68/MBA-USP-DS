{
 "cells": [
  {
   "cell_type": "code",
   "execution_count": 1,
   "metadata": {},
   "outputs": [],
   "source": [
    "import numpy as np\n",
    "import pandas as pd\n",
    "from scipy import stats\n",
    "import matplotlib.pyplot as plt\n",
    "import seaborn as sns"
   ]
  },
  {
   "cell_type": "code",
   "execution_count": 2,
   "metadata": {},
   "outputs": [],
   "source": [
    "# talvez precise instalar xlrd: conda install xlrd\n",
    "df = pd.read_excel('Dados ECT.xlsx', 'Dados')"
   ]
  },
  {
   "cell_type": "code",
   "execution_count": 3,
   "metadata": {},
   "outputs": [
    {
     "data": {
      "text/html": [
       "<div>\n",
       "<style scoped>\n",
       "    .dataframe tbody tr th:only-of-type {\n",
       "        vertical-align: middle;\n",
       "    }\n",
       "\n",
       "    .dataframe tbody tr th {\n",
       "        vertical-align: top;\n",
       "    }\n",
       "\n",
       "    .dataframe thead th {\n",
       "        text-align: right;\n",
       "    }\n",
       "</style>\n",
       "<table border=\"1\" class=\"dataframe\">\n",
       "  <thead>\n",
       "    <tr style=\"text-align: right;\">\n",
       "      <th></th>\n",
       "      <th>Paciente</th>\n",
       "      <th>sexo</th>\n",
       "      <th>idade</th>\n",
       "      <th>Diagnóstico</th>\n",
       "      <th>Ano</th>\n",
       "      <th>N° Aplicações</th>\n",
       "      <th>condição</th>\n",
       "    </tr>\n",
       "  </thead>\n",
       "  <tbody>\n",
       "    <tr>\n",
       "      <th>0</th>\n",
       "      <td>2</td>\n",
       "      <td>M</td>\n",
       "      <td>33</td>\n",
       "      <td>neurose</td>\n",
       "      <td>1951-1960</td>\n",
       "      <td>6</td>\n",
       "      <td>inalterado</td>\n",
       "    </tr>\n",
       "    <tr>\n",
       "      <th>1</th>\n",
       "      <td>7</td>\n",
       "      <td>F</td>\n",
       "      <td>25</td>\n",
       "      <td>psicose</td>\n",
       "      <td>1951-1960</td>\n",
       "      <td>2</td>\n",
       "      <td>inalterado</td>\n",
       "    </tr>\n",
       "    <tr>\n",
       "      <th>2</th>\n",
       "      <td>8</td>\n",
       "      <td>F</td>\n",
       "      <td>23</td>\n",
       "      <td>neurose</td>\n",
       "      <td>1951-1960</td>\n",
       "      <td>1</td>\n",
       "      <td>inalterado</td>\n",
       "    </tr>\n",
       "    <tr>\n",
       "      <th>3</th>\n",
       "      <td>9</td>\n",
       "      <td>F</td>\n",
       "      <td>16</td>\n",
       "      <td>psicose</td>\n",
       "      <td>1951-1960</td>\n",
       "      <td>19</td>\n",
       "      <td>inalterado</td>\n",
       "    </tr>\n",
       "    <tr>\n",
       "      <th>4</th>\n",
       "      <td>10</td>\n",
       "      <td>F</td>\n",
       "      <td>26</td>\n",
       "      <td>psicose</td>\n",
       "      <td>1951-1960</td>\n",
       "      <td>20</td>\n",
       "      <td>inalterado</td>\n",
       "    </tr>\n",
       "  </tbody>\n",
       "</table>\n",
       "</div>"
      ],
      "text/plain": [
       "   Paciente sexo  idade  Diagnóstico        Ano  N° Aplicações    condição\n",
       "0         2    M      33     neurose  1951-1960              6  inalterado\n",
       "1         7    F      25     psicose  1951-1960              2  inalterado\n",
       "2         8    F      23     neurose  1951-1960              1  inalterado\n",
       "3         9    F      16     psicose  1951-1960             19  inalterado\n",
       "4        10    F      26     psicose  1951-1960             20  inalterado"
      ]
     },
     "execution_count": 3,
     "metadata": {},
     "output_type": "execute_result"
    }
   ],
   "source": [
    "df.head()"
   ]
  },
  {
   "cell_type": "code",
   "execution_count": 4,
   "metadata": {},
   "outputs": [
    {
     "data": {
      "text/plain": [
       "array(['1951-1960', '1961-1970', '1971-1980', '1981-1990', '1991-2000',\n",
       "       '2001-2005'], dtype=object)"
      ]
     },
     "execution_count": 4,
     "metadata": {},
     "output_type": "execute_result"
    }
   ],
   "source": [
    "df['Ano'].unique()"
   ]
  },
  {
   "cell_type": "code",
   "execution_count": 5,
   "metadata": {},
   "outputs": [
    {
     "data": {
      "text/plain": [
       "array(['inalterado', 'melhorado'], dtype=object)"
      ]
     },
     "execution_count": 5,
     "metadata": {},
     "output_type": "execute_result"
    }
   ],
   "source": [
    "df['condição'].unique()"
   ]
  },
  {
   "cell_type": "code",
   "execution_count": 6,
   "metadata": {},
   "outputs": [
    {
     "data": {
      "text/plain": [
       "0"
      ]
     },
     "execution_count": 6,
     "metadata": {},
     "output_type": "execute_result"
    }
   ],
   "source": [
    "# verificar se um mesmo paciente pode aparecer em decadas diferentes\n",
    "# (importante para garantir indendência entre as amostras das décadas)\n",
    "(df.groupby('Paciente')['Ano'].nunique() > 1).sum()"
   ]
  },
  {
   "cell_type": "code",
   "execution_count": 7,
   "metadata": {},
   "outputs": [],
   "source": [
    "# passar condição para numérico para facilitar as computações\n",
    "df['cond'] = df['condição'].map({'inalterado' : 0, 'melhorado' : 1})"
   ]
  },
  {
   "cell_type": "code",
   "execution_count": 8,
   "metadata": {},
   "outputs": [
    {
     "data": {
      "text/plain": [
       "Ano\n",
       "1951-1960    0.812500\n",
       "1961-1970    0.900000\n",
       "1971-1980    0.875000\n",
       "1981-1990    0.909091\n",
       "1991-2000    0.972810\n",
       "2001-2005    0.962882\n",
       "Name: cond, dtype: float64"
      ]
     },
     "execution_count": 8,
     "metadata": {},
     "output_type": "execute_result"
    }
   ],
   "source": [
    "# obter proporções\n",
    "proporcao = df.groupby('Ano')['cond'].mean()\n",
    "proporcao"
   ]
  },
  {
   "cell_type": "code",
   "execution_count": 9,
   "metadata": {},
   "outputs": [
    {
     "data": {
      "text/plain": [
       "Ano\n",
       "1951-1960     96\n",
       "1961-1970     70\n",
       "1971-1980     16\n",
       "1981-1990     22\n",
       "1991-2000    331\n",
       "2001-2005    458\n",
       "dtype: int64"
      ]
     },
     "execution_count": 9,
     "metadata": {},
     "output_type": "execute_result"
    }
   ],
   "source": [
    "# verificar tamanho das amostras\n",
    "df.groupby('Ano').size()"
   ]
  },
  {
   "cell_type": "markdown",
   "metadata": {},
   "source": [
    "#### 1) A porcentagem de melhora ao longo dos anos é a mesma? Separe os dados por décadas"
   ]
  },
  {
   "cell_type": "code",
   "execution_count": 25,
   "metadata": {},
   "outputs": [],
   "source": [
    "# Queremos conferir se a porcentagem de melhoras ao longo das decadas é a mesma\n",
    "\n",
    "# Para isso, vamos verificar se há uma tendência de crescimento (ou descrescimento) nos dados\n",
    "\n",
    "# Se uma regressão linear tiver coeficiente angular = 0, hipótese nula, então\n",
    "# assumimos que a efetividade do tramatamento não mudou.\n",
    "\n",
    "# Note que esse método não é adequado se os dados tiverem um comportamento que não seja linear"
   ]
  },
  {
   "cell_type": "code",
   "execution_count": 10,
   "metadata": {},
   "outputs": [
    {
     "data": {
      "text/plain": [
       "Text(0, 0.5, '% de melhora')"
      ]
     },
     "execution_count": 10,
     "metadata": {},
     "output_type": "execute_result"
    },
    {
     "data": {
      "image/png": "[encoded data removed]",
      "text/plain": [
       "<Figure size 432x288 with 1 Axes>"
      ]
     },
     "metadata": {
      "needs_background": "light"
     },
     "output_type": "display_data"
    }
   ],
   "source": [
    "plt.scatter(range(len(proporcao)), proporcao)\n",
    "plt.xlabel(\"década\")\n",
    "plt.ylabel(\"% de melhora\")"
   ]
  },
  {
   "cell_type": "code",
   "execution_count": 11,
   "metadata": {},
   "outputs": [
    {
     "data": {
      "text/plain": [
       "'\\nTwo-sided p-value for a hypothesis test whose null hypothesis is\\n    that the slope is zero, using Wald Test with t-distribution of\\n    the test statistic.\\n'"
      ]
     },
     "execution_count": 11,
     "metadata": {},
     "output_type": "execute_result"
    }
   ],
   "source": [
    "slope, intercept, r_value, p_value, std_err = stats.linregress(range(len(proporcao)), proporcao)\n",
    "# De acordo com a documentação do stats.linregress, temos:\n",
    "'''\n",
    "Two-sided p-value for a hypothesis test whose null hypothesis is\n",
    "    that the slope is zero, using Wald Test with t-distribution of\n",
    "    the test statistic.\n",
    "'''\n",
    "# A inclinação (slope) é justamente o que temos interesse"
   ]
  },
  {
   "cell_type": "code",
   "execution_count": 27,
   "metadata": {},
   "outputs": [
    {
     "data": {
      "text/plain": [
       "0.012064398367144654"
      ]
     },
     "execution_count": 27,
     "metadata": {},
     "output_type": "execute_result"
    }
   ],
   "source": [
    "p_value"
   ]
  },
  {
   "cell_type": "code",
   "execution_count": null,
   "metadata": {},
   "outputs": [],
   "source": []
  },
  {
   "cell_type": "code",
   "execution_count": 80,
   "metadata": {},
   "outputs": [],
   "source": [
    "# Outra solução: Teste Qui Quadrado\n",
    "\n",
    "# Outro teste que podemos fazer para comparar a proporção de de melhora nas 6 décadas é o teste qui-quadrado\n",
    "# que verifica a independência entre as variáveis \"década\" (com 6 categorias) e \"condição\" (com 2 categorias: melhora ou inalterado)\n",
    "# esse teste verifica se a distribuição de melhora/inalterado é a mesma em todas as décadas\n",
    "\n",
    "# O teste Qui Quadrado é útil nesse caso em que temos um variável discreta e supomos um valor \"esperado\",\n",
    "# ou seja, que seria esperado caso as distribuições de melhora fossem as mesmas nas 6 décadas (hipótese H0)\n",
    "\n",
    "# Entretanto, esse método apenas compara se as proporções de melhora são iguais entre as 6 décadas (H0) ou se alguma década pelo menos tem uma diferença (Ha)\n",
    "# Se houver um tendência de crescimento entre as variáveis analisadas, o teste de qui-quadrado pode detectar a diferença, mas não nos\n",
    "# responde se há tendência de crescimento."
   ]
  },
  {
   "cell_type": "code",
   "execution_count": 12,
   "metadata": {},
   "outputs": [
    {
     "data": {
      "text/html": [
       "<div>\n",
       "<style scoped>\n",
       "    .dataframe tbody tr th:only-of-type {\n",
       "        vertical-align: middle;\n",
       "    }\n",
       "\n",
       "    .dataframe tbody tr th {\n",
       "        vertical-align: top;\n",
       "    }\n",
       "\n",
       "    .dataframe thead th {\n",
       "        text-align: right;\n",
       "    }\n",
       "</style>\n",
       "<table border=\"1\" class=\"dataframe\">\n",
       "  <thead>\n",
       "    <tr style=\"text-align: right;\">\n",
       "      <th></th>\n",
       "      <th>melhorado</th>\n",
       "      <th>inalterado</th>\n",
       "    </tr>\n",
       "    <tr>\n",
       "      <th>Ano</th>\n",
       "      <th></th>\n",
       "      <th></th>\n",
       "    </tr>\n",
       "  </thead>\n",
       "  <tbody>\n",
       "    <tr>\n",
       "      <th>1951-1960</th>\n",
       "      <td>78</td>\n",
       "      <td>18</td>\n",
       "    </tr>\n",
       "    <tr>\n",
       "      <th>1961-1970</th>\n",
       "      <td>63</td>\n",
       "      <td>7</td>\n",
       "    </tr>\n",
       "    <tr>\n",
       "      <th>1971-1980</th>\n",
       "      <td>14</td>\n",
       "      <td>2</td>\n",
       "    </tr>\n",
       "    <tr>\n",
       "      <th>1981-1990</th>\n",
       "      <td>20</td>\n",
       "      <td>2</td>\n",
       "    </tr>\n",
       "    <tr>\n",
       "      <th>1991-2000</th>\n",
       "      <td>322</td>\n",
       "      <td>9</td>\n",
       "    </tr>\n",
       "    <tr>\n",
       "      <th>2001-2005</th>\n",
       "      <td>441</td>\n",
       "      <td>17</td>\n",
       "    </tr>\n",
       "  </tbody>\n",
       "</table>\n",
       "</div>"
      ],
      "text/plain": [
       "           melhorado  inalterado\n",
       "Ano                             \n",
       "1951-1960         78          18\n",
       "1961-1970         63           7\n",
       "1971-1980         14           2\n",
       "1981-1990         20           2\n",
       "1991-2000        322           9\n",
       "2001-2005        441          17"
      ]
     },
     "execution_count": 12,
     "metadata": {},
     "output_type": "execute_result"
    }
   ],
   "source": [
    "observacoes = pd.DataFrame()\n",
    "observacoes['melhorado'] = df.groupby('Ano')['cond'].sum()\n",
    "observacoes['inalterado'] = df.groupby('Ano')['cond'].size() - observacoes['melhorado']\n",
    "observacoes"
   ]
  },
  {
   "cell_type": "code",
   "execution_count": 14,
   "metadata": {},
   "outputs": [],
   "source": [
    "chi2, p, dof, ex = stats.chi2_contingency(observacoes)"
   ]
  },
  {
   "cell_type": "code",
   "execution_count": 15,
   "metadata": {},
   "outputs": [
    {
     "data": {
      "text/plain": [
       "1.707158158567985e-08"
      ]
     },
     "execution_count": 15,
     "metadata": {},
     "output_type": "execute_result"
    }
   ],
   "source": [
    "p"
   ]
  },
  {
   "cell_type": "markdown",
   "metadata": {},
   "source": [
    "#### 2) A partir de 2001, que o procedimento ECT foi aprimorado, a porcentagem de melhora ultrapassa 90%?"
   ]
  },
  {
   "cell_type": "code",
   "execution_count": 16,
   "metadata": {},
   "outputs": [
    {
     "data": {
      "text/plain": [
       "3.6322914473974066e-06"
      ]
     },
     "execution_count": 16,
     "metadata": {},
     "output_type": "execute_result"
    }
   ],
   "source": [
    "# 2)\n",
    "\n",
    "# Aqui temos um problema semelhante ao que vimos na aula passada sobre a eficiência do Sildenafil\n",
    "\n",
    "# Podemos fazer um teste unicaudal com H0: p = 0.9 versus Ha: p > 0.9\n",
    "\n",
    "# Note que, neste caso, o Ha está à direita de H0 e, portanto, o p-valor deve ser calculado a partir da cauda direita\n",
    "\n",
    "\n",
    "n = df.eval('Ano == \"2001-2005\"').sum()\n",
    "p_observado = proporcao.loc['2001-2005']\n",
    "p_valor = 1- stats.norm.cdf(p_observado, .9, np.sqrt(.9 * .1 / n)) # calculado com a cauda da direita\n",
    "p_valor"
   ]
  },
  {
   "cell_type": "code",
   "execution_count": null,
   "metadata": {},
   "outputs": [],
   "source": [
    "# Com umnível de signigicância de 0,01, por exemplo, pode-se dizer que a proporção de melhora é maior do que 90%"
   ]
  },
  {
   "cell_type": "markdown",
   "metadata": {},
   "source": [
    "<hr>"
   ]
  },
  {
   "cell_type": "markdown",
   "metadata": {},
   "source": [
    "#### 3) O número de aplicações é maior no grupo que melhora do que no que não melhora?"
   ]
  },
  {
   "cell_type": "code",
   "execution_count": 17,
   "metadata": {},
   "outputs": [
    {
     "data": {
      "text/html": [
       "<div>\n",
       "<style scoped>\n",
       "    .dataframe tbody tr th:only-of-type {\n",
       "        vertical-align: middle;\n",
       "    }\n",
       "\n",
       "    .dataframe tbody tr th {\n",
       "        vertical-align: top;\n",
       "    }\n",
       "\n",
       "    .dataframe thead th {\n",
       "        text-align: right;\n",
       "    }\n",
       "</style>\n",
       "<table border=\"1\" class=\"dataframe\">\n",
       "  <thead>\n",
       "    <tr style=\"text-align: right;\">\n",
       "      <th></th>\n",
       "      <th>count</th>\n",
       "      <th>mean</th>\n",
       "      <th>std</th>\n",
       "      <th>min</th>\n",
       "      <th>25%</th>\n",
       "      <th>50%</th>\n",
       "      <th>75%</th>\n",
       "      <th>max</th>\n",
       "    </tr>\n",
       "    <tr>\n",
       "      <th>condição</th>\n",
       "      <th></th>\n",
       "      <th></th>\n",
       "      <th></th>\n",
       "      <th></th>\n",
       "      <th></th>\n",
       "      <th></th>\n",
       "      <th></th>\n",
       "      <th></th>\n",
       "    </tr>\n",
       "  </thead>\n",
       "  <tbody>\n",
       "    <tr>\n",
       "      <th>inalterado</th>\n",
       "      <td>55.0</td>\n",
       "      <td>7.945455</td>\n",
       "      <td>6.816152</td>\n",
       "      <td>1.0</td>\n",
       "      <td>3.0</td>\n",
       "      <td>6.0</td>\n",
       "      <td>10.0</td>\n",
       "      <td>33.0</td>\n",
       "    </tr>\n",
       "    <tr>\n",
       "      <th>melhorado</th>\n",
       "      <td>938.0</td>\n",
       "      <td>17.540512</td>\n",
       "      <td>22.863918</td>\n",
       "      <td>1.0</td>\n",
       "      <td>8.0</td>\n",
       "      <td>12.0</td>\n",
       "      <td>18.0</td>\n",
       "      <td>364.0</td>\n",
       "    </tr>\n",
       "  </tbody>\n",
       "</table>\n",
       "</div>"
      ],
      "text/plain": [
       "            count       mean        std  min  25%   50%   75%    max\n",
       "condição                                                            \n",
       "inalterado   55.0   7.945455   6.816152  1.0  3.0   6.0  10.0   33.0\n",
       "melhorado   938.0  17.540512  22.863918  1.0  8.0  12.0  18.0  364.0"
      ]
     },
     "execution_count": 17,
     "metadata": {},
     "output_type": "execute_result"
    }
   ],
   "source": [
    "df.groupby('condição')['N° Aplicações'].describe()"
   ]
  },
  {
   "cell_type": "code",
   "execution_count": 55,
   "metadata": {},
   "outputs": [],
   "source": [
    "# note que o max do melhorado é bem alto...\n",
    "# isso será levado em consideração para a gente visualizar os dados"
   ]
  },
  {
   "cell_type": "code",
   "execution_count": 18,
   "metadata": {},
   "outputs": [],
   "source": [
    "inalterado = df.query('condição == \"inalterado\"')['N° Aplicações']\n",
    "melhorado = df.query('condição == \"melhorado\"')['N° Aplicações']"
   ]
  },
  {
   "cell_type": "code",
   "execution_count": 19,
   "metadata": {},
   "outputs": [
    {
     "data": {
      "image/png": "[encoded data removed]",
      "text/plain": [
       "<Figure size 720x288 with 2 Axes>"
      ]
     },
     "metadata": {
      "needs_background": "light"
     },
     "output_type": "display_data"
    }
   ],
   "source": [
    "# será que a distribuições são normais?\n",
    "# se forem, poderemos usar o teste t\n",
    "\n",
    "plt.figure(figsize=(10, 4))\n",
    "\n",
    "plt.subplot(1, 2, 1)\n",
    "stats.probplot(inalterado, plot=plt)\n",
    "\n",
    "plt.subplot(1, 2, 2)\n",
    "stats.probplot(melhorado, plot=plt)\n",
    "\n",
    "plt.show()"
   ]
  },
  {
   "cell_type": "code",
   "execution_count": 20,
   "metadata": {},
   "outputs": [
    {
     "data": {
      "image/png": "[encoded data removed]",
      "text/plain": [
       "<Figure size 432x288 with 1 Axes>"
      ]
     },
     "metadata": {
      "needs_background": "light"
     },
     "output_type": "display_data"
    }
   ],
   "source": [
    "# histograma das distribuições\n",
    "\n",
    "MAX = 70\n",
    "plt.hist(inalterado, alpha = .5, density=True, bins = range(MAX + 2))\n",
    "plt.hist(melhorado, alpha = .5, density=True, bins = range(MAX + 2))\n",
    "\n",
    "plt.xlim(0, MAX)\n",
    "\n",
    "plt.show()"
   ]
  },
  {
   "cell_type": "code",
   "execution_count": null,
   "metadata": {},
   "outputs": [],
   "source": [
    "# visualmente os dois parecem distribuições diferentes e não parecem normais"
   ]
  },
  {
   "cell_type": "code",
   "execution_count": null,
   "metadata": {},
   "outputs": [],
   "source": [
    "# OBS: Por que MAX + 2?\n",
    "# Leve em conta que a função que conta o histograma serve para valores contínuos também\n",
    "# Essa função precisa definir intervalos de contagem e esses intervalos seguem a seguinte estrutura:\n",
    "# [A0, A1), [A1, A2), ... , [An-2, An-1), [An-1, An]\n",
    "# Queremos que o último intervalo seja [70, 71)\n",
    "# Mas o último intervalor é sempre fechado dos dois lados (padrão do histograma calculado pelo numpy).\n",
    "# Não queremos [70, 71] como intervalo de contagem,\n",
    "# então passamos range(70 + 2), para que os últimos intervalos sejam [70, 71), [71, 72]\n",
    "# e descartamos o último intervalo na hora de visualizar"
   ]
  },
  {
   "cell_type": "code",
   "execution_count": 21,
   "metadata": {},
   "outputs": [
    {
     "data": {
      "text/plain": [
       "MannwhitneyuResult(statistic=13230.5, pvalue=5.761424067265787e-10)"
      ]
     },
     "execution_count": 21,
     "metadata": {},
     "output_type": "execute_result"
    }
   ],
   "source": [
    "# Para testar se duas amostras são de distribuições diferentes,\n",
    "# usaremos o teste não paramétrico Mann–Whitney U\n",
    "# A hipótese nula é de que as distribuições são iguais.\n",
    "stats.mannwhitneyu(inalterado, melhorado)"
   ]
  },
  {
   "cell_type": "code",
   "execution_count": null,
   "metadata": {},
   "outputs": [],
   "source": []
  }
 ],
 "metadata": {
  "kernelspec": {
   "display_name": "Python 3",
   "language": "python",
   "name": "python3"
  },
  "language_info": {
   "codemirror_mode": {
    "name": "ipython",
    "version": 3
   },
   "file_extension": ".py",
   "mimetype": "text/x-python",
   "name": "python",
   "nbconvert_exporter": "python",
   "pygments_lexer": "ipython3",
   "version": "3.7.3"
  }
 },
 "nbformat": 4,
 "nbformat_minor": 4
}
