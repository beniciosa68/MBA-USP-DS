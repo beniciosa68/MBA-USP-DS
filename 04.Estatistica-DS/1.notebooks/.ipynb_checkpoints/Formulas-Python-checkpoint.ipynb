{
 "cells": [
  {
   "cell_type": "markdown",
   "metadata": {},
   "source": [
    "# MBA em Ciência de Dados\n",
    "\n",
    "## Estatística para Ciência de Dados\n",
    "\n",
    "\n",
    "Material Produzido por Mariana Cúri\n",
    "Cemeai - ICMC/USP São Carlos"
   ]
  },
  {
   "cell_type": "code",
   "execution_count": 81,
   "metadata": {},
   "outputs": [
    {
     "name": "stdout",
     "output_type": "stream",
     "text": [
      "Linhas: 2901  e  Colunas: 14\n"
     ]
    }
   ],
   "source": [
    "#Carregando uma base de dados para exemplo\n",
    "\n",
    "import pandas as pd\n",
    "\n",
    "enem = pd.read_csv(\".\\data\\ENEM.csv\", sep = ',', na_values = '-', encoding= 'unicode_escape') #importa os dados\n",
    "print('Linhas:',enem.shape[0],' e  Colunas:',enem.shape[1]) #número de linhas e número de colunas"
   ]
  },
  {
   "cell_type": "code",
   "execution_count": 20,
   "metadata": {},
   "outputs": [
    {
     "data": {
      "text/html": [
       "<div>\n",
       "<style scoped>\n",
       "    .dataframe tbody tr th:only-of-type {\n",
       "        vertical-align: middle;\n",
       "    }\n",
       "\n",
       "    .dataframe tbody tr th {\n",
       "        vertical-align: top;\n",
       "    }\n",
       "\n",
       "    .dataframe thead th {\n",
       "        text-align: right;\n",
       "    }\n",
       "</style>\n",
       "<table border=\"1\" class=\"dataframe\">\n",
       "  <thead>\n",
       "    <tr style=\"text-align: right;\">\n",
       "      <th></th>\n",
       "      <th>Ordem</th>\n",
       "      <th>N_alunos</th>\n",
       "      <th>N_participantes</th>\n",
       "      <th>P_Participantes</th>\n",
       "      <th>Nivel_Docente</th>\n",
       "      <th>Media_30melhores</th>\n",
       "      <th>Media</th>\n",
       "    </tr>\n",
       "  </thead>\n",
       "  <tbody>\n",
       "    <tr>\n",
       "      <th>count</th>\n",
       "      <td>2901.000000</td>\n",
       "      <td>2901.000000</td>\n",
       "      <td>2901.000000</td>\n",
       "      <td>2901.000000</td>\n",
       "      <td>2901.000000</td>\n",
       "      <td>1596.000000</td>\n",
       "      <td>2901.000000</td>\n",
       "    </tr>\n",
       "    <tr>\n",
       "      <th>mean</th>\n",
       "      <td>1451.000000</td>\n",
       "      <td>71.487418</td>\n",
       "      <td>50.116856</td>\n",
       "      <td>74.692344</td>\n",
       "      <td>60.031437</td>\n",
       "      <td>570.831635</td>\n",
       "      <td>527.602899</td>\n",
       "    </tr>\n",
       "    <tr>\n",
       "      <th>std</th>\n",
       "      <td>837.590891</td>\n",
       "      <td>74.486501</td>\n",
       "      <td>49.998143</td>\n",
       "      <td>15.185307</td>\n",
       "      <td>12.964371</td>\n",
       "      <td>43.365687</td>\n",
       "      <td>38.058296</td>\n",
       "    </tr>\n",
       "    <tr>\n",
       "      <th>min</th>\n",
       "      <td>1.000000</td>\n",
       "      <td>10.000000</td>\n",
       "      <td>5.000000</td>\n",
       "      <td>50.000000</td>\n",
       "      <td>7.100000</td>\n",
       "      <td>445.540000</td>\n",
       "      <td>415.670000</td>\n",
       "    </tr>\n",
       "    <tr>\n",
       "      <th>25%</th>\n",
       "      <td>726.000000</td>\n",
       "      <td>24.000000</td>\n",
       "      <td>19.000000</td>\n",
       "      <td>60.240000</td>\n",
       "      <td>51.400000</td>\n",
       "      <td>541.680000</td>\n",
       "      <td>498.270000</td>\n",
       "    </tr>\n",
       "    <tr>\n",
       "      <th>50%</th>\n",
       "      <td>1451.000000</td>\n",
       "      <td>45.000000</td>\n",
       "      <td>33.000000</td>\n",
       "      <td>76.190000</td>\n",
       "      <td>60.300000</td>\n",
       "      <td>570.650000</td>\n",
       "      <td>528.340000</td>\n",
       "    </tr>\n",
       "    <tr>\n",
       "      <th>75%</th>\n",
       "      <td>2176.000000</td>\n",
       "      <td>92.000000</td>\n",
       "      <td>64.000000</td>\n",
       "      <td>88.240000</td>\n",
       "      <td>69.000000</td>\n",
       "      <td>598.187500</td>\n",
       "      <td>555.700000</td>\n",
       "    </tr>\n",
       "    <tr>\n",
       "      <th>max</th>\n",
       "      <td>2901.000000</td>\n",
       "      <td>761.000000</td>\n",
       "      <td>526.000000</td>\n",
       "      <td>100.000000</td>\n",
       "      <td>100.000000</td>\n",
       "      <td>719.280000</td>\n",
       "      <td>658.290000</td>\n",
       "    </tr>\n",
       "  </tbody>\n",
       "</table>\n",
       "</div>"
      ],
      "text/plain": [
       "             Ordem     N_alunos  N_participantes  P_Participantes  \\\n",
       "count  2901.000000  2901.000000      2901.000000      2901.000000   \n",
       "mean   1451.000000    71.487418        50.116856        74.692344   \n",
       "std     837.590891    74.486501        49.998143        15.185307   \n",
       "min       1.000000    10.000000         5.000000        50.000000   \n",
       "25%     726.000000    24.000000        19.000000        60.240000   \n",
       "50%    1451.000000    45.000000        33.000000        76.190000   \n",
       "75%    2176.000000    92.000000        64.000000        88.240000   \n",
       "max    2901.000000   761.000000       526.000000       100.000000   \n",
       "\n",
       "       Nivel_Docente  Media_30melhores        Media  \n",
       "count    2901.000000       1596.000000  2901.000000  \n",
       "mean       60.031437        570.831635   527.602899  \n",
       "std        12.964371         43.365687    38.058296  \n",
       "min         7.100000        445.540000   415.670000  \n",
       "25%        51.400000        541.680000   498.270000  \n",
       "50%        60.300000        570.650000   528.340000  \n",
       "75%        69.000000        598.187500   555.700000  \n",
       "max       100.000000        719.280000   658.290000  "
      ]
     },
     "execution_count": 20,
     "metadata": {},
     "output_type": "execute_result"
    }
   ],
   "source": [
    "#Análise descritiva dos dados\n",
    "\n",
    "enem.describe()"
   ]
  },
  {
   "cell_type": "code",
   "execution_count": 21,
   "metadata": {},
   "outputs": [
    {
     "data": {
      "text/plain": [
       "(array([  1.,   5.,  44., 210., 482., 582., 344., 115.,  28.,   5.]),\n",
       " array([419.76 , 443.613, 467.466, 491.319, 515.172, 539.025, 562.878,\n",
       "        586.731, 610.584, 634.437, 658.29 ]),\n",
       " <a list of 10 Patch objects>)"
      ]
     },
     "execution_count": 21,
     "metadata": {},
     "output_type": "execute_result"
    },
    {
     "data": {
      "image/png": "[encoded data removed]",
      "text/plain": [
       "<Figure size 432x288 with 1 Axes>"
      ]
     },
     "metadata": {},
     "output_type": "display_data"
    }
   ],
   "source": [
    "#Montando um histograma\n",
    "\n",
    "import matplotlib.pyplot as plt\n",
    "\n",
    "#Pegando media das escolas privadas para montar histograma de exemplo\n",
    "media_privada = enem.loc[enem.Admin=='Privada', \"Media\"]\n",
    "\n",
    "plt.style.use('ggplot') #aplicando um estilo bonito para o histograma\n",
    "plt.hist(media_privada, bins = 10) #bins são os intervalos do histograma"
   ]
  },
  {
   "cell_type": "markdown",
   "metadata": {},
   "source": [
    "#### Probabilidade: Definição 1\n",
    "$$\n",
    "P(\\text{A}) = {número\\,\\, de\\,\\, elementos\\,\\, em\\,\\, A \\over número\\,\\, de\\,\\, elementos\\,\\, em\\,\\,   \\Omega}\n",
    "$$"
   ]
  },
  {
   "cell_type": "code",
   "execution_count": 12,
   "metadata": {},
   "outputs": [
    {
     "name": "stdout",
     "output_type": "stream",
     "text": [
      "Ômega = {acertar,errar} -> n = 2\n",
      "A = {acertar} -> a = 1\n"
     ]
    },
    {
     "data": {
      "text/plain": [
       "0.5"
      ]
     },
     "execution_count": 12,
     "metadata": {},
     "output_type": "execute_result"
    }
   ],
   "source": [
    "#probabilidade: definição 1\n",
    "\n",
    "def prob(a,n): #a = numero de elementos de um evento A, n = numero total de elementos (ômega)\n",
    "    return a/n\n",
    "\n",
    "#exemplo\n",
    "print('Ômega = {acertar,errar} -> n = 2')\n",
    "print('A = {acertar} -> a = 1')\n",
    "prob(1,2)"
   ]
  },
  {
   "cell_type": "markdown",
   "metadata": {},
   "source": [
    "#### Probabilidade de Eventos Independentes\n",
    "$$\n",
    "P(\\text{A}_1 \\cap \\text{A}_2) = P(\\text{A}_1) . P(\\text{A}_2)\n",
    "$$"
   ]
  },
  {
   "cell_type": "code",
   "execution_count": 10,
   "metadata": {},
   "outputs": [
    {
     "name": "stdout",
     "output_type": "stream",
     "text": [
      "Lista de probabilidades: [0.5, 0.4, 0.3333333333333333, 0.6666666666666666]\n"
     ]
    },
    {
     "data": {
      "text/plain": [
       "0.04444444444444444"
      ]
     },
     "execution_count": 10,
     "metadata": {},
     "output_type": "execute_result"
    }
   ],
   "source": [
    "#probabilidade: eventos independentes\n",
    "\n",
    "def probIntersec(listProb): #listProb = uma lista com as probabilidades que desejamos fazer intersecção\n",
    "    P = 1\n",
    "    for i in listProb:\n",
    "        P = i * P\n",
    "    return P\n",
    "\n",
    "#exemplo\n",
    "p = [prob(1,2),prob(2,5),prob(10,30),prob(2,3)] #lista com as probabilidades\n",
    "print('Lista de probabilidades:',p)\n",
    "probIntersec(p)"
   ]
  },
  {
   "cell_type": "markdown",
   "metadata": {},
   "source": [
    "#### Probabilidade Condicional\n",
    "$$\n",
    "P(\\text{A}_2 | \\text{A}_1) = {P(\\text{A}_2 \\cap \\text{A}_1) \\over P(\\text{A}_1)}\n",
    "$$"
   ]
  },
  {
   "cell_type": "code",
   "execution_count": 17,
   "metadata": {},
   "outputs": [
    {
     "name": "stdout",
     "output_type": "stream",
     "text": [
      "Probabilidade dos eventos A1 e A2 respectivamente: 0.5 e 0.4\n"
     ]
    },
    {
     "data": {
      "text/plain": [
       "0.4"
      ]
     },
     "execution_count": 17,
     "metadata": {},
     "output_type": "execute_result"
    }
   ],
   "source": [
    "#probabilidade condicional\n",
    "\n",
    "def probCond(Pa1, Pa2): #probabilidade do evento A1 e do evento A2\n",
    "    return probIntersec([Pa1,Pa2])/Pa1\n",
    "\n",
    "#exemplo\n",
    "print('Probabilidade dos eventos A1 e A2 respectivamente:',prob(1,2),'e',prob(2,5))\n",
    "probCond(prob(1,2),prob(2,5))"
   ]
  },
  {
   "cell_type": "markdown",
   "metadata": {},
   "source": [
    "#### Probabilidade Total\n",
    "$$\n",
    "P(\\text{A}) = {P(\\text{B}_1) . P(\\text{A} | \\text{B}_1)} + {P(\\text{B}_2) . P(\\text{A} | \\text{B}_2)} + ... + {P(\\text{B}_k) . P(\\text{A} | \\text{B}_k)}\n",
    "$$"
   ]
  },
  {
   "cell_type": "code",
   "execution_count": 78,
   "metadata": {},
   "outputs": [
    {
     "name": "stdout",
     "output_type": "stream",
     "text": [
      "Lista de probabilidades de B: [0.5, 0.4, 0.6666666666666666, 0.6666666666666666, 0.25]\n",
      "Lista de probabilidades condicionais de A dado B: [0.5, 0.5, 0.3333333333333333, 0.125, 0.08333333333333333]\n"
     ]
    },
    {
     "data": {
      "text/plain": [
       "0.776388888888889"
      ]
     },
     "execution_count": 78,
     "metadata": {},
     "output_type": "execute_result"
    }
   ],
   "source": [
    "#probabilidade total\n",
    "\n",
    "def probTot(listProbB, listProbAB): #listProbB = lista com as probabilidades de B, listProbAB = lista com as probabilidades condicionais A|B\n",
    "    P = 0\n",
    "    if(len(listProbB) == len(listProbAB)):\n",
    "        for i in range(len(listProbB)):\n",
    "            P = (listProbB[i] * listProbAB[i]) + P\n",
    "    else:\n",
    "        print('Erro: As listas devem conter o mesmo tamanho.')\n",
    "    return P\n",
    "\n",
    "#exemplo\n",
    "B = [prob(1,2),prob(2,5),prob(2,3),prob(2,3),prob(2,8)]\n",
    "AB= [prob(1,2),prob(1,2),prob(2,6),prob(1,8),prob(1,12)]\n",
    "\n",
    "print('Lista de probabilidades de B:',B)\n",
    "print('Lista de probabilidades condicionais de A dado B:',AB)\n",
    "probTot(B,AB)"
   ]
  },
  {
   "cell_type": "markdown",
   "metadata": {},
   "source": [
    "#### Bayes\n",
    "$$\n",
    "{P(\\text{B}_i | \\text{A})} = {{P(\\text{A} | \\text{B}_i) . P(\\text{B}_i)} \\over \\sum_{i=1}^K{P(\\text{A} | \\text{B}_i) . P(\\text{B}_i)}}\n",
    "$$\n"
   ]
  },
  {
   "cell_type": "code",
   "execution_count": null,
   "metadata": {},
   "outputs": [],
   "source": []
  },
  {
   "cell_type": "markdown",
   "metadata": {},
   "source": [
    "## Conceitos Básicos de Inferência Estatística\n",
    "\n",
    "#### Idéia base:Temos uma população, onde a partir de uma amostra queremos inferir dados, ou seja, estimar alguns valores para explicar a população através de uma amostra (não analisando o todo).\n",
    "\n",
    "##### p = parâmetro populacional ou estatística populacional, é o valor real de uma população que conseguimos obter analisando a população inteira. Em um caso real, isso é praticamente impossível, pois quase nunca conseguimos analisar a população inteira. Por ex, média da população, variância da população, desvio padrão da população. \n",
    "\n",
    "##### p^ (p chapéu ou p valor ou estatística da amostra) = estimador amostral, é um valor do parâmetro p, só que retirado de uma amostra. Ele não é o valor real da população, mas apenas um resultado dada a amostra feita. Ele pode ser maior, menor ou até mesmo igual ao valor real da população, mas nunca saberemos de fato, pois não conhecemos p. Por ex, média da amostra, variância da amostra, desvio padrão da amostra.\n",
    "\n"
   ]
  },
  {
   "cell_type": "markdown",
   "metadata": {},
   "source": [
    "#### Trabalhando com a Normal em Python"
   ]
  },
  {
   "cell_type": "code",
   "execution_count": 22,
   "metadata": {},
   "outputs": [
    {
     "data": {
      "image/png": "[encoded data removed]",
      "text/plain": [
       "<Figure size 432x288 with 1 Axes>"
      ]
     },
     "metadata": {
      "needs_background": "light"
     },
     "output_type": "display_data"
    }
   ],
   "source": [
    "import numpy as np\n",
    "from scipy.stats import norm #biblioteca para a Normal\n",
    "import matplotlib.pyplot as plt\n",
    "\n",
    "#plotando uma normal padrão N(média,variância) ~ N(0,1)\n",
    "eixo_x = np.arange(-4, 4, 0.001) #definindo o eixo X da normal entre 0 e 1\n",
    "\n",
    "# Média = 0, Desvio Padrão = 1, apenas para ilustar\n",
    "media = 0\n",
    "desvP = 1\n",
    "\n",
    "#utiliza norm.pdf (Probability density function) é nossa função densidade de probabilidade \n",
    "plt.plot(eixo_x, norm.pdf(eixo_x,media,desvP), label=\"p=0\")\n",
    "\n",
    "plt.xlabel(\"$\\hat{p}$\") #p chapéu\n",
    "plt.ylabel(\"$f(\\hat{p})$\")#função p chapéu\n",
    "plt.title('Normal Padrão')\n",
    "plt.legend()\n",
    "plt.show()"
   ]
  },
  {
   "cell_type": "markdown",
   "metadata": {},
   "source": [
    "#### Demarcando as áreas no Gráfico"
   ]
  },
  {
   "cell_type": "code",
   "execution_count": 45,
   "metadata": {},
   "outputs": [
    {
     "name": "stdout",
     "output_type": "stream",
     "text": [
      "0.7703500028352095\n"
     ]
    },
    {
     "data": {
      "text/plain": [
       "<matplotlib.legend.Legend at 0x2a5edb8f688>"
      ]
     },
     "execution_count": 45,
     "metadata": {},
     "output_type": "execute_result"
    },
    {
     "data": {
      "image/png": "[encoded data removed]",
      "text/plain": [
       "<Figure size 432x288 with 1 Axes>"
      ]
     },
     "metadata": {
      "needs_background": "light"
     },
     "output_type": "display_data"
    }
   ],
   "source": [
    "import numpy as np\n",
    "from scipy.stats import norm #biblioteca para a Normal\n",
    "import matplotlib.pyplot as plt\n",
    "import matplotlib.colors as cor\n",
    "\n",
    "#Plota a curva normal\n",
    "eixo_x = np.arange(-4, 4, 0.001) #pontos do eixo do gráfico\n",
    "eixo_y = norm.pdf(eixo_x,0,1)\n",
    "plt.plot(eixo_x, eixo_y, label=\"p=0\") #normal média=0, desvP=1\n",
    "\n",
    "#Plota a linha verde\n",
    "p_chapeu = -0.74 #supondo que a estatística da amostra que encontramos foi esse valor\n",
    "plt.axvline(x = p_chapeu, color = \"green\", linestyle = \"--\", label = r'$\\hat{p}_{obs}$') #plota uma linha do p_chapeu observado\n",
    "\n",
    "#Plota a Área Rosa \n",
    "#é a área a partir do p_chapeu, ou seja, o p_valor.\n",
    "plt.fill_between(eixo_x[eixo_x <= p_chapeu], eixo_y[eixo_x <= p_chapeu], \n",
    "                 edgecolor = None, color = cor.to_rgba(c = (1, 0, 1, 0.3)), label = 'p-valor')\n",
    "\n",
    "p_valor = 1-norm.cdf(p_chapeu) #p-valor, ou seja, o valor a área da Normal a partir do p chapéu.\n",
    "\n",
    "print(p_valor)\n",
    "#p_chapeu=norm.ppf(0.05)\n",
    "\n",
    "plt.fill_between(x_axis[x_axis <= crit], f1_x[x_axis <= crit], \n",
    "                 facecolor = clrs.to_rgba(c = (0, 0, 1, 0.2)), zorder = 10, label = r'$\\alpha$')\n",
    "\n",
    "plt.legend()"
   ]
  },
  {
   "cell_type": "code",
   "execution_count": null,
   "metadata": {},
   "outputs": [],
   "source": []
  }
 ],
 "metadata": {
  "kernelspec": {
   "display_name": "Python 3",
   "language": "python",
   "name": "python3"
  },
  "language_info": {
   "codemirror_mode": {
    "name": "ipython",
    "version": 3
   },
   "file_extension": ".py",
   "mimetype": "text/x-python",
   "name": "python",
   "nbconvert_exporter": "python",
   "pygments_lexer": "ipython3",
   "version": "3.7.6"
  }
 },
 "nbformat": 4,
 "nbformat_minor": 2
}
