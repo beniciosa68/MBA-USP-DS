{
 "cells": [
  {
   "cell_type": "markdown",
   "metadata": {},
   "source": [
    "# <span style=\"color:blue\"> MBA em Ciência de Dados</span>\n",
    "# <span style=\"color:blue\">Estatística para Ciência de Dados</span>\n",
    "\n",
    "## <span style=\"color:blue\">Semana 5</span>\n",
    "**Material Produzido por Mariana Cúri**<br>\n",
    "**Cemeai - ICMC/USP São Carlos**"
   ]
  },
  {
   "cell_type": "markdown",
   "metadata": {},
   "source": [
    "<font color='red'> As respostas devem ser fornecidas no Moodle. O notebook é apenas para a implementação dos códigos que fornecerão as respostas</font>"
   ]
  },
  {
   "cell_type": "markdown",
   "metadata": {},
   "source": [
    "### Exercício 1\n",
    "Assista o vídeo abaixo, especialmente atento no minuto 1:00."
   ]
  },
  {
   "cell_type": "code",
   "execution_count": 13,
   "metadata": {},
   "outputs": [
    {
     "data": {
      "text/html": [
       "<video src=\"Netflix Research- Experimentation.mp4\" controls  width=\"600\"  height=\"400\">\n",
       "      Your browser does not support the <code>video</code> element.\n",
       "    </video>"
      ],
      "text/plain": [
       "<IPython.core.display.Video object>"
      ]
     },
     "execution_count": 13,
     "metadata": {},
     "output_type": "execute_result"
    }
   ],
   "source": [
    "from IPython.display import Video\n",
    "Video('Netflix Research- Experimentation.mp4',width=600,height=400)"
   ]
  },
  {
   "cell_type": "markdown",
   "metadata": {},
   "source": [
    "A descrição da Wikipedia sobre o teste A/B é a seguinte: (Fonte: https://pt.wikipedia.org/wiki/Teste_A/B)\n",
    "\n",
    "\"Teste A/B é um método de teste de design através do qual comparam-se elementos aleatórios com duas variantes, A e B, em que estes são o controle e o tratamento de uma experiência controlada, com o objetivo de melhorar a percentagem de aprovação. Estas experiências são muito utilizadas em desenvolvimento web e de marketing, e até mesmo em formas tradicionais de publicidade. Teste A/B também se designa por experiência aleatória controlada, experiência online controlada e teste de divisão. Em web design, o teste A/B é utilizado para identificar alterações nas páginas web que podem provocar mudanças positivas ou negativas no interesse dos utilizadores. Como o nome já diz, duas versões são comparadas, as quais são idênticas exceto por uma variante que pode impactar o comportamento do utilizador. A versão A pode ser a versão utilizada atualmente (controle), enquanto a Versão B é a modificada (tratamento).\"\n",
    "\n",
    "Suponha que um teste A/B será realizado para comparar duas versões diferentes de páginas web (aa e bb). Contou-se o número de visitantes em cada página e se clicaram ou não em algum dos links desejados, com os seguintes resultados:<br><br>\n",
    "\n",
    "<b>\n",
    "_______não clicou___________clicou<br>\n",
    "aa______4514_______________486 (9,7%)<br>\n",
    "bb______4473_______________527 (10,5%)<br>\n",
    "</b>    \n",
    "<br>\n",
    "\n",
    "Para a comparação dos dois tipos de design em relação à resposta dos visitantes (clicks nos links), pode-se realizar um teste de hipóteses. O teste de hipóteses que compara se a proporção de visitantes que clica no link é a mesma entre aqueles que acessam a página com design aa e bb resultou num p-valor de 0,185. \n",
    "\n",
    "Assinale a alternativa <b><font color='red'>incorreta:</font></b><br>\n",
    "\n",
    "\n",
    "Escolha uma:<br>\n",
    "<b>a. Com um nível de significância de 18,5%, o design bb parece ter maior resposta dos visitantes (clicks nos links) e deve ser adotado para a página web em questão<br><br>\n",
    "b. O teste de hipóteses para a comparação das proporções de clientes com resposta positiva (clicks nos links) entre os designs aa e bb deve ser adequado para comparar proporções de sucesso de variáveis com distribuição de Bernoulli, com parâmetro p1, para o design aa, e p2, para o design bb, e pode utilizar o Teorema Central do Limite, para aproximar a distribuição da proporção amostral pela Normal.<br><br>\n",
    "c. As proporções de resposta positiva (clicar nos links) é equivalente entre as duas versões de design, a um nível de significância de 5%<br><br>\n",
    "d. O teste de hipóteses para a comparação das proporções de clientes com resposta positiva (clicks nos links) entre os designs aa e bb deve ser adequado para comparar proporções de sucesso de variáveis com distribuição de Bernoulli, com parâmetro p1, para o design aa, e p2, para o design bb.<br><br>\n",
    "e. O teste t de Student é um tipo de teste A/B, adequado para a comparação de dois grupos com relação à média de variáveis contínuas com distribuição Normal.<br><br>"
   ]
  },
  {
   "cell_type": "markdown",
   "metadata": {},
   "source": [
    "### Exercício 2\n",
    "Em um teste de hipóteses bicaudal para a comparação de dois grupos com relação às médias de variáveis aleatórias com distribuição normal, considere 𝛼 o nível de significância, T a estatística de teste, p-valor o nível descritivo do teste e RC a região crítica do teste.<br> <br>\n",
    "Com base nos dados apresentados, é <font color='blue'><b>correto</b></font> afirmar que:\n",
    "\n",
    "Escolha uma:<br>\n",
    "<b>a. o erro tipo II ocorre quando se rejeita a hipótese nula, sendo ela verdadeira.<br><br>\n",
    "b. O nível de significância 𝛼 do teste é fixado de tal forma que some 100% com o poder do teste<br><br>\n",
    "c. A hipótese H0 determina que as médias dos dois grupos são iguais e H1 determina que as médias são diferentes<br><br>\n",
    "d. O nível de significância é o valor fixado no teste que corresponde à probabilidade de decidir por H0, quando na verdade H1 é a hipótese verdadeira.<br><br>\n",
    "e. Aumentar o nível de significância 𝛼 do teste, irá diminuir o valor do p-valor<br><br>"
   ]
  },
  {
   "cell_type": "code",
   "execution_count": null,
   "metadata": {},
   "outputs": [],
   "source": []
  },
  {
   "cell_type": "markdown",
   "metadata": {},
   "source": [
    "### Exercício 3\n",
    "Importe as funções shapiro e normaltest do scipy.stats <br><br>\n",
    "https://docs.scipy.org/doc/scipy/reference/generated/scipy.stats.shapiro.html\n",
    "\n",
    "https://docs.scipy.org/doc/scipy/reference/generated/scipy.stats.normaltest.html\n",
    "\n",
    "em Python, para fazer 2 diferentes testes de hipóteses de distribuição Normal para as médias do ENEM, com os dados separados entre escolas públicas e privadas. Faça os testes, para cada tipo de escola, com a amostra total das 2901 escolas e, posteriormente, faça uma seleção aleatória de 10% delas (em cada tipo de administração) e repita as análises.\n",
    "\n",
    "Considerando os resultados apresentados na videoaula e os que você obteve em Python, conforme descrito acima, pode-se concluir que: \n",
    "\n",
    "Escolha uma:<br>\n",
    "<b>a. Os testes de normalidade são muito sensíveis com relação ao tamanho amostral, ou seja, a variação da ordem de grandeza do n interfere no resultado do teste<br><br>\n",
    "b. A suposição de distribuição Normal é totalmente inadequada para tal variável para ambos os tipos de escola<br><br>\n",
    "c. A média amostral da variável média do ENEM tem, para grandes tamanhos de amostra, distribuição normal para as escolas privadas, mas não para as escolas públicas<br><br>\n",
    "d. Para a amostra total, a um nível de significância de 5%, podemos supôr distribuição normal para as escolas privadas, mas não para as escolas públicas<br><br>\n",
    "e. As conclusões dos dois testes de normalidade serão sempre as mesmas, ou seja, ambos irão rejeitar ou aceitar que os dados seguem uma distribuição Normal, fixado o nível de significância do teste<br><br>"
   ]
  },
  {
   "cell_type": "code",
   "execution_count": null,
   "metadata": {},
   "outputs": [],
   "source": []
  },
  {
   "cell_type": "markdown",
   "metadata": {},
   "source": [
    "### Exercício 4\n",
    "Com o conjunto de dados das Cotas dos deputados, usados na videoaula, gere amostras bootstrap para obter a distribuição amostral do total máximo reembolsado aos parlamentares nos primeiros 2 meses do ano. Ou seja, primeiro obtenha o valor total reembolsado a cada deputado (lista de exercícios 1 e videoaula 5), depois obtenha amostras bootstrap desses valores e, em cada amostra, calcule o máximo. Escolha a alternativa <font color='blue'><b>correta</b></font>:\n",
    "\n",
    "Escolha uma:<br>\n",
    "<b>a. A maioria das amostras bootstrap contém o valor máximo da amostra original<br><br>\n",
    "b. A distribuição amostral do máximo do total reembolsado aos deputados nos primeiros dois meses do ano é Normal<br><br>\n",
    "c. A seleção das amostras bootstrap é uma amostra aleatória da amostra original<br><br>\n",
    "d. Não é possível obter a distribuição amostral desse estimador por bootstrap, pois é um método que serve apenas para a média amostral<br><br>\n",
    "e. A distribuição do estimador do máximo é igual à distribuição da variável amostrada<br><br>"
   ]
  },
  {
   "cell_type": "code",
   "execution_count": null,
   "metadata": {},
   "outputs": [],
   "source": []
  },
  {
   "cell_type": "markdown",
   "metadata": {},
   "source": [
    "### Exercício 5\n",
    "No teste de hipóteses da eficácia do Sildenafil dado na videoaula, suponha que a proporção de indivíduos na população que conseguem ao menos 60% de sucessos nas tentativas de relação sexual seja inferior a 0,5. Se essa proporção for de 0,4, qual seria a probabilidade de cometer o erro tipo II do teste considerado no slide 9?\n",
    "\n",
    "Escolha uma:<br>\n",
    "<b>a. 0,056<br>\n",
    "b. 0,25<br>\n",
    "c. Não é possível calcular<br>\n",
    "d. Seria igual à probabilidade de erro tipo I<br>\n",
    "e. 0,20<br>"
   ]
  },
  {
   "cell_type": "code",
   "execution_count": null,
   "metadata": {},
   "outputs": [],
   "source": []
  }
 ],
 "metadata": {
  "kernelspec": {
   "display_name": "Python 3",
   "language": "python",
   "name": "python3"
  },
  "language_info": {
   "codemirror_mode": {
    "name": "ipython",
    "version": 3
   },
   "file_extension": ".py",
   "mimetype": "text/x-python",
   "name": "python",
   "nbconvert_exporter": "python",
   "pygments_lexer": "ipython3",
   "version": "3.7.6"
  },
  "toc": {
   "base_numbering": 1,
   "nav_menu": {},
   "number_sections": true,
   "sideBar": true,
   "skip_h1_title": false,
   "title_cell": "Table of Contents",
   "title_sidebar": "Contents",
   "toc_cell": false,
   "toc_position": {},
   "toc_section_display": true,
   "toc_window_display": false
  }
 },
 "nbformat": 4,
 "nbformat_minor": 2
}
