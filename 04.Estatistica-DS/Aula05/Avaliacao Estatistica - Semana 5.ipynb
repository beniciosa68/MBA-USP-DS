{
 "cells": [
  {
   "cell_type": "markdown",
   "metadata": {},
   "source": [
    "# <span style=\"color:blue\"> MBA em Ciência de Dados</span>\n",
    "# <span style=\"color:blue\">Estatística para Ciência de Dados</span>\n",
    "\n",
    "## <span style=\"color:blue\">Semana 5</span>\n",
    "**Material Produzido por Mariana Cúri**<br>\n",
    "**Cemeai - ICMC/USP São Carlos**"
   ]
  },
  {
   "cell_type": "markdown",
   "metadata": {},
   "source": [
    "<font color='red'> As respostas devem ser fornecidas no Moodle. O notebook é apenas para a implementação dos códigos que fornecerão as respostas</font>"
   ]
  },
  {
   "cell_type": "markdown",
   "metadata": {},
   "source": [
    "### Exercício 1\n",
    "Assista o vídeo abaixo, especialmente atento no minuto 1:00."
   ]
  },
  {
   "cell_type": "code",
   "execution_count": 13,
   "metadata": {},
   "outputs": [
    {
     "data": {
      "text/html": [
       "<video src=\"Netflix Research- Experimentation.mp4\" controls  width=\"600\"  height=\"400\">\n",
       "      Your browser does not support the <code>video</code> element.\n",
       "    </video>"
      ],
      "text/plain": [
       "<IPython.core.display.Video object>"
      ]
     },
     "execution_count": 13,
     "metadata": {},
     "output_type": "execute_result"
    }
   ],
   "source": [
    "from IPython.display import Video\n",
    "Video('Netflix Research- Experimentation.mp4',width=600,height=400)"
   ]
  },
  {
   "cell_type": "markdown",
   "metadata": {},
   "source": [
    "A descrição da Wikipedia sobre o teste A/B é a seguinte: (Fonte: https://pt.wikipedia.org/wiki/Teste_A/B)\n",
    "\n",
    "\"Teste A/B é um método de teste de design através do qual comparam-se elementos aleatórios com duas variantes, A e B, em que estes são o controle e o tratamento de uma experiência controlada, com o objetivo de melhorar a percentagem de aprovação. Estas experiências são muito utilizadas em desenvolvimento web e de marketing, e até mesmo em formas tradicionais de publicidade. Teste A/B também se designa por experiência aleatória controlada, experiência online controlada e teste de divisão. Em web design, o teste A/B é utilizado para identificar alterações nas páginas web que podem provocar mudanças positivas ou negativas no interesse dos utilizadores. Como o nome já diz, duas versões são comparadas, as quais são idênticas exceto por uma variante que pode impactar o comportamento do utilizador. A versão A pode ser a versão utilizada atualmente (controle), enquanto a Versão B é a modificada (tratamento).\"\n",
    "\n",
    "Suponha que um teste A/B será realizado para comparar duas versões diferentes de páginas web (aa e bb). Contou-se o número de visitantes em cada página e se clicaram ou não em algum dos links desejados, com os seguintes resultados:<br><br>\n",
    "\n",
    "<b>\n",
    "_______não clicou___________clicou<br>\n",
    "aa______4514_______________486 (9,7%)<br>\n",
    "bb______4473_______________527 (10,5%)<br>\n",
    "</b>    \n",
    "<br>\n",
    "\n",
    "Para a comparação dos dois tipos de design em relação à resposta dos visitantes (clicks nos links), pode-se realizar um teste de hipóteses. O teste de hipóteses que compara se a proporção de visitantes que clica no link é a mesma entre aqueles que acessam a página com design aa e bb resultou num p-valor de 0,185. \n",
    "\n",
    "Assinale a alternativa <b><font color='red'>incorreta:</font></b><br>\n",
    "\n",
    "\n",
    "Escolha uma:<br>\n",
    "<b>a. Com um nível de significância de 18,5%, o design bb parece ter maior resposta dos visitantes (clicks nos links) e deve ser adotado para a página web em questão<br><br>\n",
    "b. O teste de hipóteses para a comparação das proporções de clientes com resposta positiva (clicks nos links) entre os designs aa e bb deve ser adequado para comparar proporções de sucesso de variáveis com distribuição de Bernoulli, com parâmetro p1, para o design aa, e p2, para o design bb, e pode utilizar o Teorema Central do Limite, para aproximar a distribuição da proporção amostral pela Normal.<br><br>\n",
    "c. As proporções de resposta positiva (clicar nos links) é equivalente entre as duas versões de design, a um nível de significância de 5%<br><br>\n",
    "d. O teste de hipóteses para a comparação das proporções de clientes com resposta positiva (clicks nos links) entre os designs aa e bb deve ser adequado para comparar proporções de sucesso de variáveis com distribuição de Bernoulli, com parâmetro p1, para o design aa, e p2, para o design bb.<br><br>\n",
    "e. O teste t de Student é um tipo de teste A/B, adequado para a comparação de dois grupos com relação à média de variáveis contínuas com distribuição Normal.<br><br>"
   ]
  },
  {
   "cell_type": "code",
   "execution_count": 1,
   "metadata": {},
   "outputs": [
    {
     "name": "stdout",
     "output_type": "stream",
     "text": [
      "Resposta: a. Com um nível de significância de 18,5%, o design bb parece ter maior resposta dos visitantes (clicks nos links) e deve ser adotado para a página web em questão\n"
     ]
    }
   ],
   "source": [
    "import math\n",
    "\n",
    "#Considerações:\n",
    "\n",
    "#Parâmetros:\n",
    "#p1 -> proporção de clicks do design aa\n",
    "#p2 -> proporação de clicks do design bb\n",
    "\n",
    "#Teste de Hipótese\n",
    "#H0 -> a proporção de clicks no design aa é igual no design bb -> p1 = p2\n",
    "#H1 -> a proporção de clicks no design aa é diferente no design bb -> p1 != p2\n",
    "\n",
    "\n",
    "p_valor = 0.185\n",
    "\n",
    "aa_count = 486 #numero de individuos que clicou em aa\n",
    "aa_n = 4514 + 486 #numero total da amostra que clicou em aa\n",
    "\n",
    "bb_count = 527 #numero de individuos que clicou em bb\n",
    "bb_n = 4473 + 527 #numero total da amostra que clicou em bb\n",
    "\n",
    "aa_p_chapeu = aa_count/aa_n\n",
    "bb_p_chapeu = bb_count/bb_n\n",
    "\n",
    "#p_valor = (p_chapeu-value)/np.sqrt(value*(1-value)/nobs)\n",
    "\n",
    "\n",
    "#a) alpha = 0.185 : nível de significância\n",
    "#Para o nível descritivel do p-valor, temos: p-valor > alpha: decide por Ho, se p-valor <= alpha: decide por Ha\n",
    "#No caso, para p-valor = alpha decidimos por Ha, logo, podemos afirmar apenas que a proporação de design aa é diferente de bb, mas não qual é melhor ou pior.\n",
    "#Portanto, esta alternativa é a incorreta.\n",
    "\n",
    "#b) Temos o p_valor da bicaudal (porque temos dois parâmetros a considerar p1 e p2), temos o count (numero de individuos sucesso)\n",
    "# e temos o n (numero total da amostra), para cada caso, logo, conseguimos obter p1 e p2, portanto, o teste de hipótese é adequado.\n",
    "\n",
    "#c) Com p_valor = 18,5% para um alpha = 5%, temos que p_valor > alpha, portanto, aceitamos a hipótese H0, logo, a proporção de clicks no design aa é igual no design bb.\n",
    "\n",
    "#d) Conforme verificamos na alternativa b, o teste de hipótese é adequado para tal verificação.\n",
    "\n",
    "#e) O teste t de student é adequado para um bicaudal e pode se aplicar com relação a média e variância de amostras independentes para distribuição normal\n",
    "\n",
    "print('Resposta: a. Com um nível de significância de 18,5%, o design bb parece ter maior resposta dos visitantes (clicks nos links) e deve ser adotado para a página web em questão')"
   ]
  },
  {
   "cell_type": "markdown",
   "metadata": {},
   "source": [
    "### Exercício 2\n",
    "Em um teste de hipóteses bicaudal para a comparação de dois grupos com relação às médias de variáveis aleatórias com distribuição normal, considere 𝛼 o nível de significância, T a estatística de teste, p-valor o nível descritivo do teste e RC a região crítica do teste.<br> <br>\n",
    "Com base nos dados apresentados, é <font color='blue'><b>correto</b></font> afirmar que:\n",
    "\n",
    "Escolha uma:<br>\n",
    "<b>a. o erro tipo II ocorre quando se rejeita a hipótese nula, sendo ela verdadeira.<br><br>\n",
    "b. O nível de significância 𝛼 do teste é fixado de tal forma que some 100% com o poder do teste<br><br>\n",
    "c. A hipótese H0 determina que as médias dos dois grupos são iguais e H1 determina que as médias são diferentes<br><br>\n",
    "d. O nível de significância é o valor fixado no teste que corresponde à probabilidade de decidir por H0, quando na verdade H1 é a hipótese verdadeira.<br><br>\n",
    "e. Aumentar o nível de significância 𝛼 do teste, irá diminuir o valor do p-valor<br><br>"
   ]
  },
  {
   "cell_type": "code",
   "execution_count": 2,
   "metadata": {},
   "outputs": [
    {
     "name": "stdout",
     "output_type": "stream",
     "text": [
      "Resposta: c. A hipótese H0 determina que as médias dos dois grupos são iguais e H1 determina que as médias são diferentes\n"
     ]
    }
   ],
   "source": [
    "#a) erro do tipo II é quando aceitamos a hipótese nula, sendo a hipótese alternativa verdadeira\n",
    "\n",
    "#b) pi (poder do teste) = 1 - beta, sendo beta é a Probabilidade(erro tipo II). O alpha é a Probabilidade(erro tipo I). \n",
    "#O objetivo é fixar alpha para diminuir ao máximo o erro do tipo I que é mais crítico, porém, para somar 100% ainda temos que considerar \n",
    "#as probabilidades sem erros, portanto, 100% seria: P(erro tipo I) + P(erro tipo II) + P(sem erros para H0) + P(sem erros para Ha)\n",
    "\n",
    "#c) A bicaudal leva em consideração um hipótese que pode ocorrer dos dois lados, com intervalos tanto > quanto <, portanto, \n",
    "#cabe numa situação em que H0 é igual e Ha é diferente. Portanto a afirmativa é verdadeira.\n",
    "\n",
    "#d) alpha (nivel de significancia) = P(erro tipo I) = probabilidade de escolhermos Ha, sendo H0 verdadeira.\n",
    "\n",
    "#e) Aumentar ou diminuir o alpha não influência no resultado do p-valor.\n",
    "\n",
    "print('Resposta: c. A hipótese H0 determina que as médias dos dois grupos são iguais e H1 determina que as médias são diferentes')"
   ]
  },
  {
   "cell_type": "markdown",
   "metadata": {},
   "source": [
    "### Exercício 3\n",
    "Importe as funções shapiro e normaltest do scipy.stats <br><br>\n",
    "https://docs.scipy.org/doc/scipy/reference/generated/scipy.stats.shapiro.html\n",
    "\n",
    "https://docs.scipy.org/doc/scipy/reference/generated/scipy.stats.normaltest.html\n",
    "\n",
    "em Python, para fazer 2 diferentes testes de hipóteses de distribuição Normal para as médias do ENEM, com os dados separados entre escolas públicas e privadas. Faça os testes, para cada tipo de escola, com a amostra total das 2901 escolas e, posteriormente, faça uma seleção aleatória de 10% delas (em cada tipo de administração) e repita as análises.\n",
    "\n",
    "Considerando os resultados apresentados na videoaula e os que você obteve em Python, conforme descrito acima, pode-se concluir que: \n",
    "\n",
    "Escolha uma:<br>\n",
    "<b>a. Os testes de normalidade são muito sensíveis com relação ao tamanho amostral, ou seja, a variação da ordem de grandeza do n interfere no resultado do teste<br><br>\n",
    "b. A suposição de distribuição Normal é totalmente inadequada para tal variável para ambos os tipos de escola<br><br>\n",
    "c. A média amostral da variável média do ENEM tem, para grandes tamanhos de amostra, distribuição normal para as escolas privadas, mas não para as escolas públicas<br><br>\n",
    "d. Para a amostra total, a um nível de significância de 5%, podemos supôr distribuição normal para as escolas privadas, mas não para as escolas públicas<br><br>\n",
    "e. As conclusões dos dois testes de normalidade serão sempre as mesmas, ou seja, ambos irão rejeitar ou aceitar que os dados seguem uma distribuição Normal, fixado o nível de significância do teste<br><br>"
   ]
  },
  {
   "cell_type": "code",
   "execution_count": 86,
   "metadata": {},
   "outputs": [
    {
     "name": "stdout",
     "output_type": "stream",
     "text": [
      "Resposta: a. Os testes de normalidade são muito sensíveis com relação ao tamanho amostral, ou seja, a variação da ordem de grandeza do n interfere no resultado do teste\n"
     ]
    }
   ],
   "source": [
    "#Respondendo as alternativas:\n",
    "\n",
    "#a) Foi a melhor conclusão que tivemos avaliando os valores obtidos de p-valor.\n",
    "\n",
    "print('Resposta: a. Os testes de normalidade são muito sensíveis com relação ao tamanho amostral, ou seja, a variação da ordem de grandeza do n interfere no resultado do teste')\n",
    "\n",
    "#b) A normal não é totalmente inadequada para a variável média avaliada, \n",
    "#pois conseguimos obter um p-valor em ambos para verificar a validade das hipóteses.\n",
    "\n",
    "#c) Para ambos vemos que os resultados sugerem a hipótese de não ser normal.\n",
    "\n",
    "#d) Para este nível de significância, ambas não são normais: \n",
    "#para alpha = 0.05, temos: \n",
    "#shapiro amostra total -> p-valor privada: 0.024 e p-valor publica: 0.013 e-24 \n",
    "#--> p-valor privada < alpha (decide por Ha, logo, distribuição não é normal para privada)\n",
    "#--> p-valor publica < alpha (decide por Ha, logo, distribuição não é normal para privada)\n",
    "\n",
    "#afastamento amostra total ->  p-valor privada: 0.007 e p-valor publica: 0.027 e-42\n",
    "#--> p-valor privada < alpha (decide por Ha, logo, distribuição não é normal para privada)\n",
    "#--> p-valor publica < alpha (decide por Ha, logo, distribuição não é normal para privada)\n",
    "\n",
    "#e) As conclusões não serão as mesmas, considerando que dependendo do tamanho da amostra temos p-valor muito diferentes\n",
    "#portanto, se fixarmos o mesmo nível de significância, temos as chances de ora rejeitar um hipótese ou aceitá-la."
   ]
  },
  {
   "cell_type": "code",
   "execution_count": 90,
   "metadata": {},
   "outputs": [
    {
     "data": {
      "text/html": [
       "<div>\n",
       "<style scoped>\n",
       "    .dataframe tbody tr th:only-of-type {\n",
       "        vertical-align: middle;\n",
       "    }\n",
       "\n",
       "    .dataframe tbody tr th {\n",
       "        vertical-align: top;\n",
       "    }\n",
       "\n",
       "    .dataframe thead th {\n",
       "        text-align: right;\n",
       "    }\n",
       "</style>\n",
       "<table border=\"1\" class=\"dataframe\">\n",
       "  <thead>\n",
       "    <tr style=\"text-align: right;\">\n",
       "      <th></th>\n",
       "      <th>Ordem</th>\n",
       "      <th>UF</th>\n",
       "      <th>Municipio</th>\n",
       "      <th>Cidade</th>\n",
       "      <th>Admin</th>\n",
       "      <th>Escola</th>\n",
       "      <th>N_alunos</th>\n",
       "      <th>N_participantes</th>\n",
       "      <th>P_Participantes</th>\n",
       "      <th>NSE</th>\n",
       "      <th>NSE.1</th>\n",
       "      <th>Nivel_Docente</th>\n",
       "      <th>Media_30melhores</th>\n",
       "      <th>Media</th>\n",
       "    </tr>\n",
       "  </thead>\n",
       "  <tbody>\n",
       "    <tr>\n",
       "      <th>0</th>\n",
       "      <td>1</td>\n",
       "      <td>SP</td>\n",
       "      <td>SAO PAULO</td>\n",
       "      <td>capital</td>\n",
       "      <td>Privada</td>\n",
       "      <td>OBJETIVO COLEGIO INTEGRADO</td>\n",
       "      <td>44</td>\n",
       "      <td>44</td>\n",
       "      <td>100.00</td>\n",
       "      <td>Muito Alto</td>\n",
       "      <td>Alto ou Muito Alto</td>\n",
       "      <td>67.0</td>\n",
       "      <td>680.06</td>\n",
       "      <td>658.29</td>\n",
       "    </tr>\n",
       "    <tr>\n",
       "      <th>1</th>\n",
       "      <td>2</td>\n",
       "      <td>SP</td>\n",
       "      <td>SAO PAULO</td>\n",
       "      <td>capital</td>\n",
       "      <td>Privada</td>\n",
       "      <td>VERTICE COLEGIO UNIDADE II</td>\n",
       "      <td>77</td>\n",
       "      <td>69</td>\n",
       "      <td>89.61</td>\n",
       "      <td>Muito Alto</td>\n",
       "      <td>Alto ou Muito Alto</td>\n",
       "      <td>68.1</td>\n",
       "      <td>677.07</td>\n",
       "      <td>649.81</td>\n",
       "    </tr>\n",
       "    <tr>\n",
       "      <th>2</th>\n",
       "      <td>3</td>\n",
       "      <td>SP</td>\n",
       "      <td>SAO CAETANO DO SUL</td>\n",
       "      <td>interior</td>\n",
       "      <td>Privada</td>\n",
       "      <td>VILLARE COLEGIO</td>\n",
       "      <td>16</td>\n",
       "      <td>16</td>\n",
       "      <td>100.00</td>\n",
       "      <td>Muito Alto</td>\n",
       "      <td>Alto ou Muito Alto</td>\n",
       "      <td>64.0</td>\n",
       "      <td>NaN</td>\n",
       "      <td>638.54</td>\n",
       "    </tr>\n",
       "    <tr>\n",
       "      <th>3</th>\n",
       "      <td>4</td>\n",
       "      <td>SP</td>\n",
       "      <td>SAO PAULO</td>\n",
       "      <td>capital</td>\n",
       "      <td>Privada</td>\n",
       "      <td>BANDEIRANTES COLEGIO EFM</td>\n",
       "      <td>526</td>\n",
       "      <td>440</td>\n",
       "      <td>83.65</td>\n",
       "      <td>Muito Alto</td>\n",
       "      <td>Alto ou Muito Alto</td>\n",
       "      <td>49.6</td>\n",
       "      <td>719.28</td>\n",
       "      <td>637.29</td>\n",
       "    </tr>\n",
       "    <tr>\n",
       "      <th>4</th>\n",
       "      <td>5</td>\n",
       "      <td>SP</td>\n",
       "      <td>SAO PAULO</td>\n",
       "      <td>capital</td>\n",
       "      <td>Privada</td>\n",
       "      <td>MOBILE COLEGIO</td>\n",
       "      <td>127</td>\n",
       "      <td>113</td>\n",
       "      <td>88.98</td>\n",
       "      <td>Muito Alto</td>\n",
       "      <td>Alto ou Muito Alto</td>\n",
       "      <td>55.3</td>\n",
       "      <td>679.21</td>\n",
       "      <td>636.83</td>\n",
       "    </tr>\n",
       "  </tbody>\n",
       "</table>\n",
       "</div>"
      ],
      "text/plain": [
       "   Ordem  UF          Municipio     Cidade    Admin  \\\n",
       "0      1  SP           SAO PAULO   capital  Privada   \n",
       "1      2  SP           SAO PAULO   capital  Privada   \n",
       "2      3  SP  SAO CAETANO DO SUL  interior  Privada   \n",
       "3      4  SP           SAO PAULO   capital  Privada   \n",
       "4      5  SP           SAO PAULO   capital  Privada   \n",
       "\n",
       "                       Escola  N_alunos  N_participantes  P_Participantes  \\\n",
       "0  OBJETIVO COLEGIO INTEGRADO        44               44           100.00   \n",
       "1  VERTICE COLEGIO UNIDADE II        77               69            89.61   \n",
       "2             VILLARE COLEGIO        16               16           100.00   \n",
       "3    BANDEIRANTES COLEGIO EFM       526              440            83.65   \n",
       "4              MOBILE COLEGIO       127              113            88.98   \n",
       "\n",
       "          NSE               NSE.1  Nivel_Docente  Media_30melhores   Media  \n",
       "0  Muito Alto  Alto ou Muito Alto           67.0            680.06  658.29  \n",
       "1  Muito Alto  Alto ou Muito Alto           68.1            677.07  649.81  \n",
       "2  Muito Alto  Alto ou Muito Alto           64.0               NaN  638.54  \n",
       "3  Muito Alto  Alto ou Muito Alto           49.6            719.28  637.29  \n",
       "4  Muito Alto  Alto ou Muito Alto           55.3            679.21  636.83  "
      ]
     },
     "execution_count": 90,
     "metadata": {},
     "output_type": "execute_result"
    }
   ],
   "source": [
    "import numpy as np\n",
    "import pandas as pd\n",
    "from scipy import stats\n",
    "import matplotlib.pyplot as plt\n",
    "\n",
    "np.random.seed(42)\n",
    "\n",
    "df = pd.read_csv(\".\\data\\ENEM.csv\", sep = ',', na_values = '-', encoding= 'unicode_escape')\n",
    "df.head()"
   ]
  },
  {
   "cell_type": "code",
   "execution_count": 91,
   "metadata": {},
   "outputs": [
    {
     "name": "stdout",
     "output_type": "stream",
     "text": [
      "Estatística descritiva dos dados importados:\n",
      "\n",
      "Escola Privada:\n",
      "Número de escolas: 1816\n",
      "Média: 545.8\n",
      "Desvio Padrão: 29.3\n",
      "Variância: 859.7\n",
      "\n",
      "Escola Pública:\n",
      "Número de Escolas: 1085\n",
      "Média: 497.1\n",
      "Desvio Padrão: 30.7\n",
      "Variância: 945.1\n"
     ]
    }
   ],
   "source": [
    "# dados\n",
    "data1 = df.loc[df.Admin=='Privada', \"Media\"]\n",
    "data2 = df.loc[df.Admin=='Estadual', \"Media\"]\n",
    "\n",
    "n = len(data1+data2) #tamanho da amostra\n",
    "\n",
    "#x = stats.norm.rvs(loc=5, scale=3, size=100)\n",
    "#stats.shapiro(x)\n",
    "print('Estatística descritiva dos dados importados:')\n",
    "print()\n",
    "print('Escola Privada:')\n",
    "print('Número de escolas:','%1.f' % data1.describe()[0])\n",
    "print('Média:','%.1f' % data1.describe()[1])\n",
    "print('Desvio Padrão:','%.1f' % data1.describe()[2])\n",
    "print('Variância:','%.1f' % data1.describe()[2]**2)\n",
    "print()\n",
    "print('Escola Pública:')\n",
    "print('Número de Escolas:','%1.f' % data2.describe()[0])\n",
    "print('Média:','%.1f' % data2.describe()[1])\n",
    "print('Desvio Padrão:','%.1f' % data2.describe()[2])\n",
    "print('Variância:','%.1f' % data2.describe()[2]**2)"
   ]
  },
  {
   "cell_type": "code",
   "execution_count": 69,
   "metadata": {},
   "outputs": [
    {
     "name": "stdout",
     "output_type": "stream",
     "text": [
      "Dados para escola privada:\n"
     ]
    },
    {
     "data": {
      "text/plain": [
       "(array([  1.,   0.,   0.,   0.,   0.,   0.,   0.,   0.,   0.,   0.,   0.,\n",
       "          0.,   3.,   2.,   2.,   4.,   6.,   3.,   8.,  10.,  11.,  10.,\n",
       "         18.,  30.,  35.,  35.,  30.,  52.,  46.,  67.,  68.,  65.,  74.,\n",
       "         84.,  78., 102.,  97.,  85.,  69.,  80.,  87.,  62.,  55.,  63.,\n",
       "         56.,  50.,  52.,  39.,  29.,  22.,  33.,  15.,  12.,  15.,  11.,\n",
       "          7.,   5.,   9.,   3.,   3.,   3.,   4.,   1.,   2.,   1.,   0.,\n",
       "          0.,   1.,   0.,   1.]),\n",
       " array([419.76      , 423.16757143, 426.57514286, 429.98271429,\n",
       "        433.39028571, 436.79785714, 440.20542857, 443.613     ,\n",
       "        447.02057143, 450.42814286, 453.83571429, 457.24328571,\n",
       "        460.65085714, 464.05842857, 467.466     , 470.87357143,\n",
       "        474.28114286, 477.68871429, 481.09628571, 484.50385714,\n",
       "        487.91142857, 491.319     , 494.72657143, 498.13414286,\n",
       "        501.54171429, 504.94928571, 508.35685714, 511.76442857,\n",
       "        515.172     , 518.57957143, 521.98714286, 525.39471429,\n",
       "        528.80228571, 532.20985714, 535.61742857, 539.025     ,\n",
       "        542.43257143, 545.84014286, 549.24771429, 552.65528571,\n",
       "        556.06285714, 559.47042857, 562.878     , 566.28557143,\n",
       "        569.69314286, 573.10071429, 576.50828571, 579.91585714,\n",
       "        583.32342857, 586.731     , 590.13857143, 593.54614286,\n",
       "        596.95371429, 600.36128571, 603.76885714, 607.17642857,\n",
       "        610.584     , 613.99157143, 617.39914286, 620.80671429,\n",
       "        624.21428571, 627.62185714, 631.02942857, 634.437     ,\n",
       "        637.84457143, 641.25214286, 644.65971429, 648.06728571,\n",
       "        651.47485714, 654.88242857, 658.29      ]),\n",
       " <a list of 70 Patch objects>)"
      ]
     },
     "execution_count": 69,
     "metadata": {},
     "output_type": "execute_result"
    },
    {
     "data": {
      "image/png": "[encoded data removed]",
      "text/plain": [
       "<Figure size 432x288 with 1 Axes>"
      ]
     },
     "metadata": {},
     "output_type": "display_data"
    }
   ],
   "source": [
    "plt.style.use('ggplot')\n",
    "print('Dados para escola privada:')\n",
    "plt.hist(data1, bins = 70)"
   ]
  },
  {
   "cell_type": "code",
   "execution_count": 70,
   "metadata": {},
   "outputs": [
    {
     "name": "stdout",
     "output_type": "stream",
     "text": [
      "Dados para escola pública:\n"
     ]
    },
    {
     "data": {
      "text/plain": [
       "(array([ 1.,  1.,  1.,  3.,  0.,  1.,  3.,  1.,  2.,  2.,  4.,  5., 12.,\n",
       "        10., 23., 13., 14., 25., 29., 40., 42., 36., 36., 50., 49., 71.,\n",
       "        50., 64., 47., 58., 47., 46., 38., 36., 31., 14., 15., 14., 11.,\n",
       "         8.,  4.,  9.,  3., 10.,  5.,  4.,  4.,  8.,  6.,  1.,  5., 10.,\n",
       "         6.,  6.,  6.,  8.,  6.,  6.,  7.,  1.,  4.,  3.,  0.,  2.,  3.,\n",
       "         0.,  3.,  0.,  0.,  2.]),\n",
       " array([415.67      , 418.49328571, 421.31657143, 424.13985714,\n",
       "        426.96314286, 429.78642857, 432.60971429, 435.433     ,\n",
       "        438.25628571, 441.07957143, 443.90285714, 446.72614286,\n",
       "        449.54942857, 452.37271429, 455.196     , 458.01928571,\n",
       "        460.84257143, 463.66585714, 466.48914286, 469.31242857,\n",
       "        472.13571429, 474.959     , 477.78228571, 480.60557143,\n",
       "        483.42885714, 486.25214286, 489.07542857, 491.89871429,\n",
       "        494.722     , 497.54528571, 500.36857143, 503.19185714,\n",
       "        506.01514286, 508.83842857, 511.66171429, 514.485     ,\n",
       "        517.30828571, 520.13157143, 522.95485714, 525.77814286,\n",
       "        528.60142857, 531.42471429, 534.248     , 537.07128571,\n",
       "        539.89457143, 542.71785714, 545.54114286, 548.36442857,\n",
       "        551.18771429, 554.011     , 556.83428571, 559.65757143,\n",
       "        562.48085714, 565.30414286, 568.12742857, 570.95071429,\n",
       "        573.774     , 576.59728571, 579.42057143, 582.24385714,\n",
       "        585.06714286, 587.89042857, 590.71371429, 593.537     ,\n",
       "        596.36028571, 599.18357143, 602.00685714, 604.83014286,\n",
       "        607.65342857, 610.47671429, 613.3       ]),\n",
       " <a list of 70 Patch objects>)"
      ]
     },
     "execution_count": 70,
     "metadata": {},
     "output_type": "execute_result"
    },
    {
     "data": {
      "image/png": "[encoded data removed]",
      "text/plain": [
       "<Figure size 432x288 with 1 Axes>"
      ]
     },
     "metadata": {},
     "output_type": "display_data"
    }
   ],
   "source": [
    "plt.style.use('ggplot')\n",
    "print('Dados para escola pública:')\n",
    "plt.hist(data2, bins = 70)"
   ]
  },
  {
   "cell_type": "code",
   "execution_count": 87,
   "metadata": {},
   "outputs": [
    {
     "name": "stdout",
     "output_type": "stream",
     "text": [
      "Teste de Shapiro-Wilk\n",
      "\n",
      "Amostra completa:\n",
      "Resultado do teste estatístico para escola privada: 0.9980005621910095\n",
      "Resultado do teste estatístico para escola pública: 0.9266005158424377\n",
      "Resultado do p-valor para escola privada: 0.02465052716434002\n",
      "Resultado do p-valor para escola pública: 1.3251253931466347e-22\n",
      "\n",
      "Amostra com seleção de 10% do total:\n",
      "Resultado do teste estatístico para escola privada: 0.9755998849868774\n",
      "Resultado do teste estatístico para escola pública: 0.9603700637817383\n",
      "Resultado do p-valor para escola privada: 0.2944685220718384\n",
      "Resultado do p-valor para escola pública: 1.513229364036306e-07\n",
      "\n",
      "Observamos que uma diminuição na amostra (10% do total) fez o p-valor aumentar muito, ou seja, esse modelo é muito sensível ao tamanho da amostra.\n"
     ]
    }
   ],
   "source": [
    "#Teste de hipótese\n",
    "#H0 = distribuição é normal (ditribuição de escola pública e privada são normais)\n",
    "#Ha = distribuição não é normal (ditribuição de escola pública e privada não são normais)\n",
    "\n",
    "#Objetivo da questão:\n",
    "#-> Realizarmos dois testes estatísticos sugeridos para saber se a amostra é normal ou não: o shapiro e o afastamento da normalidade, \n",
    "#e com eles obter o p-valor para aceitarmos ou rejeitarmos as hipóteses baseado num alpha para comparação. Iremos fazer isso com os dados completos e depois com uma amostra\n",
    "#de tamanho 10%. Assim que fizermos os testes, vamos analisar as questões para conclusão.\n",
    "\n",
    "#função shapiro -> é um teste estatístico considerando que temos uma amostra normal, ou seja, retorna o p-valor para a normalidade\n",
    "#o primeiro valor do shapiro é o resultado de um teste estatístico e o segundo é o p-valor, que é a probabilidade de aceitarmos\n",
    "#ou rejeitarmos uma hipótese baseada nesse teste estatístico feito.\n",
    "\n",
    "#Realizando o primeiro teste estatístico - Teste de Shapiro-Wilk para a normalidade\n",
    "print('Teste de Shapiro-Wilk')\n",
    "print()\n",
    "print('Amostra completa:')\n",
    "print('Resultado do teste estatístico para escola privada:',stats.shapiro(data1)[0])\n",
    "print('Resultado do teste estatístico para escola pública:',stats.shapiro(data2)[0])\n",
    "print('Resultado do p-valor para escola privada:',stats.shapiro(data1)[1])\n",
    "print('Resultado do p-valor para escola pública:',stats.shapiro(data2)[1])\n",
    "print()\n",
    "print('Amostra com seleção de 10% do total:')\n",
    "print('Resultado do teste estatístico para escola privada:',stats.shapiro(data1.sample(frac = 0.1))[0]) #selecionando uma amostra de 10%\n",
    "print('Resultado do teste estatístico para escola pública:',stats.shapiro(data2.sample(frac = 0.1))[0]) #selecionando uma amostra de 10%\n",
    "print('Resultado do p-valor para escola privada:',stats.shapiro(data1.sample(frac = 0.1))[1]) #selecionando uma amostra de 10%\n",
    "print('Resultado do p-valor para escola pública:',stats.shapiro(data2.sample(frac = 0.1))[1]) #selecionando uma amostra de 10%\n",
    "print()\n",
    "print('Observamos que uma diminuição na amostra (10% do total) fez o p-valor aumentar muito, ou seja, esse modelo é muito sensível ao tamanho da amostra.')"
   ]
  },
  {
   "cell_type": "code",
   "execution_count": 85,
   "metadata": {},
   "outputs": [
    {
     "name": "stdout",
     "output_type": "stream",
     "text": [
      "Teste de Afastamento da Normalidade\n",
      "\n",
      "Amostra completa:\n",
      "Resultado do teste estatístico para escola privada: 9.73452989857402\n",
      "Resultado do teste estatístico para escola pública: 182.1946571897817\n",
      "Resultado do p-valor para escola privada: 0.007694381057594422\n",
      "Resultado do p-valor para escola pública: 2.7348459937430188e-40\n",
      "\n",
      "Amostra com seleção de 10% do total:\n",
      "Resultado do teste estatístico para escola privada: 3.2724986241247027\n",
      "Resultado do teste estatístico para escola pública: 28.1199765508346\n",
      "Resultado do p-valor para escola privada: 0.44652889450023314\n",
      "Resultado do p-valor para escola pública: 2.2050417978878773e-06\n",
      "\n",
      "Observamos que uma diminuição na amostra (10% do total) fez o p-valor aumentar muito, ou seja, esse modelo também é muito sensível ao tamanho da amostra.\n"
     ]
    }
   ],
   "source": [
    "#normaltest -> sua função é bem similar ao que o shapiro faz, porém, ele é baseado em outro método.\n",
    "\n",
    "#Realizando o segundo teste estatístico - Teste de Afastamento da Normalidade (baseado nos testes D'Agostino and Pearson's)\n",
    "print('Teste de Afastamento da Normalidade')\n",
    "print()\n",
    "print('Amostra completa:')\n",
    "print('Resultado do teste estatístico para escola privada:',stats.normaltest(data1)[0])\n",
    "print('Resultado do teste estatístico para escola pública:',stats.normaltest(data2)[0])\n",
    "print('Resultado do p-valor para escola privada:',stats.normaltest(data1)[1])\n",
    "print('Resultado do p-valor para escola pública:',stats.normaltest(data2)[1])\n",
    "print()\n",
    "print('Amostra com seleção de 10% do total:')\n",
    "print('Resultado do teste estatístico para escola privada:',stats.normaltest(data1.sample(frac = 0.1))[0]) #selecionando uma amostra de 10%\n",
    "print('Resultado do teste estatístico para escola pública:',stats.normaltest(data2.sample(frac = 0.1))[0]) #selecionando uma amostra de 10%\n",
    "print('Resultado do p-valor para escola privada:',stats.normaltest(data1.sample(frac = 0.1))[1]) #selecionando uma amostra de 10%\n",
    "print('Resultado do p-valor para escola pública:',stats.normaltest(data2.sample(frac = 0.1))[1]) #selecionando uma amostra de 10%\n",
    "print()\n",
    "print('Observamos que uma diminuição na amostra (10% do total) fez o p-valor aumentar muito, ou seja, esse modelo também é muito sensível ao tamanho da amostra.')"
   ]
  },
  {
   "cell_type": "markdown",
   "metadata": {},
   "source": [
    "### Exercício 4\n",
    "Com o conjunto de dados das Cotas dos deputados, usados na videoaula, gere amostras bootstrap para obter a distribuição amostral do total máximo reembolsado aos parlamentares nos primeiros 2 meses do ano. Ou seja, primeiro obtenha o valor total reembolsado a cada deputado (lista de exercícios 1 e videoaula 5), depois obtenha amostras bootstrap desses valores e, em cada amostra, calcule o máximo. Escolha a alternativa <font color='blue'><b>correta</b></font>:\n",
    "\n",
    "Escolha uma:<br>\n",
    "<b>a. A maioria das amostras bootstrap contém o valor máximo da amostra original<br><br>\n",
    "b. A distribuição amostral do máximo do total reembolsado aos deputados nos primeiros dois meses do ano é Normal<br><br>\n",
    "c. A seleção das amostras bootstrap é uma amostra aleatória da amostra original<br><br>\n",
    "d. Não é possível obter a distribuição amostral desse estimador por bootstrap, pois é um método que serve apenas para a média amostral<br><br>\n",
    "e. A distribuição do estimador do máximo é igual à distribuição da variável amostrada<br><br>"
   ]
  },
  {
   "cell_type": "code",
   "execution_count": 123,
   "metadata": {},
   "outputs": [
    {
     "name": "stdout",
     "output_type": "stream",
     "text": [
      "Resposta: c. A seleção das amostras bootstrap é uma amostra aleatória da amostra original\n"
     ]
    }
   ],
   "source": [
    "#Analisando as alternativas:\n",
    "\n",
    "#a) Olhando pelo histograma gerado, a maioria dos valores dos bootstraps não contém o máximo da amostra original.\n",
    "\n",
    "#b) Olhando pelo histograma, verificamos que a distribuição não é normal\n",
    "\n",
    "#c) Sim\n",
    "print('Resposta: c. A seleção das amostras bootstrap é uma amostra aleatória da amostra original')\n",
    "\n",
    "#d) É possível verificar a distribuição, pois o bootstrap trata-se de uma simulação de distrbuição amostal independente do estimador procurado.\n",
    "\n",
    "#e) A distribuição da variável amostrada não é igual a distribuição do estimador do máximo."
   ]
  },
  {
   "cell_type": "code",
   "execution_count": 92,
   "metadata": {},
   "outputs": [
    {
     "data": {
      "text/html": [
       "<div>\n",
       "<style scoped>\n",
       "    .dataframe tbody tr th:only-of-type {\n",
       "        vertical-align: middle;\n",
       "    }\n",
       "\n",
       "    .dataframe tbody tr th {\n",
       "        vertical-align: top;\n",
       "    }\n",
       "\n",
       "    .dataframe thead th {\n",
       "        text-align: right;\n",
       "    }\n",
       "</style>\n",
       "<table border=\"1\" class=\"dataframe\">\n",
       "  <thead>\n",
       "    <tr style=\"text-align: right;\">\n",
       "      <th></th>\n",
       "      <th>REEMBOLSO</th>\n",
       "      <th>NOME DO PARLAMENTAR</th>\n",
       "      <th>ANO</th>\n",
       "      <th>SUBQUOTA TRANSLATED</th>\n",
       "      <th>FORNECEDOR</th>\n",
       "      <th>VALOR</th>\n",
       "    </tr>\n",
       "  </thead>\n",
       "  <tbody>\n",
       "    <tr>\n",
       "      <th>0</th>\n",
       "      <td>0</td>\n",
       "      <td>ABOU ANNI</td>\n",
       "      <td>2020</td>\n",
       "      <td>Serviços postais</td>\n",
       "      <td>CORREIOS - MALA DIRETA POSTAL BÁSICA-00.000.00...</td>\n",
       "      <td>88.16</td>\n",
       "    </tr>\n",
       "    <tr>\n",
       "      <th>1</th>\n",
       "      <td>0</td>\n",
       "      <td>ABOU ANNI</td>\n",
       "      <td>2020</td>\n",
       "      <td>Serviços postais</td>\n",
       "      <td>CORREIOS - MALA DIRETA POSTAL BÁSICA-00.000.00...</td>\n",
       "      <td>121.34</td>\n",
       "    </tr>\n",
       "    <tr>\n",
       "      <th>2</th>\n",
       "      <td>0</td>\n",
       "      <td>ABOU ANNI</td>\n",
       "      <td>2020</td>\n",
       "      <td>Serviços postais</td>\n",
       "      <td>CORREIOS - MALA DIRETA POSTAL BÁSICA-00.000.00...</td>\n",
       "      <td>1274.13</td>\n",
       "    </tr>\n",
       "    <tr>\n",
       "      <th>3</th>\n",
       "      <td>0</td>\n",
       "      <td>ALENCAR SANTANA BRAGA</td>\n",
       "      <td>2020</td>\n",
       "      <td>Serviços postais</td>\n",
       "      <td>CORREIOS - SEDEX CONVENCIONAL COM AR-00.000.00...</td>\n",
       "      <td>61.15</td>\n",
       "    </tr>\n",
       "    <tr>\n",
       "      <th>4</th>\n",
       "      <td>7002207</td>\n",
       "      <td>ALENCAR SANTANA BRAGA</td>\n",
       "      <td>2020</td>\n",
       "      <td>Combustíveis e lubrificantes</td>\n",
       "      <td>AUTO POSTO NOVO GAMA LTDA-20.168.440/0001-60</td>\n",
       "      <td>111.92</td>\n",
       "    </tr>\n",
       "  </tbody>\n",
       "</table>\n",
       "</div>"
      ],
      "text/plain": [
       "   REEMBOLSO    NOME DO PARLAMENTAR   ANO           SUBQUOTA TRANSLATED  \\\n",
       "0          0              ABOU ANNI  2020              Serviços postais   \n",
       "1          0              ABOU ANNI  2020              Serviços postais   \n",
       "2          0              ABOU ANNI  2020              Serviços postais   \n",
       "3          0  ALENCAR SANTANA BRAGA  2020              Serviços postais   \n",
       "4    7002207  ALENCAR SANTANA BRAGA  2020  Combustíveis e lubrificantes   \n",
       "\n",
       "                                          FORNECEDOR    VALOR  \n",
       "0  CORREIOS - MALA DIRETA POSTAL BÁSICA-00.000.00...    88.16  \n",
       "1  CORREIOS - MALA DIRETA POSTAL BÁSICA-00.000.00...   121.34  \n",
       "2  CORREIOS - MALA DIRETA POSTAL BÁSICA-00.000.00...  1274.13  \n",
       "3  CORREIOS - SEDEX CONVENCIONAL COM AR-00.000.00...    61.15  \n",
       "4       AUTO POSTO NOVO GAMA LTDA-20.168.440/0001-60   111.92  "
      ]
     },
     "execution_count": 92,
     "metadata": {},
     "output_type": "execute_result"
    }
   ],
   "source": [
    "import numpy as np\n",
    "import pandas as pd\n",
    "from scipy import stats\n",
    "import matplotlib.pyplot as plt\n",
    "\n",
    "np.random.seed(42)\n",
    "\n",
    "df = pd.read_csv(\".\\data\\Cotas.csv\", sep = ';', na_values = '-', encoding= 'latin', decimal =',')\n",
    "df.head()"
   ]
  },
  {
   "cell_type": "code",
   "execution_count": 112,
   "metadata": {},
   "outputs": [
    {
     "name": "stdout",
     "output_type": "stream",
     "text": [
      "Valor Máximo obtido: 50469.66\n"
     ]
    },
    {
     "data": {
      "text/html": [
       "<div>\n",
       "<style scoped>\n",
       "    .dataframe tbody tr th:only-of-type {\n",
       "        vertical-align: middle;\n",
       "    }\n",
       "\n",
       "    .dataframe tbody tr th {\n",
       "        vertical-align: top;\n",
       "    }\n",
       "\n",
       "    .dataframe thead th {\n",
       "        text-align: right;\n",
       "    }\n",
       "</style>\n",
       "<table border=\"1\" class=\"dataframe\">\n",
       "  <thead>\n",
       "    <tr style=\"text-align: right;\">\n",
       "      <th></th>\n",
       "      <th>NOME DO PARLAMENTAR</th>\n",
       "      <th>VALOR</th>\n",
       "    </tr>\n",
       "  </thead>\n",
       "  <tbody>\n",
       "    <tr>\n",
       "      <th>0</th>\n",
       "      <td>ABOU ANNI</td>\n",
       "      <td>1483.63</td>\n",
       "    </tr>\n",
       "    <tr>\n",
       "      <th>1</th>\n",
       "      <td>ALENCAR SANTANA BRAGA</td>\n",
       "      <td>6736.31</td>\n",
       "    </tr>\n",
       "    <tr>\n",
       "      <th>2</th>\n",
       "      <td>ALEX MANENTE</td>\n",
       "      <td>5247.18</td>\n",
       "    </tr>\n",
       "    <tr>\n",
       "      <th>3</th>\n",
       "      <td>ALEXANDRE FROTA</td>\n",
       "      <td>19895.61</td>\n",
       "    </tr>\n",
       "    <tr>\n",
       "      <th>4</th>\n",
       "      <td>ALEXANDRE LEITE</td>\n",
       "      <td>1245.26</td>\n",
       "    </tr>\n",
       "    <tr>\n",
       "      <th>...</th>\n",
       "      <td>...</td>\n",
       "      <td>...</td>\n",
       "    </tr>\n",
       "    <tr>\n",
       "      <th>58</th>\n",
       "      <td>TIRIRICA</td>\n",
       "      <td>892.29</td>\n",
       "    </tr>\n",
       "    <tr>\n",
       "      <th>59</th>\n",
       "      <td>VANDERLEI MACRIS</td>\n",
       "      <td>17752.34</td>\n",
       "    </tr>\n",
       "    <tr>\n",
       "      <th>60</th>\n",
       "      <td>VICENTINHO</td>\n",
       "      <td>620.55</td>\n",
       "    </tr>\n",
       "    <tr>\n",
       "      <th>61</th>\n",
       "      <td>VINICIUS CARVALHO</td>\n",
       "      <td>14280.60</td>\n",
       "    </tr>\n",
       "    <tr>\n",
       "      <th>62</th>\n",
       "      <td>VITOR LIPPI</td>\n",
       "      <td>13878.25</td>\n",
       "    </tr>\n",
       "  </tbody>\n",
       "</table>\n",
       "<p>63 rows × 2 columns</p>\n",
       "</div>"
      ],
      "text/plain": [
       "      NOME DO PARLAMENTAR     VALOR\n",
       "0               ABOU ANNI   1483.63\n",
       "1   ALENCAR SANTANA BRAGA   6736.31\n",
       "2            ALEX MANENTE   5247.18\n",
       "3         ALEXANDRE FROTA  19895.61\n",
       "4         ALEXANDRE LEITE   1245.26\n",
       "..                    ...       ...\n",
       "58               TIRIRICA    892.29\n",
       "59       VANDERLEI MACRIS  17752.34\n",
       "60             VICENTINHO    620.55\n",
       "61      VINICIUS CARVALHO  14280.60\n",
       "62            VITOR LIPPI  13878.25\n",
       "\n",
       "[63 rows x 2 columns]"
      ]
     },
     "execution_count": 112,
     "metadata": {},
     "output_type": "execute_result"
    }
   ],
   "source": [
    "gastos = df[['NOME DO PARLAMENTAR', 'VALOR']] #salvando em \"gastos\" apenas as variáveis 'NOME DO PARLAMENTAR' e 'VALOR'\n",
    "# Calcula os gatos por deputado\n",
    "somas = gastos.groupby(\"NOME DO PARLAMENTAR\",as_index = False)[[\"NOME DO PARLAMENTAR\",\"VALOR\"]].sum() \n",
    "print('Valor Máximo obtido:',max(somas['VALOR']))\n",
    "somas"
   ]
  },
  {
   "cell_type": "code",
   "execution_count": 122,
   "metadata": {},
   "outputs": [
    {
     "name": "stdout",
     "output_type": "stream",
     "text": [
      "Distribuição da variável amostrada:\n"
     ]
    },
    {
     "data": {
      "text/plain": [
       "(array([29., 10., 10.,  6.,  3.,  2.,  1.,  0.,  1.,  1.]),\n",
       " array([2.6010000e+01, 5.0703750e+03, 1.0114740e+04, 1.5159105e+04,\n",
       "        2.0203470e+04, 2.5247835e+04, 3.0292200e+04, 3.5336565e+04,\n",
       "        4.0380930e+04, 4.5425295e+04, 5.0469660e+04]),\n",
       " <a list of 10 Patch objects>)"
      ]
     },
     "execution_count": 122,
     "metadata": {},
     "output_type": "execute_result"
    },
    {
     "data": {
      "image/png": "[encoded data removed]",
      "text/plain": [
       "<Figure size 432x288 with 1 Axes>"
      ]
     },
     "metadata": {},
     "output_type": "display_data"
    }
   ],
   "source": [
    "print('Distribuição da variável amostrada:')\n",
    "plt.hist(somas['VALOR'])"
   ]
  },
  {
   "cell_type": "code",
   "execution_count": 120,
   "metadata": {},
   "outputs": [
    {
     "data": {
      "image/png": "[encoded data removed]",
      "text/plain": [
       "<Figure size 432x288 with 1 Axes>"
      ]
     },
     "metadata": {},
     "output_type": "display_data"
    }
   ],
   "source": [
    "#gerando amostras bootstrap\n",
    "for n_samples in [62]:\n",
    "    valor = df[['VALOR']]\n",
    "    maximos = []\n",
    "    for _ in range(500):\n",
    "        amostras = df.sample(n_samples,replace=True)['VALOR']\n",
    "        maximos.append(amostras.max())\n",
    "    plt.hist(maximos, bins = 100)\n",
    "    plt.title('n_samples %d' % n_samples)\n",
    "    plt.show()"
   ]
  },
  {
   "cell_type": "markdown",
   "metadata": {},
   "source": [
    "### Exercício 5\n",
    "No teste de hipóteses da eficácia do Sildenafil dado na videoaula, suponha que a proporção de indivíduos na população que conseguem ao menos 60% de sucessos nas tentativas de relação sexual seja inferior a 0,5. Se essa proporção for de 0,4, qual seria a probabilidade de cometer o erro tipo II do teste considerado no slide 9?\n",
    "\n",
    "Escolha uma:<br>\n",
    "<b>a. 0,056<br>\n",
    "b. 0,25<br>\n",
    "c. Não é possível calcular<br>\n",
    "d. Seria igual à probabilidade de erro tipo I<br>\n",
    "e. 0,20<br>"
   ]
  },
  {
   "cell_type": "code",
   "execution_count": 130,
   "metadata": {},
   "outputs": [
    {
     "name": "stdout",
     "output_type": "stream",
     "text": [
      "Valor do Beta: 0.056\n",
      "Resposta: a. 0,056\n"
     ]
    }
   ],
   "source": [
    "import math\n",
    "from scipy.stats import norm\n",
    "\n",
    "#Teste de hipótese de Sildenafil\n",
    "#H0 -> Sildenafil é eficaz\n",
    "#Ha -> Sildenafil não é eficaz\n",
    "\n",
    "#X: pelo menos 60% de tentativas bem sucedidas\n",
    "#p: proporção de indivíduos que conseguem 60% é menor 0.5 -> p < 0.5\n",
    "\n",
    "p = 0.4\n",
    "n = 379\n",
    "\n",
    "#O que ele quer saber: Beta = P(erro tipo II) = P(decidir por Ho sendo Ha verdadeira)\n",
    "\n",
    "#Se Ha é verdadeira, então aplico a Normal com parâmetro p < 0.5, que no caso é 0.4\n",
    "#pela TCL, temos: p_chapeu ~= N(p, p(1-p)/n)\n",
    "#p_chapeu ~= N(0.4, 0.4(1-0.4)/n)\n",
    "\n",
    "#probabilidade de ser do tipo I = N(0.4, 0.4(1-0.4)/n)\n",
    "#probabilidade de ser do tipo II = 1 - probabilidade de ser do tipo I\n",
    "\n",
    "beta = 1-norm.cdf(0.44,0.4,math.sqrt(p*(1-p)/n))\n",
    "print('Valor do Beta:', '%.3f' % beta)\n",
    "print('Resposta: a. 0,056')"
   ]
  },
  {
   "cell_type": "code",
   "execution_count": null,
   "metadata": {},
   "outputs": [],
   "source": []
  }
 ],
 "metadata": {
  "kernelspec": {
   "display_name": "Python 3",
   "language": "python",
   "name": "python3"
  },
  "language_info": {
   "codemirror_mode": {
    "name": "ipython",
    "version": 3
   },
   "file_extension": ".py",
   "mimetype": "text/x-python",
   "name": "python",
   "nbconvert_exporter": "python",
   "pygments_lexer": "ipython3",
   "version": "3.8.3"
  },
  "toc": {
   "base_numbering": 1,
   "nav_menu": {},
   "number_sections": true,
   "sideBar": true,
   "skip_h1_title": false,
   "title_cell": "Table of Contents",
   "title_sidebar": "Contents",
   "toc_cell": false,
   "toc_position": {},
   "toc_section_display": true,
   "toc_window_display": false
  }
 },
 "nbformat": 4,
 "nbformat_minor": 2
}
