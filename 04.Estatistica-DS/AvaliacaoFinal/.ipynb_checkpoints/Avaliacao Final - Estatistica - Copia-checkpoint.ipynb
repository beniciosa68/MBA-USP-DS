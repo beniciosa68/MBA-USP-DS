{
 "cells": [
  {
   "cell_type": "markdown",
   "metadata": {},
   "source": [
    "# <span style=\"color:blue\"> MBA em Ciência de Dados</span>\n",
    "# <span style=\"color:blue\">Estatística para Ciência de Dados</span>\n",
    "\n",
    "## <span style=\"color:blue\">Avaliação Final</span>\n",
    "\n",
    "Aluno: Benicio Ramos Magalhaes\n",
    "\n",
    "**Material Produzido por Mariana Cúri**<br>\n",
    "**Cemeai - ICMC/USP São Carlos**"
   ]
  },
  {
   "cell_type": "markdown",
   "metadata": {},
   "source": [
    "<font color='red'> As respostas devem ser fornecidas no Moodle. O notebook é apenas para a implementação dos códigos que fornecerão as respostas</font>"
   ]
  },
  {
   "cell_type": "markdown",
   "metadata": {},
   "source": [
    "Os dados do arquivo Brain, em anexo, referem-se ao peso do cérebro (g), tamanho da cabeça (cm3) de 237 adultos, identificados por sexo e grupo etário. O estudo teve por objetivo verificar se:\n",
    "\n",
    "<b>1) Há diferença no peso cerebral entre os sexos? E entre os grupos etários?\n",
    "\n",
    "2) O tamanho da cabeça é preditor do peso cerebral e, neste caso, há diferença nessa relação entre os sexos e entre os grupos etários?\n",
    "\n",
    "3) Estime o peso médio do cérebro de homens e de mulheres (pontual e intervalar).</b>\n",
    "\n",
    "Interprete seus resultados e verifique se as suposições dos métodos são adequadas a estes dados.\n",
    "\n",
    "Se uma das suas respostas (aos itens 1, 2 ou 3) aplicar, além da estatística clássica, também a inferencial (de maneira adequada, claro), sua nota será acrescida de 1 ponto (ou seja, sua prova fica valendo 11 pontos).\n",
    "\n",
    "O formato de entrega será de dois arquivos: \n",
    "\n",
    "1 PDF, com os resultados resumidos e comentados\n",
    "e outro em Jupyter Notebook, com os códigos usados para a obtenção dos resultados. Este notebook, deve ser comentado de forma a facilmente identificar os códigos de cada análise."
   ]
  },
  {
   "cell_type": "markdown",
   "metadata": {},
   "source": [
    "### 1) Há diferença no peso cerebral entre os sexos? E entre os grupos etários?\n",
    "\n",
    "Como o objetivo é comparar duas populações com relação a uma variável quantitativa (peso cerebral) baseado numa amostra, o ideal é usarmos um teste de hipótese. Portanto, iremos verificar se existe diferença no peso cerebral entre os sexos aplicando um teste de hipótese para igualdade das médias. \n",
    "\n",
    "Para isto, algumas suposições que devemos verificar: \n",
    "* Se existe ou não dependência entre as amostras (medições pareadas ou não pareadas)\n",
    "* Se os dados seguem uma distribuição normal.\n",
    "\n",
    "OBS: Após análise para os sexos, iremos fazer a mesma análise para faixa etária.\n",
    "\n",
    "#### Passos para o teste de hipótese:\n",
    "\n",
    "###### a) Especificar as hipóteses H$_0$ e H$_a$;\n",
    "<font color='blue'><b>\n",
    "H$_0$: $\\mu_1$ = $\\mu_2$ <br>\n",
    "    Peso cerebral do homem é igual ao peso cerebral da mulher (hipótese nula) <br><br>\n",
    "H$_a$: $\\mu_1$ $\\neq$ $\\mu_2$ <br>\n",
    "    Peso cerebral do homem não é igual ao peso cerebral da mulher (hipótese alternativa)<br>\n",
    "</font>\n",
    "###### b) Especificar a estatística do teste e sua distribuição, sob H$_0$;\n",
    "\n",
    "<img src='.\\img\\img2.gif'>\n",
    "<img src='.\\img\\img1.gif'>\n"
   ]
  },
  {
   "cell_type": "markdown",
   "metadata": {},
   "source": [
    "\n",
    "Vamos verificar a normalidade da distribuição com a realização de alguns testes.<br>\n",
    "\n",
    "Vamos considerar os seguintes testes para distribuição normal:<br>\n",
    "* Kolmogorov-Smirnov\n",
    "* Anderson-Darling\n",
    "* Shapiro-Wilk"
   ]
  },
  {
   "cell_type": "markdown",
   "metadata": {},
   "source": [
    "<img src='.\\img\\img3.gif'>\n",
    "          \n",
    "O resultado de 2 testes foram favoráveis a dizer que os dados tem distribuição normal dado o intervalo de confiança de 5%.\n",
    "Assim, iremos considerar o peso para homem com uma distribuição normal gaussiana."
   ]
  },
  {
   "cell_type": "markdown",
   "metadata": {},
   "source": [
    "<img src='.\\img\\img4.gif'>\n",
    "\n",
    "Os resultados de todos os testes foram favoráveis a dizer que os dados tem distribuição normal dado o intervalo de confiança de 5%. Assim, iremos considerar o peso para mulher com uma distribuição normal gaussiana.\n",
    "\n",
    "##### Análise de dependência:\n",
    "Considerando a natureza dos dados, as medições sugerem que as amostras são independentes, pois a medição do peso do cérebro são feitos em indivíduos diferentes e, portanto, não aparentam ter relação de dependência. Para fundamentarmos melhor essa afirmação, iremos realizar um teste Z para a hipótese nula de que a média das amostras são iguais.\n",
    "\n",
    "Resultado: 0.9999769904283696<br>\n",
    "Amostras independentes"
   ]
  },
  {
   "cell_type": "markdown",
   "metadata": {},
   "source": [
    "###### c) Fixar o nível de significância do teste ($\\alpha$)\n",
    "   Iremos considerar o nível de significância do teste de 5%, ou seja, $\\alpha$ = 0.05\n",
    "\n",
    "###### d) Calcular o p-valor (ou região crítica do teste)\n",
    "Como já concluímos que as amostras são independentes e ambas seguem distribuição normal, precisamos avaliar agora se existe uma relação de igualdade das variâncias para decidir qual teste t de Student para médias de duas amostras iremos aplicar. \n",
    "\n",
    "Para isso, iremos aplicar um teste de levene.\n",
    "\n",
    "Resultado: 0.767016022271913<br>\n",
    "Não existe grande diferença na variância."
   ]
  },
  {
   "cell_type": "markdown",
   "metadata": {},
   "source": [
    "##### Teste t de student (bicaudal):\n",
    "Iremos agora fazer o teste de hipótese das médias da variável média do peso cerebral entre os sexos serem iguais. Para isso, será realizado o teste t de Student (bicaudal) para média de duas populações Normais com variâncias iguais.\n",
    "\n",
    "Resultado: 3.919241152559185e-14<br>\n",
    "Rejeita hipótese H0"
   ]
  },
  {
   "cell_type": "markdown",
   "metadata": {},
   "source": [
    "###### e) Decidir entre H$_0$ e H$_a$, comparando com o p-valor com $\\alpha$\n",
    "   Considerando os resultados obtidos no teste t de Student, precisamos rejeitar a hipótese H0, ou seja, com $\\alpha$ = 0.05 podemos afirmar que o peso cerebral do homem não é igual ao peso cerebral da mulher. \n",
    "   \n",
    "### Resposta:\n",
    "Sim. Existe diferença no peso cerebral entre os sexos."
   ]
  },
  {
   "cell_type": "markdown",
   "metadata": {},
   "source": [
    "### E entre os grupos etários?\n",
    "   Realizando mesma análise anterior para os grupos etários.\n",
    "   \n",
    "   \n",
    "   <font color='blue'><b>\n",
    "H$_0$: $\\mu_1$ = $\\mu_2$ <br>\n",
    "    O peso cerebral de pessoas acima de 45 anos é igual ao de pessoas abaixo de 45 anos. (hipótese nula) <br><br>\n",
    "H$_a$: $\\mu_1$ $\\neq$ $\\mu_2$ <br>\n",
    "    O peso cerebral de pessoas acima de 45 anos não é igual ao de pessoas abaixo de 45 anos. (hipótese alternativa)<br>\n",
    "</font>\n",
    "\n",
    "<img src='.\\img\\img5.gif'>\n",
    "<img src='.\\img\\img6.gif'>          \n",
    "\n",
    "\n",
    "Resultado teste Z:\n",
    "\n",
    "Resultado: 0.0919172475388757<br>\n",
    "Amostras independentes"
   ]
  },
  {
   "cell_type": "markdown",
   "metadata": {},
   "source": [
    "Iremos considerar o nível de significância do teste de 5%, ou seja, $\\alpha$ = 0.05\n",
    "\n",
    "\n",
    "\n",
    "Resultado t de Student (bicaudal, independente e distribuição normal):\n",
    "\n",
    "Resultado: 0.008959602315452554<br>\n",
    "Rejeita hipótese H0"
   ]
  },
  {
   "cell_type": "markdown",
   "metadata": {},
   "source": [
    "Considerando os resultados obtidos no teste t de Student, precisamos rejeitar a hipótese H0, ou seja, com $\\alpha$ = 0.05 podemos afirmar que o peso cerebral de pessoas acima de 45 anos não é igual ao de pessoas abaixo de 45 anos.\n",
    "\n",
    "### Resposta:\n",
    "Sim. Existe diferença no peso cerebral entre os grupos etários."
   ]
  },
  {
   "cell_type": "markdown",
   "metadata": {},
   "source": [
    "### 2) O tamanho da cabeça é preditor do peso cerebral e, neste caso, há diferença nessa relação entre os sexos e entre os grupos etários?\n",
    "\n",
    "Inicialmente iremos verificar se o tamanho da cabeça é realmente preditor do peso cerebral. Vamos utilizar um modelo de regressão linear simples sendo X composto de uma única variável explicativa (tamanho da cabeça). A interpretação para este modelo nos ajudará a encontrar a resposta para essa primeira parte da pergunta.\n",
    "\n",
    "##### Modelo 1 - Peso ~ Tamanho\n",
    "<img src='.\\img\\img7.gif'>"
   ]
  },
  {
   "cell_type": "markdown",
   "metadata": {},
   "source": [
    "O parâmetro $R^2_{Ajustado}$ nos diz que apenas com o Intercepto e Tamanho já temos 64% da variabilidade da variável Peso explicada, portanto, isso é um forte indicador de ser um preditor para Peso. \n",
    "\n",
    "Iremos realizar também uma análise de correlação e dos gráficos de dispersão com dois objetivos:\n",
    "* Verificar a correlação entre Tamanho e Peso, para embasar melhor o fato de que Tamanho é preditor de Peso.\n",
    "* Verificar problemas de multicolineariadade e simplificar o modelo final. Se as variáveis preditoras apresentarem correlações altas entre si, resulta na possibilidade de termos fatores redundantes no modelo e isso poderá aumentar a variância dos coeficientes da regressão, tornando-os instáveis.\n",
    "\n",
    "<img src='.\\img\\img8.gif'>\n",
    "\n",
    "Correlação:\n",
    "<img src='.\\img\\img9.gif'>\n"
   ]
  },
  {
   "cell_type": "markdown",
   "metadata": {},
   "source": [
    "É possível observar uma forte relação entre a variável preditora Tamanho e a variável resposta Peso (80%), o que sugere que de fato ela está bem correlacionada com Peso e, portanto, pode ser muito útil para predizer seus valores. \n",
    "\n",
    "Analisando as preditoras, destacamos a relação entre Tamanho e Homem (51%), o que poderia gerar um problema de multicolinearidade. \n",
    "\n",
    "Vamos iniciar a criação do modelo com todas as variáveis e interações possíveis e através da técnica de stepwise, iremos adequar e otimizar o modelo final, eliminando as variáveis ou interações não significativas. Após ajustarmos o modelo, vamos aplicar mais algumas técnicas para analisar com maiores detalhes as questões de multicolinearidade e verificar se há diferença na relação Tamanho e Peso quando consideramos grupo etário e gênero.\n",
    "\n",
    "\n",
    "##### Modelo 2 - Peso ~ Tamanho * Homem * Acima45\n",
    "\n",
    "<img src='.\\img\\img10.gif'>\n"
   ]
  },
  {
   "cell_type": "markdown",
   "metadata": {},
   "source": [
    "Vamos analisar a interação Tamanho:Homem:Acima45.\n",
    "\n",
    "Neste caso, temos um teste de hipótese que considera:<br> \n",
    "$H_0$: $\\beta_0$ = 0 <br>\n",
    "$H_a$: $\\beta_0$ $\\neq$ 0 <br> \n",
    "\n",
    "Com um p-valor de 90%, coeficiente de regressão 0.0076 e intervalo de confiança entre -0.115 e 0.130, nós aceitamos a hipótese que $\\beta_0$ = 0 no modelo, portanto, esta interação torna-se insignificante e será retirada. \n",
    "\n",
    "Vamos continuar aplicando a técnica de stepwise para a seleção das demais variáveis para melhorarmos o modelo final.\n",
    "\n",
    "##### Modelo 3 - Peso ~ Tamanho * Homem + Tamanho * Acima45 + Homem * Acima45\n",
    "\n",
    "<img src='.\\img\\img11.gif'>"
   ]
  },
  {
   "cell_type": "markdown",
   "metadata": {},
   "source": [
    "Analisando a interação Tamanho:Homem, temos p-valor > 0.05 e intervalo de confiança que pode assumir o valor 0. Com isso, também aceitamos a hipótese de $\\beta_0$ = 0, retirando-a do modelo.\n",
    "\n",
    "##### Modelo 4 - Peso ~ Tamanho + Tamanho * Acima45 + Homem * Acima45\n",
    "\n",
    "<img src='.\\img\\img12.gif'>"
   ]
  },
  {
   "cell_type": "markdown",
   "metadata": {},
   "source": [
    "Considerando a mesma análise anterior (p-valor > 0.05 e IC inclui o zero), iremos retirar a interação Homem:Acima45.\n",
    "\n",
    "##### Modelo 5 - Peso ~ Tamanho + Homem + Tamanho * Acima45\n",
    "\n",
    "<img src='.\\img\\img13.gif'>"
   ]
  },
  {
   "cell_type": "markdown",
   "metadata": {},
   "source": [
    "Considerando a mesma análise anterior (p-valor > 0.05 e IC inclui o zero), iremos retirar a interação Tamanho:Acima45.\n",
    "\n",
    "##### Modelo 6 - Peso ~ Tamanho + Homem + Acima45\n",
    "\n",
    "<img src='.\\img\\img14.gif'>"
   ]
  },
  {
   "cell_type": "markdown",
   "metadata": {},
   "source": [
    "Para este último modelo temos um p-valor < 0.05, com coeficientes de regressão e IC que não incluem o valor 0, portanto, rejeitamos a hipótese $\\beta_0$ = 0 e não iremos retirar mais variáveis. \n",
    "\n",
    "##### Multicolinearidade:\n",
    "Voltando com as suspeitas de multicolinearidade identificadas no início da análise, iremos utilizar o cálculo do fator de inflação da variância (VIF) para as variáveis explicativas do modelo. O critério a ser utilizado para análise do VIF será:\n",
    "* VIF for igual à 1 não há multicolinearidade entre os fatores;\n",
    "* VIF acima de 1, as preditoras podem estar correlacionadas. \n",
    "  * De 1 até 5: indica alguma correlação, porém, não o suficiente para impactar no modelo;\n",
    "  * De 5 até 10: alta correlação podendo gerar impacto no modelo; \n",
    "  * Acima de 10: coeficientes de regressão estão mal estimados devidos à multicolinearidade; \n",
    "  \n",
    "  fonte: https://blog.minitab.com/pt/basta-lidando-com-a-multicolinearidade-na-analise-de-regressao\n",
    "  \n",
    "  \n",
    "<img src='.\\img\\img15.gif'>"
   ]
  },
  {
   "cell_type": "markdown",
   "metadata": {},
   "source": [
    "Para as variáveis Tamanho, Homem e Acima45 os valores do VIF indicam que temos alguma correlação, porém, ela não é forte o suficiente para impactar no modelo. Para o Intercepto tivemos um VIF bem alto, porém, para podermos aplicar a remoção do mesmo, devemos primeiro padronizar as variáveis preditoras e de resposta, com isso o intercepto passará pela origem (0,0). Essa abordagem dificulta a interpretação das variáveis explicativas do modelo, portanto, para evitarmos complicar essa interpretação, uma outra abordagem é padronizar apenas a variável quantitativa (Tamanho) para tentarmos dar sentido ao Intercepto e tentar eliminar o VIF alto. \n",
    "\n",
    "##### Modelo 7 - Peso ~ Tamanho_p + Homem + Acima45\n",
    "\n",
    "<img src='.\\img\\img16.gif'>\n",
    "\n",
    "<img src='.\\img\\img17.gif'>"
   ]
  },
  {
   "cell_type": "markdown",
   "metadata": {},
   "source": [
    "Com estes resultados para o VIF, temos a indicação que existe alguma correlação entre as variáveis, porém, ela não é suficiente para impactar no modelo, portanto, vamos considerar esse como sendo o modelo final ajustado. \n",
    "\n",
    "##### Análise de resíduos:\n",
    "As suposições do nosso modelo ajustado precisam ser validadas para que os resultados sejam confiáveis, para isso vamos realizar a análise de resíduos. A idéia por trás é que se o modelo for apropriado, os resíduos devem refletir algumas propriedades:\n",
    "\n",
    "i. $ \\varepsilon_i $ e $ \\varepsilon_j $ são independentes $ (i\\neq j) $;\n",
    "\n",
    "ii. $ Var(\\varepsilon_i) = \\sigma^2 $ (constante);\n",
    "\n",
    "iii. $ \\varepsilon_i \\sim N(0,\\sigma^2) $ (normalidade);\n",
    "\n",
    "iv. Modelo é linear;\n",
    "\n",
    "v. Não existir outliers (pontos atípicos) influentes.\n",
    "\n",
    "fonte: http://www.portalaction.com.br/analise-de-regressao/analise-dos-residuos\n",
    "\n",
    "\n",
    "<br>"
   ]
  },
  {
   "cell_type": "markdown",
   "metadata": {},
   "source": [
    "##### Diagnóstico de independência:\n",
    "\n",
    "Estatística de Durbin Watson: 1.9224232061579223\n",
    "\n",
    "Este teste serve para detectar dependência nos resíduos de uma análise de regressão. A estatística do teste sempre irá variar entre 0 e 4. Quanto mais próximo de 0, maior a evidência de uma correlação positiva e quanto mais próxima de 4, correlação negativa. Uma estatística próxima de 2, indica que não temos correlação nos resíduos, ou seja, são independentes.\n",
    "\n",
    "Neste caso, a estatística obtida está próxima de 2 (1.92), logo, não temos dependência.\n",
    "\n",
    "fonte: https://www.statsmodels.org/stable/generated/statsmodels.stats.stattools.durbin_watson.html\n",
    "\n",
    "\n",
    "##### Diagnóstico de homoscedasticidade (variância constante):\n",
    "\n",
    "<img src='.\\img\\img18.gif'>"
   ]
  },
  {
   "cell_type": "markdown",
   "metadata": {},
   "source": [
    "Neste caso, os pontos estão aleatoriamente distribuídos em torno do zero, sem nenhum comportamento ou tendência, o comportamento é o esperado para a distribuição dos erros e há indícios de que a variância dos resíduos é homoscedástica.\n",
    "\n",
    "Importante notar que algumas observações cujo o valor do resíduo studenizado é maior que 3 são apresentadas como críticas. Estes valores são os índices 43 e 102.\n",
    "\n",
    "\n",
    "##### Diagnóstico de normalidade:\n",
    "\n",
    "<img src='.\\img\\img19.gif'>"
   ]
  },
  {
   "cell_type": "markdown",
   "metadata": {},
   "source": [
    "Para este teste esperamos que caso a suposição de normalidade esteja adequada, o comportamento dos pontos tem que ser linear. Graficamente observamos que os pontos seguem o comportamento da reta (não estão tão distantes dela), porém, algumas observações com resíduos studentizados abaixo de -2 e acima de 2 parecem ser as responsáveis pela fuga da normalidade dos dados. Tais observações são: 14, 35, 50, 62, 95, 121 e 4, 18, 43, 57, 64, 102, 109, 161, 162, 224, respectivamente.\n",
    "\n",
    "\n",
    "##### Pontos influentes (DFFITS):\n",
    "\n",
    "<img src='.\\img\\img20.gif'>"
   ]
  },
  {
   "cell_type": "markdown",
   "metadata": {},
   "source": [
    "O DFFITS mede a influência que a observação i tem sobre seu próprio valor ajustado. Uma observação é um ponto influente, se:\n",
    "* $ |DFFITS_{(i)}|~>~ 1 $, para amostras pequenas ou médias\n",
    "* $ |DFFITS_{(i)}|~>~ 2\\sqrt{(p+1)/n} $, para amostras grandes, no qual $ (p+1) $ é o número de parâmetros.\n",
    "\n",
    "Neste caso, não temos valores que estão acima de 1, portanto, não temos pontos influentes.\n",
    "\n",
    "fonte: http://www.portalaction.com.br/analise-de-regressao/343-pontos-influentes\n",
    "\n",
    "\n",
    "##### Pontos influentes (Distância de Cook):\n",
    "\n",
    "<img src='.\\img\\img21.gif'>"
   ]
  },
  {
   "cell_type": "markdown",
   "metadata": {},
   "source": [
    "A distância de Cook mede a influência da observação i sobre todos n valores ajustados. Uma observação é um ponto influente, se:\n",
    "* $ D_i~>~1 $.\n",
    "\n",
    "Neste caso, não temos valores que estão acima de 1, portanto, não temos pontos influentes.\n",
    "\n",
    "fonte: http://www.portalaction.com.br/analise-de-regressao/343-pontos-influentes\n",
    "\n",
    "\n",
    "##### Pontos influentes (Diagonal da Matriz Chapéu):\n",
    "\n",
    "<img src='.\\img\\img22.gif'>"
   ]
  },
  {
   "cell_type": "markdown",
   "metadata": {},
   "source": [
    "A diagonal da matriz chapéu $ H $ é uma medida padronizada da distância da i-ésima observação para o centro do espaço definido pelas variáveis explicativas. Uma observação é um ponto influente, se:\n",
    "* $ h_{ii} > 2(p+1)/n $\n",
    "\n",
    "Neste caso, não temos ocorrências destacadas.\n",
    "\n",
    "fonte: http://www.portalaction.com.br/analise-de-regressao/341-ponto-de-alavanca\n",
    "\n",
    "##### Gráficos de Resíduos:\n",
    "\n",
    "<img src='.\\img\\img23.gif'>\n",
    "<img src='.\\img\\img24.gif'>"
   ]
  },
  {
   "cell_type": "markdown",
   "metadata": {},
   "source": [
    "Considerando os resultados dos resíduos studentizados, pode-se observar alguns valores mais críticos como as observações de índices 43 e 102, porém, dado que os testes de pontos influentes não geraram ocorrências, decidimos por manter o modelo final sem alterações."
   ]
  },
  {
   "cell_type": "markdown",
   "metadata": {},
   "source": [
    "##### Seleção do Modelo Final:\n",
    "Podemos confirmar a escolha do modelo final, comparando-se os índices AIC, BIC e  $𝑅^2_𝑎$ , conforme tabela abaixo. O modelo escolhido (número 7) foi um dos que apresentaram os melhores índices ($𝑅^2_𝑎$ entre um dos maiores valroes e  com os menores AIC, BIC) e, além disso, melhorou o problema de alto fator de inflação de variância (VIF) encontrado no modelo 6."
   ]
  },
  {
   "cell_type": "markdown",
   "metadata": {},
   "source": [
    "Modelo | Variáveis                                               | AIC   | BIC   | $$R^2_a$$\n",
    "-------|---------------------------------------------------------|-------|-------|--------\n",
    "1      | tamanho                                                 | 2705  | 2711  | 63,8%\n",
    "2      | tamanho, homem, acima45, todas as interações            | 2702  | 2730  | 65,0%\n",
    "3      | tamanho, homem, acima45, interações de 1a ordem         | 2700  | 2724  | 65,2%\n",
    "4      | tamanho, homem, acima45, tamanho*acima45, homem*acima45 | 2700  | 2721  | 65,1%\n",
    "5      | tamanho, homem, acima45, tamanho*acima45                | 2700  | 2717  | 64,9%\n",
    "6      | tamanho, homem, acima45, sem interações                 | 2699  | 2713  | 64,8%\n",
    "7      | tamanho_p, homem, acima45, sem interações               | 2699  | 2713  | 64,8%\n",
    "\n",
    "\n",
    "\n",
    "Modelo escolhido para interpretação dos resultados:\n",
    "\n",
    "<img src='.\\img\\img25.gif'>"
   ]
  },
  {
   "cell_type": "markdown",
   "metadata": {},
   "source": [
    "#### Interpretação dos resultados:\n",
    "\n",
    "1) Intercepto: 1282.97[g] é o valor esperado do peso cerebral para indíviduos do gênero feminino (homem = 0) com idade menor que 45 anos (acima45 = 0) e que tenham o tamanho da cabeça com os valores de média e desvio padrão sendo 3634[cm3] e 364[cm3], respectivamente.\n",
    "\n",
    "2) Tamanho_p: 89[g] é o aumento esperado do peso cerebral para cada aumento no tamanho padronizado da cabeça[cm3], ou seja, esse crescimento padronizado é equivalente ao tamanho da cabeça multiplicado pelo desvio padrão menos sua média. E para estimar esse valor, devemos considerar indivíduos de um mesmo gênero (seja ele qual for) e uma mesma faixa etária (maior que 45 anos ou menor que 45 anos).\n",
    "\n",
    "3) Homem: 22.5[g] é quanto o peso cerebral de um indivíduo irá variar quando considerarmos apenas seu gênero (masculino ou feminino) para um mesmo tamanho de cabeça com valores de média e desvio padrão (3634[cm3] e 364[cm3], respectivamente) e para uma mesma faixa etária (classificada em maior que 45 anos ou menor que 45 anos).  \n",
    "\n",
    "4) Acima45: -23.9[g] é quanto o peso cerebral de um indivíduo irá variar quando considerarmos apenas sua faixa etária (maior que 45 anos ou menor que 45 anos) para um mesmo tamanho de cabeça com valores de média e desvio padrão (3634[cm3] e 364[cm3], respectivamente) e para um mesmo gênero (seja ele qual for).  "
   ]
  },
  {
   "cell_type": "markdown",
   "metadata": {},
   "source": [
    "### O tamanho da cabeça é preditor do peso cerebral...\n",
    "\n",
    "### Resposta: \n",
    "Sim. \n",
    "\n",
    "Olhando para o modelo 1, onde temos apenas o tamanho da cabeça como variável preditora, observamos um $R^2_{ajustado}$ = 63.8%, ou seja, apenas essa variável consegue explicar mais de 60% dos valores obtidos para o peso do cérebro, logo, ele pode ser considerado sim um preditor de Peso."
   ]
  },
  {
   "cell_type": "markdown",
   "metadata": {},
   "source": [
    "### ...e, neste caso, há diferença nessa relação entre os sexos e entre os grupos etários?\n",
    "\n",
    "### Resposta:\n",
    "\n",
    "Ao considerarmos as variáveis gênero e faixa etária como parte do modelo final, podemos concluir que existe sim uma relação que ajuda a explicar um pouco da variável resposta peso do cérebro, porém, algumas considerações podem ser feitas para entendermos qual o impacto que elas geram na estimativa da variável resposta e entender se há uma diferença significativa nos resultados. \n",
    "\n",
    "##### Entre os sexos:\n",
    "O peso médio cerebral da nossa amostra é cerca de 1282[g] e o $\\beta$ do modelo apresenta um valor de 22[g], ou seja, ele é um percentual muito pequeno do peso cerebral, logo, isso indica que ele não gera muito impacto no resultado caso o indivíduo seja homem ou mulher. Além disso, temos também um intervalo de confiança variando de 0.7 até 44, que também não nos diz muita coisa, uma vez que gera uma incerteza muito grande e diminui nossa confiança na variável estimada.\n",
    "\n",
    "Portanto, concluímos que para os resultados encontrados na predição do peso a diferença devido ao gênero não é significativa. \n",
    "\n",
    "##### Entre os grupos etários:\n",
    "Podemos fazer uma análise similar para o caso dos grupos etários. O $\\beta$ do modelo indica um percentual pequeno na variação do peso cerebral se o indivíduo estiver acima ou abaixo dos 45 anos. Analisando o intervalo de confiança (-42 até -5), também gera incerteza e pouca confiança na variável.\n",
    "\n",
    "Portanto, concluímos novamente que para os resultados encontrados na predição do peso a diferença devido à faixa etária não é significativa.\n",
    "\n",
    "\n",
    "##### Resumo:\n",
    "\n",
    "Em resumo, temos que o tamanho da cabeça é o principal preditor do peso do cérebro e que, apesar do gênero e faixa etária terem uma relação que explica um pouco da variável resposta, seus valores não são significativos o suficiente para gerar uma diferença nos resultados do modelo."
   ]
  },
  {
   "cell_type": "markdown",
   "metadata": {},
   "source": [
    "### 3) Estime o peso médio do cérebro de homens e de mulheres (pontual e intervalar).\n",
    "\n",
    "Como estamos trabalhando com amostras, iremos utilizar os estimadores de parâmetros para verificar o peso médio do cérebro. Para a estimação pontual iremos utilizar o método da máxima verossimilhança (MV).\n",
    "\n",
    "Como vimos que os dados para homens e mulheres são variáveis independentes e com distribuição normal N($\\mu,\\sigma^2$), temos que os estimadores são:\n",
    "\n",
    "$$\n",
    "\\hat{\\mu} = \\bar{X}\n",
    "$$\n",
    "\n",
    "$$\n",
    "\\hat{\\sigma}^2 = \\sum_{i=1}^n{(X_i - \\bar{X})^2 \\over n}\n",
    "$$\n",
    "\n",
    "Com isso, a estimativa do peso médio pontual será dado pela própria média amostral:\n",
    "\n",
    "### Resposta: \n",
    "\n",
    "Pontual:\n",
    "\n",
    "<img src='.\\img\\img26.gif'>"
   ]
  },
  {
   "cell_type": "markdown",
   "metadata": {},
   "source": [
    "Para estimação intervalar iremos utilizar a quantidade pivotal com variância populacional desconhecida. \n",
    "\n",
    "Assim:\n",
    "\n",
    "$$\n",
    "{\\bar{X} - \\mu \\over {S \\over \\sqrt[]{n}}} \\text { ~ } t_{(n-1)}\n",
    "$$\n",
    "\n",
    "onde S: desvio-padrão amostral e distribuição t com n-1 graus de liberdade.\n",
    "\n",
    "Construiremos o intervalo de confiança de (1-$\\alpha$) = 0.95 para a média: $IC_{\\mu}$(95%). \n",
    "\n",
    "Logo, temos:\n",
    "\n",
    "$$\n",
    "P(\\text{?} \\leq {\\bar{X} - \\mu \\over {S \\over \\sqrt[]{n}}} \\leq \\text{?}) \\text{ = } 0.95\n",
    "$$\n",
    "\n",
    "Intervalo à esquerda da curva: -1.9599639845400545<br>\n",
    "Intervalo à direita da curva: 1.959963984540054<br>"
   ]
  },
  {
   "cell_type": "markdown",
   "metadata": {},
   "source": [
    "Aplicando os ajustes para obtermos o intervalo de confiança da média:\n",
    "\n",
    "* multiplicar por: $\\sigma \\over \\sqrt[]{n}$\n",
    "\n",
    "* subtrair: $\\bar{X}$\n",
    "\n",
    "* multiplicar por (-1), invertendo o sinal da inequação\n",
    "\n",
    "$$\n",
    "P(\\bar{X} - {1.96 \\cdot S \\over \\sqrt[]{n}}  \\leq \\mu \\leq \\bar{X} + {1.96 \\cdot S \\over \\sqrt[]{n}}) \\text{ = } 0.95\n",
    "$$\n",
    "\n",
    "O cálculo do intervalo será executado pela função do Python DescrStatsW, com os seguintes parâmetros:\n",
    "* $\\alpha$ = 0.05\n",
    "\n",
    "### Resposta:\n",
    "\n",
    "Intervalar:\n",
    "\n",
    "<img src='.\\img\\img27.gif'>"
   ]
  }
 ],
 "metadata": {
  "kernelspec": {
   "display_name": "Python 3",
   "language": "python",
   "name": "python3"
  },
  "language_info": {
   "codemirror_mode": {
    "name": "ipython",
    "version": 3
   },
   "file_extension": ".py",
   "mimetype": "text/x-python",
   "name": "python",
   "nbconvert_exporter": "python",
   "pygments_lexer": "ipython3",
   "version": "3.7.6"
  },
  "toc": {
   "base_numbering": 1,
   "nav_menu": {},
   "number_sections": true,
   "sideBar": true,
   "skip_h1_title": false,
   "title_cell": "Table of Contents",
   "title_sidebar": "Contents",
   "toc_cell": false,
   "toc_position": {},
   "toc_section_display": true,
   "toc_window_display": false
  }
 },
 "nbformat": 4,
 "nbformat_minor": 2
}
