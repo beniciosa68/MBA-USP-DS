{
 "cells": [
  {
   "cell_type": "markdown",
   "metadata": {},
   "source": [
    "# <span style=\"color:blue\"> MBA em Ciência de Dados</span>\n",
    "# <span style=\"color:blue\">Estatística para Ciência de Dados</span>\n",
    "\n",
    "## <span style=\"color:blue\">Avaliação Final</span>\n",
    "\n",
    "Aluno: Benicio Ramos Magalhaes\n",
    "\n",
    "**Material Produzido por Mariana Cúri**<br>\n",
    "**Cemeai - ICMC/USP São Carlos**"
   ]
  },
  {
   "cell_type": "markdown",
   "metadata": {},
   "source": [
    "<font color='red'> As respostas devem ser fornecidas no Moodle. O notebook é apenas para a implementação dos códigos que fornecerão as respostas</font>"
   ]
  },
  {
   "cell_type": "markdown",
   "metadata": {},
   "source": [
    "Os dados do arquivo Brain, em anexo, referem-se ao peso do cérebro (g), tamanho da cabeça (cm3) de 237 adultos, identificados por sexo e grupo etário. O estudo teve por objetivo verificar se:\n",
    "\n",
    "<b>1) Há diferença no peso cerebral entre os sexos? E entre os grupos etários?\n",
    "\n",
    "2) O tamanho da cabeça é preditor do peso cerebral e, neste caso, há diferença nessa relação entre os sexos e entre os grupos etários?\n",
    "\n",
    "3) Estime o peso médio do cérebro de homens e de mulheres (pontual e intervalar).</b>\n",
    "\n",
    "Interprete seus resultados e verifique se as suposições dos métodos são adequadas a estes dados.\n",
    "\n",
    "Se uma das suas respostas (aos itens 1, 2 ou 3) aplicar, além da estatística clássica, também a inferencial (de maneira adequada, claro), sua nota será acrescida de 1 ponto (ou seja, sua prova fica valendo 11 pontos).\n",
    "\n",
    "O formato de entrega será de dois arquivos: \n",
    "\n",
    "1 PDF, com os resultados resumidos e comentados\n",
    "e outro em Jupyter Notebook, com os códigos usados para a obtenção dos resultados. Este notebook, deve ser comentado de forma a facilmente identificar os códigos de cada análise."
   ]
  },
  {
   "cell_type": "code",
   "execution_count": 277,
   "metadata": {},
   "outputs": [],
   "source": [
    "#bibliotecas\n",
    "import math\n",
    "import numpy as np\n",
    "import pandas as pd\n",
    "import seaborn as sns\n",
    "import scipy.stats as stats\n",
    "import statsmodels.api as sm\n",
    "import matplotlib.pyplot as plt\n",
    "import statsmodels.stats.api as sms\n",
    "import statsmodels.formula.api as smf\n",
    "\n",
    "from scipy.stats import t\n",
    "from scipy.stats import f\n",
    "from scipy.stats import sem\n",
    "from scipy.stats import norm\n",
    "from scipy.stats import kstest\n",
    "from scipy.stats import levene\n",
    "from scipy.stats import shapiro\n",
    "from scipy.stats import ks_2samp\n",
    "from scipy.stats import anderson\n",
    "from scipy.stats import probplot\n",
    "from scipy.stats import ttest_ind\n",
    "from statsmodels.formula.api import ols\n",
    "from scipy.stats import chi2_contingency\n",
    "from statsmodels.stats.stattools import durbin_watson\n",
    "from statsmodels.stats.outliers_influence import variance_inflation_factor"
   ]
  },
  {
   "cell_type": "code",
   "execution_count": 175,
   "metadata": {},
   "outputs": [
    {
     "data": {
      "text/html": [
       "<div>\n",
       "<style scoped>\n",
       "    .dataframe tbody tr th:only-of-type {\n",
       "        vertical-align: middle;\n",
       "    }\n",
       "\n",
       "    .dataframe tbody tr th {\n",
       "        vertical-align: top;\n",
       "    }\n",
       "\n",
       "    .dataframe thead th {\n",
       "        text-align: right;\n",
       "    }\n",
       "</style>\n",
       "<table border=\"1\" class=\"dataframe\">\n",
       "  <thead>\n",
       "    <tr style=\"text-align: right;\">\n",
       "      <th></th>\n",
       "      <th>Homem</th>\n",
       "      <th>Acima45</th>\n",
       "      <th>Tamanho</th>\n",
       "      <th>Peso</th>\n",
       "    </tr>\n",
       "  </thead>\n",
       "  <tbody>\n",
       "    <tr>\n",
       "      <th>count</th>\n",
       "      <td>237.000000</td>\n",
       "      <td>237.000000</td>\n",
       "      <td>237.000000</td>\n",
       "      <td>237.000000</td>\n",
       "    </tr>\n",
       "    <tr>\n",
       "      <th>mean</th>\n",
       "      <td>0.565401</td>\n",
       "      <td>0.535865</td>\n",
       "      <td>3633.991561</td>\n",
       "      <td>1282.873418</td>\n",
       "    </tr>\n",
       "    <tr>\n",
       "      <th>std</th>\n",
       "      <td>0.496753</td>\n",
       "      <td>0.499768</td>\n",
       "      <td>365.261422</td>\n",
       "      <td>120.340446</td>\n",
       "    </tr>\n",
       "    <tr>\n",
       "      <th>min</th>\n",
       "      <td>0.000000</td>\n",
       "      <td>0.000000</td>\n",
       "      <td>2720.000000</td>\n",
       "      <td>955.000000</td>\n",
       "    </tr>\n",
       "    <tr>\n",
       "      <th>25%</th>\n",
       "      <td>0.000000</td>\n",
       "      <td>0.000000</td>\n",
       "      <td>3389.000000</td>\n",
       "      <td>1207.000000</td>\n",
       "    </tr>\n",
       "    <tr>\n",
       "      <th>50%</th>\n",
       "      <td>1.000000</td>\n",
       "      <td>1.000000</td>\n",
       "      <td>3614.000000</td>\n",
       "      <td>1280.000000</td>\n",
       "    </tr>\n",
       "    <tr>\n",
       "      <th>75%</th>\n",
       "      <td>1.000000</td>\n",
       "      <td>1.000000</td>\n",
       "      <td>3876.000000</td>\n",
       "      <td>1350.000000</td>\n",
       "    </tr>\n",
       "    <tr>\n",
       "      <th>max</th>\n",
       "      <td>1.000000</td>\n",
       "      <td>1.000000</td>\n",
       "      <td>4747.000000</td>\n",
       "      <td>1635.000000</td>\n",
       "    </tr>\n",
       "  </tbody>\n",
       "</table>\n",
       "</div>"
      ],
      "text/plain": [
       "            Homem     Acima45      Tamanho         Peso\n",
       "count  237.000000  237.000000   237.000000   237.000000\n",
       "mean     0.565401    0.535865  3633.991561  1282.873418\n",
       "std      0.496753    0.499768   365.261422   120.340446\n",
       "min      0.000000    0.000000  2720.000000   955.000000\n",
       "25%      0.000000    0.000000  3389.000000  1207.000000\n",
       "50%      1.000000    1.000000  3614.000000  1280.000000\n",
       "75%      1.000000    1.000000  3876.000000  1350.000000\n",
       "max      1.000000    1.000000  4747.000000  1635.000000"
      ]
     },
     "execution_count": 175,
     "metadata": {},
     "output_type": "execute_result"
    }
   ],
   "source": [
    "#carregando dados originais\n",
    "\n",
    "data = pd.read_csv('.\\data\\Brain.csv')\n",
    "data.describe()"
   ]
  },
  {
   "cell_type": "code",
   "execution_count": 185,
   "metadata": {},
   "outputs": [],
   "source": [
    "#separando as variáveis\n",
    "\n",
    "#series de peso\n",
    "peso_homem = data['Peso'][data['Homem']==1]\n",
    "peso_mulher = data['Peso'][data['Homem']==0]\n",
    "peso_idade_maior45 = data['Peso'][data['Acima45']==1]\n",
    "peso_idade_menor45 = data['Peso'][data['Acima45']==0]"
   ]
  },
  {
   "cell_type": "markdown",
   "metadata": {},
   "source": [
    "### 1) Há diferença no peso cerebral entre os sexos? E entre os grupos etários?\n",
    "\n",
    "Como o objetivo é comparar duas populações com relação a uma variável quantitativa (peso cerebral) baseado numa amostra, o ideal é usarmos um teste de hipótese. Portanto, iremos verificar se existe diferença no peso cerebral entre os sexos aplicando um teste de hipótese para igualdade das médias. \n",
    "\n",
    "Para isto, algumas suposições que devemos verificar: \n",
    "* Se existe ou não dependência entre as amostras (medições pareadas ou não pareadas)\n",
    "* Se os dados seguem uma distribuição normal.\n",
    "\n",
    "OBS: Após análise para os sexos, iremos fazer a mesma análise para faixa etária.\n",
    "\n",
    "#### Passos para o teste de hipótese:\n",
    "\n",
    "###### a) Especificar as hipóteses H$_0$ e H$_a$;\n",
    "<font color='blue'><b>\n",
    "H$_0$: $\\mu_1$ = $\\mu_2$ -> Peso cerebral do homem é igual ao peso cerebral da mulher (hipótese nula) <br>\n",
    "H$_a$: $\\mu_1$ $\\neq$ $\\mu_2$ -> Peso cerebral do homem não é igual ao peso cerebral da mulher (hipótese alternativa)<br>\n",
    "</font></b>\n",
    "###### b) Especificar a estatística do teste e sua distribuição, sob H$_0$;"
   ]
  },
  {
   "cell_type": "code",
   "execution_count": 3,
   "metadata": {},
   "outputs": [
    {
     "name": "stdout",
     "output_type": "stream",
     "text": [
      "Estatística dos dados para Homem:\n"
     ]
    },
    {
     "data": {
      "text/plain": [
       "count     134.000000\n",
       "mean     1331.858209\n",
       "std       108.933390\n",
       "min      1120.000000\n",
       "25%      1252.750000\n",
       "50%      1313.500000\n",
       "75%      1400.000000\n",
       "max      1635.000000\n",
       "Name: Peso, dtype: float64"
      ]
     },
     "execution_count": 3,
     "metadata": {},
     "output_type": "execute_result"
    }
   ],
   "source": [
    "print('Estatística dos dados para Homem:')\n",
    "peso_homem.describe()"
   ]
  },
  {
   "cell_type": "code",
   "execution_count": 4,
   "metadata": {},
   "outputs": [
    {
     "name": "stdout",
     "output_type": "stream",
     "text": [
      "Estatística dos dados para Mulher:\n"
     ]
    },
    {
     "data": {
      "text/plain": [
       "count     103.000000\n",
       "mean     1219.145631\n",
       "std       103.829933\n",
       "min       955.000000\n",
       "25%      1146.000000\n",
       "50%      1220.000000\n",
       "75%      1290.000000\n",
       "max      1520.000000\n",
       "Name: Peso, dtype: float64"
      ]
     },
     "execution_count": 4,
     "metadata": {},
     "output_type": "execute_result"
    }
   ],
   "source": [
    "print('Estatística dos dados para Mulher:')\n",
    "peso_mulher.describe()"
   ]
  },
  {
   "cell_type": "markdown",
   "metadata": {},
   "source": [
    "\n",
    "Vamos verificar a normalidade da distribuição com a realização de alguns testes.<br>\n",
    "\n",
    "Vamos considerar os seguintes testes para distribuição normal:<br>\n",
    "* Kolmogorov-Smirnov\n",
    "* Anderson-Darling\n",
    "* Shapiro-Wilk"
   ]
  },
  {
   "cell_type": "code",
   "execution_count": 5,
   "metadata": {},
   "outputs": [],
   "source": [
    "#Teste de Kolmogorov-Smirnov:\n",
    "\n",
    "ks_stat_homem, ks_p_homem = kstest(peso_homem,'norm',args=(peso_homem.describe()[1],peso_homem.describe()[2]),N=len(peso_homem))\n",
    "ks_stat_mulher, ks_p_mulher = kstest(peso_mulher,'norm',args=(peso_mulher.describe()[1],peso_mulher.describe()[2]),N=len(peso_mulher))\n",
    "\n",
    "#para número da amostra > 50:\n",
    "ks_val_homem = 1.36/(np.sqrt(len(peso_homem)))\n",
    "ks_val_mulher = 1.36/(np.sqrt(len(peso_mulher)))\n",
    "\n",
    "ks_res_homem = 'Distribuição é normal' if ks_val_homem >= ks_stat_homem else 'Distribuição NÃO é normal'\n",
    "ks_res_mulher = 'Distribuição é normal' if ks_val_mulher >= ks_stat_mulher else 'Distribuição NÃO é normal'"
   ]
  },
  {
   "cell_type": "code",
   "execution_count": 6,
   "metadata": {},
   "outputs": [],
   "source": [
    "#Teste Anderson-Darling:\n",
    "\n",
    "ad_stat_homem, ad_p_homem, ad_ic_homem = anderson(peso_homem,'norm')\n",
    "ad_stat_mulher, ad_p_mulher, ad_ic_mulher = anderson(peso_mulher,'norm')\n",
    "\n",
    "#para ic 5%\n",
    "ad_res_homem = 'Distribuição é normal' if ad_stat_homem < ad_p_homem[2] else 'Distribuição NÃO é normal'\n",
    "ad_res_mulher = 'Distribuição é normal' if ad_stat_mulher < ad_p_mulher[2] else 'Distribuição NÃO é normal'"
   ]
  },
  {
   "cell_type": "code",
   "execution_count": 7,
   "metadata": {},
   "outputs": [],
   "source": [
    "#Teste de Shapiro-Wilk:\n",
    "\n",
    "sh_stat_homem, sh_p_homem = shapiro(peso_homem)\n",
    "sh_stat_mulher, sh_p_mulher = shapiro(peso_mulher)\n",
    "\n",
    "#para ic 5%\n",
    "sh_res_homem = 'Distribuição é normal' if sh_p_homem > 0.05 else 'Distribuição NÃO é normal'\n",
    "sh_res_mulher = 'Distribuição é normal' if sh_p_mulher > 0.05 else 'Distribuição NÃO é normal'"
   ]
  },
  {
   "cell_type": "code",
   "execution_count": 8,
   "metadata": {},
   "outputs": [
    {
     "name": "stdout",
     "output_type": "stream",
     "text": [
      "Resultados dos testes de normalidade para homem:\n",
      "\n",
      "|----------Teste----------|----------Estatística--------|----------P-Valor----------|----------Resultado (IC 5%)----------|\n",
      "|    Kolmogorov-Smirnov   |     0.07319296053954616     |     0.4535070134115867    |         Distribuição é normal       |\n",
      "|-------------------------|-----------------------------|---------------------------|-------------------------------------|\n",
      "|    Anderson-Darling     |     0.7592588134145046      |     0.765                 |         Distribuição é normal       |\n",
      "|-------------------------|-----------------------------|---------------------------|-------------------------------------|\n",
      "|    Shapiro-Wilk         |     0.9780169129371643      |     0.02875436283648014   |         Distribuição NÃO é normal   |\n",
      "|-------------------------|-----------------------------|---------------------------|-------------------------------------|\n"
     ]
    }
   ],
   "source": [
    "#Resultados dos testes de normalidade HOMEM\n",
    "print('Resultados dos testes de normalidade para homem:')\n",
    "print()\n",
    "print('|----------Teste----------|----------Estatística--------|----------P-Valor----------|----------Resultado (IC 5%)----------|')\n",
    "print('|    Kolmogorov-Smirnov   |','   ',ks_stat_homem,'    |','   ',ks_p_homem,'   |','       ',ks_res_homem,'      |')\n",
    "print('|-------------------------|-----------------------------|---------------------------|-------------------------------------|')\n",
    "print('|    Anderson-Darling     |','   ',ad_stat_homem,'     |','   ',ad_p_homem[2],'                |','       ',ad_res_homem,'      |')\n",
    "print('|-------------------------|-----------------------------|---------------------------|-------------------------------------|')\n",
    "print('|    Shapiro-Wilk         |','   ',sh_stat_homem,'     |','   ',sh_p_homem,'  |','       ',sh_res_homem,'  |')\n",
    "print('|-------------------------|-----------------------------|---------------------------|-------------------------------------|')"
   ]
  },
  {
   "cell_type": "markdown",
   "metadata": {},
   "source": [
    "O resultado de 2 testes foram favoráveis a dizer que os dados tem distribuição normal dado o intervalo de confiança de 5%.\n",
    "Assim, iremos considerar o peso para homem com uma distribuição normal gaussiana."
   ]
  },
  {
   "cell_type": "code",
   "execution_count": 9,
   "metadata": {},
   "outputs": [
    {
     "name": "stdout",
     "output_type": "stream",
     "text": [
      "Resultados dos testes de normalidade para mulher:\n",
      "\n",
      "|----------Teste----------|----------Estatística--------|----------P-Valor----------|----------Resultado (IC 5%)----------|\n",
      "|    Kolmogorov-Smirnov   |     0.04574294927683009     |     0.9823678682451854    |         Distribuição é normal       |\n",
      "|-------------------------|-----------------------------|---------------------------|-------------------------------------|\n",
      "|    Anderson-Darling     |     0.14292747443232656     |     0.759                 |         Distribuição é normal       |\n",
      "|-------------------------|-----------------------------|---------------------------|-------------------------------------|\n",
      "|    Shapiro-Wilk         |     0.9959982633590698      |     0.9919323921203613    |         Distribuição é normal       |\n",
      "|-------------------------|-----------------------------|---------------------------|-------------------------------------|\n"
     ]
    }
   ],
   "source": [
    "#Resultados dos testes de normalidade MULHER\n",
    "print('Resultados dos testes de normalidade para mulher:')\n",
    "print()\n",
    "print('|----------Teste----------|----------Estatística--------|----------P-Valor----------|----------Resultado (IC 5%)----------|')\n",
    "print('|    Kolmogorov-Smirnov   |','   ',ks_stat_mulher,'    |','   ',ks_p_mulher,'   |','       ',ks_res_mulher,'      |')\n",
    "print('|-------------------------|-----------------------------|---------------------------|-------------------------------------|')\n",
    "print('|    Anderson-Darling     |','   ',ad_stat_mulher,'    |','   ',ad_p_mulher[2],'                |','       ',ad_res_mulher,'      |')\n",
    "print('|-------------------------|-----------------------------|---------------------------|-------------------------------------|')\n",
    "print('|    Shapiro-Wilk         |','   ',sh_stat_mulher,'     |','   ',sh_p_mulher,'   |','       ',sh_res_mulher,'      |')\n",
    "print('|-------------------------|-----------------------------|---------------------------|-------------------------------------|')"
   ]
  },
  {
   "cell_type": "markdown",
   "metadata": {},
   "source": [
    "Os resultados de todos os testes foram favoráveis a dizer que os dados tem distribuição normal dado o intervalo de confiança de 5%. Assim, iremos considerar o peso para mulher com uma distribuição normal gaussiana.\n",
    "\n",
    "Considerando a natureza dos dados, as medições sugerem que as amostras são independentes, pois a medição do peso do cérebro são feitos em indivíduos diferentes e, portanto, não aparentam ter relação de dependência. Para fundamentarmos melhor essa afirmação, iremos realizar um teste Z para a hipótese nula de que a média das amostras são iguais."
   ]
  },
  {
   "cell_type": "code",
   "execution_count": 280,
   "metadata": {},
   "outputs": [
    {
     "name": "stdout",
     "output_type": "stream",
     "text": [
      "Resultado: 0.9999769904283696\n",
      "Amostras independentes\n"
     ]
    }
   ],
   "source": [
    "#teste Z de dependência\n",
    "\n",
    "#para este caso vamos considerar peso como uma variável quantitativa e compará-la entre os dois sexos.\n",
    "stat_peso_homem = [np.mean(peso_homem),np.std(peso_homem),np.std(peso_homem)**2]\n",
    "stat_peso_mulher = [np.mean(peso_mulher),np.std(peso_mulher),np.std(peso_mulher)**2]\n",
    "\n",
    "#valor da estatística do teste\n",
    "Z = (stat_peso_homem[0]-stat_peso_mulher[0])/(math.sqrt((stat_peso_homem[2])/ math.sqrt(len(peso_homem)+len(peso_mulher))))  # estatístiva do teste Z\n",
    "\n",
    "z_pc = norm.ppf(0.05)  #cálculo do ponto crítico (x_corte)\n",
    "z_pvalor = norm.cdf(Z)  #cálculo do p-valor\n",
    "\n",
    "\n",
    "z_res = 'Amostras independentes' if z_pvalor > 0.05 else 'Amostras dependentes'\n",
    "\n",
    "print('Resultado:',z_pvalor)\n",
    "print(z_res)"
   ]
  },
  {
   "cell_type": "markdown",
   "metadata": {},
   "source": [
    "###### c) Fixar o nível de significância do teste ($\\alpha$)\n",
    "   Neste caso, iremos considerar o nível de significância do teste de 5%, ou seja, $\\alpha$ = 0.05\n",
    "\n",
    "###### d) Calcular o p-valor (ou região crítica do teste)\n",
    "Como já concluímos que as amostras são independentes e ambas seguem distribuição normal, precisamos avaliar agora se existe uma relação de igualdade das variâncias para decidir qual teste t de Student para médias de duas amostras iremos aplicar. Para isso, iremos aplicar um teste de levene."
   ]
  },
  {
   "cell_type": "code",
   "execution_count": 11,
   "metadata": {},
   "outputs": [
    {
     "name": "stdout",
     "output_type": "stream",
     "text": [
      "Resultado: 0.767016022271913\n",
      "Não existe grande diferença na variância.\n"
     ]
    }
   ],
   "source": [
    "#teste de levene\n",
    "\n",
    "lv_stat, lv_p = levene(peso_homem, peso_mulher)\n",
    "\n",
    "lv_res = 'Não existe grande diferença na variância.' if lv_p > 0.05 else 'Existe diferença na variância.'\n",
    "\n",
    "print('Resultado:',lv_p)\n",
    "print(lv_res)"
   ]
  },
  {
   "cell_type": "markdown",
   "metadata": {},
   "source": [
    "Iremos agora fazer o teste de hipótese das médias da variável média do peso cerebral entre os sexos serem iguais. Para isso, será realizado o teste t de Student (bicaudal) para média de duas populações Normais com variâncias iguais."
   ]
  },
  {
   "cell_type": "code",
   "execution_count": 12,
   "metadata": {},
   "outputs": [
    {
     "name": "stdout",
     "output_type": "stream",
     "text": [
      "Resultado: 3.919241152559185e-14\n",
      "Rejeita hipótese H0\n"
     ]
    }
   ],
   "source": [
    "#teste t de Student\n",
    "\n",
    "t_stat, t_p = ttest_ind(peso_homem, peso_mulher)\n",
    "\n",
    "t_res = 'Aceita hipótese H0' if t_p > 0.05 else 'Rejeita hipótese H0'\n",
    "\n",
    "print('Resultado:',t_p)\n",
    "print(t_res)"
   ]
  },
  {
   "cell_type": "markdown",
   "metadata": {},
   "source": [
    "###### e) Decidir entre H$_0$ e H$_a$, comparando com o p-valor com $\\alpha$\n",
    "   Considerando os resultados obtidos no teste t de Student, precisamos rejeitar a hipótese H0, ou seja, com $\\alpha$ = 0.05 podemos afirmar que o peso cerebral do homem não é igual ao peso cerebral da mulher. \n",
    "   \n",
    "   \n",
    "### Resposta:\n",
    "Sim. Existe diferença no peso cerebral entre os sexos."
   ]
  },
  {
   "cell_type": "markdown",
   "metadata": {},
   "source": [
    "### E entre os grupos etários?\n",
    "   Realizando mesma análise anterior para os grupos etários.\n",
    "   \n",
    "   \n",
    "   <font color='blue'><b>\n",
    "H$_0$: $\\mu_1$ = $\\mu_2$ -> O peso cerebral de pessoas acima de 45 anos é igual ao de pessoas abaixo de 45 anos. (hipótese nula) <br>\n",
    "H$_a$: $\\mu_1$ $\\neq$ $\\mu_2$ -> O peso cerebral de pessoas acima de 45 anos não é igual ao de pessoas abaixo de 45 anos. (hipótese alternativa)<br>\n",
    "</font></b>"
   ]
  },
  {
   "cell_type": "code",
   "execution_count": 13,
   "metadata": {},
   "outputs": [
    {
     "name": "stdout",
     "output_type": "stream",
     "text": [
      "Idade maior que 45 anos:\n",
      "count     127.000000\n",
      "mean     1263.937008\n",
      "std       120.925712\n",
      "min       955.000000\n",
      "25%      1180.000000\n",
      "50%      1250.000000\n",
      "75%      1332.500000\n",
      "max      1620.000000\n",
      "Name: Peso, dtype: float64\n",
      "\n",
      "Idade menor que 45 anos:\n",
      "count     110.000000\n",
      "mean     1304.736364\n",
      "std       116.409959\n",
      "min      1027.000000\n",
      "25%      1227.500000\n",
      "50%      1301.000000\n",
      "75%      1370.750000\n",
      "max      1635.000000\n",
      "Name: Peso, dtype: float64\n",
      "\n",
      "\n",
      "Resultados dos testes de normalidade para idade maior que 45 anos:\n",
      "\n",
      "|----------Teste----------|----------Estatística--------|----------P-Valor----------|----------Resultado (IC 5%)----------|\n",
      "|    Kolmogorov-Smirnov   |     0.054175986782391106    |     0.8500369044822889    |         Distribuição é normal       |\n",
      "|-------------------------|-----------------------------|---------------------------|-------------------------------------|\n",
      "|    Anderson-Darling     |     0.32573942729172245     |     0.764                 |         Distribuição é normal       |\n",
      "|-------------------------|-----------------------------|---------------------------|-------------------------------------|\n",
      "|    Shapiro-Wilk         |     0.9917106032371521      |     0.6554725170135498    |         Distribuição é normal       |\n",
      "|-------------------------|-----------------------------|---------------------------|-------------------------------------|\n",
      "\n",
      "Resultados dos testes de normalidade para idade menor que 45 anos:\n",
      "\n",
      "|----------Teste----------|----------Estatística--------|----------P-Valor----------|----------Resultado (IC 5%)----------|\n",
      "|    Kolmogorov-Smirnov   |     0.06000072085469621     |     0.8232879168286493    |         Distribuição é normal       |\n",
      "|-------------------------|-----------------------------|---------------------------|-------------------------------------|\n",
      "|    Anderson-Darling     |     0.41369054165920716     |     0.761                 |         Distribuição é normal       |\n",
      "|-------------------------|-----------------------------|---------------------------|-------------------------------------|\n",
      "|    Shapiro-Wilk         |     0.9877879619598389      |     0.42216619849205017   |         Distribuição é normal       |\n",
      "|-------------------------|-----------------------------|---------------------------|-------------------------------------|\n"
     ]
    }
   ],
   "source": [
    "#estatística e normalidade\n",
    "\n",
    "print('Idade maior que 45 anos:')\n",
    "print(peso_idade_maior45.describe())\n",
    "print()\n",
    "print('Idade menor que 45 anos:')\n",
    "print(peso_idade_menor45.describe())\n",
    "\n",
    "#Teste de Kolmogorov-Smirnov:\n",
    "\n",
    "ks_stat_maior45, ks_p_maior45 = kstest(peso_idade_maior45,'norm',args=(peso_idade_maior45.describe()[1],peso_idade_maior45.describe()[2]),N=len(peso_idade_maior45))\n",
    "ks_stat_menor45, ks_p_menor45 = kstest(peso_idade_menor45,'norm',args=(peso_idade_menor45.describe()[1],peso_idade_menor45.describe()[2]),N=len(peso_idade_menor45))\n",
    "\n",
    "#para número da amostra > 50:\n",
    "ks_val_maior45 = 1.36/(np.sqrt(len(peso_idade_maior45)))\n",
    "ks_val_menor45 = 1.36/(np.sqrt(len(peso_idade_menor45)))\n",
    "\n",
    "ks_res_maior45 = 'Distribuição é normal' if ks_val_maior45 >= ks_stat_maior45 else 'Distribuição NÃO é normal'\n",
    "ks_res_menor45 = 'Distribuição é normal' if ks_val_menor45 >= ks_stat_menor45 else 'Distribuição NÃO é normal'\n",
    "\n",
    "\n",
    "#Teste Anderson-Darling:\n",
    "\n",
    "ad_stat_maior45, ad_p_maior45, ad_ic_maior45 = anderson(peso_idade_maior45,'norm')\n",
    "ad_stat_menor45, ad_p_menor45, ad_ic_menor45 = anderson(peso_idade_menor45,'norm')\n",
    "\n",
    "#para ic 5%\n",
    "ad_res_maior45 = 'Distribuição é normal' if ad_stat_maior45 < ad_p_maior45[2] else 'Distribuição NÃO é normal'\n",
    "ad_res_menor45 = 'Distribuição é normal' if ad_stat_menor45 < ad_p_menor45[2] else 'Distribuição NÃO é normal'\n",
    "\n",
    "\n",
    "#Teste de Shapiro-Wilk:\n",
    "\n",
    "sh_stat_maior45, sh_p_maior45 = shapiro(peso_idade_maior45)\n",
    "sh_stat_menor45, sh_p_menor45 = shapiro(peso_idade_menor45)\n",
    "\n",
    "#para ic 5%\n",
    "sh_res_maior45 = 'Distribuição é normal' if sh_p_maior45 > 0.05 else 'Distribuição NÃO é normal'\n",
    "sh_res_menor45 = 'Distribuição é normal' if sh_p_menor45 > 0.05 else 'Distribuição NÃO é normal'\n",
    "\n",
    "print()\n",
    "print()\n",
    "print('Resultados dos testes de normalidade para idade maior que 45 anos:')\n",
    "print()\n",
    "print('|----------Teste----------|----------Estatística--------|----------P-Valor----------|----------Resultado (IC 5%)----------|')\n",
    "print('|    Kolmogorov-Smirnov   |','   ',ks_stat_maior45,'   |','   ',ks_p_maior45,'   |','       ',ks_res_maior45,'      |')\n",
    "print('|-------------------------|-----------------------------|---------------------------|-------------------------------------|')\n",
    "print('|    Anderson-Darling     |','   ',ad_stat_maior45,'    |','   ',ad_p_maior45[2],'                |','       ',ad_res_maior45,'      |')\n",
    "print('|-------------------------|-----------------------------|---------------------------|-------------------------------------|')\n",
    "print('|    Shapiro-Wilk         |','   ',sh_stat_maior45,'     |','   ',sh_p_maior45,'   |','       ',sh_res_maior45,'      |')\n",
    "print('|-------------------------|-----------------------------|---------------------------|-------------------------------------|')\n",
    "print()\n",
    "print('Resultados dos testes de normalidade para idade menor que 45 anos:')\n",
    "print()\n",
    "print('|----------Teste----------|----------Estatística--------|----------P-Valor----------|----------Resultado (IC 5%)----------|')\n",
    "print('|    Kolmogorov-Smirnov   |','   ',ks_stat_menor45,'    |','   ',ks_p_menor45,'   |','       ',ks_res_menor45,'      |')\n",
    "print('|-------------------------|-----------------------------|---------------------------|-------------------------------------|')\n",
    "print('|    Anderson-Darling     |','   ',ad_stat_menor45,'    |','   ',ad_p_menor45[2],'                |','       ',ad_res_menor45,'      |')\n",
    "print('|-------------------------|-----------------------------|---------------------------|-------------------------------------|')\n",
    "print('|    Shapiro-Wilk         |','   ',sh_stat_menor45,'     |','   ',sh_p_menor45,'  |','       ',sh_res_menor45,'      |')\n",
    "print('|-------------------------|-----------------------------|---------------------------|-------------------------------------|')"
   ]
  },
  {
   "cell_type": "code",
   "execution_count": 281,
   "metadata": {},
   "outputs": [
    {
     "name": "stdout",
     "output_type": "stream",
     "text": [
      "Resultado: 0.0919172475388757\n",
      "Amostras independentes\n"
     ]
    }
   ],
   "source": [
    "#teste Z de dependência\n",
    "\n",
    "#para este caso vamos considerar peso como uma variável quantitativa e compará-la entre os dois sexos.\n",
    "stat_peso_idade_maior45 = [np.mean(peso_idade_maior45),np.std(peso_idade_maior45),np.std(peso_idade_maior45)**2]\n",
    "stat_peso_idade_menor45 = [np.mean(peso_idade_menor45),np.std(peso_idade_menor45),np.std(peso_idade_menor45)**2]\n",
    "\n",
    "#valor da estatística do teste\n",
    "Z = (stat_peso_idade_maior45[0]-stat_peso_idade_menor45[0])/(math.sqrt((stat_peso_idade_maior45[2])/ math.sqrt(len(peso_idade_maior45)+len(peso_idade_menor45))))  # estatístiva do teste Z\n",
    "\n",
    "z_pc = norm.ppf(0.05)  #cálculo do ponto crítico (x_corte)\n",
    "z_pvalor = norm.cdf(Z)  #cálculo do p-valor\n",
    "\n",
    "\n",
    "z_res = 'Amostras independentes' if z_pvalor > 0.05 else 'Amostras dependentes'\n",
    "\n",
    "print('Resultado:',z_pvalor)\n",
    "print(z_res)"
   ]
  },
  {
   "cell_type": "markdown",
   "metadata": {},
   "source": [
    "Iremos considerar o nível de significância do teste de 5%, ou seja, $\\alpha$ = 0.05"
   ]
  },
  {
   "cell_type": "code",
   "execution_count": 15,
   "metadata": {},
   "outputs": [
    {
     "name": "stdout",
     "output_type": "stream",
     "text": [
      "Resultado: 0.008959602315452554\n",
      "Rejeita hipótese H0\n"
     ]
    }
   ],
   "source": [
    "#teste t de Student (bicaudal, independente e distribuição normal)\n",
    "\n",
    "t_stat_idade, t_p_idade = ttest_ind(peso_idade_maior45, peso_idade_menor45)\n",
    "\n",
    "t_res_idade = 'Aceita hipótese H0' if t_p_idade > 0.05 else 'Rejeita hipótese H0'\n",
    "\n",
    "print('Resultado:',t_p_idade)\n",
    "print(t_res_idade)"
   ]
  },
  {
   "cell_type": "markdown",
   "metadata": {},
   "source": [
    "Considerando os resultados obtidos no teste t de Student, precisamos rejeitar a hipótese H0, ou seja, com $\\alpha$ = 0.05 podemos afirmar que o peso cerebral de pessoas acima de 45 anos não é igual ao de pessoas abaixo de 45 anos.\n",
    "\n",
    "### Resposta:\n",
    "Sim. Existe diferença no peso cerebral entre os grupos etários."
   ]
  },
  {
   "cell_type": "markdown",
   "metadata": {},
   "source": [
    "### 2) O tamanho da cabeça é preditor do peso cerebral e, neste caso, há diferença nessa relação entre os sexos e entre os grupos etários?\n",
    "\n",
    "Inicialmente iremos verificar se o tamanho da cabeça é realmente preditor do peso cerebral, utilizando um modelo de regressão linear simples sendo X composto de uma única variável explicativa (tamanho da cabeça). A interpretação para este modelo nos ajudará a encontrar a resposta para essa primeira parte da pergunta."
   ]
  },
  {
   "cell_type": "code",
   "execution_count": 168,
   "metadata": {},
   "outputs": [
    {
     "name": "stdout",
     "output_type": "stream",
     "text": [
      "                            OLS Regression Results                            \n",
      "==============================================================================\n",
      "Dep. Variable:                   Peso   R-squared:                       0.639\n",
      "Model:                            OLS   Adj. R-squared:                  0.638\n",
      "Method:                 Least Squares   F-statistic:                     416.5\n",
      "Date:                Thu, 18 Jun 2020   Prob (F-statistic):           5.96e-54\n",
      "Time:                        01:00:06   Log-Likelihood:                -1350.3\n",
      "No. Observations:                 237   AIC:                             2705.\n",
      "Df Residuals:                     235   BIC:                             2711.\n",
      "Df Model:                           1                                         \n",
      "Covariance Type:            nonrobust                                         \n",
      "==============================================================================\n",
      "                 coef    std err          t      P>|t|      [0.025      0.975]\n",
      "------------------------------------------------------------------------------\n",
      "Intercept    325.5734     47.141      6.906      0.000     232.701     418.446\n",
      "Tamanho        0.2634      0.013     20.409      0.000       0.238       0.289\n",
      "==============================================================================\n",
      "Omnibus:                        8.329   Durbin-Watson:                   1.843\n",
      "Prob(Omnibus):                  0.016   Jarque-Bera (JB):                8.665\n",
      "Skew:                           0.366   Prob(JB):                       0.0131\n",
      "Kurtosis:                       3.584   Cond. No.                     3.66e+04\n",
      "==============================================================================\n",
      "\n",
      "Warnings:\n",
      "[1] Standard Errors assume that the covariance matrix of the errors is correctly specified.\n",
      "[2] The condition number is large, 3.66e+04. This might indicate that there are\n",
      "strong multicollinearity or other numerical problems.\n"
     ]
    }
   ],
   "source": [
    "#regressão linear simples\n",
    "#Modelo 1: Tamanho\n",
    "\n",
    "mod1 = ols('Peso ~ Tamanho',data=data)\n",
    "res1 = mod1.fit()\n",
    "print(res1.summary())"
   ]
  },
  {
   "cell_type": "markdown",
   "metadata": {},
   "source": [
    "O parâmetro $R^2_{Ajustado}$ nos diz que apenas com o Intercepto e Tamanho já temos 64% da variabilidade da variável Peso explicada, portanto, isso é um forte indicador de ser um preditor para a variável Peso. \n",
    "\n",
    "Iremos realizar também uma análise de correlação e dos gráficos de dispersão com dois objetivos:\n",
    "* Verificar a correlação entre Tamanho e Peso, para embasar melhor o fato de que Tamanho é preditor de Peso.\n",
    "* Verificar problemas de multicolineariadade e simplificar o modelo final. Se as variáveis preditoras apresentarem correlações altas entre si, resulta na possibilidade de termos fatores redundantes no modelo e isso poderá aumentar a variância dos coeficientes da regressão, tornando-os instáveis."
   ]
  },
  {
   "cell_type": "code",
   "execution_count": 51,
   "metadata": {},
   "outputs": [
    {
     "data": {
      "image/png": "[encoded data removed]",
      "text/plain": [
       "<Figure size 720x720 with 20 Axes>"
      ]
     },
     "metadata": {
      "needs_background": "light"
     },
     "output_type": "display_data"
    }
   ],
   "source": [
    "#Gráficos de dispersão entre todos os pares de variáveis e histogramas\n",
    "sns.pairplot(data ,diag_kind='hist')\n",
    "plt.show()"
   ]
  },
  {
   "cell_type": "code",
   "execution_count": 31,
   "metadata": {},
   "outputs": [
    {
     "data": {
      "text/html": [
       "<div>\n",
       "<style scoped>\n",
       "    .dataframe tbody tr th:only-of-type {\n",
       "        vertical-align: middle;\n",
       "    }\n",
       "\n",
       "    .dataframe tbody tr th {\n",
       "        vertical-align: top;\n",
       "    }\n",
       "\n",
       "    .dataframe thead th {\n",
       "        text-align: right;\n",
       "    }\n",
       "</style>\n",
       "<table border=\"1\" class=\"dataframe\">\n",
       "  <thead>\n",
       "    <tr style=\"text-align: right;\">\n",
       "      <th></th>\n",
       "      <th>Homem</th>\n",
       "      <th>Acima45</th>\n",
       "      <th>Tamanho</th>\n",
       "      <th>Peso</th>\n",
       "    </tr>\n",
       "  </thead>\n",
       "  <tbody>\n",
       "    <tr>\n",
       "      <th>Homem</th>\n",
       "      <td>1.000000</td>\n",
       "      <td>0.088652</td>\n",
       "      <td>0.514050</td>\n",
       "      <td>0.465266</td>\n",
       "    </tr>\n",
       "    <tr>\n",
       "      <th>Acima45</th>\n",
       "      <td>0.088652</td>\n",
       "      <td>1.000000</td>\n",
       "      <td>-0.105428</td>\n",
       "      <td>-0.169438</td>\n",
       "    </tr>\n",
       "    <tr>\n",
       "      <th>Tamanho</th>\n",
       "      <td>0.514050</td>\n",
       "      <td>-0.105428</td>\n",
       "      <td>1.000000</td>\n",
       "      <td>0.799570</td>\n",
       "    </tr>\n",
       "    <tr>\n",
       "      <th>Peso</th>\n",
       "      <td>0.465266</td>\n",
       "      <td>-0.169438</td>\n",
       "      <td>0.799570</td>\n",
       "      <td>1.000000</td>\n",
       "    </tr>\n",
       "  </tbody>\n",
       "</table>\n",
       "</div>"
      ],
      "text/plain": [
       "            Homem   Acima45   Tamanho      Peso\n",
       "Homem    1.000000  0.088652  0.514050  0.465266\n",
       "Acima45  0.088652  1.000000 -0.105428 -0.169438\n",
       "Tamanho  0.514050 -0.105428  1.000000  0.799570\n",
       "Peso     0.465266 -0.169438  0.799570  1.000000"
      ]
     },
     "execution_count": 31,
     "metadata": {},
     "output_type": "execute_result"
    }
   ],
   "source": [
    "data.corr()"
   ]
  },
  {
   "cell_type": "markdown",
   "metadata": {},
   "source": [
    "É possível observar uma forte relação entre a variável preditora Tamanho e a variável resposta Peso (80%), o que sugere que de fato ela é um bom preditor da variável Peso. \n",
    "\n",
    "Entre as preditoras, destacamos a relação entre Tamanho e Homem (51%), o que poderia gerar um problema de multicolinearidade. \n",
    "\n",
    "Vamos iniciar a criação do modelo com todas as variáveis e interações possíveis e através da técnica de stepwise, iremos adequar e otimizar o modelo final, eliminando as variáveis ou interações não significativas. Após ajustarmos o modelo, vamos aplicar mais algumas técnicas para analisar com maiores detalhes as questões de multicolinearidade e verificar se há diferença na relação Tamanho e Peso quando consideramos grupo etário e gênero."
   ]
  },
  {
   "cell_type": "code",
   "execution_count": 53,
   "metadata": {},
   "outputs": [
    {
     "name": "stdout",
     "output_type": "stream",
     "text": [
      "                            OLS Regression Results                            \n",
      "==============================================================================\n",
      "Dep. Variable:                   Peso   R-squared:                       0.661\n",
      "Model:                            OLS   Adj. R-squared:                  0.650\n",
      "Method:                 Least Squares   F-statistic:                     63.68\n",
      "Date:                Wed, 17 Jun 2020   Prob (F-statistic):           2.90e-50\n",
      "Time:                        17:35:25   Log-Likelihood:                -1343.0\n",
      "No. Observations:                 237   AIC:                             2702.\n",
      "Df Residuals:                     229   BIC:                             2730.\n",
      "Df Model:                           7                                         \n",
      "Covariance Type:            nonrobust                                         \n",
      "=========================================================================================\n",
      "                            coef    std err          t      P>|t|      [0.025      0.975]\n",
      "-----------------------------------------------------------------------------------------\n",
      "Intercept               399.8990    125.610      3.184      0.002     152.399     647.399\n",
      "Tamanho                   0.2419      0.036      6.706      0.000       0.171       0.313\n",
      "Homem                   197.9397    166.771      1.187      0.236    -130.662     526.542\n",
      "Tamanho:Homem            -0.0434      0.046     -0.947      0.345      -0.134       0.047\n",
      "Acima45                -180.3591    167.602     -1.076      0.283    -510.598     149.880\n",
      "Tamanho:Acima45           0.0486      0.049      0.995      0.321      -0.048       0.145\n",
      "Homem:Acima45           -65.0907    222.855     -0.292      0.770    -504.200     374.018\n",
      "Tamanho:Homem:Acima45     0.0076      0.062      0.122      0.903      -0.115       0.130\n",
      "==============================================================================\n",
      "Omnibus:                        8.421   Durbin-Watson:                   1.922\n",
      "Prob(Omnibus):                  0.015   Jarque-Bera (JB):                8.927\n",
      "Skew:                           0.359   Prob(JB):                       0.0115\n",
      "Kurtosis:                       3.624   Cond. No.                     3.43e+05\n",
      "==============================================================================\n",
      "\n",
      "Warnings:\n",
      "[1] Standard Errors assume that the covariance matrix of the errors is correctly specified.\n",
      "[2] The condition number is large, 3.43e+05. This might indicate that there are\n",
      "strong multicollinearity or other numerical problems.\n"
     ]
    }
   ],
   "source": [
    "#regressão linear múltipla\n",
    "#Modelo 2: Tamanho, Homem e Acima45 com todas as interações possíveis\n",
    "\n",
    "mod2 = ols('Peso ~ Tamanho * Homem * Acima45',data=data)\n",
    "res2 = mod2.fit()\n",
    "print(res2.summary())"
   ]
  },
  {
   "cell_type": "markdown",
   "metadata": {},
   "source": [
    "Vamos analisar a interação Tamanho:Homem:Acima45.\n",
    "\n",
    "Neste caso, temos um teste de hipótese que considera:<br> \n",
    "$H_0$: $\\beta_0$ = 0 <br>\n",
    "$H_a$: $\\beta_0$ $\\neq$ 0 <br> \n",
    "\n",
    "Com um p-valor de 90%, coeficiente de regressão 0.0076 e intervalo de confiança entre -0.115 e 0.130, nós aceitamos a hipótese que $\\beta_0$ = 0 no modelo, portanto, esta interação torna-se insignificante e será retirada. \n",
    "\n",
    "Vamos continuar aplicando a técnica de stepwise para a seleção das demais variáveis para melhorarmos o modelo final."
   ]
  },
  {
   "cell_type": "code",
   "execution_count": 55,
   "metadata": {},
   "outputs": [
    {
     "name": "stdout",
     "output_type": "stream",
     "text": [
      "                            OLS Regression Results                            \n",
      "==============================================================================\n",
      "Dep. Variable:                   Peso   R-squared:                       0.661\n",
      "Model:                            OLS   Adj. R-squared:                  0.652\n",
      "Method:                 Least Squares   F-statistic:                     74.60\n",
      "Date:                Wed, 17 Jun 2020   Prob (F-statistic):           3.24e-51\n",
      "Time:                        17:36:42   Log-Likelihood:                -1343.1\n",
      "No. Observations:                 237   AIC:                             2700.\n",
      "Df Residuals:                     230   BIC:                             2724.\n",
      "Df Model:                           6                                         \n",
      "Covariance Type:            nonrobust                                         \n",
      "===================================================================================\n",
      "                      coef    std err          t      P>|t|      [0.025      0.975]\n",
      "-----------------------------------------------------------------------------------\n",
      "Intercept         408.7992    102.157      4.002      0.000     207.515     610.083\n",
      "Tamanho             0.2394      0.029      8.171      0.000       0.182       0.297\n",
      "Homem             182.9501    112.841      1.621      0.106     -39.384     405.284\n",
      "Tamanho:Homem      -0.0392      0.031     -1.273      0.204      -0.100       0.022\n",
      "Acima45          -196.4062    104.039     -1.888      0.060    -401.398       8.585\n",
      "Tamanho:Acima45     0.0532      0.030      1.769      0.078      -0.006       0.113\n",
      "Homem:Acima45     -37.9756     22.315     -1.702      0.090     -81.943       5.992\n",
      "==============================================================================\n",
      "Omnibus:                        8.547   Durbin-Watson:                   1.924\n",
      "Prob(Omnibus):                  0.014   Jarque-Bera (JB):                9.088\n",
      "Skew:                           0.362   Prob(JB):                       0.0106\n",
      "Kurtosis:                       3.630   Cond. No.                     1.50e+05\n",
      "==============================================================================\n",
      "\n",
      "Warnings:\n",
      "[1] Standard Errors assume that the covariance matrix of the errors is correctly specified.\n",
      "[2] The condition number is large, 1.5e+05. This might indicate that there are\n",
      "strong multicollinearity or other numerical problems.\n"
     ]
    }
   ],
   "source": [
    "#regressão linear múltipla\n",
    "#Modelo 3: Tamanho, Homem, Acima45 e respectivas interações\n",
    "\n",
    "mod3 = ols('Peso ~ Tamanho * Homem + Tamanho * Acima45 + Homem * Acima45',data=data)\n",
    "res3 = mod3.fit()\n",
    "print(res3.summary())"
   ]
  },
  {
   "cell_type": "markdown",
   "metadata": {},
   "source": [
    "Analisando a interação Tamanho:Homem, temos p-valor > 0.05 e intervalo de confiança que pode assumir o valor 0. Com isso, também aceitamos a hipótese de $\\beta_0$ = 0, retirando-o do modelo."
   ]
  },
  {
   "cell_type": "code",
   "execution_count": 58,
   "metadata": {},
   "outputs": [
    {
     "name": "stdout",
     "output_type": "stream",
     "text": [
      "                            OLS Regression Results                            \n",
      "==============================================================================\n",
      "Dep. Variable:                   Peso   R-squared:                       0.658\n",
      "Model:                            OLS   Adj. R-squared:                  0.651\n",
      "Method:                 Least Squares   F-statistic:                     88.96\n",
      "Date:                Wed, 17 Jun 2020   Prob (F-statistic):           7.24e-52\n",
      "Time:                        17:46:27   Log-Likelihood:                -1343.9\n",
      "No. Observations:                 237   AIC:                             2700.\n",
      "Df Residuals:                     231   BIC:                             2721.\n",
      "Df Model:                           5                                         \n",
      "Covariance Type:            nonrobust                                         \n",
      "===================================================================================\n",
      "                      coef    std err          t      P>|t|      [0.025      0.975]\n",
      "-----------------------------------------------------------------------------------\n",
      "Intercept         493.1839     77.814      6.338      0.000     339.869     646.499\n",
      "Tamanho             0.2151      0.022      9.671      0.000       0.171       0.259\n",
      "Acima45          -199.5159    104.150     -1.916      0.057    -404.721       5.689\n",
      "Tamanho:Acima45     0.0534      0.030      1.772      0.078      -0.006       0.113\n",
      "Homem              40.8304     16.146      2.529      0.012       9.018      72.642\n",
      "Homem:Acima45     -33.7466     22.095     -1.527      0.128     -77.281       9.788\n",
      "==============================================================================\n",
      "Omnibus:                        8.311   Durbin-Watson:                   1.939\n",
      "Prob(Omnibus):                  0.016   Jarque-Bera (JB):                9.043\n",
      "Skew:                           0.341   Prob(JB):                       0.0109\n",
      "Kurtosis:                       3.671   Cond. No.                     1.12e+05\n",
      "==============================================================================\n",
      "\n",
      "Warnings:\n",
      "[1] Standard Errors assume that the covariance matrix of the errors is correctly specified.\n",
      "[2] The condition number is large, 1.12e+05. This might indicate that there are\n",
      "strong multicollinearity or other numerical problems.\n"
     ]
    }
   ],
   "source": [
    "#regressão linear múltipla\n",
    "#Modelo 4: Tamanho, Homem, Acima45. Interações Tamanho - Acima45 e Homem - Acima45\n",
    "\n",
    "mod4 = ols('Peso ~ Tamanho + Tamanho * Acima45 + Homem * Acima45',data=data)\n",
    "res4 = mod4.fit()\n",
    "print(res4.summary())"
   ]
  },
  {
   "cell_type": "markdown",
   "metadata": {},
   "source": [
    "Considerando a mesma análise anterior (p-valor > 0.05 e IC inclui o zero), iremos retirar a interação Homem:Acima45."
   ]
  },
  {
   "cell_type": "code",
   "execution_count": 59,
   "metadata": {},
   "outputs": [
    {
     "name": "stdout",
     "output_type": "stream",
     "text": [
      "                            OLS Regression Results                            \n",
      "==============================================================================\n",
      "Dep. Variable:                   Peso   R-squared:                       0.655\n",
      "Model:                            OLS   Adj. R-squared:                  0.649\n",
      "Method:                 Least Squares   F-statistic:                     110.0\n",
      "Date:                Wed, 17 Jun 2020   Prob (F-statistic):           2.05e-52\n",
      "Time:                        17:47:13   Log-Likelihood:                -1345.1\n",
      "No. Observations:                 237   AIC:                             2700.\n",
      "Df Residuals:                     232   BIC:                             2717.\n",
      "Df Model:                           4                                         \n",
      "Covariance Type:            nonrobust                                         \n",
      "===================================================================================\n",
      "                      coef    std err          t      P>|t|      [0.025      0.975]\n",
      "-----------------------------------------------------------------------------------\n",
      "Intercept         453.0924     73.463      6.168      0.000     308.353     597.831\n",
      "Tamanho             0.2285      0.020     11.158      0.000       0.188       0.269\n",
      "Homem              22.8107     11.054      2.064      0.040       1.032      44.589\n",
      "Acima45          -129.5307     93.796     -1.381      0.169    -314.332      55.270\n",
      "Tamanho:Acima45     0.0290      0.026      1.131      0.259      -0.022       0.079\n",
      "==============================================================================\n",
      "Omnibus:                        7.248   Durbin-Watson:                   1.918\n",
      "Prob(Omnibus):                  0.027   Jarque-Bera (JB):                7.449\n",
      "Skew:                           0.331   Prob(JB):                       0.0241\n",
      "Kurtosis:                       3.562   Cond. No.                     1.01e+05\n",
      "==============================================================================\n",
      "\n",
      "Warnings:\n",
      "[1] Standard Errors assume that the covariance matrix of the errors is correctly specified.\n",
      "[2] The condition number is large, 1.01e+05. This might indicate that there are\n",
      "strong multicollinearity or other numerical problems.\n"
     ]
    }
   ],
   "source": [
    "#regressão linear múltipla\n",
    "#Modelo 5: Tamanho, Homem, Acima45. Interação: Tamanho - Acima45.\n",
    "\n",
    "mod5 = ols('Peso ~ Tamanho + Homem + Tamanho * Acima45',data=data)\n",
    "res5 = mod5.fit()\n",
    "print(res5.summary())"
   ]
  },
  {
   "cell_type": "markdown",
   "metadata": {},
   "source": [
    "Considerando a mesma análise anterior (p-valor > 0.05 e IC inclui o zero), iremos retirar a interação Tamanho:Acima45."
   ]
  },
  {
   "cell_type": "code",
   "execution_count": 60,
   "metadata": {},
   "outputs": [
    {
     "name": "stdout",
     "output_type": "stream",
     "text": [
      "                            OLS Regression Results                            \n",
      "==============================================================================\n",
      "Dep. Variable:                   Peso   R-squared:                       0.653\n",
      "Model:                            OLS   Adj. R-squared:                  0.648\n",
      "Method:                 Least Squares   F-statistic:                     146.0\n",
      "Date:                Wed, 17 Jun 2020   Prob (F-statistic):           2.94e-53\n",
      "Time:                        17:48:59   Log-Likelihood:                -1345.7\n",
      "No. Observations:                 237   AIC:                             2699.\n",
      "Df Residuals:                     233   BIC:                             2713.\n",
      "Df Model:                           3                                         \n",
      "Covariance Type:            nonrobust                                         \n",
      "==============================================================================\n",
      "                 coef    std err          t      P>|t|      [0.025      0.975]\n",
      "------------------------------------------------------------------------------\n",
      "Intercept    395.5079     52.999      7.463      0.000     291.090     499.926\n",
      "Tamanho        0.2442      0.015     16.212      0.000       0.215       0.274\n",
      "Homem         22.5433     11.058      2.039      0.043       0.757      44.329\n",
      "Acima45      -23.9684      9.481     -2.528      0.012     -42.647      -5.290\n",
      "==============================================================================\n",
      "Omnibus:                        7.989   Durbin-Watson:                   1.922\n",
      "Prob(Omnibus):                  0.018   Jarque-Bera (JB):                8.255\n",
      "Skew:                           0.357   Prob(JB):                       0.0161\n",
      "Kurtosis:                       3.571   Cond. No.                     4.20e+04\n",
      "==============================================================================\n",
      "\n",
      "Warnings:\n",
      "[1] Standard Errors assume that the covariance matrix of the errors is correctly specified.\n",
      "[2] The condition number is large, 4.2e+04. This might indicate that there are\n",
      "strong multicollinearity or other numerical problems.\n"
     ]
    }
   ],
   "source": [
    "#regressão linear múltipla\n",
    "#Modelo 6: Tamanho, Homem, Acima45 e sem interações\n",
    "\n",
    "mod6 = ols('Peso ~ Tamanho + Homem + Acima45',data=data)\n",
    "res6 = mod6.fit()\n",
    "print(res6.summary())"
   ]
  },
  {
   "cell_type": "markdown",
   "metadata": {},
   "source": [
    "Para este último modelo temos um p-valor < 0.05, com coeficientes de regressão e IC que não incluem o valor 0, portanto, rejeitamos a hipótese $\\beta_0$ = 0 e não iremos retirar mais variáveis. \n",
    "\n",
    "##### Multicolinearidade:\n",
    "Voltando com as suspeitas de multicolinearidade identificadas no início da análise, iremos utilizar o cálculo do fator de inflação da variância (VIF) para as variáveis explicativas do modelo. O critério a ser utilizado para análise do VIF será:\n",
    "* VIF for igual à 1 não há multicolinearidade entre os fatores;\n",
    "* VIF acima de 1, as preditoras podem estar correlacionadas. \n",
    "  * De 1 até 5: indica alguma correlação, porém, não o suficiente para impactar no modelo;\n",
    "  * De 5 até 10: alta correlação podendo gerar impacto no modelo; \n",
    "  * Acima de 10: coeficientes de regressão estão mal estimados devidos à multicolinearidade; \n",
    "  \n",
    "  fonte: https://blog.minitab.com/pt/basta-lidando-com-a-multicolinearidade-na-analise-de-regressao"
   ]
  },
  {
   "cell_type": "code",
   "execution_count": 131,
   "metadata": {},
   "outputs": [
    {
     "name": "stdout",
     "output_type": "stream",
     "text": [
      "|==================|==============================|\n",
      "|     Variáveis    |              VIF             |\n",
      "|------------------|------------------------------|\n",
      "|   Intercept      |     130.72596546224784       |\n",
      "|   Tamanho        |     1.402975195652195        |\n",
      "|   Homem          |     1.3983710653327666       |\n",
      "|   Acima45        |     1.0404193672560635       |\n",
      "|------------------|------------------------------|\n"
     ]
    }
   ],
   "source": [
    "#calcula o VIF\n",
    "\n",
    "var = res6.model.exog\n",
    "vif = [variance_inflation_factor(var, i) for i in range(var.shape[1])]\n",
    "\n",
    "print('|==================|==============================|')\n",
    "print('|     Variáveis    |              VIF             |')\n",
    "print('|------------------|------------------------------|')\n",
    "print('|   Intercept','     |    ',vif[0],'      |',)\n",
    "print('|   Tamanho','       |    ',vif[1],'       |',)\n",
    "print('|   Homem','         |    ',vif[2],'      |',)\n",
    "print('|   Acima45','       |    ',vif[3],'      |',)\n",
    "print('|------------------|------------------------------|')"
   ]
  },
  {
   "cell_type": "markdown",
   "metadata": {},
   "source": [
    "Para as variáveis Tamanho, Homem e Acima45 os valores do VIF indicam que temos alguma correlação, porém, ela não é forte o suficiente para impactar no modelo. Para o Intercepto tivemos um VIF bem alto, porém, para podermos aplicar a remoção do mesmo, devemos primeiro padronizar as variáveis preditoras e de resposta, com isso o intercepto passará pela origem (0,0). Essa abordagem dificulta a interpretação das variáveis explicativas do modelo, portanto, para evitarmos complicar essa interpretação, uma outra abordagem é padronizar apenas a variável quantitativa (Tamanho) para tentarmos dar sentido ao Intercepto e tentar eliminar o VIF alto. "
   ]
  },
  {
   "cell_type": "code",
   "execution_count": 130,
   "metadata": {},
   "outputs": [
    {
     "name": "stdout",
     "output_type": "stream",
     "text": [
      "                            OLS Regression Results                            \n",
      "==============================================================================\n",
      "Dep. Variable:                   Peso   R-squared:                       0.653\n",
      "Model:                            OLS   Adj. R-squared:                  0.648\n",
      "Method:                 Least Squares   F-statistic:                     146.0\n",
      "Date:                Wed, 17 Jun 2020   Prob (F-statistic):           2.94e-53\n",
      "Time:                        20:21:53   Log-Likelihood:                -1345.7\n",
      "No. Observations:                 237   AIC:                             2699.\n",
      "Df Residuals:                     233   BIC:                             2713.\n",
      "Df Model:                           3                                         \n",
      "Covariance Type:            nonrobust                                         \n",
      "==============================================================================\n",
      "                 coef    std err          t      P>|t|      [0.025      0.975]\n",
      "------------------------------------------------------------------------------\n",
      "Intercept   1282.9713      8.703    147.412      0.000    1265.824    1300.118\n",
      "Tamanho_p     89.0127      5.490     16.212      0.000      78.195      99.830\n",
      "Homem         22.5433     11.058      2.039      0.043       0.757      44.329\n",
      "Acima45      -23.9684      9.481     -2.528      0.012     -42.647      -5.290\n",
      "==============================================================================\n",
      "Omnibus:                        7.989   Durbin-Watson:                   1.922\n",
      "Prob(Omnibus):                  0.018   Jarque-Bera (JB):                8.255\n",
      "Skew:                           0.357   Prob(JB):                       0.0161\n",
      "Kurtosis:                       3.571   Cond. No.                         3.72\n",
      "==============================================================================\n",
      "\n",
      "Warnings:\n",
      "[1] Standard Errors assume that the covariance matrix of the errors is correctly specified.\n"
     ]
    }
   ],
   "source": [
    "#regressão linear múltipla\n",
    "#Modelo 7: Tamanho, Homem, Acima45, sem interações, com Tamanho padronizado\n",
    "\n",
    "#padronização (variável menos média dividido pelo desvio padrão)\n",
    "Tamanho_p = (data.Tamanho-np.mean(data.Tamanho))/(np.std(data.Tamanho))\n",
    "\n",
    "mod7 = ols('Peso ~ Tamanho_p + Homem + Acima45',data=data)\n",
    "res7 = mod7.fit()\n",
    "print(res7.summary())"
   ]
  },
  {
   "cell_type": "code",
   "execution_count": 129,
   "metadata": {},
   "outputs": [
    {
     "name": "stdout",
     "output_type": "stream",
     "text": [
      "|==================|==============================|\n",
      "|     Variáveis    |              VIF             |\n",
      "|------------------|------------------------------|\n",
      "|   Intercept      |     3.5253225566754294       |\n",
      "|   Tamanho_p      |     1.402975195652195        |\n",
      "|   Homem          |     1.3983710653327661       |\n",
      "|   Acima45        |     1.0404193672560633       |\n",
      "|------------------|------------------------------|\n"
     ]
    }
   ],
   "source": [
    "#calcula o VIF para o modelo 7\n",
    "\n",
    "var = res7.model.exog\n",
    "vif = [variance_inflation_factor(var, i) for i in range(var.shape[1])]\n",
    "\n",
    "print('|==================|==============================|')\n",
    "print('|     Variáveis    |              VIF             |')\n",
    "print('|------------------|------------------------------|')\n",
    "print('|   Intercept','     |    ',vif[0],'      |',)\n",
    "print('|   Tamanho_p','     |    ',vif[1],'       |',)\n",
    "print('|   Homem','         |    ',vif[2],'      |',)\n",
    "print('|   Acima45','       |    ',vif[3],'      |',)\n",
    "print('|------------------|------------------------------|')"
   ]
  },
  {
   "cell_type": "markdown",
   "metadata": {},
   "source": [
    "Com estes resultados para o VIF, temos a indicação que existe alguma correlação entre as variáveis, porém, ela não é suficiente para impactar no modelo, portanto, vamos considerar esse como sendo o modelo final ajustado. \n",
    "\n",
    "As suposições do nosso modelo ajustado precisam ser validadas para que os resultados sejam confiáveis, para isso vamos realizar a análise de resíduos. A idéia por trás é que se o modelo for apropriado, os resíduos devem refletir algumas propriedades:\n",
    "\n",
    "i. $ \\varepsilon_i $ e $ \\varepsilon_j $ são independentes $ (i\\neq j) $;\n",
    "\n",
    "ii. $ Var(\\varepsilon_i) = \\sigma^2 $ (constante);\n",
    "\n",
    "iii. $ \\varepsilon_i \\sim N(0,\\sigma^2) $ (normalidade);\n",
    "\n",
    "iv. Modelo é linear;\n",
    "\n",
    "v. Não existir outliers (pontos atípicos) influentes.\n",
    "\n",
    "fonte: http://www.portalaction.com.br/analise-de-regressao/analise-dos-residuos"
   ]
  },
  {
   "cell_type": "code",
   "execution_count": 134,
   "metadata": {},
   "outputs": [],
   "source": [
    "# obtendo parâmetros no modelo 7, modelo final ajustado\n",
    "\n",
    "# valores preditos de E(Y)\n",
    "ypred=res7.fittedvalues\n",
    "\n",
    "# objeto para a análise de pontos influentes\n",
    "infl = res7.get_influence()\n",
    "\n",
    "# diagonal da matriz hat\n",
    "hii = infl.hat_matrix_diag\n",
    "\n",
    "# resíduo studentizado (internamente)\n",
    "res_stud = infl.resid_studentized_internal\n",
    "\n",
    "# resíduo studentizado com i-ésima observação deletada (externamente)\n",
    "res_stud_del = infl.resid_studentized_external\n",
    "\n",
    "# DFFITS\n",
    "(dffits,k) = infl.dffits\n",
    "\n",
    "# Distância de Cook\n",
    "(cook,p) = infl.cooks_distance"
   ]
  },
  {
   "cell_type": "code",
   "execution_count": 148,
   "metadata": {},
   "outputs": [
    {
     "name": "stdout",
     "output_type": "stream",
     "text": [
      "Estatística de Durbin Watson: 1.9224232061579223\n"
     ]
    }
   ],
   "source": [
    "# diagnóstico de independência\n",
    "\n",
    "#teste de durbin watson\n",
    "print('Estatística de Durbin Watson:',durbin_watson(res7.resid,axis=0))"
   ]
  },
  {
   "cell_type": "markdown",
   "metadata": {},
   "source": [
    "Este teste serve para detectar dependência nos resíduos de uma análise de regressão. A estatística do teste sempre irá varias entre 0 e 4. Quanto mais próximo de 0, maior a evidência de uma correlação positiva e quanto mais próxima de 4, correlação negativa. Uma estatística próxima de 2, indica que não temos correlação nos resíduos, ou seja, são independentes.\n",
    "\n",
    "Neste caso, a estatística obtida está próxima de 2 (1.92), logo, não temos dependência.\n",
    "\n",
    "fonte: https://www.statsmodels.org/stable/generated/statsmodels.stats.stattools.durbin_watson.html"
   ]
  },
  {
   "cell_type": "code",
   "execution_count": 143,
   "metadata": {},
   "outputs": [
    {
     "name": "stdout",
     "output_type": "stream",
     "text": [
      "Observações mais críticas:\n",
      "Int64Index([], dtype='int64') Int64Index([43, 102], dtype='int64')\n"
     ]
    },
    {
     "data": {
      "image/png": "[encoded data removed]",
      "text/plain": [
       "<Figure size 432x288 with 1 Axes>"
      ]
     },
     "metadata": {
      "needs_background": "light"
     },
     "output_type": "display_data"
    }
   ],
   "source": [
    "# diagnóstico de homoscedasticidade (variância constante)\n",
    "\n",
    "plt.scatter(ypred,res_stud) # gráfico dos resíduos versus valores ajustados (valores preditos)\n",
    "plt.ylabel('resíduo studentizado')\n",
    "plt.xlabel('valor ajustado')\n",
    "plt.hlines(0,xmin=min(ypred),xmax=max(ypred),color='gray')\n",
    "print('Observações mais críticas:')\n",
    "print(df.index[res_stud<-3],df.index[res_stud>3]) # identifica as observações mais críticas"
   ]
  },
  {
   "cell_type": "markdown",
   "metadata": {},
   "source": [
    "Neste caso, os pontos estão aleatoriamente distribuídos em torno do zero, sem nenhum comportamento ou tendência, o comportamento é o esperado para distribuição dos erros e há indícios de que a variância dos resíduos é homoscedástica.\n",
    "\n",
    "Importante notar que algumas observações cujo o valor do resíduo studenizado é maior que 3 são apresentadas como críticas. Estes valores são 43 e 102."
   ]
  },
  {
   "cell_type": "code",
   "execution_count": 139,
   "metadata": {},
   "outputs": [
    {
     "data": {
      "image/png": "[encoded data removed]",
      "text/plain": [
       "<Figure size 432x288 with 1 Axes>"
      ]
     },
     "metadata": {
      "needs_background": "light"
     },
     "output_type": "display_data"
    },
    {
     "name": "stdout",
     "output_type": "stream",
     "text": [
      "Int64Index([14, 35, 50, 62, 95, 121], dtype='int64') Int64Index([4, 18, 43, 57, 64, 102, 109, 161, 162, 224], dtype='int64')\n"
     ]
    }
   ],
   "source": [
    "# diagnóstico de normalidade\n",
    "\n",
    "probplot(res_stud, plot=plt)\n",
    "plt.xlabel('quantis teóricos')\n",
    "plt.ylabel('resíduos ordenados')\n",
    "plt.show()\n",
    "print(data.index[res_stud<-2],data.index[res_stud>2])"
   ]
  },
  {
   "cell_type": "markdown",
   "metadata": {},
   "source": [
    "Para este teste esperamos que caso a suposição de normalidade esteja adequada, o comportamento dos pontos tem que ser linear. Graficamente observamos que os pontos seguem o comportamento da reta (não estão tão distantes dela), porém, algumas observações com resíduos studentizados abaixo de -2 e acima de 2 parecem ser as responsáveis pela fuga da normalidade dos dados. Tais observações são: 14, 35, 50, 62, 95, 121 e 4, 18, 43, 57, 64, 102, 109, 161, 162, 224, respectivamente."
   ]
  },
  {
   "cell_type": "code",
   "execution_count": 152,
   "metadata": {},
   "outputs": [
    {
     "name": "stdout",
     "output_type": "stream",
     "text": [
      "Int64Index([], dtype='int64')\n"
     ]
    },
    {
     "data": {
      "image/png": "[encoded data removed]",
      "text/plain": [
       "<Figure size 432x288 with 1 Axes>"
      ]
     },
     "metadata": {
      "needs_background": "light"
     },
     "output_type": "display_data"
    }
   ],
   "source": [
    "# pontos influentes (DFFITS e distância de cook)\n",
    "\n",
    "#dffits\n",
    "plt.scatter(data.index, dffits)\n",
    "plt.ylabel('DFFITS')\n",
    "plt.hlines(0,xmin=1,xmax=102,color='gray')\n",
    "plt.xlabel('índice')\n",
    "print(df.index[dffits>1]) # valores que estão acima de 1"
   ]
  },
  {
   "cell_type": "markdown",
   "metadata": {},
   "source": [
    "O DFFITS mede a influência que a observação i tem sobre seu próprio valor ajustado. Uma observação é um ponto influente, se:\n",
    "* $ |DFFITS_{(i)}|~>~ 1 $, para amostras pequenas ou médias\n",
    "* $ |DFFITS_{(i)}|~>~ 2\\sqrt{(p+1)/n} $, para amostras grandes, no qual $ (p+1) $ é o número de parâmetros.\n",
    "\n",
    "Neste caso, não temos valores que estão acima de 1, portanto, não temos pontos influentes.\n",
    "\n",
    "fonte: http://www.portalaction.com.br/analise-de-regressao/343-pontos-influentes"
   ]
  },
  {
   "cell_type": "code",
   "execution_count": 153,
   "metadata": {},
   "outputs": [
    {
     "name": "stdout",
     "output_type": "stream",
     "text": [
      "Int64Index([], dtype='int64')\n"
     ]
    },
    {
     "data": {
      "image/png": "[encoded data removed]",
      "text/plain": [
       "<Figure size 432x288 with 1 Axes>"
      ]
     },
     "metadata": {
      "needs_background": "light"
     },
     "output_type": "display_data"
    }
   ],
   "source": [
    "#distância de cook\n",
    "plt.scatter(data.index, cook)\n",
    "plt.ylabel('distância de Cook')\n",
    "plt.xlabel('índice')\n",
    "print(data.index[cook>f.ppf(.5, 5, 126)]) # valores que estão acima do percentil 50 de uma distribuição F(p,n-p)"
   ]
  },
  {
   "cell_type": "markdown",
   "metadata": {},
   "source": [
    "A distância de Cook mede a influência da observação i sobre todos n valores ajustados. Uma observação é um ponto influente, se:\n",
    "* $ D_i~>~1 $.\n",
    "\n",
    "Neste caso, não temos valores que estão acima de 1, portanto, não temos pontos influentes.\n",
    "\n",
    "fonte: http://www.portalaction.com.br/analise-de-regressao/343-pontos-influentes"
   ]
  },
  {
   "cell_type": "code",
   "execution_count": 155,
   "metadata": {},
   "outputs": [
    {
     "name": "stdout",
     "output_type": "stream",
     "text": [
      "Int64Index([], dtype='int64')\n"
     ]
    },
    {
     "data": {
      "image/png": "[encoded data removed]",
      "text/plain": [
       "<Figure size 432x288 with 1 Axes>"
      ]
     },
     "metadata": {
      "needs_background": "light"
     },
     "output_type": "display_data"
    }
   ],
   "source": [
    "#diagonal da matriz chapéu\n",
    "plt.scatter(data.index, hii)\n",
    "plt.ylabel('$h_{ii}$')\n",
    "plt.xlabel('índice')\n",
    "print(data.index[hii>.1])   # h_ii>2p/n (neste caso, .1)"
   ]
  },
  {
   "cell_type": "markdown",
   "metadata": {},
   "source": [
    "A diagonal da matriz chapéu $ H $ é uma medida padronizada da distância da i-ésima observação para o centro do espaço definido pelas variáveis explicativas. Uma observação é um ponto influente, se:\n",
    "* $ h_{ii} > 2(p+1)/n $\n",
    "\n",
    "Neste caso, não temos ocorrências destacadas.\n",
    "\n",
    "fonte: http://www.portalaction.com.br/analise-de-regressao/341-ponto-de-alavanca"
   ]
  },
  {
   "cell_type": "code",
   "execution_count": 157,
   "metadata": {},
   "outputs": [
    {
     "data": {
      "image/png": "[encoded data removed]",
      "text/plain": [
       "<Figure size 432x288 with 1 Axes>"
      ]
     },
     "execution_count": 157,
     "metadata": {},
     "output_type": "execute_result"
    },
    {
     "data": {
      "image/png": "[encoded data removed]",
      "text/plain": [
       "<Figure size 432x288 with 1 Axes>"
      ]
     },
     "metadata": {
      "needs_background": "light"
     },
     "output_type": "display_data"
    }
   ],
   "source": [
    "# Gráficos dos resíduos\n",
    "sm.graphics.influence_plot(res7)"
   ]
  },
  {
   "cell_type": "markdown",
   "metadata": {},
   "source": [
    "Considerando os resultados dos resíduos studentizados, pode-se observar alguns valores mais críticos como as observações de índices 43 e 102, porém, dado que os testes de pontos influentes não geraram ocorrências, decidimos por manter o modelo final sem alterações."
   ]
  },
  {
   "cell_type": "markdown",
   "metadata": {},
   "source": [
    "##### Seleção do Modelo Final:\n",
    "Podemos confirmar a escolha do modelo final, comparando-se os índices AIC, BIC e  $𝑅^2_𝑎$ , conforme tabela abaixo. O modelo escolhido (número 7) foi um dos que apresentaram os melhores índices (maior  $𝑅^2_𝑎$  com os menores AIC, BIC) e, além disso, melhorou o problema de alto fator de inflação de variância (VIF)."
   ]
  },
  {
   "cell_type": "markdown",
   "metadata": {},
   "source": [
    "Modelo | Variáveis                                               | AIC   | BIC   | $$R^2_a$$\n",
    "-------|---------------------------------------------------------|-------|-------|--------\n",
    "1      | tamanho                                                 | 2705  | 2711  | 63,8%\n",
    "2      | tamanho, homem, acima45, todas as interações            | 2702  | 2730  | 65,0%\n",
    "3      | tamanho, homem, acima45, interações de 1a ordem         | 2700  | 2724  | 65,2%\n",
    "4      | tamanho, homem, acima45, tamanho*acima45, homem*acima45 | 2700  | 2721  | 65,1%\n",
    "5      | tamanho, homem, acima45, tamanho*acima45                | 2700  | 2717  | 64,9%\n",
    "6      | tamanho, homem, acima45, sem interações                 | 2699  | 2713  | 64,8%\n",
    "7      | tamanho_p, homem, acima45, sem interações               | 2699  | 2713  | 64,8%"
   ]
  },
  {
   "cell_type": "code",
   "execution_count": 176,
   "metadata": {},
   "outputs": [
    {
     "name": "stdout",
     "output_type": "stream",
     "text": [
      "Média Tamanho: 3633.9915611814345 e Desvio Padrão Tamanho: 364.49001411962064\n",
      "\n",
      "                            OLS Regression Results                            \n",
      "==============================================================================\n",
      "Dep. Variable:                   Peso   R-squared:                       0.653\n",
      "Model:                            OLS   Adj. R-squared:                  0.648\n",
      "Method:                 Least Squares   F-statistic:                     146.0\n",
      "Date:                Thu, 18 Jun 2020   Prob (F-statistic):           2.94e-53\n",
      "Time:                        04:14:26   Log-Likelihood:                -1345.7\n",
      "No. Observations:                 237   AIC:                             2699.\n",
      "Df Residuals:                     233   BIC:                             2713.\n",
      "Df Model:                           3                                         \n",
      "Covariance Type:            nonrobust                                         \n",
      "==============================================================================\n",
      "                 coef    std err          t      P>|t|      [0.025      0.975]\n",
      "------------------------------------------------------------------------------\n",
      "Intercept   1282.9713      8.703    147.412      0.000    1265.824    1300.118\n",
      "Tamanho_p     89.0127      5.490     16.212      0.000      78.195      99.830\n",
      "Homem         22.5433     11.058      2.039      0.043       0.757      44.329\n",
      "Acima45      -23.9684      9.481     -2.528      0.012     -42.647      -5.290\n",
      "==============================================================================\n",
      "Omnibus:                        7.989   Durbin-Watson:                   1.922\n",
      "Prob(Omnibus):                  0.018   Jarque-Bera (JB):                8.255\n",
      "Skew:                           0.357   Prob(JB):                       0.0161\n",
      "Kurtosis:                       3.571   Cond. No.                         3.72\n",
      "==============================================================================\n",
      "\n",
      "Warnings:\n",
      "[1] Standard Errors assume that the covariance matrix of the errors is correctly specified.\n"
     ]
    }
   ],
   "source": [
    "#print do modelo final para análise e interpretação de resultados\n",
    "print('Média Tamanho:',np.mean(data.Tamanho),'e Desvio Padrão Tamanho:',np.std(data.Tamanho))\n",
    "print()\n",
    "print(res7.summary())"
   ]
  },
  {
   "cell_type": "markdown",
   "metadata": {},
   "source": [
    "#### Interpretação dos resultados:\n",
    "\n",
    "1) Intercepto: 1282.97[g] é o valor esperado do peso cerebral para indíviduos do gênero feminino (homem = 0) com idade menor que 45 anos (acima45 = 0) e que tenham o tamanho da cabeça com valores de média e desvio padrão (3634[cm3] e 364[cm3], respectivamente).\n",
    "\n",
    "2) Tamanho_p: 89[g] é o aumento esperado do peso cerebral para cada aumento no tamanho padronizado da cabeça[cm3], ou seja, esse crescimento padronizado é equivalente ao tamanho da cabeça multiplicado pelo desvio padrão menos sua média. E para estimar esse valor, devemos considerar indivíduos de um mesmo gênero (seja ele qual for) e uma mesma faixa etária (maior que 45 anos ou menor que 45 anos).\n",
    "\n",
    "3) Homem: 22.5[g] é quanto o peso cerebral de um indivíduo irá variar quando considerarmos apenas seu gênero (masculino ou feminino) para um mesmo tamanho de cabeça com valores de média e desvio padrão (3634[cm3] e 364[cm3], respectivamente) e para uma mesma faixa etária (classificada em maior que 45 anos ou menor que 45 anos).  \n",
    "\n",
    "4) Acima45: -23.9[g] é quanto o peso cerebral de um indivíduo irá variar quando considerarmos apenas sua faixa etária (maior que 45 anos ou menor que 45 anos) para um mesmo tamanho de cabeça com valores de média e desvio padrão (3634[cm3] e 364[cm3], respectivamente) e para um mesmo gênero (seja ele qual for).  "
   ]
  },
  {
   "cell_type": "markdown",
   "metadata": {},
   "source": [
    "### O tamanho da cabeça é preditor do peso cerebral...\n",
    "\n",
    "Sim. \n",
    "\n",
    "Olhando para o modelo 1, onde temos apenas o tamanho da cabeça como variável preditora, observamos um $R^2_{ajustado}$ = 63.8%, ou seja, apenas essa variável consegue explicar mais de 60% dos valores obtidos para o peso do cérebro, logo, ele pode ser considerado sim um preditor de peso."
   ]
  },
  {
   "cell_type": "markdown",
   "metadata": {},
   "source": [
    "### ...e, neste caso, há diferença nessa relação entre os sexos e entre os grupos etários?\n",
    "\n",
    "Ao considerarmos as variáveis gênero e faixa etária como parte do modelo final, podemos concluir que existe sim uma relação que ajuda a explicar um pouco da variável resposta peso do cérebro, porém, algumas considerações podem ser feitas para entendermos qual o impacto que elas geram na estimativa da variável resposta e entender se há uma diferença significativa nos resultados. \n",
    "\n",
    "##### Entre os sexos:\n",
    "O peso médio cerebral da nossa amostra é cerca de 1282[g] e o $\\beta$ do modelo apresenta um valor de 22[g], ou seja, ele é um percentual muito pequeno do peso cerebral, logo, isso indica que ele não gera muito impacto no resultado caso o indivíduo seja homem ou mulher. Além disso, temos também um intervalo de confiança variando de 0.7 até 44, que também não nos diz muita coisa, uma vez que gera uma incerteza muito grande e diminui nossa confiança na variável estimada.\n",
    "\n",
    "Portanto, concluímos que para os resultados encontrados na predição do peso a diferença devido ao gênero não é significativa. \n",
    "\n",
    "##### Entre os grupos etários:\n",
    "Podemos fazer uma análise similar para o caso dos grupos etários. O $\\beta$ do modelo indica um percentual pequeno na variação do peso cerebral se o indivíduo estiver acima ou abaixo dos 45 anos. Analisando o intervalo de confiança (-42 até -5), também gera incerteza e pouca confiança na variável.\n",
    "\n",
    "Portanto, concluímos novamente que para os resultados encontrados na predição do peso a diferença devido à faixa etária não é significativa.\n",
    "\n",
    "\n",
    "##### Resumo:\n",
    "\n",
    "Em resumo, temos que o tamanho da cabeça é o principal preditor do peso do cérebro e que, apesar do gênero e faixa etária terem uma relação que explica um pouco da variável resposta, seus valores não são significativos o suficiente para gerar uma diferença nos resultados do modelo."
   ]
  },
  {
   "cell_type": "markdown",
   "metadata": {},
   "source": [
    "### 3) Estime o peso médio do cérebro de homens e de mulheres (pontual e intervalar).\n",
    "\n",
    "Como estamos trabalhando com amostras, iremos utilizar os estimadores de parâmetros para verificar o peso médio do cérebro. Para a estimação pontual iremos utilizar o método da máxima verossimilhança (MV).\n",
    "\n",
    "Como vimos que os dados para homens e mulheres são variáveis independentes e com distribuição normal N($\\mu,\\sigma^2$), temos que os estimadores são:\n",
    "\n",
    "$$\n",
    "\\hat{\\mu} = \\bar{X}\n",
    "$$\n",
    "\n",
    "$$\n",
    "\\hat{\\sigma}^2 = \\sum_{i=1}^n{(X_i - \\bar{X})^2 \\over n}\n",
    "$$\n",
    "\n",
    "Com isso, a estimativa do peso médio pontual será dado pela própria média amostral:"
   ]
  },
  {
   "cell_type": "code",
   "execution_count": 16,
   "metadata": {},
   "outputs": [
    {
     "name": "stdout",
     "output_type": "stream",
     "text": [
      "|----------Estimador-Pontual---------|\n",
      "|                                    |\n",
      "|----Sexo----|----Média-Estimada-----|\n",
      "|    Homem   |   1331.858208955224   |\n",
      "|    Mulher  |   1219.1456310679612  |\n",
      "|------------------------------------|\n"
     ]
    }
   ],
   "source": [
    "#cálculo do estimador u_chapéu\n",
    "\n",
    "print('|----------Estimador-Pontual---------|')\n",
    "print('|                                    |')\n",
    "print('|----Sexo----|----Média-Estimada-----|')\n",
    "print('|    Homem   |',' ',peso_homem.describe()[1],'  |')\n",
    "print('|    Mulher  |',' ',peso_mulher.describe()[1],' |')\n",
    "print('|------------------------------------|')"
   ]
  },
  {
   "cell_type": "markdown",
   "metadata": {},
   "source": [
    "Para estimação intervalar iremos utilizar a quantidade pivotal com variância populacional desconhecida. \n",
    "\n",
    "Assim:\n",
    "\n",
    "$$\n",
    "{\\bar{X} - \\mu \\over {S \\over \\sqrt[]{n}}} \\text { ~ } t_{(n-1)}\n",
    "$$\n",
    "\n",
    "onde S: desvio-padrão amostral e distribuição t com n-1 graus de liberdade.\n",
    "\n",
    "Construiremos o intervalo de confiança de (1-$\\alpha$) = 0.95 para a média: $IC_{\\mu}$(95%). \n",
    "\n",
    "Logo, temos:\n",
    "\n",
    "$$\n",
    "P(\\text{?} \\leq {\\bar{X} - \\mu \\over {S \\over \\sqrt[]{n}}} \\leq \\text{?}) \\text{ = } 0.95\n",
    "$$\n"
   ]
  },
  {
   "cell_type": "code",
   "execution_count": 177,
   "metadata": {},
   "outputs": [
    {
     "name": "stdout",
     "output_type": "stream",
     "text": [
      "Intervalo à esquerda da curva: -1.9599639845400545\n",
      "Intervalo à direita da curva: 1.959963984540054\n"
     ]
    }
   ],
   "source": [
    "#definição do valor do intervalo de confiança para 95%\n",
    "\n",
    "print('Intervalo à esquerda da curva:',norm.ppf(0.025))\n",
    "print('Intervalo à direita da curva:',norm.ppf(0.975))"
   ]
  },
  {
   "cell_type": "markdown",
   "metadata": {},
   "source": [
    "Aplicando os ajustes para obtermos o intervalo de confiança da média:\n",
    "\n",
    "* multiplicar por: $\\sigma \\over \\sqrt[]{n}$\n",
    "\n",
    "* subtrair: $\\bar{X}$\n",
    "\n",
    "* multiplicar por (-1), invertendo o sinal da inequação\n",
    "\n",
    "$$\n",
    "P(\\bar{X} - {1.96 \\cdot S \\over \\sqrt[]{n}}  \\leq \\mu \\leq \\bar{X} + {1.96 \\cdot S \\over \\sqrt[]{n}}) \\text{ = } 0.95\n",
    "$$\n",
    "\n",
    "O cálculo do intervalo será executado pela função do Python DescrStatsW, com os seguintes parâmetros:\n",
    "* $\\alpha$ = 0.05"
   ]
  },
  {
   "cell_type": "code",
   "execution_count": 183,
   "metadata": {},
   "outputs": [
    {
     "name": "stdout",
     "output_type": "stream",
     "text": [
      "|----------------------Estimador-Intervalar---------------------|\n",
      "|                                                               |\n",
      "|----Sexo-----|----Limite-Inferior-----|----Limite-Superior-----|\n",
      "|    Homem    |   1313.2447792718747   |   1350.4716386385733   |\n",
      "|    Mulher   |   1198.8531509366069   |   1239.4381111993155   |\n",
      "|---------------------------------------------------------------|\n"
     ]
    }
   ],
   "source": [
    "#cálculo do intervalo de confiança\n",
    "\n",
    "ic_peso_homem = sms.DescrStatsW(peso_homem).tconfint_mean(alpha=0.05)\n",
    "ic_peso_mulher = sms.DescrStatsW(peso_mulher).tconfint_mean(alpha=0.05)\n",
    "\n",
    "print('|----------------------Estimador-Intervalar---------------------|')\n",
    "print('|                                                               |')\n",
    "print('|----Sexo-----|----Limite-Inferior-----|----Limite-Superior-----|')\n",
    "print('|    Homem    |',' ',ic_peso_homem[0],'  |  ',ic_peso_homem[1],'  |')\n",
    "print('|    Mulher   |',' ',ic_peso_mulher[0],'  |  ',ic_peso_mulher[1],'  |')\n",
    "print('|---------------------------------------------------------------|')"
   ]
  }
 ],
 "metadata": {
  "kernelspec": {
   "display_name": "Python 3",
   "language": "python",
   "name": "python3"
  },
  "language_info": {
   "codemirror_mode": {
    "name": "ipython",
    "version": 3
   },
   "file_extension": ".py",
   "mimetype": "text/x-python",
   "name": "python",
   "nbconvert_exporter": "python",
   "pygments_lexer": "ipython3",
   "version": "3.7.6"
  },
  "toc": {
   "base_numbering": 1,
   "nav_menu": {},
   "number_sections": true,
   "sideBar": true,
   "skip_h1_title": false,
   "title_cell": "Table of Contents",
   "title_sidebar": "Contents",
   "toc_cell": false,
   "toc_position": {},
   "toc_section_display": true,
   "toc_window_display": false
  }
 },
 "nbformat": 4,
 "nbformat_minor": 2
}
