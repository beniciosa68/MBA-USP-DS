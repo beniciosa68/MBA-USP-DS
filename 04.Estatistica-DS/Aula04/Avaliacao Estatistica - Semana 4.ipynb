{
 "cells": [
  {
   "cell_type": "markdown",
   "metadata": {},
   "source": [
    "# <span style=\"color:blue\"> MBA em Ciência de Dados</span>\n",
    "# <span style=\"color:blue\">Estatística para Ciência de Dados</span>\n",
    "\n",
    "## <span style=\"color:blue\">Semana 4</span>\n",
    "**Material Produzido por Mariana Cúri**<br>\n",
    "**Cemeai - ICMC/USP São Carlos**"
   ]
  },
  {
   "cell_type": "markdown",
   "metadata": {},
   "source": [
    "<font color='red'> As respostas devem ser fornecidas no Moodle. O notebook é apenas para a implementação dos códigos que fornecerão as respostas</font>"
   ]
  },
  {
   "cell_type": "markdown",
   "metadata": {},
   "source": [
    "### Exercício 1\n",
    "\n",
    "Relacione os conceitos às suas respectivas definições.<br>\n",
    "\n",
    "a) Função da amostra que representa valores plausíveis para o parâmetro desconhecido de interesse\n",
    "\n",
    "b) Medida da variabilidade de um estimador\n",
    "\n",
    "c) Valor do estimador calculado com os dados de uma amostra\n",
    "\n",
    "d) Distribuição de probabilidades de um estimador\n",
    "\n",
    "e) Quantidade, normalmente desconhecida, que especifica uma distribuição de probabilidades na população\n",
    "\n",
    "\n",
    "<b>Opções:<br>\n",
    "Estimativa<br>\n",
    "Distribuição Normal<br>\n",
    "Erro Padrão<br>\n",
    "Parâmetro<br>\n",
    "Estimador<br>"
   ]
  },
  {
   "cell_type": "code",
   "execution_count": 16,
   "metadata": {},
   "outputs": [
    {
     "name": "stdout",
     "output_type": "stream",
     "text": [
      "a) Estimador\n",
      "b) Erro Padrão\n",
      "c) Parâmetro\n",
      "d) Distribuição Normal\n",
      "e) Estimativa\n",
      "3 CORRETAS, 2 INCORRETAS\n"
     ]
    }
   ],
   "source": [
    "print('a) Estimador') \n",
    "print('b) Erro Padrão')\n",
    "print('c) Parâmetro')\n",
    "print('CORRECAO1: c) Estimativa')\n",
    "print('d) Distribuição Normal')\n",
    "print('e) Estimativa')\n",
    "print('CORRECAO2: e) Parâmetro')\n",
    "print('3 CORRETAS, 2 INCORRETAS')"
   ]
  },
  {
   "cell_type": "markdown",
   "metadata": {},
   "source": [
    "### Exercício 2\n",
    "É muito comum a entropia cruzada, H(p,q), ser adotada como função de perda em problemas de aprendizado de máquina. Em particular em problemas de classificação com duas classes (0 ou 1), usa-se a entropia cruzada binária. Veja um trecho da definição dessa entropia encontrada na página da Wikipedia (https://en.wikipedia.org/wiki/Cross_entropy) abaixo.\n",
    "\n",
    "<img src='.\\img\\entropia.gif'>\n",
    "\n",
    "Repare que essa função de perda, que se quer minimizar em problemas de aprendizagem de máquina, é (-1) vezes o ln de uma função de verossimilhança, que deve ser maximizada para a obtenção de estimadores de verossimilhança.\n",
    "\n",
    "A função de verossimilhança relacionada à essa entropia binária corresponde a que modelo probabilístico?\n",
    "\n",
    "Escolha uma:<br>\n",
    "<b>a. Poisson<br>\n",
    "b. Normal<br>\n",
    "c. Bernoulli<br>\n",
    "d. Binomial<br>\n",
    "e. nenhuma das aprendidas em aula<br>"
   ]
  },
  {
   "cell_type": "code",
   "execution_count": 14,
   "metadata": {},
   "outputs": [
    {
     "name": "stdout",
     "output_type": "stream",
     "text": [
      "CORRETO\n",
      "Resposta: c. Bernoulli\n"
     ]
    }
   ],
   "source": [
    "#A função de verossimilhança é um produtório de uma função de dsitribuição de probabilidade \n",
    "#(que pode ser qq uma, bernoulli, poisson, normal, etc). Cada uma terá sua fórmula especifica. \n",
    "#Precisamos maximizar essa função de verossimilhança para podermos obter os melhores parâmetros \n",
    "#para o nosso estimador, gerando a melhor estimativa.\n",
    "#Porque estimativa? Pq não conhecemos todos os parâmetros dos nossos dados, temos apenas uma amostra. \n",
    "#E a idéia da inferência estatística é que a partir dessa amostra conseguimos ESTIMAR o todo.\n",
    "#Para maximizar, derivamos e igualamos a zero. E para saber o quão confiável é essa estimativa, \n",
    "#nós encontramos o intervalo de confiança. Ele é a amplitude (maior menos menor) da curva de distribuição.\n",
    "\n",
    "#Nesse caso, da equação de entropia, é possível observar pelo formato da equação \n",
    "#e pelo tipo de dado (0, 1) que temos uma distribuição de bernoulli.\n",
    "#Portanto, a resposta é Bernoulli.\n",
    "print('CORRETO')\n",
    "print('Resposta: c. Bernoulli')"
   ]
  },
  {
   "cell_type": "markdown",
   "metadata": {},
   "source": [
    "### Exercício 3\n",
    "Uma estratégia comum para solucionar o problema do aprendizado com conjunto de dados com classes desbalanceadas resume-se a métodos que visam balancear a distribuição das classes. Japkowicz (2000) compara algumas abordagens para lidar com conjuntos com classes desbalanceadas e conclui que under e over-sampling são métodos efetivos para aprender nessas circunstâncias. Under-sampling resume-se a selecionar uma amostra aleatória da classe majoritária de modo a balancear ambas as classes. Over-sampling consiste em multiplicar algumas unidades da classe minoritária, com o mesmo intuito de balanceamento.\n",
    "\n",
    "Japkowicz, Nathalie. (2000). Learning from Imbalanced Data Sets: A Comparison of Various Strategies. In AAAI Workshop on Learning for Imbalanced Datasets, Menlo Park, CA. AAAI Press.\n",
    "\n",
    "Suponha uma variável aleatória X com distribuição de Bernoulli, com parâmetro p.  Seja  <img src='.\\img\\formula1.gif'> \n",
    "estimador da probabilidade de sucesso, p, baseado numa amostra aleatória de tamanho 2n. Analogamente,  <img src='.\\img\\formula2.gif'>   é o estimador da mesma probabilidade de sucesso, p, baseado numa amostra aleatória de tamanho n. É <font color='red'><b>incorreto</b></font> afirmar que:\n",
    "\n",
    "\n",
    "\n",
    "Escolha uma:<br>\n",
    "<b>a. Os erros quadráticos médios de ambos os estimadores são iguais às respectivas variâncias.<br>\n",
    "b. A variância de  Pn  é maior do que a variância de  P2n  <br>\n",
    "c. A distribuição de ambos os estimadores converge para a distribuição Normal<br>\n",
    "d. Ambos os estimadores  Pn  e  P2n  são não viciados para P<br>\n",
    "e. O intervalo de confiança para p, com mesmo nível de confiança (1- alpha) , terá a mesma amplitude para qualquer um dos dois estimadores que usarmos.<br>"
   ]
  },
  {
   "cell_type": "code",
   "execution_count": 13,
   "metadata": {},
   "outputs": [
    {
     "name": "stdout",
     "output_type": "stream",
     "text": [
      "CORRETO\n",
      "Resposta: e. O intervalo de confiança para p, com mesmo nível de confiança (1- alpha) , terá a mesma amplitude para qualquer um dos dois estimadores que usarmos.\n"
     ]
    }
   ],
   "source": [
    "#IC = P(L < Teta < U) = 1 - alpha\n",
    "\n",
    "#Teta = (Xbarra - u)/(sigma/sqrt(n))\n",
    "#ICn = P(L < (Xbarra - u)/(sigma/sqrt(n)) < U)\n",
    "#IC2n = P(L < (Xbarra - u)/(sigma/sqrt(2n)) < U)\n",
    "\n",
    "#Logo, IC2n < IC\n",
    "print('CORRETO')\n",
    "#Assim, temos que a amplitude de estimadores do 2n será menor que a amplitude de n.\n",
    "print('Resposta: e. O intervalo de confiança para p, com mesmo nível de confiança (1- alpha) , terá a mesma amplitude para qualquer um dos dois estimadores que usarmos.')"
   ]
  },
  {
   "cell_type": "markdown",
   "metadata": {},
   "source": [
    "### Exercício 4\n",
    "O número de barcos que chegam por dia em um porto secundário no estado do Rio de Janeiro (variável X) tem distribuição de Poisson de parâmetro  \\lambda . Numa amostra aleatória de tamanho 4, o total de barcos que chegaram nos 4 dias é igual a 20. Qual é a afirmação <font color='red'><b>incorreta</b></font>?\n",
    "\n",
    "Escolha uma:<br>\n",
    "<b>a. Usar o Teorema Central do Limite (TCL) neste caso para obter o intervalo de confiança para  \\lambda  é inadequado.<br>\n",
    "b. Não é possível calcular o valor do estimador de máxima verossimilhança da média de X porque os valores individuais da amostra não foram fornecidos.<br>\n",
    "c. O estimador de máxima verossimilhança de  \\lambda  é não viciado.<br>\n",
    "d. O valor do estimador de máxima verossimilhança do número médio de barcos que chegam por dia no porto é igual a 5<br>\n",
    "e. Os estimadores de máxima verossimilhança da média e da variância de X são iguais <br>"
   ]
  },
  {
   "cell_type": "code",
   "execution_count": 15,
   "metadata": {},
   "outputs": [
    {
     "name": "stdout",
     "output_type": "stream",
     "text": [
      "CORRETO\n",
      "Resposta: b. Não é possível calcular o valor do estimador de máxima verossimilhança da média de X porque os valores individuais da amostra não foram fornecidos.\n"
     ]
    }
   ],
   "source": [
    "#x ~ número de barcos que chegam no RIO\n",
    "\n",
    "#distribuição de Poisson\n",
    "#Poisson = ((e**(-lambda))*(lambda**x))/(fatorial(x))\n",
    "#Função Verossimilhança de Poisson = Produtorio(Poisson)\n",
    "\n",
    "#Estimador máxima verossimilhança de Poisson = Xbarra = Média = n.p\n",
    "\n",
    "import random\n",
    "import math\n",
    "from math import e\n",
    "\n",
    "def fatorial(n):\n",
    "    if n == 0 or n == 1:\n",
    "        return 1 \n",
    "    else:\n",
    "        return n * fatorial(n - 1) \n",
    "\n",
    "def poisson(lambdaa,x):\n",
    "    return ((e**(-lambdaa))*(lambdaa**x))/(fatorial(x))\n",
    "     \n",
    "\n",
    "n = 4 #tamanho da amostra\n",
    "X = 20 #numero de barcos que chegam nos 4 dias\n",
    "print('CORRETO')\n",
    "print('Resposta: b. Não é possível calcular o valor do estimador de máxima verossimilhança da média de X porque os valores individuais da amostra não foram fornecidos.')\n"
   ]
  },
  {
   "cell_type": "code",
   "execution_count": null,
   "metadata": {},
   "outputs": [],
   "source": []
  }
 ],
 "metadata": {
  "kernelspec": {
   "display_name": "Python 3",
   "language": "python",
   "name": "python3"
  },
  "language_info": {
   "codemirror_mode": {
    "name": "ipython",
    "version": 3
   },
   "file_extension": ".py",
   "mimetype": "text/x-python",
   "name": "python",
   "nbconvert_exporter": "python",
   "pygments_lexer": "ipython3",
   "version": "3.8.3"
  },
  "toc": {
   "base_numbering": 1,
   "nav_menu": {},
   "number_sections": true,
   "sideBar": true,
   "skip_h1_title": false,
   "title_cell": "Table of Contents",
   "title_sidebar": "Contents",
   "toc_cell": false,
   "toc_position": {},
   "toc_section_display": true,
   "toc_window_display": false
  }
 },
 "nbformat": 4,
 "nbformat_minor": 2
}
