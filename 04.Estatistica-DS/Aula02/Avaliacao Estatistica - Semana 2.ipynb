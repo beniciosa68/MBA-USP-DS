{
 "cells": [
  {
   "cell_type": "markdown",
   "metadata": {},
   "source": [
    "# <span style=\"color:blue\"> MBA em Ciência de Dados</span>\n",
    "# <span style=\"color:blue\">Estatística para Ciência de Dados</span>\n",
    "\n",
    "## <span style=\"color:blue\">Semana 2</span>\n",
    "**Material Produzido por Mariana Cúri**<br>\n",
    "**Cemeai - ICMC/USP São Carlos**"
   ]
  },
  {
   "cell_type": "markdown",
   "metadata": {},
   "source": [
    "<font color='red'> As respostas devem ser fornecidas no Moodle. O notebook é apenas para a implementação dos códigos que fornecerão as respostas</font>"
   ]
  },
  {
   "cell_type": "markdown",
   "metadata": {},
   "source": [
    "### Exercício 1\n",
    "Um banco lança um determinado fundo e avalia a rentabilidade segundo dois cenários econômicos.\n",
    "\n",
    "O primeiro cenário é o de aumento da taxa de juros e, nesse caso, a rentabilidade do fundo é certamente positiva.\n",
    "No segundo cenário, de queda ou de manutenção da taxa de juros, a probabilidade de a rentabilidade do fundo ser positiva é de 0,4.\n",
    "Considere ainda que a probabilidade de a taxa de juros subir seja de 70%. \n",
    "\n",
    "A probabilidade de que a rentabilidade do fundo seja positiva, é de:\n",
    "\n",
    "\n",
    "Escolha uma:<br>\n",
    "<b>a. 98%</b><br>\n",
    "<b>b. 70%</b><br>\n",
    "<b>c. 74%</b><br>\n",
    "<b>d. 78%</b><br>\n",
    "<b>e. 82%</b><br>"
   ]
  },
  {
   "cell_type": "code",
   "execution_count": 5,
   "metadata": {},
   "outputs": [
    {
     "name": "stdout",
     "output_type": "stream",
     "text": [
      "Resposta: e) 82%\n"
     ]
    }
   ],
   "source": [
    "#A1: aumento juros\n",
    "#A2: diminui juros\n",
    "#A3: rentabilidade positiva\n",
    "\n",
    "#Árvore de ramos\n",
    "#                 -1---A3\n",
    "#    -0.7---A1---|\n",
    "#   |            -0---Ac3\n",
    "#---|\n",
    "#   |            -0.4---A3\n",
    "#   -0.3---A2---|\n",
    "#               -0.6---Ac3\n",
    "\n",
    "#P(A3)=P(A1A3) + P(A2A3)\n",
    "\n",
    "#OMEGA = {A1A3;A1Ac3;A2A3;A2Ac3}\n",
    "\n",
    "#P(A1A3)=P(A1).P(A3|A1) = 0.7 x 1 = 0.7\n",
    "#P(A1A2)=P(A1).P(A2|A1) = 0.3 x 0.4 = 0.12\n",
    "\n",
    "#P(A3) = 0.7 + 0.12 = 0.82\n",
    "#P(A3) = 82%\n",
    "\n",
    "print(\"Resposta: e) 82%\")"
   ]
  },
  {
   "cell_type": "markdown",
   "metadata": {},
   "source": [
    "### Exercício 2\n",
    "Um equipamento é aprovado para uso quatro vezes mais frequentemente do que reprovado, quando testado todas as manhãs. Cada manhã o teste é realizado de modo independente. A probabilidade de que, em dois dias seguidos, o equipamento seja reprovado, pelo menos uma vez, é igual a:\n",
    "\n",
    "Escolha uma:<br>\n",
    "<b>a. 4/5</b><br>\n",
    "<b>b. 9/25</b><br>\n",
    "<b>c. 1/25</b><br>\n",
    "<b>d. 1/5</b><br>\n",
    "<b>e. 6/25</b><br>"
   ]
  },
  {
   "cell_type": "code",
   "execution_count": 6,
   "metadata": {},
   "outputs": [
    {
     "name": "stdout",
     "output_type": "stream",
     "text": [
      "Resposta: b) 9/25\n"
     ]
    }
   ],
   "source": [
    "#A1: aprovado\n",
    "#A2: reprovado\n",
    "\n",
    "#P(A1) = 4 x P(A2)\n",
    "#P(A1) + P(A2) = 1\n",
    "#4 x P(A2) + P(A2) = 1\n",
    "#5 x P(A2) = 1\n",
    "\n",
    "#P(A2) = 0.2\n",
    "#P(A1) = 0.8\n",
    "\n",
    "#Árvore de ramos\n",
    "#                 -0.8---A1\n",
    "#    -0.8---A1---|\n",
    "#   |            -0.2---A2\n",
    "#---|\n",
    "#   |            -0.8---A1\n",
    "#   -0.2---A2---|\n",
    "#               -0.2---A2\n",
    "\n",
    "#ÔMEGA = {A1A1;A1A2;A2A1;A2A2}\n",
    "\n",
    "#P(A1A2) + P(A2A1) + P(A2A2) = ? #probabilidade que em 2 dias seguidos o equipamento seja reprovado pelo menos 1 vez\n",
    "#P(A1A2) = P(A1) . P(A2|A1) = 0.8 x 0.2 = 0.16\n",
    "#P(A2A1) = P(A2) . P(A1|A2) = 0.8 x 0.2 = 0.16\n",
    "#P(A2A2) = P(A2) . P(A2|A2) = 0.2 x 0.2 = 0.04\n",
    "\n",
    "#0.16 + 0.16 + 0.04 = 0.36 = 36/100 = 9/25\n",
    "\n",
    "print(\"Resposta: b) 9/25\")"
   ]
  },
  {
   "cell_type": "markdown",
   "metadata": {},
   "source": [
    "### Exercício 3\n",
    "A porcentagem de álcool (100 X) em certo composto pode ser considerada uma variável aleatória, onde X, 0<x<1, tem a seguinte função densidade de probabilidade:\n",
    "\n",
    " f(x)=20x^3(1-x) \n",
    "\n",
    "Suponha que o preço de venda desse composto dependa do conteúdo de álcool. Especificamente, se 1/3 < x < 2/3, o composto se vende por C1 reais o litro; caso contrário, ele se vende por C2 reais o litro. Se o custo for C3 reais por litro, qual o lucro líquido esperado por litro? Use uma casa decimal para os cálculos.\n",
    "\n",
    "\n",
    "Escolha uma:<br>\n",
    "<b>a. 0,8C1+0,2C2-C3</b><br>\n",
    "<b>b. 0,4C1+0,6C2-C3</b><br>\n",
    "<b>c. 0,2C1+0,8C2-C3</b><br>\n",
    "<b>d. C1+C2-C3</b><br>\n",
    "<b>e. 0,3C1+0,7C2-C3</b><br>"
   ]
  },
  {
   "cell_type": "code",
   "execution_count": 7,
   "metadata": {},
   "outputs": [
    {
     "name": "stdout",
     "output_type": "stream",
     "text": [
      "Resposta: b) 0,4C1+0,6C2-C3\n"
     ]
    }
   ],
   "source": [
    "print(\"Resposta: b) 0,4C1+0,6C2-C3\")"
   ]
  },
  {
   "cell_type": "code",
   "execution_count": 42,
   "metadata": {},
   "outputs": [
    {
     "name": "stdout",
     "output_type": "stream",
     "text": [
      "Resolvendo a integral que corresponde ao P(C1): \n"
     ]
    },
    {
     "data": {
      "image/png": "[encoded data removed]",
      "text/latex": [
       "$\\displaystyle \\int 20 x^{3} \\left(1 - x\\right)\\, dx$"
      ],
      "text/plain": [
       "⌠                 \n",
       "⎮     3           \n",
       "⎮ 20⋅x ⋅(1 - x) dx\n",
       "⌡                 "
      ]
     },
     "execution_count": 42,
     "metadata": {},
     "output_type": "execute_result"
    }
   ],
   "source": [
    "from sympy import *\n",
    "init_printing(pretty_print=true)\n",
    "\n",
    "#X: percentual de álcool\n",
    "#Y: lucro líquido\n",
    "\n",
    "# 1/3 < x < 2/3 -> C1\n",
    "# caso contrário -> C2\n",
    "# custo -> C3\n",
    "\n",
    "#Y = Venda - Custo\n",
    "#Y = P(C1).C1 + P(C2).C2 - C3\n",
    "\n",
    "x = Symbol('x')\n",
    "print(\"Resolvendo a integral que corresponde ao P(C1): \")\n",
    "Integral((20*((x**3)*(1-x))))"
   ]
  },
  {
   "cell_type": "code",
   "execution_count": 41,
   "metadata": {},
   "outputs": [
    {
     "name": "stdout",
     "output_type": "stream",
     "text": [
      "P(C1) =  0.4 \n",
      "P(C2) =  0.6 \n",
      "\n",
      "0,4C1+0,6C2-C3\n"
     ]
    }
   ],
   "source": [
    "from scipy.integrate import quad\n",
    "\n",
    "def f(x):\n",
    "    return (20*((x**3)*(1-x)))\n",
    "\n",
    "i, err = quad(f, 1/3, 2/3)\n",
    "print(\"P(C1) = \", \"%.1f \" % i)\n",
    "print(\"P(C2) = \", \"%.1f \" % (1-i))\n",
    "print()\n",
    "print(\"0,4C1+0,6C2-C3\")"
   ]
  },
  {
   "cell_type": "markdown",
   "metadata": {},
   "source": [
    "### Exercício 4\n",
    "Qual das alternativas descreve eventos dependentes?\n",
    "\n",
    "Escolha uma:<br>\n",
    "<b>a. Os resultados dos lançamentos de duas moedas</b><br>\n",
    "<b>b. Os tempos de duração de duas músicas tocadas no rádio</b><br>\n",
    "<b>c. Os resultados das seleções de duas cartas de um baralho, com reposição</b><br>\n",
    "<b>d. Os resultados do lançamento de uma moeda e da seleção de uma carta de um baralho</b><br>\n",
    "<b>e. O número de carros que passam em duas cabines de pedágio posicionadas uma ao lado da outra</b><br>"
   ]
  },
  {
   "cell_type": "code",
   "execution_count": 11,
   "metadata": {},
   "outputs": [
    {
     "name": "stdout",
     "output_type": "stream",
     "text": [
      "Resposta e) O número de carros que passam em duas cabines de pedágio posicionadas uma ao lado da outra\n",
      "\n",
      "Neste caso, o número de carros em uma cabine pode ser influenciado pelo número de carros da outra cabine, sendo que se tivermos muitos carros na cabine 1, a probabilidade do próximo carro escolher a cabine 2 é muito maior.\n"
     ]
    }
   ],
   "source": [
    "print(\"Resposta e) O número de carros que passam em duas cabines de pedágio posicionadas uma ao lado da outra\")\n",
    "print()\n",
    "print(\"Neste caso, o número de carros em uma cabine pode ser influenciado pelo número de carros da outra cabine, sendo que se tivermos muitos carros na cabine 1, a probabilidade do próximo carro escolher a cabine 2 é muito maior.\")"
   ]
  },
  {
   "cell_type": "markdown",
   "metadata": {},
   "source": [
    "### Exercício 5\n",
    "Peças saem de uma linha de produção e são marcadas como defeituosas (D) ou não-defeituosas (N). As peças são inspecionadas e sua condição registrada. Isto é feito até que duas peças defeituosas consecutivas sejam  fabricadas ou que quatro peças tenham sido inspecionadas (o que ocorrer em primeiro lugar). Quantos elementos tem o espaço amostral desse experimento?\n",
    "\n",
    "Escolha uma:<br>\n",
    "<b>a. 10</b><br>\n",
    "<b>b. 12</b><br>\n",
    "<b>c. 9</b><br>\n",
    "<b>d. 16</b><br>\n",
    "<b>e. 8</b><br>"
   ]
  },
  {
   "cell_type": "code",
   "execution_count": 4,
   "metadata": {},
   "outputs": [
    {
     "name": "stdout",
     "output_type": "stream",
     "text": [
      "Resposta b) 12\n"
     ]
    }
   ],
   "source": [
    "print(\"Resposta b) 12\")\n",
    "\n",
    "#D = defeituosas\n",
    "#N = não defeituosas\n",
    "\n",
    "#Condição: DD ou 4 inspeções\n",
    "\n",
    "#Espaço Amostral Ômega:\n",
    "#{\n",
    "#    DD;\n",
    "#    DNNN; DNND; DNDD; DNDN\n",
    "#    NDNN; NDND; NDD;\n",
    "#    NNDN; NNDD;\n",
    "#    NNND; NNNN\n",
    "#}"
   ]
  }
 ],
 "metadata": {
  "kernelspec": {
   "display_name": "Python 3",
   "language": "python",
   "name": "python3"
  },
  "language_info": {
   "codemirror_mode": {
    "name": "ipython",
    "version": 3
   },
   "file_extension": ".py",
   "mimetype": "text/x-python",
   "name": "python",
   "nbconvert_exporter": "python",
   "pygments_lexer": "ipython3",
   "version": "3.7.6"
  },
  "toc": {
   "base_numbering": 1,
   "nav_menu": {},
   "number_sections": true,
   "sideBar": true,
   "skip_h1_title": false,
   "title_cell": "Table of Contents",
   "title_sidebar": "Contents",
   "toc_cell": false,
   "toc_position": {},
   "toc_section_display": true,
   "toc_window_display": false
  }
 },
 "nbformat": 4,
 "nbformat_minor": 2
}
