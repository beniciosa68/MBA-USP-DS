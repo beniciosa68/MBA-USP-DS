{
 "cells": [
  {
   "cell_type": "markdown",
   "metadata": {},
   "source": [
    "# <span style=\"color:blue\"> MBA em Ciência de Dados</span>\n",
    "# <span style=\"color:blue\">Estatística para Ciência de Dados</span>\n",
    "\n",
    "## <span style=\"color:blue\">Semana 1</span>\n",
    "**Material Produzido por Mariana Cúri**<br>\n",
    "**Cemeai - ICMC/USP São Carlos**"
   ]
  },
  {
   "cell_type": "markdown",
   "metadata": {},
   "source": [
    "<font color='red'> As respostas devem ser fornecidas no Moodle. O notebook é apenas para a implementação dos códigos que fornecerão as respostas</font>"
   ]
  },
  {
   "cell_type": "markdown",
   "metadata": {},
   "source": [
    "### Exercício 1\n",
    "Uma empresa decidiu fazer uma pesquisa sobre vacinação entre seus funcionários, após a ocorrência de vários casos de sarampo em um de seus departamentos.\n",
    "\n",
    "Com relação à vacina tríplice viral (sarampo, rubéola e caxumba), identificou-se que a maioria dos funcionários havia tomado 2 doses (uma dose com um ano de idade e uma dose de reforço, após 5 anos de idade), conforme orientação do ministério da saúde. No entanto, identificou-se que 140 funcionários nunca haviam tomado nenhuma dose e que alguns haviam tomado uma única dose (ou seja, não tomaram a dose de reforço).\n",
    "\n",
    "Sabendo que a média do número de doses tomadas pelos funcionários foi de 1,2, qual o número de funcionários que tomou apenas 1 dose e que tomou 2 doses, respectivamente?<br>\n",
    "\n",
    "\n",
    "\n",
    "Escolha uma:<br>\n",
    "<b>a. 60 e 225</b><br>\n",
    "<b>b. 100 e 325</b><br>\n",
    "<b>c. 240 e 270</b><br>\n",
    "<b>d. 40 e 320</b><br>\n",
    "<b>e. 200 e 260</b><br>"
   ]
  },
  {
   "cell_type": "code",
   "execution_count": 134,
   "metadata": {},
   "outputs": [
    {
     "name": "stdout",
     "output_type": "stream",
     "text": [
      "Resposta: e) 200 e 260\n"
     ]
    }
   ],
   "source": [
    "#numero de funcionarios com 2 dose(s): x\n",
    "#numero de funcionarios com 1 dose(s): y\n",
    "#numero de funcionarios com 0 dose(s): 140\n",
    "#média do número de doses tomadas: 1,2\n",
    "\n",
    "#qual x e qual y?\n",
    "\n",
    "#média = sum (numero doses/qtd funcionarios)\n",
    "#qtd funcionarios = Z = 140 + x + y\n",
    "\n",
    "#1,2 = 2x/Z + y/Z\n",
    "#(2x+y)/Z = 1,2\n",
    "#Z = (2x+y)/1,2\n",
    "\n",
    "#140 + x + y = (2x+y)/1,2\n",
    "#168 + 1,2x + 1,2y = 2x + y\n",
    "#0,8x - 0,2y = 168\n",
    "#x = (168 + 0,2y)/0,8\n",
    "#x = 210 + 0,25y\n",
    "\n",
    "#--> Total de funcionarios = 100%\n",
    "#x/100 + y/100 + 140/100 = 1\n",
    "\n",
    "#0,01x + 0,01y + 1,4 = 1\n",
    "#0,01(210+0,25y) + 0,01y = -0,4\n",
    "#2,1 + 0,0025y + 0,01y = -0,4\n",
    "#0,0125y = -2,5\n",
    "#y = 200 --> número de funcionarios com 1 dose(s)\n",
    "\n",
    "#x = 210 + 0,25*200\n",
    "#x = 260 --> número de funcionarios com 2 dose(s)\n",
    "\n",
    "#Total Funcionarios = 140 + 260 + 200 = 600\n",
    "\n",
    "print(\"Resposta: e) 200 e 260\")"
   ]
  },
  {
   "cell_type": "markdown",
   "metadata": {},
   "source": [
    "### Exercício 2\n",
    "O presidente da câmara dos deputados defende a redução dos salários dos servidores para minimizar o impacto econômico causado pela pandemia do coronavírus.\n",
    "\n",
    "O texto inicial do projeto prevê uma redução de 30% para todos os servidores federais.  Em relação às estatísticas dos novos salários, considere as afirmativas abaixo:<br>\n",
    "\n",
    "I - A média diminui em 30%<br>\n",
    "\n",
    "II - A variância diminui em 30%<br>\n",
    "\n",
    "III - O coeficiente de variação não se altera<br>\n",
    "\n",
    "É correto o que se afirma em:<br>\n",
    "\n",
    "Escolha uma:<br>\n",
    "<b>a. I, apenas</b><br>\n",
    "<b>b. I, II e III</b><br>\n",
    "<b>c. II e III, apenas</b><br>\n",
    "<b>d. II, apenas</b><br>\n",
    "<b>e. I e III, apenas</b><br>"
   ]
  },
  {
   "cell_type": "code",
   "execution_count": 133,
   "metadata": {},
   "outputs": [
    {
     "name": "stdout",
     "output_type": "stream",
     "text": [
      "Resposta: e) I e III, apenas\n",
      "\n",
      "Média atual:  2500.0\n",
      "Média nova:  1750.0\n",
      "Redução na média: 30.00 %\n",
      "\n",
      "Variância atual:  1666666.6666666667\n",
      "Variância nova:  816666.6666666666\n",
      "Redução na variância: 51.00 %\n",
      "\n",
      "Desvio Padrão atual:  2309.4010767585028\n",
      "Desvio Padrão nova:  1616.5807537309522\n",
      "Redução na desvio padrão: 30.00 %\n",
      "\n",
      "CV atual:  0.9237604307034011\n",
      "CV novo:  0.9237604307034013\n"
     ]
    }
   ],
   "source": [
    "import math as m\n",
    "#valores a serem testados:\n",
    "s1=1000\n",
    "s2=2000\n",
    "s3=3000\n",
    "s4=4000\n",
    "n = 4\n",
    "\n",
    "print(\"Resposta: e) I e III, apenas\")\n",
    "\n",
    "print()\n",
    "\n",
    "avg = s1/n+s2/n+s3/n+s4/n\n",
    "avg_new = (s1-s1*0.3)/n+(s2-s2*0.3)/n+(s3-s3*0.3)/n+(s4-s4*0.3)/n\n",
    "\n",
    "print(\"Média atual: \",avg)\n",
    "print(\"Média nova: \",avg_new)\n",
    "print(\"Redução na média: \" + \"%.2f\" % ((1-(avg_new/avg))*100) + \" %\")\n",
    "\n",
    "print()\n",
    "\n",
    "var = ((s1-avg)**2)/(n-1)+((s2-avg)**2)/(n-1)+((s3-avg)**2)/(n-1)+((s4-avg)**2)/(n-1)\n",
    "var_new = ((0.7*s1-avg_new)**2)/(n-1)+((0.7*s2-avg_new)**2)/(n-1)+((0.7*s3-avg_new)**2)/(n-1)+((0.7*s4-avg_new)**2)/(n-1)\n",
    "\n",
    "print(\"Variância atual: \",var)\n",
    "print(\"Variância nova: \",var_new)\n",
    "print(\"Redução na variância: \" + \"%.2f\" % ((1-(var_new/var))*100) + \" %\")\n",
    "\n",
    "print()\n",
    "\n",
    "desv = m.sqrt(((s1-avg)**2)/(n-1))+m.sqrt(((s2-avg)**2)/(n-1))+m.sqrt(((s3-avg)**2)/(n-1))+m.sqrt(((s4-avg)**2)/(n-1))\n",
    "desv_new = m.sqrt(((0.7*s1-avg_new)**2)/(n-1))+m.sqrt(((0.7*s2-avg_new)**2)/(n-1))+m.sqrt(((0.7*s3-avg_new)**2)/(n-1))+m.sqrt(((0.7*s4-avg_new)**2)/(n-1))\n",
    "\n",
    "print(\"Desvio Padrão atual: \",desv)\n",
    "print(\"Desvio Padrão nova: \",desv_new)\n",
    "print(\"Redução na desvio padrão: \" + \"%.2f\" % ((1-(desv_new/desv))*100) + \" %\")\n",
    "\n",
    "CV = desv/avg\n",
    "CV_new = desv_new/avg_new\n",
    "\n",
    "print()\n",
    "\n",
    "print(\"CV atual: \",CV)\n",
    "print(\"CV novo: \",CV_new)"
   ]
  },
  {
   "cell_type": "markdown",
   "metadata": {},
   "source": [
    "### Exercício 3\n",
    "Uma loja de aluguel de roupas mantém um histórico do número de roupas de festa alugadas nos \n",
    "\n",
    "últimos 80 dias, como mostrado abaixo:\n",
    "\n",
    "\n",
    "  <b>Nº de roupas----------Nº de dias</b><br>\n",
    "       00 - 19------------------------05<br>\n",
    "       20 - 39------------------------15<br>\n",
    "       40 - 59------------------------30<br>\n",
    "       60 - 79------------------------20<br>\n",
    "       80 - 99------------------------10<br>\n",
    "        Total---------------------------80<br>\n",
    "\n",
    "Se o aluguel de cada roupa gera um lucro de R$ 50,00 por dia, o lucro da loja nesse período de 80 dias será:\n",
    "\n",
    "Escolha uma:<br>\n",
    "<b>a. Sem os valores individuais, não é possível fazer nenhuma aproximação para esse lucro</b><br>\n",
    "<b>b. 4.260,00</b><br>\n",
    "<b>c. acima de 251.000,00</b><br>\n",
    "<b>d. 4.000,00</b><br>\n",
    "<b>e. da ordem de 213.000,00</b><br>"
   ]
  },
  {
   "cell_type": "code",
   "execution_count": 151,
   "metadata": {},
   "outputs": [
    {
     "name": "stdout",
     "output_type": "stream",
     "text": [
      "Resposta: e) da ordem de 213.000\n",
      "\n",
      "   num_roupas  num_dias\n",
      "0          10         5\n",
      "1          30        15\n",
      "2          45        30\n",
      "3          70        20\n",
      "4          90        10\n",
      "\n",
      "Média de lucro:  51.875\n",
      "Considerando a média do número de roupas arredondado para cima, temos um lucro aproximado de:  215281.25\n"
     ]
    }
   ],
   "source": [
    "import matplotlib.pyplot as plt\n",
    "import pandas as pd\n",
    "import statistics as stat\n",
    "import numpy as np\n",
    "import math as m\n",
    "\n",
    "print(\"Resposta: e) da ordem de 213.000\")\n",
    "print()\n",
    "dic = {'num_roupas':[m.ceil(stat.mean([0,19])),m.ceil(stat.mean([20,39])),m.ceil(stat.mean([30,59])),m.ceil(stat.mean([60,79])),m.ceil(stat.mean([80,99]))],'num_dias':[5,15,30,20,10]}\n",
    "df = pd.DataFrame(data=dic)\n",
    "print(df.head())\n",
    "print()\n",
    "n = 80\n",
    "avg = (df['num_dias'][0]/n)*(df['num_roupas'][0])+(df['num_dias'][1]/n)*(df['num_roupas'][1])+(df['num_dias'][2]/n)*(df['num_roupas'][2])+(df['num_dias'][3]/n)*(df['num_roupas'][3])+(df['num_dias'][4]/n)*(df['num_roupas'][4])\n",
    "print(\"Média de lucro: \",avg)\n",
    "\n",
    "#lucro = média*num_dias*num_roupas\n",
    "lucro = (avg*df['num_dias'][0]*df['num_roupas'][0]) + (avg*df['num_dias'][1]*df['num_roupas'][1]) + (avg*df['num_dias'][2]*df['num_roupas'][2]) + (avg*df['num_dias'][3]*df['num_roupas'][3]) + (avg*df['num_dias'][4]*df['num_roupas'][4])\n",
    "print(\"Considerando a média do número de roupas arredondado para cima, temos um lucro aproximado de: \",lucro)"
   ]
  },
  {
   "cell_type": "markdown",
   "metadata": {},
   "source": [
    "### Exercício 4\n",
    "Em Estatística, tomar decisões sobre a população baseando-se em informações de amostras é chamado:<br>\n",
    "\n",
    "Escolha uma:<br>\n",
    "<b>a. Estatística de amostras</b><br>\n",
    "<b>b. Tomada de decisão probabilística</b><br>\n",
    "<b>c. Tomada de decisão estatística</b><br>\n",
    "<b>d. Inferência estatística</b><br>\n",
    "<b>e. Inferência probabilística</b><br>"
   ]
  },
  {
   "cell_type": "code",
   "execution_count": 122,
   "metadata": {},
   "outputs": [
    {
     "name": "stdout",
     "output_type": "stream",
     "text": [
      "Resposta: d) Inferência estatística\n",
      "\n",
      "Inferência estatística é um ramo da Estatística cujo objetivo é fazer afirmações a partir de um conjunto de valores representativos (amostra) sobre um universo (população), assume-se que a população é muito maior do que o conjunto de dados observados, a amostra.\n"
     ]
    }
   ],
   "source": [
    "print(\"Resposta: d) Inferência estatística\")\n",
    "print()\n",
    "print(\"Inferência estatística é um ramo da Estatística cujo objetivo é fazer afirmações a partir de um conjunto de valores representativos (amostra) sobre um universo (população), assume-se que a população é muito maior do que o conjunto de dados observados, a amostra.\")"
   ]
  },
  {
   "cell_type": "markdown",
   "metadata": {},
   "source": [
    "### Exercício 5\n",
    "Indique (arraste e solte) qual dos valores se aproxima mais do coeficiente de correlação de Pearson dos dados representados nos gráficos I a V e se o uso desse coeficiente para quantificar a associação é adequado ou inadequado em cada situação.\n",
    "\n",
    "<img src=\"img/graficos_avaliacao.jpg\" alt=\"title\" >\n",
    "\n",
    "<b> é adequado</b><br>\n",
    "<b> é inadequado</b><br>\n",
    "<b> 0,0</b><br>\n",
    "<b> 0,8</b><br>\n",
    "<b>-0,5</b><br>\n",
    "\n",
    "No gráfico I, o coeficiente de correlação de Pearson é igual a _______________\n",
    " e seu uso para quantificar tal associação _______________. <br>\n",
    "\n",
    "No gráfico II, o coeficiente de correlação de Pearson é igual a _______________\n",
    " e seu uso para quantificar tal associação _______________. <br>\n",
    "\n",
    "No gráfico III, o coeficiente de correlação de Pearson é igual a _______________\n",
    " e seu uso para quantificar tal associação _______________.<br>\n",
    "\n",
    "No gráfico IV, o coeficiente de correlação de Pearson é igual a _______________\n",
    " e seu uso para quantificar tal associação _______________.<br>\n",
    "\n",
    "No gráfico V, o coeficiente de correlação de Pearson é igual a _______________\n",
    " e seu uso para quantificar tal associação _______________.<br>\n"
   ]
  },
  {
   "cell_type": "code",
   "execution_count": 126,
   "metadata": {},
   "outputs": [
    {
     "name": "stdout",
     "output_type": "stream",
     "text": [
      "No gráfico I, o coeficiente de correlação de Pearson é igual a 0,8 e seu uso para quantificar tal associação é adequado.\n",
      "No gráfico II, o coeficiente de correlação de Pearson é igual a 0,0 e seu uso para quantificar tal associação é inadequado.\n",
      "No gráfico III, o coeficiente de correlação de Pearson é igual a -0,5 e seu uso para quantificar tal associação é adequado.\n",
      "No gráfico IV, o coeficiente de correlação de Pearson é igual a 0,8 e seu uso para quantificar tal associação é inadequado.\n",
      "No gráfico V, o coeficiente de correlação de Pearson é igual a 0,8 e seu uso para quantificar tal associação é inadequado.\n"
     ]
    }
   ],
   "source": [
    "\n",
    "print(\"No gráfico I, o coeficiente de correlação de Pearson é igual a 0,8 e seu uso para quantificar tal associação é adequado.\")\n",
    "\n",
    "print(\"No gráfico II, o coeficiente de correlação de Pearson é igual a 0,0 e seu uso para quantificar tal associação é inadequado.\")\n",
    "\n",
    "print(\"No gráfico III, o coeficiente de correlação de Pearson é igual a -0,5 e seu uso para quantificar tal associação é adequado.\")\n",
    "\n",
    "print(\"No gráfico IV, o coeficiente de correlação de Pearson é igual a 0,8 e seu uso para quantificar tal associação é inadequado.\")\n",
    "\n",
    "print(\"No gráfico V, o coeficiente de correlação de Pearson é igual a 0,8 e seu uso para quantificar tal associação é inadequado.\")"
   ]
  },
  {
   "cell_type": "code",
   "execution_count": null,
   "metadata": {},
   "outputs": [],
   "source": []
  }
 ],
 "metadata": {
  "kernelspec": {
   "display_name": "Python 3",
   "language": "python",
   "name": "python3"
  },
  "language_info": {
   "codemirror_mode": {
    "name": "ipython",
    "version": 3
   },
   "file_extension": ".py",
   "mimetype": "text/x-python",
   "name": "python",
   "nbconvert_exporter": "python",
   "pygments_lexer": "ipython3",
   "version": "3.7.3"
  },
  "toc": {
   "base_numbering": 1,
   "nav_menu": {},
   "number_sections": true,
   "sideBar": true,
   "skip_h1_title": false,
   "title_cell": "Table of Contents",
   "title_sidebar": "Contents",
   "toc_cell": false,
   "toc_position": {},
   "toc_section_display": true,
   "toc_window_display": false
  }
 },
 "nbformat": 4,
 "nbformat_minor": 2
}
