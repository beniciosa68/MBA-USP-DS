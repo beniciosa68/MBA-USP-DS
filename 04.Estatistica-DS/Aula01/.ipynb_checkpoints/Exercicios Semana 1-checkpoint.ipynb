{
 "cells": [
  {
   "cell_type": "markdown",
   "metadata": {
    "raw_mimetype": "text/latex"
   },
   "source": [
    "# LISTA DE EXERCÍCIOS - SEMANA I"
   ]
  },
  {
   "cell_type": "markdown",
   "metadata": {},
   "source": [
    "<hr>"
   ]
  },
  {
   "cell_type": "markdown",
   "metadata": {},
   "source": [
    "## 1 - Dados ENEM"
   ]
  },
  {
   "cell_type": "markdown",
   "metadata": {},
   "source": [
    "**Questão1a)** Com os dados do ENEM, verifique quais escolhas públicas têm alunos com boas médias no ENEM (há um segundo pico na Média de escolas públicas) e se elas têm algo em comum, por exemplo, se são escolas técnicas ou alguma outra característica em comum."
   ]
  },
  {
   "cell_type": "code",
   "execution_count": 7,
   "metadata": {},
   "outputs": [],
   "source": []
  },
  {
   "cell_type": "markdown",
   "metadata": {},
   "source": [
    "## 2 - Dados Cotas"
   ]
  },
  {
   "cell_type": "markdown",
   "metadata": {},
   "source": [
    "**Questão 2a)**\n",
    "Construa um gráfico de Pareto descrevendo os valores gastos pelos deputados. Observe que, para cada deputado, a altura da barra deve representar o valor total gasto pelo deputado e não a frequência com que o deputado aparece na planilha de dados."
   ]
  },
  {
   "cell_type": "code",
   "execution_count": null,
   "metadata": {},
   "outputs": [],
   "source": []
  },
  {
   "cell_type": "markdown",
   "metadata": {},
   "source": [
    "**Questão 2b)** Construa uma tabela de frequências e o gráfico de barras do valor gasto por subcota."
   ]
  },
  {
   "cell_type": "code",
   "execution_count": null,
   "metadata": {},
   "outputs": [],
   "source": []
  },
  {
   "cell_type": "markdown",
   "metadata": {},
   "source": [
    "**Questão 2c)** Construa um gráfico de colunas empilhadas: uma coluna de 0 a 100% representando o total de gasto para cada subquota. Em cada coluna, diferenciar por cores o percentual gasto pelos deputados."
   ]
  },
  {
   "cell_type": "code",
   "execution_count": null,
   "metadata": {},
   "outputs": [],
   "source": []
  },
  {
   "cell_type": "markdown",
   "metadata": {},
   "source": [
    "**Questão 2d)** Construa os boxplots do valor gasto por subquota e calcule as medidas descritivas (média, mediana, mínimo, máximo e desvio padrão, por exemplo, também por subquotas)."
   ]
  },
  {
   "cell_type": "code",
   "execution_count": null,
   "metadata": {},
   "outputs": [],
   "source": []
  }
 ],
 "metadata": {
  "celltoolbar": "Raw Cell Format",
  "kernelspec": {
   "display_name": "Python 3",
   "language": "python",
   "name": "python3"
  },
  "language_info": {
   "codemirror_mode": {
    "name": "ipython",
    "version": 3
   },
   "file_extension": ".py",
   "mimetype": "text/x-python",
   "name": "python",
   "nbconvert_exporter": "python",
   "pygments_lexer": "ipython3",
   "version": "3.7.3"
  }
 },
 "nbformat": 4,
 "nbformat_minor": 4
}
