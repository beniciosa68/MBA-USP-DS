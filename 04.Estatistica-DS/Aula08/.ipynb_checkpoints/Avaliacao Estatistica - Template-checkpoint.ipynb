{
 "cells": [
  {
   "cell_type": "markdown",
   "metadata": {},
   "source": [
    "# <span style=\"color:blue\"> MBA em Ciência de Dados</span>\n",
    "# <span style=\"color:blue\">Estatística para Ciência de Dados</span>\n",
    "\n",
    "## <span style=\"color:blue\">Semana 8</span>\n",
    "**Material Produzido por Mariana Cúri**<br>\n",
    "**Cemeai - ICMC/USP São Carlos**"
   ]
  },
  {
   "cell_type": "markdown",
   "metadata": {},
   "source": [
    "<font color='red'> As respostas devem ser fornecidas no Moodle. O notebook é apenas para a implementação dos códigos que fornecerão as respostas</font>"
   ]
  },
  {
   "cell_type": "markdown",
   "metadata": {},
   "source": [
    "Os 4 gráficos abaixo representam análises de resíduos em função dos valores preditos para verificação do ajuste de modelos de regressão linear. \n",
    "<br>\n",
    "<img src='./img/graficos-avaliacao-1.gif'>\n",
    "<br>\n",
    "Com base nessas ilustrações, responda as questões de 1 a 5 abaixo."
   ]
  },
  {
   "cell_type": "markdown",
   "metadata": {},
   "source": [
    "### Exercício 1\n",
    "O gráfico (a) exemplifica um padrão de comportamento desejado não revelando nenhum problema com as suposições do modelo.\n",
    "\n",
    "Escolha uma opção:<br>\n",
    "(<font color='blue'><b>X</b></font>) Verdadeiro<br>\n",
    "() Falso<br>"
   ]
  },
  {
   "cell_type": "markdown",
   "metadata": {},
   "source": [
    "### Exercício 2\n",
    "O gráfico (b) indica um problema de heterocedasticidade\n",
    "\n",
    "Escolha uma opção:<br>\n",
    "(<font color='blue'><b>X</b></font>) Verdadeiro<br>\n",
    "() Falso<br>"
   ]
  },
  {
   "cell_type": "markdown",
   "metadata": {},
   "source": [
    "### Exercício 3\n",
    "O gráfico (c) representa um problema de associação não linear entre a resposta e os preditores\n",
    "\n",
    "Escolha uma opção:<br>\n",
    "() Verdadeiro<br>\n",
    "(<font color='blue'><b>X</b></font>) Falso<br>"
   ]
  },
  {
   "cell_type": "markdown",
   "metadata": {},
   "source": [
    "### Exercício 4\n",
    "O gráfico (d) indica desvios da normalidade da variável resposta\n",
    "\n",
    "Escolha uma opção:<br>\n",
    "() Verdadeiro<br>\n",
    "(<font color='blue'><b>X</b></font>) Falso<br>"
   ]
  },
  {
   "cell_type": "markdown",
   "metadata": {},
   "source": [
    "### Exercício 5\n",
    "O gráfico (d) indica não linearidade, talvez devido à ausência de algum preditor importante no modelo.\n",
    "\n",
    "Escolha uma opção:<br>\n",
    "(<font color='blue'><b>X</b></font>) Verdadeiro<br>\n",
    "() Falso<br>"
   ]
  },
  {
   "cell_type": "markdown",
   "metadata": {},
   "source": [
    "### Exercício 6\n",
    "Com o conjunto de dados do estudo do Prestígio das ocupações profissionais usados na aula da semana 7 e ajuste os modelos de regressão linear múltipla com as seguintes variáveis explicativas (considerando Prestige como a variável resposta):\n",
    "\n",
    "1) Education e Income \n",
    "\n",
    "2) Education e Income e respectiva interação\n",
    "\n",
    "3) Education e Income, ambas padronizadas\n",
    "\n",
    "4) Education e Income, ambas padronizadas, e respectiva interação\n",
    "\n",
    "Ajuste os modelos padronizados com e depois sem intercepto (basta incluir -1 no modelo, junto com os preditores, na função usada em aulas passadas). Calcule o VIF de cada preditor com o comando:\n",
    "\n",
    "statsmodels.stats.outliers_influence.variance_inflation_factor\n",
    "\n",
    "Assinale a alternativa <font color='red'><b>INCORRETA</b></font>.\n",
    "\n",
    "\n",
    "Escolha uma:<br><br>\n",
    "<b>a. No modelo de regressão sem interação, com as variáveis padronizadas e sem intercepto, pode-se dizer que a cada ano de estudo adicional, o prestígio da ocupação profissional aumenta em 0,69 unidades, em média<font color='red'><b> F</b></font><br><br><br></b>\n",
    "b. Os coeficientes de determinação dos modelos 2 e 4 (com intercepto) são exatamente iguais.<font color='green'><b> V</b></font><b> No caso, obtivemos - Log-Likelihood: -331.07</b><br><br>\n",
    "c. O modelo de regressão padronizado deve ser ajustado sem intercepto quando as médias de todas as variáveis explicativas no modelo são iguais a 0, fazendo com que a função predita passe pela origem.<font color='green'><b> V</b></font><br><br><br><br>\n",
    "d. A padronização das variáveis resolveu o problema da multicolinearidade, quando este existia<font color='green'><b> V</b></font><br><br>\n",
    "e. O modelo sem interação com os preditores não padronizados não apresentou problema de multicolinearidade. Este problema apareceu quando o termo de interação foi inserido.<font color='red'><b> F</b></font><br><br><br><br>"
   ]
  },
  {
   "cell_type": "code",
   "execution_count": 1,
   "metadata": {},
   "outputs": [
    {
     "name": "stdout",
     "output_type": "stream",
     "text": [
      "            occupation  education  income  women  prestige  census  type  \\\n",
      "0   gov.administrators      13.11   12351  11.16      68.8    1113  prof   \n",
      "1     general.managers      12.26   25879   4.02      69.1    1130  prof   \n",
      "2          accountants      12.77    9271  15.70      63.4    1171  prof   \n",
      "3  purchasing.officers      11.42    8865   9.11      56.8    1175  prof   \n",
      "4             chemists      14.62    8403  11.68      73.5    2111  prof   \n",
      "\n",
      "   d_bc  d_prof  d_wc  \n",
      "0     0       1     0  \n",
      "1     0       1     0  \n",
      "2     0       1     0  \n",
      "3     0       1     0  \n",
      "4     0       1     0  \n"
     ]
    },
    {
     "data": {
      "text/html": [
       "<div>\n",
       "<style scoped>\n",
       "    .dataframe tbody tr th:only-of-type {\n",
       "        vertical-align: middle;\n",
       "    }\n",
       "\n",
       "    .dataframe tbody tr th {\n",
       "        vertical-align: top;\n",
       "    }\n",
       "\n",
       "    .dataframe thead th {\n",
       "        text-align: right;\n",
       "    }\n",
       "</style>\n",
       "<table border=\"1\" class=\"dataframe\">\n",
       "  <thead>\n",
       "    <tr style=\"text-align: right;\">\n",
       "      <th></th>\n",
       "      <th>education</th>\n",
       "      <th>income</th>\n",
       "      <th>women</th>\n",
       "      <th>prestige</th>\n",
       "      <th>census</th>\n",
       "      <th>d_bc</th>\n",
       "      <th>d_prof</th>\n",
       "      <th>d_wc</th>\n",
       "    </tr>\n",
       "  </thead>\n",
       "  <tbody>\n",
       "    <tr>\n",
       "      <th>count</th>\n",
       "      <td>98.000000</td>\n",
       "      <td>98.000000</td>\n",
       "      <td>98.000000</td>\n",
       "      <td>98.000000</td>\n",
       "      <td>98.000000</td>\n",
       "      <td>98.000000</td>\n",
       "      <td>98.000000</td>\n",
       "      <td>98.000000</td>\n",
       "    </tr>\n",
       "    <tr>\n",
       "      <th>mean</th>\n",
       "      <td>10.795102</td>\n",
       "      <td>6938.857143</td>\n",
       "      <td>28.985714</td>\n",
       "      <td>47.327551</td>\n",
       "      <td>5400.061224</td>\n",
       "      <td>0.448980</td>\n",
       "      <td>0.316327</td>\n",
       "      <td>0.234694</td>\n",
       "    </tr>\n",
       "    <tr>\n",
       "      <th>std</th>\n",
       "      <td>2.748937</td>\n",
       "      <td>4228.132538</td>\n",
       "      <td>31.382016</td>\n",
       "      <td>17.094907</td>\n",
       "      <td>2684.302381</td>\n",
       "      <td>0.499947</td>\n",
       "      <td>0.467433</td>\n",
       "      <td>0.425986</td>\n",
       "    </tr>\n",
       "    <tr>\n",
       "      <th>min</th>\n",
       "      <td>6.380000</td>\n",
       "      <td>1656.000000</td>\n",
       "      <td>0.000000</td>\n",
       "      <td>17.300000</td>\n",
       "      <td>1113.000000</td>\n",
       "      <td>0.000000</td>\n",
       "      <td>0.000000</td>\n",
       "      <td>0.000000</td>\n",
       "    </tr>\n",
       "    <tr>\n",
       "      <th>25%</th>\n",
       "      <td>8.445000</td>\n",
       "      <td>4250.500000</td>\n",
       "      <td>3.267500</td>\n",
       "      <td>35.375000</td>\n",
       "      <td>3115.500000</td>\n",
       "      <td>0.000000</td>\n",
       "      <td>0.000000</td>\n",
       "      <td>0.000000</td>\n",
       "    </tr>\n",
       "    <tr>\n",
       "      <th>50%</th>\n",
       "      <td>10.605000</td>\n",
       "      <td>6035.500000</td>\n",
       "      <td>14.475000</td>\n",
       "      <td>43.600000</td>\n",
       "      <td>5131.500000</td>\n",
       "      <td>0.000000</td>\n",
       "      <td>0.000000</td>\n",
       "      <td>0.000000</td>\n",
       "    </tr>\n",
       "    <tr>\n",
       "      <th>75%</th>\n",
       "      <td>12.755000</td>\n",
       "      <td>8226.250000</td>\n",
       "      <td>52.202500</td>\n",
       "      <td>59.900000</td>\n",
       "      <td>8328.000000</td>\n",
       "      <td>1.000000</td>\n",
       "      <td>1.000000</td>\n",
       "      <td>0.000000</td>\n",
       "    </tr>\n",
       "    <tr>\n",
       "      <th>max</th>\n",
       "      <td>15.970000</td>\n",
       "      <td>25879.000000</td>\n",
       "      <td>97.510000</td>\n",
       "      <td>87.200000</td>\n",
       "      <td>9517.000000</td>\n",
       "      <td>1.000000</td>\n",
       "      <td>1.000000</td>\n",
       "      <td>1.000000</td>\n",
       "    </tr>\n",
       "  </tbody>\n",
       "</table>\n",
       "</div>"
      ],
      "text/plain": [
       "       education        income      women   prestige       census       d_bc  \\\n",
       "count  98.000000     98.000000  98.000000  98.000000    98.000000  98.000000   \n",
       "mean   10.795102   6938.857143  28.985714  47.327551  5400.061224   0.448980   \n",
       "std     2.748937   4228.132538  31.382016  17.094907  2684.302381   0.499947   \n",
       "min     6.380000   1656.000000   0.000000  17.300000  1113.000000   0.000000   \n",
       "25%     8.445000   4250.500000   3.267500  35.375000  3115.500000   0.000000   \n",
       "50%    10.605000   6035.500000  14.475000  43.600000  5131.500000   0.000000   \n",
       "75%    12.755000   8226.250000  52.202500  59.900000  8328.000000   1.000000   \n",
       "max    15.970000  25879.000000  97.510000  87.200000  9517.000000   1.000000   \n",
       "\n",
       "          d_prof       d_wc  \n",
       "count  98.000000  98.000000  \n",
       "mean    0.316327   0.234694  \n",
       "std     0.467433   0.425986  \n",
       "min     0.000000   0.000000  \n",
       "25%     0.000000   0.000000  \n",
       "50%     0.000000   0.000000  \n",
       "75%     1.000000   0.000000  \n",
       "max     1.000000   1.000000  "
      ]
     },
     "execution_count": 1,
     "metadata": {},
     "output_type": "execute_result"
    }
   ],
   "source": [
    "import numpy as np\n",
    "import pandas as pd\n",
    "from statsmodels.formula.api import ols\n",
    "\n",
    "df = pd.read_csv('.\\data\\Prestigio.csv', sep=',', na_values=',',encoding='unicode_escape')\n",
    "df = df.dropna()\n",
    "df = pd.concat([df, pd.get_dummies(df['type'].astype('category'), prefix = 'd')], axis = 1) \n",
    "print(df.head())\n",
    "df.describe()"
   ]
  },
  {
   "cell_type": "code",
   "execution_count": 2,
   "metadata": {},
   "outputs": [
    {
     "name": "stderr",
     "output_type": "stream",
     "text": [
      "C:\\ProgramData\\Anaconda3\\lib\\site-packages\\statsmodels\\regression\\linear_model.py:1698: RuntimeWarning: divide by zero encountered in true_divide\n",
      "  return 1 - (np.divide(self.nobs - self.k_constant, self.df_resid)\n",
      "C:\\ProgramData\\Anaconda3\\lib\\site-packages\\statsmodels\\regression\\linear_model.py:1699: RuntimeWarning: invalid value encountered in double_scalars\n",
      "  * (1 - self.rsquared))\n"
     ]
    },
    {
     "data": {
      "text/html": [
       "<div>\n",
       "<style scoped>\n",
       "    .dataframe tbody tr th:only-of-type {\n",
       "        vertical-align: middle;\n",
       "    }\n",
       "\n",
       "    .dataframe tbody tr th {\n",
       "        vertical-align: top;\n",
       "    }\n",
       "\n",
       "    .dataframe thead th {\n",
       "        text-align: right;\n",
       "    }\n",
       "</style>\n",
       "<table border=\"1\" class=\"dataframe\">\n",
       "  <thead>\n",
       "    <tr style=\"text-align: right;\">\n",
       "      <th></th>\n",
       "      <th>education</th>\n",
       "      <th>income</th>\n",
       "      <th>women</th>\n",
       "      <th>prestige</th>\n",
       "      <th>d_prof</th>\n",
       "      <th>d_wc</th>\n",
       "    </tr>\n",
       "  </thead>\n",
       "  <tbody>\n",
       "    <tr>\n",
       "      <th>0</th>\n",
       "      <td>13.11</td>\n",
       "      <td>12351.0</td>\n",
       "      <td>11.16</td>\n",
       "      <td>68.8</td>\n",
       "      <td>1.0</td>\n",
       "      <td>0.0</td>\n",
       "    </tr>\n",
       "    <tr>\n",
       "      <th>1</th>\n",
       "      <td>12.26</td>\n",
       "      <td>25879.0</td>\n",
       "      <td>4.02</td>\n",
       "      <td>69.1</td>\n",
       "      <td>1.0</td>\n",
       "      <td>0.0</td>\n",
       "    </tr>\n",
       "    <tr>\n",
       "      <th>2</th>\n",
       "      <td>12.77</td>\n",
       "      <td>9271.0</td>\n",
       "      <td>15.70</td>\n",
       "      <td>63.4</td>\n",
       "      <td>1.0</td>\n",
       "      <td>0.0</td>\n",
       "    </tr>\n",
       "    <tr>\n",
       "      <th>3</th>\n",
       "      <td>11.42</td>\n",
       "      <td>8865.0</td>\n",
       "      <td>9.11</td>\n",
       "      <td>56.8</td>\n",
       "      <td>1.0</td>\n",
       "      <td>0.0</td>\n",
       "    </tr>\n",
       "    <tr>\n",
       "      <th>4</th>\n",
       "      <td>14.62</td>\n",
       "      <td>8403.0</td>\n",
       "      <td>11.68</td>\n",
       "      <td>73.5</td>\n",
       "      <td>1.0</td>\n",
       "      <td>0.0</td>\n",
       "    </tr>\n",
       "  </tbody>\n",
       "</table>\n",
       "</div>"
      ],
      "text/plain": [
       "   education   income  women  prestige  d_prof  d_wc\n",
       "0      13.11  12351.0  11.16      68.8     1.0   0.0\n",
       "1      12.26  25879.0   4.02      69.1     1.0   0.0\n",
       "2      12.77   9271.0  15.70      63.4     1.0   0.0\n",
       "3      11.42   8865.0   9.11      56.8     1.0   0.0\n",
       "4      14.62   8403.0  11.68      73.5     1.0   0.0"
      ]
     },
     "execution_count": 2,
     "metadata": {},
     "output_type": "execute_result"
    }
   ],
   "source": [
    "import statsmodels.formula.api as smf\n",
    "\n",
    "# Função com o método de seleção Forward, usando o R2 ajustado para seleção\n",
    "def forward_selected(data, response):\n",
    "    remaining = set(data.columns)\n",
    "    remaining.remove(response)\n",
    "    selected = []\n",
    "    current_score, best_new_score = 0.0, 0.0\n",
    "    while remaining and current_score == best_new_score:\n",
    "        scores_with_candidates = []\n",
    "        for candidate in remaining:\n",
    "            formula = \"{} ~ {} + 1 \".format(response,\n",
    "                                           ' + '.join(selected + [candidate]))\n",
    "            score = smf.ols(formula, data).fit().rsquared_adj\n",
    "            scores_with_candidates.append((score, candidate))\n",
    "        scores_with_candidates.sort()\n",
    "        best_new_score, best_candidate = scores_with_candidates.pop()\n",
    "        if current_score < best_new_score:\n",
    "            remaining.remove(best_candidate)\n",
    "            selected.append(best_candidate)\n",
    "            current_score = best_new_score\n",
    "    formula = \"{} ~ {} + 1\".format(response,\n",
    "                                   ' + '.join(selected))\n",
    "    model = smf.ols(formula, data).fit()\n",
    "    return model\n",
    "\n",
    "data = df.drop(['occupation', 'census','type','d_bc'], axis=1).astype('float64')\n",
    "\n",
    "#Executa a função para seleção de variáveis pelo método forward, usando R2 ajustado como critério de seleção\n",
    "model = forward_selected(df, 'prestige')\n",
    "\n",
    "data.head()"
   ]
  },
  {
   "cell_type": "code",
   "execution_count": 3,
   "metadata": {},
   "outputs": [
    {
     "name": "stdout",
     "output_type": "stream",
     "text": [
      "Modelo 1 - Education e Income\n",
      "\n",
      "                            OLS Regression Results                            \n",
      "==============================================================================\n",
      "Dep. Variable:            df.prestige   R-squared:                       0.814\n",
      "Model:                            OLS   Adj. R-squared:                  0.810\n",
      "Method:                 Least Squares   F-statistic:                     207.9\n",
      "Date:                Wed, 03 Jun 2020   Prob (F-statistic):           2.00e-35\n",
      "Time:                        21:17:11   Log-Likelihood:                -334.33\n",
      "No. Observations:                  98   AIC:                             674.7\n",
      "Df Residuals:                      95   BIC:                             682.4\n",
      "Df Model:                           2                                         \n",
      "Covariance Type:            nonrobust                                         \n",
      "================================================================================\n",
      "                   coef    std err          t      P>|t|      [0.025      0.975]\n",
      "--------------------------------------------------------------------------------\n",
      "Intercept       -7.6210      3.116     -2.446      0.016     -13.808      -1.435\n",
      "df.education     4.2921      0.336     12.772      0.000       3.625       4.959\n",
      "df.income        0.0012      0.000      5.682      0.000       0.001       0.002\n",
      "==============================================================================\n",
      "Omnibus:                        1.398   Durbin-Watson:                   1.589\n",
      "Prob(Omnibus):                  0.497   Jarque-Bera (JB):                1.237\n",
      "Skew:                          -0.110   Prob(JB):                        0.539\n",
      "Kurtosis:                       2.496   Cond. No.                     3.38e+04\n",
      "==============================================================================\n",
      "\n",
      "Warnings:\n",
      "[1] Standard Errors assume that the covariance matrix of the errors is correctly specified.\n",
      "[2] The condition number is large, 3.38e+04. This might indicate that there are\n",
      "strong multicollinearity or other numerical problems.\n"
     ]
    }
   ],
   "source": [
    "from statsmodels.formula.api import ols\n",
    "\n",
    "# Ajusta o modelo: Education e Income\n",
    "print('Modelo 1 - Education e Income')\n",
    "print()\n",
    "mod1 = ols('df.prestige ~ df.education + df.income',data=df)\n",
    "res1 = mod1.fit()\n",
    "print(res1.summary())"
   ]
  },
  {
   "cell_type": "code",
   "execution_count": 4,
   "metadata": {},
   "outputs": [
    {
     "name": "stdout",
     "output_type": "stream",
     "text": [
      "Modelo 2 - Education e Income e respectiva interação\n",
      "\n",
      "                            OLS Regression Results                            \n",
      "==============================================================================\n",
      "Dep. Variable:            df.prestige   R-squared:                       0.826\n",
      "Model:                            OLS   Adj. R-squared:                  0.820\n",
      "Method:                 Least Squares   F-statistic:                     148.8\n",
      "Date:                Wed, 03 Jun 2020   Prob (F-statistic):           1.43e-35\n",
      "Time:                        21:17:11   Log-Likelihood:                -331.07\n",
      "No. Observations:                  98   AIC:                             670.1\n",
      "Df Residuals:                      94   BIC:                             680.5\n",
      "Df Model:                           3                                         \n",
      "Covariance Type:            nonrobust                                         \n",
      "==========================================================================================\n",
      "                             coef    std err          t      P>|t|      [0.025      0.975]\n",
      "------------------------------------------------------------------------------------------\n",
      "Intercept                -22.4323      6.558     -3.421      0.001     -35.453      -9.411\n",
      "df.education               5.4759      0.568      9.637      0.000       4.348       6.604\n",
      "df.income                  0.0037      0.001      3.726      0.000       0.002       0.006\n",
      "df.education:df.income    -0.0002   7.37e-05     -2.547      0.013      -0.000   -4.14e-05\n",
      "==============================================================================\n",
      "Omnibus:                        0.819   Durbin-Watson:                   1.696\n",
      "Prob(Omnibus):                  0.664   Jarque-Bera (JB):                0.930\n",
      "Skew:                          -0.153   Prob(JB):                        0.628\n",
      "Kurtosis:                       2.634   Cond. No.                     9.58e+05\n",
      "==============================================================================\n",
      "\n",
      "Warnings:\n",
      "[1] Standard Errors assume that the covariance matrix of the errors is correctly specified.\n",
      "[2] The condition number is large, 9.58e+05. This might indicate that there are\n",
      "strong multicollinearity or other numerical problems.\n"
     ]
    }
   ],
   "source": [
    "# Ajusta o modelo: Education, Income e respectiva interação\n",
    "print('Modelo 2 - Education e Income e respectiva interação')\n",
    "print()\n",
    "#trocamos o + por * para incluir a interação.\n",
    "mod2 = ols('df.prestige ~ df.education * df.income',data=df)\n",
    "res2 = mod2.fit()\n",
    "print(res2.summary())"
   ]
  },
  {
   "cell_type": "code",
   "execution_count": 5,
   "metadata": {},
   "outputs": [
    {
     "name": "stdout",
     "output_type": "stream",
     "text": [
      "Modelo 3 - Education e Income, ambas padronizadas - Com Intercepto\n",
      "\n",
      "                            OLS Regression Results                            \n",
      "==============================================================================\n",
      "Dep. Variable:            df.prestige   R-squared:                       0.814\n",
      "Model:                            OLS   Adj. R-squared:                  0.810\n",
      "Method:                 Least Squares   F-statistic:                     207.9\n",
      "Date:                Wed, 03 Jun 2020   Prob (F-statistic):           2.00e-35\n",
      "Time:                        21:17:12   Log-Likelihood:                -334.33\n",
      "No. Observations:                  98   AIC:                             674.7\n",
      "Df Residuals:                      95   BIC:                             682.4\n",
      "Df Model:                           2                                         \n",
      "Covariance Type:            nonrobust                                         \n",
      "===============================================================================\n",
      "                  coef    std err          t      P>|t|      [0.025      0.975]\n",
      "-------------------------------------------------------------------------------\n",
      "Intercept      47.3276      0.753     62.890      0.000      45.834      48.822\n",
      "education_p    11.7384      0.919     12.772      0.000       9.914      13.563\n",
      "income_p        5.2225      0.919      5.682      0.000       3.398       7.047\n",
      "==============================================================================\n",
      "Omnibus:                        1.398   Durbin-Watson:                   1.589\n",
      "Prob(Omnibus):                  0.497   Jarque-Bera (JB):                1.237\n",
      "Skew:                          -0.110   Prob(JB):                        0.539\n",
      "Kurtosis:                       2.496   Cond. No.                         1.92\n",
      "==============================================================================\n",
      "\n",
      "Warnings:\n",
      "[1] Standard Errors assume that the covariance matrix of the errors is correctly specified.\n"
     ]
    }
   ],
   "source": [
    "# Ajusta o modelo: Education e Income ambas padronizadas\n",
    "print('Modelo 3 - Education e Income, ambas padronizadas - Com Intercepto')\n",
    "print()\n",
    "\n",
    "#padronização (média dividido pelo desvio padrão)\n",
    "income_p = (df.income-np.mean(df.income))/(np.std(df.income))\n",
    "education_p = (df.education-np.mean(df.education))/(np.std(df.education))\n",
    "\n",
    "mod3c = ols('df.prestige ~ education_p + income_p',data=df)\n",
    "res3c = mod3c.fit()\n",
    "print(res3c.summary())"
   ]
  },
  {
   "cell_type": "code",
   "execution_count": 6,
   "metadata": {},
   "outputs": [
    {
     "name": "stdout",
     "output_type": "stream",
     "text": [
      "Modelo 3 - Education e Income, ambas padronizadas - Sem Intercepto\n",
      "\n",
      "                                 OLS Regression Results                                \n",
      "=======================================================================================\n",
      "Dep. Variable:            df.prestige   R-squared (uncentered):                   0.093\n",
      "Model:                            OLS   Adj. R-squared (uncentered):              0.074\n",
      "Method:                 Least Squares   F-statistic:                              4.927\n",
      "Date:                Wed, 03 Jun 2020   Prob (F-statistic):                     0.00918\n",
      "Time:                        21:17:12   Log-Likelihood:                         -518.21\n",
      "No. Observations:                  98   AIC:                                      1040.\n",
      "Df Residuals:                      96   BIC:                                      1046.\n",
      "Df Model:                           2                                                  \n",
      "Covariance Type:            nonrobust                                                  \n",
      "===============================================================================\n",
      "                  coef    std err          t      P>|t|      [0.025      0.975]\n",
      "-------------------------------------------------------------------------------\n",
      "education_p    11.7384      5.970      1.966      0.052      -0.112      23.588\n",
      "income_p        5.2225      5.970      0.875      0.384      -6.627      17.073\n",
      "==============================================================================\n",
      "Omnibus:                        1.398   Durbin-Watson:                   0.037\n",
      "Prob(Omnibus):                  0.497   Jarque-Bera (JB):                1.237\n",
      "Skew:                          -0.110   Prob(JB):                        0.539\n",
      "Kurtosis:                       2.496   Cond. No.                         1.92\n",
      "==============================================================================\n",
      "\n",
      "Warnings:\n",
      "[1] Standard Errors assume that the covariance matrix of the errors is correctly specified.\n"
     ]
    }
   ],
   "source": [
    "# Ajusta o modelo: Education e Income ambas padronizadas\n",
    "print('Modelo 3 - Education e Income, ambas padronizadas - Sem Intercepto')\n",
    "print()\n",
    "\n",
    "#padronização (média dividido pelo desvio padrão)\n",
    "income_p = (df.income-np.mean(df.income))/(np.std(df.income))\n",
    "education_p = (df.education-np.mean(df.education))/(np.std(df.education))\n",
    "\n",
    "mod3s = ols('df.prestige ~ education_p + income_p -1',data=df)\n",
    "res3s = mod3s.fit()\n",
    "print(res3s.summary())"
   ]
  },
  {
   "cell_type": "code",
   "execution_count": 7,
   "metadata": {},
   "outputs": [
    {
     "name": "stdout",
     "output_type": "stream",
     "text": [
      "Modelo 4 - Education e Income, ambas padronizadas e respectiva interação - Com Intercepto\n",
      "\n",
      "                            OLS Regression Results                            \n",
      "==============================================================================\n",
      "Dep. Variable:            df.prestige   R-squared:                       0.826\n",
      "Model:                            OLS   Adj. R-squared:                  0.820\n",
      "Method:                 Least Squares   F-statistic:                     148.8\n",
      "Date:                Wed, 03 Jun 2020   Prob (F-statistic):           1.43e-35\n",
      "Time:                        21:17:12   Log-Likelihood:                -331.07\n",
      "No. Observations:                  98   AIC:                             670.1\n",
      "Df Residuals:                      94   BIC:                             680.5\n",
      "Df Model:                           3                                         \n",
      "Covariance Type:            nonrobust                                         \n",
      "========================================================================================\n",
      "                           coef    std err          t      P>|t|      [0.025      0.975]\n",
      "----------------------------------------------------------------------------------------\n",
      "Intercept               48.5671      0.879     55.264      0.000      46.822      50.312\n",
      "education_p             11.4144      0.903     12.645      0.000       9.622      13.207\n",
      "income_p                 7.2057      1.185      6.079      0.000       4.852       9.559\n",
      "education_p:income_p    -2.1591      0.848     -2.547      0.013      -3.843      -0.476\n",
      "==============================================================================\n",
      "Omnibus:                        0.819   Durbin-Watson:                   1.696\n",
      "Prob(Omnibus):                  0.664   Jarque-Bera (JB):                0.930\n",
      "Skew:                          -0.153   Prob(JB):                        0.628\n",
      "Kurtosis:                       2.634   Cond. No.                         3.34\n",
      "==============================================================================\n",
      "\n",
      "Warnings:\n",
      "[1] Standard Errors assume that the covariance matrix of the errors is correctly specified.\n"
     ]
    }
   ],
   "source": [
    "# Ajusta o modelo: Education e Income ambas padronizadas e respectiva interação\n",
    "print('Modelo 4 - Education e Income, ambas padronizadas e respectiva interação - Com Intercepto')\n",
    "print()\n",
    "\n",
    "mod4c = ols('df.prestige ~ education_p * income_p',data=df)\n",
    "res4c = mod4c.fit()\n",
    "print(res4c.summary())"
   ]
  },
  {
   "cell_type": "code",
   "execution_count": 8,
   "metadata": {},
   "outputs": [
    {
     "name": "stdout",
     "output_type": "stream",
     "text": [
      "Modelo 4 - Education e Income, ambas padronizadas e respectiva interação - Sem Intercepto\n",
      "\n",
      "                                 OLS Regression Results                                \n",
      "=======================================================================================\n",
      "Dep. Variable:            df.prestige   R-squared (uncentered):                   0.334\n",
      "Model:                            OLS   Adj. R-squared (uncentered):              0.313\n",
      "Method:                 Least Squares   F-statistic:                              15.85\n",
      "Date:                Wed, 03 Jun 2020   Prob (F-statistic):                    1.96e-08\n",
      "Time:                        21:17:12   Log-Likelihood:                         -503.12\n",
      "No. Observations:                  98   AIC:                                      1012.\n",
      "Df Residuals:                      95   BIC:                                      1020.\n",
      "Df Model:                           3                                                  \n",
      "Covariance Type:            nonrobust                                                  \n",
      "========================================================================================\n",
      "                           coef    std err          t      P>|t|      [0.025      0.975]\n",
      "----------------------------------------------------------------------------------------\n",
      "education_p             15.3087      5.180      2.955      0.004       5.024      25.593\n",
      "income_p               -16.6300      6.356     -2.617      0.010     -29.248      -4.012\n",
      "education_p:income_p    23.7917      4.064      5.855      0.000      15.724      31.859\n",
      "==============================================================================\n",
      "Omnibus:                       20.911   Durbin-Watson:                   0.506\n",
      "Prob(Omnibus):                  0.000   Jarque-Bera (JB):               32.536\n",
      "Skew:                          -0.935   Prob(JB):                     8.61e-08\n",
      "Kurtosis:                       5.114   Cond. No.                         2.88\n",
      "==============================================================================\n",
      "\n",
      "Warnings:\n",
      "[1] Standard Errors assume that the covariance matrix of the errors is correctly specified.\n"
     ]
    }
   ],
   "source": [
    "# Ajusta o modelo: Education e Income ambas padronizadas e respectiva interação\n",
    "print('Modelo 4 - Education e Income, ambas padronizadas e respectiva interação - Sem Intercepto')\n",
    "print()\n",
    "\n",
    "mod4s = ols('df.prestige ~ education_p * income_p -1',data=df)\n",
    "res4s = mod4s.fit()\n",
    "print(res4s.summary())"
   ]
  },
  {
   "cell_type": "code",
   "execution_count": 9,
   "metadata": {},
   "outputs": [
    {
     "name": "stdout",
     "output_type": "stream",
     "text": [
      "Modelo 1:\n",
      "['Intercept', 'df.education', 'df.income'] [17.147364341760714, 1.4916209499947803, 1.49162094999478]\n",
      "\n",
      "Modelo 2:\n",
      "['Intercept', 'df.education', 'df.income', 'df.education:df.income'] [80.32415647724467, 4.51033604833944, 33.2769479760182, 47.0511368988898]\n",
      "\n",
      "Modelo 3: Com Intercepto\n",
      "['Intercept', 'education_p', 'income_p'] [1.0, 1.4916209499947803, 1.4916209499947806]\n",
      "\n",
      "Modelo 3: Sem Intercepto\n",
      "['education_p', 'income_p'] [1.4916209499947806, 1.4916209499947803]\n",
      "\n",
      "Modelo 4: Com Intercepto\n",
      "['Intercept', 'education_p', 'income_p', 'education_p:income_p'] [1.4424955411399147, 1.5218559417991762, 2.624254795520727, 1.950390018007004]\n",
      "\n",
      "Modelo 4: Sem Intercepto\n",
      "['education_p', 'income_p', 'education_p:income_p'] [1.512581147750749, 2.2768114848860654, 1.6588512691387367]\n",
      "\n"
     ]
    }
   ],
   "source": [
    "from statsmodels.stats import outliers_influence\n",
    "\n",
    "#Calculando o VIF\n",
    "\n",
    "#Modelo 1:\n",
    "vif = [outliers_influence.variance_inflation_factor(mod1.exog, i) for i in range(len(mod1.exog_names))]\n",
    "feat = mod1.exog_names\n",
    "print('Modelo 1:')\n",
    "print(feat,vif)\n",
    "print()\n",
    "#Modelo 2:\n",
    "vif = [outliers_influence.variance_inflation_factor(mod2.exog, i) for i in range(len(mod2.exog_names))]\n",
    "feat = mod2.exog_names\n",
    "print('Modelo 2:')\n",
    "print(feat,vif)\n",
    "print()\n",
    "\n",
    "#Modelo 3:\n",
    "vif = [outliers_influence.variance_inflation_factor(mod3c.exog, i) for i in range(len(mod3c.exog_names))]\n",
    "feat = mod3c.exog_names\n",
    "print('Modelo 3: Com Intercepto')\n",
    "print(feat,vif)\n",
    "print()\n",
    "\n",
    "#Modelo 3:\n",
    "vif = [outliers_influence.variance_inflation_factor(mod3s.exog, i) for i in range(len(mod3s.exog_names))]\n",
    "feat = mod3s.exog_names\n",
    "print('Modelo 3: Sem Intercepto')\n",
    "print(feat,vif)\n",
    "print()\n",
    "\n",
    "#Modelo 4:\n",
    "vif = [outliers_influence.variance_inflation_factor(mod4c.exog, i) for i in range(len(mod4c.exog_names))]\n",
    "feat = mod4c.exog_names\n",
    "print('Modelo 4: Com Intercepto')\n",
    "print(feat,vif)\n",
    "print()\n",
    "\n",
    "#Modelo 4:\n",
    "vif = [outliers_influence.variance_inflation_factor(mod4s.exog, i) for i in range(len(mod4s.exog_names))]\n",
    "feat = mod4s.exog_names\n",
    "print('Modelo 4: Sem Intercepto')\n",
    "print(feat,vif)\n",
    "print()"
   ]
  },
  {
   "cell_type": "markdown",
   "metadata": {},
   "source": [
    "### Exercício 7\n",
    "Use o código abaixo para simular os dados que usamos do trabalho do Sildenafil e encontrar um estimador bayesiano da proporção, na população, de homens com pelo menos 60% de tentativas bem sucedidas.<br>\n",
    "<img src='./img/grafico-avaliacao-7.png'>\n",
    "\n",
    "Assinale a alternativa <font color='green'><b>CORRETA</b></font>\n",
    "\n",
    "Escolha uma:<br>\n",
    "<b>a. A estimativa do MAP é mais parecida com a de MV do que com a da EAP</b><br>\n",
    "b. Os estimadores de MV e MAP maximizam exatamente a mesma função, independentemente dos parâmetros da priori<br>\n",
    "c. Se usarmos exatamente a mesma priori usada na vídeo aula (Beta(2,3), ao invés da Beta(1,1)), os estimadores MAP e EAP são iguais.<br>\n",
    "d. A estimativa do MAP foi bem diferente das de MV e EAP<br>\n",
    "e. A estimativa do MAP é mais parecida com a da EAP do que com a de MV<br>"
   ]
  },
  {
   "cell_type": "code",
   "execution_count": 36,
   "metadata": {},
   "outputs": [
    {
     "name": "stderr",
     "output_type": "stream",
     "text": [
      "logp = -262.7, ||grad|| = 6.5: 100%|█████████████████████████████████████████████████████| 6/6 [00:00<00:00, 73.22it/s]\n"
     ]
    },
    {
     "data": {
      "text/plain": [
       "{'theta_logodds__': array(-0.06862851), 'theta': array(0.4828496)}"
      ]
     },
     "execution_count": 36,
     "metadata": {},
     "output_type": "execute_result"
    }
   ],
   "source": [
    "import pymc3\n",
    "\n",
    "data = np.concatenate((np.repeat(1,183),np.repeat(0,379-183)),axis=0)\n",
    "\n",
    "def create_model_pymc3(data):\n",
    "    with pymc3.Model() as model:\n",
    "        p = pymc3.Beta('theta', alpha=1, beta=1)\n",
    "        bernoulli = pymc3.Bernoulli('bernoulli',p=p,observed=data)\n",
    "    return model\n",
    "\n",
    "\n",
    "model = create_model_pymc3(data)\n",
    "\n",
    "map_estimate = pymc3.find_MAP(model=model)\n",
    "map_estimate #MAP (máximo da posteriori)"
   ]
  },
  {
   "cell_type": "code",
   "execution_count": 35,
   "metadata": {},
   "outputs": [
    {
     "data": {
      "image/png": "[encoded data removed]",
      "text/plain": [
       "<Figure size 432x288 with 1 Axes>"
      ]
     },
     "metadata": {
      "needs_background": "light"
     },
     "output_type": "display_data"
    }
   ],
   "source": [
    "%matplotlib inline\n",
    "import matplotlib.pyplot as plt\n",
    "import matplotlib.animation as animation\n",
    "import numpy as np\n",
    "from scipy.stats import beta\n",
    "from scipy.stats import norm\n",
    "\n",
    "x_axis = np.arange(0, 1, 0.002)\n",
    "dp = np.sqrt(0.483*(1-0.483)/379)\n",
    "a = 2\n",
    "b = 3\n",
    "prior = beta(a,b)\n",
    "posteriori = beta(183+a,379-183+b) #EAP (esperança da Posteriori)\n",
    "\n",
    "# Média = 0.483, desvio Padrão = dp, apenas para ilustar\n",
    "plt.plot(x_axis, norm.pdf(x_axis,0.483,dp), label=\"verossimilhança\") #MV (máxima verossimilhança)\n",
    "plt.plot(x_axis, norm.pdf(x_axis,map_estimate['theta'],dp), label=\"MAP\") #MAP (máxima da posteriori)\n",
    "plt.plot(x_axis, prior.pdf(x_axis),label=\"priori: Beta(2,3)\") #priori\n",
    "plt.plot(x_axis, posteriori.pdf(x_axis),label=\"posteriori\") #EAP (esperança da Posteriori)\n",
    "plt.xlabel(\"$p$\")\n",
    "plt.ylabel(\"função de distribuição\")\n",
    "plt.legend()\n",
    "plt.show()"
   ]
  },
  {
   "cell_type": "markdown",
   "metadata": {},
   "source": [
    "### Exercício 8\n",
    "Complemente o código do exercício anterior com:\n",
    "\n",
    "___________________________________________________________\n",
    "\n",
    " Usa MCMC para gerar observações da posteriori (método de cálculo da posteriori por simulação)\n",
    "\n",
    "with model:\n",
    "\n",
    "    trace = pymc3.sample(1000, tune=1000, cores=1)\n",
    "\n",
    "Faz o gráfico da posteriori, calcula sua média e o intervalo de credibilidade\n",
    "\n",
    "pymc3.plot_posterior(trace);\n",
    "\n",
    "____________________________________________________________\n",
    "\n",
    "Qual a afirmativa <font color='green'><b>CORRETA</b></font>?<br>\n",
    "\n",
    "Escolha uma:<br><br>\n",
    "<b>a. Os resultados pela simulação de MCMC (com 1000 observações geradas, como o código do enunciado, pelo menos) são similares aos obtidos teoricamente (apresentados em aula)<br><br></b>\n",
    "b. A média da posteriori calculada no MCMC com o código acima é o estimador de MV de p<br><br>\n",
    "c. O intervalo de credibilidade calculado tem 99% de probabilidade de conter o verdadeiro valor da probabilidade de sucesso, p<br><br>\n",
    "d. Na inferência frequentista, o parâmetro p da Bernoulli segue distribuição Beta(1,1), ou seja, Uniforme.<br><br>\n",
    "e. Se gerarmos poucas observações da posteriori simuladas por MCMC (10, por exemplo, ao invés de 1000), os resultados ficam bem piores. Faça isso com a seguinte modificação: trace = pymc3.sample(10, tune=1000, cores=1)<br><br>"
   ]
  },
  {
   "cell_type": "code",
   "execution_count": 38,
   "metadata": {},
   "outputs": [
    {
     "name": "stderr",
     "output_type": "stream",
     "text": [
      "logp = -262.7, ||grad|| = 6.5: 100%|█████████████████████████████████████████████████████| 6/6 [00:00<00:00, 71.35it/s]\n",
      "Auto-assigning NUTS sampler...\n",
      "Initializing NUTS using jitter+adapt_diag...\n",
      "Sequential sampling (2 chains in 1 job)\n",
      "NUTS: [theta]\n",
      "Sampling chain 0, 0 divergences: 100%|█████████████████████████████████████████████| 2000/2000 [01:20<00:00, 24.81it/s]\n",
      "Sampling chain 1, 0 divergences: 100%|█████████████████████████████████████████████| 2000/2000 [01:16<00:00, 25.99it/s]\n"
     ]
    },
    {
     "data": {
      "image/png": "[encoded data removed]",
      "text/plain": [
       "<Figure size 432x288 with 1 Axes>"
      ]
     },
     "metadata": {
      "needs_background": "light"
     },
     "output_type": "display_data"
    }
   ],
   "source": [
    "import pymc3\n",
    "\n",
    "data = np.concatenate((np.repeat(1,183),np.repeat(0,379-183)),axis=0)\n",
    "\n",
    "def create_model_pymc3(data):\n",
    "    with pymc3.Model() as model:\n",
    "        p = pymc3.Beta('theta', alpha=1, beta=1)\n",
    "        bernoulli = pymc3.Bernoulli('bernoulli',p=p,observed=data)\n",
    "    return model\n",
    "\n",
    "\n",
    "model = create_model_pymc3(data)\n",
    "\n",
    "map_estimate = pymc3.find_MAP(model=model)\n",
    "map_estimate #MAP (máximo da posteriori)\n",
    "\n",
    "with model:\n",
    "    trace = pymc3.sample(1000, tune=1000, cores=1)\n",
    "\n",
    "pymc3.plot_posterior(trace);"
   ]
  },
  {
   "cell_type": "code",
   "execution_count": null,
   "metadata": {},
   "outputs": [],
   "source": []
  }
 ],
 "metadata": {
  "kernelspec": {
   "display_name": "Python 3",
   "language": "python",
   "name": "python3"
  },
  "language_info": {
   "codemirror_mode": {
    "name": "ipython",
    "version": 3
   },
   "file_extension": ".py",
   "mimetype": "text/x-python",
   "name": "python",
   "nbconvert_exporter": "python",
   "pygments_lexer": "ipython3",
   "version": "3.7.6"
  },
  "toc": {
   "base_numbering": 1,
   "nav_menu": {},
   "number_sections": true,
   "sideBar": true,
   "skip_h1_title": false,
   "title_cell": "Table of Contents",
   "title_sidebar": "Contents",
   "toc_cell": false,
   "toc_position": {},
   "toc_section_display": true,
   "toc_window_display": false
  }
 },
 "nbformat": 4,
 "nbformat_minor": 2
}
