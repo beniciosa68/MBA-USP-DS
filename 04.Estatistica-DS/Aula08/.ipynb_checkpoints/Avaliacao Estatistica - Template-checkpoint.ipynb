{
 "cells": [
  {
   "cell_type": "markdown",
   "metadata": {},
   "source": [
    "# <span style=\"color:blue\"> MBA em Ciência de Dados</span>\n",
    "# <span style=\"color:blue\">Estatística para Ciência de Dados</span>\n",
    "\n",
    "## <span style=\"color:blue\">Semana 8</span>\n",
    "**Material Produzido por Mariana Cúri**<br>\n",
    "**Cemeai - ICMC/USP São Carlos**"
   ]
  },
  {
   "cell_type": "markdown",
   "metadata": {},
   "source": [
    "<font color='red'> As respostas devem ser fornecidas no Moodle. O notebook é apenas para a implementação dos códigos que fornecerão as respostas</font>"
   ]
  },
  {
   "cell_type": "markdown",
   "metadata": {},
   "source": [
    "Os 4 gráficos abaixo representam análises de resíduos em função dos valores preditos para verificação do ajuste de modelos de regressão linear. \n",
    "<br>\n",
    "<img src='./img/graficos-avaliacao-1.gif'>\n",
    "<br>\n",
    "Com base nessas ilustrações, responda as questões de 1 a 5 abaixo."
   ]
  },
  {
   "cell_type": "markdown",
   "metadata": {},
   "source": [
    "### Exercício 1\n",
    "O gráfico (a) exemplifica um padrão de comportamento desejado não revelando nenhum problema com as suposições do modelo.\n",
    "\n",
    "Escolha uma opção:<br>\n",
    "() Verdadeiro<br>\n",
    "() Falso<br>"
   ]
  },
  {
   "cell_type": "code",
   "execution_count": null,
   "metadata": {},
   "outputs": [],
   "source": []
  },
  {
   "cell_type": "markdown",
   "metadata": {},
   "source": [
    "### Exercício 2\n",
    "O gráfico (b) indica um problema de heterocedasticidade\n",
    "\n",
    "Escolha uma opção:<br>\n",
    "() Verdadeiro<br>\n",
    "() Falso<br>"
   ]
  },
  {
   "cell_type": "code",
   "execution_count": null,
   "metadata": {},
   "outputs": [],
   "source": []
  },
  {
   "cell_type": "markdown",
   "metadata": {},
   "source": [
    "### Exercício 3\n",
    "O gráfico (c) representa um problema de associação não linear entre a resposta e os preditores\n",
    "\n",
    "Escolha uma opção:<br>\n",
    "() Verdadeiro<br>\n",
    "() Falso<br>"
   ]
  },
  {
   "cell_type": "code",
   "execution_count": null,
   "metadata": {},
   "outputs": [],
   "source": []
  },
  {
   "cell_type": "markdown",
   "metadata": {},
   "source": [
    "### Exercício 4\n",
    "O gráfico (d) indica desvios da normalidade da variável resposta\n",
    "\n",
    "Escolha uma opção:<br>\n",
    "() Verdadeiro<br>\n",
    "() Falso<br>"
   ]
  },
  {
   "cell_type": "code",
   "execution_count": null,
   "metadata": {},
   "outputs": [],
   "source": []
  },
  {
   "cell_type": "markdown",
   "metadata": {},
   "source": [
    "### Exercício 5\n",
    "O gráfico (d) indica não linearidade, talvez devido à ausência de algum preditor importante no modelo.\n",
    "\n",
    "Escolha uma opção:<br>\n",
    "() Verdadeiro<br>\n",
    "() Falso<br>"
   ]
  },
  {
   "cell_type": "code",
   "execution_count": null,
   "metadata": {},
   "outputs": [],
   "source": []
  },
  {
   "cell_type": "markdown",
   "metadata": {},
   "source": [
    "### Exercício 6\n",
    "Com o conjunto de dados do estudo do Prestígio das ocupações profissionais usados na aula da semana 7 e ajuste os modelos de regressão linear múltipla com as seguintes variáveis explicativas (considerando Prestige como a variável resposta):\n",
    "\n",
    "1) Education e Income \n",
    "\n",
    "2) Education e Income e respectiva interação\n",
    "\n",
    "3) Education e Income, ambas padronizadas\n",
    "\n",
    "4) Education e Income, ambas padronizadas, e respectiva interação\n",
    "\n",
    "Ajuste os modelos padronizados com e depois sem intercepto (basta incluir -1 no modelo, junto com os preditores, na função usada em aulas passadas). Calcule o VIF de cada preditor com o comando:\n",
    "\n",
    "statsmodels.stats.outliers_influence.variance_inflation_factor\n",
    "\n",
    "Assinale a alternativa <font color='red'><b>INCORRETA</b></font>.\n",
    "\n",
    "\n",
    "Escolha uma:<br><br>\n",
    "a. No modelo de regressão sem interação, com as variáveis padronizadas e sem intercepto, pode-se dizer que a cada ano de estudo adicional, o prestígio da ocupação profissional aumenta em 0,69 unidades, em média<br><br>\n",
    "b. Os coeficientes de determinação dos modelos 2 e 4 (com intercepto) são exatamente iguais<br><br>\n",
    "c. O modelo de regressão padronizado deve ser ajustado sem intercepto quando as médias de todas as variáveis explicativas no modelo são iguais a 0, fazendo com que a função predita passe pela origem.<br><br>\n",
    "d. A padronização das variáveis resolveu o problema da multicolinearidade, quando este existia<br><br>\n",
    "e. O modelo sem interação com os preditores não padronizados não apresentou problema de multicolinearidade. Este problema apareceu quando o termo de interação foi inserido.<br><br>"
   ]
  },
  {
   "cell_type": "markdown",
   "metadata": {},
   "source": [
    "### Exercício 7\n",
    "Use o código abaixo para simular os dados que usamos do trabalho do Sildenafil e encontrar um estimador bayesiano da proporção, na população, de homens com pelo menos 60% de tentativas bem sucedidas.<br>\n",
    "<img src='./img/grafico-avaliacao-7.png'>\n",
    "\n",
    "Assinale a alternativa <font color='green'><b>CORRETA</b></font>\n",
    "\n",
    "Escolha uma:<br>\n",
    "a. A estimativa do MAP é mais parecida com a de MV do que com a da EAP<br>\n",
    "b. Os estimadores de MV e MAP maximizam exatamente a mesma função, independentemente dos parâmetros da priori<br>\n",
    "c. Se usarmos exatamente a mesma priori usada na vídeo aula (Beta(2,3), ao invés da Beta(1,1)), os estimadores MAP e EAP são iguais.<br>\n",
    "d. A estimativa do MAP foi bem diferente das de MV e EAP<br>\n",
    "e. A estimativa do MAP é mais parecida com a da EAP do que com a de MV<br>"
   ]
  },
  {
   "cell_type": "markdown",
   "metadata": {},
   "source": [
    "### Exercício 8\n",
    "Complemente o código do exercício anterior com:\n",
    "\n",
    "___________________________________________________________\n",
    "\n",
    " Usa MCMC para gerar observações da posteriori (método de cálculo da posteriori por simulação)\n",
    "\n",
    "with model:\n",
    "\n",
    "    trace = pymc3.sample(1000, tune=1000, cores=1)\n",
    "\n",
    "Faz o gráfico da posteriori, calcula sua média e o intervalo de credibilidade\n",
    "\n",
    "pymc3.plot_posterior(trace);\n",
    "\n",
    "____________________________________________________________\n",
    "\n",
    "Qual a afirmativa correta?<br>\n",
    "\n",
    "Escolha uma:<br><br>\n",
    "a. Os resultados pela simulação de MCMC (com 1000 observações geradas, como o código do enunciado, pelo menos) são similares aos obtidos teoricamente (apresentados em aula)<br><br>\n",
    "b. A média da posteriori calculada no MCMC com o código acima é o estimador de MV de p<br><br>\n",
    "c. O intervalo de credibilidade calculado tem 99% de probabilidade de conter o verdadeiro valor da probabilidade de sucesso, p<br><br>\n",
    "d. Na inferência frequentista, o parâmetro p da Bernoulli segue distribuição Beta(1,1), ou seja, Uniforme.<br><br>\n",
    "e. Se gerarmos poucas observações da posteriori simuladas por MCMC (10, por exemplo, ao invés de 1000), os resultados ficam bem piores. Faça isso com a seguinte modificação: trace = pymc3.sample(10, tune=1000, cores=1)<br><br>"
   ]
  },
  {
   "cell_type": "code",
   "execution_count": null,
   "metadata": {},
   "outputs": [],
   "source": []
  }
 ],
 "metadata": {
  "kernelspec": {
   "display_name": "Python 3",
   "language": "python",
   "name": "python3"
  },
  "language_info": {
   "codemirror_mode": {
    "name": "ipython",
    "version": 3
   },
   "file_extension": ".py",
   "mimetype": "text/x-python",
   "name": "python",
   "nbconvert_exporter": "python",
   "pygments_lexer": "ipython3",
   "version": "3.7.6"
  },
  "toc": {
   "base_numbering": 1,
   "nav_menu": {},
   "number_sections": true,
   "sideBar": true,
   "skip_h1_title": false,
   "title_cell": "Table of Contents",
   "title_sidebar": "Contents",
   "toc_cell": false,
   "toc_position": {},
   "toc_section_display": true,
   "toc_window_display": false
  }
 },
 "nbformat": 4,
 "nbformat_minor": 2
}
