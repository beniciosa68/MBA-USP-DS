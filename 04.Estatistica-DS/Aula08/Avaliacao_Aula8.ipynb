{
 "cells": [
  {
   "cell_type": "markdown",
   "metadata": {},
   "source": [
    "## Avaliação - Aula 8"
   ]
  },
  {
   "cell_type": "code",
   "execution_count": null,
   "metadata": {},
   "outputs": [],
   "source": [
    "import math\n",
    "import pymc3\n",
    "import statistics\n",
    "import numpy as np\n",
    "import pandas as pd\n",
    "from scipy import stats\n",
    "from patsy import dmatrices\n",
    "from scipy.stats import norm\n",
    "from scipy.stats import beta\n",
    "import statsmodels.api as sm\n",
    "import matplotlib.pyplot as plt\n",
    "from statsmodels.formula.api import ols\n",
    "from statsmodels.stats.outliers_influence import variance_inflation_factor"
   ]
  },
  {
   "cell_type": "markdown",
   "metadata": {},
   "source": [
    "##### Questão 6: Com o conjunto de dados do estudo do Prestígio das ocupações profissionais usados na aula da semana 7 e ajuste os modelos de regressão linear múltipla com as  variáveis explicativas especificadas (considerando  Prestige como a variável resposta). Ajuste os modelos padronizados com e depois sem intercepto (basta incluir −1 no modelo, junto com os preditores, na função usada em aulas passadas). Calcule o VIF de cada preditor com o comando:\n",
    "                       statsmodels.stats.outliers_influence.variance_inflation_factor\n"
   ]
  },
  {
   "cell_type": "code",
   "execution_count": 2,
   "metadata": {},
   "outputs": [
    {
     "data": {
      "text/html": [
       "<div>\n",
       "<style scoped>\n",
       "    .dataframe tbody tr th:only-of-type {\n",
       "        vertical-align: middle;\n",
       "    }\n",
       "\n",
       "    .dataframe tbody tr th {\n",
       "        vertical-align: top;\n",
       "    }\n",
       "\n",
       "    .dataframe thead th {\n",
       "        text-align: right;\n",
       "    }\n",
       "</style>\n",
       "<table border=\"1\" class=\"dataframe\">\n",
       "  <thead>\n",
       "    <tr style=\"text-align: right;\">\n",
       "      <th></th>\n",
       "      <th>prestige</th>\n",
       "      <th>education</th>\n",
       "      <th>income</th>\n",
       "    </tr>\n",
       "  </thead>\n",
       "  <tbody>\n",
       "    <tr>\n",
       "      <th>0</th>\n",
       "      <td>68.8</td>\n",
       "      <td>13.11</td>\n",
       "      <td>12351</td>\n",
       "    </tr>\n",
       "    <tr>\n",
       "      <th>1</th>\n",
       "      <td>69.1</td>\n",
       "      <td>12.26</td>\n",
       "      <td>25879</td>\n",
       "    </tr>\n",
       "    <tr>\n",
       "      <th>2</th>\n",
       "      <td>63.4</td>\n",
       "      <td>12.77</td>\n",
       "      <td>9271</td>\n",
       "    </tr>\n",
       "    <tr>\n",
       "      <th>3</th>\n",
       "      <td>56.8</td>\n",
       "      <td>11.42</td>\n",
       "      <td>8865</td>\n",
       "    </tr>\n",
       "    <tr>\n",
       "      <th>4</th>\n",
       "      <td>73.5</td>\n",
       "      <td>14.62</td>\n",
       "      <td>8403</td>\n",
       "    </tr>\n",
       "  </tbody>\n",
       "</table>\n",
       "</div>"
      ],
      "text/plain": [
       "   prestige  education  income\n",
       "0      68.8      13.11   12351\n",
       "1      69.1      12.26   25879\n",
       "2      63.4      12.77    9271\n",
       "3      56.8      11.42    8865\n",
       "4      73.5      14.62    8403"
      ]
     },
     "execution_count": 2,
     "metadata": {},
     "output_type": "execute_result"
    }
   ],
   "source": [
    "# Dados\n",
    "df = pd.read_csv(\"Prestigio.csv\", sep = ',', na_values = '-', encoding= 'unicode_escape')\n",
    "df = df.dropna()  #excluir linhas com  dados faltantes\n",
    "df = df[[\"prestige\",\"education\",\"income\"]]\n",
    "df.head()  "
   ]
  },
  {
   "cell_type": "markdown",
   "metadata": {},
   "source": [
    "##### 1. Education e Income\n"
   ]
  },
  {
   "cell_type": "code",
   "execution_count": 3,
   "metadata": {},
   "outputs": [
    {
     "name": "stdout",
     "output_type": "stream",
     "text": [
      "                            OLS Regression Results                            \n",
      "==============================================================================\n",
      "Dep. Variable:               prestige   R-squared:                       0.814\n",
      "Model:                            OLS   Adj. R-squared:                  0.810\n",
      "Method:                 Least Squares   F-statistic:                     207.9\n",
      "Date:                Fri, 05 Jun 2020   Prob (F-statistic):           2.00e-35\n",
      "Time:                        13:09:07   Log-Likelihood:                -334.33\n",
      "No. Observations:                  98   AIC:                             674.7\n",
      "Df Residuals:                      95   BIC:                             682.4\n",
      "Df Model:                           2                                         \n",
      "Covariance Type:            nonrobust                                         \n",
      "==============================================================================\n",
      "                 coef    std err          t      P>|t|      [0.025      0.975]\n",
      "------------------------------------------------------------------------------\n",
      "Intercept     -7.6210      3.116     -2.446      0.016     -13.808      -1.435\n",
      "income         0.0012      0.000      5.682      0.000       0.001       0.002\n",
      "education      4.2921      0.336     12.772      0.000       3.625       4.959\n",
      "==============================================================================\n",
      "Omnibus:                        1.398   Durbin-Watson:                   1.589\n",
      "Prob(Omnibus):                  0.497   Jarque-Bera (JB):                1.237\n",
      "Skew:                          -0.110   Prob(JB):                        0.539\n",
      "Kurtosis:                       2.496   Cond. No.                     3.38e+04\n",
      "==============================================================================\n",
      "\n",
      "Warnings:\n",
      "[1] Standard Errors assume that the covariance matrix of the errors is correctly specified.\n",
      "[2] The condition number is large, 3.38e+04. This might indicate that there are\n",
      "strong multicollinearity or other numerical problems.\n",
      "   VIF Factor   features\n",
      "0   17.147364  Intercept\n",
      "1    1.491621     income\n",
      "2    1.491621  education\n"
     ]
    }
   ],
   "source": [
    "# Modelo de regressão com as variáveis explicativas education e income.\n",
    "mod1 = ols('prestige ~ income + education',data=df)\n",
    "res1 = mod1.fit()\n",
    "print(res1.summary())\n",
    "\n",
    "########Calculo do VIF (fator de inflação de variação)########\n",
    "#Gerar uma matriz de experimento adequada para a regressão.\n",
    "y, X = dmatrices('prestige ~ income + education', df, return_type='dataframe')\n",
    "\n",
    "# For each X, calculate VIF and save in dataframe\n",
    "vif = pd.DataFrame()\n",
    "vif[\"VIF Factor\"] = [variance_inflation_factor(X.values, i) for i in range(X.shape[1])]\n",
    "vif[\"features\"] = X.columns\n",
    "print(vif)\n"
   ]
  },
  {
   "cell_type": "markdown",
   "metadata": {},
   "source": [
    "##### 2. Education e Income e respectiva interação"
   ]
  },
  {
   "cell_type": "code",
   "execution_count": 4,
   "metadata": {},
   "outputs": [
    {
     "name": "stdout",
     "output_type": "stream",
     "text": [
      "                            OLS Regression Results                            \n",
      "==============================================================================\n",
      "Dep. Variable:               prestige   R-squared:                       0.826\n",
      "Model:                            OLS   Adj. R-squared:                  0.820\n",
      "Method:                 Least Squares   F-statistic:                     148.8\n",
      "Date:                Fri, 05 Jun 2020   Prob (F-statistic):           1.43e-35\n",
      "Time:                        13:10:10   Log-Likelihood:                -331.07\n",
      "No. Observations:                  98   AIC:                             670.1\n",
      "Df Residuals:                      94   BIC:                             680.5\n",
      "Df Model:                           3                                         \n",
      "Covariance Type:            nonrobust                                         \n",
      "====================================================================================\n",
      "                       coef    std err          t      P>|t|      [0.025      0.975]\n",
      "------------------------------------------------------------------------------------\n",
      "Intercept          -22.4323      6.558     -3.421      0.001     -35.453      -9.411\n",
      "income               0.0037      0.001      3.726      0.000       0.002       0.006\n",
      "education            5.4759      0.568      9.637      0.000       4.348       6.604\n",
      "income:education    -0.0002   7.37e-05     -2.547      0.013      -0.000   -4.14e-05\n",
      "==============================================================================\n",
      "Omnibus:                        0.819   Durbin-Watson:                   1.696\n",
      "Prob(Omnibus):                  0.664   Jarque-Bera (JB):                0.930\n",
      "Skew:                          -0.153   Prob(JB):                        0.628\n",
      "Kurtosis:                       2.634   Cond. No.                     9.58e+05\n",
      "==============================================================================\n",
      "\n",
      "Warnings:\n",
      "[1] Standard Errors assume that the covariance matrix of the errors is correctly specified.\n",
      "[2] The condition number is large, 9.58e+05. This might indicate that there are\n",
      "strong multicollinearity or other numerical problems.\n",
      "   VIF Factor          features\n",
      "0   80.324156         Intercept\n",
      "1   33.276948            income\n",
      "2    4.510336         education\n",
      "3   47.051137  income:education\n"
     ]
    }
   ],
   "source": [
    "# Modelo de regressão com as variáveis explicativas education e income e a interação education x income.\n",
    "mod2 = ols('prestige ~ income*education',data=df)  # colocano a interação income*education no moelo, \n",
    "#as váriaveis income e eucation\n",
    "res2 = mod2.fit()\n",
    "print(res2.summary()) \n",
    "\n",
    "########Calculo do VIF (fator de inflação de variação)########\n",
    "#Gerar uma matriz de experimento adequada para a regressão.\n",
    "y, X = dmatrices('prestige ~ income*education', df, return_type='dataframe')\n",
    "\n",
    "# For each X, calculate VIF and save in dataframe\n",
    "vif = pd.DataFrame()\n",
    "vif[\"VIF Factor\"] = [variance_inflation_factor(X.values, i) for i in range(X.shape[1])]\n",
    "vif[\"features\"] = X.columns\n",
    "print(vif)\n",
    "\n"
   ]
  },
  {
   "cell_type": "markdown",
   "metadata": {},
   "source": [
    "##### 3. Education e Income, ambas padronizadas"
   ]
  },
  {
   "cell_type": "code",
   "execution_count": 5,
   "metadata": {},
   "outputs": [],
   "source": [
    "# Padronizando as variáveis (ver slide 6 a aula 8)\n",
    "income_p = (df.income-np.mean(df.income))/np.sqrt(sum((df.income-np.mean(df.income))**2))\n",
    "education_p = (df.education-np.mean(df.education))/np.sqrt(sum((df.education-np.mean(df.education))**2))\n",
    "prestige_p = (df.prestige-np.mean(df.prestige))/np.sqrt(sum((df.prestige-np.mean(df.prestige))**2))"
   ]
  },
  {
   "cell_type": "code",
   "execution_count": 6,
   "metadata": {},
   "outputs": [
    {
     "name": "stdout",
     "output_type": "stream",
     "text": [
      "                            OLS Regression Results                            \n",
      "==============================================================================\n",
      "Dep. Variable:             prestige_p   R-squared:                       0.814\n",
      "Model:                            OLS   Adj. R-squared:                  0.810\n",
      "Method:                 Least Squares   F-statistic:                     207.9\n",
      "Date:                Fri, 05 Jun 2020   Prob (F-statistic):           2.00e-35\n",
      "Time:                        13:12:06   Log-Likelihood:                 168.03\n",
      "No. Observations:                  98   AIC:                            -330.1\n",
      "Df Residuals:                      95   BIC:                            -322.3\n",
      "Df Model:                           2                                         \n",
      "Covariance Type:            nonrobust                                         \n",
      "===============================================================================\n",
      "                  coef    std err          t      P>|t|      [0.025      0.975]\n",
      "-------------------------------------------------------------------------------\n",
      "Intercept    6.679e-17      0.004   1.49e-14      1.000      -0.009       0.009\n",
      "income_p        0.3071      0.054      5.682      0.000       0.200       0.414\n",
      "education_p     0.6902      0.054     12.772      0.000       0.583       0.797\n",
      "==============================================================================\n",
      "Omnibus:                        1.398   Durbin-Watson:                   1.589\n",
      "Prob(Omnibus):                  0.497   Jarque-Bera (JB):                1.237\n",
      "Skew:                          -0.110   Prob(JB):                        0.539\n",
      "Kurtosis:                       2.496   Cond. No.                         15.2\n",
      "==============================================================================\n",
      "\n",
      "Warnings:\n",
      "[1] Standard Errors assume that the covariance matrix of the errors is correctly specified.\n",
      "   VIF Factor     features\n",
      "0    1.000000    Intercept\n",
      "1    1.491621     income_p\n",
      "2    1.491621  education_p\n"
     ]
    }
   ],
   "source": [
    "# Modelo de regressão com as variáveis explicativas education e income padronizadas.\n",
    "mod3 = ols('prestige_p ~ income_p + education_p',data=df)\n",
    "res3 = mod3.fit()\n",
    "print(res3.summary())\n",
    "\n",
    "########Calculo do VIF (fator de inflação de variação)########\n",
    "#Gerar uma matriz de experimento adequada para a regressão.\n",
    "y, X = dmatrices('prestige_p ~ income_p + education_p', df, return_type='dataframe')\n",
    "\n",
    "# For each X, calculate VIF and save in dataframe\n",
    "vif = pd.DataFrame()\n",
    "vif[\"VIF Factor\"] = [variance_inflation_factor(X.values, i) for i in range(X.shape[1])]\n",
    "vif[\"features\"] = X.columns\n",
    "print(vif)"
   ]
  },
  {
   "cell_type": "code",
   "execution_count": 7,
   "metadata": {},
   "outputs": [
    {
     "name": "stdout",
     "output_type": "stream",
     "text": [
      "                                 OLS Regression Results                                \n",
      "=======================================================================================\n",
      "Dep. Variable:             prestige_p   R-squared (uncentered):                   0.814\n",
      "Model:                            OLS   Adj. R-squared (uncentered):              0.810\n",
      "Method:                 Least Squares   F-statistic:                              210.1\n",
      "Date:                Fri, 05 Jun 2020   Prob (F-statistic):                    8.64e-36\n",
      "Time:                        13:13:38   Log-Likelihood:                          168.03\n",
      "No. Observations:                  98   AIC:                                     -332.1\n",
      "Df Residuals:                      96   BIC:                                     -326.9\n",
      "Df Model:                           2                                                  \n",
      "Covariance Type:            nonrobust                                                  \n",
      "===============================================================================\n",
      "                  coef    std err          t      P>|t|      [0.025      0.975]\n",
      "-------------------------------------------------------------------------------\n",
      "income_p        0.3071      0.054      5.712      0.000       0.200       0.414\n",
      "education_p     0.6902      0.054     12.839      0.000       0.583       0.797\n",
      "==============================================================================\n",
      "Omnibus:                        1.398   Durbin-Watson:                   1.589\n",
      "Prob(Omnibus):                  0.497   Jarque-Bera (JB):                1.237\n",
      "Skew:                          -0.110   Prob(JB):                        0.539\n",
      "Kurtosis:                       2.496   Cond. No.                         1.92\n",
      "==============================================================================\n",
      "\n",
      "Warnings:\n",
      "[1] Standard Errors assume that the covariance matrix of the errors is correctly specified.\n",
      "   VIF Factor     features\n",
      "0    1.491621     income_p\n",
      "1    1.491621  education_p\n"
     ]
    }
   ],
   "source": [
    "# Modelo de regressão com as variáveis explicativas education e income padronizadas (sem intercepto).\n",
    "mod3_1 = ols('prestige_p ~ income_p + education_p -1',data=df)  # -1 é para a retirada do intercepto\n",
    "res3_1 = mod3_1.fit()\n",
    "print(res3_1.summary())\n",
    "\n",
    "########Calculo do VIF (fator de inflação de variação)########\n",
    "#Gerar uma matriz de experimento adequada para a regressão.\n",
    "y, X = dmatrices('prestige_p ~ income_p + education_p -1', df, return_type='dataframe')\n",
    "\n",
    "# For each X, calculate VIF and save in dataframe\n",
    "vif = pd.DataFrame()\n",
    "vif[\"VIF Factor\"] = [variance_inflation_factor(X.values, i) for i in range(X.shape[1])]\n",
    "vif[\"features\"] = X.columns\n",
    "print(vif)"
   ]
  },
  {
   "cell_type": "markdown",
   "metadata": {},
   "source": [
    "##### 4. Education e Income, ambas padronizadas, e respectiva interação"
   ]
  },
  {
   "cell_type": "code",
   "execution_count": 8,
   "metadata": {},
   "outputs": [
    {
     "name": "stdout",
     "output_type": "stream",
     "text": [
      "                            OLS Regression Results                            \n",
      "==============================================================================\n",
      "Dep. Variable:             prestige_p   R-squared:                       0.826\n",
      "Model:                            OLS   Adj. R-squared:                  0.820\n",
      "Method:                 Least Squares   F-statistic:                     148.8\n",
      "Date:                Fri, 05 Jun 2020   Prob (F-statistic):           1.43e-35\n",
      "Time:                        13:14:29   Log-Likelihood:                 171.30\n",
      "No. Observations:                  98   AIC:                            -334.6\n",
      "Df Residuals:                      94   BIC:                            -324.3\n",
      "Df Model:                           3                                         \n",
      "Covariance Type:            nonrobust                                         \n",
      "========================================================================================\n",
      "                           coef    std err          t      P>|t|      [0.025      0.975]\n",
      "----------------------------------------------------------------------------------------\n",
      "Intercept                0.0074      0.005      1.410      0.162      -0.003       0.018\n",
      "income_p                 0.4237      0.070      6.079      0.000       0.285       0.562\n",
      "education_p              0.6711      0.053     12.645      0.000       0.566       0.777\n",
      "income_p:education_p    -1.2568      0.493     -2.547      0.013      -2.237      -0.277\n",
      "==============================================================================\n",
      "Omnibus:                        0.819   Durbin-Watson:                   1.696\n",
      "Prob(Omnibus):                  0.664   Jarque-Bera (JB):                0.930\n",
      "Skew:                          -0.153   Prob(JB):                        0.628\n",
      "Kurtosis:                       2.634   Cond. No.                         114.\n",
      "==============================================================================\n",
      "\n",
      "Warnings:\n",
      "[1] Standard Errors assume that the covariance matrix of the errors is correctly specified.\n",
      "   VIF Factor              features\n",
      "0    1.442496             Intercept\n",
      "1    2.624255              income_p\n",
      "2    1.521856           education_p\n",
      "3    1.950390  income_p:education_p\n"
     ]
    }
   ],
   "source": [
    "# Modelo de regressão com as variáveis explicativas education e income padronizadas e a interação entre elas.\n",
    "mod4 = ols('prestige_p ~ income_p*education_p',data=df) \n",
    "res4 = mod4.fit()\n",
    "print(res4.summary())\n",
    "\n",
    "########Calculo do VIF (fator de inflação de variação)########\n",
    "#Gerar uma matriz de experimento adequada para a regressão.\n",
    "y, X = dmatrices('prestige_p ~ income_p*education_p', df, return_type='dataframe')\n",
    "\n",
    "# For each X, calculate VIF and save in dataframe\n",
    "vif = pd.DataFrame()\n",
    "vif[\"VIF Factor\"] = [variance_inflation_factor(X.values, i) for i in range(X.shape[1])]\n",
    "vif[\"features\"] = X.columns\n",
    "print(vif)"
   ]
  },
  {
   "cell_type": "code",
   "execution_count": 9,
   "metadata": {},
   "outputs": [
    {
     "name": "stdout",
     "output_type": "stream",
     "text": [
      "                                 OLS Regression Results                                \n",
      "=======================================================================================\n",
      "Dep. Variable:             prestige_p   R-squared (uncentered):                   0.822\n",
      "Model:                            OLS   Adj. R-squared (uncentered):              0.817\n",
      "Method:                 Least Squares   F-statistic:                              146.6\n",
      "Date:                Fri, 05 Jun 2020   Prob (F-statistic):                    1.62e-35\n",
      "Time:                        13:15:13   Log-Likelihood:                          170.27\n",
      "No. Observations:                  98   AIC:                                     -334.5\n",
      "Df Residuals:                      95   BIC:                                     -326.8\n",
      "Df Model:                           3                                                  \n",
      "Covariance Type:            nonrobust                                                  \n",
      "========================================================================================\n",
      "                           coef    std err          t      P>|t|      [0.025      0.975]\n",
      "----------------------------------------------------------------------------------------\n",
      "income_p                 0.3879      0.065      5.944      0.000       0.258       0.517\n",
      "education_p              0.6770      0.053     12.728      0.000       0.571       0.783\n",
      "income_p:education_p    -0.8712      0.413     -2.109      0.038      -1.691      -0.051\n",
      "==============================================================================\n",
      "Omnibus:                        0.889   Durbin-Watson:                   1.638\n",
      "Prob(Omnibus):                  0.641   Jarque-Bera (JB):                0.969\n",
      "Skew:                          -0.138   Prob(JB):                        0.616\n",
      "Kurtosis:                       2.599   Cond. No.                         12.1\n",
      "==============================================================================\n",
      "\n",
      "Warnings:\n",
      "[1] Standard Errors assume that the covariance matrix of the errors is correctly specified.\n",
      "   VIF Factor              features\n",
      "0    2.276811              income_p\n",
      "1    1.512581           education_p\n",
      "2    1.658851  income_p:education_p\n"
     ]
    }
   ],
   "source": [
    "# Modelo de regressão com as variáveis explicativas education e income padronizadas e a interação entre elas (sem intercepto)\n",
    "\n",
    "mod4_1 = ols('prestige_p ~ income_p*education_p -1',data=df)\n",
    "res4_1 = mod4_1.fit()\n",
    "print(res4_1.summary())\n",
    "\n",
    "########Calculo do VIF (fator de inflação de variação)########\n",
    "#Gerar uma matriz de experimento adequada para a regressão.\n",
    "y, X = dmatrices('prestige_p ~ income_p*education_p -1', df, return_type='dataframe')\n",
    "\n",
    "# For each X, calculate VIF and save in dataframe\n",
    "vif = pd.DataFrame()\n",
    "vif[\"VIF Factor\"] = [variance_inflation_factor(X.values, i) for i in range(X.shape[1])]\n",
    "vif[\"features\"] = X.columns\n",
    "print(vif)"
   ]
  },
  {
   "cell_type": "markdown",
   "metadata": {},
   "source": [
    "##### Questão 7: Use o código dado para simular os dados que usamos do trabalho do Sildenafil e encontrar um estimador bayesiano da proporção, na população, de homens com pelo menos 60% de tentativas bem sucedidas.\n",
    "\n"
   ]
  },
  {
   "cell_type": "code",
   "execution_count": 10,
   "metadata": {
    "scrolled": false
   },
   "outputs": [
    {
     "name": "stderr",
     "output_type": "stream",
     "text": [
      "logp = -262.7, ||grad|| = 6.5: 100%|█████████████| 6/6 [00:00<00:00, 18.62it/s]\n"
     ]
    },
    {
     "data": {
      "text/plain": [
       "{'theta_logodds__': array(-0.06862851), 'theta': array(0.4828496)}"
      ]
     },
     "execution_count": 10,
     "metadata": {},
     "output_type": "execute_result"
    }
   ],
   "source": [
    "import pymc3 \n",
    "\n",
    "# Simula o conjunto de dados do Sildenafil\n",
    "data = np.concatenate((np.repeat(1, 183),np.repeat(0,379-183)),axis=0)\n",
    "\n",
    "# Cria o modelo com priori Beta(alpha,beta) e verossimilhança Bernoulli(p)\n",
    "def creat_model_pymc3(data):\n",
    "        with pymc3.Model() as model:\n",
    "                p = pymc3.Beta('theta', alpha=1, beta=1)\n",
    "                bernoulli = pymc3.Bernoulli('bernoulli', p=p, observed=data)\n",
    "        return model\n",
    "    \n",
    "model = creat_model_pymc3(data)\n",
    "\n",
    "# Estima a probabilidade de sucesso da Bernoulli por MAP\n",
    "map_estimate = pymc3.find_MAP(model=model)\n",
    "map_estimate\n",
    "\n"
   ]
  },
  {
   "cell_type": "markdown",
   "metadata": {},
   "source": [
    "#### (a) Se usarmos exatamente a mesma priori usada na vídeo aula (Beta(2,3), ao invés da Beta(1,1)), os estimadores MAP e EAP são iguais."
   ]
  },
  {
   "cell_type": "code",
   "execution_count": 3,
   "metadata": {},
   "outputs": [
    {
     "name": "stderr",
     "output_type": "stream",
     "text": [
      "logp = -267.26, ||grad|| = 31.2: 100%|███████████| 6/6 [00:00<00:00, 90.84it/s]\n"
     ]
    },
    {
     "name": "stdout",
     "output_type": "stream",
     "text": [
      "{'theta_logodds__': array(-0.07333128), 'theta': array(0.48167539)}\n"
     ]
    },
    {
     "name": "stderr",
     "output_type": "stream",
     "text": [
      "Auto-assigning NUTS sampler...\n",
      "Initializing NUTS using jitter+adapt_diag...\n",
      "Sequential sampling (2 chains in 1 job)\n",
      "NUTS: [theta]\n",
      "Sampling chain 0, 0 divergences: 100%|█████| 2000/2000 [01:18<00:00, 40.89it/s]\n",
      "Sampling chain 1, 0 divergences: 100%|█████| 2000/2000 [01:14<00:00, 26.91it/s]\n"
     ]
    },
    {
     "name": "stdout",
     "output_type": "stream",
     "text": [
      "       mean     sd  hdi_3%  hdi_97%  mcse_mean  mcse_sd  ess_mean  ess_sd  \\\n",
      "theta  0.48  0.025   0.433    0.527      0.001    0.001     838.0   838.0   \n",
      "\n",
      "       ess_bulk  ess_tail  r_hat  \n",
      "theta     834.0    1139.0    1.0  \n"
     ]
    },
    {
     "data": {
      "image/png": "[encoded data removed]",
      "text/plain": [
       "<Figure size 432x288 with 1 Axes>"
      ]
     },
     "metadata": {
      "needs_background": "light"
     },
     "output_type": "display_data"
    }
   ],
   "source": [
    "# Simula o conjunto de dados do Sildenafil\n",
    "data = np.concatenate((np.repeat(1, 183),np.repeat(0,379-183)),axis=0)\n",
    "\n",
    "# Cria o modelo com priori Beta(alpha,beta) e verossimilhança Bernoulli(p)\n",
    "def creat_model_pymc3(data):\n",
    "        with pymc3.Model() as model:\n",
    "                p = pymc3.Beta('theta', alpha=2, beta=3)\n",
    "                bernoulli = pymc3.Bernoulli('bernoulli', p=p, observed=data)\n",
    "        return model\n",
    "    \n",
    "model = creat_model_pymc3(data)\n",
    "\n",
    "# Estima a probabilidade de sucesso da Bernoulli por MAP\n",
    "map_estimate = pymc3.find_MAP(model=model)\n",
    "print(map_estimate)\n",
    "\n",
    "# Usa MCMC para simular observações da posteriori (método de cálculo da posteriori por simulação)\n",
    "# o primeiro valor (1000) especifica o número de observações que serão geradas da função a posteriori \n",
    "# para a obtenção do estimador bayesiano; tune=1000 representa o número de observações descartadas\n",
    "# para melhorar a aproximação da posteriori \n",
    "with model:\n",
    "    trace = pymc3.sample(10000, tune=1000, cores=1)\n",
    "\n",
    "# Resulta a média da posteriori (EAP), desvio padrão, intervalo de credibilidade HPD (intervalo e menos amplitude)....\n",
    "summary=pymc3.summary(trace)\n",
    "print(summary)\n",
    "\n",
    "# Representa a posteriori, a média e o intervalo de credibilidade com menor amplitude, denotado por HPD (por simulação MCMC) \n",
    "pymc3.plot_posterior(trace);"
   ]
  },
  {
   "cell_type": "code",
   "execution_count": 4,
   "metadata": {},
   "outputs": [
    {
     "name": "stdout",
     "output_type": "stream",
     "text": [
      "Média: 0.4817708333333333\n"
     ]
    }
   ],
   "source": [
    "# Como nesse caso temos priori conjugada, Beta(2,3) e verossimilhança Bernoulli(p), sabemos que a distribuição posteriori é \n",
    "# uma Beta(a+soma_xi,b+n-soma_xi). Assim, também é possível calcular a média da posteriori fazendo:\n",
    "\n",
    "a = 2\n",
    "b = 3\n",
    "n = len(data)\n",
    "soma_xi= data.sum()\n",
    "posteriori = beta(a + soma_xi, b + n - soma_xi) \n",
    "\n",
    "print('Média:', posteriori.mean())"
   ]
  },
  {
   "cell_type": "markdown",
   "metadata": {},
   "source": [
    "##### Questão 8: Usando o código fornecido:"
   ]
  },
  {
   "cell_type": "code",
   "execution_count": 5,
   "metadata": {},
   "outputs": [
    {
     "name": "stderr",
     "output_type": "stream",
     "text": [
      "logp = -262.7, ||grad|| = 6.5: 100%|████████████| 6/6 [00:00<00:00, 101.62it/s]\n"
     ]
    },
    {
     "name": "stdout",
     "output_type": "stream",
     "text": [
      "{'theta_logodds__': array(-0.06862851), 'theta': array(0.4828496)}\n"
     ]
    },
    {
     "name": "stderr",
     "output_type": "stream",
     "text": [
      "Auto-assigning NUTS sampler...\n",
      "Initializing NUTS using jitter+adapt_diag...\n",
      "Sequential sampling (2 chains in 1 job)\n",
      "NUTS: [theta]\n",
      "Sampling chain 0, 0 divergences: 100%|█████| 2000/2000 [01:22<00:00, 26.92it/s]\n",
      "Sampling chain 1, 0 divergences: 100%|█████| 2000/2000 [01:18<00:00, 25.47it/s]\n"
     ]
    },
    {
     "data": {
      "image/png": "[encoded data removed]",
      "text/plain": [
       "<Figure size 432x288 with 1 Axes>"
      ]
     },
     "metadata": {
      "needs_background": "light"
     },
     "output_type": "display_data"
    }
   ],
   "source": [
    "# Simula o conjunto de dados do Sildenafil\n",
    "data = np.concatenate((np.repeat(1, 183),np.repeat(0,379-183)),axis=0)\n",
    "\n",
    "# Cria o modelo com priori Beta(alpha,beta) e verossimilhança Bernoulli(p)\n",
    "def creat_model_pymc3(data):\n",
    "        with pymc3.Model() as model:\n",
    "                p = pymc3.Beta('theta', alpha=1, beta=1)\n",
    "                bernoulli = pymc3.Bernoulli('bernoulli', p=p, observed=data)\n",
    "        return model\n",
    "    \n",
    "model = creat_model_pymc3(data)\n",
    "\n",
    "# Estima a probabilidade de sucesso da Bernoulli por MAP\n",
    "map_estimate = pymc3.find_MAP(model=model)\n",
    "print(map_estimate)\n",
    "\n",
    "# Usa MCMC para gerar observações da posteriori (método de cálculo da posteriori por simulação)\n",
    "with model:\n",
    "    trace = pymc3.sample(1000, tune=1000, cores=1)   \n",
    "    \n",
    "# Faz o gráfico da posteriori, com sua média e o intervalo de credibilidade HPD\n",
    "pymc3.plot_posterior(trace);\n"
   ]
  },
  {
   "cell_type": "markdown",
   "metadata": {},
   "source": [
    "Se gerarmos poucas observações da posteriori simuladas por MCMC (10, por exemplo, ao invés\n",
    "de 1000), os resultados ficam bem piores porque são baseados em um número muito pequeno de observações. Note que a forma da distribuição a posteriori é afetada por essa mudança.  Faça isso com a seguinte modificação:\n"
   ]
  },
  {
   "cell_type": "code",
   "execution_count": 6,
   "metadata": {},
   "outputs": [
    {
     "name": "stderr",
     "output_type": "stream",
     "text": [
      "logp = -262.7, ||grad|| = 6.5: 100%|█████████████| 6/6 [00:00<00:00, 86.90it/s]\n"
     ]
    },
    {
     "name": "stdout",
     "output_type": "stream",
     "text": [
      "{'theta_logodds__': array(-0.06862851), 'theta': array(0.4828496)}\n"
     ]
    },
    {
     "name": "stderr",
     "output_type": "stream",
     "text": [
      "Only 10 samples in chain.\n",
      "Auto-assigning NUTS sampler...\n",
      "Initializing NUTS using jitter+adapt_diag...\n",
      "Sequential sampling (2 chains in 1 job)\n",
      "NUTS: [theta]\n",
      "Sampling chain 0, 0 divergences: 100%|█████| 1010/1010 [00:48<00:00, 20.77it/s]\n",
      "Sampling chain 1, 0 divergences: 100%|█████| 1010/1010 [00:45<00:00, 25.64it/s]\n",
      "C:\\Users\\Mariana\\Anaconda3\\lib\\site-packages\\pymc3\\sampling.py:496: UserWarning: The number of samples is too small to check convergence reliably.\n",
      "  warnings.warn(\"The number of samples is too small to check convergence reliably.\")\n"
     ]
    },
    {
     "name": "stdout",
     "output_type": "stream",
     "text": [
      "        mean     sd  hdi_3%  hdi_97%  mcse_mean  mcse_sd  ess_mean  ess_sd  \\\n",
      "theta  0.481  0.028   0.452    0.549      0.005    0.004      26.0    26.0   \n",
      "\n",
      "       ess_bulk  ess_tail  r_hat  \n",
      "theta      16.0      26.0   1.25  \n"
     ]
    },
    {
     "data": {
      "image/png": "[encoded data removed]",
      "text/plain": [
       "<Figure size 432x288 with 1 Axes>"
      ]
     },
     "metadata": {
      "needs_background": "light"
     },
     "output_type": "display_data"
    }
   ],
   "source": [
    "# Simula o conjunto de dados do Sildenafil\n",
    "data = np.concatenate((np.repeat(1, 183),np.repeat(0,379-183)),axis=0)\n",
    "\n",
    "# Cria o modelo com priori Beta(alpha,beta) e verossimilhança Bernoulli(p)\n",
    "def creat_model_pymc3(data):\n",
    "        with pymc3.Model() as model:\n",
    "                p = pymc3.Beta('theta', alpha=1, beta=1)\n",
    "                bernoulli = pymc3.Bernoulli('bernoulli', p=p, observed=data)\n",
    "        return model\n",
    "    \n",
    "model = creat_model_pymc3(data)\n",
    "\n",
    "# Estima a probabilidade de sucesso da Bernoulli por MAP\n",
    "map_estimate = pymc3.find_MAP(model=model)\n",
    "print(map_estimate)\n",
    "import pymc3 \n",
    "\n",
    "# Usa MCMC para gerar somente 10 observações da posteriori (método de cálculo da posteriori por simulação)\n",
    "with model:\n",
    "    trace = pymc3.sample(10, tune=1000, cores=1)\n",
    "   \n",
    "summary=pymc3.summary(trace)\n",
    "print(summary)\n",
    "    \n",
    "# Faz o gráfico da posteriori, com  sua média e o intervalo de credibilidade\n",
    "pymc3.plot_posterior(trace);"
   ]
  },
  {
   "cell_type": "markdown",
   "metadata": {},
   "source": [
    "Uma forma alternativa de visualizar essa piora é fazendo o gráfico das observações obtidas após a exclusão das primeiras tune=1000 observações geradas. Use o comando a seguir:"
   ]
  },
  {
   "cell_type": "code",
   "execution_count": 7,
   "metadata": {},
   "outputs": [
    {
     "data": {
      "image/png": "[encoded data removed]",
      "text/plain": [
       "<Figure size 864x144 with 2 Axes>"
      ]
     },
     "metadata": {
      "needs_background": "light"
     },
     "output_type": "display_data"
    }
   ],
   "source": [
    "pymc3.traceplot(trace);"
   ]
  },
  {
   "cell_type": "code",
   "execution_count": null,
   "metadata": {},
   "outputs": [],
   "source": []
  }
 ],
 "metadata": {
  "kernelspec": {
   "display_name": "Python 3",
   "language": "python",
   "name": "python3"
  },
  "language_info": {
   "codemirror_mode": {
    "name": "ipython",
    "version": 3
   },
   "file_extension": ".py",
   "mimetype": "text/x-python",
   "name": "python",
   "nbconvert_exporter": "python",
   "pygments_lexer": "ipython3",
   "version": "3.7.3"
  }
 },
 "nbformat": 4,
 "nbformat_minor": 4
}
