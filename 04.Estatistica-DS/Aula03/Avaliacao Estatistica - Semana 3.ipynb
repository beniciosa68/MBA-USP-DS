{
 "cells": [
  {
   "cell_type": "markdown",
   "metadata": {},
   "source": [
    "# <span style=\"color:blue\"> MBA em Ciência de Dados</span>\n",
    "# <span style=\"color:blue\">Estatística para Ciência de Dados</span>\n",
    "\n",
    "## <span style=\"color:blue\">Semana 3</span>\n",
    "**Material Produzido por Mariana Cúri**<br>\n",
    "**Cemeai - ICMC/USP São Carlos**"
   ]
  },
  {
   "cell_type": "markdown",
   "metadata": {},
   "source": [
    "<font color='red'> As respostas devem ser fornecidas no Moodle. O notebook é apenas para a implementação dos códigos que fornecerão as respostas</font>"
   ]
  },
  {
   "cell_type": "markdown",
   "metadata": {},
   "source": [
    "### Exercício 1\n",
    "Um inspetor de qualidade extrai uma amostra de 10 tubos (produzidos de forma independente um do outro) armazenados em um depósito onde, de acordo com os padrões de produção, espera-se um total de 20% de tubos defeituosos. Quando se encontram quatro ou mais tubos defeituosos, o processo de produção é  interrompido para revisão. Qual é a probabilidade que isto aconteça desnecessariamente (ou seja, se a probabilidade de fabricação de um tubo defeituoso está dentro do esperado)?\n",
    "\n",
    "Escolha uma:<br>\n",
    "<b>a. 0,0016</b><br>\n",
    "<b>b. 0,26</b><br>\n",
    "<b>c. 0,12</b><br>\n",
    "<b>d. 0,88</b><br>\n",
    "<b>e. 0,03</b><br>"
   ]
  },
  {
   "cell_type": "code",
   "execution_count": 137,
   "metadata": {},
   "outputs": [
    {
     "name": "stdout",
     "output_type": "stream",
     "text": [
      "0.12087388159999946\n",
      "Resposta: c) 0,12\n"
     ]
    }
   ],
   "source": [
    "#funcoes\n",
    "def fatorial(n):\n",
    "    if n == 0 or n == 1:\n",
    "        return 1 \n",
    "    else:\n",
    "        return n * fatorial(n - 1) \n",
    "    \n",
    "def combinacao(n,x):\n",
    "    return (fatorial(n))/(fatorial(x)*fatorial(n-x))\n",
    "\n",
    "def binomial(n,p,x):\n",
    "    return combinacao(n,x)*(p**x)*((1-p)**(n-x))\n",
    "\n",
    "def bernoulli(p,x):\n",
    "    return (p**x)*((1-p)**(1-x))\n",
    "\n",
    "#X ~ tubo com defeito X=1 defeito, X=0 sem defeito (Binomial)\n",
    "n=10 #amostra\n",
    "p=0.20 #probabilidade de sucesso - ou seja, de termos uma peça com defeito\n",
    "\n",
    "#P(X >= 4) -> interrompe (sucesso) - chance de ser 4, 5, 6,...,10\n",
    "#P(X <= 3) -> não interrompe (não sucesso) - chance de ser 3, 2, 1, 0\n",
    "\n",
    "#função de probabilidade Binomial n,p\n",
    "#f(x) = Cn,x*p^x*(1-p)^n-x -> x=0,1,2,...,n e Cn,x=combinação de n a x\n",
    "#Cn,x = (n!)/x!*(n-x)!\n",
    "\n",
    "#P(X>=4) = 1 - P(X<=3)\n",
    "#P(X<=3) = P(X=0) + P(X=1) + P(X=2) + P(X=3)\n",
    "P_X_menor_igual_3 = binomial(10,0.2,0) + binomial(10,0.2,1) + binomial(10,0.2,2) + binomial(10,0.2,3)\n",
    "P_X_maior_igual_4 = 1 - P_X_menor_igual_3\n",
    "\n",
    "print(P_X_maior_igual_4)\n",
    "\n",
    "print('Resposta: c) 0,12')"
   ]
  },
  {
   "cell_type": "markdown",
   "metadata": {},
   "source": [
    "### Exercício 2\n",
    "Uma variável aleatória X tem uma distribuição binomial e uma outra variável aleatória Y tem distribuição de Poisson. As duas têm médias iguais a 3. É possível determinar qual variável aleatória tem maior variância?\n",
    "\n",
    "Escolha uma:<br>\n",
    "<b>a. Não, precisamos saber o número de ensaios de Bernoulli, n, para X</b><br>\n",
    "<b>b. Não, precisamos saber o valor da taxa de ocorrência por unidade de tempo, λ, para Y</b><br>\n",
    "<b>c. Não, precisamos saber a probabilidade de sucesso, p, para X</b><br>\n",
    "<b>d. Sim, Y tem uma variância maior</b><br>\n",
    "<b>e. Sim, X tem uma variância maior</b><br>"
   ]
  },
  {
   "cell_type": "code",
   "execution_count": 34,
   "metadata": {},
   "outputs": [
    {
     "name": "stdout",
     "output_type": "stream",
     "text": [
      "Resposta e) Sim, Y tem uma variância maior\n"
     ]
    }
   ],
   "source": [
    "#E(X) = np\n",
    "#V(X) = np.(1-p)\n",
    "\n",
    "#E(Y) = np = lambda\n",
    "#V(Y) = np = lambda\n",
    "\n",
    "#np(1-p) < np\n",
    "\n",
    "#V(X) < V(Y)\n",
    "\n",
    "#Você consegue escrever as variâncias de X e Y como função das médias de X e Y, respectivamente?\n",
    "\n",
    "print('Resposta e) Sim, Y tem uma variância maior')"
   ]
  },
  {
   "cell_type": "markdown",
   "metadata": {},
   "source": [
    "### Exercício 3\n",
    "Um banco faz operações via Internet e supõe um modelo exponencial com média igual a 4/k para o tempo de conexão (em minutos, sendo k = 1 se o cliente for pessoa física e k = 2 se o cliente for pessoa jurídica. A porcentagem de pessoas físicas utilizando este sistema é 20%. Qual é a alternativa <b><font color='red'>INCORRETA</font></b>?\n",
    "\n",
    "Escolha uma:<br>\n",
    "<b>a. A probabilidade de uma pessoa jurídica passar mais de dois minutos conectada é 0,37</b><br>\n",
    "<b>b. A probabilidade de um cliente qualquer passar mais de dois minutos conectado 0,42</b><br>\n",
    "<b>c. A probabilidade de uma pessoa física passar mais de dois minutos conectada é 0,61</b><br>\n",
    "<b>d. O número de operações realizadas em um intervalo de uma hora possui distribuição de Poisson</b><br>\n",
    "<b>e. A probabilidade do tempo de conexão ser maior do que 4 minutos dado que já durou 2 minutos é diferente da probabilidade de conexão ser maior do que 2 minutos</b><br>"
   ]
  },
  {
   "cell_type": "code",
   "execution_count": 1,
   "metadata": {},
   "outputs": [
    {
     "name": "stdout",
     "output_type": "stream",
     "text": [
      "Resposta: e) A probabilidade do tempo de conexão ser maior do que 4 minutos dado que já durou 2 minutos é diferente da probabilidade de conexão ser maior do que 2 minutos\n"
     ]
    }
   ],
   "source": [
    "#X ~ EXP(lambda)\n",
    "#E(x) = 4/k\n",
    "#{ k =1 para pessoa física \n",
    "#{ k= 2 para pessoa juridica\n",
    "#E(x) = 1/lambda\n",
    "#1/lambda = 4/k -> lambda = k/4\n",
    "\n",
    "#a) k=2 (pessoa juridica) -> P(x>2) = 1-P(x<=2)\n",
    "#t=2\n",
    "#1-(1-e ** lambda*t) -> 1-(1-e**-(k/4*2)) -> \n",
    "\n",
    "#e) Neste resultado provamos que a probabilidade de ser maior que 4 dado que já durou 2, é igual a probabilidade de que durou 2 minutos.\n",
    "#P(x>t+s | x>t) = P(x>t+s intersecao x>t)/P(x>t)\n",
    "#P(x>t+s intersecao x>t) = P(x>t+s), pq não tem memória, ou seja, o tempo de durar mais dois minutos independe do tempo que já durou.\n",
    "#P(x>4 intersecao x>2) = P(x>4)\n",
    "\n",
    "#P(x>4 | x>2) = P (x>4)/P(x>2) = [1-P(x<4)]/[1-P(x<2)]\n",
    "\n",
    "#fórmula da acumulada da exponencial: [1 - e** -lambda(t+s)]\n",
    "\n",
    "# [e ** (-lambda*(t+s))]/[e ** (-lambda*t)]\n",
    "#[e**-lambda*t * e** -lambda*s]/[e**-lambda*t]\n",
    "#e**-lambda*s = P(x>s)\n",
    "\n",
    "print('Resposta: e) A probabilidade do tempo de conexão ser maior do que 4 minutos dado que já durou 2 minutos é diferente da probabilidade de conexão ser maior do que 2 minutos')"
   ]
  },
  {
   "cell_type": "markdown",
   "metadata": {},
   "source": [
    "### Exercício 4\n",
    "O tempo de vida de um certo componente (designado por A) é uma variável aleatória tendo distribuição normal com média 7000 h e desvio padrão 900 h. Um concorrente desenvolveu um componente mais simples (designado por B), afirmando que seu tempo de vida também segue uma distribuição normal, mas com média de 6500 h e desvio padrão de 1400 h. Componentes são adquiridos em grandes lotes e quanto maior for a proporção de componentes com tempo de vida superior a 9000 h, melhor é o lote. Sob condições descritas, qual afirmação é verdadeira?\n",
    "\n",
    "Escolha uma:<br>\n",
    "<b>a. O componente B é melhor porque tem maior probabilidade de durar mais de 9000 h do que o componente A</b><br>\n",
    "<b>b. Não é possível afirmar qual dos dois componentes é melhor porque não sabemos o número de componentes dos lotes.</b><br>\n",
    "<b>c. Não é possível afirmar qual dos dois componentes é melhor porque ambos têm probabilidade de durar mais de 9000 h.</b><br>\n",
    "<b>d. O componente A é melhor porque tem menor variabilidade</b><br>\n",
    "<b>e. Nenhuma das anteriores</b><br>"
   ]
  },
  {
   "cell_type": "code",
   "execution_count": 14,
   "metadata": {},
   "outputs": [
    {
     "name": "stdout",
     "output_type": "stream",
     "text": [
      "Resposta: a. O componente B é melhor porque tem maior probabilidade de durar mais de 9000 h do que o componente A\n",
      "\n",
      "P(A > 9000): 0.013\n",
      "P(B > 9000): 0.037\n"
     ]
    }
   ],
   "source": [
    "from scipy.stats import norm\n",
    "\n",
    "#X ~ tempo de vida do componente A\n",
    "X = 9000\n",
    "\n",
    "M_A = 7000\n",
    "DP_A = 900\n",
    "\n",
    "M_B = 6500\n",
    "DP_B = 1400\n",
    "\n",
    "#transformação linear de X e Y para compararmos Normal com média 0 e desvio padrão 1 N(0,1):\n",
    "#Z = (X-M)/DP\n",
    "\n",
    "ZA = (X - M_A)/DP_A\n",
    "ZB = (X - M_B)/DP_B\n",
    "\n",
    "print('Resposta: a. O componente B é melhor porque tem maior probabilidade de durar mais de 9000 h do que o componente A')\n",
    "print()\n",
    "\n",
    "print('P(A > 9000):','%.3F' % (1-norm.cdf(ZA,0,1))) # 1 - P(x<=9000) = P(x>9000)\n",
    "print('P(B > 9000):','%.3F' % (1-norm.cdf(ZB,0,1))) # 1 - P(x<=9000) = P(x>9000)"
   ]
  },
  {
   "cell_type": "markdown",
   "metadata": {},
   "source": [
    "### Exercício 5\n",
    "Uma fábrica de tubos resolveu instalar uma norma de qualidade para melhorar seu processo de produção e minimizar as perdas por fabricação de tubos defeituosos. Após esse processo ter sido implantado, espera-se que a proporção de tubos fabricados com defeito caia para 10%. Para verificar tal fato, um inspetor extraiu 1000 tubos (produzidos de forma independente um do outro) e observou o número de defeituosos. Qual a probabilidade aproximada de ele encontrar mais de 110 defeituosos, se a probabilidade de fabricar um item defeituoso realmente caiu para 10%?\n",
    "\n",
    "Escolha uma:<br>\n",
    "<b>a. 0,456</b><br>\n",
    "<b>b. 0,854</b><br>\n",
    "<b>c. 0,10</b><br>\n",
    "<b>d. 0,135</b><br>\n",
    "<b>e. 0,146</b><br>"
   ]
  },
  {
   "cell_type": "code",
   "execution_count": 33,
   "metadata": {},
   "outputs": [
    {
     "name": "stdout",
     "output_type": "stream",
     "text": [
      "Resposta: e. 0,146\n",
      "\n",
      "P(X > 100): 0.146\n"
     ]
    }
   ],
   "source": [
    "import math\n",
    "#X ~ tubos defeituosos\n",
    "X = 110 #área da normal para numero de amostras defeituosas -> P( X > 110)\n",
    "n = 1000 #numero da amostra\n",
    "p = 0.1 #percentual previsto de defeituosos\n",
    "\n",
    "#P(X > 110)?\n",
    "\n",
    "Z=(X-n*p)/(math.sqrt(n*p*(1-p)))\n",
    "\n",
    "print('Resposta: e. 0,146')\n",
    "print()\n",
    "print('P(X > 100):', '%.3F' % (1-norm.cdf(Z,0,1))) #P(X > 110) = 1 - P(X <=110)"
   ]
  }
 ],
 "metadata": {
  "kernelspec": {
   "display_name": "Python 3",
   "language": "python",
   "name": "python3"
  },
  "language_info": {
   "codemirror_mode": {
    "name": "ipython",
    "version": 3
   },
   "file_extension": ".py",
   "mimetype": "text/x-python",
   "name": "python",
   "nbconvert_exporter": "python",
   "pygments_lexer": "ipython3",
   "version": "3.7.3"
  },
  "toc": {
   "base_numbering": 1,
   "nav_menu": {},
   "number_sections": true,
   "sideBar": true,
   "skip_h1_title": false,
   "title_cell": "Table of Contents",
   "title_sidebar": "Contents",
   "toc_cell": false,
   "toc_position": {},
   "toc_section_display": true,
   "toc_window_display": false
  }
 },
 "nbformat": 4,
 "nbformat_minor": 2
}
